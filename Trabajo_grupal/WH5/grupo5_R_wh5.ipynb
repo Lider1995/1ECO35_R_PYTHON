{
 "cells": [
  {
   "cell_type": "markdown",
   "id": "34fe105e",
   "metadata": {},
   "source": [
    "## Grupo 5 - WH5 - R\n",
    "### Integrantes\n",
    "- Diego\n",
    "- Teresa\n",
    "- Yoberson"
   ]
  },
  {
   "cell_type": "code",
   "execution_count": 9,
   "id": "97c20d58",
   "metadata": {},
   "outputs": [],
   "source": [
    "#install.packages('readstata13')\n",
    "\n",
    "pacman::p_load(tidyverse, haven, dplyr, foreign,glue, devtools)\n",
    "\n",
    "library(readstata13)\n",
    "\n",
    "library(tidyr)  # RE for R\n",
    "#library(dplyr)\n",
    "#library(foreign)"
   ]
  },
  {
   "cell_type": "code",
   "execution_count": 35,
   "id": "b2f7e1cb",
   "metadata": {},
   "outputs": [],
   "source": [
    "#Data ENAHO PANEL 2015-2019\n",
    "data1 <- read_dta(\"../../data/Juntos_program/data.dta\", encoding = \"latin1\")\n",
    "#Data Programa Juntos\n",
    "data2 <- read_dta(\"../../data/Juntos_program/unidos.dta\", encoding = \"latin1\")"
   ]
  },
  {
   "cell_type": "code",
   "execution_count": 36,
   "id": "65d18694",
   "metadata": {},
   "outputs": [
    {
     "data": {
      "text/html": [
       "<style>\n",
       ".list-inline {list-style: none; margin:0; padding: 0}\n",
       ".list-inline>li {display: inline-block}\n",
       ".list-inline>li:not(:last-child)::after {content: \"\\00b7\"; padding: 0 .5ex}\n",
       "</style>\n",
       "<ol class=list-inline><li>'numper'</li><li>'numpanh15'</li><li>'numpanh16'</li><li>'numpanh17'</li><li>'numpanh18'</li><li>'numpanh19'</li><li>'mes_15'</li><li>'ubigeo_15'</li><li>'dominio_15'</li><li>'p400a3_15'</li><li>'p4022_15'</li><li>'mes_16'</li><li>'ubigeo_16'</li><li>'dominio_16'</li><li>'p400a3_16'</li><li>'p4022_16'</li><li>'mes_17'</li><li>'ubigeo_17'</li><li>'dominio_17'</li><li>'p400a3_17'</li><li>'p4022_17'</li><li>'mes_18'</li><li>'ubigeo_18'</li><li>'dominio_18'</li><li>'p400a3_18'</li><li>'p4022_18'</li><li>'mes_19'</li><li>'ubigeo_19'</li><li>'dominio_19'</li><li>'p400a3_19'</li><li>'p4022_19'</li></ol>\n"
      ],
      "text/latex": [
       "\\begin{enumerate*}\n",
       "\\item 'numper'\n",
       "\\item 'numpanh15'\n",
       "\\item 'numpanh16'\n",
       "\\item 'numpanh17'\n",
       "\\item 'numpanh18'\n",
       "\\item 'numpanh19'\n",
       "\\item 'mes\\_15'\n",
       "\\item 'ubigeo\\_15'\n",
       "\\item 'dominio\\_15'\n",
       "\\item 'p400a3\\_15'\n",
       "\\item 'p4022\\_15'\n",
       "\\item 'mes\\_16'\n",
       "\\item 'ubigeo\\_16'\n",
       "\\item 'dominio\\_16'\n",
       "\\item 'p400a3\\_16'\n",
       "\\item 'p4022\\_16'\n",
       "\\item 'mes\\_17'\n",
       "\\item 'ubigeo\\_17'\n",
       "\\item 'dominio\\_17'\n",
       "\\item 'p400a3\\_17'\n",
       "\\item 'p4022\\_17'\n",
       "\\item 'mes\\_18'\n",
       "\\item 'ubigeo\\_18'\n",
       "\\item 'dominio\\_18'\n",
       "\\item 'p400a3\\_18'\n",
       "\\item 'p4022\\_18'\n",
       "\\item 'mes\\_19'\n",
       "\\item 'ubigeo\\_19'\n",
       "\\item 'dominio\\_19'\n",
       "\\item 'p400a3\\_19'\n",
       "\\item 'p4022\\_19'\n",
       "\\end{enumerate*}\n"
      ],
      "text/markdown": [
       "1. 'numper'\n",
       "2. 'numpanh15'\n",
       "3. 'numpanh16'\n",
       "4. 'numpanh17'\n",
       "5. 'numpanh18'\n",
       "6. 'numpanh19'\n",
       "7. 'mes_15'\n",
       "8. 'ubigeo_15'\n",
       "9. 'dominio_15'\n",
       "10. 'p400a3_15'\n",
       "11. 'p4022_15'\n",
       "12. 'mes_16'\n",
       "13. 'ubigeo_16'\n",
       "14. 'dominio_16'\n",
       "15. 'p400a3_16'\n",
       "16. 'p4022_16'\n",
       "17. 'mes_17'\n",
       "18. 'ubigeo_17'\n",
       "19. 'dominio_17'\n",
       "20. 'p400a3_17'\n",
       "21. 'p4022_17'\n",
       "22. 'mes_18'\n",
       "23. 'ubigeo_18'\n",
       "24. 'dominio_18'\n",
       "25. 'p400a3_18'\n",
       "26. 'p4022_18'\n",
       "27. 'mes_19'\n",
       "28. 'ubigeo_19'\n",
       "29. 'dominio_19'\n",
       "30. 'p400a3_19'\n",
       "31. 'p4022_19'\n",
       "\n",
       "\n"
      ],
      "text/plain": [
       " [1] \"numper\"     \"numpanh15\"  \"numpanh16\"  \"numpanh17\"  \"numpanh18\" \n",
       " [6] \"numpanh19\"  \"mes_15\"     \"ubigeo_15\"  \"dominio_15\" \"p400a3_15\" \n",
       "[11] \"p4022_15\"   \"mes_16\"     \"ubigeo_16\"  \"dominio_16\" \"p400a3_16\" \n",
       "[16] \"p4022_16\"   \"mes_17\"     \"ubigeo_17\"  \"dominio_17\" \"p400a3_17\" \n",
       "[21] \"p4022_17\"   \"mes_18\"     \"ubigeo_18\"  \"dominio_18\" \"p400a3_18\" \n",
       "[26] \"p4022_18\"   \"mes_19\"     \"ubigeo_19\"  \"dominio_19\" \"p400a3_19\" \n",
       "[31] \"p4022_19\"  "
      ]
     },
     "metadata": {},
     "output_type": "display_data"
    }
   ],
   "source": [
    "names(data1)"
   ]
  },
  {
   "cell_type": "code",
   "execution_count": 8,
   "id": "e43cf57f",
   "metadata": {},
   "outputs": [
    {
     "data": {
      "text/html": [
       "<table class=\"dataframe\">\n",
       "<caption>A tibble: 6 × 31</caption>\n",
       "<thead>\n",
       "\t<tr><th scope=col>numper</th><th scope=col>numpanh15</th><th scope=col>numpanh16</th><th scope=col>numpanh17</th><th scope=col>numpanh18</th><th scope=col>numpanh19</th><th scope=col>mes_15</th><th scope=col>ubigeo_15</th><th scope=col>dominio_15</th><th scope=col>p400a3_15</th><th scope=col>...</th><th scope=col>mes_18</th><th scope=col>ubigeo_18</th><th scope=col>dominio_18</th><th scope=col>p400a3_18</th><th scope=col>p4022_18</th><th scope=col>mes_19</th><th scope=col>ubigeo_19</th><th scope=col>dominio_19</th><th scope=col>p400a3_19</th><th scope=col>p4022_19</th></tr>\n",
       "\t<tr><th scope=col>&lt;dbl&gt;</th><th scope=col>&lt;dbl&gt;</th><th scope=col>&lt;dbl&gt;</th><th scope=col>&lt;dbl&gt;</th><th scope=col>&lt;dbl&gt;</th><th scope=col>&lt;dbl&gt;</th><th scope=col>&lt;dbl&gt;</th><th scope=col>&lt;dbl&gt;</th><th scope=col>&lt;chr&gt;</th><th scope=col>&lt;dbl&gt;</th><th scope=col>...</th><th scope=col>&lt;dbl&gt;</th><th scope=col>&lt;dbl&gt;</th><th scope=col>&lt;chr&gt;</th><th scope=col>&lt;dbl&gt;</th><th scope=col>&lt;dbl&gt;</th><th scope=col>&lt;dbl&gt;</th><th scope=col>&lt;dbl&gt;</th><th scope=col>&lt;chr&gt;</th><th scope=col>&lt;dbl&gt;</th><th scope=col>&lt;dbl&gt;</th></tr>\n",
       "</thead>\n",
       "<tbody>\n",
       "\t<tr><td>15368</td><td>1158</td><td>1158</td><td>1158</td><td>1158</td><td>1158</td><td>11</td><td>10101</td><td>sierra norte</td><td>1946</td><td>...</td><td>12</td><td>10101</td><td>sierra norte</td><td>1946</td><td>0</td><td>11</td><td>10101</td><td>sierra norte</td><td>1946</td><td>0</td></tr>\n",
       "\t<tr><td>15369</td><td>1158</td><td>1158</td><td>1158</td><td>1158</td><td>1158</td><td>11</td><td>10101</td><td>sierra norte</td><td>1973</td><td>...</td><td>12</td><td>10101</td><td>sierra norte</td><td>1973</td><td>0</td><td>11</td><td>10101</td><td>sierra norte</td><td>1973</td><td>0</td></tr>\n",
       "\t<tr><td>15380</td><td>1162</td><td>1162</td><td>1162</td><td>1162</td><td>1162</td><td>11</td><td>10101</td><td>sierra norte</td><td>1987</td><td>...</td><td>12</td><td>10101</td><td>sierra norte</td><td>1987</td><td>0</td><td>11</td><td>10101</td><td>sierra norte</td><td>1987</td><td>1</td></tr>\n",
       "\t<tr><td>15381</td><td>1162</td><td>1162</td><td>1162</td><td>1162</td><td>1162</td><td>11</td><td>10101</td><td>sierra norte</td><td>2009</td><td>...</td><td>12</td><td>10101</td><td>sierra norte</td><td>2009</td><td>0</td><td>11</td><td>10101</td><td>sierra norte</td><td>2009</td><td>0</td></tr>\n",
       "\t<tr><td>15410</td><td>1185</td><td>1185</td><td>1185</td><td>1185</td><td>1185</td><td> 7</td><td>10101</td><td>sierra norte</td><td>1955</td><td>...</td><td> 7</td><td>10101</td><td>sierra norte</td><td>1955</td><td>0</td><td> 7</td><td>10101</td><td>sierra norte</td><td>1955</td><td>1</td></tr>\n",
       "\t<tr><td>15412</td><td>1186</td><td>1186</td><td>1186</td><td>1186</td><td>1186</td><td> 7</td><td>10101</td><td>sierra norte</td><td>1966</td><td>...</td><td> 7</td><td>10101</td><td>sierra norte</td><td>1966</td><td>0</td><td> 7</td><td>10101</td><td>sierra norte</td><td>1966</td><td>0</td></tr>\n",
       "</tbody>\n",
       "</table>\n"
      ],
      "text/latex": [
       "A tibble: 6 × 31\n",
       "\\begin{tabular}{lllllllllllllllllllll}\n",
       " numper & numpanh15 & numpanh16 & numpanh17 & numpanh18 & numpanh19 & mes\\_15 & ubigeo\\_15 & dominio\\_15 & p400a3\\_15 & ... & mes\\_18 & ubigeo\\_18 & dominio\\_18 & p400a3\\_18 & p4022\\_18 & mes\\_19 & ubigeo\\_19 & dominio\\_19 & p400a3\\_19 & p4022\\_19\\\\\n",
       " <dbl> & <dbl> & <dbl> & <dbl> & <dbl> & <dbl> & <dbl> & <dbl> & <chr> & <dbl> & ... & <dbl> & <dbl> & <chr> & <dbl> & <dbl> & <dbl> & <dbl> & <chr> & <dbl> & <dbl>\\\\\n",
       "\\hline\n",
       "\t 15368 & 1158 & 1158 & 1158 & 1158 & 1158 & 11 & 10101 & sierra norte & 1946 & ... & 12 & 10101 & sierra norte & 1946 & 0 & 11 & 10101 & sierra norte & 1946 & 0\\\\\n",
       "\t 15369 & 1158 & 1158 & 1158 & 1158 & 1158 & 11 & 10101 & sierra norte & 1973 & ... & 12 & 10101 & sierra norte & 1973 & 0 & 11 & 10101 & sierra norte & 1973 & 0\\\\\n",
       "\t 15380 & 1162 & 1162 & 1162 & 1162 & 1162 & 11 & 10101 & sierra norte & 1987 & ... & 12 & 10101 & sierra norte & 1987 & 0 & 11 & 10101 & sierra norte & 1987 & 1\\\\\n",
       "\t 15381 & 1162 & 1162 & 1162 & 1162 & 1162 & 11 & 10101 & sierra norte & 2009 & ... & 12 & 10101 & sierra norte & 2009 & 0 & 11 & 10101 & sierra norte & 2009 & 0\\\\\n",
       "\t 15410 & 1185 & 1185 & 1185 & 1185 & 1185 &  7 & 10101 & sierra norte & 1955 & ... &  7 & 10101 & sierra norte & 1955 & 0 &  7 & 10101 & sierra norte & 1955 & 1\\\\\n",
       "\t 15412 & 1186 & 1186 & 1186 & 1186 & 1186 &  7 & 10101 & sierra norte & 1966 & ... &  7 & 10101 & sierra norte & 1966 & 0 &  7 & 10101 & sierra norte & 1966 & 0\\\\\n",
       "\\end{tabular}\n"
      ],
      "text/markdown": [
       "\n",
       "A tibble: 6 × 31\n",
       "\n",
       "| numper &lt;dbl&gt; | numpanh15 &lt;dbl&gt; | numpanh16 &lt;dbl&gt; | numpanh17 &lt;dbl&gt; | numpanh18 &lt;dbl&gt; | numpanh19 &lt;dbl&gt; | mes_15 &lt;dbl&gt; | ubigeo_15 &lt;dbl&gt; | dominio_15 &lt;chr&gt; | p400a3_15 &lt;dbl&gt; | ... ... | mes_18 &lt;dbl&gt; | ubigeo_18 &lt;dbl&gt; | dominio_18 &lt;chr&gt; | p400a3_18 &lt;dbl&gt; | p4022_18 &lt;dbl&gt; | mes_19 &lt;dbl&gt; | ubigeo_19 &lt;dbl&gt; | dominio_19 &lt;chr&gt; | p400a3_19 &lt;dbl&gt; | p4022_19 &lt;dbl&gt; |\n",
       "|---|---|---|---|---|---|---|---|---|---|---|---|---|---|---|---|---|---|---|---|---|\n",
       "| 15368 | 1158 | 1158 | 1158 | 1158 | 1158 | 11 | 10101 | sierra norte | 1946 | ... | 12 | 10101 | sierra norte | 1946 | 0 | 11 | 10101 | sierra norte | 1946 | 0 |\n",
       "| 15369 | 1158 | 1158 | 1158 | 1158 | 1158 | 11 | 10101 | sierra norte | 1973 | ... | 12 | 10101 | sierra norte | 1973 | 0 | 11 | 10101 | sierra norte | 1973 | 0 |\n",
       "| 15380 | 1162 | 1162 | 1162 | 1162 | 1162 | 11 | 10101 | sierra norte | 1987 | ... | 12 | 10101 | sierra norte | 1987 | 0 | 11 | 10101 | sierra norte | 1987 | 1 |\n",
       "| 15381 | 1162 | 1162 | 1162 | 1162 | 1162 | 11 | 10101 | sierra norte | 2009 | ... | 12 | 10101 | sierra norte | 2009 | 0 | 11 | 10101 | sierra norte | 2009 | 0 |\n",
       "| 15410 | 1185 | 1185 | 1185 | 1185 | 1185 |  7 | 10101 | sierra norte | 1955 | ... |  7 | 10101 | sierra norte | 1955 | 0 |  7 | 10101 | sierra norte | 1955 | 1 |\n",
       "| 15412 | 1186 | 1186 | 1186 | 1186 | 1186 |  7 | 10101 | sierra norte | 1966 | ... |  7 | 10101 | sierra norte | 1966 | 0 |  7 | 10101 | sierra norte | 1966 | 0 |\n",
       "\n"
      ],
      "text/plain": [
       "  numper numpanh15 numpanh16 numpanh17 numpanh18 numpanh19 mes_15 ubigeo_15\n",
       "1 15368  1158      1158      1158      1158      1158      11     10101    \n",
       "2 15369  1158      1158      1158      1158      1158      11     10101    \n",
       "3 15380  1162      1162      1162      1162      1162      11     10101    \n",
       "4 15381  1162      1162      1162      1162      1162      11     10101    \n",
       "5 15410  1185      1185      1185      1185      1185       7     10101    \n",
       "6 15412  1186      1186      1186      1186      1186       7     10101    \n",
       "  dominio_15   p400a3_15 ... mes_18 ubigeo_18 dominio_18   p400a3_18 p4022_18\n",
       "1 sierra norte 1946      ... 12     10101     sierra norte 1946      0       \n",
       "2 sierra norte 1973      ... 12     10101     sierra norte 1973      0       \n",
       "3 sierra norte 1987      ... 12     10101     sierra norte 1987      0       \n",
       "4 sierra norte 2009      ... 12     10101     sierra norte 2009      0       \n",
       "5 sierra norte 1955      ...  7     10101     sierra norte 1955      0       \n",
       "6 sierra norte 1966      ...  7     10101     sierra norte 1966      0       \n",
       "  mes_19 ubigeo_19 dominio_19   p400a3_19 p4022_19\n",
       "1 11     10101     sierra norte 1946      0       \n",
       "2 11     10101     sierra norte 1973      0       \n",
       "3 11     10101     sierra norte 1987      1       \n",
       "4 11     10101     sierra norte 2009      0       \n",
       "5  7     10101     sierra norte 1955      1       \n",
       "6  7     10101     sierra norte 1966      0       "
      ]
     },
     "metadata": {},
     "output_type": "display_data"
    }
   ],
   "source": [
    "head(data1)"
   ]
  },
  {
   "cell_type": "code",
   "execution_count": 6,
   "id": "1b68c11d",
   "metadata": {},
   "outputs": [
    {
     "data": {
      "text/html": [
       "<table class=\"dataframe\">\n",
       "<caption>A tibble: 6 × 5</caption>\n",
       "<thead>\n",
       "\t<tr><th scope=col>ubigeo</th><th scope=col>distrito</th><th scope=col>provincia</th><th scope=col>region</th><th scope=col>unidos</th></tr>\n",
       "\t<tr><th scope=col>&lt;dbl&gt;</th><th scope=col>&lt;chr&gt;</th><th scope=col>&lt;chr&gt;</th><th scope=col>&lt;chr&gt;</th><th scope=col>&lt;dbl&gt;</th></tr>\n",
       "</thead>\n",
       "<tbody>\n",
       "\t<tr><td>10101</td><td>Chachapoyas</td><td>Chachapoyas</td><td>Amazonas</td><td>1</td></tr>\n",
       "\t<tr><td>10102</td><td>Asuncion   </td><td>Chachapoyas</td><td>Amazonas</td><td>1</td></tr>\n",
       "\t<tr><td>10103</td><td>Balsas     </td><td>Chachapoyas</td><td>Amazonas</td><td>0</td></tr>\n",
       "\t<tr><td>10104</td><td>Cheto      </td><td>Chachapoyas</td><td>Amazonas</td><td>1</td></tr>\n",
       "\t<tr><td>10105</td><td>Chiliquin  </td><td>Chachapoyas</td><td>Amazonas</td><td>0</td></tr>\n",
       "\t<tr><td>10106</td><td>Chuquibamba</td><td>Chachapoyas</td><td>Amazonas</td><td>1</td></tr>\n",
       "</tbody>\n",
       "</table>\n"
      ],
      "text/latex": [
       "A tibble: 6 × 5\n",
       "\\begin{tabular}{lllll}\n",
       " ubigeo & distrito & provincia & region & unidos\\\\\n",
       " <dbl> & <chr> & <chr> & <chr> & <dbl>\\\\\n",
       "\\hline\n",
       "\t 10101 & Chachapoyas & Chachapoyas & Amazonas & 1\\\\\n",
       "\t 10102 & Asuncion    & Chachapoyas & Amazonas & 1\\\\\n",
       "\t 10103 & Balsas      & Chachapoyas & Amazonas & 0\\\\\n",
       "\t 10104 & Cheto       & Chachapoyas & Amazonas & 1\\\\\n",
       "\t 10105 & Chiliquin   & Chachapoyas & Amazonas & 0\\\\\n",
       "\t 10106 & Chuquibamba & Chachapoyas & Amazonas & 1\\\\\n",
       "\\end{tabular}\n"
      ],
      "text/markdown": [
       "\n",
       "A tibble: 6 × 5\n",
       "\n",
       "| ubigeo &lt;dbl&gt; | distrito &lt;chr&gt; | provincia &lt;chr&gt; | region &lt;chr&gt; | unidos &lt;dbl&gt; |\n",
       "|---|---|---|---|---|\n",
       "| 10101 | Chachapoyas | Chachapoyas | Amazonas | 1 |\n",
       "| 10102 | Asuncion    | Chachapoyas | Amazonas | 1 |\n",
       "| 10103 | Balsas      | Chachapoyas | Amazonas | 0 |\n",
       "| 10104 | Cheto       | Chachapoyas | Amazonas | 1 |\n",
       "| 10105 | Chiliquin   | Chachapoyas | Amazonas | 0 |\n",
       "| 10106 | Chuquibamba | Chachapoyas | Amazonas | 1 |\n",
       "\n"
      ],
      "text/plain": [
       "  ubigeo distrito    provincia   region   unidos\n",
       "1 10101  Chachapoyas Chachapoyas Amazonas 1     \n",
       "2 10102  Asuncion    Chachapoyas Amazonas 1     \n",
       "3 10103  Balsas      Chachapoyas Amazonas 0     \n",
       "4 10104  Cheto       Chachapoyas Amazonas 1     \n",
       "5 10105  Chiliquin   Chachapoyas Amazonas 0     \n",
       "6 10106  Chuquibamba Chachapoyas Amazonas 1     "
      ]
     },
     "metadata": {},
     "output_type": "display_data"
    }
   ],
   "source": [
    "head(data2)"
   ]
  },
  {
   "cell_type": "markdown",
   "id": "b4f3ab1f",
   "metadata": {},
   "source": [
    "### Replicación Clean DHS"
   ]
  },
  {
   "cell_type": "code",
   "execution_count": 37,
   "id": "ca94ff75",
   "metadata": {},
   "outputs": [
    {
     "name": "stdout",
     "output_type": "stream",
     "text": [
      "[1] \"numper\"\n",
      "[1] \"numpanh15\"\n",
      "[1] \"numpanh16\"\n",
      "[1] \"numpanh17\"\n",
      "[1] \"numpanh18\"\n",
      "[1] \"numpanh19\"\n",
      "[1] \"mes15\"\n",
      "[1] \"ubigeo15\"\n",
      "[1] \"dominio15\"\n",
      "[1] \"p400a315\"\n",
      "[1] \"p402215\"\n",
      "[1] \"mes16\"\n",
      "[1] \"ubigeo16\"\n",
      "[1] \"dominio16\"\n",
      "[1] \"p400a316\"\n",
      "[1] \"p402216\"\n",
      "[1] \"mes17\"\n",
      "[1] \"ubigeo17\"\n",
      "[1] \"dominio17\"\n",
      "[1] \"p400a317\"\n",
      "[1] \"p402217\"\n",
      "[1] \"mes18\"\n",
      "[1] \"ubigeo18\"\n",
      "[1] \"dominio18\"\n",
      "[1] \"p400a318\"\n",
      "[1] \"p402218\"\n",
      "[1] \"mes19\"\n",
      "[1] \"ubigeo19\"\n",
      "[1] \"dominio19\"\n",
      "[1] \"p400a319\"\n",
      "[1] \"p402219\"\n"
     ]
    }
   ],
   "source": [
    "names <- names(data1)\n",
    "filter_list <- c()\n",
    "\n",
    "for (i in 1:length(names)){\n",
    "        w <-  gsub('[/_]','', names[i])\n",
    "        filter_list[i] <- w\n",
    "        print(w)    \n",
    "}\n"
   ]
  },
  {
   "cell_type": "code",
   "execution_count": 38,
   "id": "8f089343",
   "metadata": {},
   "outputs": [
    {
     "data": {
      "text/html": [
       "<style>\n",
       ".list-inline {list-style: none; margin:0; padding: 0}\n",
       ".list-inline>li {display: inline-block}\n",
       ".list-inline>li:not(:last-child)::after {content: \"\\00b7\"; padding: 0 .5ex}\n",
       "</style>\n",
       "<ol class=list-inline><li>'numper'</li><li>'numpanh15'</li><li>'numpanh16'</li><li>'numpanh17'</li><li>'numpanh18'</li><li>'numpanh19'</li><li>'mes15'</li><li>'ubigeo15'</li><li>'dominio15'</li><li>'p400a315'</li><li>'p402215'</li><li>'mes16'</li><li>'ubigeo16'</li><li>'dominio16'</li><li>'p400a316'</li><li>'p402216'</li><li>'mes17'</li><li>'ubigeo17'</li><li>'dominio17'</li><li>'p400a317'</li><li>'p402217'</li><li>'mes18'</li><li>'ubigeo18'</li><li>'dominio18'</li><li>'p400a318'</li><li>'p402218'</li><li>'mes19'</li><li>'ubigeo19'</li><li>'dominio19'</li><li>'p400a319'</li><li>'p402219'</li></ol>\n"
      ],
      "text/latex": [
       "\\begin{enumerate*}\n",
       "\\item 'numper'\n",
       "\\item 'numpanh15'\n",
       "\\item 'numpanh16'\n",
       "\\item 'numpanh17'\n",
       "\\item 'numpanh18'\n",
       "\\item 'numpanh19'\n",
       "\\item 'mes15'\n",
       "\\item 'ubigeo15'\n",
       "\\item 'dominio15'\n",
       "\\item 'p400a315'\n",
       "\\item 'p402215'\n",
       "\\item 'mes16'\n",
       "\\item 'ubigeo16'\n",
       "\\item 'dominio16'\n",
       "\\item 'p400a316'\n",
       "\\item 'p402216'\n",
       "\\item 'mes17'\n",
       "\\item 'ubigeo17'\n",
       "\\item 'dominio17'\n",
       "\\item 'p400a317'\n",
       "\\item 'p402217'\n",
       "\\item 'mes18'\n",
       "\\item 'ubigeo18'\n",
       "\\item 'dominio18'\n",
       "\\item 'p400a318'\n",
       "\\item 'p402218'\n",
       "\\item 'mes19'\n",
       "\\item 'ubigeo19'\n",
       "\\item 'dominio19'\n",
       "\\item 'p400a319'\n",
       "\\item 'p402219'\n",
       "\\end{enumerate*}\n"
      ],
      "text/markdown": [
       "1. 'numper'\n",
       "2. 'numpanh15'\n",
       "3. 'numpanh16'\n",
       "4. 'numpanh17'\n",
       "5. 'numpanh18'\n",
       "6. 'numpanh19'\n",
       "7. 'mes15'\n",
       "8. 'ubigeo15'\n",
       "9. 'dominio15'\n",
       "10. 'p400a315'\n",
       "11. 'p402215'\n",
       "12. 'mes16'\n",
       "13. 'ubigeo16'\n",
       "14. 'dominio16'\n",
       "15. 'p400a316'\n",
       "16. 'p402216'\n",
       "17. 'mes17'\n",
       "18. 'ubigeo17'\n",
       "19. 'dominio17'\n",
       "20. 'p400a317'\n",
       "21. 'p402217'\n",
       "22. 'mes18'\n",
       "23. 'ubigeo18'\n",
       "24. 'dominio18'\n",
       "25. 'p400a318'\n",
       "26. 'p402218'\n",
       "27. 'mes19'\n",
       "28. 'ubigeo19'\n",
       "29. 'dominio19'\n",
       "30. 'p400a319'\n",
       "31. 'p402219'\n",
       "\n",
       "\n"
      ],
      "text/plain": [
       " [1] \"numper\"    \"numpanh15\" \"numpanh16\" \"numpanh17\" \"numpanh18\" \"numpanh19\"\n",
       " [7] \"mes15\"     \"ubigeo15\"  \"dominio15\" \"p400a315\"  \"p402215\"   \"mes16\"    \n",
       "[13] \"ubigeo16\"  \"dominio16\" \"p400a316\"  \"p402216\"   \"mes17\"     \"ubigeo17\" \n",
       "[19] \"dominio17\" \"p400a317\"  \"p402217\"   \"mes18\"     \"ubigeo18\"  \"dominio18\"\n",
       "[25] \"p400a318\"  \"p402218\"   \"mes19\"     \"ubigeo19\"  \"dominio19\" \"p400a319\" \n",
       "[31] \"p402219\"  "
      ]
     },
     "metadata": {},
     "output_type": "display_data"
    }
   ],
   "source": [
    "names(data1) <- filter_list\n",
    "names(data1)"
   ]
  },
  {
   "cell_type": "markdown",
   "id": "5b73461b",
   "metadata": {},
   "source": [
    "#### Data ENAHO Panel"
   ]
  },
  {
   "cell_type": "code",
   "execution_count": 73,
   "id": "193c836c",
   "metadata": {},
   "outputs": [],
   "source": [
    "#Creamos base de datos por año, Quitamos numeros a las variables y creamos variable year \n",
    "#respectivamente. \n",
    "year <- c(\"15\",\"16\",\"17\",\"18\",\"19\")\n",
    "\n",
    "for (i in 1:5){\n",
    "    temp <- names(data1)[grepl(year[i],names(data1))]\n",
    "    if (year[i]==\"15\"){\n",
    "        data_panel <- data1[c(\"numper\",temp)]\n",
    "        asd <- glue(\"{year[1]}$\")\n",
    "        names(data_panel) <- gsub(asd, '', names(data_panel))\n",
    "        data_panel$year <- glue(\"20{year[1]}\")\n",
    "    }\n",
    "    else{\n",
    "        data_temp <- data1[c(\"numper\",temp)]\n",
    "        asd <- glue(\"{year[i]}$\")\n",
    "        names(data_temp) <- gsub(asd, '', names(data_temp))\n",
    "        data_temp$year <- glue(\"20{year[i]}\")\n",
    "        data_panel <- rbind(data_panel, data_temp)\n",
    "    }\n",
    "    \n",
    "}"
   ]
  },
  {
   "cell_type": "code",
   "execution_count": 82,
   "id": "e5b8b749",
   "metadata": {},
   "outputs": [
    {
     "data": {
      "text/html": [
       "<table class=\"dataframe\">\n",
       "<caption>A tibble: 6 × 8</caption>\n",
       "<thead>\n",
       "\t<tr><th scope=col>numper</th><th scope=col>numpanh</th><th scope=col>mes</th><th scope=col>ubigeo</th><th scope=col>dominio</th><th scope=col>p400a3</th><th scope=col>p4022</th><th scope=col>year</th></tr>\n",
       "\t<tr><th scope=col>&lt;dbl&gt;</th><th scope=col>&lt;dbl&gt;</th><th scope=col>&lt;dbl&gt;</th><th scope=col>&lt;dbl&gt;</th><th scope=col>&lt;chr&gt;</th><th scope=col>&lt;dbl&gt;</th><th scope=col>&lt;dbl&gt;</th><th scope=col>&lt;glue&gt;</th></tr>\n",
       "</thead>\n",
       "<tbody>\n",
       "\t<tr><td>15368</td><td>1158</td><td>11</td><td>10101</td><td>sierra norte</td><td>1946</td><td>0</td><td>2015</td></tr>\n",
       "\t<tr><td>15369</td><td>1158</td><td>11</td><td>10101</td><td>sierra norte</td><td>1973</td><td>0</td><td>2015</td></tr>\n",
       "\t<tr><td>15380</td><td>1162</td><td>11</td><td>10101</td><td>sierra norte</td><td>1987</td><td>1</td><td>2015</td></tr>\n",
       "\t<tr><td>15381</td><td>1162</td><td>11</td><td>10101</td><td>sierra norte</td><td>2009</td><td>1</td><td>2015</td></tr>\n",
       "\t<tr><td>15410</td><td>1185</td><td> 7</td><td>10101</td><td>sierra norte</td><td>1955</td><td>0</td><td>2015</td></tr>\n",
       "\t<tr><td>15412</td><td>1186</td><td> 7</td><td>10101</td><td>sierra norte</td><td>1966</td><td>0</td><td>2015</td></tr>\n",
       "</tbody>\n",
       "</table>\n"
      ],
      "text/latex": [
       "A tibble: 6 × 8\n",
       "\\begin{tabular}{llllllll}\n",
       " numper & numpanh & mes & ubigeo & dominio & p400a3 & p4022 & year\\\\\n",
       " <dbl> & <dbl> & <dbl> & <dbl> & <chr> & <dbl> & <dbl> & <glue>\\\\\n",
       "\\hline\n",
       "\t 15368 & 1158 & 11 & 10101 & sierra norte & 1946 & 0 & 2015\\\\\n",
       "\t 15369 & 1158 & 11 & 10101 & sierra norte & 1973 & 0 & 2015\\\\\n",
       "\t 15380 & 1162 & 11 & 10101 & sierra norte & 1987 & 1 & 2015\\\\\n",
       "\t 15381 & 1162 & 11 & 10101 & sierra norte & 2009 & 1 & 2015\\\\\n",
       "\t 15410 & 1185 &  7 & 10101 & sierra norte & 1955 & 0 & 2015\\\\\n",
       "\t 15412 & 1186 &  7 & 10101 & sierra norte & 1966 & 0 & 2015\\\\\n",
       "\\end{tabular}\n"
      ],
      "text/markdown": [
       "\n",
       "A tibble: 6 × 8\n",
       "\n",
       "| numper &lt;dbl&gt; | numpanh &lt;dbl&gt; | mes &lt;dbl&gt; | ubigeo &lt;dbl&gt; | dominio &lt;chr&gt; | p400a3 &lt;dbl&gt; | p4022 &lt;dbl&gt; | year &lt;glue&gt; |\n",
       "|---|---|---|---|---|---|---|---|\n",
       "| 15368 | 1158 | 11 | 10101 | sierra norte | 1946 | 0 | 2015 |\n",
       "| 15369 | 1158 | 11 | 10101 | sierra norte | 1973 | 0 | 2015 |\n",
       "| 15380 | 1162 | 11 | 10101 | sierra norte | 1987 | 1 | 2015 |\n",
       "| 15381 | 1162 | 11 | 10101 | sierra norte | 2009 | 1 | 2015 |\n",
       "| 15410 | 1185 |  7 | 10101 | sierra norte | 1955 | 0 | 2015 |\n",
       "| 15412 | 1186 |  7 | 10101 | sierra norte | 1966 | 0 | 2015 |\n",
       "\n"
      ],
      "text/plain": [
       "  numper numpanh mes ubigeo dominio      p400a3 p4022 year\n",
       "1 15368  1158    11  10101  sierra norte 1946   0     2015\n",
       "2 15369  1158    11  10101  sierra norte 1973   0     2015\n",
       "3 15380  1162    11  10101  sierra norte 1987   1     2015\n",
       "4 15381  1162    11  10101  sierra norte 2009   1     2015\n",
       "5 15410  1185     7  10101  sierra norte 1955   0     2015\n",
       "6 15412  1186     7  10101  sierra norte 1966   0     2015"
      ]
     },
     "metadata": {},
     "output_type": "display_data"
    }
   ],
   "source": [
    "#Data ENAHO (panel 2015-2019) LIMPIA.\n",
    "head(data_panel)"
   ]
  },
  {
   "cell_type": "markdown",
   "id": "fb7faa78",
   "metadata": {},
   "source": [
    "#### MERGE"
   ]
  },
  {
   "cell_type": "code",
   "execution_count": 79,
   "id": "43cb658a",
   "metadata": {},
   "outputs": [],
   "source": [
    "#### Combinamos las bases de PANEL ENAHO y programa Juntos\n",
    "base_total <- merge( data_panel, data2, by = c(\"ubigeo\"), all.x = TRUE)"
   ]
  },
  {
   "cell_type": "code",
   "execution_count": 83,
   "id": "eea99770",
   "metadata": {},
   "outputs": [
    {
     "data": {
      "text/html": [
       "<table class=\"dataframe\">\n",
       "<caption>A data.frame: 6 × 12</caption>\n",
       "<thead>\n",
       "\t<tr><th></th><th scope=col>ubigeo</th><th scope=col>numper</th><th scope=col>numpanh</th><th scope=col>mes</th><th scope=col>dominio</th><th scope=col>p400a3</th><th scope=col>p4022</th><th scope=col>year</th><th scope=col>distrito</th><th scope=col>provincia</th><th scope=col>region</th><th scope=col>unidos</th></tr>\n",
       "\t<tr><th></th><th scope=col>&lt;dbl&gt;</th><th scope=col>&lt;dbl&gt;</th><th scope=col>&lt;dbl&gt;</th><th scope=col>&lt;dbl&gt;</th><th scope=col>&lt;chr&gt;</th><th scope=col>&lt;dbl&gt;</th><th scope=col>&lt;dbl&gt;</th><th scope=col>&lt;glue&gt;</th><th scope=col>&lt;chr&gt;</th><th scope=col>&lt;chr&gt;</th><th scope=col>&lt;chr&gt;</th><th scope=col>&lt;dbl&gt;</th></tr>\n",
       "</thead>\n",
       "<tbody>\n",
       "\t<tr><th scope=row>1</th><td>10101</td><td>15368</td><td>1158</td><td>11</td><td>sierra norte</td><td>1946</td><td>0</td><td>2015</td><td>Chachapoyas</td><td>Chachapoyas</td><td>Amazonas</td><td>1</td></tr>\n",
       "\t<tr><th scope=row>2</th><td>10101</td><td>15369</td><td>1158</td><td>11</td><td>sierra norte</td><td>1973</td><td>0</td><td>2015</td><td>Chachapoyas</td><td>Chachapoyas</td><td>Amazonas</td><td>1</td></tr>\n",
       "\t<tr><th scope=row>3</th><td>10101</td><td>15380</td><td>1162</td><td>11</td><td>sierra norte</td><td>1987</td><td>1</td><td>2015</td><td>Chachapoyas</td><td>Chachapoyas</td><td>Amazonas</td><td>1</td></tr>\n",
       "\t<tr><th scope=row>4</th><td>10101</td><td>15381</td><td>1162</td><td>11</td><td>sierra norte</td><td>2009</td><td>1</td><td>2015</td><td>Chachapoyas</td><td>Chachapoyas</td><td>Amazonas</td><td>1</td></tr>\n",
       "\t<tr><th scope=row>5</th><td>10101</td><td>15410</td><td>1185</td><td> 7</td><td>sierra norte</td><td>1955</td><td>0</td><td>2015</td><td>Chachapoyas</td><td>Chachapoyas</td><td>Amazonas</td><td>1</td></tr>\n",
       "\t<tr><th scope=row>6</th><td>10101</td><td>15412</td><td>1186</td><td> 7</td><td>sierra norte</td><td>1966</td><td>0</td><td>2015</td><td>Chachapoyas</td><td>Chachapoyas</td><td>Amazonas</td><td>1</td></tr>\n",
       "</tbody>\n",
       "</table>\n"
      ],
      "text/latex": [
       "A data.frame: 6 × 12\n",
       "\\begin{tabular}{r|llllllllllll}\n",
       "  & ubigeo & numper & numpanh & mes & dominio & p400a3 & p4022 & year & distrito & provincia & region & unidos\\\\\n",
       "  & <dbl> & <dbl> & <dbl> & <dbl> & <chr> & <dbl> & <dbl> & <glue> & <chr> & <chr> & <chr> & <dbl>\\\\\n",
       "\\hline\n",
       "\t1 & 10101 & 15368 & 1158 & 11 & sierra norte & 1946 & 0 & 2015 & Chachapoyas & Chachapoyas & Amazonas & 1\\\\\n",
       "\t2 & 10101 & 15369 & 1158 & 11 & sierra norte & 1973 & 0 & 2015 & Chachapoyas & Chachapoyas & Amazonas & 1\\\\\n",
       "\t3 & 10101 & 15380 & 1162 & 11 & sierra norte & 1987 & 1 & 2015 & Chachapoyas & Chachapoyas & Amazonas & 1\\\\\n",
       "\t4 & 10101 & 15381 & 1162 & 11 & sierra norte & 2009 & 1 & 2015 & Chachapoyas & Chachapoyas & Amazonas & 1\\\\\n",
       "\t5 & 10101 & 15410 & 1185 &  7 & sierra norte & 1955 & 0 & 2015 & Chachapoyas & Chachapoyas & Amazonas & 1\\\\\n",
       "\t6 & 10101 & 15412 & 1186 &  7 & sierra norte & 1966 & 0 & 2015 & Chachapoyas & Chachapoyas & Amazonas & 1\\\\\n",
       "\\end{tabular}\n"
      ],
      "text/markdown": [
       "\n",
       "A data.frame: 6 × 12\n",
       "\n",
       "| <!--/--> | ubigeo &lt;dbl&gt; | numper &lt;dbl&gt; | numpanh &lt;dbl&gt; | mes &lt;dbl&gt; | dominio &lt;chr&gt; | p400a3 &lt;dbl&gt; | p4022 &lt;dbl&gt; | year &lt;glue&gt; | distrito &lt;chr&gt; | provincia &lt;chr&gt; | region &lt;chr&gt; | unidos &lt;dbl&gt; |\n",
       "|---|---|---|---|---|---|---|---|---|---|---|---|---|\n",
       "| 1 | 10101 | 15368 | 1158 | 11 | sierra norte | 1946 | 0 | 2015 | Chachapoyas | Chachapoyas | Amazonas | 1 |\n",
       "| 2 | 10101 | 15369 | 1158 | 11 | sierra norte | 1973 | 0 | 2015 | Chachapoyas | Chachapoyas | Amazonas | 1 |\n",
       "| 3 | 10101 | 15380 | 1162 | 11 | sierra norte | 1987 | 1 | 2015 | Chachapoyas | Chachapoyas | Amazonas | 1 |\n",
       "| 4 | 10101 | 15381 | 1162 | 11 | sierra norte | 2009 | 1 | 2015 | Chachapoyas | Chachapoyas | Amazonas | 1 |\n",
       "| 5 | 10101 | 15410 | 1185 |  7 | sierra norte | 1955 | 0 | 2015 | Chachapoyas | Chachapoyas | Amazonas | 1 |\n",
       "| 6 | 10101 | 15412 | 1186 |  7 | sierra norte | 1966 | 0 | 2015 | Chachapoyas | Chachapoyas | Amazonas | 1 |\n",
       "\n"
      ],
      "text/plain": [
       "  ubigeo numper numpanh mes dominio      p400a3 p4022 year distrito   \n",
       "1 10101  15368  1158    11  sierra norte 1946   0     2015 Chachapoyas\n",
       "2 10101  15369  1158    11  sierra norte 1973   0     2015 Chachapoyas\n",
       "3 10101  15380  1162    11  sierra norte 1987   1     2015 Chachapoyas\n",
       "4 10101  15381  1162    11  sierra norte 2009   1     2015 Chachapoyas\n",
       "5 10101  15410  1185     7  sierra norte 1955   0     2015 Chachapoyas\n",
       "6 10101  15412  1186     7  sierra norte 1966   0     2015 Chachapoyas\n",
       "  provincia   region   unidos\n",
       "1 Chachapoyas Amazonas 1     \n",
       "2 Chachapoyas Amazonas 1     \n",
       "3 Chachapoyas Amazonas 1     \n",
       "4 Chachapoyas Amazonas 1     \n",
       "5 Chachapoyas Amazonas 1     \n",
       "6 Chachapoyas Amazonas 1     "
      ]
     },
     "metadata": {},
     "output_type": "display_data"
    }
   ],
   "source": [
    "head(base_total)"
   ]
  },
  {
   "cell_type": "markdown",
   "id": "7bc2e19f",
   "metadata": {},
   "source": [
    "### LABELS"
   ]
  },
  {
   "cell_type": "code",
   "execution_count": null,
   "id": "4df8100e",
   "metadata": {},
   "outputs": [],
   "source": []
  },
  {
   "cell_type": "markdown",
   "id": "93bdba1c",
   "metadata": {},
   "source": [
    "### Porcentaje de distritos por departamentos que se beneficiaron del Programa Juntos en cada año."
   ]
  },
  {
   "cell_type": "code",
   "execution_count": null,
   "id": "1294fa6b",
   "metadata": {},
   "outputs": [],
   "source": []
  },
  {
   "cell_type": "code",
   "execution_count": null,
   "id": "af5309bf",
   "metadata": {},
   "outputs": [],
   "source": []
  }
 ],
 "metadata": {
  "kernelspec": {
   "display_name": "R",
   "language": "R",
   "name": "ir"
  },
  "language_info": {
   "codemirror_mode": "r",
   "file_extension": ".r",
   "mimetype": "text/x-r-source",
   "name": "R",
   "pygments_lexer": "r",
   "version": "4.1.3"
  }
 },
 "nbformat": 4,
 "nbformat_minor": 5
}
