#Establecer la carpeta de trabajo, substituir la ruta por la más apropiada en su caso.

setwd("C:\Users\Ariana\Documents\notas.csv")

#Leer el archivo de datos

read.csv("notas.csv")->datos

#Ver el encabezado de la tabla 

head(datos)

#en caso deseen ver la tabla completa

View(datos)

#Vamos a incluir una columna llamada "Ingreso" para indicar si cada alumno aprobó o no:

ifelse(datos$notas>=11,"Sí","No")->datos$Ingreso

#Vamos a incluir una columna con información de las carreras. Ya que no había definición para a0004, lo describí como NA, pero también se puede hacer de otras formas.

datos$Carrera<-ifelse(datos$carrera=="a001","Economía",
                      ifelse(datos$carrera=="a002","Química",
                             ifelse(datos$carrera=="a003","Filosofía",NA)))

#Finalmente podemos ver el resultado final con

View(datos)

#O guardar una nueva tabla como

write.csv(datos,"notas_result.csv",row.names = FALSE)


library(dplyr)

n<-10000
data<-as.data.frame(cbind(
  #Salario
  sample(x = 0:200000, size = n, replace = TRUE),
  #Anios de educa
  sample(x = 0:20, size = n, replace = TRUE),
  #Area
  sample(x = 0:1, size = n, replace = TRUE),
  #Sexo
  sample(x = 0:1, size = n, replace = TRUE),
  #Edad
  sample(x = 18:65, size = n, replace = TRUE)))
data$Y=log(data$V1)
m<-c(10, 50, 100,200,500,1000,5000)
datalist=list()
for(i in m) {
  results<-as.data.frame(summary(lm(Y~V2+V3+V4+V5,
                                    data = head(data,i)))$coefficients)
  results<-as.data.frame(results[,1])
  results<-rbind(results,i)
  results<-as.data.frame(t(results))
  datalist[[i]] <- results # Cargamos a la lista
}
base_grande = do.call(dplyr::bind_rows,datalist) # Append
names(base_grande)<-c("b1","b2","b3","b4","b5","size")


# Use la base de datos production_fish.csv para obtener el porcentaje de
# consumo de ciertos tipos de producción marina respecto al consumo de 
# anchoveta. Crear esta información solo para los siguiente 
# tipos producción marina: Atun, Jurel, Langostino, Tollo.

fish=read.csv("production_fish.csv",sep=",")        #lectura de datos
head(fish)                                          # muestra de datos
tabla=round(100*fish[,c(7,9,4,14)]/fish[,2],3)      #operacion solicitada
names(tabla)=c("Atun","Jurel","Langostino","Tollo") #asignación de nombres
tabla=as.data.frame(tabla)                          #conversión a tabla de datos
tabla$Atun= paste(tabla[,1],"%",sep="")             #añadir simobolo de porcentaje
tabla$Jurel=paste(tabla[,2],"%",sep="")             #añadir simobolo de porcentaje   
tabla$Langostino=paste(tabla[,3],"%",sep="")        #añadir simobolo de porcentaje
tabla$Tollo=paste(tabla[,4],"%",sep="")             #añadir simobolo de porcentaje
tabla                                               #resultado solicitado 

