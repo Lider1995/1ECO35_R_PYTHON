#Exploring Data Frame
class(Region_Junin)
str(Region_Junin)
#Exploring values
names (Region_Junin)
summary(Region_Junin)
#Exploring missing values
missing(Region_Junin)
#Change values' names
names (Region_Junin)[4] = "comunidad"
names (Region_Junin)[14] = "nlee_hombre"
names (Region_Junin)[15] = "nlee_mujer"
names (Region_Junin)[16] = "ntotal_lee"
names (Region_Junin)[20] = "nesc_hombre"
names (Region_Junin)[21] = "nesc_mujer"
names (Region_Junin)[22] = "nesc_total"
#Show unique values
table(Region_Junin$Region)
table(Region_Junin$District)
table(Region_Junin$comunidad) //se visualizan aquellos equivalente a 1
# another way 
unique(Region_Junin$District)
unique(Region_Junin$Place)
#Remove variables finished_instr_total, finished_instr_men y finished_instr_women
[29] "finished_instr_men"      
Region_Junin[29] <- NULL  
#checking dataframe after delete
names (Region_Junin)
[29] "finished_instr_women"
[29] "finished_instr_women"    

# another way 
Region_Junin$finished_instr_total <- NULL
Region_Junin$ finished_instr_women<- NULL
Region_Junin$ finished_instr_men <- NULL

# �tem 8
Region_Junin$Total <- Region_Junin$peruvian_men + Region_Junin$peruvian_women + Region_Junin$foreign_men + Region_Junin$foreign_women
#total percentage women who don't read nor write:
Region_junin$ninimu <- ((Region_junin$nlee_mujer + Region_junin$nesc_mujer)/Region_junin$Total)*100Region_junin
Region_junin$ninimu <- ((Region_junin$nlee_mujer + Region_junin$nesc_mujer)/Region_junin$Total)*100
#total percentage native population
Region_Junin$nativespercentage <- (Region_Junin$natives)* 100/ Region_Junin$Total
# create a database and consider only  Ciudad del Cerro, Jauja, Acolla, San Ger�nimo, Tarma, Oroya y Concepci�n:
db1 <- Region_Junin[Region_Junin$District %in% c('CIUDAD DEL CERRO','JAUJA','ACOLLA','SAN GER�NIMO','TARMA','OROYA','CONCEPCI�N'),] 
unique(db1$District)
db1
db1[which(db1$`4_6_years_men`< 50), ]
db1[which(db1$`4_6_years_men`< 50 & db1$`6_14_years_men`> 70), ]
#Arrange rows; the dplyr function arrange() can be used to reorder (or sort) rows by one or more variables.
Region_Junin %>% arrange(natives)

#return item 8 and keep "comunidad" & "distrito"

library(readxl)
Region_Junin <- read_excel("C:/Users/Ariana/Desktop/Region_Junin.xlsx")
New names:
  * `` -> `...1`
View(Region_Junin)
names (Region_Junin)[4] = "comunidad"
names (Region_Junin)[3] = "distrito"
DF <- data.frame(Region_Junin[4], Region_Junin[3])
#view separately
Region_Junin[4]
Region_Junin[3]
#save as dataset
BASE1 <- data.frame(Region_Junin$District)
BASE2 <- data.frame(Region_Junin$comunidad)
write.csv(BASE1,"C:\\Users\\Ariana\\Desktop\\base1.csv", row.names = FALSE)
write.csv(BASE2,"C:\\Users\\Ariana\\Desktop\\base2.csv", row.names = FALSE)

# Crear una funcion que me permita extraer una columna segun el nombre de la variable y dos filas.
var_2rows <- function(df,var){
 # Seleccionando 2 filas
 df <- head(df,2)
  # Seleccionando la variable
 df <- df[,var]
  
  return(df)
}

var_2rows(Region_Junin,'District')
Region_Junin$com
var_2rows(Region_Junin,'Place')

