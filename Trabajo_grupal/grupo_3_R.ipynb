{
 "cells": [
  {
   "cell_type": "markdown",
   "id": "dc4fcda3",
   "metadata": {},
   "source": [
    "# Grupo 3\n",
    "Uso de f-string, diccionarios y listas, matrices, operaciones con matrices.\n"
   ]
  },
  {
   "cell_type": "markdown",
   "id": "5e52f569",
   "metadata": {},
   "source": [
    "1- Use f-string para concaternar textos o valores numéricos. De 2 ejemplos.\n"
   ]
  },
  {
   "cell_type": "code",
   "execution_count": 1,
   "id": "d75c38cc",
   "metadata": {},
   "outputs": [
    {
     "name": "stdout",
     "output_type": "stream",
     "text": [
      "[1] \"cobre\"\n"
     ]
    }
   ],
   "source": [
    "#ejemplo 1\n",
    "a <- \"cobre\"\n",
    "print( a )"
   ]
  },
  {
   "cell_type": "code",
   "execution_count": 2,
   "id": "d9404f4d",
   "metadata": {},
   "outputs": [
    {
     "name": "stdout",
     "output_type": "stream",
     "text": [
      "[1] \"café\"\n"
     ]
    }
   ],
   "source": [
    "b <- \"café\"\n",
    "print( b )"
   ]
  },
  {
   "cell_type": "code",
   "execution_count": 3,
   "id": "246cd629",
   "metadata": {},
   "outputs": [
    {
     "name": "stdout",
     "output_type": "stream",
     "text": [
      "[1] \"gas natural\"\n"
     ]
    }
   ],
   "source": [
    "c <- \"gas natural\"\n",
    "print( c )"
   ]
  },
  {
   "cell_type": "code",
   "execution_count": 4,
   "id": "983f4904",
   "metadata": {},
   "outputs": [
    {
     "name": "stdout",
     "output_type": "stream",
     "text": [
      "[1] \"Los productos tradicionales que más se exportaron en el mes de enero son\"\n"
     ]
    }
   ],
   "source": [
    "x1 <- \"Los productos tradicionales que más se exportaron en el mes de enero son\"\n",
    "print( x1 )"
   ]
  },
  {
   "cell_type": "code",
   "execution_count": 5,
   "id": "960465ef",
   "metadata": {},
   "outputs": [],
   "source": [
    "#install.packages(\"devtools\")\n",
    "library(glue)"
   ]
  },
  {
   "cell_type": "code",
   "execution_count": 6,
   "id": "78b9ea13",
   "metadata": {},
   "outputs": [
    {
     "data": {
      "text/html": [
       "'Los productos tradicionales que más se exportaron en el mes de enero son el cobre, café y gas natural'"
      ],
      "text/latex": [
       "'Los productos tradicionales que más se exportaron en el mes de enero son el cobre, café y gas natural'"
      ],
      "text/markdown": [
       "'Los productos tradicionales que más se exportaron en el mes de enero son el cobre, café y gas natural'"
      ],
      "text/plain": [
       "Los productos tradicionales que más se exportaron en el mes de enero son el cobre, café y gas natural"
      ]
     },
     "metadata": {},
     "output_type": "display_data"
    }
   ],
   "source": [
    "y1 <- glue('{x1} el {a}, {b} y {c}')\n",
    "y1"
   ]
  },
  {
   "cell_type": "code",
   "execution_count": 7,
   "id": "c960cacd",
   "metadata": {},
   "outputs": [
    {
     "name": "stdout",
     "output_type": "stream",
     "text": [
      "[1] \"Huancayo\"\n"
     ]
    }
   ],
   "source": [
    "#ejemplo 2\n",
    "d <- \"Huancayo\"\n",
    "print( d )"
   ]
  },
  {
   "cell_type": "code",
   "execution_count": 8,
   "id": "0981821a",
   "metadata": {},
   "outputs": [
    {
     "name": "stdout",
     "output_type": "stream",
     "text": [
      "[1] \"Lima\"\n"
     ]
    }
   ],
   "source": [
    "e <- \"Lima\"\n",
    "print( e )"
   ]
  },
  {
   "cell_type": "code",
   "execution_count": 9,
   "id": "9bf75ce2",
   "metadata": {},
   "outputs": [
    {
     "name": "stdout",
     "output_type": "stream",
     "text": [
      "[1] \"Tacna\"\n"
     ]
    }
   ],
   "source": [
    "f <- \"Tacna\"\n",
    "print( f )"
   ]
  },
  {
   "cell_type": "code",
   "execution_count": 10,
   "id": "5a77402a",
   "metadata": {},
   "outputs": [
    {
     "name": "stdout",
     "output_type": "stream",
     "text": [
      "[1] \"El paro de transportistas ha generado revueltas en\"\n"
     ]
    }
   ],
   "source": [
    "x2 <- \"El paro de transportistas ha generado revueltas en\"\n",
    "print( x2 )"
   ]
  },
  {
   "cell_type": "code",
   "execution_count": 11,
   "id": "7df17c6e",
   "metadata": {},
   "outputs": [
    {
     "data": {
      "text/html": [
       "'El paro de transportistas ha generado revueltas en Huancayo, Lima y Tacna '"
      ],
      "text/latex": [
       "'El paro de transportistas ha generado revueltas en Huancayo, Lima y Tacna '"
      ],
      "text/markdown": [
       "'El paro de transportistas ha generado revueltas en Huancayo, Lima y Tacna '"
      ],
      "text/plain": [
       "El paro de transportistas ha generado revueltas en Huancayo, Lima y Tacna "
      ]
     },
     "metadata": {},
     "output_type": "display_data"
    }
   ],
   "source": [
    "y2 <- glue('{x2} {d}, {e} y {f} ')\n",
    "y2"
   ]
  },
  {
   "cell_type": "markdown",
   "id": "0ddb0fd2",
   "metadata": {},
   "source": [
    "## Diccionarios y listas\n"
   ]
  },
  {
   "cell_type": "markdown",
   "id": "d77f713d",
   "metadata": {},
   "source": [
    "2- Crear una Lista de 3 distritos de Lima, añadir 2 distritos del Callao. Extraer el primer y último elemento usando el Indexing"
   ]
  },
  {
   "cell_type": "code",
   "execution_count": 12,
   "id": "cf002613",
   "metadata": {},
   "outputs": [],
   "source": [
    "remove(list=ls())\n",
    "mylist <- list()"
   ]
  },
  {
   "cell_type": "code",
   "execution_count": 13,
   "id": "640ac1f6",
   "metadata": {},
   "outputs": [
    {
     "data": {
      "text/html": [
       "<ol>\n",
       "\t<li>'SAN MIGUEL'</li>\n",
       "\t<li>'JESUS MARÍA'</li>\n",
       "\t<li>'LINCE'</li>\n",
       "</ol>\n"
      ],
      "text/latex": [
       "\\begin{enumerate}\n",
       "\\item 'SAN MIGUEL'\n",
       "\\item 'JESUS MARÍA'\n",
       "\\item 'LINCE'\n",
       "\\end{enumerate}\n"
      ],
      "text/markdown": [
       "1. 'SAN MIGUEL'\n",
       "2. 'JESUS MARÍA'\n",
       "3. 'LINCE'\n",
       "\n",
       "\n"
      ],
      "text/plain": [
       "[[1]]\n",
       "[1] \"SAN MIGUEL\"\n",
       "\n",
       "[[2]]\n",
       "[1] \"JESUS MARÍA\"\n",
       "\n",
       "[[3]]\n",
       "[1] \"LINCE\"\n"
      ]
     },
     "metadata": {},
     "output_type": "display_data"
    }
   ],
   "source": [
    "distLima <- list('SAN MIGUEL', 'JESUS MARÍA','LINCE')\n",
    "distLima"
   ]
  },
  {
   "cell_type": "code",
   "execution_count": 14,
   "id": "a5448fcd",
   "metadata": {},
   "outputs": [
    {
     "data": {
      "text/html": [
       "<ol>\n",
       "\t<li>'LA PERLA'</li>\n",
       "\t<li>'BELAVISTA'</li>\n",
       "</ol>\n"
      ],
      "text/latex": [
       "\\begin{enumerate}\n",
       "\\item 'LA PERLA'\n",
       "\\item 'BELAVISTA'\n",
       "\\end{enumerate}\n"
      ],
      "text/markdown": [
       "1. 'LA PERLA'\n",
       "2. 'BELAVISTA'\n",
       "\n",
       "\n"
      ],
      "text/plain": [
       "[[1]]\n",
       "[1] \"LA PERLA\"\n",
       "\n",
       "[[2]]\n",
       "[1] \"BELAVISTA\"\n"
      ]
     },
     "metadata": {},
     "output_type": "display_data"
    }
   ],
   "source": [
    "distCallao <- list(\"LA PERLA\", \"BELAVISTA\")\n",
    "distCallao"
   ]
  },
  {
   "cell_type": "code",
   "execution_count": 15,
   "id": "f82c2d0b",
   "metadata": {},
   "outputs": [
    {
     "data": {
      "text/html": [
       "<ol>\n",
       "\t<li>'SAN MIGUEL'</li>\n",
       "\t<li>'JESUS MARÍA'</li>\n",
       "\t<li>'LINCE'</li>\n",
       "\t<li>'LA PERLA'</li>\n",
       "\t<li>'BELAVISTA'</li>\n",
       "</ol>\n"
      ],
      "text/latex": [
       "\\begin{enumerate}\n",
       "\\item 'SAN MIGUEL'\n",
       "\\item 'JESUS MARÍA'\n",
       "\\item 'LINCE'\n",
       "\\item 'LA PERLA'\n",
       "\\item 'BELAVISTA'\n",
       "\\end{enumerate}\n"
      ],
      "text/markdown": [
       "1. 'SAN MIGUEL'\n",
       "2. 'JESUS MARÍA'\n",
       "3. 'LINCE'\n",
       "4. 'LA PERLA'\n",
       "5. 'BELAVISTA'\n",
       "\n",
       "\n"
      ],
      "text/plain": [
       "[[1]]\n",
       "[1] \"SAN MIGUEL\"\n",
       "\n",
       "[[2]]\n",
       "[1] \"JESUS MARÍA\"\n",
       "\n",
       "[[3]]\n",
       "[1] \"LINCE\"\n",
       "\n",
       "[[4]]\n",
       "[1] \"LA PERLA\"\n",
       "\n",
       "[[5]]\n",
       "[1] \"BELAVISTA\"\n"
      ]
     },
     "metadata": {},
     "output_type": "display_data"
    }
   ],
   "source": [
    "# list(distLima, distCallao)\n",
    "append(distLima, distCallao)"
   ]
  },
  {
   "cell_type": "code",
   "execution_count": 16,
   "id": "01bf482b",
   "metadata": {},
   "outputs": [
    {
     "data": {
      "text/html": [
       "<ol>\n",
       "\t<li>'JESUS MARÍA'</li>\n",
       "\t<li>'LINCE'</li>\n",
       "</ol>\n"
      ],
      "text/latex": [
       "\\begin{enumerate}\n",
       "\\item 'JESUS MARÍA'\n",
       "\\item 'LINCE'\n",
       "\\end{enumerate}\n"
      ],
      "text/markdown": [
       "1. 'JESUS MARÍA'\n",
       "2. 'LINCE'\n",
       "\n",
       "\n"
      ],
      "text/plain": [
       "[[1]]\n",
       "[1] \"JESUS MARÍA\"\n",
       "\n",
       "[[2]]\n",
       "[1] \"LINCE\"\n"
      ]
     },
     "metadata": {},
     "output_type": "display_data"
    },
    {
     "data": {
      "text/html": [
       "<ol>\n",
       "\t<li>'JESUS MARÍA'</li>\n",
       "\t<li>'LINCE'</li>\n",
       "</ol>\n"
      ],
      "text/latex": [
       "\\begin{enumerate}\n",
       "\\item 'JESUS MARÍA'\n",
       "\\item 'LINCE'\n",
       "\\end{enumerate}\n"
      ],
      "text/markdown": [
       "1. 'JESUS MARÍA'\n",
       "2. 'LINCE'\n",
       "\n",
       "\n"
      ],
      "text/plain": [
       "[[1]]\n",
       "[1] \"JESUS MARÍA\"\n",
       "\n",
       "[[2]]\n",
       "[1] \"LINCE\"\n"
      ]
     },
     "metadata": {},
     "output_type": "display_data"
    }
   ],
   "source": [
    "#distLima <- list('SAN MIGUEL', 'JESUS MARÍA','LINCE')\n",
    "distLima[2:3]\n",
    "distLima[-1]"
   ]
  },
  {
   "cell_type": "code",
   "execution_count": 17,
   "id": "40e4dc1d",
   "metadata": {},
   "outputs": [
    {
     "data": {
      "text/html": [
       "<ol>\n",
       "\t<li>'LA PERLA'</li>\n",
       "</ol>\n"
      ],
      "text/latex": [
       "\\begin{enumerate}\n",
       "\\item 'LA PERLA'\n",
       "\\end{enumerate}\n"
      ],
      "text/markdown": [
       "1. 'LA PERLA'\n",
       "\n",
       "\n"
      ],
      "text/plain": [
       "[[1]]\n",
       "[1] \"LA PERLA\"\n"
      ]
     },
     "metadata": {},
     "output_type": "display_data"
    }
   ],
   "source": [
    "#distCallao <- list(\"LA PERLA\", \"BELAVISTA\")\n",
    "distCallao[0:1]"
   ]
  },
  {
   "cell_type": "markdown",
   "id": "1d004b4d",
   "metadata": {},
   "source": [
    "3- Crear un diccionario con los 5 distritos del ejercicio a. Incluir información de población proyectada e incidencia de pobreza (limite superior).Use la información del Mapa de Pobreza 2018"
   ]
  },
  {
   "cell_type": "code",
   "execution_count": 18,
   "id": "ae9e19f1",
   "metadata": {},
   "outputs": [
    {
     "data": {
      "text/html": [
       "<dl>\n",
       "\t<dt>$`San Miguel`</dt>\n",
       "\t\t<dd>173309</dd>\n",
       "\t<dt>$`Jesus Maria`</dt>\n",
       "\t\t<dd>81743</dd>\n",
       "\t<dt>$Lince</dt>\n",
       "\t\t<dd>59578</dd>\n",
       "\t<dt>$`La Perla`</dt>\n",
       "\t\t<dd>64454</dd>\n",
       "\t<dt>$Bellavista</dt>\n",
       "\t\t<dd>80704</dd>\n",
       "</dl>\n"
      ],
      "text/latex": [
       "\\begin{description}\n",
       "\\item[\\$`San Miguel`] 173309\n",
       "\\item[\\$`Jesus Maria`] 81743\n",
       "\\item[\\$Lince] 59578\n",
       "\\item[\\$`La Perla`] 64454\n",
       "\\item[\\$Bellavista] 80704\n",
       "\\end{description}\n"
      ],
      "text/markdown": [
       "$`San Miguel`\n",
       ":   173309\n",
       "$`Jesus Maria`\n",
       ":   81743\n",
       "$Lince\n",
       ":   59578\n",
       "$`La Perla`\n",
       ":   64454\n",
       "$Bellavista\n",
       ":   80704\n",
       "\n",
       "\n"
      ],
      "text/plain": [
       "$`San Miguel`\n",
       "[1] 173309\n",
       "\n",
       "$`Jesus Maria`\n",
       "[1] 81743\n",
       "\n",
       "$Lince\n",
       "[1] 59578\n",
       "\n",
       "$`La Perla`\n",
       "[1] 64454\n",
       "\n",
       "$Bellavista\n",
       "[1] 80704\n"
      ]
     },
     "metadata": {},
     "output_type": "display_data"
    }
   ],
   "source": [
    "poblacion <- list(\"San Miguel\" = 173309,\n",
    "                  \"Jesus Maria\" = 81743,\n",
    "                  \"Lince\" = 59578,\n",
    "                  \"La Perla\" = 64454,\n",
    "                  \"Bellavista\" = 80704)\n",
    "poblacion"
   ]
  },
  {
   "cell_type": "code",
   "execution_count": 19,
   "id": "70451a3c",
   "metadata": {},
   "outputs": [
    {
     "data": {
      "text/html": [
       "81743"
      ],
      "text/latex": [
       "81743"
      ],
      "text/markdown": [
       "81743"
      ],
      "text/plain": [
       "[1] 81743"
      ]
     },
     "metadata": {},
     "output_type": "display_data"
    }
   ],
   "source": [
    "poblacion$\"Jesus Maria\""
   ]
  },
  {
   "cell_type": "code",
   "execution_count": 20,
   "id": "c4916c0c",
   "metadata": {},
   "outputs": [
    {
     "data": {
      "text/html": [
       "<dl>\n",
       "\t<dt>$`San Miguel`</dt>\n",
       "\t\t<dd>2.2</dd>\n",
       "\t<dt>$`Jesus Maria`</dt>\n",
       "\t\t<dd>0.8</dd>\n",
       "\t<dt>$Lince</dt>\n",
       "\t\t<dd>2.2</dd>\n",
       "\t<dt>$`La Perla`</dt>\n",
       "\t\t<dd>4.1</dd>\n",
       "\t<dt>$Bellavista</dt>\n",
       "\t\t<dd>6.2</dd>\n",
       "</dl>\n"
      ],
      "text/latex": [
       "\\begin{description}\n",
       "\\item[\\$`San Miguel`] 2.2\n",
       "\\item[\\$`Jesus Maria`] 0.8\n",
       "\\item[\\$Lince] 2.2\n",
       "\\item[\\$`La Perla`] 4.1\n",
       "\\item[\\$Bellavista] 6.2\n",
       "\\end{description}\n"
      ],
      "text/markdown": [
       "$`San Miguel`\n",
       ":   2.2\n",
       "$`Jesus Maria`\n",
       ":   0.8\n",
       "$Lince\n",
       ":   2.2\n",
       "$`La Perla`\n",
       ":   4.1\n",
       "$Bellavista\n",
       ":   6.2\n",
       "\n",
       "\n"
      ],
      "text/plain": [
       "$`San Miguel`\n",
       "[1] 2.2\n",
       "\n",
       "$`Jesus Maria`\n",
       "[1] 0.8\n",
       "\n",
       "$Lince\n",
       "[1] 2.2\n",
       "\n",
       "$`La Perla`\n",
       "[1] 4.1\n",
       "\n",
       "$Bellavista\n",
       "[1] 6.2\n"
      ]
     },
     "metadata": {},
     "output_type": "display_data"
    }
   ],
   "source": [
    "pobreza <- list(\"San Miguel\" = 2.2,\n",
    "                \"Jesus Maria\" = 0.8,\n",
    "                \"Lince\" = 2.2,\n",
    "                \"La Perla\" = 4.1,\n",
    "                \"Bellavista\" = 6.2 )\n",
    "pobreza\n"
   ]
  },
  {
   "cell_type": "code",
   "execution_count": 21,
   "id": "2b0dd903",
   "metadata": {},
   "outputs": [
    {
     "data": {
      "text/html": [
       "6.2"
      ],
      "text/latex": [
       "6.2"
      ],
      "text/markdown": [
       "6.2"
      ],
      "text/plain": [
       "[1] 6.2"
      ]
     },
     "metadata": {},
     "output_type": "display_data"
    }
   ],
   "source": [
    "pobreza$\"Bellavista\""
   ]
  },
  {
   "cell_type": "markdown",
   "id": "fa799568",
   "metadata": {},
   "source": [
    "4-Muestre la información de pobreza y de población de 3 distritos\n",
    "\n"
   ]
  },
  {
   "cell_type": "code",
   "execution_count": 22,
   "id": "e5410bac",
   "metadata": {},
   "outputs": [
    {
     "data": {
      "text/html": [
       "<dl>\n",
       "\t<dt>$`Jesus Maria`</dt>\n",
       "\t\t<dd>0.8</dd>\n",
       "\t<dt>$Lince</dt>\n",
       "\t\t<dd>2.2</dd>\n",
       "\t<dt>$`La Perla`</dt>\n",
       "\t\t<dd>4.1</dd>\n",
       "</dl>\n"
      ],
      "text/latex": [
       "\\begin{description}\n",
       "\\item[\\$`Jesus Maria`] 0.8\n",
       "\\item[\\$Lince] 2.2\n",
       "\\item[\\$`La Perla`] 4.1\n",
       "\\end{description}\n"
      ],
      "text/markdown": [
       "$`Jesus Maria`\n",
       ":   0.8\n",
       "$Lince\n",
       ":   2.2\n",
       "$`La Perla`\n",
       ":   4.1\n",
       "\n",
       "\n"
      ],
      "text/plain": [
       "$`Jesus Maria`\n",
       "[1] 0.8\n",
       "\n",
       "$Lince\n",
       "[1] 2.2\n",
       "\n",
       "$`La Perla`\n",
       "[1] 4.1\n"
      ]
     },
     "metadata": {},
     "output_type": "display_data"
    }
   ],
   "source": [
    "#informacion de la incidencia de pobreza de tres distritos\n",
    "\n",
    "pobreza[(2:4)]"
   ]
  },
  {
   "cell_type": "code",
   "execution_count": 23,
   "id": "01815aca",
   "metadata": {},
   "outputs": [
    {
     "data": {
      "text/html": [
       "<dl>\n",
       "\t<dt>$`Jesus Maria`</dt>\n",
       "\t\t<dd>81743</dd>\n",
       "\t<dt>$Lince</dt>\n",
       "\t\t<dd>59578</dd>\n",
       "\t<dt>$`La Perla`</dt>\n",
       "\t\t<dd>64454</dd>\n",
       "</dl>\n"
      ],
      "text/latex": [
       "\\begin{description}\n",
       "\\item[\\$`Jesus Maria`] 81743\n",
       "\\item[\\$Lince] 59578\n",
       "\\item[\\$`La Perla`] 64454\n",
       "\\end{description}\n"
      ],
      "text/markdown": [
       "$`Jesus Maria`\n",
       ":   81743\n",
       "$Lince\n",
       ":   59578\n",
       "$`La Perla`\n",
       ":   64454\n",
       "\n",
       "\n"
      ],
      "text/plain": [
       "$`Jesus Maria`\n",
       "[1] 81743\n",
       "\n",
       "$Lince\n",
       "[1] 59578\n",
       "\n",
       "$`La Perla`\n",
       "[1] 64454\n"
      ]
     },
     "metadata": {},
     "output_type": "display_data"
    }
   ],
   "source": [
    "#informacion de poblacion proyectada de tres distritos\n",
    "poblacion[(2:4)]"
   ]
  },
  {
   "cell_type": "markdown",
   "id": "a18b860e",
   "metadata": {},
   "source": [
    "## Matrices\n"
   ]
  },
  {
   "cell_type": "markdown",
   "id": "7571b9e4",
   "metadata": {},
   "source": [
    "5- Crear matrices y dar dos ejemplos de concatenación. Unión vertical y horizontal."
   ]
  },
  {
   "cell_type": "code",
   "execution_count": 24,
   "id": "85fb51cc",
   "metadata": {},
   "outputs": [],
   "source": [
    "m <- c(1:8)"
   ]
  },
  {
   "cell_type": "code",
   "execution_count": 25,
   "id": "8b15b43c",
   "metadata": {},
   "outputs": [
    {
     "name": "stdout",
     "output_type": "stream",
     "text": [
      "     [,1] [,2] [,3] [,4]\n",
      "[1,]    1    2    3    4\n",
      "[2,]    5    6    7    8\n"
     ]
    }
   ],
   "source": [
    "#union horizontal\n",
    "matrix1 <- matrix(m, nrow = 2, byrow = TRUE)\n",
    "print(matrix1)"
   ]
  },
  {
   "cell_type": "code",
   "execution_count": 26,
   "id": "cb8f58e8",
   "metadata": {},
   "outputs": [],
   "source": [
    "n <- c(1:8)"
   ]
  },
  {
   "cell_type": "code",
   "execution_count": 27,
   "id": "0ffb49b2",
   "metadata": {},
   "outputs": [
    {
     "name": "stdout",
     "output_type": "stream",
     "text": [
      "     [,1] [,2] [,3] [,4]\n",
      "[1,]    1    3    5    7\n",
      "[2,]    2    4    6    8\n"
     ]
    }
   ],
   "source": [
    "#union vertical\n",
    "matrix2 <- matrix(n, nrow = 2, byrow = FALSE)\n",
    "print(matrix2)"
   ]
  },
  {
   "cell_type": "markdown",
   "id": "d4f64aef",
   "metadata": {},
   "source": [
    "6- Crear una matriz de dimensión 4x8, seleccionar las ultimas dos columnas y primeras 3 filas.\n"
   ]
  },
  {
   "cell_type": "code",
   "execution_count": 28,
   "id": "4a6da230",
   "metadata": {},
   "outputs": [
    {
     "data": {
      "text/html": [
       "<table>\n",
       "<tbody>\n",
       "\t<tr><td>1 </td><td>5 </td><td> 9</td><td>13</td><td>17</td><td>21</td><td>25</td><td>29</td></tr>\n",
       "\t<tr><td>2 </td><td>6 </td><td>10</td><td>14</td><td>18</td><td>22</td><td>26</td><td>30</td></tr>\n",
       "\t<tr><td>3 </td><td>7 </td><td>11</td><td>15</td><td>19</td><td>23</td><td>27</td><td>31</td></tr>\n",
       "\t<tr><td>4 </td><td>8 </td><td>12</td><td>16</td><td>20</td><td>24</td><td>28</td><td>32</td></tr>\n",
       "</tbody>\n",
       "</table>\n"
      ],
      "text/latex": [
       "\\begin{tabular}{llllllll}\n",
       "\t 1  & 5  &  9 & 13 & 17 & 21 & 25 & 29\\\\\n",
       "\t 2  & 6  & 10 & 14 & 18 & 22 & 26 & 30\\\\\n",
       "\t 3  & 7  & 11 & 15 & 19 & 23 & 27 & 31\\\\\n",
       "\t 4  & 8  & 12 & 16 & 20 & 24 & 28 & 32\\\\\n",
       "\\end{tabular}\n"
      ],
      "text/markdown": [
       "\n",
       "| 1  | 5  |  9 | 13 | 17 | 21 | 25 | 29 |\n",
       "| 2  | 6  | 10 | 14 | 18 | 22 | 26 | 30 |\n",
       "| 3  | 7  | 11 | 15 | 19 | 23 | 27 | 31 |\n",
       "| 4  | 8  | 12 | 16 | 20 | 24 | 28 | 32 |\n",
       "\n"
      ],
      "text/plain": [
       "     [,1] [,2] [,3] [,4] [,5] [,6] [,7] [,8]\n",
       "[1,] 1    5     9   13   17   21   25   29  \n",
       "[2,] 2    6    10   14   18   22   26   30  \n",
       "[3,] 3    7    11   15   19   23   27   31  \n",
       "[4,] 4    8    12   16   20   24   28   32  "
      ]
     },
     "metadata": {},
     "output_type": "display_data"
    }
   ],
   "source": [
    "y <- matrix(1:32, 4, 8)\n",
    "y"
   ]
  },
  {
   "cell_type": "code",
   "execution_count": 29,
   "id": "8e77a13e",
   "metadata": {},
   "outputs": [
    {
     "data": {
      "text/html": [
       "<table>\n",
       "<tbody>\n",
       "\t<tr><td>25</td><td>29</td></tr>\n",
       "\t<tr><td>26</td><td>30</td></tr>\n",
       "\t<tr><td>27</td><td>31</td></tr>\n",
       "\t<tr><td>28</td><td>32</td></tr>\n",
       "</tbody>\n",
       "</table>\n"
      ],
      "text/latex": [
       "\\begin{tabular}{ll}\n",
       "\t 25 & 29\\\\\n",
       "\t 26 & 30\\\\\n",
       "\t 27 & 31\\\\\n",
       "\t 28 & 32\\\\\n",
       "\\end{tabular}\n"
      ],
      "text/markdown": [
       "\n",
       "| 25 | 29 |\n",
       "| 26 | 30 |\n",
       "| 27 | 31 |\n",
       "| 28 | 32 |\n",
       "\n"
      ],
      "text/plain": [
       "     [,1] [,2]\n",
       "[1,] 25   29  \n",
       "[2,] 26   30  \n",
       "[3,] 27   31  \n",
       "[4,] 28   32  "
      ]
     },
     "metadata": {},
     "output_type": "display_data"
    }
   ],
   "source": [
    "#ultimas dos columnas de la matriz\n",
    "y[,c(7:8)]"
   ]
  },
  {
   "cell_type": "code",
   "execution_count": 30,
   "id": "8ddb30fb",
   "metadata": {},
   "outputs": [
    {
     "data": {
      "text/html": [
       "<table>\n",
       "<tbody>\n",
       "\t<tr><td>1 </td><td>5 </td><td> 9</td><td>13</td><td>17</td><td>21</td><td>25</td><td>29</td></tr>\n",
       "\t<tr><td>2 </td><td>6 </td><td>10</td><td>14</td><td>18</td><td>22</td><td>26</td><td>30</td></tr>\n",
       "\t<tr><td>3 </td><td>7 </td><td>11</td><td>15</td><td>19</td><td>23</td><td>27</td><td>31</td></tr>\n",
       "</tbody>\n",
       "</table>\n"
      ],
      "text/latex": [
       "\\begin{tabular}{llllllll}\n",
       "\t 1  & 5  &  9 & 13 & 17 & 21 & 25 & 29\\\\\n",
       "\t 2  & 6  & 10 & 14 & 18 & 22 & 26 & 30\\\\\n",
       "\t 3  & 7  & 11 & 15 & 19 & 23 & 27 & 31\\\\\n",
       "\\end{tabular}\n"
      ],
      "text/markdown": [
       "\n",
       "| 1  | 5  |  9 | 13 | 17 | 21 | 25 | 29 |\n",
       "| 2  | 6  | 10 | 14 | 18 | 22 | 26 | 30 |\n",
       "| 3  | 7  | 11 | 15 | 19 | 23 | 27 | 31 |\n",
       "\n"
      ],
      "text/plain": [
       "     [,1] [,2] [,3] [,4] [,5] [,6] [,7] [,8]\n",
       "[1,] 1    5     9   13   17   21   25   29  \n",
       "[2,] 2    6    10   14   18   22   26   30  \n",
       "[3,] 3    7    11   15   19   23   27   31  "
      ]
     },
     "metadata": {},
     "output_type": "display_data"
    }
   ],
   "source": [
    "#primeras tres filas de la matriz\n",
    "y[c(1:3), ]"
   ]
  },
  {
   "cell_type": "markdown",
   "id": "27bfb5e7",
   "metadata": {},
   "source": [
    "## Operaciones con matrices\n"
   ]
  },
  {
   "cell_type": "markdown",
   "id": "9fcb52eb",
   "metadata": {},
   "source": [
    "7- Obtener el estimador de la varianza del término de perturbación\n",
    "\n"
   ]
  },
  {
   "cell_type": "code",
   "execution_count": 31,
   "id": "fd6c9b50",
   "metadata": {},
   "outputs": [],
   "source": [
    "#install.packages(\"RcppEigen\")\n",
    "#library(\"RcppEigen\")"
   ]
  },
  {
   "cell_type": "code",
   "execution_count": 32,
   "id": "e8952e6c",
   "metadata": {},
   "outputs": [],
   "source": [
    "#install.packages(\"bootstrap\")\n",
    "#library(bootstrap)"
   ]
  },
  {
   "cell_type": "code",
   "execution_count": 33,
   "id": "fa7759b6",
   "metadata": {},
   "outputs": [],
   "source": [
    "#solución al modelo multivariado\n",
    "set.seed(123)\n",
    "\n",
    "x1 <- runif(15)\n",
    "x2 <- runif(15)\n",
    "x3 <- runif(15)\n",
    "#random.seed(123)\n",
    "e <- rnorm(15)\n",
    " \n",
    "# Poblacional regression (Data Generating Process GDP)\n",
    " \n",
    "Y <- 12 + 3*x1 + 5*x2 + 1*x3 + e\n"
   ]
  },
  {
   "cell_type": "code",
   "execution_count": 34,
   "id": "bcb381b4",
   "metadata": {},
   "outputs": [
    {
     "name": "stdout",
     "output_type": "stream",
     "text": [
      "               x1         x2         x3\n",
      " [1,] 1 0.2875775 0.89982497 0.96302423\n",
      " [2,] 1 0.7883051 0.24608773 0.90229905\n",
      " [3,] 1 0.4089769 0.04205953 0.69070528\n",
      " [4,] 1 0.8830174 0.32792072 0.79546742\n",
      " [5,] 1 0.9404673 0.95450365 0.02461368\n",
      " [6,] 1 0.0455565 0.88953932 0.47779597\n",
      " [7,] 1 0.5281055 0.69280341 0.75845954\n",
      " [8,] 1 0.8924190 0.64050681 0.21640794\n",
      " [9,] 1 0.5514350 0.99426978 0.31818101\n",
      "[10,] 1 0.4566147 0.65570580 0.23162579\n",
      "[11,] 1 0.9568333 0.70853047 0.14280002\n",
      "[12,] 1 0.4533342 0.54406602 0.41454634\n",
      "[13,] 1 0.6775706 0.59414202 0.41372433\n",
      "[14,] 1 0.5726334 0.28915974 0.36884545\n",
      "[15,] 1 0.1029247 0.14711365 0.15244475\n"
     ]
    }
   ],
   "source": [
    "#matriz X\n",
    "X <- cbind(matrix(1,15), x1,x2,x3)\n",
    "print(X)\n"
   ]
  },
  {
   "cell_type": "code",
   "execution_count": 35,
   "id": "f207af82",
   "metadata": {},
   "outputs": [
    {
     "data": {
      "text/html": [
       "<table>\n",
       "<tbody>\n",
       "\t<tr><th scope=row></th><td>10.346849</td></tr>\n",
       "\t<tr><th scope=row>x1</th><td> 4.426510</td></tr>\n",
       "\t<tr><th scope=row>x2</th><td> 4.581780</td></tr>\n",
       "\t<tr><th scope=row>x3</th><td> 2.476723</td></tr>\n",
       "</tbody>\n",
       "</table>\n"
      ],
      "text/latex": [
       "\\begin{tabular}{r|l}\n",
       "\t & 10.346849\\\\\n",
       "\tx1 &  4.426510\\\\\n",
       "\tx2 &  4.581780\\\\\n",
       "\tx3 &  2.476723\\\\\n",
       "\\end{tabular}\n"
      ],
      "text/markdown": [
       "\n",
       "|  | 10.346849 |\n",
       "| x1 |  4.426510 |\n",
       "| x2 |  4.581780 |\n",
       "| x3 |  2.476723 |\n",
       "\n"
      ],
      "text/plain": [
       "   [,1]     \n",
       "   10.346849\n",
       "x1  4.426510\n",
       "x2  4.581780\n",
       "x3  2.476723"
      ]
     },
     "metadata": {},
     "output_type": "display_data"
    }
   ],
   "source": [
    "#matriz de coeficientes\n",
    "beta <- solve(t(X) %*% X) %*% (t(X) %*% Y)\n",
    "beta\n",
    "\n"
   ]
  },
  {
   "cell_type": "code",
   "execution_count": 36,
   "id": "ca7aaf02",
   "metadata": {},
   "outputs": [
    {
     "name": "stdout",
     "output_type": "stream",
     "text": [
      "          [,1]\n",
      " [1,] 18.12776\n",
      " [2,] 17.19855\n",
      " [3,] 14.06058\n",
      " [4,] 17.72815\n",
      " [5,] 18.94412\n",
      " [6,] 15.80755\n",
      " [7,] 17.73728\n",
      " [8,] 17.76779\n",
      " [9,] 18.13135\n",
      "[10,] 15.94603\n",
      "[11,] 18.18229\n",
      "[12,] 15.87304\n",
      "[13,] 17.09303\n",
      "[14,] 15.12001\n",
      "[15,] 11.85405\n"
     ]
    }
   ],
   "source": [
    "#modelo y estimado\n",
    "yhat <- X %*% beta\n",
    "print(yhat)\n"
   ]
  },
  {
   "cell_type": "code",
   "execution_count": 37,
   "id": "1cf45c91",
   "metadata": {},
   "outputs": [
    {
     "name": "stdout",
     "output_type": "stream",
     "text": [
      "              [,1]\n",
      " [1,] -0.888576175\n",
      " [2,] -0.786324755\n",
      " [3,]  1.137961286\n",
      " [4,] -0.789418085\n",
      " [5,] -0.491135066\n",
      " [6,]  0.436098846\n",
      " [7,]  0.754448464\n",
      " [8,]  0.008347888\n",
      " [9,] -0.499041013\n",
      "[10,]  0.334359072\n",
      "[11,]  0.244253353\n",
      "[12,]  1.508570306\n",
      "[13,]  0.172719311\n",
      "[14,]  0.742324508\n",
      "[15,] -1.884587940\n"
     ]
    }
   ],
   "source": [
    "#matriz de los errores estimados\n",
    "e_hat <- Y - yhat\n",
    "print(e_hat)"
   ]
  },
  {
   "cell_type": "code",
   "execution_count": 38,
   "id": "04af948b",
   "metadata": {},
   "outputs": [
    {
     "name": "stdout",
     "output_type": "stream",
     "text": [
      "           [,1]       [,2]     [,3]       [,4]       [,5]      [,6]      [,7]\n",
      "[1,] -0.8885762 -0.7863248 1.137961 -0.7894181 -0.4911351 0.4360988 0.7544485\n",
      "            [,8]      [,9]     [,10]     [,11]   [,12]     [,13]     [,14]\n",
      "[1,] 0.008347888 -0.499041 0.3343591 0.2442534 1.50857 0.1727193 0.7423245\n",
      "         [,15]\n",
      "[1,] -1.884588\n"
     ]
    }
   ],
   "source": [
    "#matriz transpuesta de los errores estimados\n",
    "e_hat_t <- t(e_hat)\n",
    "print(e_hat_t)"
   ]
  },
  {
   "cell_type": "code",
   "execution_count": 39,
   "id": "ebcca288",
   "metadata": {},
   "outputs": [
    {
     "name": "stdout",
     "output_type": "stream",
     "text": [
      "        [,1]\n",
      "[1,] 11.1555\n"
     ]
    }
   ],
   "source": [
    "#suma de los cuadrados de los residuos: SCR\n",
    "SCR <- e_hat_t  %*%  e_hat\n",
    "print(SCR)"
   ]
  },
  {
   "cell_type": "code",
   "execution_count": 40,
   "id": "b2060e17",
   "metadata": {},
   "outputs": [],
   "source": [
    "obs <- 15\n",
    "k <- 5"
   ]
  },
  {
   "cell_type": "code",
   "execution_count": 41,
   "id": "487a8ac0",
   "metadata": {},
   "outputs": [
    {
     "name": "stdout",
     "output_type": "stream",
     "text": [
      "        [,1]\n",
      "[1,] 1.11555\n"
     ]
    }
   ],
   "source": [
    "#estimador de la varianza del termino de perturbación\n",
    "sigma_estimate <- SCR / (15 - 5)\n",
    "print(sigma_estimate)"
   ]
  },
  {
   "cell_type": "markdown",
   "id": "9fbfc8df",
   "metadata": {},
   "source": [
    "8- matriz de varianza y covarianza de los coeficientes\n",
    "\n"
   ]
  },
  {
   "cell_type": "code",
   "execution_count": 42,
   "id": "971dde90",
   "metadata": {},
   "outputs": [
    {
     "name": "stdout",
     "output_type": "stream",
     "text": [
      "        [,1]      [,2]       [,3]      [,4]       [,5]      [,6]      [,7]\n",
      "   1.0000000 1.0000000 1.00000000 1.0000000 1.00000000 1.0000000 1.0000000\n",
      "x1 0.2875775 0.7883051 0.40897692 0.8830174 0.94046728 0.0455565 0.5281055\n",
      "x2 0.8998250 0.2460877 0.04205953 0.3279207 0.95450365 0.8895393 0.6928034\n",
      "x3 0.9630242 0.9022990 0.69070528 0.7954674 0.02461368 0.4777960 0.7584595\n",
      "        [,8]      [,9]     [,10]     [,11]     [,12]     [,13]     [,14]\n",
      "   1.0000000 1.0000000 1.0000000 1.0000000 1.0000000 1.0000000 1.0000000\n",
      "x1 0.8924190 0.5514350 0.4566147 0.9568333 0.4533342 0.6775706 0.5726334\n",
      "x2 0.6405068 0.9942698 0.6557058 0.7085305 0.5440660 0.5941420 0.2891597\n",
      "x3 0.2164079 0.3181810 0.2316258 0.1428000 0.4145463 0.4137243 0.3688455\n",
      "       [,15]\n",
      "   1.0000000\n",
      "x1 0.1029247\n",
      "x2 0.1471136\n",
      "x3 0.1524447\n"
     ]
    }
   ],
   "source": [
    "# matriz X transpuesta\n",
    "X_t <- t(X)\n",
    "print(X_t)"
   ]
  },
  {
   "cell_type": "code",
   "execution_count": 43,
   "id": "ca7a0b43",
   "metadata": {},
   "outputs": [
    {
     "data": {
      "text/html": [
       "<table>\n",
       "<thead><tr><th></th><th scope=col></th><th scope=col>x1</th><th scope=col>x2</th><th scope=col>x3</th></tr></thead>\n",
       "<tbody>\n",
       "\t<tr><th scope=row></th><td>15.000000</td><td>8.545771 </td><td>8.626234 </td><td>6.870941 </td></tr>\n",
       "\t<tr><th scope=row>x1</th><td> 8.545771</td><td>6.044193 </td><td>4.990767 </td><td>3.724728 </td></tr>\n",
       "\t<tr><th scope=row>x2</th><td> 8.626234</td><td>4.990767 </td><td>6.246934 </td><td>3.660933 </td></tr>\n",
       "\t<tr><th scope=row>x3</th><td> 6.870941</td><td>3.724728 </td><td>3.660933 </td><td>4.379974 </td></tr>\n",
       "</tbody>\n",
       "</table>\n"
      ],
      "text/latex": [
       "\\begin{tabular}{r|llll}\n",
       "  &  & x1 & x2 & x3\\\\\n",
       "\\hline\n",
       "\t & 15.000000 & 8.545771  & 8.626234  & 6.870941 \\\\\n",
       "\tx1 &  8.545771 & 6.044193  & 4.990767  & 3.724728 \\\\\n",
       "\tx2 &  8.626234 & 4.990767  & 6.246934  & 3.660933 \\\\\n",
       "\tx3 &  6.870941 & 3.724728  & 3.660933  & 4.379974 \\\\\n",
       "\\end{tabular}\n"
      ],
      "text/markdown": [
       "\n",
       "| <!--/--> |  | x1 | x2 | x3 |\n",
       "|---|---|---|---|---|\n",
       "|  | 15.000000 | 8.545771  | 8.626234  | 6.870941  |\n",
       "| x1 |  8.545771 | 6.044193  | 4.990767  | 3.724728  |\n",
       "| x2 |  8.626234 | 4.990767  | 6.246934  | 3.660933  |\n",
       "| x3 |  6.870941 | 3.724728  | 3.660933  | 4.379974  |\n",
       "\n"
      ],
      "text/plain": [
       "             x1       x2       x3      \n",
       "   15.000000 8.545771 8.626234 6.870941\n",
       "x1  8.545771 6.044193 4.990767 3.724728\n",
       "x2  8.626234 4.990767 6.246934 3.660933\n",
       "x3  6.870941 3.724728 3.660933 4.379974"
      ]
     },
     "metadata": {},
     "output_type": "display_data"
    }
   ],
   "source": [
    "#multiplicar transpuesta por X\n",
    "Xt_X <- X_t %*% X\n",
    "Xt_X"
   ]
  },
  {
   "cell_type": "code",
   "execution_count": 44,
   "id": "aa56a302",
   "metadata": {},
   "outputs": [
    {
     "name": "stdout",
     "output_type": "stream",
     "text": [
      "                       x1          x2         x3\n",
      "    0.9583254 -0.54348504 -0.54681721 -0.5841135\n",
      "x1 -0.5434850  0.87299650 -0.02260722  0.1290744\n",
      "x2 -0.5468172 -0.02260722  0.82179594  0.1901414\n",
      "x3 -0.5841135  0.12907436  0.19014142  0.8759293\n"
     ]
    }
   ],
   "source": [
    "#inversa de la matrix X transpuesta por la matriz X\n",
    "invXt_X <- solve(Xt_X)\n",
    "print(invXt_X)"
   ]
  },
  {
   "cell_type": "code",
   "execution_count": 45,
   "id": "ec377d60",
   "metadata": {},
   "outputs": [
    {
     "data": {
      "text/html": [
       "<table>\n",
       "<thead><tr><th></th><th scope=col></th><th scope=col>x1</th><th scope=col>x2</th><th scope=col>x3</th></tr></thead>\n",
       "<tbody>\n",
       "\t<tr><th scope=row></th><td> 1.0690599 </td><td>-0.60628474</td><td>-0.61000194</td><td>-0.6516078 </td></tr>\n",
       "\t<tr><th scope=row>x1</th><td>-0.6062847 </td><td> 0.97387125</td><td>-0.02521948</td><td> 0.1439889 </td></tr>\n",
       "\t<tr><th scope=row>x2</th><td>-0.6100019 </td><td>-0.02521948</td><td> 0.91675446</td><td> 0.2121123 </td></tr>\n",
       "\t<tr><th scope=row>x3</th><td>-0.6516078 </td><td> 0.14398890</td><td> 0.21211226</td><td> 0.9771429 </td></tr>\n",
       "</tbody>\n",
       "</table>\n"
      ],
      "text/latex": [
       "\\begin{tabular}{r|llll}\n",
       "  &  & x1 & x2 & x3\\\\\n",
       "\\hline\n",
       "\t &  1.0690599  & -0.60628474 & -0.61000194 & -0.6516078 \\\\\n",
       "\tx1 & -0.6062847  &  0.97387125 & -0.02521948 &  0.1439889 \\\\\n",
       "\tx2 & -0.6100019  & -0.02521948 &  0.91675446 &  0.2121123 \\\\\n",
       "\tx3 & -0.6516078  &  0.14398890 &  0.21211226 &  0.9771429 \\\\\n",
       "\\end{tabular}\n"
      ],
      "text/markdown": [
       "\n",
       "| <!--/--> |  | x1 | x2 | x3 |\n",
       "|---|---|---|---|---|\n",
       "|  |  1.0690599  | -0.60628474 | -0.61000194 | -0.6516078  |\n",
       "| x1 | -0.6062847  |  0.97387125 | -0.02521948 |  0.1439889  |\n",
       "| x2 | -0.6100019  | -0.02521948 |  0.91675446 |  0.2121123  |\n",
       "| x3 | -0.6516078  |  0.14398890 |  0.21211226 |  0.9771429  |\n",
       "\n"
      ],
      "text/plain": [
       "              x1          x2          x3        \n",
       "    1.0690599 -0.60628474 -0.61000194 -0.6516078\n",
       "x1 -0.6062847  0.97387125 -0.02521948  0.1439889\n",
       "x2 -0.6100019 -0.02521948  0.91675446  0.2121123\n",
       "x3 -0.6516078  0.14398890  0.21211226  0.9771429"
      ]
     },
     "metadata": {},
     "output_type": "display_data"
    }
   ],
   "source": [
    "#matriz de var-cov\n",
    "var_cov <- 1.11555 * invXt_X\n",
    "var_cov"
   ]
  },
  {
   "cell_type": "markdown",
   "id": "afce37e9",
   "metadata": {},
   "source": [
    "9 - Matriz generadora de residuos\n"
   ]
  },
  {
   "cell_type": "markdown",
   "id": "1d2536be",
   "metadata": {},
   "source": [
    "### Matriz generadora de residuos\n"
   ]
  },
  {
   "cell_type": "markdown",
   "id": "09b3a794",
   "metadata": {},
   "source": [
    " 𝑀=𝐼−𝑋(𝑋′𝑋)^−1𝑋'"
   ]
  },
  {
   "cell_type": "code",
   "execution_count": 46,
   "id": "4d285dfc",
   "metadata": {},
   "outputs": [],
   "source": [
    "#creación de la matriz identidad\n",
    "I <- diag(15)\n"
   ]
  },
  {
   "cell_type": "code",
   "execution_count": 47,
   "id": "31b85ccb",
   "metadata": {},
   "outputs": [],
   "source": [
    "# multiplicacion de la matriz: parte 1\n",
    "matrizX <- X %*% invXt_X\n"
   ]
  },
  {
   "cell_type": "code",
   "execution_count": 48,
   "id": "5af0b7e6",
   "metadata": {},
   "outputs": [],
   "source": [
    "#multiplicación de la matriz: parte 2\n",
    "matrizX1 <- matrizX %*% X_t"
   ]
  },
  {
   "cell_type": "code",
   "execution_count": 49,
   "id": "b4995ed5",
   "metadata": {},
   "outputs": [
    {
     "name": "stdout",
     "output_type": "stream",
     "text": [
      "              [,1]        [,2]         [,3]        [,4]         [,5]\n",
      " [1,]  0.524101330 -0.11172601 -0.008928397 -0.07413468  0.065800416\n",
      " [2,] -0.111726014  0.65707113 -0.209839442 -0.31361905  0.064755870\n",
      " [3,] -0.008928397 -0.20983944  0.690570427 -0.15987948  0.153201084\n",
      " [4,] -0.074134678 -0.31361905 -0.159879476  0.69864641 -0.005614740\n",
      " [5,]  0.065800416  0.06475587  0.153201084 -0.00561474  0.640847796\n",
      " [6,] -0.290802263  0.12032070  0.002914380  0.14267468  0.004789907\n",
      " [7,] -0.258457457 -0.14013864 -0.049360875 -0.12285840 -0.003895804\n",
      " [8,]  0.083001894 -0.05093050  0.010303252 -0.09139548 -0.227501293\n",
      " [9,] -0.159489343  0.06763137  0.106515902  0.04087621 -0.190896413\n",
      "[10,] -0.011863804  0.05796396 -0.027826573  0.04703752 -0.113975311\n",
      "[11,]  0.104445467 -0.02829885  0.049184802 -0.08097243 -0.278341274\n",
      "[12,] -0.056798521 -0.02739908 -0.086648205 -0.02106985 -0.040952339\n",
      "[13,] -0.032643194 -0.07486643 -0.045012247 -0.08586824 -0.110341204\n",
      "[14,]  0.081185502 -0.09032503 -0.170650398 -0.08358218 -0.027398053\n",
      "[15,]  0.146309063  0.07940000 -0.254544234  0.10975970  0.069521359\n",
      "              [,6]         [,7]         [,8]        [,9]       [,10]\n",
      " [1,] -0.290802263 -0.258457457  0.083001894 -0.15948934 -0.01186380\n",
      " [2,]  0.120320702 -0.140138639 -0.050930501  0.06763137  0.05796396\n",
      " [3,]  0.002914380 -0.049360875  0.010303252  0.10651590 -0.02782657\n",
      " [4,]  0.142674680 -0.122858396 -0.091395477  0.04087621  0.04703752\n",
      " [5,]  0.004789907 -0.003895804 -0.227501293 -0.19089641 -0.11397531\n",
      " [6,]  0.604736502 -0.120986055  0.066819358 -0.18866489 -0.13889719\n",
      " [7,] -0.120986055  0.830948128 -0.009028041 -0.09237511 -0.01573788\n",
      " [8,]  0.066819358 -0.009028041  0.814851722 -0.08437461 -0.07422272\n",
      " [9,] -0.188664894 -0.092375112 -0.084374605  0.79278959 -0.10747929\n",
      "[10,] -0.138897193 -0.015737881 -0.074222723 -0.10747929  0.87183053\n",
      "[11,]  0.078642106  0.001076122 -0.212825055 -0.10655086 -0.08216041\n",
      "[12,] -0.111544816 -0.049699758 -0.044522817 -0.06382213 -0.08957241\n",
      "[13,] -0.021627371 -0.057172999 -0.100523740 -0.07004590 -0.06192135\n",
      "[14,]  0.013870032  0.002588393 -0.081302422  0.02043905 -0.07655386\n",
      "[15,] -0.162245074  0.085098375  0.001650448  0.03544642 -0.17662121\n",
      "             [,11]       [,12]       [,13]        [,14]        [,15]\n",
      " [1,]  0.104445467 -0.05679852 -0.03264319  0.081185502  0.146309063\n",
      " [2,] -0.028298855 -0.02739908 -0.07486643 -0.090325026  0.079400000\n",
      " [3,]  0.049184802 -0.08664820 -0.04501225 -0.170650398 -0.254544234\n",
      " [4,] -0.080972433 -0.02106985 -0.08586824 -0.083582176  0.109759695\n",
      " [5,] -0.278341274 -0.04095234 -0.11034120 -0.027398053  0.069521359\n",
      " [6,]  0.078642106 -0.11154482 -0.02162737  0.013870032 -0.162245074\n",
      " [7,]  0.001076122 -0.04969976 -0.05717300  0.002588393  0.085098375\n",
      " [8,] -0.212825055 -0.04452282 -0.10052374 -0.081302422  0.001650448\n",
      " [9,] -0.106550864 -0.06382213 -0.07004590  0.020439051  0.035446423\n",
      "[10,] -0.082160407 -0.08957241 -0.06192135 -0.076553859 -0.176621208\n",
      "[11,]  0.750653614 -0.03988937 -0.10808568 -0.073725372  0.026847196\n",
      "[12,] -0.039889369  0.91740163 -0.05720261 -0.080524627 -0.147755090\n",
      "[13,] -0.108085680 -0.05720261  0.92280675 -0.067452015 -0.030043775\n",
      "[14,] -0.073725372 -0.08052463 -0.06745202  0.849499298 -0.216068329\n",
      "[15,]  0.026847196 -0.14775509 -0.03004377 -0.216068329  0.433245149\n"
     ]
    }
   ],
   "source": [
    "M <- I - matrizX1\n",
    "print(M)"
   ]
  }
 ],
 "metadata": {
  "kernelspec": {
   "display_name": "R",
   "language": "R",
   "name": "ir"
  },
  "language_info": {
   "codemirror_mode": "r",
   "file_extension": ".r",
   "mimetype": "text/x-r-source",
   "name": "R",
   "pygments_lexer": "r",
   "version": "3.6.1"
  }
 },
 "nbformat": 4,
 "nbformat_minor": 5
}
