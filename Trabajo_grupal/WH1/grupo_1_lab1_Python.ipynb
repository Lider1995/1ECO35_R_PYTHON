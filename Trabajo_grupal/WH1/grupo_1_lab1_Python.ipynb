{
 "cells": [
  {
   "cell_type": "markdown",
   "id": "815e2a5a",
   "metadata": {},
   "source": [
    "## Trabajo Grupal 1"
   ]
  },
  {
   "cell_type": "markdown",
   "id": "74b3d195",
   "metadata": {},
   "source": [
    "### Grupo 1"
   ]
  },
  {
   "cell_type": "code",
   "execution_count": 8,
   "id": "da6cc1a2",
   "metadata": {},
   "outputs": [
    {
     "name": "stdout",
     "output_type": "stream",
     "text": [
      "Primer trabajo grupal: Laboratorio de R y Python ciclo 2022-1\n"
     ]
    }
   ],
   "source": [
    "c1=\"Primer trabajo grupal\"\n",
    "c2=\"2022-1\"\n",
    "print(f'{c1}: Laboratorio de R y Python ciclo {c2}')"
   ]
  },
  {
   "cell_type": "code",
   "execution_count": 9,
   "id": "c362c59d",
   "metadata": {},
   "outputs": [
    {
     "name": "stdout",
     "output_type": "stream",
     "text": [
      "25 x 30 es 750\n"
     ]
    }
   ],
   "source": [
    "d1=\"25\"\n",
    "d2=\"30\"\n",
    "print(f'{d1} x {d2} es 750')"
   ]
  },
  {
   "cell_type": "markdown",
   "id": "1f1d2db9",
   "metadata": {},
   "source": [
    "### Diccionarios y listas"
   ]
  },
  {
   "cell_type": "code",
   "execution_count": 12,
   "id": "b583c700",
   "metadata": {},
   "outputs": [],
   "source": [
    "dis1=[\"Breña\",\"Pueblo libre\",\"San Miguel\",\"La Punta\",\"Bellavista\"]"
   ]
  },
  {
   "cell_type": "code",
   "execution_count": 13,
   "id": "54ad8582",
   "metadata": {},
   "outputs": [
    {
     "data": {
      "text/plain": [
       "'Breña'"
      ]
     },
     "execution_count": 13,
     "metadata": {},
     "output_type": "execute_result"
    }
   ],
   "source": [
    "dis1[0]"
   ]
  },
  {
   "cell_type": "code",
   "execution_count": 14,
   "id": "4fa7e932",
   "metadata": {},
   "outputs": [
    {
     "data": {
      "text/plain": [
       "'Bellavista'"
      ]
     },
     "execution_count": 14,
     "metadata": {},
     "output_type": "execute_result"
    }
   ],
   "source": [
    "dis1[-1]"
   ]
  },
  {
   "cell_type": "code",
   "execution_count": 15,
   "id": "773bc34c",
   "metadata": {},
   "outputs": [],
   "source": [
    "dic1={\"Breña\":{\"Population\":\"93111\",\"Poverty\":\"5.4%\"},\"Pueblo Libre\":{\"Population\": \"94010\",\n",
    "\"Poverty\":\"1.2%\"},\"San Miguel\":{\"Population\":\"173309\",\"Poverty\":\"2.1%\"},\"La Punta\":{\"Population\":\"3935\",\"Poverty\":\"3.7%\"},\n",
    "\"Bellavista\":{\"Population\":\"16370\",\"Poverty\":\"61.8%\"}}"
   ]
  },
  {
   "cell_type": "code",
   "execution_count": 21,
   "id": "4896839e",
   "metadata": {},
   "outputs": [
    {
     "data": {
      "text/plain": [
       "'5.4%'"
      ]
     },
     "execution_count": 21,
     "metadata": {},
     "output_type": "execute_result"
    }
   ],
   "source": [
    "dic1['Breña']['Poverty']"
   ]
  },
  {
   "cell_type": "code",
   "execution_count": 17,
   "id": "0c9ddf89",
   "metadata": {},
   "outputs": [
    {
     "data": {
      "text/plain": [
       "'93111'"
      ]
     },
     "execution_count": 17,
     "metadata": {},
     "output_type": "execute_result"
    }
   ],
   "source": [
    "dic1['Breña']['Population']"
   ]
  },
  {
   "cell_type": "code",
   "execution_count": 18,
   "id": "7f694ccd",
   "metadata": {},
   "outputs": [
    {
     "data": {
      "text/plain": [
       "'1.2%'"
      ]
     },
     "execution_count": 18,
     "metadata": {},
     "output_type": "execute_result"
    }
   ],
   "source": [
    "dic1['Pueblo Libre']['Poverty']"
   ]
  },
  {
   "cell_type": "code",
   "execution_count": 19,
   "id": "d95a2aaa",
   "metadata": {},
   "outputs": [
    {
     "data": {
      "text/plain": [
       "'94010'"
      ]
     },
     "execution_count": 19,
     "metadata": {},
     "output_type": "execute_result"
    }
   ],
   "source": [
    "dic1['Pueblo Libre']['Population']"
   ]
  },
  {
   "cell_type": "code",
   "execution_count": 22,
   "id": "6d251d5e",
   "metadata": {},
   "outputs": [
    {
     "data": {
      "text/plain": [
       "'61.8%'"
      ]
     },
     "execution_count": 22,
     "metadata": {},
     "output_type": "execute_result"
    }
   ],
   "source": [
    "dic1['Bellavista']['Poverty']"
   ]
  },
  {
   "cell_type": "code",
   "execution_count": 23,
   "id": "d85840ba",
   "metadata": {},
   "outputs": [
    {
     "data": {
      "text/plain": [
       "'16370'"
      ]
     },
     "execution_count": 23,
     "metadata": {},
     "output_type": "execute_result"
    }
   ],
   "source": [
    "dic1['Bellavista']['Population']"
   ]
  },
  {
   "cell_type": "markdown",
   "id": "87aa2af3",
   "metadata": {},
   "source": [
    "### Matrices"
   ]
  },
  {
   "cell_type": "code",
   "execution_count": 29,
   "id": "87016e1c",
   "metadata": {},
   "outputs": [],
   "source": [
    "import numpy as np"
   ]
  },
  {
   "cell_type": "code",
   "execution_count": 53,
   "id": "918744d4",
   "metadata": {},
   "outputs": [
    {
     "name": "stdout",
     "output_type": "stream",
     "text": [
      "[[1 2 3 4]\n",
      " [5 6 7 8]]\n"
     ]
    }
   ],
   "source": [
    "a=np.array([[1,2,3,4],[5,6,7,8]])\n",
    "print (a)"
   ]
  },
  {
   "cell_type": "code",
   "execution_count": 54,
   "id": "b74addcd",
   "metadata": {},
   "outputs": [
    {
     "name": "stdout",
     "output_type": "stream",
     "text": [
      "[[20 21 22 23]\n",
      " [24 25 26 27]]\n"
     ]
    }
   ],
   "source": [
    "b=np.array([[20,21,22,23],[24,25,26,27]])\n",
    "print (b)"
   ]
  },
  {
   "cell_type": "code",
   "execution_count": 55,
   "id": "9edac20f",
   "metadata": {},
   "outputs": [
    {
     "name": "stdout",
     "output_type": "stream",
     "text": [
      "[[ 1  2  3  4]\n",
      " [ 5  6  7  8]\n",
      " [20 21 22 23]\n",
      " [24 25 26 27]]\n"
     ]
    }
   ],
   "source": [
    "con1 = np.concatenate((a,b), axis = 0)\n",
    "print (con1)"
   ]
  },
  {
   "cell_type": "code",
   "execution_count": 56,
   "id": "7600c85b",
   "metadata": {},
   "outputs": [
    {
     "name": "stdout",
     "output_type": "stream",
     "text": [
      "[[ 1  2  3  4 20 21 22 23]\n",
      " [ 5  6  7  8 24 25 26 27]]\n"
     ]
    }
   ],
   "source": [
    "con2 = np.concatenate((a,b), axis = 1)\n",
    "print (con2)"
   ]
  },
  {
   "cell_type": "code",
   "execution_count": 57,
   "id": "80a4ec41",
   "metadata": {},
   "outputs": [
    {
     "name": "stdout",
     "output_type": "stream",
     "text": [
      "[[23  1 76 23 54  6  9 40]\n",
      " [48 58 67 29 45 21 18 28]\n",
      " [28 67 84 14 74 25 25 75]\n",
      " [86 11 22 33 44 55 66 77]]\n"
     ]
    }
   ],
   "source": [
    "c=np.array([[23,1,76,23,54,6,9,40],[48,58,67,29,45,21,18,28],[28,67,84,14,74,25,25,75],[86,11,22,33,44,55,66,77]])\n",
    "print (c)"
   ]
  },
  {
   "cell_type": "code",
   "execution_count": 58,
   "id": "09a2559b",
   "metadata": {},
   "outputs": [
    {
     "data": {
      "text/plain": [
       "array([[ 9, 40],\n",
       "       [18, 28],\n",
       "       [25, 75],\n",
       "       [66, 77]])"
      ]
     },
     "execution_count": 58,
     "metadata": {},
     "output_type": "execute_result"
    }
   ],
   "source": [
    "c[:,6:8]"
   ]
  },
  {
   "cell_type": "code",
   "execution_count": 59,
   "id": "4d958eb7",
   "metadata": {},
   "outputs": [
    {
     "data": {
      "text/plain": [
       "array([[23,  1, 76, 23, 54,  6,  9, 40],\n",
       "       [48, 58, 67, 29, 45, 21, 18, 28],\n",
       "       [28, 67, 84, 14, 74, 25, 25, 75]])"
      ]
     },
     "execution_count": 59,
     "metadata": {},
     "output_type": "execute_result"
    }
   ],
   "source": [
    "c[0:3]"
   ]
  },
  {
   "cell_type": "markdown",
   "id": "491de9aa",
   "metadata": {},
   "source": [
    "### Operaciones con matrices"
   ]
  },
  {
   "cell_type": "code",
   "execution_count": 60,
   "id": "7deaea62",
   "metadata": {},
   "outputs": [],
   "source": [
    "import random"
   ]
  },
  {
   "cell_type": "code",
   "execution_count": 62,
   "id": "e556279b",
   "metadata": {},
   "outputs": [],
   "source": [
    "random.seed(234)\n",
    "x1 = np.random.rand(100)\n",
    "x2 = np.random.rand(100)\n",
    "x3 = np.random.rand(100)\n",
    "e = np.random.rand(0,1,100)\n",
    "\n",
    "# Poblacional regression (Data Generating Process GDP)\n",
    "\n",
    "Y = 13 + 5*x1 + 2*x2 + 5*x3 + e"
   ]
  },
  {
   "cell_type": "code",
   "execution_count": 63,
   "id": "8b6bc113",
   "metadata": {},
   "outputs": [
    {
     "data": {
      "text/plain": [
       "array([[1.        , 0.99639777, 0.3566819 , 0.53581356],\n",
       "       [1.        , 0.82497946, 0.64879125, 0.98306422],\n",
       "       [1.        , 0.49852651, 0.87325053, 0.61763905],\n",
       "       [1.        , 0.99437223, 0.78220036, 0.99676701],\n",
       "       [1.        , 0.66670311, 0.53548154, 0.52234961],\n",
       "       [1.        , 0.14557857, 0.37905009, 0.57501906],\n",
       "       [1.        , 0.46852307, 0.33675166, 0.11553185],\n",
       "       [1.        , 0.39596529, 0.96080764, 0.57843848],\n",
       "       [1.        , 0.11749962, 0.91958884, 0.72023991],\n",
       "       [1.        , 0.73457518, 0.78268027, 0.41050835],\n",
       "       [1.        , 0.60842076, 0.27246335, 0.64502692],\n",
       "       [1.        , 0.03605575, 0.67233956, 0.79770643],\n",
       "       [1.        , 0.96768522, 0.8418216 , 0.15553266],\n",
       "       [1.        , 0.25401698, 0.40422062, 0.18945242],\n",
       "       [1.        , 0.38767022, 0.95696082, 0.43105412],\n",
       "       [1.        , 0.64985114, 0.70761999, 0.64923851],\n",
       "       [1.        , 0.88779678, 0.56882521, 0.39614911],\n",
       "       [1.        , 0.48028278, 0.21144318, 0.39424348],\n",
       "       [1.        , 0.93131323, 0.43724247, 0.94791425],\n",
       "       [1.        , 0.59563759, 0.57113994, 0.70113689],\n",
       "       [1.        , 0.32111233, 0.37366933, 0.04166396],\n",
       "       [1.        , 0.97722086, 0.67679667, 0.69765773],\n",
       "       [1.        , 0.43238669, 0.61631031, 0.36616039],\n",
       "       [1.        , 0.55826916, 0.37866114, 0.18119399],\n",
       "       [1.        , 0.19288775, 0.18449298, 0.67658284],\n",
       "       [1.        , 0.59144476, 0.05785442, 0.98488559],\n",
       "       [1.        , 0.40138741, 0.38477636, 0.91449412],\n",
       "       [1.        , 0.02325687, 0.39439569, 0.54951942],\n",
       "       [1.        , 0.28178251, 0.49759912, 0.04774335],\n",
       "       [1.        , 0.31400857, 0.71839802, 0.88885387],\n",
       "       [1.        , 0.30323619, 0.43746392, 0.15311067],\n",
       "       [1.        , 0.90434221, 0.81016421, 0.29735228],\n",
       "       [1.        , 0.80599144, 0.34724184, 0.60131649],\n",
       "       [1.        , 0.55433548, 0.30200138, 0.38075698],\n",
       "       [1.        , 0.18813902, 0.49455563, 0.29593715],\n",
       "       [1.        , 0.40258617, 0.4137284 , 0.82485855],\n",
       "       [1.        , 0.65257662, 0.09254269, 0.74743929],\n",
       "       [1.        , 0.50020821, 0.62894021, 0.56306902],\n",
       "       [1.        , 0.51800675, 0.88207421, 0.36386588],\n",
       "       [1.        , 0.75197565, 0.18011183, 0.14564287],\n",
       "       [1.        , 0.73293959, 0.60852322, 0.20676062],\n",
       "       [1.        , 0.16731959, 0.66900449, 0.50486971],\n",
       "       [1.        , 0.96368793, 0.92212117, 0.14423946],\n",
       "       [1.        , 0.76265236, 0.73204545, 0.73061917],\n",
       "       [1.        , 0.07702784, 0.91731141, 0.50351566],\n",
       "       [1.        , 0.83192328, 0.52311897, 0.93522797],\n",
       "       [1.        , 0.19576736, 0.33713888, 0.52848017],\n",
       "       [1.        , 0.68104711, 0.48677867, 0.58271466],\n",
       "       [1.        , 0.35748145, 0.79479971, 0.66820424],\n",
       "       [1.        , 0.74980196, 0.06113401, 0.35153745],\n",
       "       [1.        , 0.51123141, 0.60178712, 0.55452676],\n",
       "       [1.        , 0.03364254, 0.23395108, 0.05158862],\n",
       "       [1.        , 0.43768695, 0.13508356, 0.45525155],\n",
       "       [1.        , 0.29222434, 0.71242346, 0.67287954],\n",
       "       [1.        , 0.00895543, 0.10017268, 0.81051864],\n",
       "       [1.        , 0.72050249, 0.97503298, 0.177115  ],\n",
       "       [1.        , 0.02235242, 0.27030133, 0.42399886],\n",
       "       [1.        , 0.44333947, 0.51208473, 0.94949889],\n",
       "       [1.        , 0.15292479, 0.57174937, 0.35489713],\n",
       "       [1.        , 0.23138437, 0.58562718, 0.45225187],\n",
       "       [1.        , 0.56556616, 0.09863709, 0.42826823],\n",
       "       [1.        , 0.40246996, 0.56423781, 0.10661131],\n",
       "       [1.        , 0.44698192, 0.22793218, 0.39792332],\n",
       "       [1.        , 0.64206435, 0.50527273, 0.6927267 ],\n",
       "       [1.        , 0.28698982, 0.08823086, 0.71431088],\n",
       "       [1.        , 0.47012783, 0.03986657, 0.33714587],\n",
       "       [1.        , 0.70055601, 0.88062682, 0.08523263],\n",
       "       [1.        , 0.06770607, 0.38211179, 0.62667927],\n",
       "       [1.        , 0.84787028, 0.49671952, 0.49940061],\n",
       "       [1.        , 0.53641089, 0.86183388, 0.64503158],\n",
       "       [1.        , 0.06767649, 0.20253491, 0.92172785],\n",
       "       [1.        , 0.81041252, 0.34722921, 0.90711909],\n",
       "       [1.        , 0.43481593, 0.83946128, 0.78198479],\n",
       "       [1.        , 0.38297275, 0.42367121, 0.58274055],\n",
       "       [1.        , 0.09477143, 0.3803369 , 0.98016762],\n",
       "       [1.        , 0.25770334, 0.83444891, 0.72672738],\n",
       "       [1.        , 0.59366501, 0.73964392, 0.79179683],\n",
       "       [1.        , 0.25787249, 0.3230419 , 0.66279166],\n",
       "       [1.        , 0.5742513 , 0.74718622, 0.60120727],\n",
       "       [1.        , 0.11479961, 0.95773729, 0.89752218],\n",
       "       [1.        , 0.74549775, 0.5746829 , 0.38167107],\n",
       "       [1.        , 0.76787839, 0.78443375, 0.04015117],\n",
       "       [1.        , 0.43240481, 0.36114468, 0.47520472],\n",
       "       [1.        , 0.94472297, 0.12080139, 0.831953  ],\n",
       "       [1.        , 0.98160524, 0.60349189, 0.98010387],\n",
       "       [1.        , 0.76280017, 0.37763732, 0.56875534],\n",
       "       [1.        , 0.66590647, 0.42736386, 0.24693002],\n",
       "       [1.        , 0.23356444, 0.69040407, 0.8657731 ],\n",
       "       [1.        , 0.30331043, 0.81750446, 0.76547166],\n",
       "       [1.        , 0.49224077, 0.8211818 , 0.9585058 ],\n",
       "       [1.        , 0.80657597, 0.80943918, 0.7762309 ],\n",
       "       [1.        , 0.68130148, 0.74636821, 0.03282097],\n",
       "       [1.        , 0.98471556, 0.87586152, 0.27802242],\n",
       "       [1.        , 0.63886364, 0.79958406, 0.68632965],\n",
       "       [1.        , 0.51022398, 0.02882745, 0.58632321],\n",
       "       [1.        , 0.37107998, 0.93020567, 0.17344312],\n",
       "       [1.        , 0.2893769 , 0.67882726, 0.48695529],\n",
       "       [1.        , 0.40939579, 0.89488517, 0.94379057],\n",
       "       [1.        , 0.47238491, 0.47561375, 0.94205965],\n",
       "       [1.        , 0.90574917, 0.91173731, 0.36555528]])"
      ]
     },
     "execution_count": 63,
     "metadata": {},
     "output_type": "execute_result"
    }
   ],
   "source": [
    "X = np.column_stack((np.ones(100),x1,x2,x3))\n",
    "X"
   ]
  },
  {
   "cell_type": "code",
   "execution_count": null,
   "id": "61d77ea0",
   "metadata": {},
   "outputs": [],
   "source": []
  },
  {
   "cell_type": "code",
   "execution_count": null,
   "id": "668ca40c",
   "metadata": {},
   "outputs": [],
   "source": []
  },
  {
   "cell_type": "code",
   "execution_count": null,
   "id": "16d95ac6",
   "metadata": {},
   "outputs": [],
   "source": []
  },
  {
   "cell_type": "code",
   "execution_count": null,
   "id": "f024c24d",
   "metadata": {},
   "outputs": [],
   "source": []
  }
 ],
 "metadata": {
  "kernelspec": {
   "display_name": "Python 3 (ipykernel)",
   "language": "python",
   "name": "python3"
  },
  "language_info": {
   "codemirror_mode": {
    "name": "ipython",
    "version": 3
   },
   "file_extension": ".py",
   "mimetype": "text/x-python",
   "name": "python",
   "nbconvert_exporter": "python",
   "pygments_lexer": "ipython3",
   "version": "3.9.7"
  }
 },
 "nbformat": 4,
 "nbformat_minor": 5
}
