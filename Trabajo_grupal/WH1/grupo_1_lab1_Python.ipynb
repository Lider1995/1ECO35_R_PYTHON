{
 "cells": [
  {
   "cell_type": "markdown",
   "id": "385101a8",
   "metadata": {},
   "source": [
    "## Trabajo Grupal 1"
   ]
  },
  {
   "cell_type": "markdown",
   "id": "e5e4373f",
   "metadata": {},
   "source": [
    "### Grupo 1"
   ]
  },
  {
   "cell_type": "code",
   "execution_count": 8,
   "id": "6463ff58",
   "metadata": {},
   "outputs": [
    {
     "name": "stdout",
     "output_type": "stream",
     "text": [
      "Primer trabajo grupal: Laboratorio de R y Python ciclo 2022-1\n"
     ]
    }
   ],
   "source": [
    "c1=\"Primer trabajo grupal\"\n",
    "c2=\"2022-1\"\n",
    "print(f'{c1}: Laboratorio de R y Python ciclo {c2}')"
   ]
  },
  {
   "cell_type": "code",
   "execution_count": 9,
   "id": "8301f348",
   "metadata": {},
   "outputs": [
    {
     "name": "stdout",
     "output_type": "stream",
     "text": [
      "25 x 30 es 750\n"
     ]
    }
   ],
   "source": [
    "d1=\"25\"\n",
    "d2=\"30\"\n",
    "print(f'{d1} x {d2} es 750')"
   ]
  },
  {
   "cell_type": "code",
   "execution_count": null,
   "id": "04019fad",
   "metadata": {},
   "outputs": [],
   "source": []
  },
  {
   "cell_type": "code",
   "execution_count": null,
   "id": "a28bd255",
   "metadata": {},
   "outputs": [],
   "source": []
  },
  {
   "cell_type": "code",
   "execution_count": null,
   "id": "4325b92d",
   "metadata": {},
   "outputs": [],
   "source": []
  },
  {
   "cell_type": "code",
   "execution_count": null,
   "id": "0099cb3c",
   "metadata": {},
   "outputs": [],
   "source": []
  },
  {
   "cell_type": "code",
   "execution_count": null,
   "id": "a684ed72",
   "metadata": {},
   "outputs": [],
   "source": []
  }
 ],
 "metadata": {
  "kernelspec": {
   "display_name": "Python 3 (ipykernel)",
   "language": "python",
   "name": "python3"
  },
  "language_info": {
   "codemirror_mode": {
    "name": "ipython",
    "version": 3
   },
   "file_extension": ".py",
   "mimetype": "text/x-python",
   "name": "python",
   "nbconvert_exporter": "python",
   "pygments_lexer": "ipython3",
   "version": "3.9.7"
  }
 },
 "nbformat": 4,
 "nbformat_minor": 5
}
