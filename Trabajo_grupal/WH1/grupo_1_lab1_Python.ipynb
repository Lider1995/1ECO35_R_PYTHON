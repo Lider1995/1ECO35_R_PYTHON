{
 "cells": [
  {
   "cell_type": "markdown",
   "id": "815e2a5a",
   "metadata": {},
   "source": [
    "## Trabajo Grupal 1"
   ]
  },
  {
   "cell_type": "markdown",
   "id": "74b3d195",
   "metadata": {},
   "source": [
    "### Grupo 1"
   ]
  },
  {
   "cell_type": "code",
   "execution_count": 1,
   "id": "da6cc1a2",
   "metadata": {},
   "outputs": [
    {
     "name": "stdout",
     "output_type": "stream",
     "text": [
      "Primer trabajo grupal: Laboratorio de R y Python ciclo 2022-1\n"
     ]
    }
   ],
   "source": [
    "c1=\"Primer trabajo grupal\"\n",
    "c2=\"2022-1\"\n",
    "print(f'{c1}: Laboratorio de R y Python ciclo {c2}')"
   ]
  },
  {
   "cell_type": "code",
   "execution_count": 2,
   "id": "c362c59d",
   "metadata": {},
   "outputs": [
    {
     "name": "stdout",
     "output_type": "stream",
     "text": [
      "25 x 30 es 750\n"
     ]
    }
   ],
   "source": [
    "d1=\"25\"\n",
    "d2=\"30\"\n",
    "print(f'{d1} x {d2} es 750')"
   ]
  },
  {
   "cell_type": "markdown",
   "id": "1f1d2db9",
   "metadata": {},
   "source": [
    "### Diccionarios y listas"
   ]
  },
  {
   "cell_type": "code",
   "execution_count": 3,
   "id": "b583c700",
   "metadata": {},
   "outputs": [],
   "source": [
    "dis1=[\"Breña\",\"Pueblo libre\",\"San Miguel\",\"La Punta\",\"Bellavista\"]"
   ]
  },
  {
   "cell_type": "code",
   "execution_count": 4,
   "id": "54ad8582",
   "metadata": {},
   "outputs": [
    {
     "data": {
      "text/plain": [
       "'Breña'"
      ]
     },
     "execution_count": 4,
     "metadata": {},
     "output_type": "execute_result"
    }
   ],
   "source": [
    "dis1[0]"
   ]
  },
  {
   "cell_type": "code",
   "execution_count": 5,
   "id": "4fa7e932",
   "metadata": {},
   "outputs": [
    {
     "data": {
      "text/plain": [
       "'Bellavista'"
      ]
     },
     "execution_count": 5,
     "metadata": {},
     "output_type": "execute_result"
    }
   ],
   "source": [
    "dis1[-1]"
   ]
  },
  {
   "cell_type": "code",
   "execution_count": 6,
   "id": "773bc34c",
   "metadata": {},
   "outputs": [],
   "source": [
    "dic1={\"Breña\":{\"Population\":\"93111\",\"Poverty\":\"5.4%\"},\"Pueblo Libre\":{\"Population\": \"94010\",\n",
    "\"Poverty\":\"1.2%\"},\"San Miguel\":{\"Population\":\"173309\",\"Poverty\":\"2.1%\"},\"La Punta\":{\"Population\":\"3935\",\"Poverty\":\"3.7%\"},\n",
    "\"Bellavista\":{\"Population\":\"16370\",\"Poverty\":\"6.3%\"}}"
   ]
  },
  {
   "cell_type": "code",
   "execution_count": 7,
   "id": "4896839e",
   "metadata": {},
   "outputs": [
    {
     "data": {
      "text/plain": [
       "'5.4%'"
      ]
     },
     "execution_count": 7,
     "metadata": {},
     "output_type": "execute_result"
    }
   ],
   "source": [
    "dic1['Breña']['Poverty']"
   ]
  },
  {
   "cell_type": "code",
   "execution_count": 8,
   "id": "0c9ddf89",
   "metadata": {},
   "outputs": [
    {
     "data": {
      "text/plain": [
       "'93111'"
      ]
     },
     "execution_count": 8,
     "metadata": {},
     "output_type": "execute_result"
    }
   ],
   "source": [
    "dic1['Breña']['Population']"
   ]
  },
  {
   "cell_type": "code",
   "execution_count": 9,
   "id": "7f694ccd",
   "metadata": {},
   "outputs": [
    {
     "data": {
      "text/plain": [
       "'1.2%'"
      ]
     },
     "execution_count": 9,
     "metadata": {},
     "output_type": "execute_result"
    }
   ],
   "source": [
    "dic1['Pueblo Libre']['Poverty']"
   ]
  },
  {
   "cell_type": "code",
   "execution_count": 10,
   "id": "d95a2aaa",
   "metadata": {},
   "outputs": [
    {
     "data": {
      "text/plain": [
       "'94010'"
      ]
     },
     "execution_count": 10,
     "metadata": {},
     "output_type": "execute_result"
    }
   ],
   "source": [
    "dic1['Pueblo Libre']['Population']"
   ]
  },
  {
   "cell_type": "code",
   "execution_count": 11,
   "id": "6d251d5e",
   "metadata": {},
   "outputs": [
    {
     "data": {
      "text/plain": [
       "'6.3%'"
      ]
     },
     "execution_count": 11,
     "metadata": {},
     "output_type": "execute_result"
    }
   ],
   "source": [
    "dic1['Bellavista']['Poverty']"
   ]
  },
  {
   "cell_type": "code",
   "execution_count": 12,
   "id": "d85840ba",
   "metadata": {},
   "outputs": [
    {
     "data": {
      "text/plain": [
       "'16370'"
      ]
     },
     "execution_count": 12,
     "metadata": {},
     "output_type": "execute_result"
    }
   ],
   "source": [
    "dic1['Bellavista']['Population']"
   ]
  },
  {
   "cell_type": "markdown",
   "id": "87aa2af3",
   "metadata": {},
   "source": [
    "### Matrices"
   ]
  },
  {
   "cell_type": "code",
   "execution_count": 13,
   "id": "87016e1c",
   "metadata": {},
   "outputs": [],
   "source": [
    "import numpy as np"
   ]
  },
  {
   "cell_type": "code",
   "execution_count": 14,
   "id": "918744d4",
   "metadata": {},
   "outputs": [
    {
     "name": "stdout",
     "output_type": "stream",
     "text": [
      "[[1 2 3 4]\n",
      " [5 6 7 8]]\n"
     ]
    }
   ],
   "source": [
    "a=np.array([[1,2,3,4],[5,6,7,8]])\n",
    "print (a)"
   ]
  },
  {
   "cell_type": "code",
   "execution_count": 15,
   "id": "b74addcd",
   "metadata": {},
   "outputs": [
    {
     "name": "stdout",
     "output_type": "stream",
     "text": [
      "[[20 21 22 23]\n",
      " [24 25 26 27]]\n"
     ]
    }
   ],
   "source": [
    "b=np.array([[20,21,22,23],[24,25,26,27]])\n",
    "print (b)"
   ]
  },
  {
   "cell_type": "code",
   "execution_count": 16,
   "id": "9edac20f",
   "metadata": {},
   "outputs": [
    {
     "name": "stdout",
     "output_type": "stream",
     "text": [
      "[[ 1  2  3  4]\n",
      " [ 5  6  7  8]\n",
      " [20 21 22 23]\n",
      " [24 25 26 27]]\n"
     ]
    }
   ],
   "source": [
    "con1 = np.concatenate((a,b), axis = 0)\n",
    "print (con1)"
   ]
  },
  {
   "cell_type": "code",
   "execution_count": 17,
   "id": "7600c85b",
   "metadata": {},
   "outputs": [
    {
     "name": "stdout",
     "output_type": "stream",
     "text": [
      "[[ 1  2  3  4 20 21 22 23]\n",
      " [ 5  6  7  8 24 25 26 27]]\n"
     ]
    }
   ],
   "source": [
    "con2 = np.concatenate((a,b), axis = 1)\n",
    "print (con2)"
   ]
  },
  {
   "cell_type": "code",
   "execution_count": 18,
   "id": "80a4ec41",
   "metadata": {},
   "outputs": [
    {
     "name": "stdout",
     "output_type": "stream",
     "text": [
      "[[23  1 76 23 54  6  9 40]\n",
      " [48 58 67 29 45 21 18 28]\n",
      " [28 67 84 14 74 25 25 75]\n",
      " [86 11 22 33 44 55 66 77]]\n"
     ]
    }
   ],
   "source": [
    "c=np.array([[23,1,76,23,54,6,9,40],[48,58,67,29,45,21,18,28],[28,67,84,14,74,25,25,75],[86,11,22,33,44,55,66,77]])\n",
    "print (c)"
   ]
  },
  {
   "cell_type": "code",
   "execution_count": 19,
   "id": "09a2559b",
   "metadata": {},
   "outputs": [
    {
     "data": {
      "text/plain": [
       "array([[ 9, 40],\n",
       "       [18, 28],\n",
       "       [25, 75],\n",
       "       [66, 77]])"
      ]
     },
     "execution_count": 19,
     "metadata": {},
     "output_type": "execute_result"
    }
   ],
   "source": [
    "c[:,6:8]"
   ]
  },
  {
   "cell_type": "code",
   "execution_count": 20,
   "id": "4d958eb7",
   "metadata": {},
   "outputs": [
    {
     "data": {
      "text/plain": [
       "array([[23,  1, 76, 23, 54,  6,  9, 40],\n",
       "       [48, 58, 67, 29, 45, 21, 18, 28],\n",
       "       [28, 67, 84, 14, 74, 25, 25, 75]])"
      ]
     },
     "execution_count": 20,
     "metadata": {},
     "output_type": "execute_result"
    }
   ],
   "source": [
    "c[0:3]"
   ]
  },
  {
   "cell_type": "markdown",
   "id": "491de9aa",
   "metadata": {},
   "source": [
    "### Operaciones con matrices"
   ]
  },
  {
   "cell_type": "code",
   "execution_count": 27,
   "id": "7deaea62",
   "metadata": {},
   "outputs": [],
   "source": [
    "import random"
   ]
  },
  {
   "cell_type": "code",
   "execution_count": 28,
   "id": "e556279b",
   "metadata": {},
   "outputs": [],
   "source": [
    "random.seed(23)\n",
    "x1 = np.random.rand(50)\n",
    "x2 = np.random.rand(50)\n",
    "x3 = np.random.rand(50)\n",
    "e = np.random.rand(0,1,50)\n",
    "\n",
    "# Poblacional regression (Data Generating Process GDP)\n",
    "\n",
    "Y = 13 + 5*x1 + 2*x2 + 5*x3 + e"
   ]
  },
  {
   "cell_type": "code",
   "execution_count": 29,
   "id": "8b6bc113",
   "metadata": {},
   "outputs": [
    {
     "data": {
      "text/plain": [
       "array([[1.        , 0.86858375, 0.98686754, 0.48883667],\n",
       "       [1.        , 0.26892347, 0.35475588, 0.60971897],\n",
       "       [1.        , 0.83649186, 0.66828377, 0.75360321],\n",
       "       [1.        , 0.45781943, 0.1786522 , 0.40227691],\n",
       "       [1.        , 0.21444909, 0.38688774, 0.68057568],\n",
       "       [1.        , 0.53594035, 0.02368052, 0.42364194],\n",
       "       [1.        , 0.32663927, 0.85600662, 0.60448927],\n",
       "       [1.        , 0.52230223, 0.40915826, 0.39910373],\n",
       "       [1.        , 0.99926961, 0.47436002, 0.88292715],\n",
       "       [1.        , 0.51282658, 0.63857481, 0.04331773],\n",
       "       [1.        , 0.77705933, 0.42690387, 0.44032838],\n",
       "       [1.        , 0.50593266, 0.86798923, 0.29296889],\n",
       "       [1.        , 0.15863734, 0.42535146, 0.40807427],\n",
       "       [1.        , 0.98478463, 0.220301  , 0.86886533],\n",
       "       [1.        , 0.48014444, 0.63267258, 0.17166793],\n",
       "       [1.        , 0.88669255, 0.17345967, 0.42625217],\n",
       "       [1.        , 0.80506514, 0.15882373, 0.82254798],\n",
       "       [1.        , 0.99593617, 0.60218105, 0.90642217],\n",
       "       [1.        , 0.13454337, 0.48206891, 0.0322964 ],\n",
       "       [1.        , 0.24986141, 0.65848109, 0.64956135],\n",
       "       [1.        , 0.68361916, 0.22664978, 0.87968833],\n",
       "       [1.        , 0.14981391, 0.72638587, 0.16632326],\n",
       "       [1.        , 0.7393747 , 0.74314884, 0.33391316],\n",
       "       [1.        , 0.37836355, 0.51966808, 0.10044204],\n",
       "       [1.        , 0.22444828, 0.80790538, 0.47001051],\n",
       "       [1.        , 0.33453367, 0.54252998, 0.98445636],\n",
       "       [1.        , 0.06875098, 0.75522433, 0.47241036],\n",
       "       [1.        , 0.01117027, 0.12636585, 0.64829032],\n",
       "       [1.        , 0.41684539, 0.34038546, 0.24097027],\n",
       "       [1.        , 0.08510629, 0.35130111, 0.23002312],\n",
       "       [1.        , 0.97760215, 0.58797851, 0.05304249],\n",
       "       [1.        , 0.18519063, 0.07054203, 0.77520393],\n",
       "       [1.        , 0.11885243, 0.46186607, 0.53431149],\n",
       "       [1.        , 0.24859871, 0.36022699, 0.60890798],\n",
       "       [1.        , 0.00624365, 0.43952174, 0.82328485],\n",
       "       [1.        , 0.83172093, 0.46003224, 0.31940227],\n",
       "       [1.        , 0.59118556, 0.40024397, 0.11607604],\n",
       "       [1.        , 0.71264555, 0.66228892, 0.87883922],\n",
       "       [1.        , 0.77793686, 0.26707217, 0.53509259],\n",
       "       [1.        , 0.20395061, 0.0243816 , 0.45824002],\n",
       "       [1.        , 0.78326236, 0.35047263, 0.42983394],\n",
       "       [1.        , 0.07515404, 0.10626836, 0.86701835],\n",
       "       [1.        , 0.05057399, 0.00576564, 0.14041991],\n",
       "       [1.        , 0.9600891 , 0.49817521, 0.53870074],\n",
       "       [1.        , 0.93965443, 0.91887409, 0.13412975],\n",
       "       [1.        , 0.32371879, 0.99280056, 0.9742221 ],\n",
       "       [1.        , 0.18441132, 0.37339563, 0.01869639],\n",
       "       [1.        , 0.66636615, 0.86911296, 0.13523964],\n",
       "       [1.        , 0.20922919, 0.01098255, 0.91586614],\n",
       "       [1.        , 0.70187424, 0.94519123, 0.01004535]])"
      ]
     },
     "execution_count": 29,
     "metadata": {},
     "output_type": "execute_result"
    }
   ],
   "source": [
    "X = np.column_stack((np.ones(50),x1,x2,x3))\n",
    "X"
   ]
  },
  {
   "cell_type": "code",
   "execution_count": null,
   "id": "61d77ea0",
   "metadata": {},
   "outputs": [],
   "source": []
  },
  {
   "cell_type": "code",
   "execution_count": null,
   "id": "668ca40c",
   "metadata": {},
   "outputs": [],
   "source": []
  },
  {
   "cell_type": "code",
   "execution_count": null,
   "id": "16d95ac6",
   "metadata": {},
   "outputs": [],
   "source": []
  },
  {
   "cell_type": "code",
   "execution_count": null,
   "id": "f024c24d",
   "metadata": {},
   "outputs": [],
   "source": []
  }
 ],
 "metadata": {
  "kernelspec": {
   "display_name": "Python 3 (ipykernel)",
   "language": "python",
   "name": "python3"
  },
  "language_info": {
   "codemirror_mode": {
    "name": "ipython",
    "version": 3
   },
   "file_extension": ".py",
   "mimetype": "text/x-python",
   "name": "python",
   "nbconvert_exporter": "python",
   "pygments_lexer": "ipython3",
   "version": "3.9.7"
  }
 },
 "nbformat": 4,
 "nbformat_minor": 5
}
