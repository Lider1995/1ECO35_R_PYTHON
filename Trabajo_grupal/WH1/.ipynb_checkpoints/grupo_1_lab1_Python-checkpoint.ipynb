{
 "cells": [
  {
   "cell_type": "markdown",
   "id": "815e2a5a",
   "metadata": {},
   "source": [
    "## Trabajo Grupal 1"
   ]
  },
  {
   "cell_type": "markdown",
   "id": "74b3d195",
   "metadata": {},
   "source": [
    "### Grupo 1"
   ]
  },
  {
   "cell_type": "markdown",
   "id": "fc1c29bc",
   "metadata": {},
   "source": [
    "##### Pregunta 1"
   ]
  },
  {
   "cell_type": "code",
   "execution_count": 50,
   "id": "da6cc1a2",
   "metadata": {},
   "outputs": [
    {
     "data": {
      "text/plain": [
       "'Primer trabajo grupal: Laboratorio de R y Python ciclo 2022-1'"
      ]
     },
     "execution_count": 50,
     "metadata": {},
     "output_type": "execute_result"
    }
   ],
   "source": [
    "c1=\"Primer trabajo grupal\"\n",
    "c2=\"2022-1\"\n",
    "f'{c1}: Laboratorio de R y Python ciclo {c2}'"
   ]
  },
  {
   "cell_type": "code",
   "execution_count": 2,
   "id": "c362c59d",
   "metadata": {},
   "outputs": [
    {
     "name": "stdout",
     "output_type": "stream",
     "text": [
      "25 x 30 es 750\n"
     ]
    }
   ],
   "source": [
    "d1=\"25\"\n",
    "d2=\"30\"\n",
    "print(f'{d1} x {d2} es 750')"
   ]
  },
  {
   "cell_type": "markdown",
   "id": "1f1d2db9",
   "metadata": {},
   "source": [
    "### Diccionarios y listas"
   ]
  },
  {
   "cell_type": "markdown",
   "id": "da349ae8",
   "metadata": {},
   "source": [
    "##### Pregunta 2"
   ]
  },
  {
   "cell_type": "code",
   "execution_count": 3,
   "id": "b583c700",
   "metadata": {},
   "outputs": [],
   "source": [
    "dis1=[\"Breña\",\"Pueblo libre\",\"San Miguel\",\"La Punta\",\"Bellavista\"]"
   ]
  },
  {
   "cell_type": "code",
   "execution_count": 4,
   "id": "54ad8582",
   "metadata": {},
   "outputs": [
    {
     "data": {
      "text/plain": [
       "'Breña'"
      ]
     },
     "execution_count": 4,
     "metadata": {},
     "output_type": "execute_result"
    }
   ],
   "source": [
    "dis1[0]"
   ]
  },
  {
   "cell_type": "code",
   "execution_count": 5,
   "id": "4fa7e932",
   "metadata": {},
   "outputs": [
    {
     "data": {
      "text/plain": [
       "'Bellavista'"
      ]
     },
     "execution_count": 5,
     "metadata": {},
     "output_type": "execute_result"
    }
   ],
   "source": [
    "dis1[-1]"
   ]
  },
  {
   "cell_type": "markdown",
   "id": "68910d62",
   "metadata": {},
   "source": [
    "##### Pregunta 3"
   ]
  },
  {
   "cell_type": "code",
   "execution_count": 55,
   "id": "773bc34c",
   "metadata": {},
   "outputs": [],
   "source": [
    "dic1={\"Breña\":{\"Population\":\"93111\",\"Poverty\":\"5.4%\"},\"Pueblo Libre\":{\"Population\": \"94010\",\n",
    "\"Poverty\":\"1.2%\"},\"San Miguel\":{\"Population\":\"173309\",\"Poverty\":\"2.1%\"},\"La Punta\":{\"Population\":\"3935\",\"Poverty\":\"3.7%\"},\n",
    "\"Bellavista\":{\"Population\":\"16370\",\"Poverty\":\"6.3%\"}}"
   ]
  },
  {
   "cell_type": "markdown",
   "id": "24904eda",
   "metadata": {},
   "source": [
    "##### Pregunta 4"
   ]
  },
  {
   "cell_type": "code",
   "execution_count": 56,
   "id": "4896839e",
   "metadata": {},
   "outputs": [
    {
     "data": {
      "text/plain": [
       "'5.4%'"
      ]
     },
     "execution_count": 56,
     "metadata": {},
     "output_type": "execute_result"
    }
   ],
   "source": [
    "dic1[\"Breña\"][\"Poverty\"]"
   ]
  },
  {
   "cell_type": "code",
   "execution_count": 8,
   "id": "0c9ddf89",
   "metadata": {},
   "outputs": [
    {
     "data": {
      "text/plain": [
       "'93111'"
      ]
     },
     "execution_count": 8,
     "metadata": {},
     "output_type": "execute_result"
    }
   ],
   "source": [
    "dic1['Breña']['Population']"
   ]
  },
  {
   "cell_type": "code",
   "execution_count": 9,
   "id": "7f694ccd",
   "metadata": {},
   "outputs": [
    {
     "data": {
      "text/plain": [
       "'1.2%'"
      ]
     },
     "execution_count": 9,
     "metadata": {},
     "output_type": "execute_result"
    }
   ],
   "source": [
    "dic1['Pueblo Libre']['Poverty']"
   ]
  },
  {
   "cell_type": "code",
   "execution_count": 10,
   "id": "d95a2aaa",
   "metadata": {},
   "outputs": [
    {
     "data": {
      "text/plain": [
       "'94010'"
      ]
     },
     "execution_count": 10,
     "metadata": {},
     "output_type": "execute_result"
    }
   ],
   "source": [
    "dic1['Pueblo Libre']['Population']"
   ]
  },
  {
   "cell_type": "code",
   "execution_count": 11,
   "id": "6d251d5e",
   "metadata": {},
   "outputs": [
    {
     "data": {
      "text/plain": [
       "'6.3%'"
      ]
     },
     "execution_count": 11,
     "metadata": {},
     "output_type": "execute_result"
    }
   ],
   "source": [
    "dic1['Bellavista']['Poverty']"
   ]
  },
  {
   "cell_type": "code",
   "execution_count": 12,
   "id": "d85840ba",
   "metadata": {},
   "outputs": [
    {
     "data": {
      "text/plain": [
       "'16370'"
      ]
     },
     "execution_count": 12,
     "metadata": {},
     "output_type": "execute_result"
    }
   ],
   "source": [
    "dic1['Bellavista']['Population']"
   ]
  },
  {
   "cell_type": "markdown",
   "id": "87aa2af3",
   "metadata": {},
   "source": [
    "### Matrices"
   ]
  },
  {
   "cell_type": "markdown",
   "id": "56a7b163",
   "metadata": {},
   "source": [
    "##### Pregunta 5"
   ]
  },
  {
   "cell_type": "code",
   "execution_count": 3,
   "id": "87016e1c",
   "metadata": {},
   "outputs": [],
   "source": [
    "import numpy as np"
   ]
  },
  {
   "cell_type": "code",
   "execution_count": 4,
   "id": "918744d4",
   "metadata": {
    "scrolled": true
   },
   "outputs": [
    {
     "name": "stdout",
     "output_type": "stream",
     "text": [
      "[[1 2 3 4]\n",
      " [5 6 7 8]]\n"
     ]
    }
   ],
   "source": [
    "a=np.array([[1,2,3,4],[5,6,7,8]])\n",
    "print(a)"
   ]
  },
  {
   "cell_type": "code",
   "execution_count": 5,
   "id": "b74addcd",
   "metadata": {},
   "outputs": [
    {
     "name": "stdout",
     "output_type": "stream",
     "text": [
      "[[20 21 22 23]\n",
      " [24 25 26 27]]\n"
     ]
    }
   ],
   "source": [
    "b=np.array([[20,21,22,23],[24,25,26,27]])\n",
    "print (b)"
   ]
  },
  {
   "cell_type": "code",
   "execution_count": 6,
   "id": "9edac20f",
   "metadata": {},
   "outputs": [
    {
     "name": "stdout",
     "output_type": "stream",
     "text": [
      "[[ 1  2  3  4]\n",
      " [ 5  6  7  8]\n",
      " [20 21 22 23]\n",
      " [24 25 26 27]]\n"
     ]
    }
   ],
   "source": [
    "con1 = np.concatenate((a,b), axis = 0)    # Unión de manera vertical\n",
    "print (con1)"
   ]
  },
  {
   "cell_type": "code",
   "execution_count": 7,
   "id": "7600c85b",
   "metadata": {
    "scrolled": true
   },
   "outputs": [
    {
     "name": "stdout",
     "output_type": "stream",
     "text": [
      "[[ 1  2  3  4 20 21 22 23]\n",
      " [ 5  6  7  8 24 25 26 27]]\n"
     ]
    }
   ],
   "source": [
    "con2 = np.concatenate((a,b), axis = 1)   # Unión de manera horizontal\n",
    "print (con2)"
   ]
  },
  {
   "cell_type": "markdown",
   "id": "e9e7a5fd",
   "metadata": {},
   "source": [
    "##### Pregunta 6"
   ]
  },
  {
   "cell_type": "code",
   "execution_count": 8,
   "id": "80a4ec41",
   "metadata": {
    "scrolled": true
   },
   "outputs": [
    {
     "name": "stdout",
     "output_type": "stream",
     "text": [
      "[[23  1 76 23 54  6  9 40]\n",
      " [48 58 67 29 45 21 18 28]\n",
      " [28 67 84 14 74 25 25 75]\n",
      " [86 11 22 33 44 55 66 77]]\n"
     ]
    }
   ],
   "source": [
    "c=np.array([[23,1,76,23,54,6,9,40],[48,58,67,29,45,21,18,28],[28,67,84,14,74,25,25,75],[86,11,22,33,44,55,66,77]])\n",
    "print (c)"
   ]
  },
  {
   "cell_type": "code",
   "execution_count": 9,
   "id": "09a2559b",
   "metadata": {},
   "outputs": [
    {
     "name": "stdout",
     "output_type": "stream",
     "text": [
      "[[ 9 40]\n",
      " [18 28]\n",
      " [25 75]\n",
      " [66 77]]\n"
     ]
    }
   ],
   "source": [
    "print (c[:,6:8])"
   ]
  },
  {
   "cell_type": "code",
   "execution_count": 10,
   "id": "4d958eb7",
   "metadata": {},
   "outputs": [
    {
     "name": "stdout",
     "output_type": "stream",
     "text": [
      "[[23  1 76 23 54  6  9 40]\n",
      " [48 58 67 29 45 21 18 28]\n",
      " [28 67 84 14 74 25 25 75]]\n"
     ]
    }
   ],
   "source": [
    "print(c[0:3])"
   ]
  },
  {
   "cell_type": "markdown",
   "id": "491de9aa",
   "metadata": {},
   "source": [
    "### Operaciones con matrices"
   ]
  },
  {
   "cell_type": "markdown",
   "id": "f735cfdd",
   "metadata": {},
   "source": [
    "##### Pregunta 7"
   ]
  },
  {
   "cell_type": "code",
   "execution_count": 18,
   "id": "7deaea62",
   "metadata": {},
   "outputs": [],
   "source": [
    "import random"
   ]
  },
  {
   "cell_type": "code",
   "execution_count": 23,
   "id": "e556279b",
   "metadata": {},
   "outputs": [],
   "source": [
    "random.seed(23)\n",
    "x1 = np.random.rand(10)\n",
    "x2 = np.random.rand(10)\n",
    "x3 = np.random.rand(10)\n",
    "e = np.random.normal(0,1,10)\n",
    "\n",
    "# Poblacional regression (Data Generating Process GDP)\n",
    "\n",
    "Y = 13 + 5*x1 + 2*x2 + 5*x3 + e"
   ]
  },
  {
   "cell_type": "code",
   "execution_count": 25,
   "id": "8b6bc113",
   "metadata": {},
   "outputs": [
    {
     "data": {
      "text/plain": [
       "array([[1.        , 0.95164766, 0.09976372, 0.39014032],\n",
       "       [1.        , 0.99973862, 0.12401057, 0.08997083],\n",
       "       [1.        , 0.61391724, 0.01077803, 0.95742026],\n",
       "       [1.        , 0.99615359, 0.2973944 , 0.12327638],\n",
       "       [1.        , 0.95723606, 0.10560767, 0.76062479],\n",
       "       [1.        , 0.60683573, 0.76718379, 0.76006493],\n",
       "       [1.        , 0.89091593, 0.48735948, 0.04995963],\n",
       "       [1.        , 0.31942528, 0.90276231, 0.8826685 ],\n",
       "       [1.        , 0.13218716, 0.74759943, 0.15461557],\n",
       "       [1.        , 0.33380658, 0.18317666, 0.31647731]])"
      ]
     },
     "execution_count": 25,
     "metadata": {},
     "output_type": "execute_result"
    }
   ],
   "source": [
    "X = np.column_stack((np.ones(10),x1,x2,x3))\n",
    "X"
   ]
  },
  {
   "cell_type": "code",
   "execution_count": 32,
   "id": "61d77ea0",
   "metadata": {},
   "outputs": [
    {
     "data": {
      "text/plain": [
       "array([[1.        , 1.        , 1.        , 1.        , 1.        ,\n",
       "        1.        , 1.        , 1.        , 1.        , 1.        ],\n",
       "       [0.95164766, 0.99973862, 0.61391724, 0.99615359, 0.95723606,\n",
       "        0.60683573, 0.89091593, 0.31942528, 0.13218716, 0.33380658],\n",
       "       [0.09976372, 0.12401057, 0.01077803, 0.2973944 , 0.10560767,\n",
       "        0.76718379, 0.48735948, 0.90276231, 0.74759943, 0.18317666],\n",
       "       [0.39014032, 0.08997083, 0.95742026, 0.12327638, 0.76062479,\n",
       "        0.76006493, 0.04995963, 0.8826685 , 0.15461557, 0.31647731]])"
      ]
     },
     "execution_count": 32,
     "metadata": {},
     "output_type": "execute_result"
    }
   ],
   "source": [
    "(X.T)    # X_transp"
   ]
  },
  {
   "cell_type": "code",
   "execution_count": 33,
   "id": "668ca40c",
   "metadata": {},
   "outputs": [
    {
     "data": {
      "text/plain": [
       "array([[10.        ,  6.80186384,  3.72563604,  4.48521853],\n",
       "       [ 6.80186384,  5.58354137,  1.97096142,  2.81367134],\n",
       "       [ 3.72563604,  1.97096142,  2.3585726 ,  1.75524722],\n",
       "       [ 4.48521853,  2.81367134,  1.75524722,  3.15406712]])"
      ]
     },
     "execution_count": 33,
     "metadata": {},
     "output_type": "execute_result"
    }
   ],
   "source": [
    "X1=(X.T)@X    # X_transp*X\n",
    "X1"
   ]
  },
  {
   "cell_type": "code",
   "execution_count": 30,
   "id": "16d95ac6",
   "metadata": {},
   "outputs": [
    {
     "data": {
      "text/plain": [
       "array([[ 1.95152767, -1.61167262, -1.26405414, -0.63396987],\n",
       "       [-1.61167262,  1.66944221,  0.94468854,  0.27687434],\n",
       "       [-1.26405414,  0.94468854,  1.57156388,  0.08022431],\n",
       "       [-0.63396987,  0.27687434,  0.08022431,  0.92694492]])"
      ]
     },
     "execution_count": 30,
     "metadata": {},
     "output_type": "execute_result"
    }
   ],
   "source": [
    "invX1=np.linalg.inv(X1)    # Inversa de X_transp*X\n",
    "invX1"
   ]
  },
  {
   "cell_type": "code",
   "execution_count": 34,
   "id": "f024c24d",
   "metadata": {},
   "outputs": [
    {
     "data": {
      "text/plain": [
       "array([[ 4.43392497e-02,  1.26481456e-01,  3.41494461e-01,\n",
       "        -1.08021912e-01, -2.06930472e-01, -4.78112953e-01,\n",
       "        -1.32058801e-01, -2.64006965e-01,  6.95457484e-01,\n",
       "         9.81358453e-01],\n",
       "       [ 1.79313644e-01,  1.99395203e-01, -3.11506280e-01,\n",
       "         3.66425371e-01,  2.96741501e-01,  3.36596763e-01,\n",
       "         3.49895493e-01,  1.88068895e-02, -6.41936102e-01,\n",
       "        -7.93732481e-01],\n",
       "       [-1.76959709e-01, -1.17504152e-01, -5.90346822e-01,\n",
       "         1.54264790e-01, -1.32774419e-01,  5.75870627e-01,\n",
       "         3.47508463e-01,  5.27263366e-01,  4.81257477e-02,\n",
       "        -6.35447892e-01],\n",
       "       [-8.40987709e-04, -2.63821231e-01,  4.24348575e-01,\n",
       "        -2.20031824e-01,  3.44593823e-01,  3.00132493e-01,\n",
       "        -3.01890205e-01,  3.45079361e-01, -3.94074869e-01,\n",
       "        -2.33495135e-01]])"
      ]
     },
     "execution_count": 34,
     "metadata": {},
     "output_type": "execute_result"
    }
   ],
   "source": [
    "w=invX1@(X.T)\n",
    "w"
   ]
  },
  {
   "cell_type": "code",
   "execution_count": 36,
   "id": "97171909",
   "metadata": {},
   "outputs": [
    {
     "data": {
      "text/plain": [
       "array([15.64954932,  2.63559195,  0.82557614,  4.15885883])"
      ]
     },
     "execution_count": 36,
     "metadata": {},
     "output_type": "execute_result"
    }
   ],
   "source": [
    "beta = np.linalg.inv(X.T @ X) @ ((X.T) @ Y )\n",
    "beta"
   ]
  },
  {
   "cell_type": "code",
   "execution_count": 37,
   "id": "10d57dc0",
   "metadata": {},
   "outputs": [
    {
     "data": {
      "text/plain": [
       "array([19.86260528, 18.76100851, 21.25825845, 19.03321448, 21.42295125,\n",
       "       21.04329207, 18.60776758, 20.90761672, 17.25816532, 17.99673799])"
      ]
     },
     "execution_count": 37,
     "metadata": {},
     "output_type": "execute_result"
    }
   ],
   "source": [
    "Y1=X@beta\n",
    "Y1"
   ]
  },
  {
   "cell_type": "code",
   "execution_count": 38,
   "id": "84c1e123",
   "metadata": {},
   "outputs": [
    {
     "data": {
      "text/plain": [
       "array([-1.5594048 , -0.90485379,  0.50052535,  2.30133927,  0.61528198,\n",
       "       -0.06115663, -0.65441486, -0.52955406,  0.53752063, -0.24528309])"
      ]
     },
     "execution_count": 38,
     "metadata": {},
     "output_type": "execute_result"
    }
   ],
   "source": [
    "e1=Y-Y1\n",
    "e1"
   ]
  },
  {
   "cell_type": "code",
   "execution_count": 40,
   "id": "5e9f1842",
   "metadata": {},
   "outputs": [
    {
     "data": {
      "text/plain": [
       "10.23728234417426"
      ]
     },
     "execution_count": 40,
     "metadata": {},
     "output_type": "execute_result"
    }
   ],
   "source": [
    "SRC=(e1.T)@e1\n",
    "SRC"
   ]
  },
  {
   "cell_type": "code",
   "execution_count": 43,
   "id": "dd4ff5de",
   "metadata": {},
   "outputs": [
    {
     "data": {
      "text/plain": [
       "1.7062137240290431"
      ]
     },
     "execution_count": 43,
     "metadata": {},
     "output_type": "execute_result"
    }
   ],
   "source": [
    "Ve=SRC/6\n",
    "Ve"
   ]
  },
  {
   "cell_type": "markdown",
   "id": "f636c5b0",
   "metadata": {},
   "source": [
    "##### Pregunta 8"
   ]
  },
  {
   "cell_type": "code",
   "execution_count": 46,
   "id": "d3bd168d",
   "metadata": {
    "scrolled": true
   },
   "outputs": [
    {
     "data": {
      "text/plain": [
       "array([[ 3.3297233 , -2.74985794, -2.15674652, -1.08168809],\n",
       "       [-2.74985794,  2.84842521,  1.61184054,  0.4724068 ],\n",
       "       [-2.15674652,  1.61184054,  2.68142387,  0.13687981],\n",
       "       [-1.08168809,  0.4724068 ,  0.13687981,  1.58156615]])"
      ]
     },
     "execution_count": 46,
     "metadata": {},
     "output_type": "execute_result"
    }
   ],
   "source": [
    "Varcov=Ve*invX1\n",
    "Varcov"
   ]
  },
  {
   "cell_type": "markdown",
   "id": "8d605bed",
   "metadata": {},
   "source": [
    "##### Pregunta 9"
   ]
  },
  {
   "cell_type": "code",
   "execution_count": 47,
   "id": "917e91a4",
   "metadata": {},
   "outputs": [
    {
     "data": {
      "text/plain": [
       "array([[ 4.43392497e-02,  1.79313644e-01, -1.76959709e-01,\n",
       "        -8.40987709e-04],\n",
       "       [ 1.26481456e-01,  1.99395203e-01, -1.17504152e-01,\n",
       "        -2.63821231e-01],\n",
       "       [ 3.41494461e-01, -3.11506280e-01, -5.90346822e-01,\n",
       "         4.24348575e-01],\n",
       "       [-1.08021912e-01,  3.66425371e-01,  1.54264790e-01,\n",
       "        -2.20031824e-01],\n",
       "       [-2.06930472e-01,  2.96741501e-01, -1.32774419e-01,\n",
       "         3.44593823e-01],\n",
       "       [-4.78112953e-01,  3.36596763e-01,  5.75870627e-01,\n",
       "         3.00132493e-01],\n",
       "       [-1.32058801e-01,  3.49895493e-01,  3.47508463e-01,\n",
       "        -3.01890205e-01],\n",
       "       [-2.64006965e-01,  1.88068895e-02,  5.27263366e-01,\n",
       "         3.45079361e-01],\n",
       "       [ 6.95457484e-01, -6.41936102e-01,  4.81257477e-02,\n",
       "        -3.94074869e-01],\n",
       "       [ 9.81358453e-01, -7.93732481e-01, -6.35447892e-01,\n",
       "        -2.33495135e-01]])"
      ]
     },
     "execution_count": 47,
     "metadata": {},
     "output_type": "execute_result"
    }
   ],
   "source": [
    "m=X@invX1     # invX1 --> (X'X)^(-1)\n",
    "m"
   ]
  },
  {
   "cell_type": "code",
   "execution_count": 48,
   "id": "488ab29e",
   "metadata": {},
   "outputs": [
    {
     "data": {
      "text/plain": [
       "array([[ 0.1970004 ,  0.20158549,  0.15171053,  0.17023268,  0.19665676,\n",
       "         0.01675335,  0.11780762, -0.05887831, -0.0643828 ,  0.07151428],\n",
       "       [ 0.20158549,  0.28751657, -0.00496065,  0.2576417 ,  0.10427143,\n",
       "        -0.04318696,  0.23367864, -0.14877168,  0.02420203,  0.08802344],\n",
       "       [ 0.15171053, -0.00496065,  0.55017253, -0.09206732,  0.30373431,\n",
       "         0.02208928, -0.20254227,  0.08360774, -0.07541472,  0.26367055],\n",
       "       [ 0.17023268,  0.2576417 , -0.09206732,  0.27574679,  0.09166355,\n",
       "         0.06544906,  0.28262199, -0.04592711,  0.02172274, -0.02708408],\n",
       "       [ 0.19665676,  0.10427143,  0.30373431,  0.09166355,  0.3252058 ,\n",
       "         0.13319417,  0.00994817,  0.07215464, -0.21368757, -0.02314125],\n",
       "       [ 0.01675335, -0.04318696,  0.02208928,  0.06544906,  0.13319417,\n",
       "         0.39606478,  0.11741698,  0.41419635,  0.04330653, -0.16528356],\n",
       "       [ 0.11780762,  0.23367864, -0.20254227,  0.28262199,  0.00994817,\n",
       "         0.11741698,  0.33394789,  0.02695523,  0.12731309, -0.04714734],\n",
       "       [-0.05887831, -0.14877168,  0.08360774, -0.04592711,  0.07215464,\n",
       "         0.41419635,  0.02695523,  0.52258461,  0.1860155 , -0.05193697],\n",
       "       [-0.0643828 ,  0.02420203, -0.07541472,  0.02172274, -0.21368757,\n",
       "         0.04330653,  0.12731309,  0.1860155 ,  0.58565045,  0.36527475],\n",
       "       [ 0.07151428,  0.08802344,  0.26367055, -0.02708408, -0.02314125,\n",
       "        -0.16528356, -0.04714734, -0.05193697,  0.36527475,  0.52611019]])"
      ]
     },
     "execution_count": 48,
     "metadata": {},
     "output_type": "execute_result"
    }
   ],
   "source": [
    "n=m@(X.T)    # X(X'X)^(-1)X_transp\n",
    "n"
   ]
  },
  {
   "cell_type": "code",
   "execution_count": 49,
   "id": "1a0b7810",
   "metadata": {},
   "outputs": [
    {
     "data": {
      "text/plain": [
       "array([[ 0.8029996 , -0.20158549, -0.15171053, -0.17023268, -0.19665676,\n",
       "        -0.01675335, -0.11780762,  0.05887831,  0.0643828 , -0.07151428],\n",
       "       [-0.20158549,  0.71248343,  0.00496065, -0.2576417 , -0.10427143,\n",
       "         0.04318696, -0.23367864,  0.14877168, -0.02420203, -0.08802344],\n",
       "       [-0.15171053,  0.00496065,  0.44982747,  0.09206732, -0.30373431,\n",
       "        -0.02208928,  0.20254227, -0.08360774,  0.07541472, -0.26367055],\n",
       "       [-0.17023268, -0.2576417 ,  0.09206732,  0.72425321, -0.09166355,\n",
       "        -0.06544906, -0.28262199,  0.04592711, -0.02172274,  0.02708408],\n",
       "       [-0.19665676, -0.10427143, -0.30373431, -0.09166355,  0.6747942 ,\n",
       "        -0.13319417, -0.00994817, -0.07215464,  0.21368757,  0.02314125],\n",
       "       [-0.01675335,  0.04318696, -0.02208928, -0.06544906, -0.13319417,\n",
       "         0.60393522, -0.11741698, -0.41419635, -0.04330653,  0.16528356],\n",
       "       [-0.11780762, -0.23367864,  0.20254227, -0.28262199, -0.00994817,\n",
       "        -0.11741698,  0.66605211, -0.02695523, -0.12731309,  0.04714734],\n",
       "       [ 0.05887831,  0.14877168, -0.08360774,  0.04592711, -0.07215464,\n",
       "        -0.41419635, -0.02695523,  0.47741539, -0.1860155 ,  0.05193697],\n",
       "       [ 0.0643828 , -0.02420203,  0.07541472, -0.02172274,  0.21368757,\n",
       "        -0.04330653, -0.12731309, -0.1860155 ,  0.41434955, -0.36527475],\n",
       "       [-0.07151428, -0.08802344, -0.26367055,  0.02708408,  0.02314125,\n",
       "         0.16528356,  0.04714734,  0.05193697, -0.36527475,  0.47388981]])"
      ]
     },
     "execution_count": 49,
     "metadata": {},
     "output_type": "execute_result"
    }
   ],
   "source": [
    "M=np.eye(10)-n     # M = I-X(X'X)^(-1)X_transp\n",
    "M"
   ]
  }
 ],
 "metadata": {
  "kernelspec": {
   "display_name": "Python 3 (ipykernel)",
   "language": "python",
   "name": "python3"
  },
  "language_info": {
   "codemirror_mode": {
    "name": "ipython",
    "version": 3
   },
   "file_extension": ".py",
   "mimetype": "text/x-python",
   "name": "python",
   "nbconvert_exporter": "python",
   "pygments_lexer": "ipython3",
   "version": "3.9.7"
  }
 },
 "nbformat": 4,
 "nbformat_minor": 5
}
