{
 "cells": [
  {
   "cell_type": "markdown",
   "id": "8d895e55",
   "metadata": {},
   "source": [
    "## Grupo 1"
   ]
  },
  {
   "cell_type": "code",
   "execution_count": 7,
   "id": "c4b4e976",
   "metadata": {},
   "outputs": [],
   "source": [
    "a <- \"Primer trabajo grupal\""
   ]
  },
  {
   "cell_type": "code",
   "execution_count": 8,
   "id": "63a663ed",
   "metadata": {},
   "outputs": [],
   "source": [
    "b <- \"2022-1\""
   ]
  },
  {
   "cell_type": "code",
   "execution_count": 9,
   "id": "0aa2fc22",
   "metadata": {},
   "outputs": [],
   "source": [
    "# install.packages(\"devtools\")\n",
    "library(glue)"
   ]
  },
  {
   "cell_type": "code",
   "execution_count": 10,
   "id": "2cca95e3",
   "metadata": {},
   "outputs": [
    {
     "data": {
      "text/html": [
       "'Primer trabajo grupal: Ciclo 2022-1'"
      ],
      "text/latex": [
       "'Primer trabajo grupal: Ciclo 2022-1'"
      ],
      "text/markdown": [
       "'Primer trabajo grupal: Ciclo 2022-1'"
      ],
      "text/plain": [
       "Primer trabajo grupal: Ciclo 2022-1"
      ]
     },
     "metadata": {},
     "output_type": "display_data"
    }
   ],
   "source": [
    "c <- glue('{a}: Ciclo {b}')\n",
    "c"
   ]
  },
  {
   "cell_type": "code",
   "execution_count": 11,
   "id": "d69f0999",
   "metadata": {},
   "outputs": [],
   "source": [
    "d <- \"25\""
   ]
  },
  {
   "cell_type": "code",
   "execution_count": 12,
   "id": "0f55c733",
   "metadata": {},
   "outputs": [],
   "source": [
    "e <- \"30\""
   ]
  },
  {
   "cell_type": "code",
   "execution_count": 13,
   "id": "07c2f669",
   "metadata": {},
   "outputs": [
    {
     "data": {
      "text/html": [
       "'25 x 30 es igual a 750'"
      ],
      "text/latex": [
       "'25 x 30 es igual a 750'"
      ],
      "text/markdown": [
       "'25 x 30 es igual a 750'"
      ],
      "text/plain": [
       "25 x 30 es igual a 750"
      ]
     },
     "metadata": {},
     "output_type": "display_data"
    }
   ],
   "source": [
    "f <- glue('{d} x {e} es igual a 750')\n",
    "f"
   ]
  },
  {
   "cell_type": "markdown",
   "id": "364f3b07",
   "metadata": {},
   "source": [
    "### Diccionarios y listas"
   ]
  },
  {
   "cell_type": "code",
   "execution_count": 14,
   "id": "284338f3",
   "metadata": {},
   "outputs": [
    {
     "data": {
      "text/html": [
       "<dl>\n",
       "\t<dt>$Breña</dt>\n",
       "\t\t<dd><dl>\n",
       "\t<dt>$Population</dt>\n",
       "\t\t<dd>'93111'</dd>\n",
       "\t<dt>$Poverty</dt>\n",
       "\t\t<dd>'5.4%'</dd>\n",
       "</dl>\n",
       "</dd>\n",
       "\t<dt>$Pueblo_Libre</dt>\n",
       "\t\t<dd><dl>\n",
       "\t<dt>$Population</dt>\n",
       "\t\t<dd>'94010'</dd>\n",
       "\t<dt>$Poverty</dt>\n",
       "\t\t<dd>'1.2%'</dd>\n",
       "</dl>\n",
       "</dd>\n",
       "\t<dt>$San_Miguel</dt>\n",
       "\t\t<dd><dl>\n",
       "\t<dt>$Population</dt>\n",
       "\t\t<dd>'173309'</dd>\n",
       "\t<dt>$Poverty</dt>\n",
       "\t\t<dd>'2.1%'</dd>\n",
       "</dl>\n",
       "</dd>\n",
       "\t<dt>$La_Punta</dt>\n",
       "\t\t<dd><dl>\n",
       "\t<dt>$Population</dt>\n",
       "\t\t<dd>'3935'</dd>\n",
       "\t<dt>$Poverty</dt>\n",
       "\t\t<dd>'3.7%'</dd>\n",
       "</dl>\n",
       "</dd>\n",
       "\t<dt>$Bellavista</dt>\n",
       "\t\t<dd><dl>\n",
       "\t<dt>$Population</dt>\n",
       "\t\t<dd>'16370'</dd>\n",
       "\t<dt>$Poverty</dt>\n",
       "\t\t<dd>'6.3%'</dd>\n",
       "</dl>\n",
       "</dd>\n",
       "</dl>\n"
      ],
      "text/latex": [
       "\\begin{description}\n",
       "\\item[\\$Breña] \\begin{description}\n",
       "\\item[\\$Population] '93111'\n",
       "\\item[\\$Poverty] '5.4\\%'\n",
       "\\end{description}\n",
       "\n",
       "\\item[\\$Pueblo\\_Libre] \\begin{description}\n",
       "\\item[\\$Population] '94010'\n",
       "\\item[\\$Poverty] '1.2\\%'\n",
       "\\end{description}\n",
       "\n",
       "\\item[\\$San\\_Miguel] \\begin{description}\n",
       "\\item[\\$Population] '173309'\n",
       "\\item[\\$Poverty] '2.1\\%'\n",
       "\\end{description}\n",
       "\n",
       "\\item[\\$La\\_Punta] \\begin{description}\n",
       "\\item[\\$Population] '3935'\n",
       "\\item[\\$Poverty] '3.7\\%'\n",
       "\\end{description}\n",
       "\n",
       "\\item[\\$Bellavista] \\begin{description}\n",
       "\\item[\\$Population] '16370'\n",
       "\\item[\\$Poverty] '6.3\\%'\n",
       "\\end{description}\n",
       "\n",
       "\\end{description}\n"
      ],
      "text/markdown": [
       "$Breña\n",
       ":   $Population\n",
       ":   '93111'\n",
       "$Poverty\n",
       ":   '5.4%'\n",
       "\n",
       "\n",
       "\n",
       "$Pueblo_Libre\n",
       ":   $Population\n",
       ":   '94010'\n",
       "$Poverty\n",
       ":   '1.2%'\n",
       "\n",
       "\n",
       "\n",
       "$San_Miguel\n",
       ":   $Population\n",
       ":   '173309'\n",
       "$Poverty\n",
       ":   '2.1%'\n",
       "\n",
       "\n",
       "\n",
       "$La_Punta\n",
       ":   $Population\n",
       ":   '3935'\n",
       "$Poverty\n",
       ":   '3.7%'\n",
       "\n",
       "\n",
       "\n",
       "$Bellavista\n",
       ":   $Population\n",
       ":   '16370'\n",
       "$Poverty\n",
       ":   '6.3%'\n",
       "\n",
       "\n",
       "\n",
       "\n",
       "\n"
      ],
      "text/plain": [
       "$Breña\n",
       "$Breña$Population\n",
       "[1] \"93111\"\n",
       "\n",
       "$Breña$Poverty\n",
       "[1] \"5.4%\"\n",
       "\n",
       "\n",
       "$Pueblo_Libre\n",
       "$Pueblo_Libre$Population\n",
       "[1] \"94010\"\n",
       "\n",
       "$Pueblo_Libre$Poverty\n",
       "[1] \"1.2%\"\n",
       "\n",
       "\n",
       "$San_Miguel\n",
       "$San_Miguel$Population\n",
       "[1] \"173309\"\n",
       "\n",
       "$San_Miguel$Poverty\n",
       "[1] \"2.1%\"\n",
       "\n",
       "\n",
       "$La_Punta\n",
       "$La_Punta$Population\n",
       "[1] \"3935\"\n",
       "\n",
       "$La_Punta$Poverty\n",
       "[1] \"3.7%\"\n",
       "\n",
       "\n",
       "$Bellavista\n",
       "$Bellavista$Population\n",
       "[1] \"16370\"\n",
       "\n",
       "$Bellavista$Poverty\n",
       "[1] \"6.3%\"\n",
       "\n"
      ]
     },
     "metadata": {},
     "output_type": "display_data"
    }
   ],
   "source": [
    "dic1 <- list('Breña'=list('Population'=\"93111\",'Poverty'=\"5.4%\"),\"Pueblo_Libre\"=list(\"Population\"=\"94010\",\"Poverty\"=\"1.2%\"),\n",
    "\"San_Miguel\"=list(\"Population\"=\"173309\",\"Poverty\"=\"2.1%\"),\"La_Punta\"=list(\"Population\"=\"3935\",\"Poverty\"=\"3.7%\"),\"Bellavista\"=list(\"Population\"=\"16370\",\n",
    "\"Poverty\"=\"6.3%\"))\n",
    "dic1"
   ]
  },
  {
   "cell_type": "code",
   "execution_count": 15,
   "id": "60c8ac6a",
   "metadata": {
    "scrolled": true
   },
   "outputs": [
    {
     "data": {
      "text/html": [
       "'5.4%'"
      ],
      "text/latex": [
       "'5.4\\%'"
      ],
      "text/markdown": [
       "'5.4%'"
      ],
      "text/plain": [
       "[1] \"5.4%\""
      ]
     },
     "metadata": {},
     "output_type": "display_data"
    }
   ],
   "source": [
    "dic1$Breña$Poverty"
   ]
  },
  {
   "cell_type": "code",
   "execution_count": 16,
   "id": "7b6d2ac5",
   "metadata": {},
   "outputs": [
    {
     "data": {
      "text/html": [
       "'93111'"
      ],
      "text/latex": [
       "'93111'"
      ],
      "text/markdown": [
       "'93111'"
      ],
      "text/plain": [
       "[1] \"93111\""
      ]
     },
     "metadata": {},
     "output_type": "display_data"
    }
   ],
   "source": [
    "dic1$Breña$Population"
   ]
  },
  {
   "cell_type": "code",
   "execution_count": 17,
   "id": "4d9e0875",
   "metadata": {},
   "outputs": [
    {
     "data": {
      "text/html": [
       "'1.2%'"
      ],
      "text/latex": [
       "'1.2\\%'"
      ],
      "text/markdown": [
       "'1.2%'"
      ],
      "text/plain": [
       "[1] \"1.2%\""
      ]
     },
     "metadata": {},
     "output_type": "display_data"
    }
   ],
   "source": [
    "dic1$Pueblo_Libre$Poverty"
   ]
  },
  {
   "cell_type": "code",
   "execution_count": 18,
   "id": "9f3009dc",
   "metadata": {},
   "outputs": [
    {
     "data": {
      "text/html": [
       "'94010'"
      ],
      "text/latex": [
       "'94010'"
      ],
      "text/markdown": [
       "'94010'"
      ],
      "text/plain": [
       "[1] \"94010\""
      ]
     },
     "metadata": {},
     "output_type": "display_data"
    }
   ],
   "source": [
    "dic1$Pueblo_Libre$Population"
   ]
  },
  {
   "cell_type": "code",
   "execution_count": 19,
   "id": "2e4a5e53",
   "metadata": {},
   "outputs": [
    {
     "data": {
      "text/html": [
       "'6.3%'"
      ],
      "text/latex": [
       "'6.3\\%'"
      ],
      "text/markdown": [
       "'6.3%'"
      ],
      "text/plain": [
       "[1] \"6.3%\""
      ]
     },
     "metadata": {},
     "output_type": "display_data"
    }
   ],
   "source": [
    "dic1$Bellavista$Poverty"
   ]
  },
  {
   "cell_type": "code",
   "execution_count": 20,
   "id": "ff5c6f4a",
   "metadata": {},
   "outputs": [
    {
     "data": {
      "text/html": [
       "'16370'"
      ],
      "text/latex": [
       "'16370'"
      ],
      "text/markdown": [
       "'16370'"
      ],
      "text/plain": [
       "[1] \"16370\""
      ]
     },
     "metadata": {},
     "output_type": "display_data"
    }
   ],
   "source": [
    "dic1$Bellavista$Population"
   ]
  },
  {
   "cell_type": "markdown",
   "id": "29fb2f3a",
   "metadata": {},
   "source": [
    "### Matrices"
   ]
  },
  {
   "cell_type": "code",
   "execution_count": 21,
   "id": "4505414c",
   "metadata": {},
   "outputs": [],
   "source": [
    "f <- c(1,2,3,4,5,6,7,8,9,10)"
   ]
  },
  {
   "cell_type": "code",
   "execution_count": 22,
   "id": "d7182444",
   "metadata": {},
   "outputs": [
    {
     "name": "stdout",
     "output_type": "stream",
     "text": [
      "     [,1] [,2] [,3] [,4] [,5]\n",
      "[1,]    1    2    3    4    5\n",
      "[2,]    6    7    8    9   10\n"
     ]
    }
   ],
   "source": [
    "m1 <- matrix(f, nrow=2, byrow=TRUE)\n",
    "print(m1)"
   ]
  },
  {
   "cell_type": "code",
   "execution_count": 23,
   "id": "44c44d9d",
   "metadata": {},
   "outputs": [
    {
     "name": "stdout",
     "output_type": "stream",
     "text": [
      "     [,1] [,2] [,3] [,4] [,5]\n",
      "[1,]    1    3    5    7    9\n",
      "[2,]    2    4    6    8   10\n"
     ]
    }
   ],
   "source": [
    "m2 <- matrix(f, nrow=2, byrow=FALSE)\n",
    "print(m2)"
   ]
  },
  {
   "cell_type": "code",
   "execution_count": 24,
   "id": "f207cc20",
   "metadata": {},
   "outputs": [
    {
     "data": {
      "text/html": [
       "<table>\n",
       "<tbody>\n",
       "\t<tr><td>1 </td><td>5 </td><td> 9</td><td>13</td><td>17</td><td>21</td><td>25</td><td>29</td></tr>\n",
       "\t<tr><td>2 </td><td>6 </td><td>10</td><td>14</td><td>18</td><td>22</td><td>26</td><td>30</td></tr>\n",
       "\t<tr><td>3 </td><td>7 </td><td>11</td><td>15</td><td>19</td><td>23</td><td>27</td><td>31</td></tr>\n",
       "\t<tr><td>4 </td><td>8 </td><td>12</td><td>16</td><td>20</td><td>24</td><td>28</td><td>32</td></tr>\n",
       "</tbody>\n",
       "</table>\n"
      ],
      "text/latex": [
       "\\begin{tabular}{llllllll}\n",
       "\t 1  & 5  &  9 & 13 & 17 & 21 & 25 & 29\\\\\n",
       "\t 2  & 6  & 10 & 14 & 18 & 22 & 26 & 30\\\\\n",
       "\t 3  & 7  & 11 & 15 & 19 & 23 & 27 & 31\\\\\n",
       "\t 4  & 8  & 12 & 16 & 20 & 24 & 28 & 32\\\\\n",
       "\\end{tabular}\n"
      ],
      "text/markdown": [
       "\n",
       "| 1  | 5  |  9 | 13 | 17 | 21 | 25 | 29 |\n",
       "| 2  | 6  | 10 | 14 | 18 | 22 | 26 | 30 |\n",
       "| 3  | 7  | 11 | 15 | 19 | 23 | 27 | 31 |\n",
       "| 4  | 8  | 12 | 16 | 20 | 24 | 28 | 32 |\n",
       "\n"
      ],
      "text/plain": [
       "     [,1] [,2] [,3] [,4] [,5] [,6] [,7] [,8]\n",
       "[1,] 1    5     9   13   17   21   25   29  \n",
       "[2,] 2    6    10   14   18   22   26   30  \n",
       "[3,] 3    7    11   15   19   23   27   31  \n",
       "[4,] 4    8    12   16   20   24   28   32  "
      ]
     },
     "metadata": {},
     "output_type": "display_data"
    }
   ],
   "source": [
    "e <- matrix(seq(1,32,1),4,8)\n",
    "e"
   ]
  },
  {
   "cell_type": "code",
   "execution_count": 25,
   "id": "dcb75ce4",
   "metadata": {},
   "outputs": [
    {
     "data": {
      "text/html": [
       "<table>\n",
       "<tbody>\n",
       "\t<tr><td>25</td><td>29</td></tr>\n",
       "\t<tr><td>26</td><td>30</td></tr>\n",
       "\t<tr><td>27</td><td>31</td></tr>\n",
       "\t<tr><td>28</td><td>32</td></tr>\n",
       "</tbody>\n",
       "</table>\n"
      ],
      "text/latex": [
       "\\begin{tabular}{ll}\n",
       "\t 25 & 29\\\\\n",
       "\t 26 & 30\\\\\n",
       "\t 27 & 31\\\\\n",
       "\t 28 & 32\\\\\n",
       "\\end{tabular}\n"
      ],
      "text/markdown": [
       "\n",
       "| 25 | 29 |\n",
       "| 26 | 30 |\n",
       "| 27 | 31 |\n",
       "| 28 | 32 |\n",
       "\n"
      ],
      "text/plain": [
       "     [,1] [,2]\n",
       "[1,] 25   29  \n",
       "[2,] 26   30  \n",
       "[3,] 27   31  \n",
       "[4,] 28   32  "
      ]
     },
     "metadata": {},
     "output_type": "display_data"
    }
   ],
   "source": [
    "e[,c(-1:-6)]"
   ]
  },
  {
   "cell_type": "code",
   "execution_count": 26,
   "id": "a8a2f1ac",
   "metadata": {},
   "outputs": [
    {
     "data": {
      "text/html": [
       "<table>\n",
       "<tbody>\n",
       "\t<tr><td>1 </td><td>5 </td><td> 9</td><td>13</td><td>17</td><td>21</td><td>25</td><td>29</td></tr>\n",
       "\t<tr><td>2 </td><td>6 </td><td>10</td><td>14</td><td>18</td><td>22</td><td>26</td><td>30</td></tr>\n",
       "\t<tr><td>3 </td><td>7 </td><td>11</td><td>15</td><td>19</td><td>23</td><td>27</td><td>31</td></tr>\n",
       "</tbody>\n",
       "</table>\n"
      ],
      "text/latex": [
       "\\begin{tabular}{llllllll}\n",
       "\t 1  & 5  &  9 & 13 & 17 & 21 & 25 & 29\\\\\n",
       "\t 2  & 6  & 10 & 14 & 18 & 22 & 26 & 30\\\\\n",
       "\t 3  & 7  & 11 & 15 & 19 & 23 & 27 & 31\\\\\n",
       "\\end{tabular}\n"
      ],
      "text/markdown": [
       "\n",
       "| 1  | 5  |  9 | 13 | 17 | 21 | 25 | 29 |\n",
       "| 2  | 6  | 10 | 14 | 18 | 22 | 26 | 30 |\n",
       "| 3  | 7  | 11 | 15 | 19 | 23 | 27 | 31 |\n",
       "\n"
      ],
      "text/plain": [
       "     [,1] [,2] [,3] [,4] [,5] [,6] [,7] [,8]\n",
       "[1,] 1    5     9   13   17   21   25   29  \n",
       "[2,] 2    6    10   14   18   22   26   30  \n",
       "[3,] 3    7    11   15   19   23   27   31  "
      ]
     },
     "metadata": {},
     "output_type": "display_data"
    }
   ],
   "source": [
    "e[c(1:3),]"
   ]
  },
  {
   "cell_type": "markdown",
   "id": "de74e0e1",
   "metadata": {},
   "source": [
    "### Operaciones con matrices"
   ]
  },
  {
   "cell_type": "code",
   "execution_count": null,
   "id": "dfa27811",
   "metadata": {
    "scrolled": false
   },
   "outputs": [],
   "source": []
  },
  {
   "cell_type": "code",
   "execution_count": null,
   "id": "f8a60fc1",
   "metadata": {},
   "outputs": [],
   "source": []
  },
  {
   "cell_type": "code",
   "execution_count": null,
   "id": "6c017bca",
   "metadata": {},
   "outputs": [],
   "source": []
  },
  {
   "cell_type": "code",
   "execution_count": null,
   "id": "46072075",
   "metadata": {},
   "outputs": [],
   "source": []
  },
  {
   "cell_type": "code",
   "execution_count": null,
   "id": "45eb1e5e",
   "metadata": {},
   "outputs": [],
   "source": []
  }
 ],
 "metadata": {
  "kernelspec": {
   "display_name": "R",
   "language": "R",
   "name": "ir"
  },
  "language_info": {
   "codemirror_mode": "r",
   "file_extension": ".r",
   "mimetype": "text/x-r-source",
   "name": "R",
   "pygments_lexer": "r",
   "version": "3.6.1"
  }
 },
 "nbformat": 4,
 "nbformat_minor": 5
}
