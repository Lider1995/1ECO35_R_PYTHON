{
 "cells": [
  {
   "cell_type": "markdown",
   "metadata": {},
   "source": [
    "TAREA GRUPAL 1 /Grupo 5\n",
    "1. Use f-string para concatenar textos o valores numéricos. De dos ejemplos "
   ]
  },
  {
   "cell_type": "code",
   "execution_count": 29,
   "metadata": {},
   "outputs": [
    {
     "name": "stdout",
     "output_type": "stream",
     "text": [
      "Este es nuestro primer trabajo grupal del ciclo 2022-1 en Jupyter notebooks\n"
     ]
    }
   ],
   "source": [
    "x1 = \"Este es nuestro primer trabajo grupal\"\n",
    "x2 = \"Jupyter notebooks\"\n",
    "print (f'{x1} del ciclo 2022-1 en {x2}')"
   ]
  },
  {
   "cell_type": "code",
   "execution_count": 32,
   "metadata": {},
   "outputs": [
    {
     "name": "stdout",
     "output_type": "stream",
     "text": [
      "101 + 10 es 111\n"
     ]
    }
   ],
   "source": [
    "y1 = 101\n",
    "y2 = 10\n",
    "y3= y1+y2\n",
    "print(f'{y1} + {y2} es {y3}')"
   ]
  },
  {
   "cell_type": "markdown",
   "metadata": {},
   "source": [
    "DICCIONAIRO Y LISTAS\n",
    "2. Crear una lista de tres distritos de Lima y dos distritos del callao. Extraer el primer y último elemento usando el indexing"
   ]
  },
  {
   "cell_type": "code",
   "execution_count": 43,
   "metadata": {},
   "outputs": [
    {
     "name": "stdout",
     "output_type": "stream",
     "text": [
      "['Los Olivos', 'Ancón', 'Ventanilla', 'Santiago de Surco', 'Mi Perú']\n"
     ]
    }
   ],
   "source": [
    "lista = [\"Los Olivos\", \"Ancón\", \"Ventanilla\", \"Santiago de Surco\", \"Mi Perú\"]\n",
    "print(lista)"
   ]
  },
  {
   "cell_type": "markdown",
   "metadata": {},
   "source": [
    "2.1 Extrar el primero"
   ]
  },
  {
   "cell_type": "code",
   "execution_count": 41,
   "metadata": {},
   "outputs": [
    {
     "data": {
      "text/plain": [
       "'Los Olivos'"
      ]
     },
     "execution_count": 41,
     "metadata": {},
     "output_type": "execute_result"
    }
   ],
   "source": [
    "lista[0]"
   ]
  },
  {
   "cell_type": "markdown",
   "metadata": {},
   "source": [
    "2.2 extraer el último"
   ]
  },
  {
   "cell_type": "code",
   "execution_count": 44,
   "metadata": {},
   "outputs": [
    {
     "data": {
      "text/plain": [
       "'Mi Perú'"
      ]
     },
     "execution_count": 44,
     "metadata": {},
     "output_type": "execute_result"
    }
   ],
   "source": [
    "lista[-1]"
   ]
  },
  {
   "cell_type": "markdown",
   "metadata": {},
   "source": [
    "3. Crear un diccionario con los 5 distritos del ejercicio a. Incluir información de población proyectada e incidencia de pobreza (limite superior).Use la información del Mapa de Pobreza 2018"
   ]
  },
  {
   "cell_type": "code",
   "execution_count": 2,
   "metadata": {},
   "outputs": [
    {
     "name": "stdout",
     "output_type": "stream",
     "text": [
      "{'Los Olivos': {'población': 351983, 'pobreza': 9.5}, 'Ancón': {'población': 82677, 'pobreza': 25.5, 'Ventanilla': {'población': 369618, 'pobreza': 29.4}, 'Santiago de Surco': {'población': 408086, 'pobreza': 1.6}, 'Mi Perú': {'población': 52348, 'pobreza': 31.0}}}\n"
     ]
    }
   ],
   "source": [
    "diccionario ={\"Los Olivos\":{\"población\":351983, \"pobreza\":9.5}, \"Ancón\":{\"población\":82677,\"pobreza\":25.5, \n",
    "\"Ventanilla\":{\"población\":369618, \"pobreza\":29.4}, \"Santiago de Surco\":{\"población\":408086, \"pobreza\":1.6}, \n",
    "\"Mi Perú\":{\"población\":52348,\"pobreza\":31.0 }}}\n",
    "print(diccionario)"
   ]
  },
  {
   "cell_type": "markdown",
   "metadata": {},
   "source": [
    "4. Muestre la información de pobreza y población de 3 distritos"
   ]
  },
  {
   "cell_type": "code",
   "execution_count": 3,
   "metadata": {},
   "outputs": [
    {
     "data": {
      "text/plain": [
       "(351983, 9.5)"
      ]
     },
     "execution_count": 3,
     "metadata": {},
     "output_type": "execute_result"
    }
   ],
   "source": [
    "diccionario[\"Los Olivos\"][\"población\"] , diccionario[\"Los Olivos\"][\"pobreza\"]"
   ]
  },
  {
   "cell_type": "code",
   "execution_count": 4,
   "metadata": {},
   "outputs": [
    {
     "data": {
      "text/plain": [
       "(82677, 25.5)"
      ]
     },
     "execution_count": 4,
     "metadata": {},
     "output_type": "execute_result"
    }
   ],
   "source": [
    "diccionario[\"Ancón\"][\"población\"] , diccionario[\"Ancón\"][\"pobreza\"]"
   ]
  },
  {
   "cell_type": "code",
   "execution_count": 6,
   "metadata": {
    "scrolled": false
   },
   "outputs": [
    {
     "ename": "KeyError",
     "evalue": "'Mi Perú'",
     "output_type": "error",
     "traceback": [
      "\u001b[1;31m---------------------------------------------------------------------------\u001b[0m",
      "\u001b[1;31mKeyError\u001b[0m                                  Traceback (most recent call last)",
      "\u001b[1;32m<ipython-input-6-0457de461410>\u001b[0m in \u001b[0;36m<module>\u001b[1;34m\u001b[0m\n\u001b[1;32m----> 1\u001b[1;33m \u001b[0mdiccionario\u001b[0m\u001b[1;33m[\u001b[0m\u001b[1;34m\"Mi Perú\"\u001b[0m\u001b[1;33m]\u001b[0m\u001b[1;33m[\u001b[0m\u001b[1;34m\"población\"\u001b[0m\u001b[1;33m]\u001b[0m \u001b[1;33m,\u001b[0m \u001b[0mdiccionario\u001b[0m\u001b[1;33m[\u001b[0m\u001b[1;34m\"Mi Perú\"\u001b[0m\u001b[1;33m]\u001b[0m\u001b[1;33m[\u001b[0m\u001b[1;34m\"pobreza\"\u001b[0m\u001b[1;33m]\u001b[0m\u001b[1;33m\u001b[0m\u001b[1;33m\u001b[0m\u001b[0m\n\u001b[0m",
      "\u001b[1;31mKeyError\u001b[0m: 'Mi Perú'"
     ]
    }
   ],
   "source": [
    "diccionario[\"Mi Perú\"][\"población\"] , diccionario[\"Mi Perú\"][\"pobreza\"]"
   ]
  },
  {
   "cell_type": "markdown",
   "metadata": {},
   "source": [
    "MATRICES \n",
    "5. crear matrices y dar dos ejemplos de concatenación, union vertical y horizontal"
   ]
  },
  {
   "cell_type": "code",
   "execution_count": 10,
   "metadata": {},
   "outputs": [],
   "source": [
    "import numpy as np\n"
   ]
  },
  {
   "cell_type": "code",
   "execution_count": 24,
   "metadata": {},
   "outputs": [
    {
     "name": "stdout",
     "output_type": "stream",
     "text": [
      "[[ 5  6]\n",
      " [ 7  8]\n",
      " [ 9 10]]\n"
     ]
    }
   ],
   "source": [
    "matriz_1 = np.arange(5,11).reshape(3,2)\n",
    "print(matriz_1)"
   ]
  },
  {
   "cell_type": "code",
   "execution_count": 26,
   "metadata": {},
   "outputs": [
    {
     "name": "stdout",
     "output_type": "stream",
     "text": [
      "[[1 2]\n",
      " [3 4]\n",
      " [5 6]]\n"
     ]
    }
   ],
   "source": [
    "matriz_2 = np.arange(1,7).reshape(3,2)\n",
    "print(matriz_2)"
   ]
  },
  {
   "cell_type": "markdown",
   "metadata": {},
   "source": [
    "5.1 Concatenación horizontal."
   ]
  },
  {
   "cell_type": "code",
   "execution_count": 27,
   "metadata": {},
   "outputs": [
    {
     "name": "stdout",
     "output_type": "stream",
     "text": [
      "[[ 5  6  1  2]\n",
      " [ 7  8  3  4]\n",
      " [ 9 10  5  6]]\n"
     ]
    }
   ],
   "source": [
    "matriz_3 =np.concatenate((matriz_1, matriz_2), 1)\n",
    "print(matriz_3)"
   ]
  },
  {
   "cell_type": "markdown",
   "metadata": {},
   "source": [
    "5.2 Concatenación vertical "
   ]
  },
  {
   "cell_type": "code",
   "execution_count": 28,
   "metadata": {},
   "outputs": [
    {
     "name": "stdout",
     "output_type": "stream",
     "text": [
      "[[ 5  6]\n",
      " [ 7  8]\n",
      " [ 9 10]\n",
      " [ 1  2]\n",
      " [ 3  4]\n",
      " [ 5  6]]\n"
     ]
    }
   ],
   "source": [
    "matriz_4 =np.concatenate((matriz_1, matriz_2), 0)\n",
    "print(matriz_4)"
   ]
  },
  {
   "cell_type": "markdown",
   "metadata": {},
   "source": [
    "6. Crea una matriz de dimensión 4x8, seleccionar las 2 últimas columnas y las 3 primers filas "
   ]
  },
  {
   "cell_type": "code",
   "execution_count": 58,
   "metadata": {},
   "outputs": [
    {
     "name": "stdout",
     "output_type": "stream",
     "text": [
      "[[ 1  2  3  4  5  6  7  8]\n",
      " [ 9 10 11 12 13 14 15 16]\n",
      " [17 18 19 20 21 22 23 24]\n",
      " [25 26 27 28 29 30 31 32]]\n"
     ]
    }
   ],
   "source": [
    "matriz_4x8 = np.arange(1,33).reshape(4,8)\n",
    "print(matriz_4x8)"
   ]
  },
  {
   "cell_type": "markdown",
   "metadata": {},
   "source": [
    "6.1 Seleccionamos las 2 últimás columnas "
   ]
  },
  {
   "cell_type": "code",
   "execution_count": 62,
   "metadata": {},
   "outputs": [
    {
     "data": {
      "text/plain": [
       "array([[ 7,  8],\n",
       "       [15, 16],\n",
       "       [23, 24],\n",
       "       [31, 32]])"
      ]
     },
     "execution_count": 62,
     "metadata": {},
     "output_type": "execute_result"
    }
   ],
   "source": [
    "matriz_4x8[:,6:8]"
   ]
  },
  {
   "cell_type": "markdown",
   "metadata": {},
   "source": [
    "6.2 Seleccionamos las 3 primeras filas"
   ]
  },
  {
   "cell_type": "code",
   "execution_count": 66,
   "metadata": {},
   "outputs": [
    {
     "data": {
      "text/plain": [
       "array([[ 1,  2,  3,  4,  5,  6,  7,  8],\n",
       "       [ 9, 10, 11, 12, 13, 14, 15, 16],\n",
       "       [17, 18, 19, 20, 21, 22, 23, 24]])"
      ]
     },
     "execution_count": 66,
     "metadata": {},
     "output_type": "execute_result"
    }
   ],
   "source": [
    "matriz_4x8[0:3,:]"
   ]
  },
  {
   "cell_type": "markdown",
   "metadata": {},
   "source": [
    "7. Obtener el estimador de la varianza del termino de perturbación"
   ]
  },
  {
   "cell_type": "code",
   "execution_count": null,
   "metadata": {},
   "outputs": [],
   "source": [
    "import numpy as np\n",
    "import random \n",
    "​\n",
    "random.seed(5)\n",
    "\n",
    "x1 = np.random.rand(5) \n",
    "x2 = np.random.rand(5) \n",
    "x3 = np.random.rand(5) \n",
    "x4 = np.random.rand(5)\n",
    "e = np.random.normal(0,1,5)\n",
    "\n",
    "Y = 1 + 1.4*x1 + 1.2*x2 + 1.3*x3 + e"
   ]
  },
  {
   "cell_type": "code",
   "execution_count": null,
   "metadata": {},
   "outputs": [],
   "source": [
    "X = np.column_stack((x1,x2,x3))  #matriz X\n",
    "print (X)"
   ]
  },
  {
   "cell_type": "code",
   "execution_count": null,
   "metadata": {},
   "outputs": [],
   "source": [
    "Y = np.ones(5) + np.sum(X*(np.array([1.4, 1.2, 1.3])),axis=1)  #Matriz Y\n",
    "Y"
   ]
  },
  {
   "cell_type": "markdown",
   "metadata": {},
   "source": [
    "FORMULA DEL ESTIMADOR DE LA VARIANZA\n",
    "\n",
    "\\begin{equation}\n",
    " \\hat{\\sigma}^2 = {\\frac{\\sum(\\hat{e})^2}{N-K}} = {\\frac{\\sum(Y- \\hat{Y})^2}{N-K}} = {\\frac{\\sum({Y-XB})^2}{N-K}}\n",
    "\\end{equation}"
   ]
  },
  {
   "cell_type": "code",
   "execution_count": null,
   "metadata": {},
   "outputs": [],
   "source": [
    "B = np.linalg.inv(X.T @ X) @ ((X.T) @ Y )  #betas estimados\n",
    "\n",
    "B"
   ]
  },
  {
   "cell_type": "code",
   "execution_count": null,
   "metadata": {},
   "outputs": [],
   "source": [
    "U =  Y - X@B\n",
    "U"
   ]
  },
  {
   "cell_type": "code",
   "execution_count": null,
   "metadata": {},
   "outputs": [],
   "source": [
    "S2 = pow(e_Est,2)/(5-4)\n",
    "S2"
   ]
  },
  {
   "cell_type": "markdown",
   "metadata": {},
   "source": [
    "8. Matriz de varianza y covarianza de los coeficientes\n",
    "\n",
    "\\begin{equation}\n",
    " \\Sigma = (\\frac{\\hat{U}'\\hat{U}}{n-k})(X'X)^{-1}\n",
    "\\end{equation}"
   ]
  },
  {
   "cell_type": "code",
   "execution_count": null,
   "metadata": {},
   "outputs": [],
   "source": [
    "CV = (U.T @ U / (5-4))*(np.linalg.inv(X.T@X))\n",
    "CV"
   ]
  },
  {
   "cell_type": "markdown",
   "metadata": {},
   "source": [
    "9. Matriz generador de residuos\n",
    "\n",
    "\\begin{equation}\n",
    " M = I - X(X'X)^{-1}X'\n",
    "\\end{equation}"
   ]
  },
  {
   "cell_type": "code",
   "execution_count": null,
   "metadata": {},
   "outputs": [],
   "source": [
    "I = np.eye(5) # Matriz Identidad\n",
    "I"
   ]
  },
  {
   "cell_type": "code",
   "execution_count": null,
   "metadata": {},
   "outputs": [],
   "source": [
    "M = I - X@(np.linalg.inv(X.T@X)@X.T)"
   ]
  }
 ],
 "metadata": {
  "kernelspec": {
   "display_name": "Python 3 (ipykernel)",
   "language": "python",
   "name": "python3"
  },
  "language_info": {
   "codemirror_mode": {
    "name": "ipython",
    "version": 3
   },
   "file_extension": ".py",
   "mimetype": "text/x-python",
   "name": "python",
   "nbconvert_exporter": "python",
   "pygments_lexer": "ipython3",
   "version": "3.9.7"
  }
 },
 "nbformat": 4,
 "nbformat_minor": 4
}
