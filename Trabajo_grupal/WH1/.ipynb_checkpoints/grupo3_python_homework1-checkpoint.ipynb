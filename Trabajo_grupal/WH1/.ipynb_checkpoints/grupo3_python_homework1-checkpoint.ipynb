{
 "cells": [
  {
   "cell_type": "markdown",
   "id": "22246375",
   "metadata": {},
   "source": [
    "## Python Homework 1"
   ]
  },
  {
   "cell_type": "markdown",
   "id": "d6d6aeb2",
   "metadata": {},
   "source": [
    "1- Use f-string para concaternar textos o valores numéricos. De 2 ejemplos."
   ]
  },
  {
   "cell_type": "code",
   "execution_count": 2,
   "id": "124ba5b2",
   "metadata": {},
   "outputs": [
    {
     "name": "stdout",
     "output_type": "stream",
     "text": [
      "cobre\n",
      "cafe\n"
     ]
    }
   ],
   "source": [
    "a = 'cobre'\n",
    "b = 'cafe'\n",
    "printa"
   ]
  },
  {
   "cell_type": "code",
   "execution_count": 4,
   "id": "abcc499d",
   "metadata": {},
   "outputs": [
    {
     "name": "stdout",
     "output_type": "stream",
     "text": [
      "Los productos tradicionales mas exportados son \n"
     ]
    }
   ],
   "source": [
    "x = 'Los productos tradicionales mas exportados son'\n",
    "print (x)"
   ]
  },
  {
   "cell_type": "code",
   "execution_count": 5,
   "id": "52d76bc2",
   "metadata": {},
   "outputs": [
    {
     "name": "stdout",
     "output_type": "stream",
     "text": [
      "Los productos tradicionales mas exportados son  cobre y cafe\n"
     ]
    }
   ],
   "source": [
    "print(f'{x} {a} y {b}')"
   ]
  },
  {
   "cell_type": "code",
   "execution_count": 6,
   "id": "23b0e8e9",
   "metadata": {},
   "outputs": [],
   "source": [
    "d = 'Huancayo'\n",
    "e = 'Lima'\n",
    "f = 'Tacna'"
   ]
  },
  {
   "cell_type": "code",
   "execution_count": 7,
   "id": "f4f7cf4a",
   "metadata": {},
   "outputs": [
    {
     "name": "stdout",
     "output_type": "stream",
     "text": [
      "El paro de transportistas han generado revueltas en\n"
     ]
    }
   ],
   "source": [
    "y = 'El paro de transportistas han generado revueltas en'\n",
    "print (y)"
   ]
  },
  {
   "cell_type": "code",
   "execution_count": 8,
   "id": "56a5d755",
   "metadata": {},
   "outputs": [
    {
     "name": "stdout",
     "output_type": "stream",
     "text": [
      "El paro de transportistas han generado revueltas en Huancayo, Lima y Tacna\n"
     ]
    }
   ],
   "source": [
    "print(f'{y} {d}, {e} y {f}')"
   ]
  },
  {
   "cell_type": "markdown",
   "id": "9f690256",
   "metadata": {},
   "source": [
    "## Diccionarios y listas"
   ]
  },
  {
   "cell_type": "markdown",
   "id": "03b137d5",
   "metadata": {},
   "source": [
    "2- Crear una Lista de 3 distritos de Lima, añadir 2 distritos del Callao. Extraer el primer y último elemento usando el Indexing"
   ]
  },
  {
   "cell_type": "code",
   "execution_count": 9,
   "id": "40d245a0",
   "metadata": {},
   "outputs": [
    {
     "name": "stdout",
     "output_type": "stream",
     "text": [
      "['San Miguel', 'Jesus Maria', 'Lince']\n"
     ]
    }
   ],
   "source": [
    "L1 = ['San Miguel', 'Jesus Maria', 'Lince']\n",
    "print (L1)"
   ]
  },
  {
   "cell_type": "code",
   "execution_count": 10,
   "id": "c692f6a9",
   "metadata": {},
   "outputs": [
    {
     "name": "stdout",
     "output_type": "stream",
     "text": [
      "['San Miguel', 'Jesus Maria', 'Lince', 'La Perla']\n"
     ]
    }
   ],
   "source": [
    "L1.append ('La Perla')\n",
    "print (L1)"
   ]
  },
  {
   "cell_type": "code",
   "execution_count": 11,
   "id": "c11cd00c",
   "metadata": {},
   "outputs": [
    {
     "name": "stdout",
     "output_type": "stream",
     "text": [
      "['San Miguel', 'Jesus Maria', 'Lince', 'La Perla', 'Bellavista']\n"
     ]
    }
   ],
   "source": [
    "L1.append ('Bellavista')\n",
    "print (L1)"
   ]
  },
  {
   "cell_type": "code",
   "execution_count": 12,
   "id": "a39a649b",
   "metadata": {},
   "outputs": [
    {
     "data": {
      "text/plain": [
       "'San Miguel'"
      ]
     },
     "execution_count": 12,
     "metadata": {},
     "output_type": "execute_result"
    }
   ],
   "source": [
    "L1[0]"
   ]
  },
  {
   "cell_type": "code",
   "execution_count": 13,
   "id": "b401b0ea",
   "metadata": {},
   "outputs": [
    {
     "data": {
      "text/plain": [
       "'Bellavista'"
      ]
     },
     "execution_count": 13,
     "metadata": {},
     "output_type": "execute_result"
    }
   ],
   "source": [
    "L1[4]"
   ]
  },
  {
   "cell_type": "markdown",
   "id": "1e2ecbb7",
   "metadata": {},
   "source": [
    "3- Crear un diccionario con los 5 distritos del ejercicio a. Incluir información de población proyectada e incidencia de pobreza (limite superior).Use la información del Mapa de Pobreza 2018"
   ]
  },
  {
   "cell_type": "code",
   "execution_count": 14,
   "id": "3a9bb13f",
   "metadata": {},
   "outputs": [
    {
     "name": "stdout",
     "output_type": "stream",
     "text": [
      "{'San Miguel': {'Poblacion': 173309, 'Pobreza': 2.2}, 'Jesus Maria': {'Poblacion': 81743, 'Pobreza': 0.8}, 'Lince': {'Poblacion': 59578, 'Pobreza': 2.2}, 'La Perla': {'Poblacion': 64454, 'Pobreza': 4.1}, 'Bellavista': {'Poblacion': 80704, 'Pobreza': 6.2}}\n"
     ]
    }
   ],
   "source": [
    "Distritos_pob = {'San Miguel': {'Poblacion':173309, 'Pobreza': 2.2}, \n",
    "                 'Jesus Maria':{'Poblacion':81743, 'Pobreza': 0.8}, \n",
    "                 'Lince': {'Poblacion':59578, 'Pobreza': 2.2}, \n",
    "                 'La Perla': {'Poblacion':64454, 'Pobreza':4.1}, \n",
    "                 'Bellavista': {'Poblacion':80704, 'Pobreza': 6.2}}\n",
    "print(Distritos_pob)"
   ]
  },
  {
   "cell_type": "markdown",
   "id": "96c5545f",
   "metadata": {},
   "source": [
    "4- Muestre la información de pobreza y de población de 3 distritos"
   ]
  },
  {
   "cell_type": "code",
   "execution_count": 15,
   "id": "11c46d5e",
   "metadata": {},
   "outputs": [
    {
     "data": {
      "text/plain": [
       "81743"
      ]
     },
     "execution_count": 15,
     "metadata": {},
     "output_type": "execute_result"
    }
   ],
   "source": [
    "Distritos_pob.get('Jesus Maria').get('Poblacion')"
   ]
  },
  {
   "cell_type": "code",
   "execution_count": 16,
   "id": "e8a8baf2",
   "metadata": {},
   "outputs": [
    {
     "data": {
      "text/plain": [
       "0.8"
      ]
     },
     "execution_count": 16,
     "metadata": {},
     "output_type": "execute_result"
    }
   ],
   "source": [
    "Distritos_pob.get('Jesus Maria').get('Pobreza')"
   ]
  },
  {
   "cell_type": "code",
   "execution_count": 17,
   "id": "fa383dbc",
   "metadata": {},
   "outputs": [
    {
     "data": {
      "text/plain": [
       "64454"
      ]
     },
     "execution_count": 17,
     "metadata": {},
     "output_type": "execute_result"
    }
   ],
   "source": [
    "Distritos_pob.get('La Perla').get('Poblacion')"
   ]
  },
  {
   "cell_type": "code",
   "execution_count": 18,
   "id": "cd71289b",
   "metadata": {},
   "outputs": [
    {
     "data": {
      "text/plain": [
       "4.1"
      ]
     },
     "execution_count": 18,
     "metadata": {},
     "output_type": "execute_result"
    }
   ],
   "source": [
    "Distritos_pob.get('La Perla').get('Pobreza')"
   ]
  },
  {
   "cell_type": "code",
   "execution_count": 19,
   "id": "1b334718",
   "metadata": {},
   "outputs": [
    {
     "data": {
      "text/plain": [
       "59578"
      ]
     },
     "execution_count": 19,
     "metadata": {},
     "output_type": "execute_result"
    }
   ],
   "source": [
    "Distritos_pob.get('Lince').get('Poblacion')"
   ]
  },
  {
   "cell_type": "code",
   "execution_count": 20,
   "id": "f050d173",
   "metadata": {},
   "outputs": [
    {
     "data": {
      "text/plain": [
       "2.2"
      ]
     },
     "execution_count": 20,
     "metadata": {},
     "output_type": "execute_result"
    }
   ],
   "source": [
    "Distritos_pob.get('Lince').get('Pobreza')"
   ]
  },
  {
   "cell_type": "markdown",
   "id": "7deceda1",
   "metadata": {},
   "source": [
    "## Matrices"
   ]
  },
  {
   "cell_type": "markdown",
   "id": "6ff09fcd",
   "metadata": {},
   "source": [
    "5- Crear matrices y dar dos ejemplos de concatenación. Unión vertical y horizontal."
   ]
  },
  {
   "cell_type": "code",
   "execution_count": 21,
   "id": "8dda4684",
   "metadata": {},
   "outputs": [],
   "source": [
    "import numpy as np"
   ]
  },
  {
   "cell_type": "code",
   "execution_count": 22,
   "id": "cfb6c252",
   "metadata": {},
   "outputs": [
    {
     "name": "stdout",
     "output_type": "stream",
     "text": [
      "[[0 1 2]\n",
      " [5 6 7]]\n"
     ]
    }
   ],
   "source": [
    "m=np.array([[0,1,2],[5,6,7]])\n",
    "print(m)"
   ]
  },
  {
   "cell_type": "code",
   "execution_count": 23,
   "id": "0500fb29",
   "metadata": {},
   "outputs": [
    {
     "name": "stdout",
     "output_type": "stream",
     "text": [
      "[[ 5  1  7]\n",
      " [ 8  9 10]]\n"
     ]
    }
   ],
   "source": [
    "n=np.array([[5,1,7],[8,9,10]])\n",
    "print(n)"
   ]
  },
  {
   "cell_type": "code",
   "execution_count": 24,
   "id": "d22fe721",
   "metadata": {},
   "outputs": [
    {
     "name": "stdout",
     "output_type": "stream",
     "text": [
      "[[ 0  1  2]\n",
      " [ 5  6  7]\n",
      " [ 5  1  7]\n",
      " [ 8  9 10]]\n"
     ]
    }
   ],
   "source": [
    "con1 = np.concatenate((m,n), axis = 0)\n",
    "print (con1)"
   ]
  },
  {
   "cell_type": "code",
   "execution_count": 25,
   "id": "d630d642",
   "metadata": {},
   "outputs": [
    {
     "name": "stdout",
     "output_type": "stream",
     "text": [
      "[[ 0  1  2  5  1  7]\n",
      " [ 5  6  7  8  9 10]]\n"
     ]
    }
   ],
   "source": [
    "con2 = np.concatenate((m,n), axis = 1)\n",
    "print (con2)"
   ]
  },
  {
   "cell_type": "markdown",
   "id": "cc965029",
   "metadata": {},
   "source": [
    "6- Crear una matriz de dimensión 4x8, seleccionar las ultimas dos columnas y primeras 3 filas."
   ]
  },
  {
   "cell_type": "code",
   "execution_count": 26,
   "id": "b2734839",
   "metadata": {},
   "outputs": [
    {
     "name": "stdout",
     "output_type": "stream",
     "text": [
      "[[ 0  1  2  3  4  5  6  7]\n",
      " [ 8  9 10 11 12 13 14 15]\n",
      " [16 17 18 19 20 21 22 23]\n",
      " [24 25 26 27 28 29 30 31]]\n"
     ]
    }
   ],
   "source": [
    "mat=np.array([[0,1,2,3,4,5,6,7],[8,9,10,11,12,13,14,15],[16,17,18,19,20,21,22,23],[24,25,26,27,28,29,30,31]])\n",
    "print(mat)"
   ]
  },
  {
   "cell_type": "code",
   "execution_count": 27,
   "id": "f98acd46",
   "metadata": {},
   "outputs": [
    {
     "data": {
      "text/plain": [
       "array([[ 6,  7],\n",
       "       [14, 15],\n",
       "       [22, 23],\n",
       "       [30, 31]])"
      ]
     },
     "execution_count": 27,
     "metadata": {},
     "output_type": "execute_result"
    }
   ],
   "source": [
    "mat[:,6:8] #2 ultimas columna"
   ]
  },
  {
   "cell_type": "code",
   "execution_count": 28,
   "id": "8e505ba3",
   "metadata": {},
   "outputs": [
    {
     "data": {
      "text/plain": [
       "array([[ 0,  1,  2,  3,  4,  5,  6,  7],\n",
       "       [ 8,  9, 10, 11, 12, 13, 14, 15],\n",
       "       [16, 17, 18, 19, 20, 21, 22, 23]])"
      ]
     },
     "execution_count": 28,
     "metadata": {},
     "output_type": "execute_result"
    }
   ],
   "source": [
    "mat[0:3,:] #3 primeras filas"
   ]
  },
  {
   "cell_type": "markdown",
   "id": "6e777cd7",
   "metadata": {},
   "source": [
    "## Operaciones con matrices"
   ]
  },
  {
   "cell_type": "markdown",
   "id": "18a841f8",
   "metadata": {},
   "source": [
    "7- Obtener el estimador de la varianza del termino de perturbación"
   ]
  },
  {
   "cell_type": "code",
   "execution_count": 29,
   "id": "c7453437",
   "metadata": {},
   "outputs": [],
   "source": [
    "import random \n",
    "\n",
    "random.seed(20)\n",
    "x1 = np.random.rand(15) # uniform distribution  [0,1]\n",
    "x2 = np.random.rand(15) # uniform distribution [0,1]\n",
    "x3 = np.random.rand(15) # uniform distribution [0,1]\n",
    "e = np.random.normal(0,1,15) # normal distribution mean = 0 and sd = 1\n",
    "# Poblacional regression (Data Generating Process GDP)\n",
    "\n",
    "\n",
    "Y = 12 + 3*x1 + 5*x2 + 1*x3 + e"
   ]
  },
  {
   "cell_type": "code",
   "execution_count": 30,
   "id": "4b0334af",
   "metadata": {},
   "outputs": [
    {
     "name": "stdout",
     "output_type": "stream",
     "text": [
      "[[1.         0.24321816 0.85634526 0.79558034]\n",
      " [1.         0.64690754 0.3239907  0.31771447]\n",
      " [1.         0.76510644 0.82013982 0.97103298]\n",
      " [1.         0.89882889 0.91392117 0.5426429 ]\n",
      " [1.         0.30369836 0.71975146 0.17163235]\n",
      " [1.         0.49243529 0.15534595 0.71387935]\n",
      " [1.         0.65919203 0.59384943 0.35713534]\n",
      " [1.         0.73683825 0.16986049 0.98221522]\n",
      " [1.         0.98569671 0.1507481  0.33078794]\n",
      " [1.         0.86117776 0.19860268 0.29543157]\n",
      " [1.         0.94453192 0.74401367 0.00976494]\n",
      " [1.         0.75938951 0.84423304 0.07540246]\n",
      " [1.         0.03064821 0.36340231 0.73468667]\n",
      " [1.         0.49555803 0.73767592 0.3392753 ]\n",
      " [1.         0.29894248 0.67341972 0.30723736]]\n"
     ]
    }
   ],
   "source": [
    "X = np.column_stack((np.ones(15),x1,x2,x3))\n",
    "print(X)"
   ]
  },
  {
   "cell_type": "code",
   "execution_count": 31,
   "id": "778e16cb",
   "metadata": {},
   "outputs": [],
   "source": [
    "from sklearn.model_selection import train_test_split \n",
    "X_train, X_test, Y_train, Y_test = train_test_split(X, Y, test_size=0.3, random_state=42)"
   ]
  },
  {
   "cell_type": "code",
   "execution_count": 32,
   "id": "bfe3b64e",
   "metadata": {},
   "outputs": [
    {
     "data": {
      "text/plain": [
       "1.0"
      ]
     },
     "execution_count": 32,
     "metadata": {},
     "output_type": "execute_result"
    }
   ],
   "source": [
    "from sklearn.linear_model import LinearRegression\n",
    "modelo = LinearRegression().fit(X_train,Y_train)\n",
    "Y_predict = modelo.predict(X_test) \n",
    "modelo.score(X_test,Y_predict)"
   ]
  },
  {
   "cell_type": "code",
   "execution_count": 33,
   "id": "291dbe34",
   "metadata": {},
   "outputs": [
    {
     "data": {
      "text/plain": [
       "array([0.        , 2.68969162, 4.66008905, 1.02658751])"
      ]
     },
     "execution_count": 33,
     "metadata": {},
     "output_type": "execute_result"
    }
   ],
   "source": [
    "modelo.coef_"
   ]
  },
  {
   "cell_type": "code",
   "execution_count": 34,
   "id": "46ab9c30",
   "metadata": {},
   "outputs": [
    {
     "data": {
      "text/plain": [
       "12.346534472701787"
      ]
     },
     "execution_count": 34,
     "metadata": {},
     "output_type": "execute_result"
    }
   ],
   "source": [
    "modelo.intercept_"
   ]
  },
  {
   "cell_type": "code",
   "execution_count": 35,
   "id": "cc199184",
   "metadata": {},
   "outputs": [
    {
     "name": "stdout",
     "output_type": "stream",
     "text": [
      "[15.89162961 18.40066645 17.80809434 17.46536401 15.12781916]\n"
     ]
    }
   ],
   "source": [
    "print (Y_predict)"
   ]
  },
  {
   "cell_type": "code",
   "execution_count": 36,
   "id": "4419dd9e",
   "metadata": {},
   "outputs": [
    {
     "name": "stdout",
     "output_type": "stream",
     "text": [
      "15\n"
     ]
    }
   ],
   "source": [
    "n = len(Y)\n",
    "print (n)"
   ]
  },
  {
   "cell_type": "code",
   "execution_count": 37,
   "id": "b663ed27",
   "metadata": {},
   "outputs": [
    {
     "data": {
      "text/plain": [
       "5"
      ]
     },
     "execution_count": 37,
     "metadata": {},
     "output_type": "execute_result"
    }
   ],
   "source": [
    "k=5\n",
    "k"
   ]
  },
  {
   "cell_type": "code",
   "execution_count": 39,
   "id": "947e62a9",
   "metadata": {},
   "outputs": [
    {
     "data": {
      "text/plain": [
       "1.6577638248991466"
      ]
     },
     "execution_count": 39,
     "metadata": {},
     "output_type": "execute_result"
    }
   ],
   "source": [
    "from sklearn.metrics import mean_squared_error\n",
    "y_true  = Y_test\n",
    "y_pred  = Y_predict\n",
    "mean_squared_error(y_true,y_pred)"
   ]
  },
  {
   "cell_type": "code",
   "execution_count": 40,
   "id": "bf0aab78",
   "metadata": {},
   "outputs": [
    {
     "data": {
      "text/plain": [
       "24.8664573734872"
      ]
     },
     "execution_count": 40,
     "metadata": {},
     "output_type": "execute_result"
    }
   ],
   "source": [
    "sumatoria = mean_squared_error(y_true,y_pred)*n\n",
    "sumatoria"
   ]
  },
  {
   "cell_type": "code",
   "execution_count": 41,
   "id": "22682d1d",
   "metadata": {},
   "outputs": [
    {
     "data": {
      "text/plain": [
       "10"
      ]
     },
     "execution_count": 41,
     "metadata": {},
     "output_type": "execute_result"
    }
   ],
   "source": [
    "a = n - k \n",
    "a"
   ]
  },
  {
   "cell_type": "code",
   "execution_count": 42,
   "id": "d9958378",
   "metadata": {},
   "outputs": [
    {
     "data": {
      "text/plain": [
       "2.48664573734872"
      ]
     },
     "execution_count": 42,
     "metadata": {},
     "output_type": "execute_result"
    }
   ],
   "source": [
    "estimador = sumatoria/a #estimador de la varianza del termino de perturbación\n",
    "estimador"
   ]
  },
  {
   "cell_type": "markdown",
   "id": "cd88ce8c",
   "metadata": {},
   "source": [
    "8- matriz de varianza y covarianza de los coeficientes"
   ]
  },
  {
   "cell_type": "code",
   "execution_count": 43,
   "id": "e45d501e",
   "metadata": {},
   "outputs": [
    {
     "data": {
      "text/plain": [
       "array([[3, 0, 0],\n",
       "       [0, 5, 0],\n",
       "       [0, 0, 1]])"
      ]
     },
     "execution_count": 43,
     "metadata": {},
     "output_type": "execute_result"
    }
   ],
   "source": [
    "coef= np.array([[3,0,0],\n",
    "       [0,5,0],\n",
    "       [0,0,1]])\n",
    "coef"
   ]
  },
  {
   "cell_type": "code",
   "execution_count": 44,
   "id": "e22fbad3",
   "metadata": {},
   "outputs": [
    {
     "data": {
      "text/plain": [
       "array([[ 3.        , -2.5       , -0.5       ],\n",
       "       [-2.5       ,  8.33333333, -0.83333333],\n",
       "       [-0.5       , -0.83333333,  0.33333333]])"
      ]
     },
     "execution_count": 44,
     "metadata": {},
     "output_type": "execute_result"
    }
   ],
   "source": [
    "np.cov(coef) #matriz de varianza y covarianza"
   ]
  },
  {
   "cell_type": "markdown",
   "id": "96f6c8e9",
   "metadata": {},
   "source": [
    "9 - Matriz generador de residuos"
   ]
  },
  {
   "cell_type": "code",
   "execution_count": 45,
   "id": "c4670519",
   "metadata": {},
   "outputs": [
    {
     "name": "stdout",
     "output_type": "stream",
     "text": [
      "[[1. 0. 0. 0. 0. 0. 0. 0. 0. 0. 0. 0. 0. 0. 0.]\n",
      " [0. 1. 0. 0. 0. 0. 0. 0. 0. 0. 0. 0. 0. 0. 0.]\n",
      " [0. 0. 1. 0. 0. 0. 0. 0. 0. 0. 0. 0. 0. 0. 0.]\n",
      " [0. 0. 0. 1. 0. 0. 0. 0. 0. 0. 0. 0. 0. 0. 0.]\n",
      " [0. 0. 0. 0. 1. 0. 0. 0. 0. 0. 0. 0. 0. 0. 0.]\n",
      " [0. 0. 0. 0. 0. 1. 0. 0. 0. 0. 0. 0. 0. 0. 0.]\n",
      " [0. 0. 0. 0. 0. 0. 1. 0. 0. 0. 0. 0. 0. 0. 0.]\n",
      " [0. 0. 0. 0. 0. 0. 0. 1. 0. 0. 0. 0. 0. 0. 0.]\n",
      " [0. 0. 0. 0. 0. 0. 0. 0. 1. 0. 0. 0. 0. 0. 0.]\n",
      " [0. 0. 0. 0. 0. 0. 0. 0. 0. 1. 0. 0. 0. 0. 0.]\n",
      " [0. 0. 0. 0. 0. 0. 0. 0. 0. 0. 1. 0. 0. 0. 0.]\n",
      " [0. 0. 0. 0. 0. 0. 0. 0. 0. 0. 0. 1. 0. 0. 0.]\n",
      " [0. 0. 0. 0. 0. 0. 0. 0. 0. 0. 0. 0. 1. 0. 0.]\n",
      " [0. 0. 0. 0. 0. 0. 0. 0. 0. 0. 0. 0. 0. 1. 0.]\n",
      " [0. 0. 0. 0. 0. 0. 0. 0. 0. 0. 0. 0. 0. 0. 1.]]\n"
     ]
    }
   ],
   "source": [
    "I = np.eye(15) #matriz identidad\n",
    "print(I)"
   ]
  },
  {
   "cell_type": "code",
   "execution_count": 46,
   "id": "8350aba6",
   "metadata": {},
   "outputs": [
    {
     "data": {
      "text/plain": [
       "array([[ 0.31947567, -0.04368044,  0.23513875,  0.12591132,  0.11164992,\n",
       "         0.04058875,  0.04131397,  0.05636077, -0.16670457, -0.13363668,\n",
       "        -0.0656301 ,  0.02125411,  0.20974235,  0.11525236,  0.13296381],\n",
       "       [-0.04368044,  0.13939672, -0.07687432, -0.03581021,  0.08170506,\n",
       "         0.12082489,  0.07186115,  0.06947474,  0.16729625,  0.16533123,\n",
       "         0.08349979,  0.05578602,  0.08320723,  0.04653958,  0.0714423 ],\n",
       "       [ 0.23513875, -0.07687432,  0.46929154,  0.32497728, -0.11339622,\n",
       "         0.01795875,  0.04349641,  0.23373779, -0.02983157, -0.06835007,\n",
       "         0.00645948,  0.01982158, -0.03653019,  0.03641756, -0.06231678],\n",
       "       [ 0.12591132, -0.03581021,  0.32497728,  0.31951797, -0.03153043,\n",
       "        -0.07237334,  0.07891504,  0.07043013,  0.01612119, -0.01515237,\n",
       "         0.16279109,  0.15122552, -0.14602891,  0.07436542, -0.0233597 ],\n",
       "       [ 0.11164992,  0.08170506, -0.11339622, -0.03153043,  0.25978437,\n",
       "         0.01151942,  0.08203572, -0.14460248, -0.04455251,  0.00956406,\n",
       "         0.09389362,  0.14266893,  0.17109603,  0.1497399 ,  0.22042461],\n",
       "       [ 0.04058875,  0.12082489,  0.01795875, -0.07237334,  0.01151942,\n",
       "         0.2341311 ,  0.03612157,  0.23338131,  0.14392504,  0.13728134,\n",
       "        -0.0792865 , -0.08586426,  0.21593584,  0.00417135,  0.04168473],\n",
       "       [ 0.04131397,  0.07186115,  0.04349641,  0.07891504,  0.08203572,\n",
       "         0.03612157,  0.07643901,  0.02527607,  0.07630861,  0.07634879,\n",
       "         0.11215859,  0.10491564,  0.02671127,  0.07661639,  0.07148177],\n",
       "       [ 0.05636077,  0.06947474,  0.23373779,  0.07043013, -0.14460248,\n",
       "         0.23338131,  0.02527607,  0.38201665,  0.17958713,  0.13080327,\n",
       "        -0.0901163 , -0.1231052 ,  0.10484599, -0.04623706, -0.08185283],\n",
       "       [-0.16670457,  0.16729625, -0.02983157,  0.01612119, -0.04455251,\n",
       "         0.14392504,  0.07630861,  0.17958713,  0.31606698,  0.26962871,\n",
       "         0.13669518,  0.0465447 , -0.05314534, -0.0146183 , -0.04332148],\n",
       "       [-0.13363668,  0.16533123, -0.06835007, -0.01515237,  0.00956406,\n",
       "         0.13728134,  0.07634879,  0.13080327,  0.26962871,  0.24073584,\n",
       "         0.12303576,  0.05368495, -0.00165333,  0.00868538,  0.0036931 ],\n",
       "       [-0.0656301 ,  0.08349979,  0.00645948,  0.16279109,  0.09389362,\n",
       "        -0.0792865 ,  0.11215859, -0.0901163 ,  0.13669518,  0.12303576,\n",
       "         0.29050653,  0.24310021, -0.16567607,  0.09753802,  0.0510307 ],\n",
       "       [ 0.02125411,  0.05578602,  0.01982158,  0.15122552,  0.14266893,\n",
       "        -0.08586426,  0.10491564, -0.1231052 ,  0.0465447 ,  0.05368495,\n",
       "         0.24310021,  0.23242181, -0.08818922,  0.12480572,  0.1009295 ],\n",
       "       [ 0.20974235,  0.08320723, -0.03653019, -0.14602891,  0.17109603,\n",
       "         0.21593584,  0.02671127,  0.10484599, -0.05314534, -0.00165333,\n",
       "        -0.16567607, -0.08818922,  0.40940459,  0.0802248 ,  0.19005496],\n",
       "       [ 0.11525236,  0.04653958,  0.03641756,  0.07436542,  0.1497399 ,\n",
       "         0.00417135,  0.07661639, -0.04623706, -0.0146183 ,  0.00868538,\n",
       "         0.09753802,  0.12480572,  0.0802248 ,  0.1150824 ,  0.13141647],\n",
       "       [ 0.13296381,  0.0714423 , -0.06231678, -0.0233597 ,  0.22042461,\n",
       "         0.04168473,  0.07148177, -0.08185283, -0.04332148,  0.0036931 ,\n",
       "         0.0510307 ,  0.1009295 ,  0.19005496,  0.13141647,  0.19572882]])"
      ]
     },
     "execution_count": 46,
     "metadata": {},
     "output_type": "execute_result"
    }
   ],
   "source": [
    "Xinversa = X @ (np.linalg.inv(X.T @ X) )@ X.T\n",
    "Xinversa"
   ]
  },
  {
   "cell_type": "code",
   "execution_count": 47,
   "id": "7f7b6345",
   "metadata": {},
   "outputs": [
    {
     "data": {
      "text/plain": [
       "array([[ 0.68052433,  0.04368044, -0.23513875, -0.12591132, -0.11164992,\n",
       "        -0.04058875, -0.04131397, -0.05636077,  0.16670457,  0.13363668,\n",
       "         0.0656301 , -0.02125411, -0.20974235, -0.11525236, -0.13296381],\n",
       "       [ 0.04368044,  0.86060328,  0.07687432,  0.03581021, -0.08170506,\n",
       "        -0.12082489, -0.07186115, -0.06947474, -0.16729625, -0.16533123,\n",
       "        -0.08349979, -0.05578602, -0.08320723, -0.04653958, -0.0714423 ],\n",
       "       [-0.23513875,  0.07687432,  0.53070846, -0.32497728,  0.11339622,\n",
       "        -0.01795875, -0.04349641, -0.23373779,  0.02983157,  0.06835007,\n",
       "        -0.00645948, -0.01982158,  0.03653019, -0.03641756,  0.06231678],\n",
       "       [-0.12591132,  0.03581021, -0.32497728,  0.68048203,  0.03153043,\n",
       "         0.07237334, -0.07891504, -0.07043013, -0.01612119,  0.01515237,\n",
       "        -0.16279109, -0.15122552,  0.14602891, -0.07436542,  0.0233597 ],\n",
       "       [-0.11164992, -0.08170506,  0.11339622,  0.03153043,  0.74021563,\n",
       "        -0.01151942, -0.08203572,  0.14460248,  0.04455251, -0.00956406,\n",
       "        -0.09389362, -0.14266893, -0.17109603, -0.1497399 , -0.22042461],\n",
       "       [-0.04058875, -0.12082489, -0.01795875,  0.07237334, -0.01151942,\n",
       "         0.7658689 , -0.03612157, -0.23338131, -0.14392504, -0.13728134,\n",
       "         0.0792865 ,  0.08586426, -0.21593584, -0.00417135, -0.04168473],\n",
       "       [-0.04131397, -0.07186115, -0.04349641, -0.07891504, -0.08203572,\n",
       "        -0.03612157,  0.92356099, -0.02527607, -0.07630861, -0.07634879,\n",
       "        -0.11215859, -0.10491564, -0.02671127, -0.07661639, -0.07148177],\n",
       "       [-0.05636077, -0.06947474, -0.23373779, -0.07043013,  0.14460248,\n",
       "        -0.23338131, -0.02527607,  0.61798335, -0.17958713, -0.13080327,\n",
       "         0.0901163 ,  0.1231052 , -0.10484599,  0.04623706,  0.08185283],\n",
       "       [ 0.16670457, -0.16729625,  0.02983157, -0.01612119,  0.04455251,\n",
       "        -0.14392504, -0.07630861, -0.17958713,  0.68393302, -0.26962871,\n",
       "        -0.13669518, -0.0465447 ,  0.05314534,  0.0146183 ,  0.04332148],\n",
       "       [ 0.13363668, -0.16533123,  0.06835007,  0.01515237, -0.00956406,\n",
       "        -0.13728134, -0.07634879, -0.13080327, -0.26962871,  0.75926416,\n",
       "        -0.12303576, -0.05368495,  0.00165333, -0.00868538, -0.0036931 ],\n",
       "       [ 0.0656301 , -0.08349979, -0.00645948, -0.16279109, -0.09389362,\n",
       "         0.0792865 , -0.11215859,  0.0901163 , -0.13669518, -0.12303576,\n",
       "         0.70949347, -0.24310021,  0.16567607, -0.09753802, -0.0510307 ],\n",
       "       [-0.02125411, -0.05578602, -0.01982158, -0.15122552, -0.14266893,\n",
       "         0.08586426, -0.10491564,  0.1231052 , -0.0465447 , -0.05368495,\n",
       "        -0.24310021,  0.76757819,  0.08818922, -0.12480572, -0.1009295 ],\n",
       "       [-0.20974235, -0.08320723,  0.03653019,  0.14602891, -0.17109603,\n",
       "        -0.21593584, -0.02671127, -0.10484599,  0.05314534,  0.00165333,\n",
       "         0.16567607,  0.08818922,  0.59059541, -0.0802248 , -0.19005496],\n",
       "       [-0.11525236, -0.04653958, -0.03641756, -0.07436542, -0.1497399 ,\n",
       "        -0.00417135, -0.07661639,  0.04623706,  0.0146183 , -0.00868538,\n",
       "        -0.09753802, -0.12480572, -0.0802248 ,  0.8849176 , -0.13141647],\n",
       "       [-0.13296381, -0.0714423 ,  0.06231678,  0.0233597 , -0.22042461,\n",
       "        -0.04168473, -0.07148177,  0.08185283,  0.04332148, -0.0036931 ,\n",
       "        -0.0510307 , -0.1009295 , -0.19005496, -0.13141647,  0.80427118]])"
      ]
     },
     "execution_count": 47,
     "metadata": {},
     "output_type": "execute_result"
    }
   ],
   "source": [
    "Matriz = I - Xinversa #Matriz generador de residuos\n",
    "Matriz"
   ]
  },
  {
   "cell_type": "code",
   "execution_count": null,
   "id": "73c49baa",
   "metadata": {},
   "outputs": [],
   "source": []
  }
 ],
 "metadata": {
  "kernelspec": {
   "display_name": "Python 3 (ipykernel)",
   "language": "python",
   "name": "python3"
  },
  "language_info": {
   "codemirror_mode": {
    "name": "ipython",
    "version": 3
   },
   "file_extension": ".py",
   "mimetype": "text/x-python",
   "name": "python",
   "nbconvert_exporter": "python",
   "pygments_lexer": "ipython3",
   "version": "3.9.7"
  }
 },
 "nbformat": 4,
 "nbformat_minor": 5
}
