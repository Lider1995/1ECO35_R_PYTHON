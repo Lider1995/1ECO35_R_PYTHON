{
  "metadata": {
    "language_info": {
      "codemirror_mode": {
        "name": "python",
        "version": 3
      },
      "file_extension": ".py",
      "mimetype": "text/x-python",
      "name": "python",
      "nbconvert_exporter": "python",
      "pygments_lexer": "ipython3",
      "version": "3.8"
    },
    "kernelspec": {
      "name": "python",
      "display_name": "Pyolite",
      "language": "python"
    }
  },
  "nbformat_minor": 4,
  "nbformat": 4,
  "cells": [
    {
      "cell_type": "markdown",
      "source": "TAREA GRUPAL 1 /Grupo 5\n1. Use f-string para concatenar textos o valores numéricos. De dos ejemplos ",
      "metadata": {}
    },
    {
      "cell_type": "code",
      "source": "x1 = \"Este es nuestro primer trabajo grupal\"\nx2 = \"Jupyter notebooks\"\nprint (f'{x1} del ciclo 2022-1 en {x2}')",
      "metadata": {
        "trusted": true
      },
      "execution_count": 29,
      "outputs": [
        {
          "name": "stdout",
          "text": "Este es nuestro primer trabajo grupal del ciclo 2022-1 en Jupyter notebooks\n",
          "output_type": "stream"
        }
      ]
    },
    {
      "cell_type": "code",
      "source": "y1 = 101\ny2 = 10\ny3= y1+y2\nprint(f'{y1} + {y2} es {y3}')",
      "metadata": {
        "trusted": true
      },
      "execution_count": 32,
      "outputs": [
        {
          "name": "stdout",
          "text": "101 + 10 es 111\n",
          "output_type": "stream"
        }
      ]
    },
    {
      "cell_type": "markdown",
      "source": "DICCIONAIRO Y LISTAS\n2. Crear una lista de tres distritos de Lima y dos distritos del callao. Extraer el primer y último elemento usando el indexing",
      "metadata": {}
    },
    {
      "cell_type": "code",
      "source": "lista = [\"Los Olivos\", \"Ancón\", \"Ventanilla\", \"Santiago de Surco\", \"Mi Perú\"]\nprint(lista)",
      "metadata": {
        "trusted": true
      },
      "execution_count": 43,
      "outputs": [
        {
          "name": "stdout",
          "text": "['Los Olivos', 'Ancón', 'Ventanilla', 'Santiago de Surco', 'Mi Perú']\n",
          "output_type": "stream"
        }
      ]
    },
    {
      "cell_type": "markdown",
      "source": "2.1 Extrar el primero",
      "metadata": {}
    },
    {
      "cell_type": "code",
      "source": "lista[0]",
      "metadata": {
        "trusted": true
      },
      "execution_count": 41,
      "outputs": [
        {
          "execution_count": 41,
          "output_type": "execute_result",
          "data": {
            "text/plain": "'Los Olivos'"
          },
          "metadata": {}
        }
      ]
    },
    {
      "cell_type": "markdown",
      "source": "2.2 extraer el último",
      "metadata": {}
    },
    {
      "cell_type": "code",
      "source": "lista[-1]",
      "metadata": {
        "trusted": true
      },
      "execution_count": 44,
      "outputs": [
        {
          "execution_count": 44,
          "output_type": "execute_result",
          "data": {
            "text/plain": "'Mi Perú'"
          },
          "metadata": {}
        }
      ]
    },
    {
      "cell_type": "markdown",
      "source": "3. Crear un diccionario con los 5 distritos del ejercicio a. Incluir información de población proyectada e incidencia de pobreza (limite superior).Use la información del Mapa de Pobreza 2018",
      "metadata": {}
    },
    {
      "cell_type": "code",
      "source": "diccionario ={\"Los Olivos\":{\"población\":351983, \"pobreza\":9.5}, \"Ancón\":{\"población\":82677,\"pobreza\":25.5, \n\"Ventanilla\":{\"población\":369618, \"pobreza\":29.4}, \"Santiago de Surco\":{\"población\":408086, \"pobreza\":1.6}, \n\"Mi Perú\":{\"población\":52348,\"pobreza\":31.0 }}}\nprint(diccionario)",
      "metadata": {
        "trusted": true
      },
      "execution_count": 45,
      "outputs": [
        {
          "name": "stdout",
          "text": "{'Los Olivos': {'población': 351983, 'pobreza': 9.5}, 'Ancón': {'población': 82677, 'pobreza': 25.5, 'Ventanilla': {'población': 369618, 'pobreza': 29.4}, 'Santiago de Surco': {'población': 408086, 'pobreza': 1.6}, 'Mi Perú': {'población': 52348, 'pobreza': 31.0}}}\n",
          "output_type": "stream"
        }
      ]
    },
    {
      "cell_type": "markdown",
      "source": "4. Muestre la información de pobreza y población de 3 distritos",
      "metadata": {}
    },
    {
      "cell_type": "code",
      "source": "diccionario[\"Los Olivos\"][\"población\"] , diccionario[\"Los Olivos\"][\"pobreza\"]",
      "metadata": {
        "trusted": true
      },
      "execution_count": 46,
      "outputs": [
        {
          "execution_count": 46,
          "output_type": "execute_result",
          "data": {
            "text/plain": "(351983, 9.5)"
          },
          "metadata": {}
        }
      ]
    },
    {
      "cell_type": "code",
      "source": "diccionario[\"Ancón\"][\"población\"] , diccionario[\"Ancón\"][\"pobreza\"]",
      "metadata": {
        "trusted": true
      },
      "execution_count": 47,
      "outputs": [
        {
          "execution_count": 47,
          "output_type": "execute_result",
          "data": {
            "text/plain": "(82677, 25.5)"
          },
          "metadata": {}
        }
      ]
    },
    {
      "cell_type": "code",
      "source": "diccionario['Mi Perú']['población'] , diccionario['Mi Perú']['pobreza']",
      "metadata": {
        "trusted": true
      },
      "execution_count": 67,
      "outputs": [
        {
          "ename": "<class 'KeyError'>",
          "evalue": "'Mi Perú'",
          "traceback": [
            "\u001b[0;31m---------------------------------------------------------------------------\u001b[0m",
            "\u001b[0;31mKeyError\u001b[0m                                  Traceback (most recent call last)",
            "Input \u001b[0;32mIn [67]\u001b[0m, in \u001b[0;36m<cell line: 1>\u001b[0;34m()\u001b[0m\n\u001b[0;32m----> 1\u001b[0m \u001b[43mdiccionario\u001b[49m\u001b[43m[\u001b[49m\u001b[38;5;124;43m'\u001b[39;49m\u001b[38;5;124;43mMi Perú\u001b[39;49m\u001b[38;5;124;43m'\u001b[39;49m\u001b[43m]\u001b[49m[\u001b[38;5;124m'\u001b[39m\u001b[38;5;124mpoblación\u001b[39m\u001b[38;5;124m'\u001b[39m] , diccionario[\u001b[38;5;124m'\u001b[39m\u001b[38;5;124mMi Perú\u001b[39m\u001b[38;5;124m'\u001b[39m][\u001b[38;5;124m'\u001b[39m\u001b[38;5;124mpobreza\u001b[39m\u001b[38;5;124m'\u001b[39m]\n",
            "\u001b[0;31mKeyError\u001b[0m: 'Mi Perú'"
          ],
          "output_type": "error"
        }
      ]
    },
    {
      "cell_type": "markdown",
      "source": "MATRICES \n5. crear matrices y dar dos ejemplos de concatenación, union vertical y horizontal",
      "metadata": {}
    },
    {
      "cell_type": "code",
      "source": "import numpy as np\n",
      "metadata": {
        "trusted": true
      },
      "execution_count": 10,
      "outputs": []
    },
    {
      "cell_type": "code",
      "source": "matriz_1 = np.arange(5,11).reshape(3,2)\nprint(matriz_1)",
      "metadata": {
        "trusted": true
      },
      "execution_count": 24,
      "outputs": [
        {
          "name": "stdout",
          "text": "[[ 5  6]\n [ 7  8]\n [ 9 10]]\n",
          "output_type": "stream"
        }
      ]
    },
    {
      "cell_type": "code",
      "source": "matriz_2 = np.arange(1,7).reshape(3,2)\nprint(matriz_2)",
      "metadata": {
        "trusted": true
      },
      "execution_count": 26,
      "outputs": [
        {
          "name": "stdout",
          "text": "[[1 2]\n [3 4]\n [5 6]]\n",
          "output_type": "stream"
        }
      ]
    },
    {
      "cell_type": "markdown",
      "source": "5.1 Concatenación horizontal.",
      "metadata": {}
    },
    {
      "cell_type": "code",
      "source": "matriz_3 =np.concatenate((matriz_1, matriz_2), 1)\nprint(matriz_3)",
      "metadata": {
        "trusted": true
      },
      "execution_count": 27,
      "outputs": [
        {
          "name": "stdout",
          "text": "[[ 5  6  1  2]\n [ 7  8  3  4]\n [ 9 10  5  6]]\n",
          "output_type": "stream"
        }
      ]
    },
    {
      "cell_type": "markdown",
      "source": "5.2 Concatenación vertical ",
      "metadata": {}
    },
    {
      "cell_type": "code",
      "source": "matriz_4 =np.concatenate((matriz_1, matriz_2), 0)\nprint(matriz_4)",
      "metadata": {
        "trusted": true
      },
      "execution_count": 28,
      "outputs": [
        {
          "name": "stdout",
          "text": "[[ 5  6]\n [ 7  8]\n [ 9 10]\n [ 1  2]\n [ 3  4]\n [ 5  6]]\n",
          "output_type": "stream"
        }
      ]
    },
    {
      "cell_type": "markdown",
      "source": "6. Crea una matriz de dimensión 4x8, seleccionar las 2 últimas columnas y las 3 primers filas ",
      "metadata": {}
    },
    {
      "cell_type": "code",
      "source": "matriz_4x8 = np.arange(1,33).reshape(4,8)\nprint(matriz_4x8)",
      "metadata": {
        "trusted": true
      },
      "execution_count": 58,
      "outputs": [
        {
          "name": "stdout",
          "text": "[[ 1  2  3  4  5  6  7  8]\n [ 9 10 11 12 13 14 15 16]\n [17 18 19 20 21 22 23 24]\n [25 26 27 28 29 30 31 32]]\n",
          "output_type": "stream"
        }
      ]
    },
    {
      "cell_type": "markdown",
      "source": "6.1 Seleccionamos las 2 últimás columnas ",
      "metadata": {}
    },
    {
      "cell_type": "code",
      "source": "matriz_4x8[:,6:8]",
      "metadata": {
        "trusted": true
      },
      "execution_count": 62,
      "outputs": [
        {
          "execution_count": 62,
          "output_type": "execute_result",
          "data": {
            "text/plain": "array([[ 7,  8],\n       [15, 16],\n       [23, 24],\n       [31, 32]])"
          },
          "metadata": {}
        }
      ]
    },
    {
      "cell_type": "markdown",
      "source": "6.2 Seleccionamos las 3 primeras filas",
      "metadata": {}
    },
    {
      "cell_type": "code",
      "source": "matriz_4x8[0:3,:]",
      "metadata": {
        "trusted": true
      },
      "execution_count": 66,
      "outputs": [
        {
          "execution_count": 66,
          "output_type": "execute_result",
          "data": {
            "text/plain": "array([[ 1,  2,  3,  4,  5,  6,  7,  8],\n       [ 9, 10, 11, 12, 13, 14, 15, 16],\n       [17, 18, 19, 20, 21, 22, 23, 24]])"
          },
          "metadata": {}
        }
      ]
    },
    {
      "cell_type": "code",
      "source": "",
      "metadata": {},
      "execution_count": null,
      "outputs": []
    }
  ]
}