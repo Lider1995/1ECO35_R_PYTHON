{
 "cells": [
  {
   "cell_type": "markdown",
   "id": "8d895e55",
   "metadata": {},
   "source": [
    "## Grupo 1"
   ]
  },
  {
   "cell_type": "code",
   "execution_count": 5,
   "id": "c4b4e976",
   "metadata": {},
   "outputs": [],
   "source": [
    "a <- \"Primer trabajo grupal\""
   ]
  },
  {
   "cell_type": "code",
   "execution_count": 6,
   "id": "63a663ed",
   "metadata": {},
   "outputs": [],
   "source": [
    "b <- \"2022-1\""
   ]
  },
  {
   "cell_type": "code",
   "execution_count": 11,
   "id": "0aa2fc22",
   "metadata": {},
   "outputs": [
    {
     "name": "stderr",
     "output_type": "stream",
     "text": [
      "also installing the dependencies 'utf8', 'pillar', 'pkgconfig', 'vctrs', 'askpass', 'credentials', 'sys', 'zip', 'gitcreds', 'ini', 'fastmap', 'evaluate', 'highr', 'xfun', 'diffobj', 'fansi', 'rematch2', 'tibble', 'clipr', 'curl', 'gert', 'gh', 'glue', 'purrr', 'rappdirs', 'rprojroot', 'whisker', 'yaml', 'processx', 'R6', 'mime', 'openssl', 'cachem', 'prettyunits', 'xopen', 'brew', 'commonmark', 'knitr', 'stringi', 'stringr', 'xml2', 'cpp11', 'brio', 'magrittr', 'praise', 'ps', 'waldo', 'usethis', 'callr', 'cli', 'desc', 'ellipsis', 'fs', 'httr', 'lifecycle', 'memoise', 'pkgbuild', 'pkgload', 'rcmdcheck', 'remotes', 'rlang', 'roxygen2', 'rstudioapi', 'rversions', 'sessioninfo', 'testthat', 'withr'\n",
      "\n"
     ]
    },
    {
     "name": "stdout",
     "output_type": "stream",
     "text": [
      "\n",
      "  There are binary versions available but the source versions are later:\n",
      "            binary source needs_compilation\n",
      "utf8         1.2.1  1.2.2              TRUE\n",
      "pillar       1.6.0  1.7.0             FALSE\n",
      "vctrs        0.3.8  0.4.0              TRUE\n",
      "credentials  1.3.0  1.3.2             FALSE\n",
      "zip          2.1.1  2.2.0              TRUE\n",
      "evaluate      0.14   0.15             FALSE\n",
      "xfun          0.22   0.30              TRUE\n",
      "diffobj      0.3.4  0.3.5              TRUE\n",
      "fansi        0.4.2  1.0.3              TRUE\n",
      "tibble       3.1.1  3.1.6              TRUE\n",
      "clipr        0.7.1  0.8.0             FALSE\n",
      "curl         4.3.1  4.3.2              TRUE\n",
      "gert         1.3.0  1.6.0              TRUE\n",
      "glue         1.4.2  1.6.2              TRUE\n",
      "rprojroot    2.0.2  2.0.3             FALSE\n",
      "yaml         2.2.1  2.3.5              TRUE\n",
      "processx     3.5.2  3.5.3              TRUE\n",
      "R6           2.5.0  2.5.1             FALSE\n",
      "mime          0.10   0.12              TRUE\n",
      "openssl      1.4.4  2.0.0              TRUE\n",
      "cachem       1.0.4  1.0.6              TRUE\n",
      "brew         1.0-6  1.0-7             FALSE\n",
      "commonmark     1.7  1.8.0              TRUE\n",
      "knitr         1.33   1.38             FALSE\n",
      "stringi      1.6.1  1.7.6              TRUE\n",
      "xml2         1.3.2  1.3.3              TRUE\n",
      "cpp11        0.2.7  0.4.2             FALSE\n",
      "brio         1.1.2  1.1.3              TRUE\n",
      "magrittr     2.0.1  2.0.3              TRUE\n",
      "waldo        0.2.5  0.4.0             FALSE\n",
      "usethis      2.0.1  2.1.5             FALSE\n",
      "cli          2.5.0  3.2.0              TRUE\n",
      "desc         1.3.0  1.4.1             FALSE\n",
      "fs           1.5.0  1.5.2              TRUE\n",
      "lifecycle    1.0.0  1.0.1             FALSE\n",
      "memoise      2.0.0  2.0.1             FALSE\n",
      "pkgbuild     1.2.0  1.3.1             FALSE\n",
      "pkgload      1.2.1  1.2.4             FALSE\n",
      "rcmdcheck    1.3.3  1.4.0             FALSE\n",
      "remotes      2.3.0  2.4.2             FALSE\n",
      "rlang       0.4.11  1.0.2              TRUE\n",
      "roxygen2     7.1.1  7.1.2              TRUE\n",
      "rversions    2.0.2  2.1.1             FALSE\n",
      "sessioninfo  1.1.1  1.2.2             FALSE\n",
      "testthat     3.0.2  3.1.3              TRUE\n",
      "withr        2.4.2  2.5.0             FALSE\n",
      "devtools     2.4.1  2.4.3             FALSE\n",
      "\n",
      "  Binaries will be installed\n",
      "package 'utf8' successfully unpacked and MD5 sums checked\n",
      "package 'pkgconfig' successfully unpacked and MD5 sums checked\n",
      "package 'vctrs' successfully unpacked and MD5 sums checked\n",
      "package 'askpass' successfully unpacked and MD5 sums checked\n",
      "package 'sys' successfully unpacked and MD5 sums checked\n",
      "package 'zip' successfully unpacked and MD5 sums checked\n",
      "package 'gitcreds' successfully unpacked and MD5 sums checked\n",
      "package 'ini' successfully unpacked and MD5 sums checked\n",
      "package 'fastmap' successfully unpacked and MD5 sums checked\n",
      "package 'highr' successfully unpacked and MD5 sums checked\n",
      "package 'xfun' successfully unpacked and MD5 sums checked\n",
      "package 'diffobj' successfully unpacked and MD5 sums checked\n",
      "package 'fansi' successfully unpacked and MD5 sums checked\n",
      "package 'rematch2' successfully unpacked and MD5 sums checked\n",
      "package 'tibble' successfully unpacked and MD5 sums checked\n",
      "package 'curl' successfully unpacked and MD5 sums checked\n",
      "package 'gert' successfully unpacked and MD5 sums checked\n",
      "package 'gh' successfully unpacked and MD5 sums checked\n",
      "package 'glue' successfully unpacked and MD5 sums checked\n",
      "package 'purrr' successfully unpacked and MD5 sums checked\n",
      "package 'rappdirs' successfully unpacked and MD5 sums checked\n",
      "package 'whisker' successfully unpacked and MD5 sums checked\n",
      "package 'yaml' successfully unpacked and MD5 sums checked\n",
      "package 'processx' successfully unpacked and MD5 sums checked\n",
      "package 'mime' successfully unpacked and MD5 sums checked\n",
      "package 'openssl' successfully unpacked and MD5 sums checked\n",
      "package 'cachem' successfully unpacked and MD5 sums checked\n",
      "package 'prettyunits' successfully unpacked and MD5 sums checked\n",
      "package 'xopen' successfully unpacked and MD5 sums checked\n",
      "package 'commonmark' successfully unpacked and MD5 sums checked\n",
      "package 'stringi' successfully unpacked and MD5 sums checked\n",
      "package 'stringr' successfully unpacked and MD5 sums checked\n",
      "package 'xml2' successfully unpacked and MD5 sums checked\n",
      "package 'brio' successfully unpacked and MD5 sums checked\n",
      "package 'magrittr' successfully unpacked and MD5 sums checked\n",
      "package 'praise' successfully unpacked and MD5 sums checked\n",
      "package 'ps' successfully unpacked and MD5 sums checked\n",
      "package 'callr' successfully unpacked and MD5 sums checked\n",
      "package 'cli' successfully unpacked and MD5 sums checked\n",
      "package 'ellipsis' successfully unpacked and MD5 sums checked\n",
      "package 'fs' successfully unpacked and MD5 sums checked\n",
      "package 'httr' successfully unpacked and MD5 sums checked\n",
      "package 'rlang' successfully unpacked and MD5 sums checked\n",
      "package 'roxygen2' successfully unpacked and MD5 sums checked\n",
      "package 'rstudioapi' successfully unpacked and MD5 sums checked\n",
      "package 'testthat' successfully unpacked and MD5 sums checked\n",
      "\n",
      "The downloaded binary packages are in\n",
      "\tC:\\Users\\PERSONAL\\AppData\\Local\\Temp\\RtmpiQwhJ3\\downloaded_packages\n"
     ]
    },
    {
     "name": "stderr",
     "output_type": "stream",
     "text": [
      "installing the source packages 'pillar', 'credentials', 'evaluate', 'clipr', 'rprojroot', 'R6', 'brew', 'knitr', 'cpp11', 'waldo', 'usethis', 'desc', 'lifecycle', 'memoise', 'pkgbuild', 'pkgload', 'rcmdcheck', 'remotes', 'rversions', 'sessioninfo', 'withr', 'devtools'\n",
      "\n",
      "Warning message in install.packages(\"devtools\"):\n",
      "\"installation of package 'waldo' had non-zero exit status\"Warning message in install.packages(\"devtools\"):\n",
      "\"installation of package 'sessioninfo' had non-zero exit status\"Warning message in install.packages(\"devtools\"):\n",
      "\"installation of package 'knitr' had non-zero exit status\"Warning message in install.packages(\"devtools\"):\n",
      "\"installation of package 'rcmdcheck' had non-zero exit status\"Warning message in install.packages(\"devtools\"):\n",
      "\"installation of package 'devtools' had non-zero exit status\""
     ]
    }
   ],
   "source": [
    "# install.packages(\"devtools\")\n",
    "# library(glue)"
   ]
  },
  {
   "cell_type": "code",
   "execution_count": 13,
   "id": "2cca95e3",
   "metadata": {},
   "outputs": [
    {
     "data": {
      "text/html": [
       "'Primer trabajo grupal: Ciclo 2022-1'"
      ],
      "text/latex": [
       "'Primer trabajo grupal: Ciclo 2022-1'"
      ],
      "text/markdown": [
       "'Primer trabajo grupal: Ciclo 2022-1'"
      ],
      "text/plain": [
       "Primer trabajo grupal: Ciclo 2022-1"
      ]
     },
     "metadata": {},
     "output_type": "display_data"
    }
   ],
   "source": [
    "c <- glue('{a}: Ciclo {b}')\n",
    "c"
   ]
  },
  {
   "cell_type": "code",
   "execution_count": 14,
   "id": "d69f0999",
   "metadata": {},
   "outputs": [],
   "source": [
    "d <- \"25\""
   ]
  },
  {
   "cell_type": "code",
   "execution_count": 15,
   "id": "0f55c733",
   "metadata": {},
   "outputs": [],
   "source": [
    "e <- \"30\""
   ]
  },
  {
   "cell_type": "code",
   "execution_count": 17,
   "id": "07c2f669",
   "metadata": {},
   "outputs": [
    {
     "data": {
      "text/html": [
       "'25 x 30 es igual a 750'"
      ],
      "text/latex": [
       "'25 x 30 es igual a 750'"
      ],
      "text/markdown": [
       "'25 x 30 es igual a 750'"
      ],
      "text/plain": [
       "25 x 30 es igual a 750"
      ]
     },
     "metadata": {},
     "output_type": "display_data"
    }
   ],
   "source": [
    "f <- glue('{d} x {e} es igual a 750')\n",
    "f"
   ]
  },
  {
   "cell_type": "markdown",
   "id": "364f3b07",
   "metadata": {},
   "source": [
    "### Diccionarios y listas"
   ]
  },
  {
   "cell_type": "code",
   "execution_count": 28,
   "id": "284338f3",
   "metadata": {},
   "outputs": [
    {
     "data": {
      "text/html": [
       "<dl>\n",
       "\t<dt>$Breña</dt>\n",
       "\t\t<dd><dl>\n",
       "\t<dt>$Population</dt>\n",
       "\t\t<dd>'93111'</dd>\n",
       "\t<dt>$Poverty</dt>\n",
       "\t\t<dd>'5.4%'</dd>\n",
       "</dl>\n",
       "</dd>\n",
       "\t<dt>$Pueblo_Libre</dt>\n",
       "\t\t<dd><dl>\n",
       "\t<dt>$Population</dt>\n",
       "\t\t<dd>'94010'</dd>\n",
       "\t<dt>$Poverty</dt>\n",
       "\t\t<dd>'1.2%'</dd>\n",
       "</dl>\n",
       "</dd>\n",
       "\t<dt>$San_Miguel</dt>\n",
       "\t\t<dd><dl>\n",
       "\t<dt>$Population</dt>\n",
       "\t\t<dd>'173309'</dd>\n",
       "\t<dt>$Poverty</dt>\n",
       "\t\t<dd>'2.1%'</dd>\n",
       "</dl>\n",
       "</dd>\n",
       "\t<dt>$La_Punta</dt>\n",
       "\t\t<dd><dl>\n",
       "\t<dt>$Population</dt>\n",
       "\t\t<dd>'3935'</dd>\n",
       "\t<dt>$Poverty</dt>\n",
       "\t\t<dd>'3.7%'</dd>\n",
       "</dl>\n",
       "</dd>\n",
       "\t<dt>$Bellavista</dt>\n",
       "\t\t<dd><dl>\n",
       "\t<dt>$Population</dt>\n",
       "\t\t<dd>'16370'</dd>\n",
       "\t<dt>$Poverty</dt>\n",
       "\t\t<dd>'6.3%'</dd>\n",
       "</dl>\n",
       "</dd>\n",
       "</dl>\n"
      ],
      "text/latex": [
       "\\begin{description}\n",
       "\\item[\\$Breña] \\begin{description}\n",
       "\\item[\\$Population] '93111'\n",
       "\\item[\\$Poverty] '5.4\\%'\n",
       "\\end{description}\n",
       "\n",
       "\\item[\\$Pueblo\\_Libre] \\begin{description}\n",
       "\\item[\\$Population] '94010'\n",
       "\\item[\\$Poverty] '1.2\\%'\n",
       "\\end{description}\n",
       "\n",
       "\\item[\\$San\\_Miguel] \\begin{description}\n",
       "\\item[\\$Population] '173309'\n",
       "\\item[\\$Poverty] '2.1\\%'\n",
       "\\end{description}\n",
       "\n",
       "\\item[\\$La\\_Punta] \\begin{description}\n",
       "\\item[\\$Population] '3935'\n",
       "\\item[\\$Poverty] '3.7\\%'\n",
       "\\end{description}\n",
       "\n",
       "\\item[\\$Bellavista] \\begin{description}\n",
       "\\item[\\$Population] '16370'\n",
       "\\item[\\$Poverty] '6.3\\%'\n",
       "\\end{description}\n",
       "\n",
       "\\end{description}\n"
      ],
      "text/markdown": [
       "$Breña\n",
       ":   $Population\n",
       ":   '93111'\n",
       "$Poverty\n",
       ":   '5.4%'\n",
       "\n",
       "\n",
       "\n",
       "$Pueblo_Libre\n",
       ":   $Population\n",
       ":   '94010'\n",
       "$Poverty\n",
       ":   '1.2%'\n",
       "\n",
       "\n",
       "\n",
       "$San_Miguel\n",
       ":   $Population\n",
       ":   '173309'\n",
       "$Poverty\n",
       ":   '2.1%'\n",
       "\n",
       "\n",
       "\n",
       "$La_Punta\n",
       ":   $Population\n",
       ":   '3935'\n",
       "$Poverty\n",
       ":   '3.7%'\n",
       "\n",
       "\n",
       "\n",
       "$Bellavista\n",
       ":   $Population\n",
       ":   '16370'\n",
       "$Poverty\n",
       ":   '6.3%'\n",
       "\n",
       "\n",
       "\n",
       "\n",
       "\n"
      ],
      "text/plain": [
       "$Breña\n",
       "$Breña$Population\n",
       "[1] \"93111\"\n",
       "\n",
       "$Breña$Poverty\n",
       "[1] \"5.4%\"\n",
       "\n",
       "\n",
       "$Pueblo_Libre\n",
       "$Pueblo_Libre$Population\n",
       "[1] \"94010\"\n",
       "\n",
       "$Pueblo_Libre$Poverty\n",
       "[1] \"1.2%\"\n",
       "\n",
       "\n",
       "$San_Miguel\n",
       "$San_Miguel$Population\n",
       "[1] \"173309\"\n",
       "\n",
       "$San_Miguel$Poverty\n",
       "[1] \"2.1%\"\n",
       "\n",
       "\n",
       "$La_Punta\n",
       "$La_Punta$Population\n",
       "[1] \"3935\"\n",
       "\n",
       "$La_Punta$Poverty\n",
       "[1] \"3.7%\"\n",
       "\n",
       "\n",
       "$Bellavista\n",
       "$Bellavista$Population\n",
       "[1] \"16370\"\n",
       "\n",
       "$Bellavista$Poverty\n",
       "[1] \"6.3%\"\n",
       "\n"
      ]
     },
     "metadata": {},
     "output_type": "display_data"
    }
   ],
   "source": [
    "dic1 <- list('Breña'=list('Population'=\"93111\",'Poverty'=\"5.4%\"),\"Pueblo_Libre\"=list(\"Population\"=\"94010\",\"Poverty\"=\"1.2%\"),\n",
    "\"San_Miguel\"=list(\"Population\"=\"173309\",\"Poverty\"=\"2.1%\"),\"La_Punta\"=list(\"Population\"=\"3935\",\"Poverty\"=\"3.7%\"),\"Bellavista\"=list(\"Population\"=\"16370\",\n",
    "\"Poverty\"=\"6.3%\"))\n",
    "dic1"
   ]
  },
  {
   "cell_type": "code",
   "execution_count": 24,
   "id": "60c8ac6a",
   "metadata": {},
   "outputs": [
    {
     "data": {
      "text/html": [
       "'5.4%'"
      ],
      "text/latex": [
       "'5.4\\%'"
      ],
      "text/markdown": [
       "'5.4%'"
      ],
      "text/plain": [
       "[1] \"5.4%\""
      ]
     },
     "metadata": {},
     "output_type": "display_data"
    }
   ],
   "source": [
    "dic1$Breña$Poverty"
   ]
  },
  {
   "cell_type": "code",
   "execution_count": 25,
   "id": "7b6d2ac5",
   "metadata": {},
   "outputs": [
    {
     "data": {
      "text/html": [
       "'93111'"
      ],
      "text/latex": [
       "'93111'"
      ],
      "text/markdown": [
       "'93111'"
      ],
      "text/plain": [
       "[1] \"93111\""
      ]
     },
     "metadata": {},
     "output_type": "display_data"
    }
   ],
   "source": [
    "dic1$Breña$Population"
   ]
  },
  {
   "cell_type": "code",
   "execution_count": 29,
   "id": "4d9e0875",
   "metadata": {},
   "outputs": [
    {
     "data": {
      "text/html": [
       "'1.2%'"
      ],
      "text/latex": [
       "'1.2\\%'"
      ],
      "text/markdown": [
       "'1.2%'"
      ],
      "text/plain": [
       "[1] \"1.2%\""
      ]
     },
     "metadata": {},
     "output_type": "display_data"
    }
   ],
   "source": [
    "dic1$Pueblo_Libre$Poverty"
   ]
  },
  {
   "cell_type": "code",
   "execution_count": 30,
   "id": "9f3009dc",
   "metadata": {},
   "outputs": [
    {
     "data": {
      "text/html": [
       "'94010'"
      ],
      "text/latex": [
       "'94010'"
      ],
      "text/markdown": [
       "'94010'"
      ],
      "text/plain": [
       "[1] \"94010\""
      ]
     },
     "metadata": {},
     "output_type": "display_data"
    }
   ],
   "source": [
    "dic1$Pueblo_Libre$Population"
   ]
  },
  {
   "cell_type": "code",
   "execution_count": 31,
   "id": "2e4a5e53",
   "metadata": {},
   "outputs": [
    {
     "data": {
      "text/html": [
       "'6.3%'"
      ],
      "text/latex": [
       "'6.3\\%'"
      ],
      "text/markdown": [
       "'6.3%'"
      ],
      "text/plain": [
       "[1] \"6.3%\""
      ]
     },
     "metadata": {},
     "output_type": "display_data"
    }
   ],
   "source": [
    "dic1$Bellavista$Poverty"
   ]
  },
  {
   "cell_type": "code",
   "execution_count": 32,
   "id": "ff5c6f4a",
   "metadata": {},
   "outputs": [
    {
     "data": {
      "text/html": [
       "'16370'"
      ],
      "text/latex": [
       "'16370'"
      ],
      "text/markdown": [
       "'16370'"
      ],
      "text/plain": [
       "[1] \"16370\""
      ]
     },
     "metadata": {},
     "output_type": "display_data"
    }
   ],
   "source": [
    "dic1$Bellavista$Population"
   ]
  },
  {
   "cell_type": "markdown",
   "id": "29fb2f3a",
   "metadata": {},
   "source": [
    "### Matrices"
   ]
  },
  {
   "cell_type": "code",
   "execution_count": 39,
   "id": "4505414c",
   "metadata": {},
   "outputs": [],
   "source": [
    "f <- c(1,2,3,4,5,6,7,8,9,10)"
   ]
  },
  {
   "cell_type": "code",
   "execution_count": 40,
   "id": "d7182444",
   "metadata": {},
   "outputs": [
    {
     "name": "stdout",
     "output_type": "stream",
     "text": [
      "     [,1] [,2] [,3] [,4] [,5]\n",
      "[1,]    1    2    3    4    5\n",
      "[2,]    6    7    8    9   10\n"
     ]
    }
   ],
   "source": [
    "m1 <- matrix(f, nrow=2, byrow=TRUE)\n",
    "print(m1)"
   ]
  },
  {
   "cell_type": "code",
   "execution_count": 41,
   "id": "44c44d9d",
   "metadata": {},
   "outputs": [
    {
     "name": "stdout",
     "output_type": "stream",
     "text": [
      "     [,1] [,2] [,3] [,4] [,5]\n",
      "[1,]    1    3    5    7    9\n",
      "[2,]    2    4    6    8   10\n"
     ]
    }
   ],
   "source": [
    "m2 <- matrix(f, nrow=2, byrow=FALSE)\n",
    "print(m2)"
   ]
  },
  {
   "cell_type": "code",
   "execution_count": 59,
   "id": "f207cc20",
   "metadata": {},
   "outputs": [
    {
     "data": {
      "text/html": [
       "<table>\n",
       "<tbody>\n",
       "\t<tr><td>1 </td><td>5 </td><td> 9</td><td>13</td><td>17</td><td>21</td><td>25</td><td>29</td></tr>\n",
       "\t<tr><td>2 </td><td>6 </td><td>10</td><td>14</td><td>18</td><td>22</td><td>26</td><td>30</td></tr>\n",
       "\t<tr><td>3 </td><td>7 </td><td>11</td><td>15</td><td>19</td><td>23</td><td>27</td><td>31</td></tr>\n",
       "\t<tr><td>4 </td><td>8 </td><td>12</td><td>16</td><td>20</td><td>24</td><td>28</td><td>32</td></tr>\n",
       "</tbody>\n",
       "</table>\n"
      ],
      "text/latex": [
       "\\begin{tabular}{llllllll}\n",
       "\t 1  & 5  &  9 & 13 & 17 & 21 & 25 & 29\\\\\n",
       "\t 2  & 6  & 10 & 14 & 18 & 22 & 26 & 30\\\\\n",
       "\t 3  & 7  & 11 & 15 & 19 & 23 & 27 & 31\\\\\n",
       "\t 4  & 8  & 12 & 16 & 20 & 24 & 28 & 32\\\\\n",
       "\\end{tabular}\n"
      ],
      "text/markdown": [
       "\n",
       "| 1  | 5  |  9 | 13 | 17 | 21 | 25 | 29 |\n",
       "| 2  | 6  | 10 | 14 | 18 | 22 | 26 | 30 |\n",
       "| 3  | 7  | 11 | 15 | 19 | 23 | 27 | 31 |\n",
       "| 4  | 8  | 12 | 16 | 20 | 24 | 28 | 32 |\n",
       "\n"
      ],
      "text/plain": [
       "     [,1] [,2] [,3] [,4] [,5] [,6] [,7] [,8]\n",
       "[1,] 1    5     9   13   17   21   25   29  \n",
       "[2,] 2    6    10   14   18   22   26   30  \n",
       "[3,] 3    7    11   15   19   23   27   31  \n",
       "[4,] 4    8    12   16   20   24   28   32  "
      ]
     },
     "metadata": {},
     "output_type": "display_data"
    }
   ],
   "source": [
    "e <- matrix(seq(1,32,1),4,8)\n",
    "e"
   ]
  },
  {
   "cell_type": "code",
   "execution_count": 69,
   "id": "dcb75ce4",
   "metadata": {},
   "outputs": [
    {
     "data": {
      "text/html": [
       "<table>\n",
       "<tbody>\n",
       "\t<tr><td>25</td><td>29</td></tr>\n",
       "\t<tr><td>26</td><td>30</td></tr>\n",
       "\t<tr><td>27</td><td>31</td></tr>\n",
       "\t<tr><td>28</td><td>32</td></tr>\n",
       "</tbody>\n",
       "</table>\n"
      ],
      "text/latex": [
       "\\begin{tabular}{ll}\n",
       "\t 25 & 29\\\\\n",
       "\t 26 & 30\\\\\n",
       "\t 27 & 31\\\\\n",
       "\t 28 & 32\\\\\n",
       "\\end{tabular}\n"
      ],
      "text/markdown": [
       "\n",
       "| 25 | 29 |\n",
       "| 26 | 30 |\n",
       "| 27 | 31 |\n",
       "| 28 | 32 |\n",
       "\n"
      ],
      "text/plain": [
       "     [,1] [,2]\n",
       "[1,] 25   29  \n",
       "[2,] 26   30  \n",
       "[3,] 27   31  \n",
       "[4,] 28   32  "
      ]
     },
     "metadata": {},
     "output_type": "display_data"
    }
   ],
   "source": [
    "e[,c(-1:-6)]"
   ]
  },
  {
   "cell_type": "code",
   "execution_count": 70,
   "id": "a8a2f1ac",
   "metadata": {},
   "outputs": [
    {
     "data": {
      "text/html": [
       "<table>\n",
       "<tbody>\n",
       "\t<tr><td>1 </td><td>5 </td><td> 9</td><td>13</td><td>17</td><td>21</td><td>25</td><td>29</td></tr>\n",
       "\t<tr><td>2 </td><td>6 </td><td>10</td><td>14</td><td>18</td><td>22</td><td>26</td><td>30</td></tr>\n",
       "\t<tr><td>3 </td><td>7 </td><td>11</td><td>15</td><td>19</td><td>23</td><td>27</td><td>31</td></tr>\n",
       "</tbody>\n",
       "</table>\n"
      ],
      "text/latex": [
       "\\begin{tabular}{llllllll}\n",
       "\t 1  & 5  &  9 & 13 & 17 & 21 & 25 & 29\\\\\n",
       "\t 2  & 6  & 10 & 14 & 18 & 22 & 26 & 30\\\\\n",
       "\t 3  & 7  & 11 & 15 & 19 & 23 & 27 & 31\\\\\n",
       "\\end{tabular}\n"
      ],
      "text/markdown": [
       "\n",
       "| 1  | 5  |  9 | 13 | 17 | 21 | 25 | 29 |\n",
       "| 2  | 6  | 10 | 14 | 18 | 22 | 26 | 30 |\n",
       "| 3  | 7  | 11 | 15 | 19 | 23 | 27 | 31 |\n",
       "\n"
      ],
      "text/plain": [
       "     [,1] [,2] [,3] [,4] [,5] [,6] [,7] [,8]\n",
       "[1,] 1    5     9   13   17   21   25   29  \n",
       "[2,] 2    6    10   14   18   22   26   30  \n",
       "[3,] 3    7    11   15   19   23   27   31  "
      ]
     },
     "metadata": {},
     "output_type": "display_data"
    }
   ],
   "source": [
    "e[c(1:3),]"
   ]
  },
  {
   "cell_type": "markdown",
   "id": "de74e0e1",
   "metadata": {},
   "source": [
    "### Operaciones con matrices"
   ]
  },
  {
   "cell_type": "code",
   "execution_count": 71,
   "id": "dfa27811",
   "metadata": {
    "scrolled": true
   },
   "outputs": [
    {
     "name": "stderr",
     "output_type": "stream",
     "text": [
      "also installing the dependencies 'lattice', 'Matrix'\n",
      "\n"
     ]
    },
    {
     "name": "stdout",
     "output_type": "stream",
     "text": [
      "\n",
      "  There are binary versions available but the source versions are later:\n",
      "         binary  source needs_compilation\n",
      "lattice 0.20-44 0.20-45              TRUE\n",
      "Matrix    1.3-3   1.4-1              TRUE\n",
      "\n",
      "  Binaries will be installed\n",
      "package 'lattice' successfully unpacked and MD5 sums checked\n",
      "package 'Matrix' successfully unpacked and MD5 sums checked\n",
      "package 'RcppEigen' successfully unpacked and MD5 sums checked\n",
      "\n",
      "The downloaded binary packages are in\n",
      "\tC:\\Users\\PERSONAL\\AppData\\Local\\Temp\\RtmpiQwhJ3\\downloaded_packages\n"
     ]
    },
    {
     "name": "stderr",
     "output_type": "stream",
     "text": [
      "Warning message:\n",
      "\"package 'RcppEigen' was built under R version 3.6.3\""
     ]
    }
   ],
   "source": []
  },
  {
   "cell_type": "code",
   "execution_count": null,
   "id": "f8a60fc1",
   "metadata": {},
   "outputs": [],
   "source": []
  },
  {
   "cell_type": "code",
   "execution_count": null,
   "id": "6c017bca",
   "metadata": {},
   "outputs": [],
   "source": []
  },
  {
   "cell_type": "code",
   "execution_count": null,
   "id": "46072075",
   "metadata": {},
   "outputs": [],
   "source": []
  },
  {
   "cell_type": "code",
   "execution_count": null,
   "id": "45eb1e5e",
   "metadata": {},
   "outputs": [],
   "source": []
  }
 ],
 "metadata": {
  "kernelspec": {
   "display_name": "R",
   "language": "R",
   "name": "ir"
  },
  "language_info": {
   "codemirror_mode": "r",
   "file_extension": ".r",
   "mimetype": "text/x-r-source",
   "name": "R",
   "pygments_lexer": "r",
   "version": "3.6.1"
  }
 },
 "nbformat": 4,
 "nbformat_minor": 5
}
