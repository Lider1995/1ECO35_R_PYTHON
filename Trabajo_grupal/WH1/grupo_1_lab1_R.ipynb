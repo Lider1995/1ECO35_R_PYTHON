{
 "cells": [
  {
   "cell_type": "markdown",
   "id": "8d895e55",
   "metadata": {},
   "source": [
    "## Grupo 1"
   ]
  },
  {
   "cell_type": "markdown",
   "id": "ec9e7028",
   "metadata": {},
   "source": [
    "##### Pregunta 1"
   ]
  },
  {
   "cell_type": "code",
   "execution_count": 67,
   "id": "c4b4e976",
   "metadata": {},
   "outputs": [],
   "source": [
    "a <- \"Primer trabajo grupal\""
   ]
  },
  {
   "cell_type": "code",
   "execution_count": 68,
   "id": "63a663ed",
   "metadata": {},
   "outputs": [],
   "source": [
    "b <- \"2022-1\""
   ]
  },
  {
   "cell_type": "code",
   "execution_count": 69,
   "id": "0aa2fc22",
   "metadata": {},
   "outputs": [],
   "source": [
    "# install.packages(\"devtools\")\n",
    "library(glue)"
   ]
  },
  {
   "cell_type": "code",
   "execution_count": 70,
   "id": "2cca95e3",
   "metadata": {},
   "outputs": [
    {
     "data": {
      "text/html": [
       "'Primer trabajo grupal: Ciclo 2022-1'"
      ],
      "text/latex": [
       "'Primer trabajo grupal: Ciclo 2022-1'"
      ],
      "text/markdown": [
       "'Primer trabajo grupal: Ciclo 2022-1'"
      ],
      "text/plain": [
       "Primer trabajo grupal: Ciclo 2022-1"
      ]
     },
     "metadata": {},
     "output_type": "display_data"
    }
   ],
   "source": [
    "c <- glue('{a}: Ciclo {b}')\n",
    "c"
   ]
  },
  {
   "cell_type": "code",
   "execution_count": 71,
   "id": "d69f0999",
   "metadata": {},
   "outputs": [],
   "source": [
    "d <- \"25\""
   ]
  },
  {
   "cell_type": "code",
   "execution_count": 72,
   "id": "0f55c733",
   "metadata": {},
   "outputs": [],
   "source": [
    "e <- \"30\""
   ]
  },
  {
   "cell_type": "code",
   "execution_count": 73,
   "id": "07c2f669",
   "metadata": {},
   "outputs": [
    {
     "data": {
      "text/html": [
       "'25 x 30 es igual a 750'"
      ],
      "text/latex": [
       "'25 x 30 es igual a 750'"
      ],
      "text/markdown": [
       "'25 x 30 es igual a 750'"
      ],
      "text/plain": [
       "25 x 30 es igual a 750"
      ]
     },
     "metadata": {},
     "output_type": "display_data"
    }
   ],
   "source": [
    "f <- glue('{d} x {e} es igual a 750')\n",
    "f"
   ]
  },
  {
   "cell_type": "markdown",
   "id": "364f3b07",
   "metadata": {},
   "source": [
    "### Diccionarios y listas"
   ]
  },
  {
   "cell_type": "markdown",
   "id": "e8179e1a",
   "metadata": {},
   "source": [
    "##### Pregunta 2"
   ]
  },
  {
   "cell_type": "code",
   "execution_count": 74,
   "id": "4648fa08",
   "metadata": {},
   "outputs": [
    {
     "data": {
      "text/html": [
       "<ol>\n",
       "\t<li>'Breña'</li>\n",
       "\t<li>'Pueblo Libre'</li>\n",
       "\t<li>'San Miguel'</li>\n",
       "\t<li>'La Punta'</li>\n",
       "\t<li>'Bellavista'</li>\n",
       "</ol>\n"
      ],
      "text/latex": [
       "\\begin{enumerate}\n",
       "\\item 'Breña'\n",
       "\\item 'Pueblo Libre'\n",
       "\\item 'San Miguel'\n",
       "\\item 'La Punta'\n",
       "\\item 'Bellavista'\n",
       "\\end{enumerate}\n"
      ],
      "text/markdown": [
       "1. 'Breña'\n",
       "2. 'Pueblo Libre'\n",
       "3. 'San Miguel'\n",
       "4. 'La Punta'\n",
       "5. 'Bellavista'\n",
       "\n",
       "\n"
      ],
      "text/plain": [
       "[[1]]\n",
       "[1] \"Breña\"\n",
       "\n",
       "[[2]]\n",
       "[1] \"Pueblo Libre\"\n",
       "\n",
       "[[3]]\n",
       "[1] \"San Miguel\"\n",
       "\n",
       "[[4]]\n",
       "[1] \"La Punta\"\n",
       "\n",
       "[[5]]\n",
       "[1] \"Bellavista\"\n"
      ]
     },
     "metadata": {},
     "output_type": "display_data"
    }
   ],
   "source": [
    "dis1 <- list('Breña', 'Pueblo Libre','San Miguel', 'La Punta', 'Bellavista')\n",
    "dis1"
   ]
  },
  {
   "cell_type": "markdown",
   "id": "f2f295d4",
   "metadata": {},
   "source": [
    "##### Pregunta 3"
   ]
  },
  {
   "cell_type": "code",
   "execution_count": 75,
   "id": "284338f3",
   "metadata": {},
   "outputs": [
    {
     "data": {
      "text/html": [
       "<dl>\n",
       "\t<dt>$Breña</dt>\n",
       "\t\t<dd><dl>\n",
       "\t<dt>$Population</dt>\n",
       "\t\t<dd>'93111'</dd>\n",
       "\t<dt>$Poverty</dt>\n",
       "\t\t<dd>'5.4%'</dd>\n",
       "</dl>\n",
       "</dd>\n",
       "\t<dt>$Pueblo_Libre</dt>\n",
       "\t\t<dd><dl>\n",
       "\t<dt>$Population</dt>\n",
       "\t\t<dd>'94010'</dd>\n",
       "\t<dt>$Poverty</dt>\n",
       "\t\t<dd>'1.2%'</dd>\n",
       "</dl>\n",
       "</dd>\n",
       "\t<dt>$San_Miguel</dt>\n",
       "\t\t<dd><dl>\n",
       "\t<dt>$Population</dt>\n",
       "\t\t<dd>'173309'</dd>\n",
       "\t<dt>$Poverty</dt>\n",
       "\t\t<dd>'2.1%'</dd>\n",
       "</dl>\n",
       "</dd>\n",
       "\t<dt>$La_Punta</dt>\n",
       "\t\t<dd><dl>\n",
       "\t<dt>$Population</dt>\n",
       "\t\t<dd>'3935'</dd>\n",
       "\t<dt>$Poverty</dt>\n",
       "\t\t<dd>'3.7%'</dd>\n",
       "</dl>\n",
       "</dd>\n",
       "\t<dt>$Bellavista</dt>\n",
       "\t\t<dd><dl>\n",
       "\t<dt>$Population</dt>\n",
       "\t\t<dd>'16370'</dd>\n",
       "\t<dt>$Poverty</dt>\n",
       "\t\t<dd>'6.3%'</dd>\n",
       "</dl>\n",
       "</dd>\n",
       "</dl>\n"
      ],
      "text/latex": [
       "\\begin{description}\n",
       "\\item[\\$Breña] \\begin{description}\n",
       "\\item[\\$Population] '93111'\n",
       "\\item[\\$Poverty] '5.4\\%'\n",
       "\\end{description}\n",
       "\n",
       "\\item[\\$Pueblo\\_Libre] \\begin{description}\n",
       "\\item[\\$Population] '94010'\n",
       "\\item[\\$Poverty] '1.2\\%'\n",
       "\\end{description}\n",
       "\n",
       "\\item[\\$San\\_Miguel] \\begin{description}\n",
       "\\item[\\$Population] '173309'\n",
       "\\item[\\$Poverty] '2.1\\%'\n",
       "\\end{description}\n",
       "\n",
       "\\item[\\$La\\_Punta] \\begin{description}\n",
       "\\item[\\$Population] '3935'\n",
       "\\item[\\$Poverty] '3.7\\%'\n",
       "\\end{description}\n",
       "\n",
       "\\item[\\$Bellavista] \\begin{description}\n",
       "\\item[\\$Population] '16370'\n",
       "\\item[\\$Poverty] '6.3\\%'\n",
       "\\end{description}\n",
       "\n",
       "\\end{description}\n"
      ],
      "text/markdown": [
       "$Breña\n",
       ":   $Population\n",
       ":   '93111'\n",
       "$Poverty\n",
       ":   '5.4%'\n",
       "\n",
       "\n",
       "\n",
       "$Pueblo_Libre\n",
       ":   $Population\n",
       ":   '94010'\n",
       "$Poverty\n",
       ":   '1.2%'\n",
       "\n",
       "\n",
       "\n",
       "$San_Miguel\n",
       ":   $Population\n",
       ":   '173309'\n",
       "$Poverty\n",
       ":   '2.1%'\n",
       "\n",
       "\n",
       "\n",
       "$La_Punta\n",
       ":   $Population\n",
       ":   '3935'\n",
       "$Poverty\n",
       ":   '3.7%'\n",
       "\n",
       "\n",
       "\n",
       "$Bellavista\n",
       ":   $Population\n",
       ":   '16370'\n",
       "$Poverty\n",
       ":   '6.3%'\n",
       "\n",
       "\n",
       "\n",
       "\n",
       "\n"
      ],
      "text/plain": [
       "$Breña\n",
       "$Breña$Population\n",
       "[1] \"93111\"\n",
       "\n",
       "$Breña$Poverty\n",
       "[1] \"5.4%\"\n",
       "\n",
       "\n",
       "$Pueblo_Libre\n",
       "$Pueblo_Libre$Population\n",
       "[1] \"94010\"\n",
       "\n",
       "$Pueblo_Libre$Poverty\n",
       "[1] \"1.2%\"\n",
       "\n",
       "\n",
       "$San_Miguel\n",
       "$San_Miguel$Population\n",
       "[1] \"173309\"\n",
       "\n",
       "$San_Miguel$Poverty\n",
       "[1] \"2.1%\"\n",
       "\n",
       "\n",
       "$La_Punta\n",
       "$La_Punta$Population\n",
       "[1] \"3935\"\n",
       "\n",
       "$La_Punta$Poverty\n",
       "[1] \"3.7%\"\n",
       "\n",
       "\n",
       "$Bellavista\n",
       "$Bellavista$Population\n",
       "[1] \"16370\"\n",
       "\n",
       "$Bellavista$Poverty\n",
       "[1] \"6.3%\"\n",
       "\n"
      ]
     },
     "metadata": {},
     "output_type": "display_data"
    }
   ],
   "source": [
    "dic1 <- list('Breña'=list('Population'=\"93111\",'Poverty'=\"5.4%\"),\"Pueblo_Libre\"=list(\"Population\"=\"94010\",\"Poverty\"=\"1.2%\"),\n",
    "\"San_Miguel\"=list(\"Population\"=\"173309\",\"Poverty\"=\"2.1%\"),\"La_Punta\"=list(\"Population\"=\"3935\",\"Poverty\"=\"3.7%\"),\"Bellavista\"=list(\"Population\"=\"16370\",\n",
    "\"Poverty\"=\"6.3%\"))\n",
    "dic1"
   ]
  },
  {
   "cell_type": "markdown",
   "id": "67cd7831",
   "metadata": {},
   "source": [
    "##### Pregunta 4"
   ]
  },
  {
   "cell_type": "code",
   "execution_count": 76,
   "id": "60c8ac6a",
   "metadata": {
    "scrolled": true
   },
   "outputs": [
    {
     "data": {
      "text/html": [
       "'5.4%'"
      ],
      "text/latex": [
       "'5.4\\%'"
      ],
      "text/markdown": [
       "'5.4%'"
      ],
      "text/plain": [
       "[1] \"5.4%\""
      ]
     },
     "metadata": {},
     "output_type": "display_data"
    }
   ],
   "source": [
    "dic1$Breña$Poverty"
   ]
  },
  {
   "cell_type": "code",
   "execution_count": 77,
   "id": "7b6d2ac5",
   "metadata": {},
   "outputs": [
    {
     "data": {
      "text/html": [
       "'93111'"
      ],
      "text/latex": [
       "'93111'"
      ],
      "text/markdown": [
       "'93111'"
      ],
      "text/plain": [
       "[1] \"93111\""
      ]
     },
     "metadata": {},
     "output_type": "display_data"
    }
   ],
   "source": [
    "dic1$Breña$Population"
   ]
  },
  {
   "cell_type": "code",
   "execution_count": 78,
   "id": "4d9e0875",
   "metadata": {},
   "outputs": [
    {
     "data": {
      "text/html": [
       "'1.2%'"
      ],
      "text/latex": [
       "'1.2\\%'"
      ],
      "text/markdown": [
       "'1.2%'"
      ],
      "text/plain": [
       "[1] \"1.2%\""
      ]
     },
     "metadata": {},
     "output_type": "display_data"
    }
   ],
   "source": [
    "dic1$Pueblo_Libre$Poverty"
   ]
  },
  {
   "cell_type": "code",
   "execution_count": 79,
   "id": "9f3009dc",
   "metadata": {},
   "outputs": [
    {
     "data": {
      "text/html": [
       "'94010'"
      ],
      "text/latex": [
       "'94010'"
      ],
      "text/markdown": [
       "'94010'"
      ],
      "text/plain": [
       "[1] \"94010\""
      ]
     },
     "metadata": {},
     "output_type": "display_data"
    }
   ],
   "source": [
    "dic1$Pueblo_Libre$Population"
   ]
  },
  {
   "cell_type": "code",
   "execution_count": 80,
   "id": "2e4a5e53",
   "metadata": {},
   "outputs": [
    {
     "data": {
      "text/html": [
       "'6.3%'"
      ],
      "text/latex": [
       "'6.3\\%'"
      ],
      "text/markdown": [
       "'6.3%'"
      ],
      "text/plain": [
       "[1] \"6.3%\""
      ]
     },
     "metadata": {},
     "output_type": "display_data"
    }
   ],
   "source": [
    "dic1$Bellavista$Poverty"
   ]
  },
  {
   "cell_type": "code",
   "execution_count": 81,
   "id": "ff5c6f4a",
   "metadata": {},
   "outputs": [
    {
     "data": {
      "text/html": [
       "'16370'"
      ],
      "text/latex": [
       "'16370'"
      ],
      "text/markdown": [
       "'16370'"
      ],
      "text/plain": [
       "[1] \"16370\""
      ]
     },
     "metadata": {},
     "output_type": "display_data"
    }
   ],
   "source": [
    "dic1$Bellavista$Population"
   ]
  },
  {
   "cell_type": "markdown",
   "id": "29fb2f3a",
   "metadata": {},
   "source": [
    "### Matrices"
   ]
  },
  {
   "cell_type": "markdown",
   "id": "9075cfe7",
   "metadata": {},
   "source": [
    "##### Pregunta 5"
   ]
  },
  {
   "cell_type": "code",
   "execution_count": 82,
   "id": "4505414c",
   "metadata": {},
   "outputs": [],
   "source": [
    "f <- c(1,2,3,4,5,6,7,8,9,10)"
   ]
  },
  {
   "cell_type": "code",
   "execution_count": 83,
   "id": "d7182444",
   "metadata": {},
   "outputs": [
    {
     "name": "stdout",
     "output_type": "stream",
     "text": [
      "     [,1] [,2] [,3] [,4] [,5]\n",
      "[1,]    1    2    3    4    5\n",
      "[2,]    6    7    8    9   10\n"
     ]
    }
   ],
   "source": [
    "m1 <- matrix(f, nrow=2, byrow=TRUE)\n",
    "print(m1)"
   ]
  },
  {
   "cell_type": "code",
   "execution_count": 84,
   "id": "44c44d9d",
   "metadata": {},
   "outputs": [
    {
     "name": "stdout",
     "output_type": "stream",
     "text": [
      "     [,1] [,2] [,3] [,4] [,5]\n",
      "[1,]    1    3    5    7    9\n",
      "[2,]    2    4    6    8   10\n"
     ]
    }
   ],
   "source": [
    "m2 <- matrix(f, nrow=2, byrow=FALSE)\n",
    "print(m2)"
   ]
  },
  {
   "cell_type": "markdown",
   "id": "9f736d4e",
   "metadata": {},
   "source": [
    "##### Pregunta 6"
   ]
  },
  {
   "cell_type": "code",
   "execution_count": 85,
   "id": "f207cc20",
   "metadata": {},
   "outputs": [
    {
     "data": {
      "text/html": [
       "<table>\n",
       "<tbody>\n",
       "\t<tr><td>1 </td><td>5 </td><td> 9</td><td>13</td><td>17</td><td>21</td><td>25</td><td>29</td></tr>\n",
       "\t<tr><td>2 </td><td>6 </td><td>10</td><td>14</td><td>18</td><td>22</td><td>26</td><td>30</td></tr>\n",
       "\t<tr><td>3 </td><td>7 </td><td>11</td><td>15</td><td>19</td><td>23</td><td>27</td><td>31</td></tr>\n",
       "\t<tr><td>4 </td><td>8 </td><td>12</td><td>16</td><td>20</td><td>24</td><td>28</td><td>32</td></tr>\n",
       "</tbody>\n",
       "</table>\n"
      ],
      "text/latex": [
       "\\begin{tabular}{llllllll}\n",
       "\t 1  & 5  &  9 & 13 & 17 & 21 & 25 & 29\\\\\n",
       "\t 2  & 6  & 10 & 14 & 18 & 22 & 26 & 30\\\\\n",
       "\t 3  & 7  & 11 & 15 & 19 & 23 & 27 & 31\\\\\n",
       "\t 4  & 8  & 12 & 16 & 20 & 24 & 28 & 32\\\\\n",
       "\\end{tabular}\n"
      ],
      "text/markdown": [
       "\n",
       "| 1  | 5  |  9 | 13 | 17 | 21 | 25 | 29 |\n",
       "| 2  | 6  | 10 | 14 | 18 | 22 | 26 | 30 |\n",
       "| 3  | 7  | 11 | 15 | 19 | 23 | 27 | 31 |\n",
       "| 4  | 8  | 12 | 16 | 20 | 24 | 28 | 32 |\n",
       "\n"
      ],
      "text/plain": [
       "     [,1] [,2] [,3] [,4] [,5] [,6] [,7] [,8]\n",
       "[1,] 1    5     9   13   17   21   25   29  \n",
       "[2,] 2    6    10   14   18   22   26   30  \n",
       "[3,] 3    7    11   15   19   23   27   31  \n",
       "[4,] 4    8    12   16   20   24   28   32  "
      ]
     },
     "metadata": {},
     "output_type": "display_data"
    }
   ],
   "source": [
    "e <- matrix(seq(1,32,1),4,8)\n",
    "e"
   ]
  },
  {
   "cell_type": "code",
   "execution_count": 86,
   "id": "dcb75ce4",
   "metadata": {},
   "outputs": [
    {
     "data": {
      "text/html": [
       "<table>\n",
       "<tbody>\n",
       "\t<tr><td>25</td><td>29</td></tr>\n",
       "\t<tr><td>26</td><td>30</td></tr>\n",
       "\t<tr><td>27</td><td>31</td></tr>\n",
       "\t<tr><td>28</td><td>32</td></tr>\n",
       "</tbody>\n",
       "</table>\n"
      ],
      "text/latex": [
       "\\begin{tabular}{ll}\n",
       "\t 25 & 29\\\\\n",
       "\t 26 & 30\\\\\n",
       "\t 27 & 31\\\\\n",
       "\t 28 & 32\\\\\n",
       "\\end{tabular}\n"
      ],
      "text/markdown": [
       "\n",
       "| 25 | 29 |\n",
       "| 26 | 30 |\n",
       "| 27 | 31 |\n",
       "| 28 | 32 |\n",
       "\n"
      ],
      "text/plain": [
       "     [,1] [,2]\n",
       "[1,] 25   29  \n",
       "[2,] 26   30  \n",
       "[3,] 27   31  \n",
       "[4,] 28   32  "
      ]
     },
     "metadata": {},
     "output_type": "display_data"
    }
   ],
   "source": [
    "e[,c(-1:-6)]"
   ]
  },
  {
   "cell_type": "code",
   "execution_count": 87,
   "id": "a8a2f1ac",
   "metadata": {},
   "outputs": [
    {
     "data": {
      "text/html": [
       "<table>\n",
       "<tbody>\n",
       "\t<tr><td>1 </td><td>5 </td><td> 9</td><td>13</td><td>17</td><td>21</td><td>25</td><td>29</td></tr>\n",
       "\t<tr><td>2 </td><td>6 </td><td>10</td><td>14</td><td>18</td><td>22</td><td>26</td><td>30</td></tr>\n",
       "\t<tr><td>3 </td><td>7 </td><td>11</td><td>15</td><td>19</td><td>23</td><td>27</td><td>31</td></tr>\n",
       "</tbody>\n",
       "</table>\n"
      ],
      "text/latex": [
       "\\begin{tabular}{llllllll}\n",
       "\t 1  & 5  &  9 & 13 & 17 & 21 & 25 & 29\\\\\n",
       "\t 2  & 6  & 10 & 14 & 18 & 22 & 26 & 30\\\\\n",
       "\t 3  & 7  & 11 & 15 & 19 & 23 & 27 & 31\\\\\n",
       "\\end{tabular}\n"
      ],
      "text/markdown": [
       "\n",
       "| 1  | 5  |  9 | 13 | 17 | 21 | 25 | 29 |\n",
       "| 2  | 6  | 10 | 14 | 18 | 22 | 26 | 30 |\n",
       "| 3  | 7  | 11 | 15 | 19 | 23 | 27 | 31 |\n",
       "\n"
      ],
      "text/plain": [
       "     [,1] [,2] [,3] [,4] [,5] [,6] [,7] [,8]\n",
       "[1,] 1    5     9   13   17   21   25   29  \n",
       "[2,] 2    6    10   14   18   22   26   30  \n",
       "[3,] 3    7    11   15   19   23   27   31  "
      ]
     },
     "metadata": {},
     "output_type": "display_data"
    }
   ],
   "source": [
    "e[c(1:3),]"
   ]
  },
  {
   "cell_type": "markdown",
   "id": "de74e0e1",
   "metadata": {},
   "source": [
    "### Operaciones con matrices"
   ]
  },
  {
   "cell_type": "markdown",
   "id": "90328228",
   "metadata": {},
   "source": [
    "##### Pregunta 7"
   ]
  },
  {
   "cell_type": "code",
   "execution_count": 43,
   "id": "dfa27811",
   "metadata": {
    "scrolled": false
   },
   "outputs": [],
   "source": [
    "set.seed(23)\n",
    "\n",
    "x1 <- runif(10)\n",
    "x2 <- runif(10)\n",
    "x3 <- runif(10)\n",
    "\n",
    "e <- rnorm(10)\n",
    "\n",
    "# Poblacional regression (Data Generating Process GDP)\n",
    "\n",
    "Y <- 13 + 5*x1 + 2*x2 + 5*x3 + e"
   ]
  },
  {
   "cell_type": "code",
   "execution_count": 44,
   "id": "f8a60fc1",
   "metadata": {},
   "outputs": [
    {
     "data": {
      "text/html": [
       "<table>\n",
       "<thead><tr><th scope=col></th><th scope=col>x1</th><th scope=col>x2</th><th scope=col>x3</th></tr></thead>\n",
       "<tbody>\n",
       "\t<tr><td>1        </td><td>0.5766037</td><td>0.8659590</td><td>0.5863978</td></tr>\n",
       "\t<tr><td>1        </td><td>0.2230729</td><td>0.7014217</td><td>0.2747410</td></tr>\n",
       "\t<tr><td>1        </td><td>0.3318966</td><td>0.3904731</td><td>0.1476570</td></tr>\n",
       "\t<tr><td>1        </td><td>0.7107246</td><td>0.3147697</td><td>0.8014103</td></tr>\n",
       "\t<tr><td>1        </td><td>0.8194490</td><td>0.8459473</td><td>0.3864098</td></tr>\n",
       "\t<tr><td>1        </td><td>0.4237206</td><td>0.1392785</td><td>0.8204507</td></tr>\n",
       "\t<tr><td>1        </td><td>0.9635445</td><td>0.5181206</td><td>0.6849373</td></tr>\n",
       "\t<tr><td>1        </td><td>0.9781304</td><td>0.5935508</td><td>0.8833893</td></tr>\n",
       "\t<tr><td>1        </td><td>0.8405219</td><td>0.9424617</td><td>0.1119208</td></tr>\n",
       "\t<tr><td>1        </td><td>0.9966112</td><td>0.6280196</td><td>0.7788340</td></tr>\n",
       "</tbody>\n",
       "</table>\n"
      ],
      "text/latex": [
       "\\begin{tabular}{llll}\n",
       "  & x1 & x2 & x3\\\\\n",
       "\\hline\n",
       "\t 1         & 0.5766037 & 0.8659590 & 0.5863978\\\\\n",
       "\t 1         & 0.2230729 & 0.7014217 & 0.2747410\\\\\n",
       "\t 1         & 0.3318966 & 0.3904731 & 0.1476570\\\\\n",
       "\t 1         & 0.7107246 & 0.3147697 & 0.8014103\\\\\n",
       "\t 1         & 0.8194490 & 0.8459473 & 0.3864098\\\\\n",
       "\t 1         & 0.4237206 & 0.1392785 & 0.8204507\\\\\n",
       "\t 1         & 0.9635445 & 0.5181206 & 0.6849373\\\\\n",
       "\t 1         & 0.9781304 & 0.5935508 & 0.8833893\\\\\n",
       "\t 1         & 0.8405219 & 0.9424617 & 0.1119208\\\\\n",
       "\t 1         & 0.9966112 & 0.6280196 & 0.7788340\\\\\n",
       "\\end{tabular}\n"
      ],
      "text/markdown": [
       "\n",
       "|  | x1 | x2 | x3 |\n",
       "|---|---|---|---|\n",
       "| 1         | 0.5766037 | 0.8659590 | 0.5863978 |\n",
       "| 1         | 0.2230729 | 0.7014217 | 0.2747410 |\n",
       "| 1         | 0.3318966 | 0.3904731 | 0.1476570 |\n",
       "| 1         | 0.7107246 | 0.3147697 | 0.8014103 |\n",
       "| 1         | 0.8194490 | 0.8459473 | 0.3864098 |\n",
       "| 1         | 0.4237206 | 0.1392785 | 0.8204507 |\n",
       "| 1         | 0.9635445 | 0.5181206 | 0.6849373 |\n",
       "| 1         | 0.9781304 | 0.5935508 | 0.8833893 |\n",
       "| 1         | 0.8405219 | 0.9424617 | 0.1119208 |\n",
       "| 1         | 0.9966112 | 0.6280196 | 0.7788340 |\n",
       "\n"
      ],
      "text/plain": [
       "        x1        x2        x3       \n",
       " [1,] 1 0.5766037 0.8659590 0.5863978\n",
       " [2,] 1 0.2230729 0.7014217 0.2747410\n",
       " [3,] 1 0.3318966 0.3904731 0.1476570\n",
       " [4,] 1 0.7107246 0.3147697 0.8014103\n",
       " [5,] 1 0.8194490 0.8459473 0.3864098\n",
       " [6,] 1 0.4237206 0.1392785 0.8204507\n",
       " [7,] 1 0.9635445 0.5181206 0.6849373\n",
       " [8,] 1 0.9781304 0.5935508 0.8833893\n",
       " [9,] 1 0.8405219 0.9424617 0.1119208\n",
       "[10,] 1 0.9966112 0.6280196 0.7788340"
      ]
     },
     "metadata": {},
     "output_type": "display_data"
    }
   ],
   "source": [
    "X <- cbind(matrix(1,10), x1,x2,x3)\n",
    "X"
   ]
  },
  {
   "cell_type": "code",
   "execution_count": 45,
   "id": "6c017bca",
   "metadata": {},
   "outputs": [],
   "source": [
    "# install.packages(\"matlib\")"
   ]
  },
  {
   "cell_type": "code",
   "execution_count": 46,
   "id": "867ac524",
   "metadata": {},
   "outputs": [
    {
     "data": {
      "text/html": [
       "<table>\n",
       "<thead><tr><th></th><th scope=col></th><th scope=col>x1</th><th scope=col>x2</th><th scope=col>x3</th></tr></thead>\n",
       "<tbody>\n",
       "\t<tr><th scope=row></th><td>10.000000</td><td>6.864275 </td><td>5.940002 </td><td>5.476148 </td></tr>\n",
       "\t<tr><th scope=row>x1</th><td> 6.864275</td><td>5.433422 </td><td>4.259174 </td><td>4.076584 </td></tr>\n",
       "\t<tr><th scope=row>x2</th><td> 5.940002</td><td>4.259174 </td><td>4.131846 </td><td>2.925396 </td></tr>\n",
       "\t<tr><th scope=row>x3</th><td> 5.476148</td><td>4.076584 </td><td>2.925396 </td><td>3.774482 </td></tr>\n",
       "</tbody>\n",
       "</table>\n"
      ],
      "text/latex": [
       "\\begin{tabular}{r|llll}\n",
       "  &  & x1 & x2 & x3\\\\\n",
       "\\hline\n",
       "\t & 10.000000 & 6.864275  & 5.940002  & 5.476148 \\\\\n",
       "\tx1 &  6.864275 & 5.433422  & 4.259174  & 4.076584 \\\\\n",
       "\tx2 &  5.940002 & 4.259174  & 4.131846  & 2.925396 \\\\\n",
       "\tx3 &  5.476148 & 4.076584  & 2.925396  & 3.774482 \\\\\n",
       "\\end{tabular}\n"
      ],
      "text/markdown": [
       "\n",
       "| <!--/--> |  | x1 | x2 | x3 |\n",
       "|---|---|---|---|---|\n",
       "|  | 10.000000 | 6.864275  | 5.940002  | 5.476148  |\n",
       "| x1 |  6.864275 | 5.433422  | 4.259174  | 4.076584  |\n",
       "| x2 |  5.940002 | 4.259174  | 4.131846  | 2.925396  |\n",
       "| x3 |  5.476148 | 4.076584  | 2.925396  | 3.774482  |\n",
       "\n"
      ],
      "text/plain": [
       "             x1       x2       x3      \n",
       "   10.000000 6.864275 5.940002 5.476148\n",
       "x1  6.864275 5.433422 4.259174 4.076584\n",
       "x2  5.940002 4.259174 4.131846 2.925396\n",
       "x3  5.476148 4.076584 2.925396 3.774482"
      ]
     },
     "metadata": {},
     "output_type": "display_data"
    }
   ],
   "source": [
    "X1 <- t(X) %*% X\n",
    "X1"
   ]
  },
  {
   "cell_type": "code",
   "execution_count": 47,
   "id": "6430ff68",
   "metadata": {},
   "outputs": [
    {
     "data": {
      "text/html": [
       "<table>\n",
       "<thead><tr><th></th><th scope=col></th><th scope=col>x1</th><th scope=col>x2</th><th scope=col>x3</th></tr></thead>\n",
       "<tbody>\n",
       "\t<tr><th scope=row></th><td> 1.9755819</td><td> 0.2599059</td><td>-1.950019 </td><td>-1.635597 </td></tr>\n",
       "\t<tr><th scope=row>x1</th><td> 0.2599059</td><td> 2.6517912</td><td>-1.800311 </td><td>-1.845793 </td></tr>\n",
       "\t<tr><th scope=row>x2</th><td>-1.9500187</td><td>-1.8003107</td><td> 3.371575 </td><td> 2.160434 </td></tr>\n",
       "\t<tr><th scope=row>x3</th><td>-1.6355966</td><td>-1.8457928</td><td> 2.160434 </td><td> 2.957008 </td></tr>\n",
       "</tbody>\n",
       "</table>\n"
      ],
      "text/latex": [
       "\\begin{tabular}{r|llll}\n",
       "  &  & x1 & x2 & x3\\\\\n",
       "\\hline\n",
       "\t &  1.9755819 &  0.2599059 & -1.950019  & -1.635597 \\\\\n",
       "\tx1 &  0.2599059 &  2.6517912 & -1.800311  & -1.845793 \\\\\n",
       "\tx2 & -1.9500187 & -1.8003107 &  3.371575  &  2.160434 \\\\\n",
       "\tx3 & -1.6355966 & -1.8457928 &  2.160434  &  2.957008 \\\\\n",
       "\\end{tabular}\n"
      ],
      "text/markdown": [
       "\n",
       "| <!--/--> |  | x1 | x2 | x3 |\n",
       "|---|---|---|---|---|\n",
       "|  |  1.9755819 |  0.2599059 | -1.950019  | -1.635597  |\n",
       "| x1 |  0.2599059 |  2.6517912 | -1.800311  | -1.845793  |\n",
       "| x2 | -1.9500187 | -1.8003107 |  3.371575  |  2.160434  |\n",
       "| x3 | -1.6355966 | -1.8457928 |  2.160434  |  2.957008  |\n",
       "\n"
      ],
      "text/plain": [
       "              x1         x2        x3       \n",
       "    1.9755819  0.2599059 -1.950019 -1.635597\n",
       "x1  0.2599059  2.6517912 -1.800311 -1.845793\n",
       "x2 -1.9500187 -1.8003107  3.371575  2.160434\n",
       "x3 -1.6355966 -1.8457928  2.160434  2.957008"
      ]
     },
     "metadata": {},
     "output_type": "display_data"
    }
   ],
   "source": [
    "invX1 <- solve(X1)\n",
    "invX1"
   ]
  },
  {
   "cell_type": "code",
   "execution_count": 48,
   "id": "46072075",
   "metadata": {},
   "outputs": [
    {
     "data": {
      "text/html": [
       "<table>\n",
       "<tbody>\n",
       "\t<tr><th scope=row></th><td>202.9841</td></tr>\n",
       "\t<tr><th scope=row>x1</th><td>144.9244</td></tr>\n",
       "\t<tr><th scope=row>x2</th><td>120.9012</td></tr>\n",
       "\t<tr><th scope=row>x3</th><td>116.7387</td></tr>\n",
       "</tbody>\n",
       "</table>\n"
      ],
      "text/latex": [
       "\\begin{tabular}{r|l}\n",
       "\t & 202.9841\\\\\n",
       "\tx1 & 144.9244\\\\\n",
       "\tx2 & 120.9012\\\\\n",
       "\tx3 & 116.7387\\\\\n",
       "\\end{tabular}\n"
      ],
      "text/markdown": [
       "\n",
       "|  | 202.9841 |\n",
       "| x1 | 144.9244 |\n",
       "| x2 | 120.9012 |\n",
       "| x3 | 116.7387 |\n",
       "\n"
      ],
      "text/plain": [
       "   [,1]    \n",
       "   202.9841\n",
       "x1 144.9244\n",
       "x2 120.9012\n",
       "x3 116.7387"
      ]
     },
     "metadata": {},
     "output_type": "display_data"
    }
   ],
   "source": [
    "r <- t(X) %*% Y\n",
    "r"
   ]
  },
  {
   "cell_type": "code",
   "execution_count": 49,
   "id": "d74d3996",
   "metadata": {},
   "outputs": [
    {
     "data": {
      "text/html": [
       "<table>\n",
       "<tbody>\n",
       "\t<tr><th scope=row></th><td>11.981350</td></tr>\n",
       "\t<tr><th scope=row>x1</th><td> 3.930930</td></tr>\n",
       "\t<tr><th scope=row>x2</th><td> 3.101858</td></tr>\n",
       "\t<tr><th scope=row>x3</th><td> 6.895823</td></tr>\n",
       "</tbody>\n",
       "</table>\n"
      ],
      "text/latex": [
       "\\begin{tabular}{r|l}\n",
       "\t & 11.981350\\\\\n",
       "\tx1 &  3.930930\\\\\n",
       "\tx2 &  3.101858\\\\\n",
       "\tx3 &  6.895823\\\\\n",
       "\\end{tabular}\n"
      ],
      "text/markdown": [
       "\n",
       "|  | 11.981350 |\n",
       "| x1 |  3.930930 |\n",
       "| x2 |  3.101858 |\n",
       "| x3 |  6.895823 |\n",
       "\n"
      ],
      "text/plain": [
       "   [,1]     \n",
       "   11.981350\n",
       "x1  3.930930\n",
       "x2  3.101858\n",
       "x3  6.895823"
      ]
     },
     "metadata": {},
     "output_type": "display_data"
    }
   ],
   "source": [
    "beta <- invX1 %*% r\n",
    "beta"
   ]
  },
  {
   "cell_type": "code",
   "execution_count": 50,
   "id": "b9275bea",
   "metadata": {},
   "outputs": [
    {
     "data": {
      "text/html": [
       "<table>\n",
       "<tbody>\n",
       "\t<tr><td>20.97772</td></tr>\n",
       "\t<tr><td>16.92851</td></tr>\n",
       "\t<tr><td>15.51542</td></tr>\n",
       "\t<tr><td>21.27791</td></tr>\n",
       "\t<tr><td>20.49117</td></tr>\n",
       "\t<tr><td>19.73667</td></tr>\n",
       "\t<tr><td>22.09932</td></tr>\n",
       "\t<tr><td>23.75912</td></tr>\n",
       "\t<tr><td>18.98055</td></tr>\n",
       "\t<tr><td>23.21769</td></tr>\n",
       "</tbody>\n",
       "</table>\n"
      ],
      "text/latex": [
       "\\begin{tabular}{l}\n",
       "\t 20.97772\\\\\n",
       "\t 16.92851\\\\\n",
       "\t 15.51542\\\\\n",
       "\t 21.27791\\\\\n",
       "\t 20.49117\\\\\n",
       "\t 19.73667\\\\\n",
       "\t 22.09932\\\\\n",
       "\t 23.75912\\\\\n",
       "\t 18.98055\\\\\n",
       "\t 23.21769\\\\\n",
       "\\end{tabular}\n"
      ],
      "text/markdown": [
       "\n",
       "| 20.97772 |\n",
       "| 16.92851 |\n",
       "| 15.51542 |\n",
       "| 21.27791 |\n",
       "| 20.49117 |\n",
       "| 19.73667 |\n",
       "| 22.09932 |\n",
       "| 23.75912 |\n",
       "| 18.98055 |\n",
       "| 23.21769 |\n",
       "\n"
      ],
      "text/plain": [
       "      [,1]    \n",
       " [1,] 20.97772\n",
       " [2,] 16.92851\n",
       " [3,] 15.51542\n",
       " [4,] 21.27791\n",
       " [5,] 20.49117\n",
       " [6,] 19.73667\n",
       " [7,] 22.09932\n",
       " [8,] 23.75912\n",
       " [9,] 18.98055\n",
       "[10,] 23.21769"
      ]
     },
     "metadata": {},
     "output_type": "display_data"
    }
   ],
   "source": [
    "Y1 <- X %*% beta\n",
    "Y1"
   ]
  },
  {
   "cell_type": "code",
   "execution_count": 51,
   "id": "94973619",
   "metadata": {},
   "outputs": [
    {
     "data": {
      "text/html": [
       "<table>\n",
       "<tbody>\n",
       "\t<tr><td>-0.1226539</td></tr>\n",
       "\t<tr><td>-0.5567752</td></tr>\n",
       "\t<tr><td> 0.2209795</td></tr>\n",
       "\t<tr><td>-0.6870121</td></tr>\n",
       "\t<tr><td> 1.5245975</td></tr>\n",
       "\t<tr><td> 0.5981339</td></tr>\n",
       "\t<tr><td>-0.3866837</td></tr>\n",
       "\t<tr><td> 0.5240007</td></tr>\n",
       "\t<tr><td>-0.4993439</td></tr>\n",
       "\t<tr><td>-0.6152428</td></tr>\n",
       "</tbody>\n",
       "</table>\n"
      ],
      "text/latex": [
       "\\begin{tabular}{l}\n",
       "\t -0.1226539\\\\\n",
       "\t -0.5567752\\\\\n",
       "\t  0.2209795\\\\\n",
       "\t -0.6870121\\\\\n",
       "\t  1.5245975\\\\\n",
       "\t  0.5981339\\\\\n",
       "\t -0.3866837\\\\\n",
       "\t  0.5240007\\\\\n",
       "\t -0.4993439\\\\\n",
       "\t -0.6152428\\\\\n",
       "\\end{tabular}\n"
      ],
      "text/markdown": [
       "\n",
       "| -0.1226539 |\n",
       "| -0.5567752 |\n",
       "|  0.2209795 |\n",
       "| -0.6870121 |\n",
       "|  1.5245975 |\n",
       "|  0.5981339 |\n",
       "| -0.3866837 |\n",
       "|  0.5240007 |\n",
       "| -0.4993439 |\n",
       "| -0.6152428 |\n",
       "\n"
      ],
      "text/plain": [
       "      [,1]      \n",
       " [1,] -0.1226539\n",
       " [2,] -0.5567752\n",
       " [3,]  0.2209795\n",
       " [4,] -0.6870121\n",
       " [5,]  1.5245975\n",
       " [6,]  0.5981339\n",
       " [7,] -0.3866837\n",
       " [8,]  0.5240007\n",
       " [9,] -0.4993439\n",
       "[10,] -0.6152428"
      ]
     },
     "metadata": {},
     "output_type": "display_data"
    }
   ],
   "source": [
    "e1 <- Y - Y1\n",
    "e1"
   ]
  },
  {
   "cell_type": "code",
   "execution_count": 52,
   "id": "4773fba3",
   "metadata": {},
   "outputs": [
    {
     "data": {
      "text/html": [
       "<table>\n",
       "<tbody>\n",
       "\t<tr><td>4.579991</td></tr>\n",
       "</tbody>\n",
       "</table>\n"
      ],
      "text/latex": [
       "\\begin{tabular}{l}\n",
       "\t 4.579991\\\\\n",
       "\\end{tabular}\n"
      ],
      "text/markdown": [
       "\n",
       "| 4.579991 |\n",
       "\n"
      ],
      "text/plain": [
       "     [,1]    \n",
       "[1,] 4.579991"
      ]
     },
     "metadata": {},
     "output_type": "display_data"
    }
   ],
   "source": [
    "SRC <- t(e1) %*% e1\n",
    "SRC"
   ]
  },
  {
   "cell_type": "code",
   "execution_count": 53,
   "id": "45eb1e5e",
   "metadata": {},
   "outputs": [
    {
     "data": {
      "text/html": [
       "<table>\n",
       "<tbody>\n",
       "\t<tr><td>0.7633318</td></tr>\n",
       "</tbody>\n",
       "</table>\n"
      ],
      "text/latex": [
       "\\begin{tabular}{l}\n",
       "\t 0.7633318\\\\\n",
       "\\end{tabular}\n"
      ],
      "text/markdown": [
       "\n",
       "| 0.7633318 |\n",
       "\n"
      ],
      "text/plain": [
       "     [,1]     \n",
       "[1,] 0.7633318"
      ]
     },
     "metadata": {},
     "output_type": "display_data"
    }
   ],
   "source": [
    "SD <- SRC/6\n",
    "SD"
   ]
  },
  {
   "cell_type": "markdown",
   "id": "af48b06a",
   "metadata": {},
   "source": [
    "##### Pregunta 8"
   ]
  },
  {
   "cell_type": "code",
   "execution_count": 61,
   "id": "d445489b",
   "metadata": {
    "scrolled": false
   },
   "outputs": [
    {
     "data": {
      "text/html": [
       "<table>\n",
       "<thead><tr><th></th><th scope=col></th><th scope=col>x1</th><th scope=col>x2</th><th scope=col>x3</th></tr></thead>\n",
       "<tbody>\n",
       "\t<tr><th scope=row></th><td> 1.5080245</td><td> 0.1983944</td><td>-1.488511 </td><td>-1.248503 </td></tr>\n",
       "\t<tr><th scope=row>x1</th><td> 0.1983944</td><td> 2.0241966</td><td>-1.374234 </td><td>-1.408952 </td></tr>\n",
       "\t<tr><th scope=row>x2</th><td>-1.4885113</td><td>-1.3742344</td><td> 2.573630 </td><td> 1.649128 </td></tr>\n",
       "\t<tr><th scope=row>x3</th><td>-1.2485029</td><td>-1.4089523</td><td> 1.649128 </td><td> 2.257178 </td></tr>\n",
       "</tbody>\n",
       "</table>\n"
      ],
      "text/latex": [
       "\\begin{tabular}{r|llll}\n",
       "  &  & x1 & x2 & x3\\\\\n",
       "\\hline\n",
       "\t &  1.5080245 &  0.1983944 & -1.488511  & -1.248503 \\\\\n",
       "\tx1 &  0.1983944 &  2.0241966 & -1.374234  & -1.408952 \\\\\n",
       "\tx2 & -1.4885113 & -1.3742344 &  2.573630  &  1.649128 \\\\\n",
       "\tx3 & -1.2485029 & -1.4089523 &  1.649128  &  2.257178 \\\\\n",
       "\\end{tabular}\n"
      ],
      "text/markdown": [
       "\n",
       "| <!--/--> |  | x1 | x2 | x3 |\n",
       "|---|---|---|---|---|\n",
       "|  |  1.5080245 |  0.1983944 | -1.488511  | -1.248503  |\n",
       "| x1 |  0.1983944 |  2.0241966 | -1.374234  | -1.408952  |\n",
       "| x2 | -1.4885113 | -1.3742344 |  2.573630  |  1.649128  |\n",
       "| x3 | -1.2485029 | -1.4089523 |  1.649128  |  2.257178  |\n",
       "\n"
      ],
      "text/plain": [
       "              x1         x2        x3       \n",
       "    1.5080245  0.1983944 -1.488511 -1.248503\n",
       "x1  0.1983944  2.0241966 -1.374234 -1.408952\n",
       "x2 -1.4885113 -1.3742344  2.573630  1.649128\n",
       "x3 -1.2485029 -1.4089523  1.649128  2.257178"
      ]
     },
     "metadata": {},
     "output_type": "display_data"
    }
   ],
   "source": [
    "Varcov <- 0.7633318 * invX1\n",
    "Varcov"
   ]
  },
  {
   "cell_type": "markdown",
   "id": "fd0298f0",
   "metadata": {},
   "source": [
    "##### Pregunta 9"
   ]
  },
  {
   "cell_type": "code",
   "execution_count": 62,
   "id": "0df18ff7",
   "metadata": {},
   "outputs": [
    {
     "data": {
      "text/html": [
       "<table>\n",
       "<thead><tr><th scope=col></th><th scope=col>x1</th><th scope=col>x2</th><th scope=col>x3</th></tr></thead>\n",
       "<tbody>\n",
       "\t<tr><td>-0.52230207</td><td>-0.85242580</td><td> 1.19843472</td><td> 0.9049429 </td></tr>\n",
       "\t<tr><td> 0.21640897</td><td>-0.91844338</td><td> 0.60683605</td><td> 0.2804437 </td></tr>\n",
       "\t<tr><td> 1.05890673</td><td> 0.16450935</td><td>-0.91202358</td><td>-0.9679948 </td></tr>\n",
       "\t<tr><td> 0.23571254</td><td> 0.09867834</td><td>-0.43688013</td><td> 0.1023691 </td></tr>\n",
       "\t<tr><td>-0.09306219</td><td> 0.19671299</td><td> 0.26170577</td><td>-0.1778993 </td></tr>\n",
       "\t<tr><td> 0.47218727</td><td>-0.38160222</td><td>-0.47072995</td><td> 0.3092843 </td></tr>\n",
       "\t<tr><td> 0.09538686</td><td> 0.61799456</td><td>-0.45805441</td><td>-0.2693699 </td></tr>\n",
       "\t<tr><td>-0.37250001</td><td> 0.15457406</td><td> 0.19874767</td><td> 0.4534939 </td></tr>\n",
       "\t<tr><td> 0.17316323</td><td> 0.58548796</td><td>-0.04384200</td><td>-0.8199489 </td></tr>\n",
       "\t<tr><td>-0.26390132</td><td> 0.33451414</td><td> 0.05580585</td><td> 0.1846790 </td></tr>\n",
       "</tbody>\n",
       "</table>\n"
      ],
      "text/latex": [
       "\\begin{tabular}{llll}\n",
       "  & x1 & x2 & x3\\\\\n",
       "\\hline\n",
       "\t -0.52230207 & -0.85242580 &  1.19843472 &  0.9049429 \\\\\n",
       "\t  0.21640897 & -0.91844338 &  0.60683605 &  0.2804437 \\\\\n",
       "\t  1.05890673 &  0.16450935 & -0.91202358 & -0.9679948 \\\\\n",
       "\t  0.23571254 &  0.09867834 & -0.43688013 &  0.1023691 \\\\\n",
       "\t -0.09306219 &  0.19671299 &  0.26170577 & -0.1778993 \\\\\n",
       "\t  0.47218727 & -0.38160222 & -0.47072995 &  0.3092843 \\\\\n",
       "\t  0.09538686 &  0.61799456 & -0.45805441 & -0.2693699 \\\\\n",
       "\t -0.37250001 &  0.15457406 &  0.19874767 &  0.4534939 \\\\\n",
       "\t  0.17316323 &  0.58548796 & -0.04384200 & -0.8199489 \\\\\n",
       "\t -0.26390132 &  0.33451414 &  0.05580585 &  0.1846790 \\\\\n",
       "\\end{tabular}\n"
      ],
      "text/markdown": [
       "\n",
       "|  | x1 | x2 | x3 |\n",
       "|---|---|---|---|\n",
       "| -0.52230207 | -0.85242580 |  1.19843472 |  0.9049429  |\n",
       "|  0.21640897 | -0.91844338 |  0.60683605 |  0.2804437  |\n",
       "|  1.05890673 |  0.16450935 | -0.91202358 | -0.9679948  |\n",
       "|  0.23571254 |  0.09867834 | -0.43688013 |  0.1023691  |\n",
       "| -0.09306219 |  0.19671299 |  0.26170577 | -0.1778993  |\n",
       "|  0.47218727 | -0.38160222 | -0.47072995 |  0.3092843  |\n",
       "|  0.09538686 |  0.61799456 | -0.45805441 | -0.2693699  |\n",
       "| -0.37250001 |  0.15457406 |  0.19874767 |  0.4534939  |\n",
       "|  0.17316323 |  0.58548796 | -0.04384200 | -0.8199489  |\n",
       "| -0.26390132 |  0.33451414 |  0.05580585 |  0.1846790  |\n",
       "\n"
      ],
      "text/plain": [
       "                  x1          x2          x3        \n",
       " [1,] -0.52230207 -0.85242580  1.19843472  0.9049429\n",
       " [2,]  0.21640897 -0.91844338  0.60683605  0.2804437\n",
       " [3,]  1.05890673  0.16450935 -0.91202358 -0.9679948\n",
       " [4,]  0.23571254  0.09867834 -0.43688013  0.1023691\n",
       " [5,] -0.09306219  0.19671299  0.26170577 -0.1778993\n",
       " [6,]  0.47218727 -0.38160222 -0.47072995  0.3092843\n",
       " [7,]  0.09538686  0.61799456 -0.45805441 -0.2693699\n",
       " [8,] -0.37250001  0.15457406  0.19874767  0.4534939\n",
       " [9,]  0.17316323  0.58548796 -0.04384200 -0.8199489\n",
       "[10,] -0.26390132  0.33451414  0.05580585  0.1846790"
      ]
     },
     "metadata": {},
     "output_type": "display_data"
    }
   ],
   "source": [
    "m <- X %*% invX1\n",
    "m"
   ]
  },
  {
   "cell_type": "code",
   "execution_count": 63,
   "id": "041cf4b3",
   "metadata": {},
   "outputs": [
    {
     "data": {
      "text/html": [
       "<table>\n",
       "<tbody>\n",
       "\t<tr><td> 0.554638028</td><td> 0.37677788 </td><td>-0.20364169 </td><td>-0.02568047 </td><td> 0.14266994 </td><td> 0.02588485 </td><td>-0.10288947 </td><td> 0.154663130</td><td>-0.008023869</td><td> 0.08560167 </td></tr>\n",
       "\t<tr><td> 0.376777880</td><td> 0.51422652 </td><td> 0.18994334 </td><td>-0.02058723 </td><td> 0.08550901 </td><td> 0.14185505 </td><td>-0.16205157 </td><td>-0.074019452</td><td> 0.047744431</td><td>-0.09939799 </td></tr>\n",
       "\t<tr><td>-0.203641687</td><td> 0.18994334 </td><td> 0.61445500 </td><td> 0.11298913 </td><td> 0.04814716 </td><td> 0.20739542 </td><td> 0.08186490 </td><td>-0.176630261</td><td> 0.229294410</td><td>-0.10381741 </td></tr>\n",
       "\t<tr><td>-0.025680465</td><td>-0.02058723 </td><td> 0.11298913 </td><td> 0.25036866 </td><td>-0.01344674 </td><td> 0.30066534 </td><td> 0.17455333 </td><td> 0.163354000</td><td>-0.081631718</td><td> 0.13941570 </td></tr>\n",
       "\t<tr><td> 0.142669941</td><td> 0.08550901 </td><td> 0.04814716 </td><td>-0.01344674 </td><td> 0.22078130 </td><td>-0.11921848 </td><td> 0.11022481 </td><td> 0.097530093</td><td> 0.299016411</td><td> 0.12878651 </td></tr>\n",
       "\t<tr><td> 0.025884845</td><td> 0.14185505 </td><td> 0.20739542 </td><td> 0.30066534 </td><td>-0.11921848 </td><td> 0.49868455 </td><td> 0.07244204 </td><td> 0.092746854</td><td>-0.257587345</td><td> 0.03713172 </td></tr>\n",
       "\t<tr><td>-0.102889471</td><td>-0.16205157 </td><td> 0.08186490 </td><td> 0.17455333 </td><td> 0.11022481 </td><td> 0.07244204 </td><td> 0.26902327 </td><td> 0.190029110</td><td> 0.152977983</td><td> 0.21382561 </td></tr>\n",
       "\t<tr><td> 0.154663130</td><td>-0.07401945 </td><td>-0.17663026 </td><td> 0.16335400 </td><td> 0.09753009 </td><td> 0.09274685 </td><td> 0.19002911 </td><td> 0.297272059</td><td>-0.004509671</td><td> 0.25956414 </td></tr>\n",
       "\t<tr><td>-0.008023869</td><td> 0.04774443 </td><td> 0.22929441 </td><td>-0.08163172 </td><td> 0.29901641 </td><td>-0.25758735 </td><td> 0.15297798 </td><td>-0.004509671</td><td> 0.532189953</td><td> 0.09052942 </td></tr>\n",
       "\t<tr><td> 0.085601668</td><td>-0.09939799 </td><td>-0.10381741 </td><td> 0.13941570 </td><td> 0.12878651 </td><td> 0.03713172 </td><td> 0.21382561 </td><td> 0.259564139</td><td> 0.090529416</td><td> 0.24836064 </td></tr>\n",
       "</tbody>\n",
       "</table>\n"
      ],
      "text/latex": [
       "\\begin{tabular}{llllllllll}\n",
       "\t  0.554638028 &  0.37677788  & -0.20364169  & -0.02568047  &  0.14266994  &  0.02588485  & -0.10288947  &  0.154663130 & -0.008023869 &  0.08560167 \\\\\n",
       "\t  0.376777880 &  0.51422652  &  0.18994334  & -0.02058723  &  0.08550901  &  0.14185505  & -0.16205157  & -0.074019452 &  0.047744431 & -0.09939799 \\\\\n",
       "\t -0.203641687 &  0.18994334  &  0.61445500  &  0.11298913  &  0.04814716  &  0.20739542  &  0.08186490  & -0.176630261 &  0.229294410 & -0.10381741 \\\\\n",
       "\t -0.025680465 & -0.02058723  &  0.11298913  &  0.25036866  & -0.01344674  &  0.30066534  &  0.17455333  &  0.163354000 & -0.081631718 &  0.13941570 \\\\\n",
       "\t  0.142669941 &  0.08550901  &  0.04814716  & -0.01344674  &  0.22078130  & -0.11921848  &  0.11022481  &  0.097530093 &  0.299016411 &  0.12878651 \\\\\n",
       "\t  0.025884845 &  0.14185505  &  0.20739542  &  0.30066534  & -0.11921848  &  0.49868455  &  0.07244204  &  0.092746854 & -0.257587345 &  0.03713172 \\\\\n",
       "\t -0.102889471 & -0.16205157  &  0.08186490  &  0.17455333  &  0.11022481  &  0.07244204  &  0.26902327  &  0.190029110 &  0.152977983 &  0.21382561 \\\\\n",
       "\t  0.154663130 & -0.07401945  & -0.17663026  &  0.16335400  &  0.09753009  &  0.09274685  &  0.19002911  &  0.297272059 & -0.004509671 &  0.25956414 \\\\\n",
       "\t -0.008023869 &  0.04774443  &  0.22929441  & -0.08163172  &  0.29901641  & -0.25758735  &  0.15297798  & -0.004509671 &  0.532189953 &  0.09052942 \\\\\n",
       "\t  0.085601668 & -0.09939799  & -0.10381741  &  0.13941570  &  0.12878651  &  0.03713172  &  0.21382561  &  0.259564139 &  0.090529416 &  0.24836064 \\\\\n",
       "\\end{tabular}\n"
      ],
      "text/markdown": [
       "\n",
       "|  0.554638028 |  0.37677788  | -0.20364169  | -0.02568047  |  0.14266994  |  0.02588485  | -0.10288947  |  0.154663130 | -0.008023869 |  0.08560167  |\n",
       "|  0.376777880 |  0.51422652  |  0.18994334  | -0.02058723  |  0.08550901  |  0.14185505  | -0.16205157  | -0.074019452 |  0.047744431 | -0.09939799  |\n",
       "| -0.203641687 |  0.18994334  |  0.61445500  |  0.11298913  |  0.04814716  |  0.20739542  |  0.08186490  | -0.176630261 |  0.229294410 | -0.10381741  |\n",
       "| -0.025680465 | -0.02058723  |  0.11298913  |  0.25036866  | -0.01344674  |  0.30066534  |  0.17455333  |  0.163354000 | -0.081631718 |  0.13941570  |\n",
       "|  0.142669941 |  0.08550901  |  0.04814716  | -0.01344674  |  0.22078130  | -0.11921848  |  0.11022481  |  0.097530093 |  0.299016411 |  0.12878651  |\n",
       "|  0.025884845 |  0.14185505  |  0.20739542  |  0.30066534  | -0.11921848  |  0.49868455  |  0.07244204  |  0.092746854 | -0.257587345 |  0.03713172  |\n",
       "| -0.102889471 | -0.16205157  |  0.08186490  |  0.17455333  |  0.11022481  |  0.07244204  |  0.26902327  |  0.190029110 |  0.152977983 |  0.21382561  |\n",
       "|  0.154663130 | -0.07401945  | -0.17663026  |  0.16335400  |  0.09753009  |  0.09274685  |  0.19002911  |  0.297272059 | -0.004509671 |  0.25956414  |\n",
       "| -0.008023869 |  0.04774443  |  0.22929441  | -0.08163172  |  0.29901641  | -0.25758735  |  0.15297798  | -0.004509671 |  0.532189953 |  0.09052942  |\n",
       "|  0.085601668 | -0.09939799  | -0.10381741  |  0.13941570  |  0.12878651  |  0.03713172  |  0.21382561  |  0.259564139 |  0.090529416 |  0.24836064  |\n",
       "\n"
      ],
      "text/plain": [
       "      [,1]         [,2]        [,3]        [,4]        [,5]        [,6]       \n",
       " [1,]  0.554638028  0.37677788 -0.20364169 -0.02568047  0.14266994  0.02588485\n",
       " [2,]  0.376777880  0.51422652  0.18994334 -0.02058723  0.08550901  0.14185505\n",
       " [3,] -0.203641687  0.18994334  0.61445500  0.11298913  0.04814716  0.20739542\n",
       " [4,] -0.025680465 -0.02058723  0.11298913  0.25036866 -0.01344674  0.30066534\n",
       " [5,]  0.142669941  0.08550901  0.04814716 -0.01344674  0.22078130 -0.11921848\n",
       " [6,]  0.025884845  0.14185505  0.20739542  0.30066534 -0.11921848  0.49868455\n",
       " [7,] -0.102889471 -0.16205157  0.08186490  0.17455333  0.11022481  0.07244204\n",
       " [8,]  0.154663130 -0.07401945 -0.17663026  0.16335400  0.09753009  0.09274685\n",
       " [9,] -0.008023869  0.04774443  0.22929441 -0.08163172  0.29901641 -0.25758735\n",
       "[10,]  0.085601668 -0.09939799 -0.10381741  0.13941570  0.12878651  0.03713172\n",
       "      [,7]        [,8]         [,9]         [,10]      \n",
       " [1,] -0.10288947  0.154663130 -0.008023869  0.08560167\n",
       " [2,] -0.16205157 -0.074019452  0.047744431 -0.09939799\n",
       " [3,]  0.08186490 -0.176630261  0.229294410 -0.10381741\n",
       " [4,]  0.17455333  0.163354000 -0.081631718  0.13941570\n",
       " [5,]  0.11022481  0.097530093  0.299016411  0.12878651\n",
       " [6,]  0.07244204  0.092746854 -0.257587345  0.03713172\n",
       " [7,]  0.26902327  0.190029110  0.152977983  0.21382561\n",
       " [8,]  0.19002911  0.297272059 -0.004509671  0.25956414\n",
       " [9,]  0.15297798 -0.004509671  0.532189953  0.09052942\n",
       "[10,]  0.21382561  0.259564139  0.090529416  0.24836064"
      ]
     },
     "metadata": {},
     "output_type": "display_data"
    }
   ],
   "source": [
    "n <- m %*% t(X)\n",
    "n"
   ]
  },
  {
   "cell_type": "code",
   "execution_count": 66,
   "id": "6fdcdde7",
   "metadata": {},
   "outputs": [
    {
     "data": {
      "text/html": [
       "<table>\n",
       "<tbody>\n",
       "\t<tr><td> 0.445361972</td><td>-0.37677788 </td><td> 0.20364169 </td><td> 0.02568047 </td><td>-0.14266994 </td><td>-0.02588485 </td><td> 0.10288947 </td><td>-0.154663130</td><td> 0.008023869</td><td>-0.08560167 </td></tr>\n",
       "\t<tr><td>-0.376777880</td><td> 0.48577348 </td><td>-0.18994334 </td><td> 0.02058723 </td><td>-0.08550901 </td><td>-0.14185505 </td><td> 0.16205157 </td><td> 0.074019452</td><td>-0.047744431</td><td> 0.09939799 </td></tr>\n",
       "\t<tr><td> 0.203641687</td><td>-0.18994334 </td><td> 0.38554500 </td><td>-0.11298913 </td><td>-0.04814716 </td><td>-0.20739542 </td><td>-0.08186490 </td><td> 0.176630261</td><td>-0.229294410</td><td> 0.10381741 </td></tr>\n",
       "\t<tr><td> 0.025680465</td><td> 0.02058723 </td><td>-0.11298913 </td><td> 0.74963134 </td><td> 0.01344674 </td><td>-0.30066534 </td><td>-0.17455333 </td><td>-0.163354000</td><td> 0.081631718</td><td>-0.13941570 </td></tr>\n",
       "\t<tr><td>-0.142669941</td><td>-0.08550901 </td><td>-0.04814716 </td><td> 0.01344674 </td><td> 0.77921870 </td><td> 0.11921848 </td><td>-0.11022481 </td><td>-0.097530093</td><td>-0.299016411</td><td>-0.12878651 </td></tr>\n",
       "\t<tr><td>-0.025884845</td><td>-0.14185505 </td><td>-0.20739542 </td><td>-0.30066534 </td><td> 0.11921848 </td><td> 0.50131545 </td><td>-0.07244204 </td><td>-0.092746854</td><td> 0.257587345</td><td>-0.03713172 </td></tr>\n",
       "\t<tr><td> 0.102889471</td><td> 0.16205157 </td><td>-0.08186490 </td><td>-0.17455333 </td><td>-0.11022481 </td><td>-0.07244204 </td><td> 0.73097673 </td><td>-0.190029110</td><td>-0.152977983</td><td>-0.21382561 </td></tr>\n",
       "\t<tr><td>-0.154663130</td><td> 0.07401945 </td><td> 0.17663026 </td><td>-0.16335400 </td><td>-0.09753009 </td><td>-0.09274685 </td><td>-0.19002911 </td><td> 0.702727941</td><td> 0.004509671</td><td>-0.25956414 </td></tr>\n",
       "\t<tr><td> 0.008023869</td><td>-0.04774443 </td><td>-0.22929441 </td><td> 0.08163172 </td><td>-0.29901641 </td><td> 0.25758735 </td><td>-0.15297798 </td><td> 0.004509671</td><td> 0.467810047</td><td>-0.09052942 </td></tr>\n",
       "\t<tr><td>-0.085601668</td><td> 0.09939799 </td><td> 0.10381741 </td><td>-0.13941570 </td><td>-0.12878651 </td><td>-0.03713172 </td><td>-0.21382561 </td><td>-0.259564139</td><td>-0.090529416</td><td> 0.75163936 </td></tr>\n",
       "</tbody>\n",
       "</table>\n"
      ],
      "text/latex": [
       "\\begin{tabular}{llllllllll}\n",
       "\t  0.445361972 & -0.37677788  &  0.20364169  &  0.02568047  & -0.14266994  & -0.02588485  &  0.10288947  & -0.154663130 &  0.008023869 & -0.08560167 \\\\\n",
       "\t -0.376777880 &  0.48577348  & -0.18994334  &  0.02058723  & -0.08550901  & -0.14185505  &  0.16205157  &  0.074019452 & -0.047744431 &  0.09939799 \\\\\n",
       "\t  0.203641687 & -0.18994334  &  0.38554500  & -0.11298913  & -0.04814716  & -0.20739542  & -0.08186490  &  0.176630261 & -0.229294410 &  0.10381741 \\\\\n",
       "\t  0.025680465 &  0.02058723  & -0.11298913  &  0.74963134  &  0.01344674  & -0.30066534  & -0.17455333  & -0.163354000 &  0.081631718 & -0.13941570 \\\\\n",
       "\t -0.142669941 & -0.08550901  & -0.04814716  &  0.01344674  &  0.77921870  &  0.11921848  & -0.11022481  & -0.097530093 & -0.299016411 & -0.12878651 \\\\\n",
       "\t -0.025884845 & -0.14185505  & -0.20739542  & -0.30066534  &  0.11921848  &  0.50131545  & -0.07244204  & -0.092746854 &  0.257587345 & -0.03713172 \\\\\n",
       "\t  0.102889471 &  0.16205157  & -0.08186490  & -0.17455333  & -0.11022481  & -0.07244204  &  0.73097673  & -0.190029110 & -0.152977983 & -0.21382561 \\\\\n",
       "\t -0.154663130 &  0.07401945  &  0.17663026  & -0.16335400  & -0.09753009  & -0.09274685  & -0.19002911  &  0.702727941 &  0.004509671 & -0.25956414 \\\\\n",
       "\t  0.008023869 & -0.04774443  & -0.22929441  &  0.08163172  & -0.29901641  &  0.25758735  & -0.15297798  &  0.004509671 &  0.467810047 & -0.09052942 \\\\\n",
       "\t -0.085601668 &  0.09939799  &  0.10381741  & -0.13941570  & -0.12878651  & -0.03713172  & -0.21382561  & -0.259564139 & -0.090529416 &  0.75163936 \\\\\n",
       "\\end{tabular}\n"
      ],
      "text/markdown": [
       "\n",
       "|  0.445361972 | -0.37677788  |  0.20364169  |  0.02568047  | -0.14266994  | -0.02588485  |  0.10288947  | -0.154663130 |  0.008023869 | -0.08560167  |\n",
       "| -0.376777880 |  0.48577348  | -0.18994334  |  0.02058723  | -0.08550901  | -0.14185505  |  0.16205157  |  0.074019452 | -0.047744431 |  0.09939799  |\n",
       "|  0.203641687 | -0.18994334  |  0.38554500  | -0.11298913  | -0.04814716  | -0.20739542  | -0.08186490  |  0.176630261 | -0.229294410 |  0.10381741  |\n",
       "|  0.025680465 |  0.02058723  | -0.11298913  |  0.74963134  |  0.01344674  | -0.30066534  | -0.17455333  | -0.163354000 |  0.081631718 | -0.13941570  |\n",
       "| -0.142669941 | -0.08550901  | -0.04814716  |  0.01344674  |  0.77921870  |  0.11921848  | -0.11022481  | -0.097530093 | -0.299016411 | -0.12878651  |\n",
       "| -0.025884845 | -0.14185505  | -0.20739542  | -0.30066534  |  0.11921848  |  0.50131545  | -0.07244204  | -0.092746854 |  0.257587345 | -0.03713172  |\n",
       "|  0.102889471 |  0.16205157  | -0.08186490  | -0.17455333  | -0.11022481  | -0.07244204  |  0.73097673  | -0.190029110 | -0.152977983 | -0.21382561  |\n",
       "| -0.154663130 |  0.07401945  |  0.17663026  | -0.16335400  | -0.09753009  | -0.09274685  | -0.19002911  |  0.702727941 |  0.004509671 | -0.25956414  |\n",
       "|  0.008023869 | -0.04774443  | -0.22929441  |  0.08163172  | -0.29901641  |  0.25758735  | -0.15297798  |  0.004509671 |  0.467810047 | -0.09052942  |\n",
       "| -0.085601668 |  0.09939799  |  0.10381741  | -0.13941570  | -0.12878651  | -0.03713172  | -0.21382561  | -0.259564139 | -0.090529416 |  0.75163936  |\n",
       "\n"
      ],
      "text/plain": [
       "      [,1]         [,2]        [,3]        [,4]        [,5]        [,6]       \n",
       " [1,]  0.445361972 -0.37677788  0.20364169  0.02568047 -0.14266994 -0.02588485\n",
       " [2,] -0.376777880  0.48577348 -0.18994334  0.02058723 -0.08550901 -0.14185505\n",
       " [3,]  0.203641687 -0.18994334  0.38554500 -0.11298913 -0.04814716 -0.20739542\n",
       " [4,]  0.025680465  0.02058723 -0.11298913  0.74963134  0.01344674 -0.30066534\n",
       " [5,] -0.142669941 -0.08550901 -0.04814716  0.01344674  0.77921870  0.11921848\n",
       " [6,] -0.025884845 -0.14185505 -0.20739542 -0.30066534  0.11921848  0.50131545\n",
       " [7,]  0.102889471  0.16205157 -0.08186490 -0.17455333 -0.11022481 -0.07244204\n",
       " [8,] -0.154663130  0.07401945  0.17663026 -0.16335400 -0.09753009 -0.09274685\n",
       " [9,]  0.008023869 -0.04774443 -0.22929441  0.08163172 -0.29901641  0.25758735\n",
       "[10,] -0.085601668  0.09939799  0.10381741 -0.13941570 -0.12878651 -0.03713172\n",
       "      [,7]        [,8]         [,9]         [,10]      \n",
       " [1,]  0.10288947 -0.154663130  0.008023869 -0.08560167\n",
       " [2,]  0.16205157  0.074019452 -0.047744431  0.09939799\n",
       " [3,] -0.08186490  0.176630261 -0.229294410  0.10381741\n",
       " [4,] -0.17455333 -0.163354000  0.081631718 -0.13941570\n",
       " [5,] -0.11022481 -0.097530093 -0.299016411 -0.12878651\n",
       " [6,] -0.07244204 -0.092746854  0.257587345 -0.03713172\n",
       " [7,]  0.73097673 -0.190029110 -0.152977983 -0.21382561\n",
       " [8,] -0.19002911  0.702727941  0.004509671 -0.25956414\n",
       " [9,] -0.15297798  0.004509671  0.467810047 -0.09052942\n",
       "[10,] -0.21382561 -0.259564139 -0.090529416  0.75163936"
      ]
     },
     "metadata": {},
     "output_type": "display_data"
    }
   ],
   "source": [
    "M <- diag(10)-n\n",
    "M"
   ]
  }
 ],
 "metadata": {
  "kernelspec": {
   "display_name": "R",
   "language": "R",
   "name": "ir"
  },
  "language_info": {
   "codemirror_mode": "r",
   "file_extension": ".r",
   "mimetype": "text/x-r-source",
   "name": "R",
   "pygments_lexer": "r",
   "version": "3.6.1"
  }
 },
 "nbformat": 4,
 "nbformat_minor": 5
}
