{
 "cells": [
  {
   "cell_type": "markdown",
   "id": "81fd824c",
   "metadata": {},
   "source": [
    "# #Grupo 4 - Homework1"
   ]
  },
  {
   "cell_type": "markdown",
   "id": "22757f4d",
   "metadata": {},
   "source": [
    "1- Use f-string para concaternar textos o valores numéricos. De 2 ejemplos."
   ]
  },
  {
   "cell_type": "code",
   "execution_count": 204,
   "id": "176b3f7f",
   "metadata": {
    "scrolled": false
   },
   "outputs": [
    {
     "data": {
      "text/html": [
       "'Chile'"
      ],
      "text/latex": [
       "'Chile'"
      ],
      "text/markdown": [
       "'Chile'"
      ],
      "text/plain": [
       "[1] \"Chile\""
      ]
     },
     "metadata": {},
     "output_type": "display_data"
    }
   ],
   "source": [
    "#Example_1\n",
    "a1 <- \"Chile\"\n",
    "a1"
   ]
  },
  {
   "cell_type": "code",
   "execution_count": 205,
   "id": "b19cf953",
   "metadata": {},
   "outputs": [
    {
     "data": {
      "text/html": [
       "'Mundial'"
      ],
      "text/latex": [
       "'Mundial'"
      ],
      "text/markdown": [
       "'Mundial'"
      ],
      "text/plain": [
       "[1] \"Mundial\""
      ]
     },
     "metadata": {},
     "output_type": "display_data"
    }
   ],
   "source": [
    "a2 <- \"Mundial\"\n",
    "a2"
   ]
  },
  {
   "cell_type": "code",
   "execution_count": 206,
   "id": "d72fa069",
   "metadata": {},
   "outputs": [
    {
     "data": {
      "text/html": [
       "'Qatar 2022'"
      ],
      "text/latex": [
       "'Qatar 2022'"
      ],
      "text/markdown": [
       "'Qatar 2022'"
      ],
      "text/plain": [
       "[1] \"Qatar 2022\""
      ]
     },
     "metadata": {},
     "output_type": "display_data"
    }
   ],
   "source": [
    "a3 <- \"Qatar 2022\"\n",
    "a3"
   ]
  },
  {
   "cell_type": "code",
   "execution_count": 207,
   "id": "8df608dd",
   "metadata": {},
   "outputs": [
    {
     "data": {
      "text/html": [
       "'Chile no va al Mundial de Qatar 2022'"
      ],
      "text/latex": [
       "'Chile no va al Mundial de Qatar 2022'"
      ],
      "text/markdown": [
       "'Chile no va al Mundial de Qatar 2022'"
      ],
      "text/plain": [
       "Chile no va al Mundial de Qatar 2022"
      ]
     },
     "metadata": {},
     "output_type": "display_data"
    }
   ],
   "source": [
    "#install.packages(\"devtools\")\n",
    "\n",
    "library(glue)\n",
    "A <- glue('{a1} no va al {a2} de {a3}')\n",
    "A "
   ]
  },
  {
   "cell_type": "code",
   "execution_count": 208,
   "id": "829dadaa",
   "metadata": {
    "scrolled": true
   },
   "outputs": [
    {
     "data": {
      "text/html": [
       "'07 de abril de 2022'"
      ],
      "text/latex": [
       "'07 de abril de 2022'"
      ],
      "text/markdown": [
       "'07 de abril de 2022'"
      ],
      "text/plain": [
       "[1] \"07 de abril de 2022\""
      ]
     },
     "metadata": {},
     "output_type": "display_data"
    }
   ],
   "source": [
    "#Example_2\n",
    "b1 <- \"07 de abril de 2022\"\n",
    "b1"
   ]
  },
  {
   "cell_type": "code",
   "execution_count": 209,
   "id": "b1daa3ee",
   "metadata": {
    "scrolled": true
   },
   "outputs": [
    {
     "data": {
      "text/html": [
       "'el tipo de cambio del BCR'"
      ],
      "text/latex": [
       "'el tipo de cambio del BCR'"
      ],
      "text/markdown": [
       "'el tipo de cambio del BCR'"
      ],
      "text/plain": [
       "[1] \"el tipo de cambio del BCR\""
      ]
     },
     "metadata": {},
     "output_type": "display_data"
    }
   ],
   "source": [
    "b2 <- \"el tipo de cambio del BCR\"\n",
    "b2"
   ]
  },
  {
   "cell_type": "code",
   "execution_count": 210,
   "id": "b9891949",
   "metadata": {
    "scrolled": false
   },
   "outputs": [
    {
     "data": {
      "text/html": [
       "'S/.3.71'"
      ],
      "text/latex": [
       "'S/.3.71'"
      ],
      "text/markdown": [
       "'S/.3.71'"
      ],
      "text/plain": [
       "[1] \"S/.3.71\""
      ]
     },
     "metadata": {},
     "output_type": "display_data"
    }
   ],
   "source": [
    "b3 <- \"S/.3.71\"\n",
    "b3"
   ]
  },
  {
   "cell_type": "code",
   "execution_count": 211,
   "id": "82a0c56f",
   "metadata": {
    "scrolled": true
   },
   "outputs": [
    {
     "data": {
      "text/html": [
       "'Hoy, 07 de abril de 2022, el tipo de cambio del BCR cotiza en S/.3.71'"
      ],
      "text/latex": [
       "'Hoy, 07 de abril de 2022, el tipo de cambio del BCR cotiza en S/.3.71'"
      ],
      "text/markdown": [
       "'Hoy, 07 de abril de 2022, el tipo de cambio del BCR cotiza en S/.3.71'"
      ],
      "text/plain": [
       "Hoy, 07 de abril de 2022, el tipo de cambio del BCR cotiza en S/.3.71"
      ]
     },
     "metadata": {},
     "output_type": "display_data"
    }
   ],
   "source": [
    "B <- glue('Hoy, {b1}, {b2} cotiza en {b3}')\n",
    "B"
   ]
  },
  {
   "cell_type": "markdown",
   "id": "329ff5a0",
   "metadata": {},
   "source": [
    "# Diccionarios y listas"
   ]
  },
  {
   "cell_type": "markdown",
   "id": "5ee9a0ea",
   "metadata": {},
   "source": [
    "2- Crear una Lista de 3 distritos de Lima, añadir 2 distritos del Callao. Extraer el primer y último elemento usando el Indexing"
   ]
  },
  {
   "cell_type": "code",
   "execution_count": 212,
   "id": "13f42df6",
   "metadata": {},
   "outputs": [],
   "source": [
    "List1 <- list()"
   ]
  },
  {
   "cell_type": "code",
   "execution_count": 213,
   "id": "209e2f8f",
   "metadata": {
    "scrolled": false
   },
   "outputs": [
    {
     "data": {
      "text/html": [
       "<ol>\n",
       "\t<li>'MAGDALENA DEL MAR'</li>\n",
       "\t<li>'PUEBO LIBRE'</li>\n",
       "\t<li>'SAN MIGUEL'</li>\n",
       "</ol>\n"
      ],
      "text/latex": [
       "\\begin{enumerate}\n",
       "\\item 'MAGDALENA DEL MAR'\n",
       "\\item 'PUEBO LIBRE'\n",
       "\\item 'SAN MIGUEL'\n",
       "\\end{enumerate}\n"
      ],
      "text/markdown": [
       "1. 'MAGDALENA DEL MAR'\n",
       "2. 'PUEBO LIBRE'\n",
       "3. 'SAN MIGUEL'\n",
       "\n",
       "\n"
      ],
      "text/plain": [
       "[[1]]\n",
       "[1] \"MAGDALENA DEL MAR\"\n",
       "\n",
       "[[2]]\n",
       "[1] \"PUEBO LIBRE\"\n",
       "\n",
       "[[3]]\n",
       "[1] \"SAN MIGUEL\"\n"
      ]
     },
     "metadata": {},
     "output_type": "display_data"
    }
   ],
   "source": [
    "Dist_Lima <- list(\"MAGDALENA DEL MAR\", \"PUEBO LIBRE\", \"SAN MIGUEL\")\n",
    "Dist_Lima"
   ]
  },
  {
   "cell_type": "code",
   "execution_count": 214,
   "id": "9ae20bae",
   "metadata": {
    "scrolled": false
   },
   "outputs": [
    {
     "data": {
      "text/html": [
       "<ol>\n",
       "\t<li>'VENTANILLA'</li>\n",
       "\t<li>'LA PUNTA'</li>\n",
       "</ol>\n"
      ],
      "text/latex": [
       "\\begin{enumerate}\n",
       "\\item 'VENTANILLA'\n",
       "\\item 'LA PUNTA'\n",
       "\\end{enumerate}\n"
      ],
      "text/markdown": [
       "1. 'VENTANILLA'\n",
       "2. 'LA PUNTA'\n",
       "\n",
       "\n"
      ],
      "text/plain": [
       "[[1]]\n",
       "[1] \"VENTANILLA\"\n",
       "\n",
       "[[2]]\n",
       "[1] \"LA PUNTA\"\n"
      ]
     },
     "metadata": {},
     "output_type": "display_data"
    }
   ],
   "source": [
    "Dist_Callao <- list(\"VENTANILLA\", \"LA PUNTA\")\n",
    "Dist_Callao"
   ]
  },
  {
   "cell_type": "code",
   "execution_count": 215,
   "id": "70ba969c",
   "metadata": {
    "scrolled": false
   },
   "outputs": [
    {
     "data": {
      "text/html": [
       "<ol>\n",
       "\t<li>'MAGDALENA DEL MAR'</li>\n",
       "\t<li>'PUEBO LIBRE'</li>\n",
       "\t<li>'SAN MIGUEL'</li>\n",
       "\t<li>'VENTANILLA'</li>\n",
       "\t<li>'LA PUNTA'</li>\n",
       "</ol>\n"
      ],
      "text/latex": [
       "\\begin{enumerate}\n",
       "\\item 'MAGDALENA DEL MAR'\n",
       "\\item 'PUEBO LIBRE'\n",
       "\\item 'SAN MIGUEL'\n",
       "\\item 'VENTANILLA'\n",
       "\\item 'LA PUNTA'\n",
       "\\end{enumerate}\n"
      ],
      "text/markdown": [
       "1. 'MAGDALENA DEL MAR'\n",
       "2. 'PUEBO LIBRE'\n",
       "3. 'SAN MIGUEL'\n",
       "4. 'VENTANILLA'\n",
       "5. 'LA PUNTA'\n",
       "\n",
       "\n"
      ],
      "text/plain": [
       "[[1]]\n",
       "[1] \"MAGDALENA DEL MAR\"\n",
       "\n",
       "[[2]]\n",
       "[1] \"PUEBO LIBRE\"\n",
       "\n",
       "[[3]]\n",
       "[1] \"SAN MIGUEL\"\n",
       "\n",
       "[[4]]\n",
       "[1] \"VENTANILLA\"\n",
       "\n",
       "[[5]]\n",
       "[1] \"LA PUNTA\"\n"
      ]
     },
     "metadata": {},
     "output_type": "display_data"
    }
   ],
   "source": [
    "Districts <- append(Dist_Lima, Dist_Callao)\n",
    "Districts"
   ]
  },
  {
   "cell_type": "code",
   "execution_count": 216,
   "id": "cbd9da08",
   "metadata": {
    "scrolled": false
   },
   "outputs": [
    {
     "data": {
      "text/html": [
       "<ol>\n",
       "\t<li>'MAGDALENA DEL MAR'</li>\n",
       "</ol>\n"
      ],
      "text/latex": [
       "\\begin{enumerate}\n",
       "\\item 'MAGDALENA DEL MAR'\n",
       "\\end{enumerate}\n"
      ],
      "text/markdown": [
       "1. 'MAGDALENA DEL MAR'\n",
       "\n",
       "\n"
      ],
      "text/plain": [
       "[[1]]\n",
       "[1] \"MAGDALENA DEL MAR\"\n"
      ]
     },
     "metadata": {},
     "output_type": "display_data"
    }
   ],
   "source": [
    "#The first element of the new list \"Districts\" comes from the list \"Dist_Lima\"\n",
    "Dist_Lima[1]"
   ]
  },
  {
   "cell_type": "code",
   "execution_count": 217,
   "id": "2ca477b4",
   "metadata": {
    "scrolled": true
   },
   "outputs": [
    {
     "data": {
      "text/html": [
       "<ol>\n",
       "\t<li>'LA PUNTA'</li>\n",
       "</ol>\n"
      ],
      "text/latex": [
       "\\begin{enumerate}\n",
       "\\item 'LA PUNTA'\n",
       "\\end{enumerate}\n"
      ],
      "text/markdown": [
       "1. 'LA PUNTA'\n",
       "\n",
       "\n"
      ],
      "text/plain": [
       "[[1]]\n",
       "[1] \"LA PUNTA\"\n"
      ]
     },
     "metadata": {},
     "output_type": "display_data"
    }
   ],
   "source": [
    "#The last element of the new list \"Districts\" comes from the list \"Dist_Callao\" \n",
    "Dist_Callao[2]"
   ]
  },
  {
   "cell_type": "code",
   "execution_count": 218,
   "id": "3721ee1e",
   "metadata": {
    "scrolled": false
   },
   "outputs": [
    {
     "data": {
      "text/html": [
       "<ol>\n",
       "\t<li>'MAGDALENA DEL MAR'</li>\n",
       "\t<li>'LA PUNTA'</li>\n",
       "</ol>\n"
      ],
      "text/latex": [
       "\\begin{enumerate}\n",
       "\\item 'MAGDALENA DEL MAR'\n",
       "\\item 'LA PUNTA'\n",
       "\\end{enumerate}\n"
      ],
      "text/markdown": [
       "1. 'MAGDALENA DEL MAR'\n",
       "2. 'LA PUNTA'\n",
       "\n",
       "\n"
      ],
      "text/plain": [
       "[[1]]\n",
       "[1] \"MAGDALENA DEL MAR\"\n",
       "\n",
       "[[2]]\n",
       "[1] \"LA PUNTA\"\n"
      ]
     },
     "metadata": {},
     "output_type": "display_data"
    }
   ],
   "source": [
    "Districts[c(1,5)]"
   ]
  },
  {
   "cell_type": "markdown",
   "id": "e7aeecdd",
   "metadata": {},
   "source": [
    "3- Crear un diccionario con los 5 distritos del ejercicio a. Incluir información de población proyectada e incidencia de pobreza (limite superior).Use la información del Mapa de Pobreza 2018"
   ]
  },
  {
   "cell_type": "code",
   "execution_count": 219,
   "id": "c02cca7f",
   "metadata": {
    "scrolled": true
   },
   "outputs": [
    {
     "name": "stdout",
     "output_type": "stream",
     "text": [
      "$`MAGDALENA DEL MAR`\n",
      "[1] 65139\n",
      "\n",
      "$`PUEBO LIBRE`\n",
      "[1] 94010\n",
      "\n",
      "$`SAN MIGUEL`\n",
      "[1] 173309\n",
      "\n",
      "$VENTANILLA\n",
      "[1] 369618\n",
      "\n",
      "$`LA PUNTA`\n",
      "[1] 3935\n",
      "\n"
     ]
    }
   ],
   "source": [
    "Population <- list ('MAGDALENA DEL MAR' = 65139, 'PUEBO LIBRE' = 94010, 'SAN MIGUEL' = 173309, 'VENTANILLA' = 369618, 'LA PUNTA' = 3935)\n",
    "print(Population)"
   ]
  },
  {
   "cell_type": "code",
   "execution_count": 220,
   "id": "8cf7d386",
   "metadata": {},
   "outputs": [
    {
     "name": "stdout",
     "output_type": "stream",
     "text": [
      "$`MAGDALENA DEL MAR`\n",
      "[1] 1.2\n",
      "\n",
      "$`PUEBO LIBRE`\n",
      "[1] 1.2\n",
      "\n",
      "$`SAN MIGUEL`\n",
      "[1] 2.1\n",
      "\n",
      "$VENTANILLA\n",
      "[1] 29.4\n",
      "\n",
      "$`LA PUNTA`\n",
      "[1] 3.7\n",
      "\n"
     ]
    }
   ],
   "source": [
    "Poverty <- list ('MAGDALENA DEL MAR' = 1.2, 'PUEBO LIBRE' = 1.2, 'SAN MIGUEL' = 2.1, 'VENTANILLA' = 29.4, 'LA PUNTA' = 3.7)\n",
    "print(Poverty)"
   ]
  },
  {
   "cell_type": "markdown",
   "id": "69886671",
   "metadata": {},
   "source": [
    "4- Muestre la información de pobreza y de población de 3 distritos"
   ]
  },
  {
   "cell_type": "code",
   "execution_count": 221,
   "id": "71c56974",
   "metadata": {},
   "outputs": [
    {
     "data": {
      "text/html": [
       "<dl>\n",
       "\t<dt>$`PUEBO LIBRE`</dt>\n",
       "\t\t<dd>94010</dd>\n",
       "\t<dt>$`SAN MIGUEL`</dt>\n",
       "\t\t<dd>173309</dd>\n",
       "\t<dt>$VENTANILLA</dt>\n",
       "\t\t<dd>369618</dd>\n",
       "</dl>\n"
      ],
      "text/latex": [
       "\\begin{description}\n",
       "\\item[\\$`PUEBO LIBRE`] 94010\n",
       "\\item[\\$`SAN MIGUEL`] 173309\n",
       "\\item[\\$VENTANILLA] 369618\n",
       "\\end{description}\n"
      ],
      "text/markdown": [
       "$`PUEBO LIBRE`\n",
       ":   94010\n",
       "$`SAN MIGUEL`\n",
       ":   173309\n",
       "$VENTANILLA\n",
       ":   369618\n",
       "\n",
       "\n"
      ],
      "text/plain": [
       "$`PUEBO LIBRE`\n",
       "[1] 94010\n",
       "\n",
       "$`SAN MIGUEL`\n",
       "[1] 173309\n",
       "\n",
       "$VENTANILLA\n",
       "[1] 369618\n"
      ]
     },
     "metadata": {},
     "output_type": "display_data"
    }
   ],
   "source": [
    "Population[c(2:4)]"
   ]
  },
  {
   "cell_type": "code",
   "execution_count": 222,
   "id": "7cff7bc4",
   "metadata": {},
   "outputs": [
    {
     "data": {
      "text/html": [
       "<dl>\n",
       "\t<dt>$`PUEBO LIBRE`</dt>\n",
       "\t\t<dd>1.2</dd>\n",
       "\t<dt>$`SAN MIGUEL`</dt>\n",
       "\t\t<dd>2.1</dd>\n",
       "\t<dt>$VENTANILLA</dt>\n",
       "\t\t<dd>29.4</dd>\n",
       "</dl>\n"
      ],
      "text/latex": [
       "\\begin{description}\n",
       "\\item[\\$`PUEBO LIBRE`] 1.2\n",
       "\\item[\\$`SAN MIGUEL`] 2.1\n",
       "\\item[\\$VENTANILLA] 29.4\n",
       "\\end{description}\n"
      ],
      "text/markdown": [
       "$`PUEBO LIBRE`\n",
       ":   1.2\n",
       "$`SAN MIGUEL`\n",
       ":   2.1\n",
       "$VENTANILLA\n",
       ":   29.4\n",
       "\n",
       "\n"
      ],
      "text/plain": [
       "$`PUEBO LIBRE`\n",
       "[1] 1.2\n",
       "\n",
       "$`SAN MIGUEL`\n",
       "[1] 2.1\n",
       "\n",
       "$VENTANILLA\n",
       "[1] 29.4\n"
      ]
     },
     "metadata": {},
     "output_type": "display_data"
    }
   ],
   "source": [
    "Poverty[c(2:4)]"
   ]
  },
  {
   "cell_type": "code",
   "execution_count": 223,
   "id": "641a4408",
   "metadata": {},
   "outputs": [
    {
     "data": {
      "text/html": [
       "<dl>\n",
       "\t<dt>$`PUEBO LIBRE`</dt>\n",
       "\t\t<dd><ol class=list-inline>\n",
       "\t<li>94010</li>\n",
       "\t<li>1.2</li>\n",
       "</ol>\n",
       "</dd>\n",
       "\t<dt>$`SAN MIGUEL`</dt>\n",
       "\t\t<dd><ol class=list-inline>\n",
       "\t<li>173309</li>\n",
       "\t<li>2.1</li>\n",
       "</ol>\n",
       "</dd>\n",
       "\t<dt>$VENTANILLA</dt>\n",
       "\t\t<dd><ol class=list-inline>\n",
       "\t<li>369618</li>\n",
       "\t<li>29.4</li>\n",
       "</ol>\n",
       "</dd>\n",
       "</dl>\n"
      ],
      "text/latex": [
       "\\begin{description}\n",
       "\\item[\\$`PUEBO LIBRE`] \\begin{enumerate*}\n",
       "\\item 94010\n",
       "\\item 1.2\n",
       "\\end{enumerate*}\n",
       "\n",
       "\\item[\\$`SAN MIGUEL`] \\begin{enumerate*}\n",
       "\\item 173309\n",
       "\\item 2.1\n",
       "\\end{enumerate*}\n",
       "\n",
       "\\item[\\$VENTANILLA] \\begin{enumerate*}\n",
       "\\item 369618\n",
       "\\item 29.4\n",
       "\\end{enumerate*}\n",
       "\n",
       "\\end{description}\n"
      ],
      "text/markdown": [
       "$`PUEBO LIBRE`\n",
       ":   1. 94010\n",
       "2. 1.2\n",
       "\n",
       "\n",
       "\n",
       "$`SAN MIGUEL`\n",
       ":   1. 173309\n",
       "2. 2.1\n",
       "\n",
       "\n",
       "\n",
       "$VENTANILLA\n",
       ":   1. 369618\n",
       "2. 29.4\n",
       "\n",
       "\n",
       "\n",
       "\n",
       "\n"
      ],
      "text/plain": [
       "$`PUEBO LIBRE`\n",
       "[1] 94010.0     1.2\n",
       "\n",
       "$`SAN MIGUEL`\n",
       "[1] 173309.0      2.1\n",
       "\n",
       "$VENTANILLA\n",
       "[1] 369618.0     29.4\n"
      ]
     },
     "metadata": {},
     "output_type": "display_data"
    }
   ],
   "source": [
    "#Format = District: Population | Poverty\n",
    "\n",
    "Map(c, Population, Poverty)[(2:4)]"
   ]
  },
  {
   "cell_type": "markdown",
   "id": "d9990e15",
   "metadata": {},
   "source": [
    "# Matrices"
   ]
  },
  {
   "cell_type": "markdown",
   "id": "4054d5af",
   "metadata": {},
   "source": [
    "5- Crear matrices y dar dos ejemplos de concatenación. Unión vertical y horizontal."
   ]
  },
  {
   "cell_type": "code",
   "execution_count": 224,
   "id": "d012c5d6",
   "metadata": {},
   "outputs": [
    {
     "name": "stdout",
     "output_type": "stream",
     "text": [
      "[1] 2 5 9 4 8 6\n"
     ]
    }
   ],
   "source": [
    "A1 <- c(2, 5, 9, 4, 8, 6)\n",
    "print(A1)"
   ]
  },
  {
   "cell_type": "code",
   "execution_count": 225,
   "id": "213d3e51",
   "metadata": {},
   "outputs": [
    {
     "name": "stdout",
     "output_type": "stream",
     "text": [
      "[1] 1 3 6 9 7 0\n"
     ]
    }
   ],
   "source": [
    "A2 <- c(1, 3, 6, 9, 7, 0)\n",
    "print(A2)"
   ]
  },
  {
   "cell_type": "code",
   "execution_count": 226,
   "id": "30be5132",
   "metadata": {
    "scrolled": true
   },
   "outputs": [
    {
     "name": "stdout",
     "output_type": "stream",
     "text": [
      "     [,1] [,2] [,3] [,4] [,5] [,6]\n",
      "[1,]    2    5    9    4    8    6\n",
      "[2,]    1    3    6    9    7    0\n"
     ]
    }
   ],
   "source": [
    "A <- matrix(c(A1, A2), nrow = 2, byrow = TRUE)\n",
    "print(A)"
   ]
  },
  {
   "cell_type": "code",
   "execution_count": 227,
   "id": "e7b56f1c",
   "metadata": {
    "scrolled": true
   },
   "outputs": [
    {
     "name": "stdout",
     "output_type": "stream",
     "text": [
      "     [,1] [,2] [,3] [,4] [,5] [,6]\n",
      "[1,]    2    9    8    1    6    7\n",
      "[2,]    5    4    6    3    9    0\n"
     ]
    }
   ],
   "source": [
    "B <- matrix(c(A1, A2), nrow = 2, byrow = FALSE)\n",
    "print(B)"
   ]
  },
  {
   "cell_type": "code",
   "execution_count": 228,
   "id": "0f01fbed",
   "metadata": {},
   "outputs": [
    {
     "data": {
      "text/html": [
       "<table>\n",
       "<tbody>\n",
       "\t<tr><td>2</td><td>5</td><td>9</td><td>4</td><td>8</td><td>6</td></tr>\n",
       "\t<tr><td>1</td><td>3</td><td>6</td><td>9</td><td>7</td><td>0</td></tr>\n",
       "</tbody>\n",
       "</table>\n"
      ],
      "text/latex": [
       "\\begin{tabular}{llllll}\n",
       "\t 2 & 5 & 9 & 4 & 8 & 6\\\\\n",
       "\t 1 & 3 & 6 & 9 & 7 & 0\\\\\n",
       "\\end{tabular}\n"
      ],
      "text/markdown": [
       "\n",
       "| 2 | 5 | 9 | 4 | 8 | 6 |\n",
       "| 1 | 3 | 6 | 9 | 7 | 0 |\n",
       "\n"
      ],
      "text/plain": [
       "     [,1] [,2] [,3] [,4] [,5] [,6]\n",
       "[1,] 2    5    9    4    8    6   \n",
       "[2,] 1    3    6    9    7    0   "
      ]
     },
     "metadata": {},
     "output_type": "display_data"
    }
   ],
   "source": [
    "A <- matrix(c(A1, A2), nrow = 2, byrow =TRUE)\n",
    "A"
   ]
  },
  {
   "cell_type": "code",
   "execution_count": 229,
   "id": "dfa053ca",
   "metadata": {},
   "outputs": [
    {
     "data": {
      "text/html": [
       "<table>\n",
       "<tbody>\n",
       "\t<tr><td>2</td><td>9</td><td>8</td><td>1</td><td>6</td><td>7</td></tr>\n",
       "\t<tr><td>5</td><td>4</td><td>6</td><td>3</td><td>9</td><td>0</td></tr>\n",
       "</tbody>\n",
       "</table>\n"
      ],
      "text/latex": [
       "\\begin{tabular}{llllll}\n",
       "\t 2 & 9 & 8 & 1 & 6 & 7\\\\\n",
       "\t 5 & 4 & 6 & 3 & 9 & 0\\\\\n",
       "\\end{tabular}\n"
      ],
      "text/markdown": [
       "\n",
       "| 2 | 9 | 8 | 1 | 6 | 7 |\n",
       "| 5 | 4 | 6 | 3 | 9 | 0 |\n",
       "\n"
      ],
      "text/plain": [
       "     [,1] [,2] [,3] [,4] [,5] [,6]\n",
       "[1,] 2    9    8    1    6    7   \n",
       "[2,] 5    4    6    3    9    0   "
      ]
     },
     "metadata": {},
     "output_type": "display_data"
    }
   ],
   "source": [
    "B <- matrix(c(A1, A2), nrow = 2, byrow =FALSE)\n",
    "B"
   ]
  },
  {
   "cell_type": "markdown",
   "id": "c54e2adf",
   "metadata": {},
   "source": [
    "6- Crear una matriz de dimensión 4x8, seleccionar las ultimas dos columnas y primeras 3 filas."
   ]
  },
  {
   "cell_type": "code",
   "execution_count": 230,
   "id": "dbc92a66",
   "metadata": {
    "scrolled": false
   },
   "outputs": [
    {
     "data": {
      "text/html": [
       "<table>\n",
       "<tbody>\n",
       "\t<tr><td>16</td><td>20</td><td>24</td><td>28</td><td>32</td><td>36</td><td>40</td><td>44</td></tr>\n",
       "\t<tr><td>17</td><td>21</td><td>25</td><td>29</td><td>33</td><td>37</td><td>41</td><td>45</td></tr>\n",
       "\t<tr><td>18</td><td>22</td><td>26</td><td>30</td><td>34</td><td>38</td><td>42</td><td>46</td></tr>\n",
       "\t<tr><td>19</td><td>23</td><td>27</td><td>31</td><td>35</td><td>39</td><td>43</td><td>47</td></tr>\n",
       "</tbody>\n",
       "</table>\n"
      ],
      "text/latex": [
       "\\begin{tabular}{llllllll}\n",
       "\t 16 & 20 & 24 & 28 & 32 & 36 & 40 & 44\\\\\n",
       "\t 17 & 21 & 25 & 29 & 33 & 37 & 41 & 45\\\\\n",
       "\t 18 & 22 & 26 & 30 & 34 & 38 & 42 & 46\\\\\n",
       "\t 19 & 23 & 27 & 31 & 35 & 39 & 43 & 47\\\\\n",
       "\\end{tabular}\n"
      ],
      "text/markdown": [
       "\n",
       "| 16 | 20 | 24 | 28 | 32 | 36 | 40 | 44 |\n",
       "| 17 | 21 | 25 | 29 | 33 | 37 | 41 | 45 |\n",
       "| 18 | 22 | 26 | 30 | 34 | 38 | 42 | 46 |\n",
       "| 19 | 23 | 27 | 31 | 35 | 39 | 43 | 47 |\n",
       "\n"
      ],
      "text/plain": [
       "     [,1] [,2] [,3] [,4] [,5] [,6] [,7] [,8]\n",
       "[1,] 16   20   24   28   32   36   40   44  \n",
       "[2,] 17   21   25   29   33   37   41   45  \n",
       "[3,] 18   22   26   30   34   38   42   46  \n",
       "[4,] 19   23   27   31   35   39   43   47  "
      ]
     },
     "metadata": {},
     "output_type": "display_data"
    }
   ],
   "source": [
    "Matrix <- matrix((16:47), 4, 8)\n",
    "Matrix                     "
   ]
  },
  {
   "cell_type": "code",
   "execution_count": 231,
   "id": "7ad515ea",
   "metadata": {
    "scrolled": false
   },
   "outputs": [
    {
     "data": {
      "text/html": [
       "<table>\n",
       "<tbody>\n",
       "\t<tr><td>40</td><td>44</td></tr>\n",
       "\t<tr><td>41</td><td>45</td></tr>\n",
       "\t<tr><td>42</td><td>46</td></tr>\n",
       "\t<tr><td>43</td><td>47</td></tr>\n",
       "</tbody>\n",
       "</table>\n"
      ],
      "text/latex": [
       "\\begin{tabular}{ll}\n",
       "\t 40 & 44\\\\\n",
       "\t 41 & 45\\\\\n",
       "\t 42 & 46\\\\\n",
       "\t 43 & 47\\\\\n",
       "\\end{tabular}\n"
      ],
      "text/markdown": [
       "\n",
       "| 40 | 44 |\n",
       "| 41 | 45 |\n",
       "| 42 | 46 |\n",
       "| 43 | 47 |\n",
       "\n"
      ],
      "text/plain": [
       "     [,1] [,2]\n",
       "[1,] 40   44  \n",
       "[2,] 41   45  \n",
       "[3,] 42   46  \n",
       "[4,] 43   47  "
      ]
     },
     "metadata": {},
     "output_type": "display_data"
    }
   ],
   "source": [
    "Matrix[,7:8]"
   ]
  },
  {
   "cell_type": "code",
   "execution_count": 232,
   "id": "c790a2c9",
   "metadata": {
    "scrolled": false
   },
   "outputs": [
    {
     "data": {
      "text/html": [
       "<table>\n",
       "<tbody>\n",
       "\t<tr><td>16</td><td>20</td><td>24</td><td>28</td><td>32</td><td>36</td><td>40</td><td>44</td></tr>\n",
       "\t<tr><td>17</td><td>21</td><td>25</td><td>29</td><td>33</td><td>37</td><td>41</td><td>45</td></tr>\n",
       "\t<tr><td>18</td><td>22</td><td>26</td><td>30</td><td>34</td><td>38</td><td>42</td><td>46</td></tr>\n",
       "</tbody>\n",
       "</table>\n"
      ],
      "text/latex": [
       "\\begin{tabular}{llllllll}\n",
       "\t 16 & 20 & 24 & 28 & 32 & 36 & 40 & 44\\\\\n",
       "\t 17 & 21 & 25 & 29 & 33 & 37 & 41 & 45\\\\\n",
       "\t 18 & 22 & 26 & 30 & 34 & 38 & 42 & 46\\\\\n",
       "\\end{tabular}\n"
      ],
      "text/markdown": [
       "\n",
       "| 16 | 20 | 24 | 28 | 32 | 36 | 40 | 44 |\n",
       "| 17 | 21 | 25 | 29 | 33 | 37 | 41 | 45 |\n",
       "| 18 | 22 | 26 | 30 | 34 | 38 | 42 | 46 |\n",
       "\n"
      ],
      "text/plain": [
       "     [,1] [,2] [,3] [,4] [,5] [,6] [,7] [,8]\n",
       "[1,] 16   20   24   28   32   36   40   44  \n",
       "[2,] 17   21   25   29   33   37   41   45  \n",
       "[3,] 18   22   26   30   34   38   42   46  "
      ]
     },
     "metadata": {},
     "output_type": "display_data"
    }
   ],
   "source": [
    "Matrix[1:3,]"
   ]
  },
  {
   "cell_type": "markdown",
   "id": "7d4c3f4b",
   "metadata": {},
   "source": [
    "# Operaciones con matrices"
   ]
  },
  {
   "cell_type": "markdown",
   "id": "2cdad0a9",
   "metadata": {},
   "source": [
    "7- Obtener el estimador de la varianza del termino de perturbación"
   ]
  },
  {
   "cell_type": "code",
   "execution_count": 233,
   "id": "4c1116a2",
   "metadata": {
    "scrolled": true
   },
   "outputs": [],
   "source": [
    "set.seed(456)\n",
    "\n",
    "x1 <- runif(20)\n",
    "x2 <- runif(20)\n",
    "x3 <- runif(20)\n",
    "x4 <- runif(20)\n",
    "e <- rnorm(20)\n",
    "\n",
    "# Poblacional regression (Data Generating Process GDP)\n",
    "\n",
    "Y <- 20 + 5*x1 + 9*x2 + 6*x3 + 4*x4 + e"
   ]
  },
  {
   "cell_type": "code",
   "execution_count": 237,
   "id": "077f7426",
   "metadata": {
    "scrolled": true
   },
   "outputs": [
    {
     "data": {
      "text/html": [
       "<table>\n",
       "<thead><tr><th scope=col></th><th scope=col>x1</th><th scope=col>x2</th><th scope=col>x3</th><th scope=col>x4</th></tr></thead>\n",
       "<tbody>\n",
       "\t<tr><td>1          </td><td>0.08955160 </td><td>0.17988314 </td><td>0.31753470 </td><td>0.298474103</td></tr>\n",
       "\t<tr><td>1          </td><td>0.21051232 </td><td>0.72174360 </td><td>0.42369873 </td><td>0.408579878</td></tr>\n",
       "\t<tr><td>1          </td><td>0.73295527 </td><td>0.90508758 </td><td>0.04296139 </td><td>0.276325333</td></tr>\n",
       "\t<tr><td>1          </td><td>0.85213354 </td><td>0.44576667 </td><td>0.12927385 </td><td>0.626006929</td></tr>\n",
       "\t<tr><td>1          </td><td>0.78839789 </td><td>0.83860146 </td><td>0.07681441 </td><td>0.022808742</td></tr>\n",
       "\t<tr><td>1          </td><td>0.33195997 </td><td>0.70349283 </td><td>0.07841957 </td><td>0.328526801</td></tr>\n",
       "\t<tr><td>1          </td><td>0.08243274 </td><td>0.95092900 </td><td>0.58247762 </td><td>0.616443433</td></tr>\n",
       "\t<tr><td>1          </td><td>0.28552695 </td><td>0.64315218 </td><td>0.54410322 </td><td>0.419175668</td></tr>\n",
       "\t<tr><td>1          </td><td>0.23750327 </td><td>0.07481986 </td><td>0.48570649 </td><td>0.567740781</td></tr>\n",
       "\t<tr><td>1          </td><td>0.38523617 </td><td>0.25349037 </td><td>0.92824613 </td><td>0.531089413</td></tr>\n",
       "\t<tr><td>1          </td><td>0.37294591 </td><td>0.97425399 </td><td>0.87166240 </td><td>0.965288136</td></tr>\n",
       "\t<tr><td>1          </td><td>0.21790856 </td><td>0.21730407 </td><td>0.79849677 </td><td>0.847544263</td></tr>\n",
       "\t<tr><td>1          </td><td>0.75510504 </td><td>0.95880078 </td><td>0.32173416 </td><td>0.254433440</td></tr>\n",
       "\t<tr><td>1          </td><td>0.82168107 </td><td>0.50185606 </td><td>0.42532838 </td><td>0.075905390</td></tr>\n",
       "\t<tr><td>1          </td><td>0.59891816 </td><td>0.65080078 </td><td>0.37131065 </td><td>0.444230469</td></tr>\n",
       "\t<tr><td>1          </td><td>0.65103356 </td><td>0.94830108 </td><td>0.89427371 </td><td>0.001509915</td></tr>\n",
       "\t<tr><td>1          </td><td>0.84311724 </td><td>0.98869716 </td><td>0.93116707 </td><td>0.335790524</td></tr>\n",
       "\t<tr><td>1          </td><td>0.45323814 </td><td>0.91811448 </td><td>0.61723848 </td><td>0.374027789</td></tr>\n",
       "\t<tr><td>1          </td><td>0.71675710 </td><td>0.93796142 </td><td>0.13799364 </td><td>0.484550527</td></tr>\n",
       "\t<tr><td>1          </td><td>0.29122217 </td><td>0.52833515 </td><td>0.25414065 </td><td>0.602876637</td></tr>\n",
       "</tbody>\n",
       "</table>\n"
      ],
      "text/latex": [
       "\\begin{tabular}{lllll}\n",
       "  & x1 & x2 & x3 & x4\\\\\n",
       "\\hline\n",
       "\t 1           & 0.08955160  & 0.17988314  & 0.31753470  & 0.298474103\\\\\n",
       "\t 1           & 0.21051232  & 0.72174360  & 0.42369873  & 0.408579878\\\\\n",
       "\t 1           & 0.73295527  & 0.90508758  & 0.04296139  & 0.276325333\\\\\n",
       "\t 1           & 0.85213354  & 0.44576667  & 0.12927385  & 0.626006929\\\\\n",
       "\t 1           & 0.78839789  & 0.83860146  & 0.07681441  & 0.022808742\\\\\n",
       "\t 1           & 0.33195997  & 0.70349283  & 0.07841957  & 0.328526801\\\\\n",
       "\t 1           & 0.08243274  & 0.95092900  & 0.58247762  & 0.616443433\\\\\n",
       "\t 1           & 0.28552695  & 0.64315218  & 0.54410322  & 0.419175668\\\\\n",
       "\t 1           & 0.23750327  & 0.07481986  & 0.48570649  & 0.567740781\\\\\n",
       "\t 1           & 0.38523617  & 0.25349037  & 0.92824613  & 0.531089413\\\\\n",
       "\t 1           & 0.37294591  & 0.97425399  & 0.87166240  & 0.965288136\\\\\n",
       "\t 1           & 0.21790856  & 0.21730407  & 0.79849677  & 0.847544263\\\\\n",
       "\t 1           & 0.75510504  & 0.95880078  & 0.32173416  & 0.254433440\\\\\n",
       "\t 1           & 0.82168107  & 0.50185606  & 0.42532838  & 0.075905390\\\\\n",
       "\t 1           & 0.59891816  & 0.65080078  & 0.37131065  & 0.444230469\\\\\n",
       "\t 1           & 0.65103356  & 0.94830108  & 0.89427371  & 0.001509915\\\\\n",
       "\t 1           & 0.84311724  & 0.98869716  & 0.93116707  & 0.335790524\\\\\n",
       "\t 1           & 0.45323814  & 0.91811448  & 0.61723848  & 0.374027789\\\\\n",
       "\t 1           & 0.71675710  & 0.93796142  & 0.13799364  & 0.484550527\\\\\n",
       "\t 1           & 0.29122217  & 0.52833515  & 0.25414065  & 0.602876637\\\\\n",
       "\\end{tabular}\n"
      ],
      "text/markdown": [
       "\n",
       "|  | x1 | x2 | x3 | x4 |\n",
       "|---|---|---|---|---|\n",
       "| 1           | 0.08955160  | 0.17988314  | 0.31753470  | 0.298474103 |\n",
       "| 1           | 0.21051232  | 0.72174360  | 0.42369873  | 0.408579878 |\n",
       "| 1           | 0.73295527  | 0.90508758  | 0.04296139  | 0.276325333 |\n",
       "| 1           | 0.85213354  | 0.44576667  | 0.12927385  | 0.626006929 |\n",
       "| 1           | 0.78839789  | 0.83860146  | 0.07681441  | 0.022808742 |\n",
       "| 1           | 0.33195997  | 0.70349283  | 0.07841957  | 0.328526801 |\n",
       "| 1           | 0.08243274  | 0.95092900  | 0.58247762  | 0.616443433 |\n",
       "| 1           | 0.28552695  | 0.64315218  | 0.54410322  | 0.419175668 |\n",
       "| 1           | 0.23750327  | 0.07481986  | 0.48570649  | 0.567740781 |\n",
       "| 1           | 0.38523617  | 0.25349037  | 0.92824613  | 0.531089413 |\n",
       "| 1           | 0.37294591  | 0.97425399  | 0.87166240  | 0.965288136 |\n",
       "| 1           | 0.21790856  | 0.21730407  | 0.79849677  | 0.847544263 |\n",
       "| 1           | 0.75510504  | 0.95880078  | 0.32173416  | 0.254433440 |\n",
       "| 1           | 0.82168107  | 0.50185606  | 0.42532838  | 0.075905390 |\n",
       "| 1           | 0.59891816  | 0.65080078  | 0.37131065  | 0.444230469 |\n",
       "| 1           | 0.65103356  | 0.94830108  | 0.89427371  | 0.001509915 |\n",
       "| 1           | 0.84311724  | 0.98869716  | 0.93116707  | 0.335790524 |\n",
       "| 1           | 0.45323814  | 0.91811448  | 0.61723848  | 0.374027789 |\n",
       "| 1           | 0.71675710  | 0.93796142  | 0.13799364  | 0.484550527 |\n",
       "| 1           | 0.29122217  | 0.52833515  | 0.25414065  | 0.602876637 |\n",
       "\n"
      ],
      "text/plain": [
       "        x1         x2         x3         x4         \n",
       " [1,] 1 0.08955160 0.17988314 0.31753470 0.298474103\n",
       " [2,] 1 0.21051232 0.72174360 0.42369873 0.408579878\n",
       " [3,] 1 0.73295527 0.90508758 0.04296139 0.276325333\n",
       " [4,] 1 0.85213354 0.44576667 0.12927385 0.626006929\n",
       " [5,] 1 0.78839789 0.83860146 0.07681441 0.022808742\n",
       " [6,] 1 0.33195997 0.70349283 0.07841957 0.328526801\n",
       " [7,] 1 0.08243274 0.95092900 0.58247762 0.616443433\n",
       " [8,] 1 0.28552695 0.64315218 0.54410322 0.419175668\n",
       " [9,] 1 0.23750327 0.07481986 0.48570649 0.567740781\n",
       "[10,] 1 0.38523617 0.25349037 0.92824613 0.531089413\n",
       "[11,] 1 0.37294591 0.97425399 0.87166240 0.965288136\n",
       "[12,] 1 0.21790856 0.21730407 0.79849677 0.847544263\n",
       "[13,] 1 0.75510504 0.95880078 0.32173416 0.254433440\n",
       "[14,] 1 0.82168107 0.50185606 0.42532838 0.075905390\n",
       "[15,] 1 0.59891816 0.65080078 0.37131065 0.444230469\n",
       "[16,] 1 0.65103356 0.94830108 0.89427371 0.001509915\n",
       "[17,] 1 0.84311724 0.98869716 0.93116707 0.335790524\n",
       "[18,] 1 0.45323814 0.91811448 0.61723848 0.374027789\n",
       "[19,] 1 0.71675710 0.93796142 0.13799364 0.484550527\n",
       "[20,] 1 0.29122217 0.52833515 0.25414065 0.602876637"
      ]
     },
     "metadata": {},
     "output_type": "display_data"
    }
   ],
   "source": [
    "X <- cbind(matrix(1,20), x1,x2,x3,x4)\n",
    "X"
   ]
  },
  {
   "cell_type": "code",
   "execution_count": 159,
   "id": "03ec802e",
   "metadata": {
    "scrolled": true
   },
   "outputs": [
    {
     "data": {
      "text/html": [
       "<table>\n",
       "<tbody>\n",
       "\t<tr><th scope=row></th><td>1.0000000  </td><td>1.0000000  </td><td>1.00000000 </td><td>1.0000000  </td><td>1.00000000 </td><td>1.00000000 </td><td>1.00000000 </td><td>1.0000000  </td><td>1.00000000 </td><td>1.0000000  </td><td>1.0000000  </td><td>1.0000000  </td><td>1.0000000  </td><td>1.00000000 </td><td>1.0000000  </td><td>1.000000000</td><td>1.0000000  </td><td>1.0000000  </td><td>1.0000000  </td><td>1.0000000  </td></tr>\n",
       "\t<tr><th scope=row>x1</th><td>0.0895516  </td><td>0.2105123  </td><td>0.73295527 </td><td>0.8521335  </td><td>0.78839789 </td><td>0.33195997 </td><td>0.08243274 </td><td>0.2855269  </td><td>0.23750327 </td><td>0.3852362  </td><td>0.3729459  </td><td>0.2179086  </td><td>0.7551050  </td><td>0.82168107 </td><td>0.5989182  </td><td>0.651033560</td><td>0.8431172  </td><td>0.4532381  </td><td>0.7167571  </td><td>0.2912222  </td></tr>\n",
       "\t<tr><th scope=row>x2</th><td>0.1798831  </td><td>0.7217436  </td><td>0.90508758 </td><td>0.4457667  </td><td>0.83860146 </td><td>0.70349283 </td><td>0.95092900 </td><td>0.6431522  </td><td>0.07481986 </td><td>0.2534904  </td><td>0.9742540  </td><td>0.2173041  </td><td>0.9588008  </td><td>0.50185606 </td><td>0.6508008  </td><td>0.948301075</td><td>0.9886972  </td><td>0.9181145  </td><td>0.9379614  </td><td>0.5283351  </td></tr>\n",
       "\t<tr><th scope=row>x3</th><td>0.3175347  </td><td>0.4236987  </td><td>0.04296139 </td><td>0.1292738  </td><td>0.07681441 </td><td>0.07841957 </td><td>0.58247762 </td><td>0.5441032  </td><td>0.48570649 </td><td>0.9282461  </td><td>0.8716624  </td><td>0.7984968  </td><td>0.3217342  </td><td>0.42532838 </td><td>0.3713107  </td><td>0.894273708</td><td>0.9311671  </td><td>0.6172385  </td><td>0.1379936  </td><td>0.2541407  </td></tr>\n",
       "\t<tr><th scope=row>x4</th><td>0.2984741  </td><td>0.4085799  </td><td>0.27632533 </td><td>0.6260069  </td><td>0.02280874 </td><td>0.32852680 </td><td>0.61644343 </td><td>0.4191757  </td><td>0.56774078 </td><td>0.5310894  </td><td>0.9652881  </td><td>0.8475443  </td><td>0.2544334  </td><td>0.07590539 </td><td>0.4442305  </td><td>0.001509915</td><td>0.3357905  </td><td>0.3740278  </td><td>0.4845505  </td><td>0.6028766  </td></tr>\n",
       "</tbody>\n",
       "</table>\n"
      ],
      "text/latex": [
       "\\begin{tabular}{r|llllllllllllllllllll}\n",
       "\t & 1.0000000   & 1.0000000   & 1.00000000  & 1.0000000   & 1.00000000  & 1.00000000  & 1.00000000  & 1.0000000   & 1.00000000  & 1.0000000   & 1.0000000   & 1.0000000   & 1.0000000   & 1.00000000  & 1.0000000   & 1.000000000 & 1.0000000   & 1.0000000   & 1.0000000   & 1.0000000  \\\\\n",
       "\tx1 & 0.0895516   & 0.2105123   & 0.73295527  & 0.8521335   & 0.78839789  & 0.33195997  & 0.08243274  & 0.2855269   & 0.23750327  & 0.3852362   & 0.3729459   & 0.2179086   & 0.7551050   & 0.82168107  & 0.5989182   & 0.651033560 & 0.8431172   & 0.4532381   & 0.7167571   & 0.2912222  \\\\\n",
       "\tx2 & 0.1798831   & 0.7217436   & 0.90508758  & 0.4457667   & 0.83860146  & 0.70349283  & 0.95092900  & 0.6431522   & 0.07481986  & 0.2534904   & 0.9742540   & 0.2173041   & 0.9588008   & 0.50185606  & 0.6508008   & 0.948301075 & 0.9886972   & 0.9181145   & 0.9379614   & 0.5283351  \\\\\n",
       "\tx3 & 0.3175347   & 0.4236987   & 0.04296139  & 0.1292738   & 0.07681441  & 0.07841957  & 0.58247762  & 0.5441032   & 0.48570649  & 0.9282461   & 0.8716624   & 0.7984968   & 0.3217342   & 0.42532838  & 0.3713107   & 0.894273708 & 0.9311671   & 0.6172385   & 0.1379936   & 0.2541407  \\\\\n",
       "\tx4 & 0.2984741   & 0.4085799   & 0.27632533  & 0.6260069   & 0.02280874  & 0.32852680  & 0.61644343  & 0.4191757   & 0.56774078  & 0.5310894   & 0.9652881   & 0.8475443   & 0.2544334   & 0.07590539  & 0.4442305   & 0.001509915 & 0.3357905   & 0.3740278   & 0.4845505   & 0.6028766  \\\\\n",
       "\\end{tabular}\n"
      ],
      "text/markdown": [
       "\n",
       "|  | 1.0000000   | 1.0000000   | 1.00000000  | 1.0000000   | 1.00000000  | 1.00000000  | 1.00000000  | 1.0000000   | 1.00000000  | 1.0000000   | 1.0000000   | 1.0000000   | 1.0000000   | 1.00000000  | 1.0000000   | 1.000000000 | 1.0000000   | 1.0000000   | 1.0000000   | 1.0000000   |\n",
       "| x1 | 0.0895516   | 0.2105123   | 0.73295527  | 0.8521335   | 0.78839789  | 0.33195997  | 0.08243274  | 0.2855269   | 0.23750327  | 0.3852362   | 0.3729459   | 0.2179086   | 0.7551050   | 0.82168107  | 0.5989182   | 0.651033560 | 0.8431172   | 0.4532381   | 0.7167571   | 0.2912222   |\n",
       "| x2 | 0.1798831   | 0.7217436   | 0.90508758  | 0.4457667   | 0.83860146  | 0.70349283  | 0.95092900  | 0.6431522   | 0.07481986  | 0.2534904   | 0.9742540   | 0.2173041   | 0.9588008   | 0.50185606  | 0.6508008   | 0.948301075 | 0.9886972   | 0.9181145   | 0.9379614   | 0.5283351   |\n",
       "| x3 | 0.3175347   | 0.4236987   | 0.04296139  | 0.1292738   | 0.07681441  | 0.07841957  | 0.58247762  | 0.5441032   | 0.48570649  | 0.9282461   | 0.8716624   | 0.7984968   | 0.3217342   | 0.42532838  | 0.3713107   | 0.894273708 | 0.9311671   | 0.6172385   | 0.1379936   | 0.2541407   |\n",
       "| x4 | 0.2984741   | 0.4085799   | 0.27632533  | 0.6260069   | 0.02280874  | 0.32852680  | 0.61644343  | 0.4191757   | 0.56774078  | 0.5310894   | 0.9652881   | 0.8475443   | 0.2544334   | 0.07590539  | 0.4442305   | 0.001509915 | 0.3357905   | 0.3740278   | 0.4845505   | 0.6028766   |\n",
       "\n"
      ],
      "text/plain": [
       "   [,1]      [,2]      [,3]       [,4]      [,5]       [,6]       [,7]      \n",
       "   1.0000000 1.0000000 1.00000000 1.0000000 1.00000000 1.00000000 1.00000000\n",
       "x1 0.0895516 0.2105123 0.73295527 0.8521335 0.78839789 0.33195997 0.08243274\n",
       "x2 0.1798831 0.7217436 0.90508758 0.4457667 0.83860146 0.70349283 0.95092900\n",
       "x3 0.3175347 0.4236987 0.04296139 0.1292738 0.07681441 0.07841957 0.58247762\n",
       "x4 0.2984741 0.4085799 0.27632533 0.6260069 0.02280874 0.32852680 0.61644343\n",
       "   [,8]      [,9]       [,10]     [,11]     [,12]     [,13]     [,14]     \n",
       "   1.0000000 1.00000000 1.0000000 1.0000000 1.0000000 1.0000000 1.00000000\n",
       "x1 0.2855269 0.23750327 0.3852362 0.3729459 0.2179086 0.7551050 0.82168107\n",
       "x2 0.6431522 0.07481986 0.2534904 0.9742540 0.2173041 0.9588008 0.50185606\n",
       "x3 0.5441032 0.48570649 0.9282461 0.8716624 0.7984968 0.3217342 0.42532838\n",
       "x4 0.4191757 0.56774078 0.5310894 0.9652881 0.8475443 0.2544334 0.07590539\n",
       "   [,15]     [,16]       [,17]     [,18]     [,19]     [,20]    \n",
       "   1.0000000 1.000000000 1.0000000 1.0000000 1.0000000 1.0000000\n",
       "x1 0.5989182 0.651033560 0.8431172 0.4532381 0.7167571 0.2912222\n",
       "x2 0.6508008 0.948301075 0.9886972 0.9181145 0.9379614 0.5283351\n",
       "x3 0.3713107 0.894273708 0.9311671 0.6172385 0.1379936 0.2541407\n",
       "x4 0.4442305 0.001509915 0.3357905 0.3740278 0.4845505 0.6028766"
      ]
     },
     "metadata": {},
     "output_type": "display_data"
    }
   ],
   "source": [
    "trX<-(t(X))\n",
    "trX"
   ]
  },
  {
   "cell_type": "code",
   "execution_count": 160,
   "id": "9b2499b1",
   "metadata": {
    "scrolled": true
   },
   "outputs": [
    {
     "data": {
      "text/html": [
       "<table>\n",
       "<thead><tr><th></th><th scope=col></th><th scope=col>x1</th><th scope=col>x2</th><th scope=col>x3</th><th scope=col>x4</th></tr></thead>\n",
       "<tbody>\n",
       "\t<tr><th scope=row></th><td>20.000000</td><td>9.718137 </td><td>13.341392</td><td>9.232582 </td><td>8.481328 </td></tr>\n",
       "\t<tr><th scope=row>x1</th><td> 9.718137</td><td>6.069881 </td><td> 7.113493</td><td>4.156046 </td><td>3.527424 </td></tr>\n",
       "\t<tr><th scope=row>x2</th><td>13.341392</td><td>7.113493 </td><td>10.626817</td><td>6.139895 </td><td>5.306466 </td></tr>\n",
       "\t<tr><th scope=row>x3</th><td> 9.232582</td><td>4.156046 </td><td> 6.139895</td><td>5.994928 </td><td>4.306311 </td></tr>\n",
       "\t<tr><th scope=row>x4</th><td> 8.481328</td><td>3.527424 </td><td> 5.306466</td><td>4.306311 </td><td>4.761666 </td></tr>\n",
       "</tbody>\n",
       "</table>\n"
      ],
      "text/latex": [
       "\\begin{tabular}{r|lllll}\n",
       "  &  & x1 & x2 & x3 & x4\\\\\n",
       "\\hline\n",
       "\t & 20.000000 & 9.718137  & 13.341392 & 9.232582  & 8.481328 \\\\\n",
       "\tx1 &  9.718137 & 6.069881  &  7.113493 & 4.156046  & 3.527424 \\\\\n",
       "\tx2 & 13.341392 & 7.113493  & 10.626817 & 6.139895  & 5.306466 \\\\\n",
       "\tx3 &  9.232582 & 4.156046  &  6.139895 & 5.994928  & 4.306311 \\\\\n",
       "\tx4 &  8.481328 & 3.527424  &  5.306466 & 4.306311  & 4.761666 \\\\\n",
       "\\end{tabular}\n"
      ],
      "text/markdown": [
       "\n",
       "| <!--/--> |  | x1 | x2 | x3 | x4 |\n",
       "|---|---|---|---|---|---|\n",
       "|  | 20.000000 | 9.718137  | 13.341392 | 9.232582  | 8.481328  |\n",
       "| x1 |  9.718137 | 6.069881  |  7.113493 | 4.156046  | 3.527424  |\n",
       "| x2 | 13.341392 | 7.113493  | 10.626817 | 6.139895  | 5.306466  |\n",
       "| x3 |  9.232582 | 4.156046  |  6.139895 | 5.994928  | 4.306311  |\n",
       "| x4 |  8.481328 | 3.527424  |  5.306466 | 4.306311  | 4.761666  |\n",
       "\n"
      ],
      "text/plain": [
       "             x1       x2        x3       x4      \n",
       "   20.000000 9.718137 13.341392 9.232582 8.481328\n",
       "x1  9.718137 6.069881  7.113493 4.156046 3.527424\n",
       "x2 13.341392 7.113493 10.626817 6.139895 5.306466\n",
       "x3  9.232582 4.156046  6.139895 5.994928 4.306311\n",
       "x4  8.481328 3.527424  5.306466 4.306311 4.761666"
      ]
     },
     "metadata": {},
     "output_type": "display_data"
    }
   ],
   "source": [
    "X_X <- trX %*% X\n",
    "X_X"
   ]
  },
  {
   "cell_type": "code",
   "execution_count": 166,
   "id": "0081dce5",
   "metadata": {},
   "outputs": [
    {
     "data": {
      "text/html": [
       "<table>\n",
       "<thead><tr><th></th><th scope=col></th><th scope=col>x1</th><th scope=col>x2</th><th scope=col>x3</th><th scope=col>x4</th></tr></thead>\n",
       "<tbody>\n",
       "\t<tr><th scope=row></th><td> 0.9249112 </td><td>-0.5615234 </td><td>-0.32001395</td><td>-0.22543146</td><td>-0.67094639</td></tr>\n",
       "\t<tr><th scope=row>x1</th><td>-0.5615234 </td><td> 1.1067485 </td><td>-0.31515698</td><td> 0.10988518</td><td> 0.43213075</td></tr>\n",
       "\t<tr><th scope=row>x2</th><td>-0.3200140 </td><td>-0.3151570 </td><td> 0.70885924</td><td>-0.06956121</td><td> 0.07641238</td></tr>\n",
       "\t<tr><th scope=row>x3</th><td>-0.2254315 </td><td> 0.1098852 </td><td>-0.06956121</td><td> 0.63764433</td><td>-0.17901796</td></tr>\n",
       "\t<tr><th scope=row>x4</th><td>-0.6709464 </td><td> 0.4321308 </td><td> 0.07641238</td><td>-0.17901796</td><td> 1.16170163</td></tr>\n",
       "</tbody>\n",
       "</table>\n"
      ],
      "text/latex": [
       "\\begin{tabular}{r|lllll}\n",
       "  &  & x1 & x2 & x3 & x4\\\\\n",
       "\\hline\n",
       "\t &  0.9249112  & -0.5615234  & -0.32001395 & -0.22543146 & -0.67094639\\\\\n",
       "\tx1 & -0.5615234  &  1.1067485  & -0.31515698 &  0.10988518 &  0.43213075\\\\\n",
       "\tx2 & -0.3200140  & -0.3151570  &  0.70885924 & -0.06956121 &  0.07641238\\\\\n",
       "\tx3 & -0.2254315  &  0.1098852  & -0.06956121 &  0.63764433 & -0.17901796\\\\\n",
       "\tx4 & -0.6709464  &  0.4321308  &  0.07641238 & -0.17901796 &  1.16170163\\\\\n",
       "\\end{tabular}\n"
      ],
      "text/markdown": [
       "\n",
       "| <!--/--> |  | x1 | x2 | x3 | x4 |\n",
       "|---|---|---|---|---|---|\n",
       "|  |  0.9249112  | -0.5615234  | -0.32001395 | -0.22543146 | -0.67094639 |\n",
       "| x1 | -0.5615234  |  1.1067485  | -0.31515698 |  0.10988518 |  0.43213075 |\n",
       "| x2 | -0.3200140  | -0.3151570  |  0.70885924 | -0.06956121 |  0.07641238 |\n",
       "| x3 | -0.2254315  |  0.1098852  | -0.06956121 |  0.63764433 | -0.17901796 |\n",
       "| x4 | -0.6709464  |  0.4321308  |  0.07641238 | -0.17901796 |  1.16170163 |\n",
       "\n"
      ],
      "text/plain": [
       "              x1         x2          x3          x4         \n",
       "    0.9249112 -0.5615234 -0.32001395 -0.22543146 -0.67094639\n",
       "x1 -0.5615234  1.1067485 -0.31515698  0.10988518  0.43213075\n",
       "x2 -0.3200140 -0.3151570  0.70885924 -0.06956121  0.07641238\n",
       "x3 -0.2254315  0.1098852 -0.06956121  0.63764433 -0.17901796\n",
       "x4 -0.6709464  0.4321308  0.07641238 -0.17901796  1.16170163"
      ]
     },
     "metadata": {},
     "output_type": "display_data"
    }
   ],
   "source": [
    "invX_X <- solve(X_X)\n",
    "invX_X"
   ]
  },
  {
   "cell_type": "code",
   "execution_count": 167,
   "id": "1807d6b1",
   "metadata": {},
   "outputs": [
    {
     "data": {
      "text/html": [
       "<table>\n",
       "<tbody>\n",
       "\t<tr><th scope=row></th><td> 0.54521830 </td><td> 0.20608534 </td><td> 0.02861467 </td><td>-0.1453928  </td><td> 0.18122333 </td><td> 0.2752783  </td><td> 0.02940343 </td><td> 0.15486106 </td><td> 0.277186976</td><td> 0.06188319 </td><td>-0.44043827 </td><td>-0.01565298 </td><td>-0.04916778 </td><td> 0.15610626 </td><td>-0.001420645</td><td> 0.05326053 </td><td>-0.300127546</td><td>-0.01349965 </td><td>-0.1339410  </td><td> 0.130519291</td></tr>\n",
       "\t<tr><th scope=row>x1</th><td>-0.35523150 </td><td>-0.33288356 </td><td> 0.08855862 </td><td> 0.5258098  </td><td> 0.06504086 </td><td>-0.2652542  </td><td>-0.43959314 </td><td>-0.20728316 </td><td>-0.023536777</td><td> 0.11644749 </td><td> 0.05710449 </td><td> 0.06515461 </td><td> 0.11731759 </td><td> 0.26924584 </td><td> 0.128991201</td><td>-0.04093673 </td><td> 0.307427449</td><td>-0.11979864 </td><td> 0.1606940  </td><td>-0.117274346</td></tr>\n",
       "\t<tr><th scope=row>x2</th><td>-0.22000592 </td><td> 0.12700380 </td><td> 0.10869601 </td><td>-0.2337417  </td><td> 0.02236691 </td><td> 0.0936925  </td><td> 0.33466766 </td><td> 0.04008633 </td><td>-0.332231928</td><td>-0.28572295 </td><td> 0.26618455 </td><td>-0.22543289 </td><td> 0.11872587 </td><td>-0.24701341 </td><td>-0.039325153</td><td> 0.08492887 </td><td> 0.076004329</td><td> 0.17360331 </td><td> 0.1464043  </td><td>-0.008890494</td></tr>\n",
       "\t<tr><th scope=row>x3</th><td>-0.07906199 </td><td>-0.05547869 </td><td>-0.22992265 </td><td>-0.1924384  </td><td>-0.15223526 </td><td>-0.2466982  </td><td>-0.02146200 </td><td> 0.03310963 </td><td> 0.003534256</td><td> 0.29608352 </td><td> 0.13078615 </td><td> 0.14082882 </td><td>-0.04954815 </td><td> 0.08756919 </td><td>-0.047650826</td><td> 0.35010076 </td><td> 0.332080515</td><td> 0.08712846 </td><td>-0.2106686  </td><td>-0.176056498</td></tr>\n",
       "\t<tr><th scope=row>x4</th><td>-0.32860966 </td><td>-0.12602918 </td><td> 0.02826274 </td><td> 0.4354397  </td><td>-0.25343009 </td><td>-0.1061291  </td><td> 0.04918745 </td><td>-0.10886383 </td><td> 0.009998440</td><td>-0.03430949 </td><td> 0.52999364 </td><td> 0.28147160 </td><td>-0.03339849 </td><td>-0.26548673 </td><td> 0.087185780</td><td>-0.47548982 </td><td>-0.007668038</td><td>-0.08092103 </td><td> 0.2486580  </td><td> 0.150138033</td></tr>\n",
       "</tbody>\n",
       "</table>\n"
      ],
      "text/latex": [
       "\\begin{tabular}{r|llllllllllllllllllll}\n",
       "\t &  0.54521830  &  0.20608534  &  0.02861467  & -0.1453928   &  0.18122333  &  0.2752783   &  0.02940343  &  0.15486106  &  0.277186976 &  0.06188319  & -0.44043827  & -0.01565298  & -0.04916778  &  0.15610626  & -0.001420645 &  0.05326053  & -0.300127546 & -0.01349965  & -0.1339410   &  0.130519291\\\\\n",
       "\tx1 & -0.35523150  & -0.33288356  &  0.08855862  &  0.5258098   &  0.06504086  & -0.2652542   & -0.43959314  & -0.20728316  & -0.023536777 &  0.11644749  &  0.05710449  &  0.06515461  &  0.11731759  &  0.26924584  &  0.128991201 & -0.04093673  &  0.307427449 & -0.11979864  &  0.1606940   & -0.117274346\\\\\n",
       "\tx2 & -0.22000592  &  0.12700380  &  0.10869601  & -0.2337417   &  0.02236691  &  0.0936925   &  0.33466766  &  0.04008633  & -0.332231928 & -0.28572295  &  0.26618455  & -0.22543289  &  0.11872587  & -0.24701341  & -0.039325153 &  0.08492887  &  0.076004329 &  0.17360331  &  0.1464043   & -0.008890494\\\\\n",
       "\tx3 & -0.07906199  & -0.05547869  & -0.22992265  & -0.1924384   & -0.15223526  & -0.2466982   & -0.02146200  &  0.03310963  &  0.003534256 &  0.29608352  &  0.13078615  &  0.14082882  & -0.04954815  &  0.08756919  & -0.047650826 &  0.35010076  &  0.332080515 &  0.08712846  & -0.2106686   & -0.176056498\\\\\n",
       "\tx4 & -0.32860966  & -0.12602918  &  0.02826274  &  0.4354397   & -0.25343009  & -0.1061291   &  0.04918745  & -0.10886383  &  0.009998440 & -0.03430949  &  0.52999364  &  0.28147160  & -0.03339849  & -0.26548673  &  0.087185780 & -0.47548982  & -0.007668038 & -0.08092103  &  0.2486580   &  0.150138033\\\\\n",
       "\\end{tabular}\n"
      ],
      "text/markdown": [
       "\n",
       "|  |  0.54521830  |  0.20608534  |  0.02861467  | -0.1453928   |  0.18122333  |  0.2752783   |  0.02940343  |  0.15486106  |  0.277186976 |  0.06188319  | -0.44043827  | -0.01565298  | -0.04916778  |  0.15610626  | -0.001420645 |  0.05326053  | -0.300127546 | -0.01349965  | -0.1339410   |  0.130519291 |\n",
       "| x1 | -0.35523150  | -0.33288356  |  0.08855862  |  0.5258098   |  0.06504086  | -0.2652542   | -0.43959314  | -0.20728316  | -0.023536777 |  0.11644749  |  0.05710449  |  0.06515461  |  0.11731759  |  0.26924584  |  0.128991201 | -0.04093673  |  0.307427449 | -0.11979864  |  0.1606940   | -0.117274346 |\n",
       "| x2 | -0.22000592  |  0.12700380  |  0.10869601  | -0.2337417   |  0.02236691  |  0.0936925   |  0.33466766  |  0.04008633  | -0.332231928 | -0.28572295  |  0.26618455  | -0.22543289  |  0.11872587  | -0.24701341  | -0.039325153 |  0.08492887  |  0.076004329 |  0.17360331  |  0.1464043   | -0.008890494 |\n",
       "| x3 | -0.07906199  | -0.05547869  | -0.22992265  | -0.1924384   | -0.15223526  | -0.2466982   | -0.02146200  |  0.03310963  |  0.003534256 |  0.29608352  |  0.13078615  |  0.14082882  | -0.04954815  |  0.08756919  | -0.047650826 |  0.35010076  |  0.332080515 |  0.08712846  | -0.2106686   | -0.176056498 |\n",
       "| x4 | -0.32860966  | -0.12602918  |  0.02826274  |  0.4354397   | -0.25343009  | -0.1061291   |  0.04918745  | -0.10886383  |  0.009998440 | -0.03430949  |  0.52999364  |  0.28147160  | -0.03339849  | -0.26548673  |  0.087185780 | -0.47548982  | -0.007668038 | -0.08092103  |  0.2486580   |  0.150138033 |\n",
       "\n"
      ],
      "text/plain": [
       "   [,1]        [,2]        [,3]        [,4]       [,5]        [,6]      \n",
       "    0.54521830  0.20608534  0.02861467 -0.1453928  0.18122333  0.2752783\n",
       "x1 -0.35523150 -0.33288356  0.08855862  0.5258098  0.06504086 -0.2652542\n",
       "x2 -0.22000592  0.12700380  0.10869601 -0.2337417  0.02236691  0.0936925\n",
       "x3 -0.07906199 -0.05547869 -0.22992265 -0.1924384 -0.15223526 -0.2466982\n",
       "x4 -0.32860966 -0.12602918  0.02826274  0.4354397 -0.25343009 -0.1061291\n",
       "   [,7]        [,8]        [,9]         [,10]       [,11]       [,12]      \n",
       "    0.02940343  0.15486106  0.277186976  0.06188319 -0.44043827 -0.01565298\n",
       "x1 -0.43959314 -0.20728316 -0.023536777  0.11644749  0.05710449  0.06515461\n",
       "x2  0.33466766  0.04008633 -0.332231928 -0.28572295  0.26618455 -0.22543289\n",
       "x3 -0.02146200  0.03310963  0.003534256  0.29608352  0.13078615  0.14082882\n",
       "x4  0.04918745 -0.10886383  0.009998440 -0.03430949  0.52999364  0.28147160\n",
       "   [,13]       [,14]       [,15]        [,16]       [,17]        [,18]      \n",
       "   -0.04916778  0.15610626 -0.001420645  0.05326053 -0.300127546 -0.01349965\n",
       "x1  0.11731759  0.26924584  0.128991201 -0.04093673  0.307427449 -0.11979864\n",
       "x2  0.11872587 -0.24701341 -0.039325153  0.08492887  0.076004329  0.17360331\n",
       "x3 -0.04954815  0.08756919 -0.047650826  0.35010076  0.332080515  0.08712846\n",
       "x4 -0.03339849 -0.26548673  0.087185780 -0.47548982 -0.007668038 -0.08092103\n",
       "   [,19]      [,20]       \n",
       "   -0.1339410  0.130519291\n",
       "x1  0.1606940 -0.117274346\n",
       "x2  0.1464043 -0.008890494\n",
       "x3 -0.2106686 -0.176056498\n",
       "x4  0.2486580  0.150138033"
      ]
     },
     "metadata": {},
     "output_type": "display_data"
    }
   ],
   "source": [
    "W <- invX_X %*% trX\n",
    "W"
   ]
  },
  {
   "cell_type": "code",
   "execution_count": 238,
   "id": "fcec8c42",
   "metadata": {},
   "outputs": [
    {
     "data": {
      "text/html": [
       "<table>\n",
       "<tbody>\n",
       "\t<tr><th scope=row></th><td>20.825526</td></tr>\n",
       "\t<tr><th scope=row>x1</th><td> 4.890070</td></tr>\n",
       "\t<tr><th scope=row>x2</th><td> 9.502416</td></tr>\n",
       "\t<tr><th scope=row>x3</th><td> 5.746661</td></tr>\n",
       "\t<tr><th scope=row>x4</th><td> 2.464955</td></tr>\n",
       "</tbody>\n",
       "</table>\n"
      ],
      "text/latex": [
       "\\begin{tabular}{r|l}\n",
       "\t & 20.825526\\\\\n",
       "\tx1 &  4.890070\\\\\n",
       "\tx2 &  9.502416\\\\\n",
       "\tx3 &  5.746661\\\\\n",
       "\tx4 &  2.464955\\\\\n",
       "\\end{tabular}\n"
      ],
      "text/markdown": [
       "\n",
       "|  | 20.825526 |\n",
       "| x1 |  4.890070 |\n",
       "| x2 |  9.502416 |\n",
       "| x3 |  5.746661 |\n",
       "| x4 |  2.464955 |\n",
       "\n"
      ],
      "text/plain": [
       "   [,1]     \n",
       "   20.825526\n",
       "x1  4.890070\n",
       "x2  9.502416\n",
       "x3  5.746661\n",
       "x4  2.464955"
      ]
     },
     "metadata": {},
     "output_type": "display_data"
    }
   ],
   "source": [
    "Z_betas <- W %*% Y\n",
    "Z_betas"
   ]
  },
  {
   "cell_type": "code",
   "execution_count": 172,
   "id": "f00fa0f5",
   "metadata": {},
   "outputs": [
    {
     "data": {
      "text/html": [
       "<table>\n",
       "<tbody>\n",
       "\t<tr><th scope=row></th><td>20.825526</td></tr>\n",
       "\t<tr><th scope=row>x1</th><td> 4.890070</td></tr>\n",
       "\t<tr><th scope=row>x2</th><td> 9.502416</td></tr>\n",
       "\t<tr><th scope=row>x3</th><td> 5.746661</td></tr>\n",
       "\t<tr><th scope=row>x4</th><td> 2.464955</td></tr>\n",
       "</tbody>\n",
       "</table>\n"
      ],
      "text/latex": [
       "\\begin{tabular}{r|l}\n",
       "\t & 20.825526\\\\\n",
       "\tx1 &  4.890070\\\\\n",
       "\tx2 &  9.502416\\\\\n",
       "\tx3 &  5.746661\\\\\n",
       "\tx4 &  2.464955\\\\\n",
       "\\end{tabular}\n"
      ],
      "text/markdown": [
       "\n",
       "|  | 20.825526 |\n",
       "| x1 |  4.890070 |\n",
       "| x2 |  9.502416 |\n",
       "| x3 |  5.746661 |\n",
       "| x4 |  2.464955 |\n",
       "\n"
      ],
      "text/plain": [
       "   [,1]     \n",
       "   20.825526\n",
       "x1  4.890070\n",
       "x2  9.502416\n",
       "x3  5.746661\n",
       "x4  2.464955"
      ]
     },
     "metadata": {},
     "output_type": "display_data"
    }
   ],
   "source": [
    "#Procedimiento directo\n",
    "Betas <- solve(trX %*% X) %*% (trX %*% Y)\n",
    "Betas"
   ]
  },
  {
   "cell_type": "code",
   "execution_count": 176,
   "id": "059c5ff0",
   "metadata": {},
   "outputs": [
    {
     "data": {
      "text/html": [
       "<table>\n",
       "<tbody>\n",
       "\t<tr><td>25.53325</td></tr>\n",
       "\t<tr><td>32.15524</td></tr>\n",
       "\t<tr><td>33.93826</td></tr>\n",
       "\t<tr><td>31.51435</td></tr>\n",
       "\t<tr><td>33.14724</td></tr>\n",
       "\t<tr><td>30.39417</td></tr>\n",
       "\t<tr><td>35.13156</td></tr>\n",
       "\t<tr><td>32.49330</td></tr>\n",
       "\t<tr><td>26.88855</td></tr>\n",
       "\t<tr><td>31.76156</td></tr>\n",
       "\t<tr><td>39.29556</td></tr>\n",
       "\t<tr><td>30.63388</td></tr>\n",
       "\t<tr><td>36.10503</td></tr>\n",
       "\t<tr><td>32.24377</td></tr>\n",
       "\t<tr><td>33.16726</td></tr>\n",
       "\t<tr><td>38.16309</td></tr>\n",
       "\t<tr><td>40.52225</td></tr>\n",
       "\t<tr><td>36.23522</td></tr>\n",
       "\t<tr><td>35.23082</td></tr>\n",
       "\t<tr><td>30.21661</td></tr>\n",
       "</tbody>\n",
       "</table>\n"
      ],
      "text/latex": [
       "\\begin{tabular}{l}\n",
       "\t 25.53325\\\\\n",
       "\t 32.15524\\\\\n",
       "\t 33.93826\\\\\n",
       "\t 31.51435\\\\\n",
       "\t 33.14724\\\\\n",
       "\t 30.39417\\\\\n",
       "\t 35.13156\\\\\n",
       "\t 32.49330\\\\\n",
       "\t 26.88855\\\\\n",
       "\t 31.76156\\\\\n",
       "\t 39.29556\\\\\n",
       "\t 30.63388\\\\\n",
       "\t 36.10503\\\\\n",
       "\t 32.24377\\\\\n",
       "\t 33.16726\\\\\n",
       "\t 38.16309\\\\\n",
       "\t 40.52225\\\\\n",
       "\t 36.23522\\\\\n",
       "\t 35.23082\\\\\n",
       "\t 30.21661\\\\\n",
       "\\end{tabular}\n"
      ],
      "text/markdown": [
       "\n",
       "| 25.53325 |\n",
       "| 32.15524 |\n",
       "| 33.93826 |\n",
       "| 31.51435 |\n",
       "| 33.14724 |\n",
       "| 30.39417 |\n",
       "| 35.13156 |\n",
       "| 32.49330 |\n",
       "| 26.88855 |\n",
       "| 31.76156 |\n",
       "| 39.29556 |\n",
       "| 30.63388 |\n",
       "| 36.10503 |\n",
       "| 32.24377 |\n",
       "| 33.16726 |\n",
       "| 38.16309 |\n",
       "| 40.52225 |\n",
       "| 36.23522 |\n",
       "| 35.23082 |\n",
       "| 30.21661 |\n",
       "\n"
      ],
      "text/plain": [
       "      [,1]    \n",
       " [1,] 25.53325\n",
       " [2,] 32.15524\n",
       " [3,] 33.93826\n",
       " [4,] 31.51435\n",
       " [5,] 33.14724\n",
       " [6,] 30.39417\n",
       " [7,] 35.13156\n",
       " [8,] 32.49330\n",
       " [9,] 26.88855\n",
       "[10,] 31.76156\n",
       "[11,] 39.29556\n",
       "[12,] 30.63388\n",
       "[13,] 36.10503\n",
       "[14,] 32.24377\n",
       "[15,] 33.16726\n",
       "[16,] 38.16309\n",
       "[17,] 40.52225\n",
       "[18,] 36.23522\n",
       "[19,] 35.23082\n",
       "[20,] 30.21661"
      ]
     },
     "metadata": {},
     "output_type": "display_data"
    }
   ],
   "source": [
    "#Tomando en cuenta el modelo estimado (Y_hat=X*beta)\n",
    "Y_hat <- X %*% Betas\n",
    "Y_hat"
   ]
  },
  {
   "cell_type": "code",
   "execution_count": 177,
   "id": "e68ed03e",
   "metadata": {},
   "outputs": [
    {
     "data": {
      "text/html": [
       "<table>\n",
       "<tbody>\n",
       "\t<tr><td>-0.39638465</td></tr>\n",
       "\t<tr><td>-0.03743493</td></tr>\n",
       "\t<tr><td>-1.01424158</td></tr>\n",
       "\t<tr><td> 0.12133750</td></tr>\n",
       "\t<tr><td> 0.97316236</td></tr>\n",
       "\t<tr><td>-0.49745811</td></tr>\n",
       "\t<tr><td>-0.08224430</td></tr>\n",
       "\t<tr><td> 0.43408206</td></tr>\n",
       "\t<tr><td>-1.01785433</td></tr>\n",
       "\t<tr><td> 0.54891097</td></tr>\n",
       "\t<tr><td>-0.23637322</td></tr>\n",
       "\t<tr><td> 0.33603583</td></tr>\n",
       "\t<tr><td>-0.07337798</td></tr>\n",
       "\t<tr><td> 0.13377560</td></tr>\n",
       "\t<tr><td> 0.30767764</td></tr>\n",
       "\t<tr><td>-0.27007406</td></tr>\n",
       "\t<tr><td>-0.89139998</td></tr>\n",
       "\t<tr><td> 1.05135584</td></tr>\n",
       "\t<tr><td> 0.10248459</td></tr>\n",
       "\t<tr><td> 0.50802075</td></tr>\n",
       "</tbody>\n",
       "</table>\n"
      ],
      "text/latex": [
       "\\begin{tabular}{l}\n",
       "\t -0.39638465\\\\\n",
       "\t -0.03743493\\\\\n",
       "\t -1.01424158\\\\\n",
       "\t  0.12133750\\\\\n",
       "\t  0.97316236\\\\\n",
       "\t -0.49745811\\\\\n",
       "\t -0.08224430\\\\\n",
       "\t  0.43408206\\\\\n",
       "\t -1.01785433\\\\\n",
       "\t  0.54891097\\\\\n",
       "\t -0.23637322\\\\\n",
       "\t  0.33603583\\\\\n",
       "\t -0.07337798\\\\\n",
       "\t  0.13377560\\\\\n",
       "\t  0.30767764\\\\\n",
       "\t -0.27007406\\\\\n",
       "\t -0.89139998\\\\\n",
       "\t  1.05135584\\\\\n",
       "\t  0.10248459\\\\\n",
       "\t  0.50802075\\\\\n",
       "\\end{tabular}\n"
      ],
      "text/markdown": [
       "\n",
       "| -0.39638465 |\n",
       "| -0.03743493 |\n",
       "| -1.01424158 |\n",
       "|  0.12133750 |\n",
       "|  0.97316236 |\n",
       "| -0.49745811 |\n",
       "| -0.08224430 |\n",
       "|  0.43408206 |\n",
       "| -1.01785433 |\n",
       "|  0.54891097 |\n",
       "| -0.23637322 |\n",
       "|  0.33603583 |\n",
       "| -0.07337798 |\n",
       "|  0.13377560 |\n",
       "|  0.30767764 |\n",
       "| -0.27007406 |\n",
       "| -0.89139998 |\n",
       "|  1.05135584 |\n",
       "|  0.10248459 |\n",
       "|  0.50802075 |\n",
       "\n"
      ],
      "text/plain": [
       "      [,1]       \n",
       " [1,] -0.39638465\n",
       " [2,] -0.03743493\n",
       " [3,] -1.01424158\n",
       " [4,]  0.12133750\n",
       " [5,]  0.97316236\n",
       " [6,] -0.49745811\n",
       " [7,] -0.08224430\n",
       " [8,]  0.43408206\n",
       " [9,] -1.01785433\n",
       "[10,]  0.54891097\n",
       "[11,] -0.23637322\n",
       "[12,]  0.33603583\n",
       "[13,] -0.07337798\n",
       "[14,]  0.13377560\n",
       "[15,]  0.30767764\n",
       "[16,] -0.27007406\n",
       "[17,] -0.89139998\n",
       "[18,]  1.05135584\n",
       "[19,]  0.10248459\n",
       "[20,]  0.50802075"
      ]
     },
     "metadata": {},
     "output_type": "display_data"
    }
   ],
   "source": [
    "#Para hallar la SRC (tr_e_hat*e_hat). Primero se halla e_hat (e_hat = Y - Y_hat) y su traspuesta\n",
    "\n",
    "e_hat <- Y - Y_hat\n",
    "e_hat"
   ]
  },
  {
   "cell_type": "code",
   "execution_count": 239,
   "id": "f68cb043",
   "metadata": {},
   "outputs": [
    {
     "data": {
      "text/html": [
       "<table>\n",
       "<tbody>\n",
       "\t<tr><td>-0.3963846 </td><td>-0.03743493</td><td>-1.014242  </td><td>0.1213375  </td><td>0.9731624  </td><td>-0.4974581 </td><td>-0.0822443 </td><td>0.4340821  </td><td>-1.017854  </td><td>0.548911   </td><td>-0.2363732 </td><td>0.3360358  </td><td>-0.07337798</td><td>0.1337756  </td><td>0.3076776  </td><td>-0.2700741 </td><td>-0.8914    </td><td>1.051356   </td><td>0.1024846  </td><td>0.5080207  </td></tr>\n",
       "</tbody>\n",
       "</table>\n"
      ],
      "text/latex": [
       "\\begin{tabular}{llllllllllllllllllll}\n",
       "\t -0.3963846  & -0.03743493 & -1.014242   & 0.1213375   & 0.9731624   & -0.4974581  & -0.0822443  & 0.4340821   & -1.017854   & 0.548911    & -0.2363732  & 0.3360358   & -0.07337798 & 0.1337756   & 0.3076776   & -0.2700741  & -0.8914     & 1.051356    & 0.1024846   & 0.5080207  \\\\\n",
       "\\end{tabular}\n"
      ],
      "text/markdown": [
       "\n",
       "| -0.3963846  | -0.03743493 | -1.014242   | 0.1213375   | 0.9731624   | -0.4974581  | -0.0822443  | 0.4340821   | -1.017854   | 0.548911    | -0.2363732  | 0.3360358   | -0.07337798 | 0.1337756   | 0.3076776   | -0.2700741  | -0.8914     | 1.051356    | 0.1024846   | 0.5080207   |\n",
       "\n"
      ],
      "text/plain": [
       "     [,1]       [,2]        [,3]      [,4]      [,5]      [,6]       [,7]      \n",
       "[1,] -0.3963846 -0.03743493 -1.014242 0.1213375 0.9731624 -0.4974581 -0.0822443\n",
       "     [,8]      [,9]      [,10]    [,11]      [,12]     [,13]       [,14]    \n",
       "[1,] 0.4340821 -1.017854 0.548911 -0.2363732 0.3360358 -0.07337798 0.1337756\n",
       "     [,15]     [,16]      [,17]   [,18]    [,19]     [,20]    \n",
       "[1,] 0.3076776 -0.2700741 -0.8914 1.051356 0.1024846 0.5080207"
      ]
     },
     "metadata": {},
     "output_type": "display_data"
    }
   ],
   "source": [
    "#Sacando la traspuesta de e_hat\n",
    "\n",
    "tr_e_hat <- (t(e_hat))\n",
    "tr_e_hat"
   ]
  },
  {
   "cell_type": "code",
   "execution_count": 240,
   "id": "3e379dd0",
   "metadata": {},
   "outputs": [
    {
     "data": {
      "text/html": [
       "<table>\n",
       "<tbody>\n",
       "\t<tr><td>6.457172</td></tr>\n",
       "</tbody>\n",
       "</table>\n"
      ],
      "text/latex": [
       "\\begin{tabular}{l}\n",
       "\t 6.457172\\\\\n",
       "\\end{tabular}\n"
      ],
      "text/markdown": [
       "\n",
       "| 6.457172 |\n",
       "\n"
      ],
      "text/plain": [
       "     [,1]    \n",
       "[1,] 6.457172"
      ]
     },
     "metadata": {},
     "output_type": "display_data"
    }
   ],
   "source": [
    "#Hallando la SRC ((e_hat)'*e_hat)\n",
    "\n",
    "SRC <- tr_e_hat %*%  e_hat\n",
    "SRC"
   ]
  },
  {
   "cell_type": "code",
   "execution_count": 241,
   "id": "e41a4cd5",
   "metadata": {},
   "outputs": [
    {
     "data": {
      "text/html": [
       "<table>\n",
       "<tbody>\n",
       "\t<tr><td>0.4304781</td></tr>\n",
       "</tbody>\n",
       "</table>\n"
      ],
      "text/latex": [
       "\\begin{tabular}{l}\n",
       "\t 0.4304781\\\\\n",
       "\\end{tabular}\n"
      ],
      "text/markdown": [
       "\n",
       "| 0.4304781 |\n",
       "\n"
      ],
      "text/plain": [
       "     [,1]     \n",
       "[1,] 0.4304781"
      ]
     },
     "metadata": {},
     "output_type": "display_data"
    }
   ],
   "source": [
    "#Hallando la SD, teniendo en cuenta que se tiene 20 observaciones con k=5 (4 variables explicativas y la constante). Entonces, n-k=20-5=15\n",
    "SD <- SRC/15\n",
    "SD"
   ]
  },
  {
   "cell_type": "markdown",
   "id": "1f85e652",
   "metadata": {},
   "source": [
    "8- matriz de varianza y covarianza de los coeficientes"
   ]
  },
  {
   "cell_type": "code",
   "execution_count": 235,
   "id": "b2ac1166",
   "metadata": {},
   "outputs": [
    {
     "data": {
      "text/html": [
       "<table>\n",
       "<thead><tr><th></th><th scope=col></th><th scope=col>x1</th><th scope=col>x2</th><th scope=col>x3</th><th scope=col>x4</th></tr></thead>\n",
       "<tbody>\n",
       "\t<tr><th scope=row></th><td> 0.39815400</td><td>-0.24172351</td><td>-0.13775900</td><td>-0.09704331</td><td>-0.28882773</td></tr>\n",
       "\t<tr><th scope=row>x1</th><td>-0.24172351</td><td> 0.47643100</td><td>-0.13566818</td><td> 0.04730316</td><td> 0.18602283</td></tr>\n",
       "\t<tr><th scope=row>x2</th><td>-0.13775900</td><td>-0.13566818</td><td> 0.30514838</td><td>-0.02994458</td><td> 0.03289385</td></tr>\n",
       "\t<tr><th scope=row>x3</th><td>-0.09704331</td><td> 0.04730316</td><td>-0.02994458</td><td> 0.27449192</td><td>-0.07706331</td></tr>\n",
       "\t<tr><th scope=row>x4</th><td>-0.28882773</td><td> 0.18602283</td><td> 0.03289385</td><td>-0.07706331</td><td> 0.50008711</td></tr>\n",
       "</tbody>\n",
       "</table>\n"
      ],
      "text/latex": [
       "\\begin{tabular}{r|lllll}\n",
       "  &  & x1 & x2 & x3 & x4\\\\\n",
       "\\hline\n",
       "\t &  0.39815400 & -0.24172351 & -0.13775900 & -0.09704331 & -0.28882773\\\\\n",
       "\tx1 & -0.24172351 &  0.47643100 & -0.13566818 &  0.04730316 &  0.18602283\\\\\n",
       "\tx2 & -0.13775900 & -0.13566818 &  0.30514838 & -0.02994458 &  0.03289385\\\\\n",
       "\tx3 & -0.09704331 &  0.04730316 & -0.02994458 &  0.27449192 & -0.07706331\\\\\n",
       "\tx4 & -0.28882773 &  0.18602283 &  0.03289385 & -0.07706331 &  0.50008711\\\\\n",
       "\\end{tabular}\n"
      ],
      "text/markdown": [
       "\n",
       "| <!--/--> |  | x1 | x2 | x3 | x4 |\n",
       "|---|---|---|---|---|---|\n",
       "|  |  0.39815400 | -0.24172351 | -0.13775900 | -0.09704331 | -0.28882773 |\n",
       "| x1 | -0.24172351 |  0.47643100 | -0.13566818 |  0.04730316 |  0.18602283 |\n",
       "| x2 | -0.13775900 | -0.13566818 |  0.30514838 | -0.02994458 |  0.03289385 |\n",
       "| x3 | -0.09704331 |  0.04730316 | -0.02994458 |  0.27449192 | -0.07706331 |\n",
       "| x4 | -0.28882773 |  0.18602283 |  0.03289385 | -0.07706331 |  0.50008711 |\n",
       "\n"
      ],
      "text/plain": [
       "               x1          x2          x3          x4         \n",
       "    0.39815400 -0.24172351 -0.13775900 -0.09704331 -0.28882773\n",
       "x1 -0.24172351  0.47643100 -0.13566818  0.04730316  0.18602283\n",
       "x2 -0.13775900 -0.13566818  0.30514838 -0.02994458  0.03289385\n",
       "x3 -0.09704331  0.04730316 -0.02994458  0.27449192 -0.07706331\n",
       "x4 -0.28882773  0.18602283  0.03289385 -0.07706331  0.50008711"
      ]
     },
     "metadata": {},
     "output_type": "display_data"
    }
   ],
   "source": [
    "#Para hallar la matriz de varianza y covarianza de los betas, se necesita: V(betas)=SD*[(X'*X)^-1]= SD*invX_X\n",
    "\n",
    "Varianza_betas <- 0.4304781 * invX_X\n",
    "\n",
    "Varianza_betas"
   ]
  },
  {
   "cell_type": "markdown",
   "id": "f241a79f",
   "metadata": {},
   "source": [
    "# Matriz generadora de residuos \n",
    "\n",
    "\\begin{equation}\n",
    " M = I - X(X'X)^{-1}X'\n",
    "\\end{equation}"
   ]
  },
  {
   "cell_type": "markdown",
   "id": "d99415ab",
   "metadata": {},
   "source": [
    "9 - Matriz generador de residuos"
   ]
  },
  {
   "cell_type": "code",
   "execution_count": 193,
   "id": "14124471",
   "metadata": {},
   "outputs": [
    {
     "data": {
      "text/html": [
       "<table>\n",
       "<thead><tr><th scope=col></th><th scope=col>x1</th><th scope=col>x2</th><th scope=col>x3</th><th scope=col>x4</th></tr></thead>\n",
       "<tbody>\n",
       "\t<tr><td> 0.545218300</td><td>-0.35523150 </td><td>-0.220005921</td><td>-0.079061987</td><td>-0.328609658</td></tr>\n",
       "\t<tr><td> 0.206085337</td><td>-0.33288356 </td><td> 0.127003805</td><td>-0.055478686</td><td>-0.126029176</td></tr>\n",
       "\t<tr><td> 0.028614669</td><td> 0.08855862 </td><td> 0.108696006</td><td>-0.229922649</td><td> 0.028262740</td></tr>\n",
       "\t<tr><td>-0.145392766</td><td> 0.52580982 </td><td>-0.233741727</td><td>-0.192438438</td><td> 0.435439732</td></tr>\n",
       "\t<tr><td> 0.181223330</td><td> 0.06504086 </td><td> 0.022366915</td><td>-0.152235259</td><td>-0.253430094</td></tr>\n",
       "\t<tr><td> 0.275278255</td><td>-0.26525415 </td><td> 0.093692496</td><td>-0.246698203</td><td>-0.106129117</td></tr>\n",
       "\t<tr><td> 0.029403431</td><td>-0.43959314 </td><td> 0.334667661</td><td>-0.021461996</td><td> 0.049187453</td></tr>\n",
       "\t<tr><td> 0.154861056</td><td>-0.20728316 </td><td> 0.040086331</td><td> 0.033109630</td><td>-0.108863828</td></tr>\n",
       "\t<tr><td> 0.277186976</td><td>-0.02353678 </td><td>-0.332231928</td><td> 0.003534256</td><td> 0.009998440</td></tr>\n",
       "\t<tr><td> 0.061883188</td><td> 0.11644749 </td><td>-0.285722946</td><td> 0.296083524</td><td>-0.034309492</td></tr>\n",
       "\t<tr><td>-0.440438272</td><td> 0.05710449 </td><td> 0.266184554</td><td> 0.130786146</td><td> 0.529993640</td></tr>\n",
       "\t<tr><td>-0.015652982</td><td> 0.06515461 </td><td>-0.225432888</td><td> 0.140828818</td><td> 0.281471602</td></tr>\n",
       "\t<tr><td>-0.049167784</td><td> 0.11731759 </td><td> 0.118725866</td><td>-0.049548149</td><td>-0.033398494</td></tr>\n",
       "\t<tr><td> 0.156106257</td><td> 0.26924584 </td><td>-0.247013412</td><td> 0.087569192</td><td>-0.265486726</td></tr>\n",
       "\t<tr><td>-0.001420645</td><td> 0.12899120 </td><td>-0.039325153</td><td>-0.047650826</td><td> 0.087185780</td></tr>\n",
       "\t<tr><td> 0.053260531</td><td>-0.04093673 </td><td> 0.084928872</td><td> 0.350100759</td><td>-0.475489817</td></tr>\n",
       "\t<tr><td>-0.300127546</td><td> 0.30742745 </td><td> 0.076004329</td><td> 0.332080515</td><td>-0.007668038</td></tr>\n",
       "\t<tr><td>-0.013499654</td><td>-0.11979864 </td><td> 0.173603311</td><td> 0.087128457</td><td>-0.080921028</td></tr>\n",
       "\t<tr><td>-0.133940971</td><td> 0.16069404 </td><td> 0.146404324</td><td>-0.210668606</td><td> 0.248658048</td></tr>\n",
       "\t<tr><td> 0.130519291</td><td>-0.11727435 </td><td>-0.008890494</td><td>-0.176056498</td><td> 0.150138033</td></tr>\n",
       "</tbody>\n",
       "</table>\n"
      ],
      "text/latex": [
       "\\begin{tabular}{lllll}\n",
       "  & x1 & x2 & x3 & x4\\\\\n",
       "\\hline\n",
       "\t  0.545218300 & -0.35523150  & -0.220005921 & -0.079061987 & -0.328609658\\\\\n",
       "\t  0.206085337 & -0.33288356  &  0.127003805 & -0.055478686 & -0.126029176\\\\\n",
       "\t  0.028614669 &  0.08855862  &  0.108696006 & -0.229922649 &  0.028262740\\\\\n",
       "\t -0.145392766 &  0.52580982  & -0.233741727 & -0.192438438 &  0.435439732\\\\\n",
       "\t  0.181223330 &  0.06504086  &  0.022366915 & -0.152235259 & -0.253430094\\\\\n",
       "\t  0.275278255 & -0.26525415  &  0.093692496 & -0.246698203 & -0.106129117\\\\\n",
       "\t  0.029403431 & -0.43959314  &  0.334667661 & -0.021461996 &  0.049187453\\\\\n",
       "\t  0.154861056 & -0.20728316  &  0.040086331 &  0.033109630 & -0.108863828\\\\\n",
       "\t  0.277186976 & -0.02353678  & -0.332231928 &  0.003534256 &  0.009998440\\\\\n",
       "\t  0.061883188 &  0.11644749  & -0.285722946 &  0.296083524 & -0.034309492\\\\\n",
       "\t -0.440438272 &  0.05710449  &  0.266184554 &  0.130786146 &  0.529993640\\\\\n",
       "\t -0.015652982 &  0.06515461  & -0.225432888 &  0.140828818 &  0.281471602\\\\\n",
       "\t -0.049167784 &  0.11731759  &  0.118725866 & -0.049548149 & -0.033398494\\\\\n",
       "\t  0.156106257 &  0.26924584  & -0.247013412 &  0.087569192 & -0.265486726\\\\\n",
       "\t -0.001420645 &  0.12899120  & -0.039325153 & -0.047650826 &  0.087185780\\\\\n",
       "\t  0.053260531 & -0.04093673  &  0.084928872 &  0.350100759 & -0.475489817\\\\\n",
       "\t -0.300127546 &  0.30742745  &  0.076004329 &  0.332080515 & -0.007668038\\\\\n",
       "\t -0.013499654 & -0.11979864  &  0.173603311 &  0.087128457 & -0.080921028\\\\\n",
       "\t -0.133940971 &  0.16069404  &  0.146404324 & -0.210668606 &  0.248658048\\\\\n",
       "\t  0.130519291 & -0.11727435  & -0.008890494 & -0.176056498 &  0.150138033\\\\\n",
       "\\end{tabular}\n"
      ],
      "text/markdown": [
       "\n",
       "|  | x1 | x2 | x3 | x4 |\n",
       "|---|---|---|---|---|\n",
       "|  0.545218300 | -0.35523150  | -0.220005921 | -0.079061987 | -0.328609658 |\n",
       "|  0.206085337 | -0.33288356  |  0.127003805 | -0.055478686 | -0.126029176 |\n",
       "|  0.028614669 |  0.08855862  |  0.108696006 | -0.229922649 |  0.028262740 |\n",
       "| -0.145392766 |  0.52580982  | -0.233741727 | -0.192438438 |  0.435439732 |\n",
       "|  0.181223330 |  0.06504086  |  0.022366915 | -0.152235259 | -0.253430094 |\n",
       "|  0.275278255 | -0.26525415  |  0.093692496 | -0.246698203 | -0.106129117 |\n",
       "|  0.029403431 | -0.43959314  |  0.334667661 | -0.021461996 |  0.049187453 |\n",
       "|  0.154861056 | -0.20728316  |  0.040086331 |  0.033109630 | -0.108863828 |\n",
       "|  0.277186976 | -0.02353678  | -0.332231928 |  0.003534256 |  0.009998440 |\n",
       "|  0.061883188 |  0.11644749  | -0.285722946 |  0.296083524 | -0.034309492 |\n",
       "| -0.440438272 |  0.05710449  |  0.266184554 |  0.130786146 |  0.529993640 |\n",
       "| -0.015652982 |  0.06515461  | -0.225432888 |  0.140828818 |  0.281471602 |\n",
       "| -0.049167784 |  0.11731759  |  0.118725866 | -0.049548149 | -0.033398494 |\n",
       "|  0.156106257 |  0.26924584  | -0.247013412 |  0.087569192 | -0.265486726 |\n",
       "| -0.001420645 |  0.12899120  | -0.039325153 | -0.047650826 |  0.087185780 |\n",
       "|  0.053260531 | -0.04093673  |  0.084928872 |  0.350100759 | -0.475489817 |\n",
       "| -0.300127546 |  0.30742745  |  0.076004329 |  0.332080515 | -0.007668038 |\n",
       "| -0.013499654 | -0.11979864  |  0.173603311 |  0.087128457 | -0.080921028 |\n",
       "| -0.133940971 |  0.16069404  |  0.146404324 | -0.210668606 |  0.248658048 |\n",
       "|  0.130519291 | -0.11727435  | -0.008890494 | -0.176056498 |  0.150138033 |\n",
       "\n"
      ],
      "text/plain": [
       "                   x1          x2           x3           x4          \n",
       " [1,]  0.545218300 -0.35523150 -0.220005921 -0.079061987 -0.328609658\n",
       " [2,]  0.206085337 -0.33288356  0.127003805 -0.055478686 -0.126029176\n",
       " [3,]  0.028614669  0.08855862  0.108696006 -0.229922649  0.028262740\n",
       " [4,] -0.145392766  0.52580982 -0.233741727 -0.192438438  0.435439732\n",
       " [5,]  0.181223330  0.06504086  0.022366915 -0.152235259 -0.253430094\n",
       " [6,]  0.275278255 -0.26525415  0.093692496 -0.246698203 -0.106129117\n",
       " [7,]  0.029403431 -0.43959314  0.334667661 -0.021461996  0.049187453\n",
       " [8,]  0.154861056 -0.20728316  0.040086331  0.033109630 -0.108863828\n",
       " [9,]  0.277186976 -0.02353678 -0.332231928  0.003534256  0.009998440\n",
       "[10,]  0.061883188  0.11644749 -0.285722946  0.296083524 -0.034309492\n",
       "[11,] -0.440438272  0.05710449  0.266184554  0.130786146  0.529993640\n",
       "[12,] -0.015652982  0.06515461 -0.225432888  0.140828818  0.281471602\n",
       "[13,] -0.049167784  0.11731759  0.118725866 -0.049548149 -0.033398494\n",
       "[14,]  0.156106257  0.26924584 -0.247013412  0.087569192 -0.265486726\n",
       "[15,] -0.001420645  0.12899120 -0.039325153 -0.047650826  0.087185780\n",
       "[16,]  0.053260531 -0.04093673  0.084928872  0.350100759 -0.475489817\n",
       "[17,] -0.300127546  0.30742745  0.076004329  0.332080515 -0.007668038\n",
       "[18,] -0.013499654 -0.11979864  0.173603311  0.087128457 -0.080921028\n",
       "[19,] -0.133940971  0.16069404  0.146404324 -0.210668606  0.248658048\n",
       "[20,]  0.130519291 -0.11727435 -0.008890494 -0.176056498  0.150138033"
      ]
     },
     "metadata": {},
     "output_type": "display_data"
    }
   ],
   "source": [
    "#Operando primero las matrices: X(X'X)^{-1} = X*invX_X\n",
    "\n",
    "G <- X %*% invX_X\n",
    "G"
   ]
  },
  {
   "cell_type": "code",
   "execution_count": 194,
   "id": "e7f04077",
   "metadata": {},
   "outputs": [
    {
     "data": {
      "text/html": [
       "<table>\n",
       "<tbody>\n",
       "\t<tr><td> 0.350644999 </td><td> 0.143888071 </td><td>-0.008474908 </td><td>-0.071490248 </td><td> 0.06708898  </td><td> 0.158365989 </td><td> 0.058104483 </td><td> 0.121529795 </td><td> 0.21942282  </td><td> 0.1046908038</td><td>-0.187723845 </td><td> 0.0783601628</td><td>-0.04300687  </td><td> 0.0843494489</td><td> 0.013948699 </td><td> 0.034119595 </td><td>-0.155766655 </td><td> 0.0105139715</td><td>-0.0858914972</td><td> 0.1073262038</td></tr>\n",
       "\t<tr><td> 0.143888071 </td><td> 0.152674196 </td><td> 0.039837649 </td><td>-0.107028926 </td><td> 0.04301009  </td><td> 0.139173010 </td><td> 0.189411484 </td><td> 0.109706389 </td><td> 0.03802855  </td><td>-0.0083898442</td><td> 0.035658586 </td><td> 0.0100307471</td><td> 0.02657921  </td><td>-0.0368641057</td><td> 0.012783675 </td><td> 0.060001389 </td><td>-0.042985557 </td><td> 0.0904318486</td><td> 0.0178901427</td><td> 0.0861634038</td></tr>\n",
       "\t<tr><td>-0.008474908 </td><td> 0.039837649 </td><td> 0.189835496 </td><td> 0.140501182 </td><td> 0.17256999  </td><td> 0.125734079 </td><td> 0.022774565 </td><td> 0.010554013 </td><td>-0.03784876  </td><td>-0.1081307243</td><td>-0.005593478 </td><td>-0.0881061350</td><td> 0.13292056  </td><td> 0.0602840263</td><td> 0.079575922 </td><td>-0.016225264 </td><td> 0.006141362 </td><td> 0.0372021341</td><td> 0.1760092124</td><td> 0.0704390760</td></tr>\n",
       "\t<tr><td>-0.071490248 </td><td>-0.107028926 </td><td> 0.140501182 </td><td> 0.446184175 </td><td> 0.06828822  </td><td>-0.007317903 </td><td>-0.167987731 </td><td>-0.067772029 </td><td> 0.11574856  </td><td> 0.0505441091</td><td> 0.075565501 </td><td> 0.1337856387</td><td> 0.07641353  </td><td> 0.1205531956</td><td> 0.139386138 </td><td>-0.196165619 </td><td> 0.033850971 </td><td>-0.0775912136</td><td> 0.1966817011</td><td> 0.0978507492</td></tr>\n",
       "\t<tr><td> 0.067088977 </td><td> 0.043010087 </td><td> 0.172569993 </td><td> 0.068288219 </td><td> 0.23378405  </td><td> 0.123352454 </td><td>-0.037044775 </td><td> 0.025116153 </td><td>-0.01948002  </td><td>-0.0639566123</td><td>-0.150059706 </td><td>-0.1360958744</td><td> 0.13832105  </td><td> 0.1619044566</td><td> 0.065625943 </td><td> 0.108255033 </td><td> 0.031318620 </td><td> 0.0424823581</td><td> 0.1050139472</td><td> 0.0205056455</td></tr>\n",
       "\t<tr><td> 0.158365989 </td><td> 0.139173010 </td><td> 0.125734079 </td><td>-0.007317903 </td><td> 0.12335245  </td><td> 0.198924267 </td><td> 0.133388761 </td><td> 0.081083549 </td><td> 0.03921284  </td><td>-0.0885177967</td><td>-0.049849633 </td><td>-0.0490999783</td><td> 0.05844191  </td><td>-0.0086394346</td><td> 0.038640415 </td><td>-0.029338370 </td><td>-0.121082984 </td><td> 0.0491085289</td><td> 0.0875677021</td><td> 0.1208525964</td></tr>\n",
       "\t<tr><td> 0.058104483 </td><td> 0.189411484 </td><td> 0.022774565 </td><td>-0.167987731 </td><td>-0.03704478  </td><td> 0.133388761 </td><td> 0.329231899 </td><td> 0.128070620 </td><td>-0.03246010  </td><td>-0.0489077956</td><td> 0.220282720 </td><td> 0.0308881769</td><td> 0.02395392  </td><td>-0.1692417425</td><td>-0.002193414 </td><td> 0.041460614 </td><td>-0.013808184 </td><td> 0.1425765794</td><td> 0.0490994669</td><td> 0.1024004509</td></tr>\n",
       "\t<tr><td> 0.121529795 </td><td> 0.109706389 </td><td> 0.010554013 </td><td>-0.067772029 </td><td> 0.02511615  </td><td> 0.081083549 </td><td> 0.128070620 </td><td> 0.093839728 </td><td> 0.06290501  </td><td> 0.0580870443</td><td> 0.040385375 </td><td> 0.0525742241</td><td> 0.01972920  </td><td> 0.0104770886</td><td> 0.020736950 </td><td> 0.087371369 </td><td> 0.014005446 </td><td> 0.0774347027</td><td>-0.0042922964</td><td> 0.0584576669</td></tr>\n",
       "\t<tr><td> 0.219422823 </td><td> 0.038028548 </td><td>-0.037848761 </td><td> 0.115748558 </td><td>-0.01948002  </td><td> 0.039212839 </td><td>-0.032460100 </td><td> 0.062905008 </td><td> 0.25413250  </td><td> 0.1924928883</td><td>-0.042537196 </td><td> 0.2111589733</td><td>-0.05544897  </td><td> 0.0933767995</td><td> 0.052627492 </td><td>-0.050016461 </td><td>-0.064485686 </td><td>-0.0325865581</td><td>-0.0459714540</td><td> 0.1017287654</td></tr>\n",
       "\t<tr><td> 0.104690804 </td><td>-0.008389844 </td><td>-0.108130724 </td><td> 0.050544109 </td><td>-0.06395661  </td><td>-0.088517797 </td><td>-0.048907796 </td><td> 0.058087044 </td><td> 0.19249289  </td><td> 0.2909319344</td><td> 0.051911410 </td><td> 0.2325122584</td><td>-0.03760741  </td><td> 0.1375025434</td><td> 0.040374632 </td><td> 0.131470941 </td><td> 0.141751032 </td><td> 0.0222566993</td><td>-0.0984163894</td><td>-0.0005997273</td></tr>\n",
       "\t<tr><td>-0.187723845 </td><td> 0.035658586 </td><td>-0.005593478 </td><td> 0.075565501 </td><td>-0.15005971  </td><td>-0.049849633 </td><td> 0.220282720 </td><td> 0.040385375 </td><td>-0.04253720  </td><td> 0.0519114104</td><td> 0.465787917 </td><td> 0.1834736571</td><td> 0.03482605  </td><td>-0.1640738269</td><td> 0.050997374 </td><td>-0.033079376 </td><td> 0.170634016 </td><td> 0.1087901449</td><td> 0.1250189740</td><td> 0.0695853363</td></tr>\n",
       "\t<tr><td> 0.078360163 </td><td> 0.010030747 </td><td>-0.088106135 </td><td> 0.133785639 </td><td>-0.13609587  </td><td>-0.049099978 </td><td> 0.030888177 </td><td> 0.052574224 </td><td> 0.21115897  </td><td> 0.2325122584</td><td> 0.183473657 </td><td> 0.3005682797</td><td>-0.06567440  </td><td> 0.0060121749</td><td> 0.053986902 </td><td>-0.060648883 </td><td> 0.042045794 </td><td>-0.0008924567</td><td>-0.0245796082</td><td> 0.0897003491</td></tr>\n",
       "\t<tr><td>-0.043006867 </td><td> 0.026579207 </td><td> 0.132920559 </td><td> 0.076413532 </td><td> 0.13832105  </td><td> 0.058441909 </td><td> 0.023953924 </td><td> 0.019729203 </td><td>-0.05544897  </td><td>-0.0376074070</td><td> 0.034826051 </td><td>-0.0656744030</td><td> 0.12881474  </td><td> 0.0832037921</td><td> 0.065128352 </td><td> 0.095437733 </td><td> 0.109776120 </td><td> 0.0699339683</td><td> 0.1232601248</td><td> 0.0149973747</td></tr>\n",
       "\t<tr><td> 0.084349449 </td><td>-0.036864106 </td><td> 0.060284026 </td><td> 0.120553196 </td><td> 0.16190446  </td><td>-0.008639435 </td><td>-0.169241742 </td><td> 0.010477089 </td><td> 0.09337680  </td><td> 0.1375025434</td><td>-0.164073827 </td><td> 0.0060121749</td><td> 0.08320379  </td><td> 0.2704690748</td><td> 0.071184038 </td><td> 0.175061212 </td><td> 0.131284225 </td><td> 0.0061038122</td><td> 0.0008433288</td><td>-0.0337901070</td></tr>\n",
       "\t<tr><td> 0.013948699 </td><td> 0.012783675 </td><td> 0.079575922 </td><td> 0.139386138 </td><td> 0.06562594  </td><td> 0.038640415 </td><td>-0.002193414 </td><td> 0.020736950 </td><td> 0.05262749  </td><td> 0.0403746324</td><td> 0.050997374 </td><td> 0.0539869023</td><td> 0.06512835  </td><td> 0.0711840382</td><td> 0.071279008 </td><td> 0.002783633 </td><td> 0.053358671 </td><td> 0.0241360761</td><td> 0.0898196424</td><td> 0.0558198493</td></tr>\n",
       "\t<tr><td> 0.034119595 </td><td> 0.060001389 </td><td>-0.016225264 </td><td>-0.196165619 </td><td> 0.10825503  </td><td>-0.029338370 </td><td> 0.041460614 </td><td> 0.087371369 </td><td>-0.05001646  </td><td> 0.1314709413</td><td>-0.033079376 </td><td>-0.0606488834</td><td> 0.09543773  </td><td> 0.1750612120</td><td> 0.002783633 </td><td> 0.419515440 </td><td> 0.269052323 </td><td> 0.1509301245</td><td>-0.0785083211</td><td>-0.1114771110</td></tr>\n",
       "\t<tr><td>-0.155766655 </td><td>-0.042985557 </td><td> 0.006141362 </td><td> 0.033850971 </td><td> 0.03131862  </td><td>-0.121082984 </td><td>-0.013808184 </td><td> 0.014005446 </td><td>-0.06448569  </td><td> 0.1417510319</td><td> 0.170634016 </td><td> 0.0420457944</td><td> 0.10977612  </td><td> 0.1312842247</td><td> 0.053358671 </td><td> 0.269052323 </td><td> 0.340862685 </td><td> 0.1110957873</td><td> 0.0336218350</td><td>-0.0906698225</td></tr>\n",
       "\t<tr><td> 0.010513971 </td><td> 0.090431849 </td><td> 0.037202134 </td><td>-0.077591214 </td><td> 0.04248236  </td><td> 0.049108529 </td><td> 0.142576579 </td><td> 0.077434703 </td><td>-0.03258656  </td><td> 0.0222566993</td><td> 0.108790145 </td><td>-0.0008924567</td><td> 0.06993397  </td><td> 0.0061038122</td><td> 0.024136076 </td><td> 0.150930124 </td><td> 0.111095787 </td><td> 0.1151030709</td><td> 0.0362798777</td><td> 0.0166905439</td></tr>\n",
       "\t<tr><td>-0.085891497 </td><td> 0.017890143 </td><td> 0.176009212 </td><td> 0.196681701 </td><td> 0.10501395  </td><td> 0.087567702 </td><td> 0.049099467 </td><td>-0.004292296 </td><td>-0.04597145  </td><td>-0.0984163894</td><td> 0.125018974 </td><td>-0.0245796082</td><td> 0.12326012  </td><td> 0.0008433288</td><td> 0.089819642 </td><td>-0.078508321 </td><td> 0.033621835 </td><td> 0.0362798777</td><td> 0.2099756947</td><td> 0.0865779165</td></tr>\n",
       "\t<tr><td> 0.107326204 </td><td> 0.086163404 </td><td> 0.070439076 </td><td> 0.097850749 </td><td> 0.02050565  </td><td> 0.120852596 </td><td> 0.102400451 </td><td> 0.058457667 </td><td> 0.10172877  </td><td>-0.0005997273</td><td> 0.069585336 </td><td> 0.0897003491</td><td> 0.01499737  </td><td>-0.0337901070</td><td> 0.055819849 </td><td>-0.111477111 </td><td>-0.090669823 </td><td> 0.0166905439</td><td> 0.0865779165</td><td> 0.1374408401</td></tr>\n",
       "</tbody>\n",
       "</table>\n"
      ],
      "text/latex": [
       "\\begin{tabular}{llllllllllllllllllll}\n",
       "\t  0.350644999  &  0.143888071  & -0.008474908  & -0.071490248  &  0.06708898   &  0.158365989  &  0.058104483  &  0.121529795  &  0.21942282   &  0.1046908038 & -0.187723845  &  0.0783601628 & -0.04300687   &  0.0843494489 &  0.013948699  &  0.034119595  & -0.155766655  &  0.0105139715 & -0.0858914972 &  0.1073262038\\\\\n",
       "\t  0.143888071  &  0.152674196  &  0.039837649  & -0.107028926  &  0.04301009   &  0.139173010  &  0.189411484  &  0.109706389  &  0.03802855   & -0.0083898442 &  0.035658586  &  0.0100307471 &  0.02657921   & -0.0368641057 &  0.012783675  &  0.060001389  & -0.042985557  &  0.0904318486 &  0.0178901427 &  0.0861634038\\\\\n",
       "\t -0.008474908  &  0.039837649  &  0.189835496  &  0.140501182  &  0.17256999   &  0.125734079  &  0.022774565  &  0.010554013  & -0.03784876   & -0.1081307243 & -0.005593478  & -0.0881061350 &  0.13292056   &  0.0602840263 &  0.079575922  & -0.016225264  &  0.006141362  &  0.0372021341 &  0.1760092124 &  0.0704390760\\\\\n",
       "\t -0.071490248  & -0.107028926  &  0.140501182  &  0.446184175  &  0.06828822   & -0.007317903  & -0.167987731  & -0.067772029  &  0.11574856   &  0.0505441091 &  0.075565501  &  0.1337856387 &  0.07641353   &  0.1205531956 &  0.139386138  & -0.196165619  &  0.033850971  & -0.0775912136 &  0.1966817011 &  0.0978507492\\\\\n",
       "\t  0.067088977  &  0.043010087  &  0.172569993  &  0.068288219  &  0.23378405   &  0.123352454  & -0.037044775  &  0.025116153  & -0.01948002   & -0.0639566123 & -0.150059706  & -0.1360958744 &  0.13832105   &  0.1619044566 &  0.065625943  &  0.108255033  &  0.031318620  &  0.0424823581 &  0.1050139472 &  0.0205056455\\\\\n",
       "\t  0.158365989  &  0.139173010  &  0.125734079  & -0.007317903  &  0.12335245   &  0.198924267  &  0.133388761  &  0.081083549  &  0.03921284   & -0.0885177967 & -0.049849633  & -0.0490999783 &  0.05844191   & -0.0086394346 &  0.038640415  & -0.029338370  & -0.121082984  &  0.0491085289 &  0.0875677021 &  0.1208525964\\\\\n",
       "\t  0.058104483  &  0.189411484  &  0.022774565  & -0.167987731  & -0.03704478   &  0.133388761  &  0.329231899  &  0.128070620  & -0.03246010   & -0.0489077956 &  0.220282720  &  0.0308881769 &  0.02395392   & -0.1692417425 & -0.002193414  &  0.041460614  & -0.013808184  &  0.1425765794 &  0.0490994669 &  0.1024004509\\\\\n",
       "\t  0.121529795  &  0.109706389  &  0.010554013  & -0.067772029  &  0.02511615   &  0.081083549  &  0.128070620  &  0.093839728  &  0.06290501   &  0.0580870443 &  0.040385375  &  0.0525742241 &  0.01972920   &  0.0104770886 &  0.020736950  &  0.087371369  &  0.014005446  &  0.0774347027 & -0.0042922964 &  0.0584576669\\\\\n",
       "\t  0.219422823  &  0.038028548  & -0.037848761  &  0.115748558  & -0.01948002   &  0.039212839  & -0.032460100  &  0.062905008  &  0.25413250   &  0.1924928883 & -0.042537196  &  0.2111589733 & -0.05544897   &  0.0933767995 &  0.052627492  & -0.050016461  & -0.064485686  & -0.0325865581 & -0.0459714540 &  0.1017287654\\\\\n",
       "\t  0.104690804  & -0.008389844  & -0.108130724  &  0.050544109  & -0.06395661   & -0.088517797  & -0.048907796  &  0.058087044  &  0.19249289   &  0.2909319344 &  0.051911410  &  0.2325122584 & -0.03760741   &  0.1375025434 &  0.040374632  &  0.131470941  &  0.141751032  &  0.0222566993 & -0.0984163894 & -0.0005997273\\\\\n",
       "\t -0.187723845  &  0.035658586  & -0.005593478  &  0.075565501  & -0.15005971   & -0.049849633  &  0.220282720  &  0.040385375  & -0.04253720   &  0.0519114104 &  0.465787917  &  0.1834736571 &  0.03482605   & -0.1640738269 &  0.050997374  & -0.033079376  &  0.170634016  &  0.1087901449 &  0.1250189740 &  0.0695853363\\\\\n",
       "\t  0.078360163  &  0.010030747  & -0.088106135  &  0.133785639  & -0.13609587   & -0.049099978  &  0.030888177  &  0.052574224  &  0.21115897   &  0.2325122584 &  0.183473657  &  0.3005682797 & -0.06567440   &  0.0060121749 &  0.053986902  & -0.060648883  &  0.042045794  & -0.0008924567 & -0.0245796082 &  0.0897003491\\\\\n",
       "\t -0.043006867  &  0.026579207  &  0.132920559  &  0.076413532  &  0.13832105   &  0.058441909  &  0.023953924  &  0.019729203  & -0.05544897   & -0.0376074070 &  0.034826051  & -0.0656744030 &  0.12881474   &  0.0832037921 &  0.065128352  &  0.095437733  &  0.109776120  &  0.0699339683 &  0.1232601248 &  0.0149973747\\\\\n",
       "\t  0.084349449  & -0.036864106  &  0.060284026  &  0.120553196  &  0.16190446   & -0.008639435  & -0.169241742  &  0.010477089  &  0.09337680   &  0.1375025434 & -0.164073827  &  0.0060121749 &  0.08320379   &  0.2704690748 &  0.071184038  &  0.175061212  &  0.131284225  &  0.0061038122 &  0.0008433288 & -0.0337901070\\\\\n",
       "\t  0.013948699  &  0.012783675  &  0.079575922  &  0.139386138  &  0.06562594   &  0.038640415  & -0.002193414  &  0.020736950  &  0.05262749   &  0.0403746324 &  0.050997374  &  0.0539869023 &  0.06512835   &  0.0711840382 &  0.071279008  &  0.002783633  &  0.053358671  &  0.0241360761 &  0.0898196424 &  0.0558198493\\\\\n",
       "\t  0.034119595  &  0.060001389  & -0.016225264  & -0.196165619  &  0.10825503   & -0.029338370  &  0.041460614  &  0.087371369  & -0.05001646   &  0.1314709413 & -0.033079376  & -0.0606488834 &  0.09543773   &  0.1750612120 &  0.002783633  &  0.419515440  &  0.269052323  &  0.1509301245 & -0.0785083211 & -0.1114771110\\\\\n",
       "\t -0.155766655  & -0.042985557  &  0.006141362  &  0.033850971  &  0.03131862   & -0.121082984  & -0.013808184  &  0.014005446  & -0.06448569   &  0.1417510319 &  0.170634016  &  0.0420457944 &  0.10977612   &  0.1312842247 &  0.053358671  &  0.269052323  &  0.340862685  &  0.1110957873 &  0.0336218350 & -0.0906698225\\\\\n",
       "\t  0.010513971  &  0.090431849  &  0.037202134  & -0.077591214  &  0.04248236   &  0.049108529  &  0.142576579  &  0.077434703  & -0.03258656   &  0.0222566993 &  0.108790145  & -0.0008924567 &  0.06993397   &  0.0061038122 &  0.024136076  &  0.150930124  &  0.111095787  &  0.1151030709 &  0.0362798777 &  0.0166905439\\\\\n",
       "\t -0.085891497  &  0.017890143  &  0.176009212  &  0.196681701  &  0.10501395   &  0.087567702  &  0.049099467  & -0.004292296  & -0.04597145   & -0.0984163894 &  0.125018974  & -0.0245796082 &  0.12326012   &  0.0008433288 &  0.089819642  & -0.078508321  &  0.033621835  &  0.0362798777 &  0.2099756947 &  0.0865779165\\\\\n",
       "\t  0.107326204  &  0.086163404  &  0.070439076  &  0.097850749  &  0.02050565   &  0.120852596  &  0.102400451  &  0.058457667  &  0.10172877   & -0.0005997273 &  0.069585336  &  0.0897003491 &  0.01499737   & -0.0337901070 &  0.055819849  & -0.111477111  & -0.090669823  &  0.0166905439 &  0.0865779165 &  0.1374408401\\\\\n",
       "\\end{tabular}\n"
      ],
      "text/markdown": [
       "\n",
       "|  0.350644999  |  0.143888071  | -0.008474908  | -0.071490248  |  0.06708898   |  0.158365989  |  0.058104483  |  0.121529795  |  0.21942282   |  0.1046908038 | -0.187723845  |  0.0783601628 | -0.04300687   |  0.0843494489 |  0.013948699  |  0.034119595  | -0.155766655  |  0.0105139715 | -0.0858914972 |  0.1073262038 |\n",
       "|  0.143888071  |  0.152674196  |  0.039837649  | -0.107028926  |  0.04301009   |  0.139173010  |  0.189411484  |  0.109706389  |  0.03802855   | -0.0083898442 |  0.035658586  |  0.0100307471 |  0.02657921   | -0.0368641057 |  0.012783675  |  0.060001389  | -0.042985557  |  0.0904318486 |  0.0178901427 |  0.0861634038 |\n",
       "| -0.008474908  |  0.039837649  |  0.189835496  |  0.140501182  |  0.17256999   |  0.125734079  |  0.022774565  |  0.010554013  | -0.03784876   | -0.1081307243 | -0.005593478  | -0.0881061350 |  0.13292056   |  0.0602840263 |  0.079575922  | -0.016225264  |  0.006141362  |  0.0372021341 |  0.1760092124 |  0.0704390760 |\n",
       "| -0.071490248  | -0.107028926  |  0.140501182  |  0.446184175  |  0.06828822   | -0.007317903  | -0.167987731  | -0.067772029  |  0.11574856   |  0.0505441091 |  0.075565501  |  0.1337856387 |  0.07641353   |  0.1205531956 |  0.139386138  | -0.196165619  |  0.033850971  | -0.0775912136 |  0.1966817011 |  0.0978507492 |\n",
       "|  0.067088977  |  0.043010087  |  0.172569993  |  0.068288219  |  0.23378405   |  0.123352454  | -0.037044775  |  0.025116153  | -0.01948002   | -0.0639566123 | -0.150059706  | -0.1360958744 |  0.13832105   |  0.1619044566 |  0.065625943  |  0.108255033  |  0.031318620  |  0.0424823581 |  0.1050139472 |  0.0205056455 |\n",
       "|  0.158365989  |  0.139173010  |  0.125734079  | -0.007317903  |  0.12335245   |  0.198924267  |  0.133388761  |  0.081083549  |  0.03921284   | -0.0885177967 | -0.049849633  | -0.0490999783 |  0.05844191   | -0.0086394346 |  0.038640415  | -0.029338370  | -0.121082984  |  0.0491085289 |  0.0875677021 |  0.1208525964 |\n",
       "|  0.058104483  |  0.189411484  |  0.022774565  | -0.167987731  | -0.03704478   |  0.133388761  |  0.329231899  |  0.128070620  | -0.03246010   | -0.0489077956 |  0.220282720  |  0.0308881769 |  0.02395392   | -0.1692417425 | -0.002193414  |  0.041460614  | -0.013808184  |  0.1425765794 |  0.0490994669 |  0.1024004509 |\n",
       "|  0.121529795  |  0.109706389  |  0.010554013  | -0.067772029  |  0.02511615   |  0.081083549  |  0.128070620  |  0.093839728  |  0.06290501   |  0.0580870443 |  0.040385375  |  0.0525742241 |  0.01972920   |  0.0104770886 |  0.020736950  |  0.087371369  |  0.014005446  |  0.0774347027 | -0.0042922964 |  0.0584576669 |\n",
       "|  0.219422823  |  0.038028548  | -0.037848761  |  0.115748558  | -0.01948002   |  0.039212839  | -0.032460100  |  0.062905008  |  0.25413250   |  0.1924928883 | -0.042537196  |  0.2111589733 | -0.05544897   |  0.0933767995 |  0.052627492  | -0.050016461  | -0.064485686  | -0.0325865581 | -0.0459714540 |  0.1017287654 |\n",
       "|  0.104690804  | -0.008389844  | -0.108130724  |  0.050544109  | -0.06395661   | -0.088517797  | -0.048907796  |  0.058087044  |  0.19249289   |  0.2909319344 |  0.051911410  |  0.2325122584 | -0.03760741   |  0.1375025434 |  0.040374632  |  0.131470941  |  0.141751032  |  0.0222566993 | -0.0984163894 | -0.0005997273 |\n",
       "| -0.187723845  |  0.035658586  | -0.005593478  |  0.075565501  | -0.15005971   | -0.049849633  |  0.220282720  |  0.040385375  | -0.04253720   |  0.0519114104 |  0.465787917  |  0.1834736571 |  0.03482605   | -0.1640738269 |  0.050997374  | -0.033079376  |  0.170634016  |  0.1087901449 |  0.1250189740 |  0.0695853363 |\n",
       "|  0.078360163  |  0.010030747  | -0.088106135  |  0.133785639  | -0.13609587   | -0.049099978  |  0.030888177  |  0.052574224  |  0.21115897   |  0.2325122584 |  0.183473657  |  0.3005682797 | -0.06567440   |  0.0060121749 |  0.053986902  | -0.060648883  |  0.042045794  | -0.0008924567 | -0.0245796082 |  0.0897003491 |\n",
       "| -0.043006867  |  0.026579207  |  0.132920559  |  0.076413532  |  0.13832105   |  0.058441909  |  0.023953924  |  0.019729203  | -0.05544897   | -0.0376074070 |  0.034826051  | -0.0656744030 |  0.12881474   |  0.0832037921 |  0.065128352  |  0.095437733  |  0.109776120  |  0.0699339683 |  0.1232601248 |  0.0149973747 |\n",
       "|  0.084349449  | -0.036864106  |  0.060284026  |  0.120553196  |  0.16190446   | -0.008639435  | -0.169241742  |  0.010477089  |  0.09337680   |  0.1375025434 | -0.164073827  |  0.0060121749 |  0.08320379   |  0.2704690748 |  0.071184038  |  0.175061212  |  0.131284225  |  0.0061038122 |  0.0008433288 | -0.0337901070 |\n",
       "|  0.013948699  |  0.012783675  |  0.079575922  |  0.139386138  |  0.06562594   |  0.038640415  | -0.002193414  |  0.020736950  |  0.05262749   |  0.0403746324 |  0.050997374  |  0.0539869023 |  0.06512835   |  0.0711840382 |  0.071279008  |  0.002783633  |  0.053358671  |  0.0241360761 |  0.0898196424 |  0.0558198493 |\n",
       "|  0.034119595  |  0.060001389  | -0.016225264  | -0.196165619  |  0.10825503   | -0.029338370  |  0.041460614  |  0.087371369  | -0.05001646   |  0.1314709413 | -0.033079376  | -0.0606488834 |  0.09543773   |  0.1750612120 |  0.002783633  |  0.419515440  |  0.269052323  |  0.1509301245 | -0.0785083211 | -0.1114771110 |\n",
       "| -0.155766655  | -0.042985557  |  0.006141362  |  0.033850971  |  0.03131862   | -0.121082984  | -0.013808184  |  0.014005446  | -0.06448569   |  0.1417510319 |  0.170634016  |  0.0420457944 |  0.10977612   |  0.1312842247 |  0.053358671  |  0.269052323  |  0.340862685  |  0.1110957873 |  0.0336218350 | -0.0906698225 |\n",
       "|  0.010513971  |  0.090431849  |  0.037202134  | -0.077591214  |  0.04248236   |  0.049108529  |  0.142576579  |  0.077434703  | -0.03258656   |  0.0222566993 |  0.108790145  | -0.0008924567 |  0.06993397   |  0.0061038122 |  0.024136076  |  0.150930124  |  0.111095787  |  0.1151030709 |  0.0362798777 |  0.0166905439 |\n",
       "| -0.085891497  |  0.017890143  |  0.176009212  |  0.196681701  |  0.10501395   |  0.087567702  |  0.049099467  | -0.004292296  | -0.04597145   | -0.0984163894 |  0.125018974  | -0.0245796082 |  0.12326012   |  0.0008433288 |  0.089819642  | -0.078508321  |  0.033621835  |  0.0362798777 |  0.2099756947 |  0.0865779165 |\n",
       "|  0.107326204  |  0.086163404  |  0.070439076  |  0.097850749  |  0.02050565   |  0.120852596  |  0.102400451  |  0.058457667  |  0.10172877   | -0.0005997273 |  0.069585336  |  0.0897003491 |  0.01499737   | -0.0337901070 |  0.055819849  | -0.111477111  | -0.090669823  |  0.0166905439 |  0.0865779165 |  0.1374408401 |\n",
       "\n"
      ],
      "text/plain": [
       "      [,1]         [,2]         [,3]         [,4]         [,5]       \n",
       " [1,]  0.350644999  0.143888071 -0.008474908 -0.071490248  0.06708898\n",
       " [2,]  0.143888071  0.152674196  0.039837649 -0.107028926  0.04301009\n",
       " [3,] -0.008474908  0.039837649  0.189835496  0.140501182  0.17256999\n",
       " [4,] -0.071490248 -0.107028926  0.140501182  0.446184175  0.06828822\n",
       " [5,]  0.067088977  0.043010087  0.172569993  0.068288219  0.23378405\n",
       " [6,]  0.158365989  0.139173010  0.125734079 -0.007317903  0.12335245\n",
       " [7,]  0.058104483  0.189411484  0.022774565 -0.167987731 -0.03704478\n",
       " [8,]  0.121529795  0.109706389  0.010554013 -0.067772029  0.02511615\n",
       " [9,]  0.219422823  0.038028548 -0.037848761  0.115748558 -0.01948002\n",
       "[10,]  0.104690804 -0.008389844 -0.108130724  0.050544109 -0.06395661\n",
       "[11,] -0.187723845  0.035658586 -0.005593478  0.075565501 -0.15005971\n",
       "[12,]  0.078360163  0.010030747 -0.088106135  0.133785639 -0.13609587\n",
       "[13,] -0.043006867  0.026579207  0.132920559  0.076413532  0.13832105\n",
       "[14,]  0.084349449 -0.036864106  0.060284026  0.120553196  0.16190446\n",
       "[15,]  0.013948699  0.012783675  0.079575922  0.139386138  0.06562594\n",
       "[16,]  0.034119595  0.060001389 -0.016225264 -0.196165619  0.10825503\n",
       "[17,] -0.155766655 -0.042985557  0.006141362  0.033850971  0.03131862\n",
       "[18,]  0.010513971  0.090431849  0.037202134 -0.077591214  0.04248236\n",
       "[19,] -0.085891497  0.017890143  0.176009212  0.196681701  0.10501395\n",
       "[20,]  0.107326204  0.086163404  0.070439076  0.097850749  0.02050565\n",
       "      [,6]         [,7]         [,8]         [,9]        [,10]        \n",
       " [1,]  0.158365989  0.058104483  0.121529795  0.21942282  0.1046908038\n",
       " [2,]  0.139173010  0.189411484  0.109706389  0.03802855 -0.0083898442\n",
       " [3,]  0.125734079  0.022774565  0.010554013 -0.03784876 -0.1081307243\n",
       " [4,] -0.007317903 -0.167987731 -0.067772029  0.11574856  0.0505441091\n",
       " [5,]  0.123352454 -0.037044775  0.025116153 -0.01948002 -0.0639566123\n",
       " [6,]  0.198924267  0.133388761  0.081083549  0.03921284 -0.0885177967\n",
       " [7,]  0.133388761  0.329231899  0.128070620 -0.03246010 -0.0489077956\n",
       " [8,]  0.081083549  0.128070620  0.093839728  0.06290501  0.0580870443\n",
       " [9,]  0.039212839 -0.032460100  0.062905008  0.25413250  0.1924928883\n",
       "[10,] -0.088517797 -0.048907796  0.058087044  0.19249289  0.2909319344\n",
       "[11,] -0.049849633  0.220282720  0.040385375 -0.04253720  0.0519114104\n",
       "[12,] -0.049099978  0.030888177  0.052574224  0.21115897  0.2325122584\n",
       "[13,]  0.058441909  0.023953924  0.019729203 -0.05544897 -0.0376074070\n",
       "[14,] -0.008639435 -0.169241742  0.010477089  0.09337680  0.1375025434\n",
       "[15,]  0.038640415 -0.002193414  0.020736950  0.05262749  0.0403746324\n",
       "[16,] -0.029338370  0.041460614  0.087371369 -0.05001646  0.1314709413\n",
       "[17,] -0.121082984 -0.013808184  0.014005446 -0.06448569  0.1417510319\n",
       "[18,]  0.049108529  0.142576579  0.077434703 -0.03258656  0.0222566993\n",
       "[19,]  0.087567702  0.049099467 -0.004292296 -0.04597145 -0.0984163894\n",
       "[20,]  0.120852596  0.102400451  0.058457667  0.10172877 -0.0005997273\n",
       "      [,11]        [,12]         [,13]       [,14]         [,15]       \n",
       " [1,] -0.187723845  0.0783601628 -0.04300687  0.0843494489  0.013948699\n",
       " [2,]  0.035658586  0.0100307471  0.02657921 -0.0368641057  0.012783675\n",
       " [3,] -0.005593478 -0.0881061350  0.13292056  0.0602840263  0.079575922\n",
       " [4,]  0.075565501  0.1337856387  0.07641353  0.1205531956  0.139386138\n",
       " [5,] -0.150059706 -0.1360958744  0.13832105  0.1619044566  0.065625943\n",
       " [6,] -0.049849633 -0.0490999783  0.05844191 -0.0086394346  0.038640415\n",
       " [7,]  0.220282720  0.0308881769  0.02395392 -0.1692417425 -0.002193414\n",
       " [8,]  0.040385375  0.0525742241  0.01972920  0.0104770886  0.020736950\n",
       " [9,] -0.042537196  0.2111589733 -0.05544897  0.0933767995  0.052627492\n",
       "[10,]  0.051911410  0.2325122584 -0.03760741  0.1375025434  0.040374632\n",
       "[11,]  0.465787917  0.1834736571  0.03482605 -0.1640738269  0.050997374\n",
       "[12,]  0.183473657  0.3005682797 -0.06567440  0.0060121749  0.053986902\n",
       "[13,]  0.034826051 -0.0656744030  0.12881474  0.0832037921  0.065128352\n",
       "[14,] -0.164073827  0.0060121749  0.08320379  0.2704690748  0.071184038\n",
       "[15,]  0.050997374  0.0539869023  0.06512835  0.0711840382  0.071279008\n",
       "[16,] -0.033079376 -0.0606488834  0.09543773  0.1750612120  0.002783633\n",
       "[17,]  0.170634016  0.0420457944  0.10977612  0.1312842247  0.053358671\n",
       "[18,]  0.108790145 -0.0008924567  0.06993397  0.0061038122  0.024136076\n",
       "[19,]  0.125018974 -0.0245796082  0.12326012  0.0008433288  0.089819642\n",
       "[20,]  0.069585336  0.0897003491  0.01499737 -0.0337901070  0.055819849\n",
       "      [,16]        [,17]        [,18]         [,19]         [,20]        \n",
       " [1,]  0.034119595 -0.155766655  0.0105139715 -0.0858914972  0.1073262038\n",
       " [2,]  0.060001389 -0.042985557  0.0904318486  0.0178901427  0.0861634038\n",
       " [3,] -0.016225264  0.006141362  0.0372021341  0.1760092124  0.0704390760\n",
       " [4,] -0.196165619  0.033850971 -0.0775912136  0.1966817011  0.0978507492\n",
       " [5,]  0.108255033  0.031318620  0.0424823581  0.1050139472  0.0205056455\n",
       " [6,] -0.029338370 -0.121082984  0.0491085289  0.0875677021  0.1208525964\n",
       " [7,]  0.041460614 -0.013808184  0.1425765794  0.0490994669  0.1024004509\n",
       " [8,]  0.087371369  0.014005446  0.0774347027 -0.0042922964  0.0584576669\n",
       " [9,] -0.050016461 -0.064485686 -0.0325865581 -0.0459714540  0.1017287654\n",
       "[10,]  0.131470941  0.141751032  0.0222566993 -0.0984163894 -0.0005997273\n",
       "[11,] -0.033079376  0.170634016  0.1087901449  0.1250189740  0.0695853363\n",
       "[12,] -0.060648883  0.042045794 -0.0008924567 -0.0245796082  0.0897003491\n",
       "[13,]  0.095437733  0.109776120  0.0699339683  0.1232601248  0.0149973747\n",
       "[14,]  0.175061212  0.131284225  0.0061038122  0.0008433288 -0.0337901070\n",
       "[15,]  0.002783633  0.053358671  0.0241360761  0.0898196424  0.0558198493\n",
       "[16,]  0.419515440  0.269052323  0.1509301245 -0.0785083211 -0.1114771110\n",
       "[17,]  0.269052323  0.340862685  0.1110957873  0.0336218350 -0.0906698225\n",
       "[18,]  0.150930124  0.111095787  0.1151030709  0.0362798777  0.0166905439\n",
       "[19,] -0.078508321  0.033621835  0.0362798777  0.2099756947  0.0865779165\n",
       "[20,] -0.111477111 -0.090669823  0.0166905439  0.0865779165  0.1374408401"
      ]
     },
     "metadata": {},
     "output_type": "display_data"
    }
   ],
   "source": [
    "#Entonces, M ahora es: M = I - G*X'; pero H = G*trX. Entonces, M = I - H\n",
    "\n",
    "H <- G %*% trX\n",
    "H"
   ]
  },
  {
   "cell_type": "code",
   "execution_count": 195,
   "id": "ea32d212",
   "metadata": {},
   "outputs": [
    {
     "data": {
      "text/html": [
       "<table>\n",
       "<tbody>\n",
       "\t<tr><td>1</td><td>0</td><td>0</td><td>0</td><td>0</td><td>0</td><td>0</td><td>0</td><td>0</td><td>0</td><td>0</td><td>0</td><td>0</td><td>0</td><td>0</td><td>0</td><td>0</td><td>0</td><td>0</td><td>0</td></tr>\n",
       "\t<tr><td>0</td><td>1</td><td>0</td><td>0</td><td>0</td><td>0</td><td>0</td><td>0</td><td>0</td><td>0</td><td>0</td><td>0</td><td>0</td><td>0</td><td>0</td><td>0</td><td>0</td><td>0</td><td>0</td><td>0</td></tr>\n",
       "\t<tr><td>0</td><td>0</td><td>1</td><td>0</td><td>0</td><td>0</td><td>0</td><td>0</td><td>0</td><td>0</td><td>0</td><td>0</td><td>0</td><td>0</td><td>0</td><td>0</td><td>0</td><td>0</td><td>0</td><td>0</td></tr>\n",
       "\t<tr><td>0</td><td>0</td><td>0</td><td>1</td><td>0</td><td>0</td><td>0</td><td>0</td><td>0</td><td>0</td><td>0</td><td>0</td><td>0</td><td>0</td><td>0</td><td>0</td><td>0</td><td>0</td><td>0</td><td>0</td></tr>\n",
       "\t<tr><td>0</td><td>0</td><td>0</td><td>0</td><td>1</td><td>0</td><td>0</td><td>0</td><td>0</td><td>0</td><td>0</td><td>0</td><td>0</td><td>0</td><td>0</td><td>0</td><td>0</td><td>0</td><td>0</td><td>0</td></tr>\n",
       "\t<tr><td>0</td><td>0</td><td>0</td><td>0</td><td>0</td><td>1</td><td>0</td><td>0</td><td>0</td><td>0</td><td>0</td><td>0</td><td>0</td><td>0</td><td>0</td><td>0</td><td>0</td><td>0</td><td>0</td><td>0</td></tr>\n",
       "\t<tr><td>0</td><td>0</td><td>0</td><td>0</td><td>0</td><td>0</td><td>1</td><td>0</td><td>0</td><td>0</td><td>0</td><td>0</td><td>0</td><td>0</td><td>0</td><td>0</td><td>0</td><td>0</td><td>0</td><td>0</td></tr>\n",
       "\t<tr><td>0</td><td>0</td><td>0</td><td>0</td><td>0</td><td>0</td><td>0</td><td>1</td><td>0</td><td>0</td><td>0</td><td>0</td><td>0</td><td>0</td><td>0</td><td>0</td><td>0</td><td>0</td><td>0</td><td>0</td></tr>\n",
       "\t<tr><td>0</td><td>0</td><td>0</td><td>0</td><td>0</td><td>0</td><td>0</td><td>0</td><td>1</td><td>0</td><td>0</td><td>0</td><td>0</td><td>0</td><td>0</td><td>0</td><td>0</td><td>0</td><td>0</td><td>0</td></tr>\n",
       "\t<tr><td>0</td><td>0</td><td>0</td><td>0</td><td>0</td><td>0</td><td>0</td><td>0</td><td>0</td><td>1</td><td>0</td><td>0</td><td>0</td><td>0</td><td>0</td><td>0</td><td>0</td><td>0</td><td>0</td><td>0</td></tr>\n",
       "\t<tr><td>0</td><td>0</td><td>0</td><td>0</td><td>0</td><td>0</td><td>0</td><td>0</td><td>0</td><td>0</td><td>1</td><td>0</td><td>0</td><td>0</td><td>0</td><td>0</td><td>0</td><td>0</td><td>0</td><td>0</td></tr>\n",
       "\t<tr><td>0</td><td>0</td><td>0</td><td>0</td><td>0</td><td>0</td><td>0</td><td>0</td><td>0</td><td>0</td><td>0</td><td>1</td><td>0</td><td>0</td><td>0</td><td>0</td><td>0</td><td>0</td><td>0</td><td>0</td></tr>\n",
       "\t<tr><td>0</td><td>0</td><td>0</td><td>0</td><td>0</td><td>0</td><td>0</td><td>0</td><td>0</td><td>0</td><td>0</td><td>0</td><td>1</td><td>0</td><td>0</td><td>0</td><td>0</td><td>0</td><td>0</td><td>0</td></tr>\n",
       "\t<tr><td>0</td><td>0</td><td>0</td><td>0</td><td>0</td><td>0</td><td>0</td><td>0</td><td>0</td><td>0</td><td>0</td><td>0</td><td>0</td><td>1</td><td>0</td><td>0</td><td>0</td><td>0</td><td>0</td><td>0</td></tr>\n",
       "\t<tr><td>0</td><td>0</td><td>0</td><td>0</td><td>0</td><td>0</td><td>0</td><td>0</td><td>0</td><td>0</td><td>0</td><td>0</td><td>0</td><td>0</td><td>1</td><td>0</td><td>0</td><td>0</td><td>0</td><td>0</td></tr>\n",
       "\t<tr><td>0</td><td>0</td><td>0</td><td>0</td><td>0</td><td>0</td><td>0</td><td>0</td><td>0</td><td>0</td><td>0</td><td>0</td><td>0</td><td>0</td><td>0</td><td>1</td><td>0</td><td>0</td><td>0</td><td>0</td></tr>\n",
       "\t<tr><td>0</td><td>0</td><td>0</td><td>0</td><td>0</td><td>0</td><td>0</td><td>0</td><td>0</td><td>0</td><td>0</td><td>0</td><td>0</td><td>0</td><td>0</td><td>0</td><td>1</td><td>0</td><td>0</td><td>0</td></tr>\n",
       "\t<tr><td>0</td><td>0</td><td>0</td><td>0</td><td>0</td><td>0</td><td>0</td><td>0</td><td>0</td><td>0</td><td>0</td><td>0</td><td>0</td><td>0</td><td>0</td><td>0</td><td>0</td><td>1</td><td>0</td><td>0</td></tr>\n",
       "\t<tr><td>0</td><td>0</td><td>0</td><td>0</td><td>0</td><td>0</td><td>0</td><td>0</td><td>0</td><td>0</td><td>0</td><td>0</td><td>0</td><td>0</td><td>0</td><td>0</td><td>0</td><td>0</td><td>1</td><td>0</td></tr>\n",
       "\t<tr><td>0</td><td>0</td><td>0</td><td>0</td><td>0</td><td>0</td><td>0</td><td>0</td><td>0</td><td>0</td><td>0</td><td>0</td><td>0</td><td>0</td><td>0</td><td>0</td><td>0</td><td>0</td><td>0</td><td>1</td></tr>\n",
       "</tbody>\n",
       "</table>\n"
      ],
      "text/latex": [
       "\\begin{tabular}{llllllllllllllllllll}\n",
       "\t 1 & 0 & 0 & 0 & 0 & 0 & 0 & 0 & 0 & 0 & 0 & 0 & 0 & 0 & 0 & 0 & 0 & 0 & 0 & 0\\\\\n",
       "\t 0 & 1 & 0 & 0 & 0 & 0 & 0 & 0 & 0 & 0 & 0 & 0 & 0 & 0 & 0 & 0 & 0 & 0 & 0 & 0\\\\\n",
       "\t 0 & 0 & 1 & 0 & 0 & 0 & 0 & 0 & 0 & 0 & 0 & 0 & 0 & 0 & 0 & 0 & 0 & 0 & 0 & 0\\\\\n",
       "\t 0 & 0 & 0 & 1 & 0 & 0 & 0 & 0 & 0 & 0 & 0 & 0 & 0 & 0 & 0 & 0 & 0 & 0 & 0 & 0\\\\\n",
       "\t 0 & 0 & 0 & 0 & 1 & 0 & 0 & 0 & 0 & 0 & 0 & 0 & 0 & 0 & 0 & 0 & 0 & 0 & 0 & 0\\\\\n",
       "\t 0 & 0 & 0 & 0 & 0 & 1 & 0 & 0 & 0 & 0 & 0 & 0 & 0 & 0 & 0 & 0 & 0 & 0 & 0 & 0\\\\\n",
       "\t 0 & 0 & 0 & 0 & 0 & 0 & 1 & 0 & 0 & 0 & 0 & 0 & 0 & 0 & 0 & 0 & 0 & 0 & 0 & 0\\\\\n",
       "\t 0 & 0 & 0 & 0 & 0 & 0 & 0 & 1 & 0 & 0 & 0 & 0 & 0 & 0 & 0 & 0 & 0 & 0 & 0 & 0\\\\\n",
       "\t 0 & 0 & 0 & 0 & 0 & 0 & 0 & 0 & 1 & 0 & 0 & 0 & 0 & 0 & 0 & 0 & 0 & 0 & 0 & 0\\\\\n",
       "\t 0 & 0 & 0 & 0 & 0 & 0 & 0 & 0 & 0 & 1 & 0 & 0 & 0 & 0 & 0 & 0 & 0 & 0 & 0 & 0\\\\\n",
       "\t 0 & 0 & 0 & 0 & 0 & 0 & 0 & 0 & 0 & 0 & 1 & 0 & 0 & 0 & 0 & 0 & 0 & 0 & 0 & 0\\\\\n",
       "\t 0 & 0 & 0 & 0 & 0 & 0 & 0 & 0 & 0 & 0 & 0 & 1 & 0 & 0 & 0 & 0 & 0 & 0 & 0 & 0\\\\\n",
       "\t 0 & 0 & 0 & 0 & 0 & 0 & 0 & 0 & 0 & 0 & 0 & 0 & 1 & 0 & 0 & 0 & 0 & 0 & 0 & 0\\\\\n",
       "\t 0 & 0 & 0 & 0 & 0 & 0 & 0 & 0 & 0 & 0 & 0 & 0 & 0 & 1 & 0 & 0 & 0 & 0 & 0 & 0\\\\\n",
       "\t 0 & 0 & 0 & 0 & 0 & 0 & 0 & 0 & 0 & 0 & 0 & 0 & 0 & 0 & 1 & 0 & 0 & 0 & 0 & 0\\\\\n",
       "\t 0 & 0 & 0 & 0 & 0 & 0 & 0 & 0 & 0 & 0 & 0 & 0 & 0 & 0 & 0 & 1 & 0 & 0 & 0 & 0\\\\\n",
       "\t 0 & 0 & 0 & 0 & 0 & 0 & 0 & 0 & 0 & 0 & 0 & 0 & 0 & 0 & 0 & 0 & 1 & 0 & 0 & 0\\\\\n",
       "\t 0 & 0 & 0 & 0 & 0 & 0 & 0 & 0 & 0 & 0 & 0 & 0 & 0 & 0 & 0 & 0 & 0 & 1 & 0 & 0\\\\\n",
       "\t 0 & 0 & 0 & 0 & 0 & 0 & 0 & 0 & 0 & 0 & 0 & 0 & 0 & 0 & 0 & 0 & 0 & 0 & 1 & 0\\\\\n",
       "\t 0 & 0 & 0 & 0 & 0 & 0 & 0 & 0 & 0 & 0 & 0 & 0 & 0 & 0 & 0 & 0 & 0 & 0 & 0 & 1\\\\\n",
       "\\end{tabular}\n"
      ],
      "text/markdown": [
       "\n",
       "| 1 | 0 | 0 | 0 | 0 | 0 | 0 | 0 | 0 | 0 | 0 | 0 | 0 | 0 | 0 | 0 | 0 | 0 | 0 | 0 |\n",
       "| 0 | 1 | 0 | 0 | 0 | 0 | 0 | 0 | 0 | 0 | 0 | 0 | 0 | 0 | 0 | 0 | 0 | 0 | 0 | 0 |\n",
       "| 0 | 0 | 1 | 0 | 0 | 0 | 0 | 0 | 0 | 0 | 0 | 0 | 0 | 0 | 0 | 0 | 0 | 0 | 0 | 0 |\n",
       "| 0 | 0 | 0 | 1 | 0 | 0 | 0 | 0 | 0 | 0 | 0 | 0 | 0 | 0 | 0 | 0 | 0 | 0 | 0 | 0 |\n",
       "| 0 | 0 | 0 | 0 | 1 | 0 | 0 | 0 | 0 | 0 | 0 | 0 | 0 | 0 | 0 | 0 | 0 | 0 | 0 | 0 |\n",
       "| 0 | 0 | 0 | 0 | 0 | 1 | 0 | 0 | 0 | 0 | 0 | 0 | 0 | 0 | 0 | 0 | 0 | 0 | 0 | 0 |\n",
       "| 0 | 0 | 0 | 0 | 0 | 0 | 1 | 0 | 0 | 0 | 0 | 0 | 0 | 0 | 0 | 0 | 0 | 0 | 0 | 0 |\n",
       "| 0 | 0 | 0 | 0 | 0 | 0 | 0 | 1 | 0 | 0 | 0 | 0 | 0 | 0 | 0 | 0 | 0 | 0 | 0 | 0 |\n",
       "| 0 | 0 | 0 | 0 | 0 | 0 | 0 | 0 | 1 | 0 | 0 | 0 | 0 | 0 | 0 | 0 | 0 | 0 | 0 | 0 |\n",
       "| 0 | 0 | 0 | 0 | 0 | 0 | 0 | 0 | 0 | 1 | 0 | 0 | 0 | 0 | 0 | 0 | 0 | 0 | 0 | 0 |\n",
       "| 0 | 0 | 0 | 0 | 0 | 0 | 0 | 0 | 0 | 0 | 1 | 0 | 0 | 0 | 0 | 0 | 0 | 0 | 0 | 0 |\n",
       "| 0 | 0 | 0 | 0 | 0 | 0 | 0 | 0 | 0 | 0 | 0 | 1 | 0 | 0 | 0 | 0 | 0 | 0 | 0 | 0 |\n",
       "| 0 | 0 | 0 | 0 | 0 | 0 | 0 | 0 | 0 | 0 | 0 | 0 | 1 | 0 | 0 | 0 | 0 | 0 | 0 | 0 |\n",
       "| 0 | 0 | 0 | 0 | 0 | 0 | 0 | 0 | 0 | 0 | 0 | 0 | 0 | 1 | 0 | 0 | 0 | 0 | 0 | 0 |\n",
       "| 0 | 0 | 0 | 0 | 0 | 0 | 0 | 0 | 0 | 0 | 0 | 0 | 0 | 0 | 1 | 0 | 0 | 0 | 0 | 0 |\n",
       "| 0 | 0 | 0 | 0 | 0 | 0 | 0 | 0 | 0 | 0 | 0 | 0 | 0 | 0 | 0 | 1 | 0 | 0 | 0 | 0 |\n",
       "| 0 | 0 | 0 | 0 | 0 | 0 | 0 | 0 | 0 | 0 | 0 | 0 | 0 | 0 | 0 | 0 | 1 | 0 | 0 | 0 |\n",
       "| 0 | 0 | 0 | 0 | 0 | 0 | 0 | 0 | 0 | 0 | 0 | 0 | 0 | 0 | 0 | 0 | 0 | 1 | 0 | 0 |\n",
       "| 0 | 0 | 0 | 0 | 0 | 0 | 0 | 0 | 0 | 0 | 0 | 0 | 0 | 0 | 0 | 0 | 0 | 0 | 1 | 0 |\n",
       "| 0 | 0 | 0 | 0 | 0 | 0 | 0 | 0 | 0 | 0 | 0 | 0 | 0 | 0 | 0 | 0 | 0 | 0 | 0 | 1 |\n",
       "\n"
      ],
      "text/plain": [
       "      [,1] [,2] [,3] [,4] [,5] [,6] [,7] [,8] [,9] [,10] [,11] [,12] [,13]\n",
       " [1,] 1    0    0    0    0    0    0    0    0    0     0     0     0    \n",
       " [2,] 0    1    0    0    0    0    0    0    0    0     0     0     0    \n",
       " [3,] 0    0    1    0    0    0    0    0    0    0     0     0     0    \n",
       " [4,] 0    0    0    1    0    0    0    0    0    0     0     0     0    \n",
       " [5,] 0    0    0    0    1    0    0    0    0    0     0     0     0    \n",
       " [6,] 0    0    0    0    0    1    0    0    0    0     0     0     0    \n",
       " [7,] 0    0    0    0    0    0    1    0    0    0     0     0     0    \n",
       " [8,] 0    0    0    0    0    0    0    1    0    0     0     0     0    \n",
       " [9,] 0    0    0    0    0    0    0    0    1    0     0     0     0    \n",
       "[10,] 0    0    0    0    0    0    0    0    0    1     0     0     0    \n",
       "[11,] 0    0    0    0    0    0    0    0    0    0     1     0     0    \n",
       "[12,] 0    0    0    0    0    0    0    0    0    0     0     1     0    \n",
       "[13,] 0    0    0    0    0    0    0    0    0    0     0     0     1    \n",
       "[14,] 0    0    0    0    0    0    0    0    0    0     0     0     0    \n",
       "[15,] 0    0    0    0    0    0    0    0    0    0     0     0     0    \n",
       "[16,] 0    0    0    0    0    0    0    0    0    0     0     0     0    \n",
       "[17,] 0    0    0    0    0    0    0    0    0    0     0     0     0    \n",
       "[18,] 0    0    0    0    0    0    0    0    0    0     0     0     0    \n",
       "[19,] 0    0    0    0    0    0    0    0    0    0     0     0     0    \n",
       "[20,] 0    0    0    0    0    0    0    0    0    0     0     0     0    \n",
       "      [,14] [,15] [,16] [,17] [,18] [,19] [,20]\n",
       " [1,] 0     0     0     0     0     0     0    \n",
       " [2,] 0     0     0     0     0     0     0    \n",
       " [3,] 0     0     0     0     0     0     0    \n",
       " [4,] 0     0     0     0     0     0     0    \n",
       " [5,] 0     0     0     0     0     0     0    \n",
       " [6,] 0     0     0     0     0     0     0    \n",
       " [7,] 0     0     0     0     0     0     0    \n",
       " [8,] 0     0     0     0     0     0     0    \n",
       " [9,] 0     0     0     0     0     0     0    \n",
       "[10,] 0     0     0     0     0     0     0    \n",
       "[11,] 0     0     0     0     0     0     0    \n",
       "[12,] 0     0     0     0     0     0     0    \n",
       "[13,] 0     0     0     0     0     0     0    \n",
       "[14,] 1     0     0     0     0     0     0    \n",
       "[15,] 0     1     0     0     0     0     0    \n",
       "[16,] 0     0     1     0     0     0     0    \n",
       "[17,] 0     0     0     1     0     0     0    \n",
       "[18,] 0     0     0     0     1     0     0    \n",
       "[19,] 0     0     0     0     0     1     0    \n",
       "[20,] 0     0     0     0     0     0     1    "
      ]
     },
     "metadata": {},
     "output_type": "display_data"
    }
   ],
   "source": [
    "#Solo falta definir una matriz identidad de (20x20)\n",
    "\n",
    "I <- diag(20)\n",
    "I"
   ]
  },
  {
   "cell_type": "code",
   "execution_count": 199,
   "id": "5a976e5c",
   "metadata": {},
   "outputs": [
    {
     "data": {
      "text/html": [
       "<table>\n",
       "<tbody>\n",
       "\t<tr><td> 0.649355001 </td><td>-0.143888071 </td><td> 0.008474908 </td><td> 0.071490248 </td><td>-0.06708898  </td><td>-0.158365989 </td><td>-0.058104483 </td><td>-0.121529795 </td><td>-0.21942282  </td><td>-0.1046908038</td><td> 0.187723845 </td><td>-0.0783601628</td><td> 0.04300687  </td><td>-0.0843494489</td><td>-0.013948699 </td><td>-0.034119595 </td><td> 0.155766655 </td><td>-0.0105139715</td><td> 0.0858914972</td><td>-0.1073262038</td></tr>\n",
       "\t<tr><td>-0.143888071 </td><td> 0.847325804 </td><td>-0.039837649 </td><td> 0.107028926 </td><td>-0.04301009  </td><td>-0.139173010 </td><td>-0.189411484 </td><td>-0.109706389 </td><td>-0.03802855  </td><td> 0.0083898442</td><td>-0.035658586 </td><td>-0.0100307471</td><td>-0.02657921  </td><td> 0.0368641057</td><td>-0.012783675 </td><td>-0.060001389 </td><td> 0.042985557 </td><td>-0.0904318486</td><td>-0.0178901427</td><td>-0.0861634038</td></tr>\n",
       "\t<tr><td> 0.008474908 </td><td>-0.039837649 </td><td> 0.810164504 </td><td>-0.140501182 </td><td>-0.17256999  </td><td>-0.125734079 </td><td>-0.022774565 </td><td>-0.010554013 </td><td> 0.03784876  </td><td> 0.1081307243</td><td> 0.005593478 </td><td> 0.0881061350</td><td>-0.13292056  </td><td>-0.0602840263</td><td>-0.079575922 </td><td> 0.016225264 </td><td>-0.006141362 </td><td>-0.0372021341</td><td>-0.1760092124</td><td>-0.0704390760</td></tr>\n",
       "\t<tr><td> 0.071490248 </td><td> 0.107028926 </td><td>-0.140501182 </td><td> 0.553815825 </td><td>-0.06828822  </td><td> 0.007317903 </td><td> 0.167987731 </td><td> 0.067772029 </td><td>-0.11574856  </td><td>-0.0505441091</td><td>-0.075565501 </td><td>-0.1337856387</td><td>-0.07641353  </td><td>-0.1205531956</td><td>-0.139386138 </td><td> 0.196165619 </td><td>-0.033850971 </td><td> 0.0775912136</td><td>-0.1966817011</td><td>-0.0978507492</td></tr>\n",
       "\t<tr><td>-0.067088977 </td><td>-0.043010087 </td><td>-0.172569993 </td><td>-0.068288219 </td><td> 0.76621595  </td><td>-0.123352454 </td><td> 0.037044775 </td><td>-0.025116153 </td><td> 0.01948002  </td><td> 0.0639566123</td><td> 0.150059706 </td><td> 0.1360958744</td><td>-0.13832105  </td><td>-0.1619044566</td><td>-0.065625943 </td><td>-0.108255033 </td><td>-0.031318620 </td><td>-0.0424823581</td><td>-0.1050139472</td><td>-0.0205056455</td></tr>\n",
       "\t<tr><td>-0.158365989 </td><td>-0.139173010 </td><td>-0.125734079 </td><td> 0.007317903 </td><td>-0.12335245  </td><td> 0.801075733 </td><td>-0.133388761 </td><td>-0.081083549 </td><td>-0.03921284  </td><td> 0.0885177967</td><td> 0.049849633 </td><td> 0.0490999783</td><td>-0.05844191  </td><td> 0.0086394346</td><td>-0.038640415 </td><td> 0.029338370 </td><td> 0.121082984 </td><td>-0.0491085289</td><td>-0.0875677021</td><td>-0.1208525964</td></tr>\n",
       "\t<tr><td>-0.058104483 </td><td>-0.189411484 </td><td>-0.022774565 </td><td> 0.167987731 </td><td> 0.03704478  </td><td>-0.133388761 </td><td> 0.670768101 </td><td>-0.128070620 </td><td> 0.03246010  </td><td> 0.0489077956</td><td>-0.220282720 </td><td>-0.0308881769</td><td>-0.02395392  </td><td> 0.1692417425</td><td> 0.002193414 </td><td>-0.041460614 </td><td> 0.013808184 </td><td>-0.1425765794</td><td>-0.0490994669</td><td>-0.1024004509</td></tr>\n",
       "\t<tr><td>-0.121529795 </td><td>-0.109706389 </td><td>-0.010554013 </td><td> 0.067772029 </td><td>-0.02511615  </td><td>-0.081083549 </td><td>-0.128070620 </td><td> 0.906160272 </td><td>-0.06290501  </td><td>-0.0580870443</td><td>-0.040385375 </td><td>-0.0525742241</td><td>-0.01972920  </td><td>-0.0104770886</td><td>-0.020736950 </td><td>-0.087371369 </td><td>-0.014005446 </td><td>-0.0774347027</td><td> 0.0042922964</td><td>-0.0584576669</td></tr>\n",
       "\t<tr><td>-0.219422823 </td><td>-0.038028548 </td><td> 0.037848761 </td><td>-0.115748558 </td><td> 0.01948002  </td><td>-0.039212839 </td><td> 0.032460100 </td><td>-0.062905008 </td><td> 0.74586750  </td><td>-0.1924928883</td><td> 0.042537196 </td><td>-0.2111589733</td><td> 0.05544897  </td><td>-0.0933767995</td><td>-0.052627492 </td><td> 0.050016461 </td><td> 0.064485686 </td><td> 0.0325865581</td><td> 0.0459714540</td><td>-0.1017287654</td></tr>\n",
       "\t<tr><td>-0.104690804 </td><td> 0.008389844 </td><td> 0.108130724 </td><td>-0.050544109 </td><td> 0.06395661  </td><td> 0.088517797 </td><td> 0.048907796 </td><td>-0.058087044 </td><td>-0.19249289  </td><td> 0.7090680656</td><td>-0.051911410 </td><td>-0.2325122584</td><td> 0.03760741  </td><td>-0.1375025434</td><td>-0.040374632 </td><td>-0.131470941 </td><td>-0.141751032 </td><td>-0.0222566993</td><td> 0.0984163894</td><td> 0.0005997273</td></tr>\n",
       "\t<tr><td> 0.187723845 </td><td>-0.035658586 </td><td> 0.005593478 </td><td>-0.075565501 </td><td> 0.15005971  </td><td> 0.049849633 </td><td>-0.220282720 </td><td>-0.040385375 </td><td> 0.04253720  </td><td>-0.0519114104</td><td> 0.534212083 </td><td>-0.1834736571</td><td>-0.03482605  </td><td> 0.1640738269</td><td>-0.050997374 </td><td> 0.033079376 </td><td>-0.170634016 </td><td>-0.1087901449</td><td>-0.1250189740</td><td>-0.0695853363</td></tr>\n",
       "\t<tr><td>-0.078360163 </td><td>-0.010030747 </td><td> 0.088106135 </td><td>-0.133785639 </td><td> 0.13609587  </td><td> 0.049099978 </td><td>-0.030888177 </td><td>-0.052574224 </td><td>-0.21115897  </td><td>-0.2325122584</td><td>-0.183473657 </td><td> 0.6994317203</td><td> 0.06567440  </td><td>-0.0060121749</td><td>-0.053986902 </td><td> 0.060648883 </td><td>-0.042045794 </td><td> 0.0008924567</td><td> 0.0245796082</td><td>-0.0897003491</td></tr>\n",
       "\t<tr><td> 0.043006867 </td><td>-0.026579207 </td><td>-0.132920559 </td><td>-0.076413532 </td><td>-0.13832105  </td><td>-0.058441909 </td><td>-0.023953924 </td><td>-0.019729203 </td><td> 0.05544897  </td><td> 0.0376074070</td><td>-0.034826051 </td><td> 0.0656744030</td><td> 0.87118526  </td><td>-0.0832037921</td><td>-0.065128352 </td><td>-0.095437733 </td><td>-0.109776120 </td><td>-0.0699339683</td><td>-0.1232601248</td><td>-0.0149973747</td></tr>\n",
       "\t<tr><td>-0.084349449 </td><td> 0.036864106 </td><td>-0.060284026 </td><td>-0.120553196 </td><td>-0.16190446  </td><td> 0.008639435 </td><td> 0.169241742 </td><td>-0.010477089 </td><td>-0.09337680  </td><td>-0.1375025434</td><td> 0.164073827 </td><td>-0.0060121749</td><td>-0.08320379  </td><td> 0.7295309252</td><td>-0.071184038 </td><td>-0.175061212 </td><td>-0.131284225 </td><td>-0.0061038122</td><td>-0.0008433288</td><td> 0.0337901070</td></tr>\n",
       "\t<tr><td>-0.013948699 </td><td>-0.012783675 </td><td>-0.079575922 </td><td>-0.139386138 </td><td>-0.06562594  </td><td>-0.038640415 </td><td> 0.002193414 </td><td>-0.020736950 </td><td>-0.05262749  </td><td>-0.0403746324</td><td>-0.050997374 </td><td>-0.0539869023</td><td>-0.06512835  </td><td>-0.0711840382</td><td> 0.928720992 </td><td>-0.002783633 </td><td>-0.053358671 </td><td>-0.0241360761</td><td>-0.0898196424</td><td>-0.0558198493</td></tr>\n",
       "\t<tr><td>-0.034119595 </td><td>-0.060001389 </td><td> 0.016225264 </td><td> 0.196165619 </td><td>-0.10825503  </td><td> 0.029338370 </td><td>-0.041460614 </td><td>-0.087371369 </td><td> 0.05001646  </td><td>-0.1314709413</td><td> 0.033079376 </td><td> 0.0606488834</td><td>-0.09543773  </td><td>-0.1750612120</td><td>-0.002783633 </td><td> 0.580484560 </td><td>-0.269052323 </td><td>-0.1509301245</td><td> 0.0785083211</td><td> 0.1114771110</td></tr>\n",
       "\t<tr><td> 0.155766655 </td><td> 0.042985557 </td><td>-0.006141362 </td><td>-0.033850971 </td><td>-0.03131862  </td><td> 0.121082984 </td><td> 0.013808184 </td><td>-0.014005446 </td><td> 0.06448569  </td><td>-0.1417510319</td><td>-0.170634016 </td><td>-0.0420457944</td><td>-0.10977612  </td><td>-0.1312842247</td><td>-0.053358671 </td><td>-0.269052323 </td><td> 0.659137315 </td><td>-0.1110957873</td><td>-0.0336218350</td><td> 0.0906698225</td></tr>\n",
       "\t<tr><td>-0.010513971 </td><td>-0.090431849 </td><td>-0.037202134 </td><td> 0.077591214 </td><td>-0.04248236  </td><td>-0.049108529 </td><td>-0.142576579 </td><td>-0.077434703 </td><td> 0.03258656  </td><td>-0.0222566993</td><td>-0.108790145 </td><td> 0.0008924567</td><td>-0.06993397  </td><td>-0.0061038122</td><td>-0.024136076 </td><td>-0.150930124 </td><td>-0.111095787 </td><td> 0.8848969291</td><td>-0.0362798777</td><td>-0.0166905439</td></tr>\n",
       "\t<tr><td> 0.085891497 </td><td>-0.017890143 </td><td>-0.176009212 </td><td>-0.196681701 </td><td>-0.10501395  </td><td>-0.087567702 </td><td>-0.049099467 </td><td> 0.004292296 </td><td> 0.04597145  </td><td> 0.0984163894</td><td>-0.125018974 </td><td> 0.0245796082</td><td>-0.12326012  </td><td>-0.0008433288</td><td>-0.089819642 </td><td> 0.078508321 </td><td>-0.033621835 </td><td>-0.0362798777</td><td> 0.7900243053</td><td>-0.0865779165</td></tr>\n",
       "\t<tr><td>-0.107326204 </td><td>-0.086163404 </td><td>-0.070439076 </td><td>-0.097850749 </td><td>-0.02050565  </td><td>-0.120852596 </td><td>-0.102400451 </td><td>-0.058457667 </td><td>-0.10172877  </td><td> 0.0005997273</td><td>-0.069585336 </td><td>-0.0897003491</td><td>-0.01499737  </td><td> 0.0337901070</td><td>-0.055819849 </td><td> 0.111477111 </td><td> 0.090669823 </td><td>-0.0166905439</td><td>-0.0865779165</td><td> 0.8625591599</td></tr>\n",
       "</tbody>\n",
       "</table>\n"
      ],
      "text/latex": [
       "\\begin{tabular}{llllllllllllllllllll}\n",
       "\t  0.649355001  & -0.143888071  &  0.008474908  &  0.071490248  & -0.06708898   & -0.158365989  & -0.058104483  & -0.121529795  & -0.21942282   & -0.1046908038 &  0.187723845  & -0.0783601628 &  0.04300687   & -0.0843494489 & -0.013948699  & -0.034119595  &  0.155766655  & -0.0105139715 &  0.0858914972 & -0.1073262038\\\\\n",
       "\t -0.143888071  &  0.847325804  & -0.039837649  &  0.107028926  & -0.04301009   & -0.139173010  & -0.189411484  & -0.109706389  & -0.03802855   &  0.0083898442 & -0.035658586  & -0.0100307471 & -0.02657921   &  0.0368641057 & -0.012783675  & -0.060001389  &  0.042985557  & -0.0904318486 & -0.0178901427 & -0.0861634038\\\\\n",
       "\t  0.008474908  & -0.039837649  &  0.810164504  & -0.140501182  & -0.17256999   & -0.125734079  & -0.022774565  & -0.010554013  &  0.03784876   &  0.1081307243 &  0.005593478  &  0.0881061350 & -0.13292056   & -0.0602840263 & -0.079575922  &  0.016225264  & -0.006141362  & -0.0372021341 & -0.1760092124 & -0.0704390760\\\\\n",
       "\t  0.071490248  &  0.107028926  & -0.140501182  &  0.553815825  & -0.06828822   &  0.007317903  &  0.167987731  &  0.067772029  & -0.11574856   & -0.0505441091 & -0.075565501  & -0.1337856387 & -0.07641353   & -0.1205531956 & -0.139386138  &  0.196165619  & -0.033850971  &  0.0775912136 & -0.1966817011 & -0.0978507492\\\\\n",
       "\t -0.067088977  & -0.043010087  & -0.172569993  & -0.068288219  &  0.76621595   & -0.123352454  &  0.037044775  & -0.025116153  &  0.01948002   &  0.0639566123 &  0.150059706  &  0.1360958744 & -0.13832105   & -0.1619044566 & -0.065625943  & -0.108255033  & -0.031318620  & -0.0424823581 & -0.1050139472 & -0.0205056455\\\\\n",
       "\t -0.158365989  & -0.139173010  & -0.125734079  &  0.007317903  & -0.12335245   &  0.801075733  & -0.133388761  & -0.081083549  & -0.03921284   &  0.0885177967 &  0.049849633  &  0.0490999783 & -0.05844191   &  0.0086394346 & -0.038640415  &  0.029338370  &  0.121082984  & -0.0491085289 & -0.0875677021 & -0.1208525964\\\\\n",
       "\t -0.058104483  & -0.189411484  & -0.022774565  &  0.167987731  &  0.03704478   & -0.133388761  &  0.670768101  & -0.128070620  &  0.03246010   &  0.0489077956 & -0.220282720  & -0.0308881769 & -0.02395392   &  0.1692417425 &  0.002193414  & -0.041460614  &  0.013808184  & -0.1425765794 & -0.0490994669 & -0.1024004509\\\\\n",
       "\t -0.121529795  & -0.109706389  & -0.010554013  &  0.067772029  & -0.02511615   & -0.081083549  & -0.128070620  &  0.906160272  & -0.06290501   & -0.0580870443 & -0.040385375  & -0.0525742241 & -0.01972920   & -0.0104770886 & -0.020736950  & -0.087371369  & -0.014005446  & -0.0774347027 &  0.0042922964 & -0.0584576669\\\\\n",
       "\t -0.219422823  & -0.038028548  &  0.037848761  & -0.115748558  &  0.01948002   & -0.039212839  &  0.032460100  & -0.062905008  &  0.74586750   & -0.1924928883 &  0.042537196  & -0.2111589733 &  0.05544897   & -0.0933767995 & -0.052627492  &  0.050016461  &  0.064485686  &  0.0325865581 &  0.0459714540 & -0.1017287654\\\\\n",
       "\t -0.104690804  &  0.008389844  &  0.108130724  & -0.050544109  &  0.06395661   &  0.088517797  &  0.048907796  & -0.058087044  & -0.19249289   &  0.7090680656 & -0.051911410  & -0.2325122584 &  0.03760741   & -0.1375025434 & -0.040374632  & -0.131470941  & -0.141751032  & -0.0222566993 &  0.0984163894 &  0.0005997273\\\\\n",
       "\t  0.187723845  & -0.035658586  &  0.005593478  & -0.075565501  &  0.15005971   &  0.049849633  & -0.220282720  & -0.040385375  &  0.04253720   & -0.0519114104 &  0.534212083  & -0.1834736571 & -0.03482605   &  0.1640738269 & -0.050997374  &  0.033079376  & -0.170634016  & -0.1087901449 & -0.1250189740 & -0.0695853363\\\\\n",
       "\t -0.078360163  & -0.010030747  &  0.088106135  & -0.133785639  &  0.13609587   &  0.049099978  & -0.030888177  & -0.052574224  & -0.21115897   & -0.2325122584 & -0.183473657  &  0.6994317203 &  0.06567440   & -0.0060121749 & -0.053986902  &  0.060648883  & -0.042045794  &  0.0008924567 &  0.0245796082 & -0.0897003491\\\\\n",
       "\t  0.043006867  & -0.026579207  & -0.132920559  & -0.076413532  & -0.13832105   & -0.058441909  & -0.023953924  & -0.019729203  &  0.05544897   &  0.0376074070 & -0.034826051  &  0.0656744030 &  0.87118526   & -0.0832037921 & -0.065128352  & -0.095437733  & -0.109776120  & -0.0699339683 & -0.1232601248 & -0.0149973747\\\\\n",
       "\t -0.084349449  &  0.036864106  & -0.060284026  & -0.120553196  & -0.16190446   &  0.008639435  &  0.169241742  & -0.010477089  & -0.09337680   & -0.1375025434 &  0.164073827  & -0.0060121749 & -0.08320379   &  0.7295309252 & -0.071184038  & -0.175061212  & -0.131284225  & -0.0061038122 & -0.0008433288 &  0.0337901070\\\\\n",
       "\t -0.013948699  & -0.012783675  & -0.079575922  & -0.139386138  & -0.06562594   & -0.038640415  &  0.002193414  & -0.020736950  & -0.05262749   & -0.0403746324 & -0.050997374  & -0.0539869023 & -0.06512835   & -0.0711840382 &  0.928720992  & -0.002783633  & -0.053358671  & -0.0241360761 & -0.0898196424 & -0.0558198493\\\\\n",
       "\t -0.034119595  & -0.060001389  &  0.016225264  &  0.196165619  & -0.10825503   &  0.029338370  & -0.041460614  & -0.087371369  &  0.05001646   & -0.1314709413 &  0.033079376  &  0.0606488834 & -0.09543773   & -0.1750612120 & -0.002783633  &  0.580484560  & -0.269052323  & -0.1509301245 &  0.0785083211 &  0.1114771110\\\\\n",
       "\t  0.155766655  &  0.042985557  & -0.006141362  & -0.033850971  & -0.03131862   &  0.121082984  &  0.013808184  & -0.014005446  &  0.06448569   & -0.1417510319 & -0.170634016  & -0.0420457944 & -0.10977612   & -0.1312842247 & -0.053358671  & -0.269052323  &  0.659137315  & -0.1110957873 & -0.0336218350 &  0.0906698225\\\\\n",
       "\t -0.010513971  & -0.090431849  & -0.037202134  &  0.077591214  & -0.04248236   & -0.049108529  & -0.142576579  & -0.077434703  &  0.03258656   & -0.0222566993 & -0.108790145  &  0.0008924567 & -0.06993397   & -0.0061038122 & -0.024136076  & -0.150930124  & -0.111095787  &  0.8848969291 & -0.0362798777 & -0.0166905439\\\\\n",
       "\t  0.085891497  & -0.017890143  & -0.176009212  & -0.196681701  & -0.10501395   & -0.087567702  & -0.049099467  &  0.004292296  &  0.04597145   &  0.0984163894 & -0.125018974  &  0.0245796082 & -0.12326012   & -0.0008433288 & -0.089819642  &  0.078508321  & -0.033621835  & -0.0362798777 &  0.7900243053 & -0.0865779165\\\\\n",
       "\t -0.107326204  & -0.086163404  & -0.070439076  & -0.097850749  & -0.02050565   & -0.120852596  & -0.102400451  & -0.058457667  & -0.10172877   &  0.0005997273 & -0.069585336  & -0.0897003491 & -0.01499737   &  0.0337901070 & -0.055819849  &  0.111477111  &  0.090669823  & -0.0166905439 & -0.0865779165 &  0.8625591599\\\\\n",
       "\\end{tabular}\n"
      ],
      "text/markdown": [
       "\n",
       "|  0.649355001  | -0.143888071  |  0.008474908  |  0.071490248  | -0.06708898   | -0.158365989  | -0.058104483  | -0.121529795  | -0.21942282   | -0.1046908038 |  0.187723845  | -0.0783601628 |  0.04300687   | -0.0843494489 | -0.013948699  | -0.034119595  |  0.155766655  | -0.0105139715 |  0.0858914972 | -0.1073262038 |\n",
       "| -0.143888071  |  0.847325804  | -0.039837649  |  0.107028926  | -0.04301009   | -0.139173010  | -0.189411484  | -0.109706389  | -0.03802855   |  0.0083898442 | -0.035658586  | -0.0100307471 | -0.02657921   |  0.0368641057 | -0.012783675  | -0.060001389  |  0.042985557  | -0.0904318486 | -0.0178901427 | -0.0861634038 |\n",
       "|  0.008474908  | -0.039837649  |  0.810164504  | -0.140501182  | -0.17256999   | -0.125734079  | -0.022774565  | -0.010554013  |  0.03784876   |  0.1081307243 |  0.005593478  |  0.0881061350 | -0.13292056   | -0.0602840263 | -0.079575922  |  0.016225264  | -0.006141362  | -0.0372021341 | -0.1760092124 | -0.0704390760 |\n",
       "|  0.071490248  |  0.107028926  | -0.140501182  |  0.553815825  | -0.06828822   |  0.007317903  |  0.167987731  |  0.067772029  | -0.11574856   | -0.0505441091 | -0.075565501  | -0.1337856387 | -0.07641353   | -0.1205531956 | -0.139386138  |  0.196165619  | -0.033850971  |  0.0775912136 | -0.1966817011 | -0.0978507492 |\n",
       "| -0.067088977  | -0.043010087  | -0.172569993  | -0.068288219  |  0.76621595   | -0.123352454  |  0.037044775  | -0.025116153  |  0.01948002   |  0.0639566123 |  0.150059706  |  0.1360958744 | -0.13832105   | -0.1619044566 | -0.065625943  | -0.108255033  | -0.031318620  | -0.0424823581 | -0.1050139472 | -0.0205056455 |\n",
       "| -0.158365989  | -0.139173010  | -0.125734079  |  0.007317903  | -0.12335245   |  0.801075733  | -0.133388761  | -0.081083549  | -0.03921284   |  0.0885177967 |  0.049849633  |  0.0490999783 | -0.05844191   |  0.0086394346 | -0.038640415  |  0.029338370  |  0.121082984  | -0.0491085289 | -0.0875677021 | -0.1208525964 |\n",
       "| -0.058104483  | -0.189411484  | -0.022774565  |  0.167987731  |  0.03704478   | -0.133388761  |  0.670768101  | -0.128070620  |  0.03246010   |  0.0489077956 | -0.220282720  | -0.0308881769 | -0.02395392   |  0.1692417425 |  0.002193414  | -0.041460614  |  0.013808184  | -0.1425765794 | -0.0490994669 | -0.1024004509 |\n",
       "| -0.121529795  | -0.109706389  | -0.010554013  |  0.067772029  | -0.02511615   | -0.081083549  | -0.128070620  |  0.906160272  | -0.06290501   | -0.0580870443 | -0.040385375  | -0.0525742241 | -0.01972920   | -0.0104770886 | -0.020736950  | -0.087371369  | -0.014005446  | -0.0774347027 |  0.0042922964 | -0.0584576669 |\n",
       "| -0.219422823  | -0.038028548  |  0.037848761  | -0.115748558  |  0.01948002   | -0.039212839  |  0.032460100  | -0.062905008  |  0.74586750   | -0.1924928883 |  0.042537196  | -0.2111589733 |  0.05544897   | -0.0933767995 | -0.052627492  |  0.050016461  |  0.064485686  |  0.0325865581 |  0.0459714540 | -0.1017287654 |\n",
       "| -0.104690804  |  0.008389844  |  0.108130724  | -0.050544109  |  0.06395661   |  0.088517797  |  0.048907796  | -0.058087044  | -0.19249289   |  0.7090680656 | -0.051911410  | -0.2325122584 |  0.03760741   | -0.1375025434 | -0.040374632  | -0.131470941  | -0.141751032  | -0.0222566993 |  0.0984163894 |  0.0005997273 |\n",
       "|  0.187723845  | -0.035658586  |  0.005593478  | -0.075565501  |  0.15005971   |  0.049849633  | -0.220282720  | -0.040385375  |  0.04253720   | -0.0519114104 |  0.534212083  | -0.1834736571 | -0.03482605   |  0.1640738269 | -0.050997374  |  0.033079376  | -0.170634016  | -0.1087901449 | -0.1250189740 | -0.0695853363 |\n",
       "| -0.078360163  | -0.010030747  |  0.088106135  | -0.133785639  |  0.13609587   |  0.049099978  | -0.030888177  | -0.052574224  | -0.21115897   | -0.2325122584 | -0.183473657  |  0.6994317203 |  0.06567440   | -0.0060121749 | -0.053986902  |  0.060648883  | -0.042045794  |  0.0008924567 |  0.0245796082 | -0.0897003491 |\n",
       "|  0.043006867  | -0.026579207  | -0.132920559  | -0.076413532  | -0.13832105   | -0.058441909  | -0.023953924  | -0.019729203  |  0.05544897   |  0.0376074070 | -0.034826051  |  0.0656744030 |  0.87118526   | -0.0832037921 | -0.065128352  | -0.095437733  | -0.109776120  | -0.0699339683 | -0.1232601248 | -0.0149973747 |\n",
       "| -0.084349449  |  0.036864106  | -0.060284026  | -0.120553196  | -0.16190446   |  0.008639435  |  0.169241742  | -0.010477089  | -0.09337680   | -0.1375025434 |  0.164073827  | -0.0060121749 | -0.08320379   |  0.7295309252 | -0.071184038  | -0.175061212  | -0.131284225  | -0.0061038122 | -0.0008433288 |  0.0337901070 |\n",
       "| -0.013948699  | -0.012783675  | -0.079575922  | -0.139386138  | -0.06562594   | -0.038640415  |  0.002193414  | -0.020736950  | -0.05262749   | -0.0403746324 | -0.050997374  | -0.0539869023 | -0.06512835   | -0.0711840382 |  0.928720992  | -0.002783633  | -0.053358671  | -0.0241360761 | -0.0898196424 | -0.0558198493 |\n",
       "| -0.034119595  | -0.060001389  |  0.016225264  |  0.196165619  | -0.10825503   |  0.029338370  | -0.041460614  | -0.087371369  |  0.05001646   | -0.1314709413 |  0.033079376  |  0.0606488834 | -0.09543773   | -0.1750612120 | -0.002783633  |  0.580484560  | -0.269052323  | -0.1509301245 |  0.0785083211 |  0.1114771110 |\n",
       "|  0.155766655  |  0.042985557  | -0.006141362  | -0.033850971  | -0.03131862   |  0.121082984  |  0.013808184  | -0.014005446  |  0.06448569   | -0.1417510319 | -0.170634016  | -0.0420457944 | -0.10977612   | -0.1312842247 | -0.053358671  | -0.269052323  |  0.659137315  | -0.1110957873 | -0.0336218350 |  0.0906698225 |\n",
       "| -0.010513971  | -0.090431849  | -0.037202134  |  0.077591214  | -0.04248236   | -0.049108529  | -0.142576579  | -0.077434703  |  0.03258656   | -0.0222566993 | -0.108790145  |  0.0008924567 | -0.06993397   | -0.0061038122 | -0.024136076  | -0.150930124  | -0.111095787  |  0.8848969291 | -0.0362798777 | -0.0166905439 |\n",
       "|  0.085891497  | -0.017890143  | -0.176009212  | -0.196681701  | -0.10501395   | -0.087567702  | -0.049099467  |  0.004292296  |  0.04597145   |  0.0984163894 | -0.125018974  |  0.0245796082 | -0.12326012   | -0.0008433288 | -0.089819642  |  0.078508321  | -0.033621835  | -0.0362798777 |  0.7900243053 | -0.0865779165 |\n",
       "| -0.107326204  | -0.086163404  | -0.070439076  | -0.097850749  | -0.02050565   | -0.120852596  | -0.102400451  | -0.058457667  | -0.10172877   |  0.0005997273 | -0.069585336  | -0.0897003491 | -0.01499737   |  0.0337901070 | -0.055819849  |  0.111477111  |  0.090669823  | -0.0166905439 | -0.0865779165 |  0.8625591599 |\n",
       "\n"
      ],
      "text/plain": [
       "      [,1]         [,2]         [,3]         [,4]         [,5]       \n",
       " [1,]  0.649355001 -0.143888071  0.008474908  0.071490248 -0.06708898\n",
       " [2,] -0.143888071  0.847325804 -0.039837649  0.107028926 -0.04301009\n",
       " [3,]  0.008474908 -0.039837649  0.810164504 -0.140501182 -0.17256999\n",
       " [4,]  0.071490248  0.107028926 -0.140501182  0.553815825 -0.06828822\n",
       " [5,] -0.067088977 -0.043010087 -0.172569993 -0.068288219  0.76621595\n",
       " [6,] -0.158365989 -0.139173010 -0.125734079  0.007317903 -0.12335245\n",
       " [7,] -0.058104483 -0.189411484 -0.022774565  0.167987731  0.03704478\n",
       " [8,] -0.121529795 -0.109706389 -0.010554013  0.067772029 -0.02511615\n",
       " [9,] -0.219422823 -0.038028548  0.037848761 -0.115748558  0.01948002\n",
       "[10,] -0.104690804  0.008389844  0.108130724 -0.050544109  0.06395661\n",
       "[11,]  0.187723845 -0.035658586  0.005593478 -0.075565501  0.15005971\n",
       "[12,] -0.078360163 -0.010030747  0.088106135 -0.133785639  0.13609587\n",
       "[13,]  0.043006867 -0.026579207 -0.132920559 -0.076413532 -0.13832105\n",
       "[14,] -0.084349449  0.036864106 -0.060284026 -0.120553196 -0.16190446\n",
       "[15,] -0.013948699 -0.012783675 -0.079575922 -0.139386138 -0.06562594\n",
       "[16,] -0.034119595 -0.060001389  0.016225264  0.196165619 -0.10825503\n",
       "[17,]  0.155766655  0.042985557 -0.006141362 -0.033850971 -0.03131862\n",
       "[18,] -0.010513971 -0.090431849 -0.037202134  0.077591214 -0.04248236\n",
       "[19,]  0.085891497 -0.017890143 -0.176009212 -0.196681701 -0.10501395\n",
       "[20,] -0.107326204 -0.086163404 -0.070439076 -0.097850749 -0.02050565\n",
       "      [,6]         [,7]         [,8]         [,9]        [,10]        \n",
       " [1,] -0.158365989 -0.058104483 -0.121529795 -0.21942282 -0.1046908038\n",
       " [2,] -0.139173010 -0.189411484 -0.109706389 -0.03802855  0.0083898442\n",
       " [3,] -0.125734079 -0.022774565 -0.010554013  0.03784876  0.1081307243\n",
       " [4,]  0.007317903  0.167987731  0.067772029 -0.11574856 -0.0505441091\n",
       " [5,] -0.123352454  0.037044775 -0.025116153  0.01948002  0.0639566123\n",
       " [6,]  0.801075733 -0.133388761 -0.081083549 -0.03921284  0.0885177967\n",
       " [7,] -0.133388761  0.670768101 -0.128070620  0.03246010  0.0489077956\n",
       " [8,] -0.081083549 -0.128070620  0.906160272 -0.06290501 -0.0580870443\n",
       " [9,] -0.039212839  0.032460100 -0.062905008  0.74586750 -0.1924928883\n",
       "[10,]  0.088517797  0.048907796 -0.058087044 -0.19249289  0.7090680656\n",
       "[11,]  0.049849633 -0.220282720 -0.040385375  0.04253720 -0.0519114104\n",
       "[12,]  0.049099978 -0.030888177 -0.052574224 -0.21115897 -0.2325122584\n",
       "[13,] -0.058441909 -0.023953924 -0.019729203  0.05544897  0.0376074070\n",
       "[14,]  0.008639435  0.169241742 -0.010477089 -0.09337680 -0.1375025434\n",
       "[15,] -0.038640415  0.002193414 -0.020736950 -0.05262749 -0.0403746324\n",
       "[16,]  0.029338370 -0.041460614 -0.087371369  0.05001646 -0.1314709413\n",
       "[17,]  0.121082984  0.013808184 -0.014005446  0.06448569 -0.1417510319\n",
       "[18,] -0.049108529 -0.142576579 -0.077434703  0.03258656 -0.0222566993\n",
       "[19,] -0.087567702 -0.049099467  0.004292296  0.04597145  0.0984163894\n",
       "[20,] -0.120852596 -0.102400451 -0.058457667 -0.10172877  0.0005997273\n",
       "      [,11]        [,12]         [,13]       [,14]         [,15]       \n",
       " [1,]  0.187723845 -0.0783601628  0.04300687 -0.0843494489 -0.013948699\n",
       " [2,] -0.035658586 -0.0100307471 -0.02657921  0.0368641057 -0.012783675\n",
       " [3,]  0.005593478  0.0881061350 -0.13292056 -0.0602840263 -0.079575922\n",
       " [4,] -0.075565501 -0.1337856387 -0.07641353 -0.1205531956 -0.139386138\n",
       " [5,]  0.150059706  0.1360958744 -0.13832105 -0.1619044566 -0.065625943\n",
       " [6,]  0.049849633  0.0490999783 -0.05844191  0.0086394346 -0.038640415\n",
       " [7,] -0.220282720 -0.0308881769 -0.02395392  0.1692417425  0.002193414\n",
       " [8,] -0.040385375 -0.0525742241 -0.01972920 -0.0104770886 -0.020736950\n",
       " [9,]  0.042537196 -0.2111589733  0.05544897 -0.0933767995 -0.052627492\n",
       "[10,] -0.051911410 -0.2325122584  0.03760741 -0.1375025434 -0.040374632\n",
       "[11,]  0.534212083 -0.1834736571 -0.03482605  0.1640738269 -0.050997374\n",
       "[12,] -0.183473657  0.6994317203  0.06567440 -0.0060121749 -0.053986902\n",
       "[13,] -0.034826051  0.0656744030  0.87118526 -0.0832037921 -0.065128352\n",
       "[14,]  0.164073827 -0.0060121749 -0.08320379  0.7295309252 -0.071184038\n",
       "[15,] -0.050997374 -0.0539869023 -0.06512835 -0.0711840382  0.928720992\n",
       "[16,]  0.033079376  0.0606488834 -0.09543773 -0.1750612120 -0.002783633\n",
       "[17,] -0.170634016 -0.0420457944 -0.10977612 -0.1312842247 -0.053358671\n",
       "[18,] -0.108790145  0.0008924567 -0.06993397 -0.0061038122 -0.024136076\n",
       "[19,] -0.125018974  0.0245796082 -0.12326012 -0.0008433288 -0.089819642\n",
       "[20,] -0.069585336 -0.0897003491 -0.01499737  0.0337901070 -0.055819849\n",
       "      [,16]        [,17]        [,18]         [,19]         [,20]        \n",
       " [1,] -0.034119595  0.155766655 -0.0105139715  0.0858914972 -0.1073262038\n",
       " [2,] -0.060001389  0.042985557 -0.0904318486 -0.0178901427 -0.0861634038\n",
       " [3,]  0.016225264 -0.006141362 -0.0372021341 -0.1760092124 -0.0704390760\n",
       " [4,]  0.196165619 -0.033850971  0.0775912136 -0.1966817011 -0.0978507492\n",
       " [5,] -0.108255033 -0.031318620 -0.0424823581 -0.1050139472 -0.0205056455\n",
       " [6,]  0.029338370  0.121082984 -0.0491085289 -0.0875677021 -0.1208525964\n",
       " [7,] -0.041460614  0.013808184 -0.1425765794 -0.0490994669 -0.1024004509\n",
       " [8,] -0.087371369 -0.014005446 -0.0774347027  0.0042922964 -0.0584576669\n",
       " [9,]  0.050016461  0.064485686  0.0325865581  0.0459714540 -0.1017287654\n",
       "[10,] -0.131470941 -0.141751032 -0.0222566993  0.0984163894  0.0005997273\n",
       "[11,]  0.033079376 -0.170634016 -0.1087901449 -0.1250189740 -0.0695853363\n",
       "[12,]  0.060648883 -0.042045794  0.0008924567  0.0245796082 -0.0897003491\n",
       "[13,] -0.095437733 -0.109776120 -0.0699339683 -0.1232601248 -0.0149973747\n",
       "[14,] -0.175061212 -0.131284225 -0.0061038122 -0.0008433288  0.0337901070\n",
       "[15,] -0.002783633 -0.053358671 -0.0241360761 -0.0898196424 -0.0558198493\n",
       "[16,]  0.580484560 -0.269052323 -0.1509301245  0.0785083211  0.1114771110\n",
       "[17,] -0.269052323  0.659137315 -0.1110957873 -0.0336218350  0.0906698225\n",
       "[18,] -0.150930124 -0.111095787  0.8848969291 -0.0362798777 -0.0166905439\n",
       "[19,]  0.078508321 -0.033621835 -0.0362798777  0.7900243053 -0.0865779165\n",
       "[20,]  0.111477111  0.090669823 -0.0166905439 -0.0865779165  0.8625591599"
      ]
     },
     "metadata": {},
     "output_type": "display_data"
    }
   ],
   "source": [
    "#Finalmente, M = I - H\n",
    "M <- I-H\n",
    "M"
   ]
  }
 ],
 "metadata": {
  "kernelspec": {
   "display_name": "R",
   "language": "R",
   "name": "ir"
  },
  "language_info": {
   "codemirror_mode": "r",
   "file_extension": ".r",
   "mimetype": "text/x-r-source",
   "name": "R",
   "pygments_lexer": "r",
   "version": "3.6.1"
  }
 },
 "nbformat": 4,
 "nbformat_minor": 5
}
