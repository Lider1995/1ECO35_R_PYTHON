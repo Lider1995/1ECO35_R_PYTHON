{
 "cells": [
  {
   "cell_type": "markdown",
   "id": "e89ad0f0",
   "metadata": {},
   "source": [
    "## Grupo 5 - WH4 - Python\n",
    "### Integrantes\n",
    "- Diego\n",
    "- Teresa\n",
    "- Yoberson"
   ]
  },
  {
   "cell_type": "code",
   "execution_count": null,
   "id": "f9be2392",
   "metadata": {},
   "outputs": [],
   "source": []
  },
  {
   "cell_type": "markdown",
   "id": "9f6d0e30",
   "metadata": {},
   "source": [
    "## Importar SPSS dataset"
   ]
  },
  {
   "cell_type": "markdown",
   "id": "89593d3e",
   "metadata": {},
   "source": [
    "1. Subir la base de datos de la Enapres trabajada el viernes. Mostrar todos los labels de variables y labels de valores de las variables). Para el caso de R, solo mostrar esa información de las siguientes variables: P122A_1, P184A_14, P107A."
   ]
  },
  {
   "cell_type": "code",
   "execution_count": null,
   "id": "d0c098b2",
   "metadata": {},
   "outputs": [],
   "source": []
  },
  {
   "cell_type": "markdown",
   "id": "56f952fb",
   "metadata": {},
   "source": [
    "2. Mostrar la información de las variables. Tipo de variables y un summary de las variables."
   ]
  },
  {
   "cell_type": "code",
   "execution_count": null,
   "id": "baf71f19",
   "metadata": {},
   "outputs": [],
   "source": []
  },
  {
   "cell_type": "markdown",
   "id": "bea7606c",
   "metadata": {},
   "source": [
    "## Filtro de base de datos"
   ]
  },
  {
   "cell_type": "markdown",
   "id": "08c4fcec",
   "metadata": {},
   "source": [
    "1. Quedarse con los hogares Urbanos, asimismo considerar los hogares que completaron la encuesta."
   ]
  },
  {
   "cell_type": "code",
   "execution_count": null,
   "id": "13ae13bc",
   "metadata": {},
   "outputs": [],
   "source": []
  },
  {
   "cell_type": "markdown",
   "id": "560ac65b",
   "metadata": {},
   "source": [
    "2. Verificar si existe duplicados de hogares"
   ]
  },
  {
   "cell_type": "code",
   "execution_count": null,
   "id": "1101bd73",
   "metadata": {},
   "outputs": [],
   "source": []
  },
  {
   "cell_type": "markdown",
   "id": "2750cb8e",
   "metadata": {},
   "source": [
    "3. Si existiese, filtrar la base de datos para no considerar los duplicados."
   ]
  },
  {
   "cell_type": "code",
   "execution_count": null,
   "id": "20cfe052",
   "metadata": {},
   "outputs": [],
   "source": []
  },
  {
   "cell_type": "markdown",
   "id": "c3779cd9",
   "metadata": {},
   "source": [
    "## Crear Dummies"
   ]
  },
  {
   "cell_type": "markdown",
   "id": "5d60de21",
   "metadata": {},
   "source": [
    "1. Crear una Dummy si la zona donde se ubica el hogar instaló cámaras de seguridad. (variable P122A_1). Tenga cuidado con los missing values. Tenga cuidado con los missing values si los hubiera."
   ]
  },
  {
   "cell_type": "code",
   "execution_count": null,
   "id": "86e59676",
   "metadata": {},
   "outputs": [],
   "source": []
  },
  {
   "cell_type": "markdown",
   "id": "06d0add2",
   "metadata": {},
   "source": [
    "2. Crear una Dummy si el hogar cuenta con internet (variable P184A_14). Tenga cuidado con los missing values si los hubiera"
   ]
  },
  {
   "cell_type": "code",
   "execution_count": null,
   "id": "bf1e339c",
   "metadata": {},
   "outputs": [],
   "source": []
  },
  {
   "cell_type": "markdown",
   "id": "a32d322b",
   "metadata": {},
   "source": [
    "3. Crear una Dummy si el hogar cuenta con titulo de propiedad (variable P107A)"
   ]
  },
  {
   "cell_type": "code",
   "execution_count": null,
   "id": "fc7a0b8a",
   "metadata": {},
   "outputs": [],
   "source": []
  },
  {
   "cell_type": "markdown",
   "id": "9b7f6d34",
   "metadata": {},
   "source": [
    "## Group by"
   ]
  },
  {
   "cell_type": "markdown",
   "id": "989445be",
   "metadata": {},
   "source": [
    "1. Obtener el total de hogares por distrito, el total de hogares que cuentan con internet por distrito, finalmente el porcentaje de hogares que cuentan con internet."
   ]
  },
  {
   "cell_type": "code",
   "execution_count": null,
   "id": "6f7e26ac",
   "metadata": {},
   "outputs": [],
   "source": []
  },
  {
   "cell_type": "markdown",
   "id": "e94b8941",
   "metadata": {},
   "source": [
    "2. Obtener una base de datos a nivel departamentos con la siguiente información: total de hogares, total de hogares cuyo vecindario instaló cámaras de seguridad y el porcentaje hogares cuyos vecindarios cuentan con cámaras de seguridad. Base_1"
   ]
  },
  {
   "cell_type": "code",
   "execution_count": null,
   "id": "c4f7cca4",
   "metadata": {},
   "outputs": [],
   "source": []
  },
  {
   "cell_type": "markdown",
   "id": "c972fd01",
   "metadata": {},
   "source": [
    "3. Crear una base de datos a nivel departamentos con la siguiente información: total de hogares que cuentan con títulos de propiedad y porcentaje de hogares que cuentan con títulos de propiedad. Base_2"
   ]
  },
  {
   "cell_type": "code",
   "execution_count": null,
   "id": "e5343af7",
   "metadata": {},
   "outputs": [],
   "source": []
  },
  {
   "cell_type": "markdown",
   "id": "c3cc8d5a",
   "metadata": {},
   "source": [
    "## Merge"
   ]
  },
  {
   "cell_type": "markdown",
   "id": "e2b85483",
   "metadata": {},
   "source": [
    "1. Hacer un merge entre las bases de datos Base_1 y Base_2"
   ]
  },
  {
   "cell_type": "code",
   "execution_count": null,
   "id": "e2940c9b",
   "metadata": {},
   "outputs": [],
   "source": []
  },
  {
   "cell_type": "markdown",
   "id": "9b6d82cc",
   "metadata": {},
   "source": [
    "2. Finalmente guardar la base de datos en el formato SPSS. Llamar a la base de datos (Clean_data)"
   ]
  },
  {
   "cell_type": "code",
   "execution_count": null,
   "id": "3a77d8db",
   "metadata": {},
   "outputs": [],
   "source": []
  }
 ],
 "metadata": {
  "kernelspec": {
   "display_name": "Python 3 (ipykernel)",
   "language": "python",
   "name": "python3"
  },
  "language_info": {
   "codemirror_mode": {
    "name": "ipython",
    "version": 3
   },
   "file_extension": ".py",
   "mimetype": "text/x-python",
   "name": "python",
   "nbconvert_exporter": "python",
   "pygments_lexer": "ipython3",
   "version": "3.9.11"
  }
 },
 "nbformat": 4,
 "nbformat_minor": 5
}
