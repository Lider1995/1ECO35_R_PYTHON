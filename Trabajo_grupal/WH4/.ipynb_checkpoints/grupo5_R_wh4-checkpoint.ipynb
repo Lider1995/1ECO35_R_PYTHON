{
 "cells": [
  {
   "cell_type": "markdown",
   "id": "fdfe76ef",
   "metadata": {},
   "source": [
    "## Grupo 5 - WH4 - R\n",
    "### Integrantes\n",
    "- Diego\n",
    "- Teresa\n",
    "- Yoberson"
   ]
  },
  {
   "cell_type": "code",
   "execution_count": null,
   "id": "44b18001",
   "metadata": {},
   "outputs": [],
   "source": []
  },
  {
   "cell_type": "markdown",
   "id": "67512626",
   "metadata": {},
   "source": [
    "## Importar SPSS dataset"
   ]
  },
  {
   "cell_type": "markdown",
   "id": "19306434",
   "metadata": {},
   "source": [
    "1. Subir la base de datos de la Enapres trabajada el viernes. Mostrar todos los labels de variables y labels de valores de las variables). Para el caso de R, solo mostrar esa información de las siguientes variables: P122A_1, P184A_14, P107A."
   ]
  },
  {
   "cell_type": "code",
   "execution_count": null,
   "id": "10af8a92",
   "metadata": {},
   "outputs": [],
   "source": []
  },
  {
   "cell_type": "markdown",
   "id": "749c6362",
   "metadata": {},
   "source": [
    "2. Mostrar la información de las variables. Tipo de variables y un summary de las variables."
   ]
  },
  {
   "cell_type": "code",
   "execution_count": null,
   "id": "0197b020",
   "metadata": {},
   "outputs": [],
   "source": []
  },
  {
   "cell_type": "markdown",
   "id": "426bab3d",
   "metadata": {},
   "source": [
    "## Filtro de base de datos"
   ]
  },
  {
   "cell_type": "markdown",
   "id": "dbf24df5",
   "metadata": {},
   "source": [
    "1. Quedarse con los hogares Urbanos, asimismo considerar los hogares que completaron la encuesta."
   ]
  },
  {
   "cell_type": "code",
   "execution_count": null,
   "id": "3623fe8f",
   "metadata": {},
   "outputs": [],
   "source": []
  },
  {
   "cell_type": "markdown",
   "id": "ab7e2f4f",
   "metadata": {},
   "source": [
    "2. Verificar si existe duplicados de hogares"
   ]
  },
  {
   "cell_type": "code",
   "execution_count": null,
   "id": "18d32805",
   "metadata": {},
   "outputs": [],
   "source": []
  },
  {
   "cell_type": "markdown",
   "id": "0c060c69",
   "metadata": {},
   "source": [
    "3. Si existiese, filtrar la base de datos para no considerar los duplicados."
   ]
  },
  {
   "cell_type": "code",
   "execution_count": null,
   "id": "9ee4ce08",
   "metadata": {},
   "outputs": [],
   "source": []
  },
  {
   "cell_type": "markdown",
   "id": "d3124333",
   "metadata": {},
   "source": [
    "## Crear Dummies"
   ]
  },
  {
   "cell_type": "markdown",
   "id": "ab41c0b7",
   "metadata": {},
   "source": [
    "1. Crear una Dummy si la zona donde se ubica el hogar instaló cámaras de seguridad. (variable P122A_1). Tenga cuidado con los missing values. Tenga cuidado con los missing values si los hubiera."
   ]
  },
  {
   "cell_type": "code",
   "execution_count": null,
   "id": "014d4206",
   "metadata": {},
   "outputs": [],
   "source": []
  },
  {
   "cell_type": "markdown",
   "id": "910ba8f9",
   "metadata": {},
   "source": [
    "2. Crear una Dummy si el hogar cuenta con internet (variable P184A_14). Tenga cuidado con los missing values si los hubiera"
   ]
  },
  {
   "cell_type": "code",
   "execution_count": null,
   "id": "ab1c7404",
   "metadata": {},
   "outputs": [],
   "source": []
  },
  {
   "cell_type": "markdown",
   "id": "50be8406",
   "metadata": {},
   "source": [
    "3. Crear una Dummy si el hogar cuenta con titulo de propiedad (variable P107A)"
   ]
  },
  {
   "cell_type": "markdown",
   "id": "a069c9d0",
   "metadata": {},
   "source": [
    "## Group by"
   ]
  },
  {
   "cell_type": "markdown",
   "id": "95b62d84",
   "metadata": {},
   "source": [
    "1. Obtener el total de hogares por distrito, el total de hogares que cuentan con internet por distrito, finalmente el porcentaje de hogares que cuentan con internet."
   ]
  },
  {
   "cell_type": "code",
   "execution_count": null,
   "id": "e7505e3f",
   "metadata": {},
   "outputs": [],
   "source": []
  },
  {
   "cell_type": "markdown",
   "id": "68a74bc4",
   "metadata": {},
   "source": [
    "2. Obtener una base de datos a nivel departamentos con la siguiente información: total de hogares, total de hogares cuyo vecindario instaló cámaras de seguridad y el porcentaje hogares cuyos vecindarios cuentan con cámaras de seguridad. Base_1"
   ]
  },
  {
   "cell_type": "code",
   "execution_count": null,
   "id": "9f2166ef",
   "metadata": {},
   "outputs": [],
   "source": []
  },
  {
   "cell_type": "markdown",
   "id": "2ec0f32d",
   "metadata": {},
   "source": [
    "3. Crear una base de datos a nivel departamentos con la siguiente información: total de hogares que cuentan con títulos de propiedad y porcentaje de hogares que cuentan con títulos de propiedad. Base_2"
   ]
  },
  {
   "cell_type": "code",
   "execution_count": null,
   "id": "14842e3b",
   "metadata": {},
   "outputs": [],
   "source": []
  },
  {
   "cell_type": "markdown",
   "id": "da556f61",
   "metadata": {},
   "source": [
    "## Merge"
   ]
  },
  {
   "cell_type": "markdown",
   "id": "98d3dbec",
   "metadata": {},
   "source": [
    "1. Hacer un merge entre las bases de datos Base_1 y Base_2"
   ]
  },
  {
   "cell_type": "code",
   "execution_count": null,
   "id": "61bb0338",
   "metadata": {},
   "outputs": [],
   "source": []
  },
  {
   "cell_type": "markdown",
   "id": "634021a3",
   "metadata": {},
   "source": [
    "2. Finalmente guardar la base de datos en el formato SPSS. Llamar a la base de datos (Clean_data)"
   ]
  },
  {
   "cell_type": "code",
   "execution_count": null,
   "id": "32063bb4",
   "metadata": {},
   "outputs": [],
   "source": []
  }
 ],
 "metadata": {
  "kernelspec": {
   "display_name": "R",
   "language": "R",
   "name": "ir"
  },
  "language_info": {
   "codemirror_mode": "r",
   "file_extension": ".r",
   "mimetype": "text/x-r-source",
   "name": "R",
   "pygments_lexer": "r",
   "version": "4.1.3"
  }
 },
 "nbformat": 4,
 "nbformat_minor": 5
}
