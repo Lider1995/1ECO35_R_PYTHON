{
 "cells": [
  {
   "cell_type": "markdown",
   "metadata": {},
   "source": [
    "# 2 Functions and classes \n",
    "\n",
    "### <a id = '#2.1'> 2.1 The Importance of Python Functions </a> \n",
    "\n",
    "- Abstraction and Reusability: Replicate the code you will use over and over again.\n",
    "- Modularity: Functions allow complex processes to be broken up into smaller steps.\n",
    "- Namespace Separation: It allows you to use variables  and used within a Python function even if they have the same name as variables defined in other functions or in the main program. \n",
    "\n"
   ]
  },
  {
   "cell_type": "markdown",
   "metadata": {},
   "source": [
    "### <a ID = '#2.2'> 2.2 Function structure </a> \n",
    "\n",
    "A function requires **parameters**, **code** to execute and the **return** function. The **def** keyword introduces a new Python function definition.\n",
    "\n",
    "This is the basic structure:\n",
    "<br><br>\n",
    "\n",
    "<font size=\"4\">\n",
    "def name_function<font color='green'>( parameter1, parameter2 )</font>: <br> <br>\n",
    "&nbsp;&nbsp;&nbsp;&nbsp;Code<br><br>\n",
    "&nbsp;&nbsp;&nbsp;&nbsp;<font color='green'>return</font> final_output<br>\n",
    "</font>"
   ]
  },
  {
   "cell_type": "code",
   "execution_count": 7,
   "metadata": {},
   "outputs": [
    {
     "data": {
      "text/html": [
       "\n",
       "<style>\n",
       "    div#notebook-container    { width: 90%; }\n",
       "    div#menubar-container     { width: 90%; }\n",
       "    div#maintoolbar-container { width: 99%; }a\n",
       "</style>\n"
      ],
      "text/plain": [
       "<IPython.core.display.HTML object>"
      ]
     },
     "metadata": {},
     "output_type": "display_data"
    }
   ],
   "source": [
    "from IPython.display import display, HTML\n",
    "\n",
    "display(HTML(data=\"\"\"\n",
    "<style>\n",
    "    div#notebook-container    { width: 90%; }\n",
    "    div#menubar-container     { width: 90%; }\n",
    "    div#maintoolbar-container { width: 99%; }a\n",
    "</style>\n",
    "\"\"\"))"
   ]
  },
  {
   "cell_type": "code",
   "execution_count": 43,
   "metadata": {},
   "outputs": [],
   "source": [
    "# return squared result\n",
    "\n",
    "def calculator(x,z,a):\n",
    "    m = (x+z)**a\n",
    "    \n",
    "    return m"
   ]
  },
  {
   "cell_type": "code",
   "execution_count": 44,
   "metadata": {},
   "outputs": [
    {
     "ename": "NameError",
     "evalue": "name 'm' is not defined",
     "output_type": "error",
     "traceback": [
      "\u001b[1;31m---------------------------------------------------------------------------\u001b[0m",
      "\u001b[1;31mNameError\u001b[0m                                 Traceback (most recent call last)",
      "\u001b[1;32m<ipython-input-44-9a40b379906c>\u001b[0m in \u001b[0;36m<module>\u001b[1;34m\u001b[0m\n\u001b[1;32m----> 1\u001b[1;33m \u001b[0mm\u001b[0m\u001b[1;33m\u001b[0m\u001b[1;33m\u001b[0m\u001b[0m\n\u001b[0m",
      "\u001b[1;31mNameError\u001b[0m: name 'm' is not defined"
     ]
    }
   ],
   "source": [
    " # this outcome needs inputs \n",
    "m"
   ]
  },
  {
   "cell_type": "code",
   "execution_count": null,
   "metadata": {},
   "outputs": [],
   "source": [
    "calculator(4,2,0.5)"
   ]
  },
  {
   "cell_type": "code",
   "execution_count": 23,
   "metadata": {},
   "outputs": [
    {
     "data": {
      "text/plain": [
       "216"
      ]
     },
     "execution_count": 23,
     "metadata": {},
     "output_type": "execute_result"
    }
   ],
   "source": [
    "calculator(1,5,3)"
   ]
  },
  {
   "cell_type": "markdown",
   "metadata": {},
   "source": [
    "### <a id='#'> !! Function without `return` function </a> \n",
    "\n",
    "This kind of function does not return any output"
   ]
  },
  {
   "cell_type": "code",
   "execution_count": 40,
   "metadata": {},
   "outputs": [],
   "source": [
    "\n",
    "def calculator2(x,z,a):\n",
    "    m = x+z+a"
   ]
  },
  {
   "cell_type": "code",
   "execution_count": 28,
   "metadata": {},
   "outputs": [],
   "source": [
    "result = calculator2(10,5,8)"
   ]
  },
  {
   "cell_type": "code",
   "execution_count": 31,
   "metadata": {},
   "outputs": [
    {
     "data": {
      "text/plain": [
       "NoneType"
      ]
     },
     "execution_count": 31,
     "metadata": {},
     "output_type": "execute_result"
    }
   ],
   "source": [
    "type(result)"
   ]
  },
  {
   "cell_type": "markdown",
   "metadata": {},
   "source": [
    "### <a id='2.2'> 2.2 Multiples outcomes </a> "
   ]
  },
  {
   "cell_type": "code",
   "execution_count": 34,
   "metadata": {},
   "outputs": [],
   "source": [
    "# several kind of object \n",
    "# this function select elements of a list\n",
    "\n",
    "def select(a):\n",
    "    a1 = a[0]\n",
    "    a2 = a[len(a)-1]\n",
    "    \n",
    "    return a1,a2,len(a)"
   ]
  },
  {
   "cell_type": "code",
   "execution_count": 36,
   "metadata": {},
   "outputs": [
    {
     "name": "stdout",
     "output_type": "stream",
     "text": [
      "first element: 2011 \n",
      " last_element: 2021 \n",
      " number of elements: 11\n"
     ]
    }
   ],
   "source": [
    "lista = [2011,2012,2013,2014,2015,2016,2017,2018,2019,2020,2021]\n",
    "\n",
    "output = select(lista)\n",
    "\n",
    "f_element = output[0]\n",
    "l_element = output[1]\n",
    "num_element = output[2]\n",
    "\n",
    "print('first element:',f_element,'\\n','last_element:',l_element,'\\n','number of elements:',num_element)"
   ]
  },
  {
   "cell_type": "code",
   "execution_count": 39,
   "metadata": {
    "scrolled": true
   },
   "outputs": [
    {
     "name": "stdout",
     "output_type": "stream",
     "text": [
      "2011\n",
      "2021\n",
      "11\n"
     ]
    }
   ],
   "source": [
    "#alternative to get outcome from function\n",
    "\n",
    "output1,output2, output3 = select(lista)\n",
    "print(output1)\n",
    "print(output2)\n",
    "print(output3)"
   ]
  },
  {
   "cell_type": "markdown",
   "metadata": {},
   "source": [
    "### <a id='2.3'> 2.3 Conditional in function </a> "
   ]
  },
  {
   "cell_type": "code",
   "execution_count": 61,
   "metadata": {},
   "outputs": [],
   "source": [
    "lista = [2000,2010,2011,2012,2013,2014,2015,2016,2017,2018,2019,2020,2021,2022,2023,2024,2025,2026,2027,2028,2029,2030]\n",
    "\n",
    "\n",
    "def calculator_square( x, y ):\n",
    "    \n",
    "    results = x[y]\n",
    "    \n",
    "    if (1995 >= results):\n",
    "        \n",
    "         print( \"Year is before 1995\")\n",
    "    \n",
    "    if ( 2005 >= results >= 1995):\n",
    "        print( \"Year is after 1995\")\n",
    "    \n",
    "    elif (  2022 >= results > 2005 ):\n",
    "        return results\n",
    "    \n",
    "    else:\n",
    "        print( \"Future Year !!\")"
   ]
  },
  {
   "cell_type": "code",
   "execution_count": 62,
   "metadata": {},
   "outputs": [
    {
     "name": "stdout",
     "output_type": "stream",
     "text": [
      "Future Year !!\n"
     ]
    }
   ],
   "source": [
    "calculator_square(lista,15)"
   ]
  },
  {
   "cell_type": "code",
   "execution_count": 63,
   "metadata": {},
   "outputs": [
    {
     "name": "stdout",
     "output_type": "stream",
     "text": [
      "Year is after 1995\n"
     ]
    }
   ],
   "source": [
    "calculator_square(lista,0)"
   ]
  },
  {
   "cell_type": "code",
   "execution_count": 64,
   "metadata": {},
   "outputs": [
    {
     "data": {
      "text/plain": [
       "2010"
      ]
     },
     "execution_count": 64,
     "metadata": {},
     "output_type": "execute_result"
    }
   ],
   "source": [
    "calculator_square(lista,1)"
   ]
  },
  {
   "cell_type": "code",
   "execution_count": null,
   "metadata": {},
   "outputs": [],
   "source": []
  },
  {
   "cell_type": "code",
   "execution_count": null,
   "metadata": {},
   "outputs": [],
   "source": []
  },
  {
   "cell_type": "code",
   "execution_count": null,
   "metadata": {},
   "outputs": [],
   "source": []
  },
  {
   "cell_type": "code",
   "execution_count": null,
   "metadata": {},
   "outputs": [],
   "source": []
  },
  {
   "cell_type": "code",
   "execution_count": null,
   "metadata": {},
   "outputs": [],
   "source": []
  },
  {
   "cell_type": "code",
   "execution_count": null,
   "metadata": {},
   "outputs": [],
   "source": []
  },
  {
   "cell_type": "code",
   "execution_count": null,
   "metadata": {},
   "outputs": [],
   "source": []
  }
 ],
 "metadata": {
  "kernelspec": {
   "display_name": "Python 3",
   "language": "python",
   "name": "python3"
  },
  "language_info": {
   "codemirror_mode": {
    "name": "ipython",
    "version": 3
   },
   "file_extension": ".py",
   "mimetype": "text/x-python",
   "name": "python",
   "nbconvert_exporter": "python",
   "pygments_lexer": "ipython3",
   "version": "3.8.3"
  }
 },
 "nbformat": 4,
 "nbformat_minor": 4
}
