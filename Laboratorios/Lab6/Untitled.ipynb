{
 "cells": [
  {
   "cell_type": "code",
   "execution_count": null,
   "id": "3307222d",
   "metadata": {},
   "outputs": [],
   "source": [
    "library(\"readxl\")"
   ]
  },
  {
   "cell_type": "code",
   "execution_count": null,
   "id": "cfa825ba",
   "metadata": {},
   "outputs": [],
   "source": [
    "junin_data <- read_excel(\"../../data/Region_Junin.xlsx\")"
   ]
  }
 ],
 "metadata": {
  "kernelspec": {
   "display_name": "R",
   "language": "R",
   "name": "ir"
  }
 },
 "nbformat": 4,
 "nbformat_minor": 5
}
