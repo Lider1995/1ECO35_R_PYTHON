{
 "cells": [
  {
   "cell_type": "code",
   "execution_count": 1,
   "metadata": {},
   "outputs": [
    {
     "data": {
      "text/html": [
       "\n",
       "<style>\n",
       "    div#notebook-container    { width: 95%; }\n",
       "    div#menubar-container     { width: 65%; }\n",
       "    div#maintoolbar-container { width: 99%; }a\n",
       "</style>\n"
      ],
      "text/plain": [
       "<IPython.core.display.HTML object>"
      ]
     },
     "metadata": {},
     "output_type": "display_data"
    }
   ],
   "source": [
    "from IPython.display import display, HTML\n",
    "\n",
    "display(HTML(data=\"\"\"\n",
    "<style>\n",
    "    div#notebook-container    { width: 95%; }\n",
    "    div#menubar-container     { width: 65%; }\n",
    "    div#maintoolbar-container { width: 99%; }a\n",
    "</style>\n",
    "\"\"\"))"
   ]
  },
  {
   "cell_type": "markdown",
   "metadata": {},
   "source": [
    "# 7. Web Scraping"
   ]
  },
  {
   "cell_type": "markdown",
   "metadata": {},
   "source": [
    "Web  scraping  is  the  practice  of  gathering  data  through  any  means  otherthan a program interacting with an API (or, obviously, through a human using a webbrowser).  This  is  most  commonly  accomplished  by  writing  an  automated  programthat queries a web server, requests data (usually in the form of the HTML and otherfiles  that  comprise  web  pages),  and  then  parses  that  data  to  extract  needed  information."
   ]
  },
  {
   "cell_type": "markdown",
   "metadata": {},
   "source": [
    "# 7.1 Selenium\n",
    "Selenium automates browsers. That's it! <br>\n",
    "Selenium is a Python library and tool used for automating web browsers to do a number of tasks. One of such is web-scraping to extract useful data and information that may be otherwise unavailable. <br>\n",
    "**For this course, we use Chrome.**"
   ]
  },
  {
   "cell_type": "markdown",
   "metadata": {},
   "source": [
    "## 7.1 Installing Libraries\n",
    "We need to install these two libraries"
   ]
  },
  {
   "cell_type": "code",
   "execution_count": 4,
   "metadata": {},
   "outputs": [],
   "source": [
    "#!pip install selenium\n",
    "#!pip install webdriver-manager"
   ]
  },
  {
   "cell_type": "markdown",
   "metadata": {},
   "source": [
    "## 7.2 Calling Libraries"
   ]
  },
  {
   "cell_type": "code",
   "execution_count": 1,
   "metadata": {},
   "outputs": [],
   "source": [
    "# this library is to manipulate browser\n",
    "from selenium import webdriver\n",
    "\n",
    "# it allows you to work with differen versions of drivers\n",
    "# We call ChromeDriver\n",
    "from webdriver_manager.chrome import ChromeDriverManager\n",
    "import re\n",
    "import time "
   ]
  },
  {
   "cell_type": "markdown",
   "metadata": {},
   "source": [
    "## 7.3 Launch/Set the Driver\n",
    "This code opens a Chrome Driver. We are going to use it to go navigate on the web."
   ]
  },
  {
   "cell_type": "code",
   "execution_count": 2,
   "metadata": {},
   "outputs": [
    {
     "data": {
      "text/plain": [
       "'C:\\\\Users\\\\Roberto\\\\Documents\\\\GitHub\\\\1ECO35_R_PYTHON\\\\Laboratorios\\\\Lab8'"
      ]
     },
     "execution_count": 2,
     "metadata": {},
     "output_type": "execute_result"
    }
   ],
   "source": [
    "pwd"
   ]
  },
  {
   "cell_type": "code",
   "execution_count": 3,
   "metadata": {},
   "outputs": [],
   "source": [
    "import os\n",
    "import sys"
   ]
  },
  {
   "cell_type": "code",
   "execution_count": 72,
   "metadata": {},
   "outputs": [
    {
     "name": "stderr",
     "output_type": "stream",
     "text": [
      "C:\\Users\\Roberto\\AppData\\Local\\Temp\\ipykernel_12640\\2768142042.py:3: DeprecationWarning: executable_path has been deprecated, please pass in a Service object\n",
      "  driver = webdriver.Chrome(\"chromedriver.exe\")\n"
     ]
    }
   ],
   "source": [
    "# Case 1 - Download the driver\n",
    "\n",
    "driver = webdriver.Chrome(\"chromedriver.exe\")\n",
    "driver.maximize_window()\n",
    "\n",
    "url = 'https://www.onpe.gob.pe/elecciones/'\n",
    "\n",
    "driver.get( url )"
   ]
  },
  {
   "cell_type": "markdown",
   "metadata": {},
   "source": [
    "### Check and download Chrome drive [link](https://chromedriver.chromium.org/downloads)\n"
   ]
  },
  {
   "cell_type": "code",
   "execution_count": 42,
   "metadata": {},
   "outputs": [
    {
     "name": "stdout",
     "output_type": "stream",
     "text": [
      "\n"
     ]
    },
    {
     "name": "stderr",
     "output_type": "stream",
     "text": [
      "[WDM] - ====== WebDriver manager ======\n",
      "[WDM] - Current google-chrome version is 101.0.4951\n",
      "[WDM] - Get LATEST chromedriver version for 101.0.4951 google-chrome\n",
      "[WDM] - Driver [C:\\Users\\Roberto\\.wdm\\drivers\\chromedriver\\win32\\101.0.4951.41\\chromedriver.exe] found in cache\n",
      "C:\\Users\\Roberto\\AppData\\Local\\Temp\\ipykernel_12640\\3461647479.py:3: DeprecationWarning: executable_path has been deprecated, please pass in a Service object\n",
      "  driver = webdriver.Chrome( ChromeDriverManager().install() )\n"
     ]
    }
   ],
   "source": [
    "# Case 2 - ChromeDriverManager\n",
    "\n",
    "driver = webdriver.Chrome( ChromeDriverManager().install() )\n",
    "driver.maximize_window()\n",
    "\n",
    "url = 'https://resultadoshistorico.onpe.gob.pe/EG2021/ResumenGeneral/10/T'\n",
    "\n",
    "driver.get( url )"
   ]
  },
  {
   "cell_type": "markdown",
   "metadata": {},
   "source": [
    "## Chrome is being controlled by automated test software"
   ]
  },
  {
   "cell_type": "markdown",
   "metadata": {},
   "source": [
    "![Chrome is controlled by automated software](Images/chrome_automated.png)"
   ]
  },
  {
   "cell_type": "code",
   "execution_count": 73,
   "metadata": {},
   "outputs": [
    {
     "name": "stdout",
     "output_type": "stream",
     "text": [
      "Title:  Histórico de Elecciones\n"
     ]
    }
   ],
   "source": [
    "# Access to the title\n",
    "print('Title: ', driver.title)"
   ]
  },
  {
   "cell_type": "code",
   "execution_count": 74,
   "metadata": {},
   "outputs": [
    {
     "name": "stdout",
     "output_type": "stream",
     "text": [
      "Current Page URL:  https://www.onpe.gob.pe/elecciones/\n"
     ]
    }
   ],
   "source": [
    "# Access to the curent url \n",
    "print('Current Page URL: ', driver.current_url)"
   ]
  },
  {
   "cell_type": "code",
   "execution_count": 50,
   "metadata": {},
   "outputs": [
    {
     "data": {
      "text/plain": [
       "True"
      ]
     },
     "execution_count": 50,
     "metadata": {},
     "output_type": "execute_result"
    }
   ],
   "source": [
    "# Make screenshot of the webpage\n",
    "driver.save_screenshot('Images/resultados_presidenciales.png')"
   ]
  },
  {
   "cell_type": "code",
   "execution_count": 51,
   "metadata": {},
   "outputs": [],
   "source": [
    "if re.search(r'ResumenGeneral', driver.current_url):\n",
    "    driver.save_screenshot('Images/resultados_presidenciales.png') #save screenshot with provided name\n",
    "    print('Resultados Presidenciales saved!')"
   ]
  },
  {
   "cell_type": "code",
   "execution_count": 75,
   "metadata": {},
   "outputs": [
    {
     "name": "stdout",
     "output_type": "stream",
     "text": [
      "Cookies obtained from resultados_presidenciales\n",
      "[{'domain': '.onpe.gob.pe', 'expiry': 1654052446, 'httpOnly': False, 'name': '_gat_gtag_UA_60994866_4', 'path': '/', 'secure': False, 'value': '1'}, {'domain': '.onpe.gob.pe', 'expiry': 1654138786, 'httpOnly': False, 'name': '_gid', 'path': '/', 'secure': False, 'value': 'GA1.3.908254866.1654052386'}, {'domain': '.onpe.gob.pe', 'expiry': 1717124386, 'httpOnly': False, 'name': '_ga', 'path': '/', 'secure': False, 'value': 'GA1.3.1345073932.1654052386'}, {'domain': '.onpe.gob.pe', 'expiry': 1661828386, 'httpOnly': False, 'name': '_fbp', 'path': '/', 'sameSite': 'Lax', 'secure': False, 'value': 'fb.2.1654052385888.720487330'}]\n"
     ]
    }
   ],
   "source": [
    "#get cookie information\n",
    "cookies = driver.get_cookies() \n",
    "print('Cookies obtained from resultados_presidenciales')\n",
    "print(cookies)"
   ]
  },
  {
   "cell_type": "code",
   "execution_count": 53,
   "metadata": {},
   "outputs": [
    {
     "data": {
      "text/plain": [
       "'<html lang=\"es\" class=\"\"><head><meta http-equiv=\"Content-Type\" content=\"text/html; charset=utf-8\"><meta http-equiv=\"X-UA-Compatible\" content=\"IE=edge\"><meta name=\"viewport\" content=\"width=device-width, initial-scale=1\"><title>Histórico de Elecciones</title><meta name=\"description\" content=\"\"><meta name=\"language\" content=\"es\"><meta http-equiv=\"Pragma\" content=\"no-cache\"><meta http-equiv=\"Expires\" content=\"0\"><meta name=\"robots\" content=\"index, follow\"><meta name=\"googlebot\" content=\"index, follow\"><meta property=\"fb:admins\" content=\"111470355596678\"><meta property=\"og:site_name\" content=\"ONPE\"><meta property=\"og:title\" content=\"Histórico de Elecciones\"><meta property=\"og:url\" content=\"https://www.onpe.gob.pe/elecciones/\"><meta property=\"og:description\" content=\"\"><meta name=\"twitter:card\" content=\"summary\"><meta name=\"twitter:site\" content=\"@ONPE_oficial\"><meta name=\"twitter:title\" content=\"Oficina Nacional de Procesos Electorales\"><meta name=\"twitter:description\" content=\"\"><meta property=\"og:type\" content=\"website\"><meta property=\"og:image\" content=\"https://www.onpe.gob.pe/img/logo.jpg\"><meta name=\"twitter:image\" content=\"https://www.onpe.gob.pe/img/logo.jpg\"><meta name=\"keywords\" content=\"onpe, procesos electorales, elecciones municipales, reforma electoral, elecciones generales, venta kits, elecciones, multas electorales, voto electronico\"><link rel=\"canonical\" href=\"https://www.onpe.gob.pe/elecciones/\"><link rel=\"stylesheet\" type=\"text/css\" href=\"https://www.onpe.gob.pe/css/style.css\"><link rel=\"stylesheet\" type=\"text/css\" href=\"https://fonts.googleapis.com/css?family=Roboto:400,500,700\"><link rel=\"stylesheet\" href=\"https://cdnjs.cloudflare.com/ajax/libs/font-awesome/6.0.0/css/all.min.css\" integrity=\"sha512-9usAa10IRO0HhonpyAIVpjrylPvoDwiPUiKdWk5t3PyolY1cOd4DSE0Ga+ri4AuTroPR5aQvXU9xC6qOPnzFeg==\" crossorigin=\"anonymous\" referrerpolicy=\"no-referrer\"><link rel=\"stylesheet\" type=\"text/css\" href=\"https://www.onpe.gob.pe/css/swiper.min.css\"><script type=\"text/javascript\" async=\"\" src=\"https://www.google-analytics.com/analytics.js\"></script><script src=\"https://connect.facebook.net/signals/config/1880216562182600?v=2.9.61&amp;r=stable\" async=\"\"></script><script async=\"\" src=\"https://connect.facebook.net/en_US/fbevents.js\"></script><script async=\"\" src=\"https://www.googletagmanager.com/gtm.js?id=GTM-W5X9PBR\"></script><script src=\"https://ajax.googleapis.com/ajax/libs/jquery/2.0.0/jquery.min.js\"></script><!--[if lt IE 9]><script src=\"https://www.onpe.gob.pe/js/assets/js/ie8-responsive-file-warning.js\"></script><![endif]--><script type=\"text/javascript\" src=\"https://www.onpe.gob.pe/js/assets/js/ie-emulation-modes-warning.js\"></script><!--[if lt IE 9]><script src=\"https://www.onpe.gob.pe/js/html5shiv/3.7.2/html5shiv.min.js\"></script><script src=\"https://www.onpe.gob.pe/js/respond/1.4.2/respond.min.js\"></script><![endif]--><script type=\"text/javascript\" src=\"https://www.onpe.gob.pe/js/bootstrap/bootstrap.js\"></script><script type=\"text/javascript\" src=\"https://www.onpe.gob.pe/js/commons.js\"></script><script type=\"text/javascript\" src=\"https://www.onpe.gob.pe/js/swiper.min.js\"></script><script type=\"text/javascript\" src=\"https://www.onpe.gob.pe/js/jquery.fancybox.js\"></script><script type=\"text/javascript\" src=\"https://www.onpe.gob.pe/js/jquery.fancybox.pack.js\"></script><!----><link href=\"https://www.onpe.gob.pe/img/favicon.ico\" rel=\"shortcut icon\" type=\"image/png\"><base href=\"https://www.onpe.gob.pe/\">\\n<!--\\n<script>\\n  (function(i,s,o,g,r,a,m){i[\\'GoogleAnalyticsObject\\']=r;i[r]=i[r]||function(){\\n  (i[r].q=i[r].q||[]).push(arguments)},i[r].l=1*new Date();a=s.createElement(o),\\n  m=s.getElementsByTagName(o)[0];a.async=1;a.src=g;m.parentNode.insertBefore(a,m)\\n  })(window,document,\\'script\\',\\'//www.google-analytics.com/analytics.js\\',\\'ga\\');\\n  ga(\\'create\\', \\'UA-60994866-4\\', \\'auto\\');\\n  ga(\\'send\\', \\'pageview\\');\\n</script>\\n-->\\n\\n<!-- Cloudflare Web Analytics -->\\n<script defer=\"\" src=\"https://static.cloudflareinsights.com/beacon.min.js\" data-cf-beacon=\"{&quot;token&quot;: &quot;d0a218ee7760484e9af565998301563b&quot;}\">\\n</script>\\n<!-- End Cloudflare Web Analytics -->\\n\\n<!-- Global site tag (gtag.js) - Google Analytics -->\\n<script async=\"\" src=\"https://www.googletagmanager.com/gtag/js?id=UA-60994866-4\"></script>\\n<script>\\n  window.dataLayer = window.dataLayer || [];\\n  function gtag(){dataLayer.push(arguments);}\\n  gtag(\\'js\\', new Date());\\n\\n  gtag(\\'config\\', \\'UA-60994866-4\\');\\n</script>\\n\\n<!-- Google Tag Manager -->\\n<script>(function(w,d,s,l,i){w[l]=w[l]||[];w[l].push({\\'gtm.start\\':\\nnew Date().getTime(),event:\\'gtm.js\\'});var f=d.getElementsByTagName(s)[0],\\nj=d.createElement(s),dl=l!=\\'dataLayer\\'?\\'&l=\\'+l:\\'\\';j.async=true;j.src=\\n\\'https://www.googletagmanager.com/gtm.js?id=\\'+i+dl;f.parentNode.insertBefore(j,f);\\n})(window,document,\\'script\\',\\'dataLayer\\',\\'GTM-W5X9PBR\\');</script>\\n<!-- End Google Tag Manager -->\\n<!-- Meta Pixel Code -->\\n<script>\\n!function(f,b,e,v,n,t,s)\\n{if(f.fbq)return;n=f.fbq=function(){n.callMethod?\\nn.callMethod.apply(n,arguments):n.queue.push(arguments)};\\nif(!f._fbq)f._fbq=n;n.push=n;n.loaded=!0;n.version=\\'2.0\\';\\nn.queue=[];t=b.createElement(e);t.async=!0;\\nt.src=v;s=b.getElementsByTagName(e)[0];\\ns.parentNode.insertBefore(t,s)}(window, document,\\'script\\',\\n\\'https://connect.facebook.net/en_US/fbevents.js\\');\\nfbq(\\'init\\', \\'1880216562182600\\');\\nfbq(\\'track\\', \\'PageView\\');\\n</script>\\n<noscript><img height=\"1\" width=\"1\" style=\"display:none\"\\nsrc=\"https://www.facebook.com/tr?id=1880216562182600&ev=PageView&noscript=1\"\\n/></noscript>\\n<!-- End Meta Pixel Code -->\\n<style type=\"text/css\">.fancybox-margin{margin-right:0px;}</style><style type=\"text/css\">.fancybox-margin{margin-right:0px;}</style></head><body style=\"\"><header class=\"navbar navbar-static-top bs-docs-nav\" id=\"top\" role=\"banner\"><div class=\"container-fluid\"><div class=\"row\"><div class=\"col-md-4 col-md-offset-1 col-xs-3\"><a href=\"https://www.onpe.gob.pe/\"><img src=\"https://www.onpe.gob.pe/img/isologo.svg\" alt=\"Oficina Nacional de Procesos Electorales | ONPE\" width=\"100\" class=\"logonpe\"></a></div><div class=\"col-md-6 col-xs-9 ocultar titulo2\"><a href=\"https://www.onpe.gob.pe/\"><h1>Oficina Nacional de Procesos Electorales</h1></a></div></div></div></header><div class=\"content\"><div class=\"container-fluid bs-docs-container fondo\"><div class=\"box-content\"><section class=\"menu navbar-default\"><div class=\"navbar-header\"><button class=\"navbar-toggle collapsed\" type=\"button\" data-toggle=\"collapse\" data-target=\".bs-navbar-collapse\"><span class=\"sr-only\">Toggle navigation</span><span class=\"icon-bar\"></span><span class=\"icon-bar\"></span><span class=\"icon-bar\"></span></button></div><nav class=\"navbar-collapse bs-navbar-collapse collapse\" aria-expanded=\"false\"><ul class=\"nav navbar-nav\"><li><a href=\"https://www.onpe.gob.pe/nosotros/\" alt=\"Nosotros\">Nosotros</a></li><li><a href=\"https://www.onpe.gob.pe/servicios/\" alt=\"Servicios\">Servicios</a></li><li class=\"active\"><a href=\"https://www.onpe.gob.pe/elecciones/\" alt=\"Elecciones\">Elecciones</a></li><li><a href=\"https://www.onpe.gob.pe/educacion-investigacion/publicaciones/\" alt=\"Investigación\">Investigación</a></li><li><a href=\"https://www.onpe.gob.pe/sala-prensa/\" alt=\"Sala de prensa\">Sala de prensa</a></li><li><a href=\"https://www.onpe.gob.pe/marco-legal/tupa/\" alt=\"Resoluciones\">Resoluciones</a></li><li><a href=\"https://www.onpe.gob.pe/transparencia/\" alt=\"Transparencia\">Transparencia <img src=\"https://www.onpe.gob.pe/img/portal-transparencia-estandar.png\" width=\"30\" class=\"ml-3\" alt=\"Transparencia\"></a></li></ul></nav></section><section class=\"contenedor container\"><div class=\"row\"><div class=\"col-sm-3\"><div class=\"subnav\"><a href=\"#\" class=\"btn-subnav\" aria-label=\"menu secundario\"></a></div><div class=\"menu-interna\"><ul><li><a href=\"https://www.onpe.gob.pe/elecciones/historico-elecciones/\" class=\"act-izq\" alt=\"Histórico de elecciones\">Histórico de elecciones</a></li><li><a href=\"https://www.onpe.gob.pe/modMarco-Legal/compendio-electoral-peruano.pdf\" target=\"_blank\" alt=\"Compendio electoral peruano\">Compendio electoral peruano</a></li><!--<li><a href=\"https://www.onpe.gob.pe/modCompendio/index.html\" target=\"_blank\">COMPENDIO ELECTORAL PERUANO</a></li>--><li><a href=\"https://www.onpe.gob.pe/elecciones/reforma-electoral/\" alt=\"Reforma electoral\">Reforma electoral</a></li><li><a href=\"https://www.onpe.gob.pe/elecciones/revocatoria/\" alt=\"Revocatoria\">Revocatoria</a></li><li><a href=\"https://www.onpe.gob.pe/elecciones/innovaciones-tecnologicas/\" alt=\"Innovaciones tecnológicas\">Innovaciones tecnológicas</a></li><!-- <li><a href=\"https://www.onpe.gob.pe/elecciones/modulos-educativos/\">Módulos Educativos</a></li> --></ul></div></div><div class=\"col-sm-9\"><div class=\"contenido-interna\"><h3>Elecciones / Histórico de elecciones</h3><input id=\"wURL\" name=\"wURL\" type=\"hidden\" value=\"https://www.onpe.gob.pe/\"><div class=\"info\"><div class=\"col-md-12 space01\"><form id=\"frmBuscar\" name=\"frmBuscar\" action=\"https://www.onpe.gob.pe/elecciones/historico-elecciones/\" method=\"post\" class=\"horizontal-form\"><div class=\"row\"><div class=\"col-md-2\"><div class=\"form-group\"><label class=\"control-label\">AÑO:</label><select id=\"cboAnio\" name=\"cboAnio\" class=\"form-control\"><option value=\"2021\" selected=\"selected\">2021</option><option value=\"2020\">2020</option><option value=\"2019\">2019</option><option value=\"2018\">2018</option><option value=\"2017\">2017</option><option value=\"2016\">2016</option><option value=\"2015\">2015</option><option value=\"2014\">2014</option><option value=\"2013\">2013</option><option value=\"2012\">2012</option><option value=\"2011\">2011</option><option value=\"2010\">2010</option><option value=\"2009\">2009</option><option value=\"2008\">2008</option><option value=\"2007\">2007</option><option value=\"2006\">2006</option><option value=\"2005\">2005</option><option value=\"2004\">2004</option><option value=\"2003\">2003</option><option value=\"2002\">2002</option><option value=\"2001\">2001</option><option value=\"2000\">2000</option></select></div></div><div class=\"col-md-8\"><div class=\"form-group\"><label class=\"control-label\">PROCESO ELECTORAL:</label><select id=\"cboElec\" name=\"cboElec\" class=\"form-control\"><option value=\"177\">Elecciones Municipales Complementarias</option><option value=\"176\">Consulta Popular de Revocatoria</option><option value=\"175\">Segunda Elección Presidencial 2021</option><option value=\"174\" selected=\"selected\">Elecciones Generales 2021</option></select></div></div><div class=\"col-md-2\"><button id=\"btnBuscar\" name=\"btnBuscar\" class=\"btn btn-primary\"><i class=\"glyphicon glyphicon-search\"></i> BUSCAR</button></div></div></form></div><div class=\"col-md-12\" id=\"mgrper\"><h4>Elecciones Generales 2021</h4><div class=\"row\"><div class=\"col-md-4 box-comunicacion\"><a class=\"item elecciones02\" href=\"https://www.onpe.gob.pe/elecciones/2021/EEGG/\" target=\"_blank\"><p>MÓDULO INFORMATIVO</p></a></div><div class=\"col-md-4 box-comunicacion\"><a class=\"item elecciones01\" href=\"http://resultadoshistorico.onpe.gob.pe/EG2021/\" target=\"_blank\"><p>RESULTADOS</p></a></div></div></div><!----></div></div></div></div></section></div></div></div><section class=\"box-link\"><link rel=\"stylesheet\" type=\"text/css\" href=\"https://www.onpe.gob.pe/css/style.css\"><div class=\"container-fluid fondo\"><div class=\"row fondo\"><div class=\"col-md-12\"><div class=\"row footer-lista\"><div class=\"col-md-4\"><a href=\"https://www.onpe.gob.pe/\"><img src=\"img/logo-onpe-white.svg\" alt=\"Oficina Nacional de Procesos Electorales | ONPE\" width=\"112\"></a><br><p class=\"footer-dscp\">Jr. Washington 1894, Cercado de Lima<br><a href=\"mailto:informes@onpe.gob.pe\" alt=\"informes@onpe.gob.pe\">informes@onpe.gob.pe</a></p></div><div class=\"col-md-3\"><ul><li><a href=\"https://www.gob.pe/20754-oficina-nacional-de-procesos-electorales-oficinas-regionales-de-coordinacion-orc-de-la-onpe\" target=\"_blank\" alt=\"ONPE en las Regiones\">ONPE en las Regiones</a></li><li><a href=\"https://www.onpe.gob.pe/transparencia/trabaja/\" alt=\"Trabaja con nosotros\">Trabaja con nosotros</a></li><li><a href=\"https://www.onpe.gob.pe/contactenos/\" alt=\"Contacto\">Contacto</a></li><li><a href=\"https://www.onpe.gob.pe/servicios/\" alt=\"Servicios\">Servicios</a></li><li><a href=\"https://www.onpe.gob.pe/elecciones/\" alt=\"Elecciones\">Elecciones</a></li><li><a href=\"https://www.onpe.gob.pe/educacion-investigacion/publicaciones/\" alt=\"Centro de documentación e investigación\">Centro de documentación e investigación</a></li><li><a href=\"https://www.onpe.gob.pe/sala-prensa/\" alt=\"Noticias\">Noticias</a></li></ul></div><div class=\"col-md-2\"><ul><li><a href=\"https://www.onpe.gob.pe/transparencia/\" alt=\"Transparencia\">Transparencia</a></li><li><a href=\"http://mail.onpe.gob.pe/\" target=\"_blank\" alt=\"Correo institucional\">Correo institucional</a></li><li><a href=\"https://onpegobpe.sharepoint.com/\" target=\"_blank\" alt=\"Intranet\">Intranet</a></li></ul><ul><li class=\"agradd\">Línea gratuita FONO ONPE</li><li>0800 79 100</li><li>Lunes a domingo</li><li>8:00 a.m. a 9:00 p.m.</li></ul><!-- <ul><li class=\"agradd\">Central Telefónica</li><li>01 4170630</li><li>Lunes a viernes</li><li>8:30 a.m. a 5:00 p.m.</li></ul> --></div><div class=\"col-md-3\"><ul><li class=\"agradd\">Área de atención al Ciudadano y Trámite Documentario</li><li>Lunes a viernes</li><li>8:30 a.m. a 4:30 p.m.</li></ul><ul><li><a href=\"https://reclamos.servicios.gob.pe/?institution_id=2\" target=\"_blank\"><img src=\"img/logo-libro-reclamaciones.svg\" alt=\"\" width=\"120\"></a></li></ul><ul><li class=\"agradd\">Redes Sociales</li><li class=\"redes\"><a href=\"https://www.facebook.com/ONPEoficial?fref=ts\" target=\"_blank\"><i class=\"fa-brands fa-facebook-f\" alt=\"facebook\"></i></a><a href=\"https://www.youtube.com/user/onpeprensa/featured\" target=\"_blank\"><i class=\"fa-brands fa-youtube\" alt=\"youtube\"></i></a><a href=\"https://www.instagram.com/onpe_oficial/?hl=es-la\" target=\"_blank\"><i class=\"fa-brands fa-instagram\" alt=\"instagram\"></i></a><a href=\"https://www.tiktok.com/@onpe_oficial\" target=\"_blank\"><i class=\"fa-brands fa-tiktok\" alt=\"tiktok\"></i></a><a href=\"https://twitter.com/ONPE_oficial\" target=\"_blank\"><i class=\"fa-brands fa-twitter\" alt=\"twitter\"></i></a><a href=\"https://flickr.com/photos/onpeprensa/\" target=\"_blank\"><i class=\"fa-brands fa-flickr\" alt=\"flickr\"></i></a><a href=\"https://open.spotify.com/show/5Z7IYizw5R1j8Ic4ejpQKm\" target=\"_blank\"><i class=\"fa-brands fa-spotify\" alt=\"spotify\"></i></a><a href=\"https://www.linkedin.com/company/onpeoficial\" target=\"_blank\"><i class=\"fa-brands fa-linkedin\" alt=\"linkedin\"></i></a></li></ul></div></div></div></div></div></section><footer class=\"bs-docs-footer\" role=\"contentinfo\"></footer>\\n        <script language=\"javascript\">\\n        $(document).ready(function(){\\n            vURL = $(\\'#wURL\\').val();\\n            $(\"#cboAnio\").change(function () {\\n                $(\"#cboAnio option:selected\").each(function () {\\n                    vType = \\'elecciones\\';\\n                    vValu = $(this).val();\\n                    $.post(vURL + \"loadSelect/\", { vType: vType , vValu: vValu }, function(data){\\n                        $(\"#cboElec\").html(data);\\n                    });            \\n                });\\n           });\\n        });\\n        </script>    \\n        </body></html>'"
      ]
     },
     "execution_count": 53,
     "metadata": {},
     "output_type": "execute_result"
    }
   ],
   "source": [
    "# Get page source\n",
    "type(driver.page_source)\n",
    "driver.page_source"
   ]
  },
  {
   "cell_type": "code",
   "execution_count": 55,
   "metadata": {},
   "outputs": [],
   "source": [
    "# Refresh the page - \n",
    "driver.refresh() #reload or refresh the browser\n",
    "time.sleep(3)"
   ]
  },
  {
   "cell_type": "code",
   "execution_count": 67,
   "metadata": {},
   "outputs": [
    {
     "name": "stderr",
     "output_type": "stream",
     "text": [
      "C:\\Users\\Roberto\\AppData\\Local\\Temp\\ipykernel_12640\\3249912015.py:1: DeprecationWarning: executable_path has been deprecated, please pass in a Service object\n",
      "  driver = webdriver.Chrome(\"chromedriver.exe\")\n"
     ]
    }
   ],
   "source": [
    "driver = webdriver.Chrome(\"chromedriver.exe\")\n",
    "driver.maximize_window()\n",
    "\n",
    "url_2 = \"https://www.google.com/\"\n",
    "driver.get( url_2 )\n",
    "time.sleep(10)\n",
    "\n",
    "driver.back() #return page "
   ]
  },
  {
   "cell_type": "code",
   "execution_count": 261,
   "metadata": {},
   "outputs": [
    {
     "name": "stderr",
     "output_type": "stream",
     "text": [
      "\n",
      "\n",
      "====== WebDriver manager ======\n",
      "Current google-chrome version is 96.0.4664\n",
      "Get LATEST driver version for 96.0.4664\n",
      "Driver [C:\\Users\\MSI-NB\\.wdm\\drivers\\chromedriver\\win32\\96.0.4664.45\\chromedriver.exe] found in cache\n"
     ]
    }
   ],
   "source": [
    "driver = webdriver.Chrome( ChromeDriverManager().install() )\n",
    "driver.maximize_window()\n",
    "\n",
    "url_1 = \"https://resultadoshistorico.onpe.gob.pe/EG2021/EleccionesCongresales/ReCng/D44001\"\n",
    "driver.get( url_1 )\n",
    "time.sleep(3)\n",
    "\n",
    "url_2 = \"https://www.google.com/\"\n",
    "driver.get( url_2 )\n",
    "time.sleep(3)\n",
    "\n",
    "driver.back()"
   ]
  },
  {
   "cell_type": "code",
   "execution_count": 66,
   "metadata": {},
   "outputs": [],
   "source": [
    "driver.close()"
   ]
  },
  {
   "cell_type": "code",
   "execution_count": 68,
   "metadata": {},
   "outputs": [],
   "source": [
    "driver.quit()"
   ]
  },
  {
   "cell_type": "markdown",
   "metadata": {},
   "source": [
    "![Quite and Close](Images/quite_close.png)"
   ]
  },
  {
   "cell_type": "code",
   "execution_count": 69,
   "metadata": {},
   "outputs": [
    {
     "data": {
      "text/plain": [
       "selenium.webdriver.chrome.webdriver.WebDriver"
      ]
     },
     "execution_count": 69,
     "metadata": {},
     "output_type": "execute_result"
    }
   ],
   "source": [
    "type(driver)"
   ]
  },
  {
   "cell_type": "markdown",
   "metadata": {},
   "source": [
    "`driver` is an `selenium.webdriver.chrome.webdriver.WebDriver` object. This object has some attributes that will help us to navigate on the web."
   ]
  },
  {
   "cell_type": "markdown",
   "metadata": {},
   "source": [
    "Now, you can see in the driver that we are in [this link](https://www.convocatoriascas.com/)."
   ]
  },
  {
   "cell_type": "markdown",
   "metadata": {},
   "source": [
    "**Best Practices before working**"
   ]
  },
  {
   "cell_type": "markdown",
   "metadata": {},
   "source": [
    "1. Maximize the browser"
   ]
  },
  {
   "cell_type": "code",
   "execution_count": 85,
   "metadata": {},
   "outputs": [
    {
     "name": "stdout",
     "output_type": "stream",
     "text": [
      "\n"
     ]
    },
    {
     "name": "stderr",
     "output_type": "stream",
     "text": [
      "[WDM] - ====== WebDriver manager ======\n",
      "[WDM] - Current google-chrome version is 101.0.4951\n",
      "[WDM] - Get LATEST chromedriver version for 101.0.4951 google-chrome\n",
      "[WDM] - Driver [C:\\Users\\Roberto\\.wdm\\drivers\\chromedriver\\win32\\101.0.4951.41\\chromedriver.exe] found in cache\n",
      "C:\\Users\\Roberto\\AppData\\Local\\Temp\\ipykernel_12640\\3215541926.py:1: DeprecationWarning: executable_path has been deprecated, please pass in a Service object\n",
      "  driver = webdriver.Chrome( ChromeDriverManager().install() )\n"
     ]
    }
   ],
   "source": [
    "driver = webdriver.Chrome( ChromeDriverManager().install() )\n",
    "\n",
    "url = 'https://resultadoshistorico.onpe.gob.pe/EG2021/ResumenGeneral/10/T'\n",
    "driver.get( url )\n",
    "\n",
    "driver.maximize_window()"
   ]
  },
  {
   "cell_type": "markdown",
   "metadata": {},
   "source": [
    "2. Set the Browser Zoom Level to 100 percent"
   ]
  },
  {
   "cell_type": "code",
   "execution_count": 83,
   "metadata": {},
   "outputs": [],
   "source": [
    "driver.execute_script(\"document.body.style.zoom='100%'\")"
   ]
  },
  {
   "cell_type": "markdown",
   "metadata": {},
   "source": [
    "### 7.4.1. HTML\n",
    "HTML stands for HyperText Markup Language. You can deduce that it’s a language for creating web pages. It’s not a programming language like Python or Java, but it’s a markup language. It describes the elements of a page through tags characterized by angle brackets.\n",
    "\n",
    "1. The document always begins and ends using `<html>` and `</html>`.\n",
    "2. `<body></body>` constitutes the visible part of HTML document.\n",
    "3. `<h1>` to `<h3>` tags are defined for the headings."
   ]
  },
  {
   "cell_type": "markdown",
   "metadata": {},
   "source": [
    "#### 7.4.1.1. HTML Headings\n",
    "HTML headings are defined with the `<h1>` to `<h6>` tags.\n",
    "`<h1>` defines the most important heading. `<h6>` defines the least important heading.\n",
    "\n",
    "We can use text cells since markdown reads html tags."
   ]
  },
  {
   "cell_type": "markdown",
   "metadata": {},
   "source": [
    "<h1>This is heading 1</h1>\n",
    "<h2>This is heading 2</h2>\n",
    "<h3>This is heading 3</h3>"
   ]
  },
  {
   "cell_type": "markdown",
   "metadata": {},
   "source": [
    "#### 7.4.1.2. HTML Paragraphs\n",
    "HTML paragraphs are defined with the `<p>` tag.\n",
    "`<br>` tag is similar to `\"\\n\"`."
   ]
  },
  {
   "cell_type": "markdown",
   "metadata": {},
   "source": [
    "<br>\n",
    "<p>My first paragraph.</p> <br>\n",
    "<p>This is another paragraph for this text cell.</p>"
   ]
  },
  {
   "cell_type": "markdown",
   "metadata": {},
   "source": [
    "#### 7.4.1.3. HTML Links\n",
    "HTML links are defined with the <a> tag:"
   ]
  },
  {
   "cell_type": "markdown",
   "metadata": {},
   "source": [
    "<a href=\"http://bayes.cs.ucla.edu/jp_home.html\">This is a link for Judea Pearl Website</a>"
   ]
  },
  {
   "cell_type": "markdown",
   "metadata": {},
   "source": [
    "#### 7.4.1.3. Unordered HTML List\n",
    "An unordered list starts with the `<ul>` tag. Each list item starts with the `<li>` tag."
   ]
  },
  {
   "cell_type": "markdown",
   "metadata": {},
   "source": [
    "<ul>\n",
    "  <li>Coffee</li>\n",
    "  <li>Tea</li>\n",
    "  <li>Milk</li>\n",
    "</ul>"
   ]
  },
  {
   "cell_type": "markdown",
   "metadata": {},
   "source": [
    "#### 7.4.1.4. Ordered HTML List\n",
    "An ordered list starts with the `<ol>` tag. Each list item starts with the `<li>` tag."
   ]
  },
  {
   "cell_type": "markdown",
   "metadata": {},
   "source": [
    "<ol>\n",
    "  <li>Coffee</li>\n",
    "  <li>Tea</li>\n",
    "  <li>Milk</li>\n",
    "</ol>"
   ]
  },
  {
   "cell_type": "markdown",
   "metadata": {},
   "source": [
    "#### 7.4.1.4. HTML Tables\n",
    "\n",
    "A table in HTML consists of table cells inside rows and columns. Each table cell is defined by a `<td>` and a `</td>` tag. Each table row starts with a `<tr>` and end with a `</tr>` tag."
   ]
  },
  {
   "cell_type": "markdown",
   "metadata": {},
   "source": [
    "<table>\n",
    "  <tr>\n",
    "    <th>Manager</th>\n",
    "    <th>Club</th>\n",
    "    <th>Nationality</th>\n",
    "  </tr>\n",
    "  <tr>\n",
    "    <td>Mikel Arteta</td>\n",
    "    <td>Arsenal</td>\n",
    "    <td>Spain</td>\n",
    "  </tr>\n",
    "  <tr>\n",
    "    <td>Thomas Tuchel</td>\n",
    "    <td>Chelsea</td>\n",
    "    <td>Germany</td>\n",
    "  </tr>\n",
    "</table>"
   ]
  },
  {
   "cell_type": "markdown",
   "metadata": {},
   "source": [
    "#### 7.4.1.5. HTML Iframes\n",
    "\n",
    "An HTML iframe is used to display a web page within a web page."
   ]
  },
  {
   "cell_type": "markdown",
   "metadata": {},
   "source": [
    "\n",
    "<!DOCTYPE html>\n",
    "<html>\n",
    "  \n",
    "<head>\n",
    "    <title>HTML iframe src Attribute</title>\n",
    "</head>\n",
    "  \n",
    "<body style=\"text-align: center\">\n",
    "    <h1>Diploma</h1>\n",
    "    <h2>HTML iframe</h2>\n",
    "    <iframe>\n",
    "          \n",
    "        <!DOCTYPE html>\n",
    "        <html>\n",
    "\n",
    "        <head>\n",
    "            <title>New html</title>\n",
    "        </head>\n",
    "\n",
    "        <body style=\"text-align: center\">\n",
    "            <h1>Diploma2</h1>\n",
    "            <h2>HTML iframe</h2>\n",
    "            <iframe>\n",
    "\n",
    "            </iframe>\n",
    "        </body>\n",
    "\n",
    "        </html>\n",
    "    </iframe>\n",
    "</body>\n",
    "  \n",
    "</html>"
   ]
  },
  {
   "cell_type": "markdown",
   "metadata": {},
   "source": [
    "#### 7.4.1.6. HTML Tags - Key"
   ]
  },
  {
   "cell_type": "markdown",
   "metadata": {},
   "source": [
    "|Tag|Description|\n",
    "|---|---|\n",
    "|`<h1>` to `<h6>`|\tDefines HTML headings|\n",
    "|`<ul>`|\tDefines an unordered list|\n",
    "|`<ol>`|\tDefines an ordered list|\n",
    "|`<p>`|\tDefines a paragraph|\n",
    "|`<a>`|\tIt is termed as anchor tag and it creates a hyperlink or link.|\n",
    "|`<div>`|\tIt defines a division or section within HTML document.|\n",
    "|`<strong>`|\tIt is used to define important text.|\n",
    "|`<table>`|\tIt is used to present data in tabular form or to create a table within HTML document.|\n",
    "|`<td>`|\tIt is used to define cells of an HTML table which contains table data|\n",
    "|`<iframe>`|\tDefines an inline frame|"
   ]
  },
  {
   "cell_type": "markdown",
   "metadata": {},
   "source": [
    "### 7.4. Identifying elements in a web page\n",
    "\n",
    "To identify elements of a webpage, we need to inspect the webpage. Open the driver and press `Ctrl`+ `Shift` + `I`."
   ]
  },
  {
   "cell_type": "markdown",
   "metadata": {},
   "source": [
    "#### One Element\n",
    "|Method|Description|\n",
    "|---|---|\n",
    "|find_element_by_id| Use id.|\n",
    "|find_element_by_name| Use name.|\n",
    "|find_element_by_xpath| Use Xpath.|\n",
    "|find_element_by_tag_name| Use HTML tag.|\n",
    "|find_element_by_class_name| Use class name.|\n",
    "|find_element_by_css_selector| Use css selector.|"
   ]
  },
  {
   "cell_type": "markdown",
   "metadata": {},
   "source": [
    "#### Multiple  elements\n",
    "|Method|Description|\n",
    "|---|---|\n",
    "|find_elements_by_id| Use id.|\n",
    "|find_elements_by_name| Use name.|\n",
    "|find_elements_by_xpath| Use Xpath.|\n",
    "|find_elements_by_tag_name| Use HTML tag.|\n",
    "|find_elements_by_class_name| Use class name.|\n",
    "|find_elements_by_css_selector| Use css selector.|"
   ]
  },
  {
   "cell_type": "markdown",
   "metadata": {},
   "source": [
    "### 7.4.1. Xpath\n",
    "XPath in Selenium is an XML path used for navigation through the HTML structure of the page. It is a syntax or language for finding any element on a web page using XML path expression.\n",
    "\n",
    "The basic format of XPath in selenium is explained below with screen shot.\n",
    "<img src=\"../../_images/x_path.png\">"
   ]
  },
  {
   "cell_type": "markdown",
   "metadata": {},
   "source": [
    "**DO NOT COMPLICATE!**\n",
    "Finding the XPath of a element:\n",
    "1. Go to the element\n",
    "2. Right click\n",
    "3. Inspect - You may have to do it twice.\n",
    "4. Go to the selected line\n",
    "5. Right click\n",
    "7. Copy \n",
    "8. Copy Full Xpath"
   ]
  },
  {
   "cell_type": "markdown",
   "metadata": {},
   "source": [
    "**Example**\n",
    "\n",
    "We are going to select `Economistas` option and make a click. Use `find_element_by_xpath` and click."
   ]
  },
  {
   "cell_type": "code",
   "execution_count": 87,
   "metadata": {},
   "outputs": [
    {
     "name": "stderr",
     "output_type": "stream",
     "text": [
      "C:\\Users\\Roberto\\AppData\\Local\\Temp\\ipykernel_12640\\280983686.py:1: DeprecationWarning: find_element_by_name is deprecated. Please use find_element(by=By.NAME, value=name) instead\n",
      "  driver.find_element_by_name('cod_ambito')\n"
     ]
    },
    {
     "ename": "NoSuchElementException",
     "evalue": "Message: no such element: Unable to locate element: {\"method\":\"css selector\",\"selector\":\"[name=\"cod_ambito\"]\"}\n  (Session info: chrome=101.0.4951.67)\nStacktrace:\nBacktrace:\n\tOrdinal0 [0x006AB8F3+2406643]\n\tOrdinal0 [0x0063AF31+1945393]\n\tOrdinal0 [0x0052C748+837448]\n\tOrdinal0 [0x005592E0+1020640]\n\tOrdinal0 [0x0055957B+1021307]\n\tOrdinal0 [0x00586372+1205106]\n\tOrdinal0 [0x005742C4+1131204]\n\tOrdinal0 [0x00584682+1197698]\n\tOrdinal0 [0x00574096+1130646]\n\tOrdinal0 [0x0054E636+976438]\n\tOrdinal0 [0x0054F546+980294]\n\tGetHandleVerifier [0x00919612+2498066]\n\tGetHandleVerifier [0x0090C920+2445600]\n\tGetHandleVerifier [0x00744F2A+579370]\n\tGetHandleVerifier [0x00743D36+574774]\n\tOrdinal0 [0x00641C0B+1973259]\n\tOrdinal0 [0x00646688+1992328]\n\tOrdinal0 [0x00646775+1992565]\n\tOrdinal0 [0x0064F8D1+2029777]\n\tBaseThreadInitThunk [0x75276739+25]\n\tRtlGetFullPathName_UEx [0x773C8FEF+1215]\n\tRtlGetFullPathName_UEx [0x773C8FBD+1165]\n",
     "output_type": "error",
     "traceback": [
      "\u001b[1;31m---------------------------------------------------------------------------\u001b[0m",
      "\u001b[1;31mNoSuchElementException\u001b[0m                    Traceback (most recent call last)",
      "Input \u001b[1;32mIn [87]\u001b[0m, in \u001b[0;36m<cell line: 1>\u001b[1;34m()\u001b[0m\n\u001b[1;32m----> 1\u001b[0m \u001b[43mdriver\u001b[49m\u001b[38;5;241;43m.\u001b[39;49m\u001b[43mfind_element_by_name\u001b[49m\u001b[43m(\u001b[49m\u001b[38;5;124;43m'\u001b[39;49m\u001b[38;5;124;43mcod_ambito\u001b[39;49m\u001b[38;5;124;43m'\u001b[39;49m\u001b[43m)\u001b[49m\n",
      "File \u001b[1;32m~\\anaconda3\\lib\\site-packages\\selenium\\webdriver\\remote\\webdriver.py:670\u001b[0m, in \u001b[0;36mWebDriver.find_element_by_name\u001b[1;34m(self, name)\u001b[0m\n\u001b[0;32m    648\u001b[0m \u001b[38;5;124;03m\"\"\"\u001b[39;00m\n\u001b[0;32m    649\u001b[0m \u001b[38;5;124;03mFinds an element by name.\u001b[39;00m\n\u001b[0;32m    650\u001b[0m \n\u001b[1;32m   (...)\u001b[0m\n\u001b[0;32m    663\u001b[0m \u001b[38;5;124;03m        element = driver.find_element_by_name('foo')\u001b[39;00m\n\u001b[0;32m    664\u001b[0m \u001b[38;5;124;03m\"\"\"\u001b[39;00m\n\u001b[0;32m    665\u001b[0m warnings\u001b[38;5;241m.\u001b[39mwarn(\n\u001b[0;32m    666\u001b[0m     \u001b[38;5;124m\"\u001b[39m\u001b[38;5;124mfind_element_by_name is deprecated. Please use find_element(by=By.NAME, value=name) instead\u001b[39m\u001b[38;5;124m\"\u001b[39m,\n\u001b[0;32m    667\u001b[0m     \u001b[38;5;167;01mDeprecationWarning\u001b[39;00m,\n\u001b[0;32m    668\u001b[0m     stacklevel\u001b[38;5;241m=\u001b[39m\u001b[38;5;241m2\u001b[39m,\n\u001b[0;32m    669\u001b[0m )\n\u001b[1;32m--> 670\u001b[0m \u001b[38;5;28;01mreturn\u001b[39;00m \u001b[38;5;28;43mself\u001b[39;49m\u001b[38;5;241;43m.\u001b[39;49m\u001b[43mfind_element\u001b[49m\u001b[43m(\u001b[49m\u001b[43mby\u001b[49m\u001b[38;5;241;43m=\u001b[39;49m\u001b[43mBy\u001b[49m\u001b[38;5;241;43m.\u001b[39;49m\u001b[43mNAME\u001b[49m\u001b[43m,\u001b[49m\u001b[43m \u001b[49m\u001b[43mvalue\u001b[49m\u001b[38;5;241;43m=\u001b[39;49m\u001b[43mname\u001b[49m\u001b[43m)\u001b[49m\n",
      "File \u001b[1;32m~\\anaconda3\\lib\\site-packages\\selenium\\webdriver\\remote\\webdriver.py:1251\u001b[0m, in \u001b[0;36mWebDriver.find_element\u001b[1;34m(self, by, value)\u001b[0m\n\u001b[0;32m   1248\u001b[0m     by \u001b[38;5;241m=\u001b[39m By\u001b[38;5;241m.\u001b[39mCSS_SELECTOR\n\u001b[0;32m   1249\u001b[0m     value \u001b[38;5;241m=\u001b[39m \u001b[38;5;124m'\u001b[39m\u001b[38;5;124m[name=\u001b[39m\u001b[38;5;124m\"\u001b[39m\u001b[38;5;132;01m%s\u001b[39;00m\u001b[38;5;124m\"\u001b[39m\u001b[38;5;124m]\u001b[39m\u001b[38;5;124m'\u001b[39m \u001b[38;5;241m%\u001b[39m value\n\u001b[1;32m-> 1251\u001b[0m \u001b[38;5;28;01mreturn\u001b[39;00m \u001b[38;5;28;43mself\u001b[39;49m\u001b[38;5;241;43m.\u001b[39;49m\u001b[43mexecute\u001b[49m\u001b[43m(\u001b[49m\u001b[43mCommand\u001b[49m\u001b[38;5;241;43m.\u001b[39;49m\u001b[43mFIND_ELEMENT\u001b[49m\u001b[43m,\u001b[49m\u001b[43m \u001b[49m\u001b[43m{\u001b[49m\n\u001b[0;32m   1252\u001b[0m \u001b[43m    \u001b[49m\u001b[38;5;124;43m'\u001b[39;49m\u001b[38;5;124;43musing\u001b[39;49m\u001b[38;5;124;43m'\u001b[39;49m\u001b[43m:\u001b[49m\u001b[43m \u001b[49m\u001b[43mby\u001b[49m\u001b[43m,\u001b[49m\n\u001b[0;32m   1253\u001b[0m \u001b[43m    \u001b[49m\u001b[38;5;124;43m'\u001b[39;49m\u001b[38;5;124;43mvalue\u001b[39;49m\u001b[38;5;124;43m'\u001b[39;49m\u001b[43m:\u001b[49m\u001b[43m \u001b[49m\u001b[43mvalue\u001b[49m\u001b[43m}\u001b[49m\u001b[43m)\u001b[49m[\u001b[38;5;124m'\u001b[39m\u001b[38;5;124mvalue\u001b[39m\u001b[38;5;124m'\u001b[39m]\n",
      "File \u001b[1;32m~\\anaconda3\\lib\\site-packages\\selenium\\webdriver\\remote\\webdriver.py:430\u001b[0m, in \u001b[0;36mWebDriver.execute\u001b[1;34m(self, driver_command, params)\u001b[0m\n\u001b[0;32m    428\u001b[0m response \u001b[38;5;241m=\u001b[39m \u001b[38;5;28mself\u001b[39m\u001b[38;5;241m.\u001b[39mcommand_executor\u001b[38;5;241m.\u001b[39mexecute(driver_command, params)\n\u001b[0;32m    429\u001b[0m \u001b[38;5;28;01mif\u001b[39;00m response:\n\u001b[1;32m--> 430\u001b[0m     \u001b[38;5;28;43mself\u001b[39;49m\u001b[38;5;241;43m.\u001b[39;49m\u001b[43merror_handler\u001b[49m\u001b[38;5;241;43m.\u001b[39;49m\u001b[43mcheck_response\u001b[49m\u001b[43m(\u001b[49m\u001b[43mresponse\u001b[49m\u001b[43m)\u001b[49m\n\u001b[0;32m    431\u001b[0m     response[\u001b[38;5;124m'\u001b[39m\u001b[38;5;124mvalue\u001b[39m\u001b[38;5;124m'\u001b[39m] \u001b[38;5;241m=\u001b[39m \u001b[38;5;28mself\u001b[39m\u001b[38;5;241m.\u001b[39m_unwrap_value(\n\u001b[0;32m    432\u001b[0m         response\u001b[38;5;241m.\u001b[39mget(\u001b[38;5;124m'\u001b[39m\u001b[38;5;124mvalue\u001b[39m\u001b[38;5;124m'\u001b[39m, \u001b[38;5;28;01mNone\u001b[39;00m))\n\u001b[0;32m    433\u001b[0m     \u001b[38;5;28;01mreturn\u001b[39;00m response\n",
      "File \u001b[1;32m~\\anaconda3\\lib\\site-packages\\selenium\\webdriver\\remote\\errorhandler.py:247\u001b[0m, in \u001b[0;36mErrorHandler.check_response\u001b[1;34m(self, response)\u001b[0m\n\u001b[0;32m    245\u001b[0m         alert_text \u001b[38;5;241m=\u001b[39m value[\u001b[38;5;124m'\u001b[39m\u001b[38;5;124malert\u001b[39m\u001b[38;5;124m'\u001b[39m]\u001b[38;5;241m.\u001b[39mget(\u001b[38;5;124m'\u001b[39m\u001b[38;5;124mtext\u001b[39m\u001b[38;5;124m'\u001b[39m)\n\u001b[0;32m    246\u001b[0m     \u001b[38;5;28;01mraise\u001b[39;00m exception_class(message, screen, stacktrace, alert_text)  \u001b[38;5;66;03m# type: ignore[call-arg]  # mypy is not smart enough here\u001b[39;00m\n\u001b[1;32m--> 247\u001b[0m \u001b[38;5;28;01mraise\u001b[39;00m exception_class(message, screen, stacktrace)\n",
      "\u001b[1;31mNoSuchElementException\u001b[0m: Message: no such element: Unable to locate element: {\"method\":\"css selector\",\"selector\":\"[name=\"cod_ambito\"]\"}\n  (Session info: chrome=101.0.4951.67)\nStacktrace:\nBacktrace:\n\tOrdinal0 [0x006AB8F3+2406643]\n\tOrdinal0 [0x0063AF31+1945393]\n\tOrdinal0 [0x0052C748+837448]\n\tOrdinal0 [0x005592E0+1020640]\n\tOrdinal0 [0x0055957B+1021307]\n\tOrdinal0 [0x00586372+1205106]\n\tOrdinal0 [0x005742C4+1131204]\n\tOrdinal0 [0x00584682+1197698]\n\tOrdinal0 [0x00574096+1130646]\n\tOrdinal0 [0x0054E636+976438]\n\tOrdinal0 [0x0054F546+980294]\n\tGetHandleVerifier [0x00919612+2498066]\n\tGetHandleVerifier [0x0090C920+2445600]\n\tGetHandleVerifier [0x00744F2A+579370]\n\tGetHandleVerifier [0x00743D36+574774]\n\tOrdinal0 [0x00641C0B+1973259]\n\tOrdinal0 [0x00646688+1992328]\n\tOrdinal0 [0x00646775+1992565]\n\tOrdinal0 [0x0064F8D1+2029777]\n\tBaseThreadInitThunk [0x75276739+25]\n\tRtlGetFullPathName_UEx [0x773C8FEF+1215]\n\tRtlGetFullPathName_UEx [0x773C8FBD+1165]\n"
     ]
    }
   ],
   "source": [
    "driver.find_element_by_name('cod_ambito')"
   ]
  },
  {
   "cell_type": "code",
   "execution_count": 90,
   "metadata": {},
   "outputs": [
    {
     "name": "stderr",
     "output_type": "stream",
     "text": [
      "C:\\Users\\Roberto\\AppData\\Local\\Temp\\ipykernel_12640\\923623422.py:2: DeprecationWarning: find_element_by_* commands are deprecated. Please use find_element() instead\n",
      "  driver.find_element_by_id('select_ambito')\n"
     ]
    },
    {
     "ename": "NoSuchElementException",
     "evalue": "Message: no such element: Unable to locate element: {\"method\":\"css selector\",\"selector\":\"[id=\"select_ambito\"]\"}\n  (Session info: chrome=101.0.4951.67)\nStacktrace:\nBacktrace:\n\tOrdinal0 [0x006AB8F3+2406643]\n\tOrdinal0 [0x0063AF31+1945393]\n\tOrdinal0 [0x0052C748+837448]\n\tOrdinal0 [0x005592E0+1020640]\n\tOrdinal0 [0x0055957B+1021307]\n\tOrdinal0 [0x00586372+1205106]\n\tOrdinal0 [0x005742C4+1131204]\n\tOrdinal0 [0x00584682+1197698]\n\tOrdinal0 [0x00574096+1130646]\n\tOrdinal0 [0x0054E636+976438]\n\tOrdinal0 [0x0054F546+980294]\n\tGetHandleVerifier [0x00919612+2498066]\n\tGetHandleVerifier [0x0090C920+2445600]\n\tGetHandleVerifier [0x00744F2A+579370]\n\tGetHandleVerifier [0x00743D36+574774]\n\tOrdinal0 [0x00641C0B+1973259]\n\tOrdinal0 [0x00646688+1992328]\n\tOrdinal0 [0x00646775+1992565]\n\tOrdinal0 [0x0064F8D1+2029777]\n\tBaseThreadInitThunk [0x75276739+25]\n\tRtlGetFullPathName_UEx [0x773C8FEF+1215]\n\tRtlGetFullPathName_UEx [0x773C8FBD+1165]\n",
     "output_type": "error",
     "traceback": [
      "\u001b[1;31m---------------------------------------------------------------------------\u001b[0m",
      "\u001b[1;31mNoSuchElementException\u001b[0m                    Traceback (most recent call last)",
      "Input \u001b[1;32mIn [90]\u001b[0m, in \u001b[0;36m<cell line: 2>\u001b[1;34m()\u001b[0m\n\u001b[0;32m      1\u001b[0m \u001b[38;5;66;03m# Best practices\u001b[39;00m\n\u001b[1;32m----> 2\u001b[0m \u001b[43mdriver\u001b[49m\u001b[38;5;241;43m.\u001b[39;49m\u001b[43mfind_element_by_id\u001b[49m\u001b[43m(\u001b[49m\u001b[38;5;124;43m'\u001b[39;49m\u001b[38;5;124;43mselect_ambito\u001b[39;49m\u001b[38;5;124;43m'\u001b[39;49m\u001b[43m)\u001b[49m\n\u001b[0;32m      3\u001b[0m driver\u001b[38;5;241m.\u001b[39mfind_element_by_name(\u001b[38;5;124m'\u001b[39m\u001b[38;5;124mcod_ambito\u001b[39m\u001b[38;5;124m'\u001b[39m)\n\u001b[0;32m      4\u001b[0m driver\u001b[38;5;241m.\u001b[39mfind_element_by_xpath(\u001b[38;5;124m'\u001b[39m\u001b[38;5;124m/html/body/onpe-root/onpe-layout-container/onpe-onpe-epres-re/div[1]/div[3]/div[1]/div[1]/div/div/div/select\u001b[39m\u001b[38;5;124m'\u001b[39m)\n",
      "File \u001b[1;32m~\\anaconda3\\lib\\site-packages\\selenium\\webdriver\\remote\\webdriver.py:478\u001b[0m, in \u001b[0;36mWebDriver.find_element_by_id\u001b[1;34m(self, id_)\u001b[0m\n\u001b[0;32m    457\u001b[0m \u001b[38;5;124;03m\"\"\"Finds an element by id.\u001b[39;00m\n\u001b[0;32m    458\u001b[0m \n\u001b[0;32m    459\u001b[0m \u001b[38;5;124;03m:Args:\u001b[39;00m\n\u001b[1;32m   (...)\u001b[0m\n\u001b[0;32m    471\u001b[0m \u001b[38;5;124;03m        element = driver.find_element_by_id('foo')\u001b[39;00m\n\u001b[0;32m    472\u001b[0m \u001b[38;5;124;03m\"\"\"\u001b[39;00m\n\u001b[0;32m    473\u001b[0m warnings\u001b[38;5;241m.\u001b[39mwarn(\n\u001b[0;32m    474\u001b[0m     \u001b[38;5;124m\"\u001b[39m\u001b[38;5;124mfind_element_by_* commands are deprecated. Please use find_element() instead\u001b[39m\u001b[38;5;124m\"\u001b[39m,\n\u001b[0;32m    475\u001b[0m     \u001b[38;5;167;01mDeprecationWarning\u001b[39;00m,\n\u001b[0;32m    476\u001b[0m     stacklevel\u001b[38;5;241m=\u001b[39m\u001b[38;5;241m2\u001b[39m,\n\u001b[0;32m    477\u001b[0m )\n\u001b[1;32m--> 478\u001b[0m \u001b[38;5;28;01mreturn\u001b[39;00m \u001b[38;5;28;43mself\u001b[39;49m\u001b[38;5;241;43m.\u001b[39;49m\u001b[43mfind_element\u001b[49m\u001b[43m(\u001b[49m\u001b[43mby\u001b[49m\u001b[38;5;241;43m=\u001b[39;49m\u001b[43mBy\u001b[49m\u001b[38;5;241;43m.\u001b[39;49m\u001b[43mID\u001b[49m\u001b[43m,\u001b[49m\u001b[43m \u001b[49m\u001b[43mvalue\u001b[49m\u001b[38;5;241;43m=\u001b[39;49m\u001b[43mid_\u001b[49m\u001b[43m)\u001b[49m\n",
      "File \u001b[1;32m~\\anaconda3\\lib\\site-packages\\selenium\\webdriver\\remote\\webdriver.py:1251\u001b[0m, in \u001b[0;36mWebDriver.find_element\u001b[1;34m(self, by, value)\u001b[0m\n\u001b[0;32m   1248\u001b[0m     by \u001b[38;5;241m=\u001b[39m By\u001b[38;5;241m.\u001b[39mCSS_SELECTOR\n\u001b[0;32m   1249\u001b[0m     value \u001b[38;5;241m=\u001b[39m \u001b[38;5;124m'\u001b[39m\u001b[38;5;124m[name=\u001b[39m\u001b[38;5;124m\"\u001b[39m\u001b[38;5;132;01m%s\u001b[39;00m\u001b[38;5;124m\"\u001b[39m\u001b[38;5;124m]\u001b[39m\u001b[38;5;124m'\u001b[39m \u001b[38;5;241m%\u001b[39m value\n\u001b[1;32m-> 1251\u001b[0m \u001b[38;5;28;01mreturn\u001b[39;00m \u001b[38;5;28;43mself\u001b[39;49m\u001b[38;5;241;43m.\u001b[39;49m\u001b[43mexecute\u001b[49m\u001b[43m(\u001b[49m\u001b[43mCommand\u001b[49m\u001b[38;5;241;43m.\u001b[39;49m\u001b[43mFIND_ELEMENT\u001b[49m\u001b[43m,\u001b[49m\u001b[43m \u001b[49m\u001b[43m{\u001b[49m\n\u001b[0;32m   1252\u001b[0m \u001b[43m    \u001b[49m\u001b[38;5;124;43m'\u001b[39;49m\u001b[38;5;124;43musing\u001b[39;49m\u001b[38;5;124;43m'\u001b[39;49m\u001b[43m:\u001b[49m\u001b[43m \u001b[49m\u001b[43mby\u001b[49m\u001b[43m,\u001b[49m\n\u001b[0;32m   1253\u001b[0m \u001b[43m    \u001b[49m\u001b[38;5;124;43m'\u001b[39;49m\u001b[38;5;124;43mvalue\u001b[39;49m\u001b[38;5;124;43m'\u001b[39;49m\u001b[43m:\u001b[49m\u001b[43m \u001b[49m\u001b[43mvalue\u001b[49m\u001b[43m}\u001b[49m\u001b[43m)\u001b[49m[\u001b[38;5;124m'\u001b[39m\u001b[38;5;124mvalue\u001b[39m\u001b[38;5;124m'\u001b[39m]\n",
      "File \u001b[1;32m~\\anaconda3\\lib\\site-packages\\selenium\\webdriver\\remote\\webdriver.py:430\u001b[0m, in \u001b[0;36mWebDriver.execute\u001b[1;34m(self, driver_command, params)\u001b[0m\n\u001b[0;32m    428\u001b[0m response \u001b[38;5;241m=\u001b[39m \u001b[38;5;28mself\u001b[39m\u001b[38;5;241m.\u001b[39mcommand_executor\u001b[38;5;241m.\u001b[39mexecute(driver_command, params)\n\u001b[0;32m    429\u001b[0m \u001b[38;5;28;01mif\u001b[39;00m response:\n\u001b[1;32m--> 430\u001b[0m     \u001b[38;5;28;43mself\u001b[39;49m\u001b[38;5;241;43m.\u001b[39;49m\u001b[43merror_handler\u001b[49m\u001b[38;5;241;43m.\u001b[39;49m\u001b[43mcheck_response\u001b[49m\u001b[43m(\u001b[49m\u001b[43mresponse\u001b[49m\u001b[43m)\u001b[49m\n\u001b[0;32m    431\u001b[0m     response[\u001b[38;5;124m'\u001b[39m\u001b[38;5;124mvalue\u001b[39m\u001b[38;5;124m'\u001b[39m] \u001b[38;5;241m=\u001b[39m \u001b[38;5;28mself\u001b[39m\u001b[38;5;241m.\u001b[39m_unwrap_value(\n\u001b[0;32m    432\u001b[0m         response\u001b[38;5;241m.\u001b[39mget(\u001b[38;5;124m'\u001b[39m\u001b[38;5;124mvalue\u001b[39m\u001b[38;5;124m'\u001b[39m, \u001b[38;5;28;01mNone\u001b[39;00m))\n\u001b[0;32m    433\u001b[0m     \u001b[38;5;28;01mreturn\u001b[39;00m response\n",
      "File \u001b[1;32m~\\anaconda3\\lib\\site-packages\\selenium\\webdriver\\remote\\errorhandler.py:247\u001b[0m, in \u001b[0;36mErrorHandler.check_response\u001b[1;34m(self, response)\u001b[0m\n\u001b[0;32m    245\u001b[0m         alert_text \u001b[38;5;241m=\u001b[39m value[\u001b[38;5;124m'\u001b[39m\u001b[38;5;124malert\u001b[39m\u001b[38;5;124m'\u001b[39m]\u001b[38;5;241m.\u001b[39mget(\u001b[38;5;124m'\u001b[39m\u001b[38;5;124mtext\u001b[39m\u001b[38;5;124m'\u001b[39m)\n\u001b[0;32m    246\u001b[0m     \u001b[38;5;28;01mraise\u001b[39;00m exception_class(message, screen, stacktrace, alert_text)  \u001b[38;5;66;03m# type: ignore[call-arg]  # mypy is not smart enough here\u001b[39;00m\n\u001b[1;32m--> 247\u001b[0m \u001b[38;5;28;01mraise\u001b[39;00m exception_class(message, screen, stacktrace)\n",
      "\u001b[1;31mNoSuchElementException\u001b[0m: Message: no such element: Unable to locate element: {\"method\":\"css selector\",\"selector\":\"[id=\"select_ambito\"]\"}\n  (Session info: chrome=101.0.4951.67)\nStacktrace:\nBacktrace:\n\tOrdinal0 [0x006AB8F3+2406643]\n\tOrdinal0 [0x0063AF31+1945393]\n\tOrdinal0 [0x0052C748+837448]\n\tOrdinal0 [0x005592E0+1020640]\n\tOrdinal0 [0x0055957B+1021307]\n\tOrdinal0 [0x00586372+1205106]\n\tOrdinal0 [0x005742C4+1131204]\n\tOrdinal0 [0x00584682+1197698]\n\tOrdinal0 [0x00574096+1130646]\n\tOrdinal0 [0x0054E636+976438]\n\tOrdinal0 [0x0054F546+980294]\n\tGetHandleVerifier [0x00919612+2498066]\n\tGetHandleVerifier [0x0090C920+2445600]\n\tGetHandleVerifier [0x00744F2A+579370]\n\tGetHandleVerifier [0x00743D36+574774]\n\tOrdinal0 [0x00641C0B+1973259]\n\tOrdinal0 [0x00646688+1992328]\n\tOrdinal0 [0x00646775+1992565]\n\tOrdinal0 [0x0064F8D1+2029777]\n\tBaseThreadInitThunk [0x75276739+25]\n\tRtlGetFullPathName_UEx [0x773C8FEF+1215]\n\tRtlGetFullPathName_UEx [0x773C8FBD+1165]\n"
     ]
    }
   ],
   "source": [
    "# Best practices\n",
    "driver.find_element_by_id('select_ambito')\n",
    "driver.find_element_by_name('cod_ambito')\n",
    "driver.find_element_by_xpath('/html/body/onpe-root/onpe-layout-container/onpe-onpe-epres-re/div[1]/div[3]/div[1]/div[1]/div/div/div/select')"
   ]
  },
  {
   "cell_type": "code",
   "execution_count": 91,
   "metadata": {},
   "outputs": [
    {
     "name": "stderr",
     "output_type": "stream",
     "text": [
      "C:\\Users\\Roberto\\AppData\\Local\\Temp\\ipykernel_12640\\3486675539.py:1: DeprecationWarning: find_element_by_class_name is deprecated. Please use find_element(by=By.CLASS_NAME, value=name) instead\n",
      "  driver.find_element_by_class_name('select_ubigeo')\n"
     ]
    },
    {
     "ename": "NoSuchElementException",
     "evalue": "Message: no such element: Unable to locate element: {\"method\":\"css selector\",\"selector\":\".select_ubigeo\"}\n  (Session info: chrome=101.0.4951.67)\nStacktrace:\nBacktrace:\n\tOrdinal0 [0x006AB8F3+2406643]\n\tOrdinal0 [0x0063AF31+1945393]\n\tOrdinal0 [0x0052C748+837448]\n\tOrdinal0 [0x005592E0+1020640]\n\tOrdinal0 [0x0055957B+1021307]\n\tOrdinal0 [0x00586372+1205106]\n\tOrdinal0 [0x005742C4+1131204]\n\tOrdinal0 [0x00584682+1197698]\n\tOrdinal0 [0x00574096+1130646]\n\tOrdinal0 [0x0054E636+976438]\n\tOrdinal0 [0x0054F546+980294]\n\tGetHandleVerifier [0x00919612+2498066]\n\tGetHandleVerifier [0x0090C920+2445600]\n\tGetHandleVerifier [0x00744F2A+579370]\n\tGetHandleVerifier [0x00743D36+574774]\n\tOrdinal0 [0x00641C0B+1973259]\n\tOrdinal0 [0x00646688+1992328]\n\tOrdinal0 [0x00646775+1992565]\n\tOrdinal0 [0x0064F8D1+2029777]\n\tBaseThreadInitThunk [0x75276739+25]\n\tRtlGetFullPathName_UEx [0x773C8FEF+1215]\n\tRtlGetFullPathName_UEx [0x773C8FBD+1165]\n",
     "output_type": "error",
     "traceback": [
      "\u001b[1;31m---------------------------------------------------------------------------\u001b[0m",
      "\u001b[1;31mNoSuchElementException\u001b[0m                    Traceback (most recent call last)",
      "Input \u001b[1;32mIn [91]\u001b[0m, in \u001b[0;36m<cell line: 1>\u001b[1;34m()\u001b[0m\n\u001b[1;32m----> 1\u001b[0m \u001b[43mdriver\u001b[49m\u001b[38;5;241;43m.\u001b[39;49m\u001b[43mfind_element_by_class_name\u001b[49m\u001b[43m(\u001b[49m\u001b[38;5;124;43m'\u001b[39;49m\u001b[38;5;124;43mselect_ubigeo\u001b[39;49m\u001b[38;5;124;43m'\u001b[39;49m\u001b[43m)\u001b[49m\n",
      "File \u001b[1;32m~\\anaconda3\\lib\\site-packages\\selenium\\webdriver\\remote\\webdriver.py:766\u001b[0m, in \u001b[0;36mWebDriver.find_element_by_class_name\u001b[1;34m(self, name)\u001b[0m\n\u001b[0;32m    744\u001b[0m \u001b[38;5;124;03m\"\"\"\u001b[39;00m\n\u001b[0;32m    745\u001b[0m \u001b[38;5;124;03mFinds an element by class name.\u001b[39;00m\n\u001b[0;32m    746\u001b[0m \n\u001b[1;32m   (...)\u001b[0m\n\u001b[0;32m    759\u001b[0m \u001b[38;5;124;03m        element = driver.find_element_by_class_name('foo')\u001b[39;00m\n\u001b[0;32m    760\u001b[0m \u001b[38;5;124;03m\"\"\"\u001b[39;00m\n\u001b[0;32m    761\u001b[0m warnings\u001b[38;5;241m.\u001b[39mwarn(\n\u001b[0;32m    762\u001b[0m     \u001b[38;5;124m\"\u001b[39m\u001b[38;5;124mfind_element_by_class_name is deprecated. Please use find_element(by=By.CLASS_NAME, value=name) instead\u001b[39m\u001b[38;5;124m\"\u001b[39m,\n\u001b[0;32m    763\u001b[0m     \u001b[38;5;167;01mDeprecationWarning\u001b[39;00m,\n\u001b[0;32m    764\u001b[0m     stacklevel\u001b[38;5;241m=\u001b[39m\u001b[38;5;241m2\u001b[39m,\n\u001b[0;32m    765\u001b[0m )\n\u001b[1;32m--> 766\u001b[0m \u001b[38;5;28;01mreturn\u001b[39;00m \u001b[38;5;28;43mself\u001b[39;49m\u001b[38;5;241;43m.\u001b[39;49m\u001b[43mfind_element\u001b[49m\u001b[43m(\u001b[49m\u001b[43mby\u001b[49m\u001b[38;5;241;43m=\u001b[39;49m\u001b[43mBy\u001b[49m\u001b[38;5;241;43m.\u001b[39;49m\u001b[43mCLASS_NAME\u001b[49m\u001b[43m,\u001b[49m\u001b[43m \u001b[49m\u001b[43mvalue\u001b[49m\u001b[38;5;241;43m=\u001b[39;49m\u001b[43mname\u001b[49m\u001b[43m)\u001b[49m\n",
      "File \u001b[1;32m~\\anaconda3\\lib\\site-packages\\selenium\\webdriver\\remote\\webdriver.py:1251\u001b[0m, in \u001b[0;36mWebDriver.find_element\u001b[1;34m(self, by, value)\u001b[0m\n\u001b[0;32m   1248\u001b[0m     by \u001b[38;5;241m=\u001b[39m By\u001b[38;5;241m.\u001b[39mCSS_SELECTOR\n\u001b[0;32m   1249\u001b[0m     value \u001b[38;5;241m=\u001b[39m \u001b[38;5;124m'\u001b[39m\u001b[38;5;124m[name=\u001b[39m\u001b[38;5;124m\"\u001b[39m\u001b[38;5;132;01m%s\u001b[39;00m\u001b[38;5;124m\"\u001b[39m\u001b[38;5;124m]\u001b[39m\u001b[38;5;124m'\u001b[39m \u001b[38;5;241m%\u001b[39m value\n\u001b[1;32m-> 1251\u001b[0m \u001b[38;5;28;01mreturn\u001b[39;00m \u001b[38;5;28;43mself\u001b[39;49m\u001b[38;5;241;43m.\u001b[39;49m\u001b[43mexecute\u001b[49m\u001b[43m(\u001b[49m\u001b[43mCommand\u001b[49m\u001b[38;5;241;43m.\u001b[39;49m\u001b[43mFIND_ELEMENT\u001b[49m\u001b[43m,\u001b[49m\u001b[43m \u001b[49m\u001b[43m{\u001b[49m\n\u001b[0;32m   1252\u001b[0m \u001b[43m    \u001b[49m\u001b[38;5;124;43m'\u001b[39;49m\u001b[38;5;124;43musing\u001b[39;49m\u001b[38;5;124;43m'\u001b[39;49m\u001b[43m:\u001b[49m\u001b[43m \u001b[49m\u001b[43mby\u001b[49m\u001b[43m,\u001b[49m\n\u001b[0;32m   1253\u001b[0m \u001b[43m    \u001b[49m\u001b[38;5;124;43m'\u001b[39;49m\u001b[38;5;124;43mvalue\u001b[39;49m\u001b[38;5;124;43m'\u001b[39;49m\u001b[43m:\u001b[49m\u001b[43m \u001b[49m\u001b[43mvalue\u001b[49m\u001b[43m}\u001b[49m\u001b[43m)\u001b[49m[\u001b[38;5;124m'\u001b[39m\u001b[38;5;124mvalue\u001b[39m\u001b[38;5;124m'\u001b[39m]\n",
      "File \u001b[1;32m~\\anaconda3\\lib\\site-packages\\selenium\\webdriver\\remote\\webdriver.py:430\u001b[0m, in \u001b[0;36mWebDriver.execute\u001b[1;34m(self, driver_command, params)\u001b[0m\n\u001b[0;32m    428\u001b[0m response \u001b[38;5;241m=\u001b[39m \u001b[38;5;28mself\u001b[39m\u001b[38;5;241m.\u001b[39mcommand_executor\u001b[38;5;241m.\u001b[39mexecute(driver_command, params)\n\u001b[0;32m    429\u001b[0m \u001b[38;5;28;01mif\u001b[39;00m response:\n\u001b[1;32m--> 430\u001b[0m     \u001b[38;5;28;43mself\u001b[39;49m\u001b[38;5;241;43m.\u001b[39;49m\u001b[43merror_handler\u001b[49m\u001b[38;5;241;43m.\u001b[39;49m\u001b[43mcheck_response\u001b[49m\u001b[43m(\u001b[49m\u001b[43mresponse\u001b[49m\u001b[43m)\u001b[49m\n\u001b[0;32m    431\u001b[0m     response[\u001b[38;5;124m'\u001b[39m\u001b[38;5;124mvalue\u001b[39m\u001b[38;5;124m'\u001b[39m] \u001b[38;5;241m=\u001b[39m \u001b[38;5;28mself\u001b[39m\u001b[38;5;241m.\u001b[39m_unwrap_value(\n\u001b[0;32m    432\u001b[0m         response\u001b[38;5;241m.\u001b[39mget(\u001b[38;5;124m'\u001b[39m\u001b[38;5;124mvalue\u001b[39m\u001b[38;5;124m'\u001b[39m, \u001b[38;5;28;01mNone\u001b[39;00m))\n\u001b[0;32m    433\u001b[0m     \u001b[38;5;28;01mreturn\u001b[39;00m response\n",
      "File \u001b[1;32m~\\anaconda3\\lib\\site-packages\\selenium\\webdriver\\remote\\errorhandler.py:247\u001b[0m, in \u001b[0;36mErrorHandler.check_response\u001b[1;34m(self, response)\u001b[0m\n\u001b[0;32m    245\u001b[0m         alert_text \u001b[38;5;241m=\u001b[39m value[\u001b[38;5;124m'\u001b[39m\u001b[38;5;124malert\u001b[39m\u001b[38;5;124m'\u001b[39m]\u001b[38;5;241m.\u001b[39mget(\u001b[38;5;124m'\u001b[39m\u001b[38;5;124mtext\u001b[39m\u001b[38;5;124m'\u001b[39m)\n\u001b[0;32m    246\u001b[0m     \u001b[38;5;28;01mraise\u001b[39;00m exception_class(message, screen, stacktrace, alert_text)  \u001b[38;5;66;03m# type: ignore[call-arg]  # mypy is not smart enough here\u001b[39;00m\n\u001b[1;32m--> 247\u001b[0m \u001b[38;5;28;01mraise\u001b[39;00m exception_class(message, screen, stacktrace)\n",
      "\u001b[1;31mNoSuchElementException\u001b[0m: Message: no such element: Unable to locate element: {\"method\":\"css selector\",\"selector\":\".select_ubigeo\"}\n  (Session info: chrome=101.0.4951.67)\nStacktrace:\nBacktrace:\n\tOrdinal0 [0x006AB8F3+2406643]\n\tOrdinal0 [0x0063AF31+1945393]\n\tOrdinal0 [0x0052C748+837448]\n\tOrdinal0 [0x005592E0+1020640]\n\tOrdinal0 [0x0055957B+1021307]\n\tOrdinal0 [0x00586372+1205106]\n\tOrdinal0 [0x005742C4+1131204]\n\tOrdinal0 [0x00584682+1197698]\n\tOrdinal0 [0x00574096+1130646]\n\tOrdinal0 [0x0054E636+976438]\n\tOrdinal0 [0x0054F546+980294]\n\tGetHandleVerifier [0x00919612+2498066]\n\tGetHandleVerifier [0x0090C920+2445600]\n\tGetHandleVerifier [0x00744F2A+579370]\n\tGetHandleVerifier [0x00743D36+574774]\n\tOrdinal0 [0x00641C0B+1973259]\n\tOrdinal0 [0x00646688+1992328]\n\tOrdinal0 [0x00646775+1992565]\n\tOrdinal0 [0x0064F8D1+2029777]\n\tBaseThreadInitThunk [0x75276739+25]\n\tRtlGetFullPathName_UEx [0x773C8FEF+1215]\n\tRtlGetFullPathName_UEx [0x773C8FBD+1165]\n"
     ]
    }
   ],
   "source": [
    "driver.find_element_by_class_name('select_ubigeo')"
   ]
  },
  {
   "cell_type": "code",
   "execution_count": 93,
   "metadata": {},
   "outputs": [
    {
     "name": "stderr",
     "output_type": "stream",
     "text": [
      "C:\\Users\\Roberto\\AppData\\Local\\Temp\\ipykernel_12640\\2823056965.py:1: DeprecationWarning: find_element_by_* commands are deprecated. Please use find_element() instead\n",
      "  searchBox = driver.find_element_by_id('select_ambito')\n"
     ]
    },
    {
     "ename": "NoSuchElementException",
     "evalue": "Message: no such element: Unable to locate element: {\"method\":\"css selector\",\"selector\":\"[id=\"select_ambito\"]\"}\n  (Session info: chrome=101.0.4951.67)\nStacktrace:\nBacktrace:\n\tOrdinal0 [0x006AB8F3+2406643]\n\tOrdinal0 [0x0063AF31+1945393]\n\tOrdinal0 [0x0052C748+837448]\n\tOrdinal0 [0x005592E0+1020640]\n\tOrdinal0 [0x0055957B+1021307]\n\tOrdinal0 [0x00586372+1205106]\n\tOrdinal0 [0x005742C4+1131204]\n\tOrdinal0 [0x00584682+1197698]\n\tOrdinal0 [0x00574096+1130646]\n\tOrdinal0 [0x0054E636+976438]\n\tOrdinal0 [0x0054F546+980294]\n\tGetHandleVerifier [0x00919612+2498066]\n\tGetHandleVerifier [0x0090C920+2445600]\n\tGetHandleVerifier [0x00744F2A+579370]\n\tGetHandleVerifier [0x00743D36+574774]\n\tOrdinal0 [0x00641C0B+1973259]\n\tOrdinal0 [0x00646688+1992328]\n\tOrdinal0 [0x00646775+1992565]\n\tOrdinal0 [0x0064F8D1+2029777]\n\tBaseThreadInitThunk [0x75276739+25]\n\tRtlGetFullPathName_UEx [0x773C8FEF+1215]\n\tRtlGetFullPathName_UEx [0x773C8FBD+1165]\n",
     "output_type": "error",
     "traceback": [
      "\u001b[1;31m---------------------------------------------------------------------------\u001b[0m",
      "\u001b[1;31mNoSuchElementException\u001b[0m                    Traceback (most recent call last)",
      "Input \u001b[1;32mIn [93]\u001b[0m, in \u001b[0;36m<cell line: 1>\u001b[1;34m()\u001b[0m\n\u001b[1;32m----> 1\u001b[0m searchBox \u001b[38;5;241m=\u001b[39m \u001b[43mdriver\u001b[49m\u001b[38;5;241;43m.\u001b[39;49m\u001b[43mfind_element_by_id\u001b[49m\u001b[43m(\u001b[49m\u001b[38;5;124;43m'\u001b[39;49m\u001b[38;5;124;43mselect_ambito\u001b[39;49m\u001b[38;5;124;43m'\u001b[39;49m\u001b[43m)\u001b[49m\n",
      "File \u001b[1;32m~\\anaconda3\\lib\\site-packages\\selenium\\webdriver\\remote\\webdriver.py:478\u001b[0m, in \u001b[0;36mWebDriver.find_element_by_id\u001b[1;34m(self, id_)\u001b[0m\n\u001b[0;32m    457\u001b[0m \u001b[38;5;124;03m\"\"\"Finds an element by id.\u001b[39;00m\n\u001b[0;32m    458\u001b[0m \n\u001b[0;32m    459\u001b[0m \u001b[38;5;124;03m:Args:\u001b[39;00m\n\u001b[1;32m   (...)\u001b[0m\n\u001b[0;32m    471\u001b[0m \u001b[38;5;124;03m        element = driver.find_element_by_id('foo')\u001b[39;00m\n\u001b[0;32m    472\u001b[0m \u001b[38;5;124;03m\"\"\"\u001b[39;00m\n\u001b[0;32m    473\u001b[0m warnings\u001b[38;5;241m.\u001b[39mwarn(\n\u001b[0;32m    474\u001b[0m     \u001b[38;5;124m\"\u001b[39m\u001b[38;5;124mfind_element_by_* commands are deprecated. Please use find_element() instead\u001b[39m\u001b[38;5;124m\"\u001b[39m,\n\u001b[0;32m    475\u001b[0m     \u001b[38;5;167;01mDeprecationWarning\u001b[39;00m,\n\u001b[0;32m    476\u001b[0m     stacklevel\u001b[38;5;241m=\u001b[39m\u001b[38;5;241m2\u001b[39m,\n\u001b[0;32m    477\u001b[0m )\n\u001b[1;32m--> 478\u001b[0m \u001b[38;5;28;01mreturn\u001b[39;00m \u001b[38;5;28;43mself\u001b[39;49m\u001b[38;5;241;43m.\u001b[39;49m\u001b[43mfind_element\u001b[49m\u001b[43m(\u001b[49m\u001b[43mby\u001b[49m\u001b[38;5;241;43m=\u001b[39;49m\u001b[43mBy\u001b[49m\u001b[38;5;241;43m.\u001b[39;49m\u001b[43mID\u001b[49m\u001b[43m,\u001b[49m\u001b[43m \u001b[49m\u001b[43mvalue\u001b[49m\u001b[38;5;241;43m=\u001b[39;49m\u001b[43mid_\u001b[49m\u001b[43m)\u001b[49m\n",
      "File \u001b[1;32m~\\anaconda3\\lib\\site-packages\\selenium\\webdriver\\remote\\webdriver.py:1251\u001b[0m, in \u001b[0;36mWebDriver.find_element\u001b[1;34m(self, by, value)\u001b[0m\n\u001b[0;32m   1248\u001b[0m     by \u001b[38;5;241m=\u001b[39m By\u001b[38;5;241m.\u001b[39mCSS_SELECTOR\n\u001b[0;32m   1249\u001b[0m     value \u001b[38;5;241m=\u001b[39m \u001b[38;5;124m'\u001b[39m\u001b[38;5;124m[name=\u001b[39m\u001b[38;5;124m\"\u001b[39m\u001b[38;5;132;01m%s\u001b[39;00m\u001b[38;5;124m\"\u001b[39m\u001b[38;5;124m]\u001b[39m\u001b[38;5;124m'\u001b[39m \u001b[38;5;241m%\u001b[39m value\n\u001b[1;32m-> 1251\u001b[0m \u001b[38;5;28;01mreturn\u001b[39;00m \u001b[38;5;28;43mself\u001b[39;49m\u001b[38;5;241;43m.\u001b[39;49m\u001b[43mexecute\u001b[49m\u001b[43m(\u001b[49m\u001b[43mCommand\u001b[49m\u001b[38;5;241;43m.\u001b[39;49m\u001b[43mFIND_ELEMENT\u001b[49m\u001b[43m,\u001b[49m\u001b[43m \u001b[49m\u001b[43m{\u001b[49m\n\u001b[0;32m   1252\u001b[0m \u001b[43m    \u001b[49m\u001b[38;5;124;43m'\u001b[39;49m\u001b[38;5;124;43musing\u001b[39;49m\u001b[38;5;124;43m'\u001b[39;49m\u001b[43m:\u001b[49m\u001b[43m \u001b[49m\u001b[43mby\u001b[49m\u001b[43m,\u001b[49m\n\u001b[0;32m   1253\u001b[0m \u001b[43m    \u001b[49m\u001b[38;5;124;43m'\u001b[39;49m\u001b[38;5;124;43mvalue\u001b[39;49m\u001b[38;5;124;43m'\u001b[39;49m\u001b[43m:\u001b[49m\u001b[43m \u001b[49m\u001b[43mvalue\u001b[49m\u001b[43m}\u001b[49m\u001b[43m)\u001b[49m[\u001b[38;5;124m'\u001b[39m\u001b[38;5;124mvalue\u001b[39m\u001b[38;5;124m'\u001b[39m]\n",
      "File \u001b[1;32m~\\anaconda3\\lib\\site-packages\\selenium\\webdriver\\remote\\webdriver.py:430\u001b[0m, in \u001b[0;36mWebDriver.execute\u001b[1;34m(self, driver_command, params)\u001b[0m\n\u001b[0;32m    428\u001b[0m response \u001b[38;5;241m=\u001b[39m \u001b[38;5;28mself\u001b[39m\u001b[38;5;241m.\u001b[39mcommand_executor\u001b[38;5;241m.\u001b[39mexecute(driver_command, params)\n\u001b[0;32m    429\u001b[0m \u001b[38;5;28;01mif\u001b[39;00m response:\n\u001b[1;32m--> 430\u001b[0m     \u001b[38;5;28;43mself\u001b[39;49m\u001b[38;5;241;43m.\u001b[39;49m\u001b[43merror_handler\u001b[49m\u001b[38;5;241;43m.\u001b[39;49m\u001b[43mcheck_response\u001b[49m\u001b[43m(\u001b[49m\u001b[43mresponse\u001b[49m\u001b[43m)\u001b[49m\n\u001b[0;32m    431\u001b[0m     response[\u001b[38;5;124m'\u001b[39m\u001b[38;5;124mvalue\u001b[39m\u001b[38;5;124m'\u001b[39m] \u001b[38;5;241m=\u001b[39m \u001b[38;5;28mself\u001b[39m\u001b[38;5;241m.\u001b[39m_unwrap_value(\n\u001b[0;32m    432\u001b[0m         response\u001b[38;5;241m.\u001b[39mget(\u001b[38;5;124m'\u001b[39m\u001b[38;5;124mvalue\u001b[39m\u001b[38;5;124m'\u001b[39m, \u001b[38;5;28;01mNone\u001b[39;00m))\n\u001b[0;32m    433\u001b[0m     \u001b[38;5;28;01mreturn\u001b[39;00m response\n",
      "File \u001b[1;32m~\\anaconda3\\lib\\site-packages\\selenium\\webdriver\\remote\\errorhandler.py:247\u001b[0m, in \u001b[0;36mErrorHandler.check_response\u001b[1;34m(self, response)\u001b[0m\n\u001b[0;32m    245\u001b[0m         alert_text \u001b[38;5;241m=\u001b[39m value[\u001b[38;5;124m'\u001b[39m\u001b[38;5;124malert\u001b[39m\u001b[38;5;124m'\u001b[39m]\u001b[38;5;241m.\u001b[39mget(\u001b[38;5;124m'\u001b[39m\u001b[38;5;124mtext\u001b[39m\u001b[38;5;124m'\u001b[39m)\n\u001b[0;32m    246\u001b[0m     \u001b[38;5;28;01mraise\u001b[39;00m exception_class(message, screen, stacktrace, alert_text)  \u001b[38;5;66;03m# type: ignore[call-arg]  # mypy is not smart enough here\u001b[39;00m\n\u001b[1;32m--> 247\u001b[0m \u001b[38;5;28;01mraise\u001b[39;00m exception_class(message, screen, stacktrace)\n",
      "\u001b[1;31mNoSuchElementException\u001b[0m: Message: no such element: Unable to locate element: {\"method\":\"css selector\",\"selector\":\"[id=\"select_ambito\"]\"}\n  (Session info: chrome=101.0.4951.67)\nStacktrace:\nBacktrace:\n\tOrdinal0 [0x006AB8F3+2406643]\n\tOrdinal0 [0x0063AF31+1945393]\n\tOrdinal0 [0x0052C748+837448]\n\tOrdinal0 [0x005592E0+1020640]\n\tOrdinal0 [0x0055957B+1021307]\n\tOrdinal0 [0x00586372+1205106]\n\tOrdinal0 [0x005742C4+1131204]\n\tOrdinal0 [0x00584682+1197698]\n\tOrdinal0 [0x00574096+1130646]\n\tOrdinal0 [0x0054E636+976438]\n\tOrdinal0 [0x0054F546+980294]\n\tGetHandleVerifier [0x00919612+2498066]\n\tGetHandleVerifier [0x0090C920+2445600]\n\tGetHandleVerifier [0x00744F2A+579370]\n\tGetHandleVerifier [0x00743D36+574774]\n\tOrdinal0 [0x00641C0B+1973259]\n\tOrdinal0 [0x00646688+1992328]\n\tOrdinal0 [0x00646775+1992565]\n\tOrdinal0 [0x0064F8D1+2029777]\n\tBaseThreadInitThunk [0x75276739+25]\n\tRtlGetFullPathName_UEx [0x773C8FEF+1215]\n\tRtlGetFullPathName_UEx [0x773C8FBD+1165]\n"
     ]
    }
   ],
   "source": [
    "searchBox = driver.find_element_by_id('select_ambito')\n",
    "# searchBox = driver.find_element_by_xpath('//*[@id=\"select_ambito\"]')\n",
    "# searchBox = driver.find_element_by_css_selector('#select_ambito')"
   ]
  },
  {
   "cell_type": "markdown",
   "metadata": {},
   "source": [
    "![Web Element](Images/Web_Elementpng.png)"
   ]
  },
  {
   "cell_type": "code",
   "execution_count": 92,
   "metadata": {},
   "outputs": [
    {
     "ename": "NameError",
     "evalue": "name 'searchBox' is not defined",
     "output_type": "error",
     "traceback": [
      "\u001b[1;31m---------------------------------------------------------------------------\u001b[0m",
      "\u001b[1;31mNameError\u001b[0m                                 Traceback (most recent call last)",
      "Input \u001b[1;32mIn [92]\u001b[0m, in \u001b[0;36m<cell line: 1>\u001b[1;34m()\u001b[0m\n\u001b[1;32m----> 1\u001b[0m \u001b[43msearchBox\u001b[49m\u001b[38;5;241m.\u001b[39mget_attribute(\u001b[38;5;124m'\u001b[39m\u001b[38;5;124mvalue\u001b[39m\u001b[38;5;124m'\u001b[39m)\n",
      "\u001b[1;31mNameError\u001b[0m: name 'searchBox' is not defined"
     ]
    }
   ],
   "source": [
    "searchBox.get_attribute('value')"
   ]
  },
  {
   "cell_type": "code",
   "execution_count": 94,
   "metadata": {},
   "outputs": [
    {
     "name": "stdout",
     "output_type": "stream",
     "text": [
      "\n"
     ]
    },
    {
     "name": "stderr",
     "output_type": "stream",
     "text": [
      "[WDM] - ====== WebDriver manager ======\n",
      "[WDM] - Current google-chrome version is 101.0.4951\n",
      "[WDM] - Get LATEST chromedriver version for 101.0.4951 google-chrome\n",
      "[WDM] - Driver [C:\\Users\\Roberto\\.wdm\\drivers\\chromedriver\\win32\\101.0.4951.41\\chromedriver.exe] found in cache\n",
      "C:\\Users\\Roberto\\AppData\\Local\\Temp\\ipykernel_12640\\3215541926.py:1: DeprecationWarning: executable_path has been deprecated, please pass in a Service object\n",
      "  driver = webdriver.Chrome( ChromeDriverManager().install() )\n"
     ]
    }
   ],
   "source": [
    "driver = webdriver.Chrome( ChromeDriverManager().install() )\n",
    "\n",
    "url = 'https://resultadoshistorico.onpe.gob.pe/EG2021/ResumenGeneral/10/T'\n",
    "driver.get( url )\n",
    "\n",
    "driver.maximize_window()"
   ]
  },
  {
   "cell_type": "code",
   "execution_count": 95,
   "metadata": {},
   "outputs": [
    {
     "name": "stderr",
     "output_type": "stream",
     "text": [
      "C:\\Users\\Roberto\\AppData\\Local\\Temp\\ipykernel_12640\\1563849843.py:1: DeprecationWarning: find_element_by_xpath is deprecated. Please use find_element(by=By.XPATH, value=xpath) instead\n",
      "  searchBox = driver.find_element_by_xpath('/html/body/onpe-root/onpe-layout-container/onpe-onpe-rgen-rsgr/div/div[2]/div[1]/div[1]/div/div/div[1]/select/option[2]')\n"
     ]
    },
    {
     "ename": "NoSuchElementException",
     "evalue": "Message: no such element: Unable to locate element: {\"method\":\"xpath\",\"selector\":\"/html/body/onpe-root/onpe-layout-container/onpe-onpe-rgen-rsgr/div/div[2]/div[1]/div[1]/div/div/div[1]/select/option[2]\"}\n  (Session info: chrome=101.0.4951.67)\nStacktrace:\nBacktrace:\n\tOrdinal0 [0x006AB8F3+2406643]\n\tOrdinal0 [0x0063AF31+1945393]\n\tOrdinal0 [0x0052C748+837448]\n\tOrdinal0 [0x005592E0+1020640]\n\tOrdinal0 [0x0055957B+1021307]\n\tOrdinal0 [0x00586372+1205106]\n\tOrdinal0 [0x005742C4+1131204]\n\tOrdinal0 [0x00584682+1197698]\n\tOrdinal0 [0x00574096+1130646]\n\tOrdinal0 [0x0054E636+976438]\n\tOrdinal0 [0x0054F546+980294]\n\tGetHandleVerifier [0x00919612+2498066]\n\tGetHandleVerifier [0x0090C920+2445600]\n\tGetHandleVerifier [0x00744F2A+579370]\n\tGetHandleVerifier [0x00743D36+574774]\n\tOrdinal0 [0x00641C0B+1973259]\n\tOrdinal0 [0x00646688+1992328]\n\tOrdinal0 [0x00646775+1992565]\n\tOrdinal0 [0x0064F8D1+2029777]\n\tBaseThreadInitThunk [0x75276739+25]\n\tRtlGetFullPathName_UEx [0x773C8FEF+1215]\n\tRtlGetFullPathName_UEx [0x773C8FBD+1165]\n",
     "output_type": "error",
     "traceback": [
      "\u001b[1;31m---------------------------------------------------------------------------\u001b[0m",
      "\u001b[1;31mNoSuchElementException\u001b[0m                    Traceback (most recent call last)",
      "Input \u001b[1;32mIn [95]\u001b[0m, in \u001b[0;36m<cell line: 1>\u001b[1;34m()\u001b[0m\n\u001b[1;32m----> 1\u001b[0m searchBox \u001b[38;5;241m=\u001b[39m \u001b[43mdriver\u001b[49m\u001b[38;5;241;43m.\u001b[39;49m\u001b[43mfind_element_by_xpath\u001b[49m\u001b[43m(\u001b[49m\u001b[38;5;124;43m'\u001b[39;49m\u001b[38;5;124;43m/html/body/onpe-root/onpe-layout-container/onpe-onpe-rgen-rsgr/div/div[2]/div[1]/div[1]/div/div/div[1]/select/option[2]\u001b[39;49m\u001b[38;5;124;43m'\u001b[39;49m\u001b[43m)\u001b[49m\n\u001b[0;32m      2\u001b[0m searchBox\u001b[38;5;241m.\u001b[39mclick()\n",
      "File \u001b[1;32m~\\anaconda3\\lib\\site-packages\\selenium\\webdriver\\remote\\webdriver.py:526\u001b[0m, in \u001b[0;36mWebDriver.find_element_by_xpath\u001b[1;34m(self, xpath)\u001b[0m\n\u001b[0;32m    504\u001b[0m \u001b[38;5;124;03m\"\"\"\u001b[39;00m\n\u001b[0;32m    505\u001b[0m \u001b[38;5;124;03mFinds an element by xpath.\u001b[39;00m\n\u001b[0;32m    506\u001b[0m \n\u001b[1;32m   (...)\u001b[0m\n\u001b[0;32m    519\u001b[0m \u001b[38;5;124;03m        element = driver.find_element_by_xpath('//div/td[1]')\u001b[39;00m\n\u001b[0;32m    520\u001b[0m \u001b[38;5;124;03m\"\"\"\u001b[39;00m\n\u001b[0;32m    521\u001b[0m warnings\u001b[38;5;241m.\u001b[39mwarn(\n\u001b[0;32m    522\u001b[0m     \u001b[38;5;124m\"\u001b[39m\u001b[38;5;124mfind_element_by_xpath is deprecated. Please use find_element(by=By.XPATH, value=xpath) instead\u001b[39m\u001b[38;5;124m\"\u001b[39m,\n\u001b[0;32m    523\u001b[0m     \u001b[38;5;167;01mDeprecationWarning\u001b[39;00m,\n\u001b[0;32m    524\u001b[0m     stacklevel\u001b[38;5;241m=\u001b[39m\u001b[38;5;241m2\u001b[39m,\n\u001b[0;32m    525\u001b[0m )\n\u001b[1;32m--> 526\u001b[0m \u001b[38;5;28;01mreturn\u001b[39;00m \u001b[38;5;28;43mself\u001b[39;49m\u001b[38;5;241;43m.\u001b[39;49m\u001b[43mfind_element\u001b[49m\u001b[43m(\u001b[49m\u001b[43mby\u001b[49m\u001b[38;5;241;43m=\u001b[39;49m\u001b[43mBy\u001b[49m\u001b[38;5;241;43m.\u001b[39;49m\u001b[43mXPATH\u001b[49m\u001b[43m,\u001b[49m\u001b[43m \u001b[49m\u001b[43mvalue\u001b[49m\u001b[38;5;241;43m=\u001b[39;49m\u001b[43mxpath\u001b[49m\u001b[43m)\u001b[49m\n",
      "File \u001b[1;32m~\\anaconda3\\lib\\site-packages\\selenium\\webdriver\\remote\\webdriver.py:1251\u001b[0m, in \u001b[0;36mWebDriver.find_element\u001b[1;34m(self, by, value)\u001b[0m\n\u001b[0;32m   1248\u001b[0m     by \u001b[38;5;241m=\u001b[39m By\u001b[38;5;241m.\u001b[39mCSS_SELECTOR\n\u001b[0;32m   1249\u001b[0m     value \u001b[38;5;241m=\u001b[39m \u001b[38;5;124m'\u001b[39m\u001b[38;5;124m[name=\u001b[39m\u001b[38;5;124m\"\u001b[39m\u001b[38;5;132;01m%s\u001b[39;00m\u001b[38;5;124m\"\u001b[39m\u001b[38;5;124m]\u001b[39m\u001b[38;5;124m'\u001b[39m \u001b[38;5;241m%\u001b[39m value\n\u001b[1;32m-> 1251\u001b[0m \u001b[38;5;28;01mreturn\u001b[39;00m \u001b[38;5;28;43mself\u001b[39;49m\u001b[38;5;241;43m.\u001b[39;49m\u001b[43mexecute\u001b[49m\u001b[43m(\u001b[49m\u001b[43mCommand\u001b[49m\u001b[38;5;241;43m.\u001b[39;49m\u001b[43mFIND_ELEMENT\u001b[49m\u001b[43m,\u001b[49m\u001b[43m \u001b[49m\u001b[43m{\u001b[49m\n\u001b[0;32m   1252\u001b[0m \u001b[43m    \u001b[49m\u001b[38;5;124;43m'\u001b[39;49m\u001b[38;5;124;43musing\u001b[39;49m\u001b[38;5;124;43m'\u001b[39;49m\u001b[43m:\u001b[49m\u001b[43m \u001b[49m\u001b[43mby\u001b[49m\u001b[43m,\u001b[49m\n\u001b[0;32m   1253\u001b[0m \u001b[43m    \u001b[49m\u001b[38;5;124;43m'\u001b[39;49m\u001b[38;5;124;43mvalue\u001b[39;49m\u001b[38;5;124;43m'\u001b[39;49m\u001b[43m:\u001b[49m\u001b[43m \u001b[49m\u001b[43mvalue\u001b[49m\u001b[43m}\u001b[49m\u001b[43m)\u001b[49m[\u001b[38;5;124m'\u001b[39m\u001b[38;5;124mvalue\u001b[39m\u001b[38;5;124m'\u001b[39m]\n",
      "File \u001b[1;32m~\\anaconda3\\lib\\site-packages\\selenium\\webdriver\\remote\\webdriver.py:430\u001b[0m, in \u001b[0;36mWebDriver.execute\u001b[1;34m(self, driver_command, params)\u001b[0m\n\u001b[0;32m    428\u001b[0m response \u001b[38;5;241m=\u001b[39m \u001b[38;5;28mself\u001b[39m\u001b[38;5;241m.\u001b[39mcommand_executor\u001b[38;5;241m.\u001b[39mexecute(driver_command, params)\n\u001b[0;32m    429\u001b[0m \u001b[38;5;28;01mif\u001b[39;00m response:\n\u001b[1;32m--> 430\u001b[0m     \u001b[38;5;28;43mself\u001b[39;49m\u001b[38;5;241;43m.\u001b[39;49m\u001b[43merror_handler\u001b[49m\u001b[38;5;241;43m.\u001b[39;49m\u001b[43mcheck_response\u001b[49m\u001b[43m(\u001b[49m\u001b[43mresponse\u001b[49m\u001b[43m)\u001b[49m\n\u001b[0;32m    431\u001b[0m     response[\u001b[38;5;124m'\u001b[39m\u001b[38;5;124mvalue\u001b[39m\u001b[38;5;124m'\u001b[39m] \u001b[38;5;241m=\u001b[39m \u001b[38;5;28mself\u001b[39m\u001b[38;5;241m.\u001b[39m_unwrap_value(\n\u001b[0;32m    432\u001b[0m         response\u001b[38;5;241m.\u001b[39mget(\u001b[38;5;124m'\u001b[39m\u001b[38;5;124mvalue\u001b[39m\u001b[38;5;124m'\u001b[39m, \u001b[38;5;28;01mNone\u001b[39;00m))\n\u001b[0;32m    433\u001b[0m     \u001b[38;5;28;01mreturn\u001b[39;00m response\n",
      "File \u001b[1;32m~\\anaconda3\\lib\\site-packages\\selenium\\webdriver\\remote\\errorhandler.py:247\u001b[0m, in \u001b[0;36mErrorHandler.check_response\u001b[1;34m(self, response)\u001b[0m\n\u001b[0;32m    245\u001b[0m         alert_text \u001b[38;5;241m=\u001b[39m value[\u001b[38;5;124m'\u001b[39m\u001b[38;5;124malert\u001b[39m\u001b[38;5;124m'\u001b[39m]\u001b[38;5;241m.\u001b[39mget(\u001b[38;5;124m'\u001b[39m\u001b[38;5;124mtext\u001b[39m\u001b[38;5;124m'\u001b[39m)\n\u001b[0;32m    246\u001b[0m     \u001b[38;5;28;01mraise\u001b[39;00m exception_class(message, screen, stacktrace, alert_text)  \u001b[38;5;66;03m# type: ignore[call-arg]  # mypy is not smart enough here\u001b[39;00m\n\u001b[1;32m--> 247\u001b[0m \u001b[38;5;28;01mraise\u001b[39;00m exception_class(message, screen, stacktrace)\n",
      "\u001b[1;31mNoSuchElementException\u001b[0m: Message: no such element: Unable to locate element: {\"method\":\"xpath\",\"selector\":\"/html/body/onpe-root/onpe-layout-container/onpe-onpe-rgen-rsgr/div/div[2]/div[1]/div[1]/div/div/div[1]/select/option[2]\"}\n  (Session info: chrome=101.0.4951.67)\nStacktrace:\nBacktrace:\n\tOrdinal0 [0x006AB8F3+2406643]\n\tOrdinal0 [0x0063AF31+1945393]\n\tOrdinal0 [0x0052C748+837448]\n\tOrdinal0 [0x005592E0+1020640]\n\tOrdinal0 [0x0055957B+1021307]\n\tOrdinal0 [0x00586372+1205106]\n\tOrdinal0 [0x005742C4+1131204]\n\tOrdinal0 [0x00584682+1197698]\n\tOrdinal0 [0x00574096+1130646]\n\tOrdinal0 [0x0054E636+976438]\n\tOrdinal0 [0x0054F546+980294]\n\tGetHandleVerifier [0x00919612+2498066]\n\tGetHandleVerifier [0x0090C920+2445600]\n\tGetHandleVerifier [0x00744F2A+579370]\n\tGetHandleVerifier [0x00743D36+574774]\n\tOrdinal0 [0x00641C0B+1973259]\n\tOrdinal0 [0x00646688+1992328]\n\tOrdinal0 [0x00646775+1992565]\n\tOrdinal0 [0x0064F8D1+2029777]\n\tBaseThreadInitThunk [0x75276739+25]\n\tRtlGetFullPathName_UEx [0x773C8FEF+1215]\n\tRtlGetFullPathName_UEx [0x773C8FBD+1165]\n"
     ]
    }
   ],
   "source": [
    "searchBox = driver.find_element_by_xpath('/html/body/onpe-root/onpe-layout-container/onpe-onpe-rgen-rsgr/div/div[2]/div[1]/div[1]/div/div/div[1]/select/option[2]')\n",
    "searchBox.click()"
   ]
  },
  {
   "cell_type": "code",
   "execution_count": 300,
   "metadata": {},
   "outputs": [
    {
     "data": {
      "text/plain": [
       "'PERÚ'"
      ]
     },
     "execution_count": 300,
     "metadata": {},
     "output_type": "execute_result"
    }
   ],
   "source": [
    "searchBox = driver.find_element_by_xpath('/html/body/onpe-root/onpe-layout-container/onpe-onpe-rgen-rsgr/div/div[2]/div[1]/div[1]/div/div/div[1]/select/option[2]')\n",
    "searchBox.text"
   ]
  },
  {
   "cell_type": "code",
   "execution_count": 301,
   "metadata": {},
   "outputs": [
    {
     "data": {
      "text/plain": [
       "<selenium.webdriver.remote.webelement.WebElement (session=\"08e8313e09cdb84a58c160ed0f85ea10\", element=\"23071621-48a4-4b72-9148-4d7d36988a33\")>"
      ]
     },
     "execution_count": 301,
     "metadata": {},
     "output_type": "execute_result"
    }
   ],
   "source": [
    "searchBox = driver.find_element_by_id('select_ambito')\n",
    "searchBox"
   ]
  },
  {
   "cell_type": "markdown",
   "metadata": {},
   "source": [
    "**Suggestion** <br>\n",
    "We do not recomend to use `tag` at first time since most web pages use nested tags and it is difficult to define a element using HTML tag. However, it is great to find elements that is inside another located element in the web. Let's see the example."
   ]
  },
  {
   "cell_type": "markdown",
   "metadata": {},
   "source": [
    "# EXAMPLE USING ONPE WEBPAGE"
   ]
  },
  {
   "cell_type": "markdown",
   "metadata": {},
   "source": [
    "## [First Round](https://resultadoshistorico.onpe.gob.pe/EG2021/ResumenGeneral/10/T)"
   ]
  },
  {
   "cell_type": "code",
   "execution_count": 11,
   "metadata": {},
   "outputs": [],
   "source": [
    "# pip install lxml\n",
    "# pip install lxmunidecodel"
   ]
  },
  {
   "cell_type": "code",
   "execution_count": 94,
   "metadata": {},
   "outputs": [],
   "source": [
    "from selenium import webdriver\n",
    "from selenium.webdriver.common.keys import Keys\n",
    "from selenium.common.exceptions import NoSuchElementException\n",
    "from selenium.webdriver import ActionChains\n",
    "import pandas as pd\n",
    "import numpy as np\n",
    "import os\n",
    "import time\n",
    "import re\n",
    "import unidecode\n",
    "import time \n",
    "from selenium.webdriver.support.ui import Select\n",
    "from webdriver_manager.chrome import ChromeDriverManager"
   ]
  },
  {
   "cell_type": "markdown",
   "metadata": {},
   "source": [
    "# Driver Path Address"
   ]
  },
  {
   "cell_type": "code",
   "execution_count": 302,
   "metadata": {},
   "outputs": [
    {
     "name": "stderr",
     "output_type": "stream",
     "text": [
      "\n",
      "\n",
      "====== WebDriver manager ======\n",
      "Current google-chrome version is 96.0.4664\n",
      "Get LATEST driver version for 96.0.4664\n",
      "Driver [C:\\Users\\MSI-NB\\.wdm\\drivers\\chromedriver\\win32\\96.0.4664.45\\chromedriver.exe] found in cache\n"
     ]
    }
   ],
   "source": [
    "driver = webdriver.Chrome( ChromeDriverManager().install() )\n",
    "# Maximize window\n",
    "driver.maximize_window()"
   ]
  },
  {
   "cell_type": "markdown",
   "metadata": {},
   "source": [
    "# Extracting all tables"
   ]
  },
  {
   "cell_type": "code",
   "execution_count": 328,
   "metadata": {},
   "outputs": [
    {
     "name": "stderr",
     "output_type": "stream",
     "text": [
      "\n",
      "\n",
      "====== WebDriver manager ======\n",
      "Current google-chrome version is 96.0.4664\n",
      "Get LATEST driver version for 96.0.4664\n",
      "Driver [C:\\Users\\MSI-NB\\.wdm\\drivers\\chromedriver\\win32\\96.0.4664.45\\chromedriver.exe] found in cache\n"
     ]
    }
   ],
   "source": [
    "driver = webdriver.Chrome( ChromeDriverManager().install() )\n",
    "# Maximize window\n",
    "driver.maximize_window()\n",
    "\n",
    "# go to the link\n",
    "driver.get( 'https://resultadoshistorico.onpe.gob.pe/EG2021/ResumenGeneral/10/T' )\n",
    "presidential = driver.find_element_by_xpath('/html/body/onpe-root/onpe-layout-container/onpe-menu/div/nav/div/div/div[2]/div/div[2]/a/span')\n",
    "presidential.click()"
   ]
  },
  {
   "cell_type": "markdown",
   "metadata": {},
   "source": [
    "## Pesidential results"
   ]
  },
  {
   "cell_type": "code",
   "execution_count": 329,
   "metadata": {},
   "outputs": [],
   "source": [
    "# presidential = driver.find_element_by_xpath('/html/body/onpe-root/onpe-layout-container/onpe-menu/div/nav/div/div/div[2]/div/div[2]/a/span')\n",
    "# presidential.click"
   ]
  },
  {
   "cell_type": "code",
   "execution_count": 330,
   "metadata": {},
   "outputs": [],
   "source": [
    "# # presidential section\n",
    "# presidential = driver.find_element_by_xpath( \"/html/body/onpe-root/onpe-layout-container/onpe-menu/div/nav/div/div/div[2]/div/div[2]/a\" )\n",
    "# presidential.click()"
   ]
  },
  {
   "cell_type": "markdown",
   "metadata": {},
   "source": [
    "### Get all elements from all options"
   ]
  },
  {
   "cell_type": "code",
   "execution_count": 210,
   "metadata": {},
   "outputs": [],
   "source": [
    "# scope = driver.find_element_by_xpath( \"/html/body/onpe-root/onpe-layout-container/onpe-onpe-epres-re/div[1]/div[3]/div[1]/div[1]/div/div/div/select\" )\n",
    "# scope.click()"
   ]
  },
  {
   "cell_type": "code",
   "execution_count": 312,
   "metadata": {},
   "outputs": [
    {
     "data": {
      "text/plain": [
       "'EXTRANJERO'"
      ]
     },
     "execution_count": 312,
     "metadata": {},
     "output_type": "execute_result"
    }
   ],
   "source": [
    "scope_options = driver.find_element_by_xpath('/html/body/onpe-root/onpe-layout-container/onpe-onpe-epres-re/div[1]/div[3]/div[1]/div[1]/div/div/div/select')\n",
    "scope_options.find_elements_by_tag_name(\"option\")[2].text"
   ]
  },
  {
   "cell_type": "code",
   "execution_count": null,
   "metadata": {},
   "outputs": [],
   "source": [
    "scope_options = driver.find_element_by_xpath('/html/body/onpe-root/onpe-layout-container/onpe-onpe-epres-re/div[1]/div[3]/div[1]/div[1]/div/div/div')"
   ]
  },
  {
   "cell_type": "code",
   "execution_count": 313,
   "metadata": {},
   "outputs": [
    {
     "data": {
      "text/plain": [
       "'EXTRANJERO'"
      ]
     },
     "execution_count": 313,
     "metadata": {},
     "output_type": "execute_result"
    }
   ],
   "source": [
    "scope_options.find_elements_by_tag_name(\"option\")[0].text\n",
    "scope_options.find_elements_by_tag_name(\"option\")[1].text\n",
    "scope_options.find_elements_by_tag_name(\"option\")[2].text"
   ]
  },
  {
   "cell_type": "code",
   "execution_count": 332,
   "metadata": {},
   "outputs": [
    {
     "data": {
      "text/plain": [
       "<selenium.webdriver.remote.webelement.WebElement (session=\"0b1571ae7fc3933ef3b474fc23ef5109\", element=\"6a4a8af5-141e-4c51-b13a-daa46c99c3fc\")>"
      ]
     },
     "execution_count": 332,
     "metadata": {},
     "output_type": "execute_result"
    }
   ],
   "source": [
    "scope = driver.find_element_by_xpath( \"/html/body/onpe-root/onpe-layout-container/onpe-onpe-epres-re/div[1]/div[3]/div[1]/div[1]/div/div/div[1]/select\" )\n",
    "scope"
   ]
  },
  {
   "cell_type": "code",
   "execution_count": 335,
   "metadata": {},
   "outputs": [],
   "source": [
    "scope_options = scope.find_elements_by_tag_name(\"option\")"
   ]
  },
  {
   "cell_type": "code",
   "execution_count": 336,
   "metadata": {},
   "outputs": [
    {
     "data": {
      "text/plain": [
       "[<selenium.webdriver.remote.webelement.WebElement (session=\"0b1571ae7fc3933ef3b474fc23ef5109\", element=\"80298da3-cb22-41ce-9e3a-38d6ad99eb24\")>,\n",
       " <selenium.webdriver.remote.webelement.WebElement (session=\"0b1571ae7fc3933ef3b474fc23ef5109\", element=\"d28ac835-9d72-4738-b5a6-90564174ed98\")>,\n",
       " <selenium.webdriver.remote.webelement.WebElement (session=\"0b1571ae7fc3933ef3b474fc23ef5109\", element=\"1e00eecc-ecb4-4ea2-bbd9-11af08e629c1\")>]"
      ]
     },
     "execution_count": 336,
     "metadata": {},
     "output_type": "execute_result"
    }
   ],
   "source": [
    "scope_options"
   ]
  },
  {
   "cell_type": "code",
   "execution_count": 339,
   "metadata": {},
   "outputs": [
    {
     "data": {
      "text/plain": [
       "{'TODOS': <selenium.webdriver.remote.webelement.WebElement (session=\"0b1571ae7fc3933ef3b474fc23ef5109\", element=\"80298da3-cb22-41ce-9e3a-38d6ad99eb24\")>,\n",
       " 'PERÚ': <selenium.webdriver.remote.webelement.WebElement (session=\"0b1571ae7fc3933ef3b474fc23ef5109\", element=\"d28ac835-9d72-4738-b5a6-90564174ed98\")>,\n",
       " 'EXTRANJERO': <selenium.webdriver.remote.webelement.WebElement (session=\"0b1571ae7fc3933ef3b474fc23ef5109\", element=\"1e00eecc-ecb4-4ea2-bbd9-11af08e629c1\")>}"
      ]
     },
     "execution_count": 339,
     "metadata": {},
     "output_type": "execute_result"
    }
   ],
   "source": [
    "dict_scope_options = { i.text : i for i in scope_options }\n",
    "dict_scope_options"
   ]
  },
  {
   "cell_type": "code",
   "execution_count": 340,
   "metadata": {},
   "outputs": [
    {
     "data": {
      "text/plain": [
       "{'TODOS': <selenium.webdriver.remote.webelement.WebElement (session=\"0b1571ae7fc3933ef3b474fc23ef5109\", element=\"80298da3-cb22-41ce-9e3a-38d6ad99eb24\")>,\n",
       " 'PERÚ': <selenium.webdriver.remote.webelement.WebElement (session=\"0b1571ae7fc3933ef3b474fc23ef5109\", element=\"d28ac835-9d72-4738-b5a6-90564174ed98\")>,\n",
       " 'EXTRANJERO': <selenium.webdriver.remote.webelement.WebElement (session=\"0b1571ae7fc3933ef3b474fc23ef5109\", element=\"1e00eecc-ecb4-4ea2-bbd9-11af08e629c1\")>}"
      ]
     },
     "execution_count": 340,
     "metadata": {},
     "output_type": "execute_result"
    }
   ],
   "source": [
    "# There are three options\n",
    "dict_scope_options.keys()\n",
    "dict_scope_options"
   ]
  },
  {
   "cell_type": "code",
   "execution_count": 341,
   "metadata": {},
   "outputs": [],
   "source": [
    "# We click on Peru\n",
    "dict_scope_options['PERÚ'].click()"
   ]
  },
  {
   "cell_type": "markdown",
   "metadata": {},
   "source": [
    "We have to be careful since everytime we make a click, the url changes."
   ]
  },
  {
   "cell_type": "markdown",
   "metadata": {},
   "source": [
    "### Loop over all departments"
   ]
  },
  {
   "cell_type": "code",
   "execution_count": 342,
   "metadata": {},
   "outputs": [
    {
     "data": {
      "text/plain": [
       "<selenium.webdriver.remote.webelement.WebElement (session=\"0b1571ae7fc3933ef3b474fc23ef5109\", element=\"9d391f97-a22a-4d84-ab1d-eaab169908f7\")>"
      ]
     },
     "execution_count": 342,
     "metadata": {},
     "output_type": "execute_result"
    }
   ],
   "source": [
    "# Store all_tables\n",
    "all_tables = {}\n",
    "\n",
    "dept_0 = driver.find_element_by_xpath( \"/html/body/onpe-root/onpe-layout-container/onpe-onpe-epres-re/div[1]/div[3]/div[1]/div[1]/div/div/div[2]/select\" )\n",
    "dept_0\n"
   ]
  },
  {
   "cell_type": "code",
   "execution_count": 351,
   "metadata": {},
   "outputs": [],
   "source": [
    "# All selenium objects in department select\n",
    "dpt = Select( dept_0 )\n",
    "#dpt.options[15].text"
   ]
  },
  {
   "cell_type": "code",
   "execution_count": 352,
   "metadata": {},
   "outputs": [
    {
     "data": {
      "text/plain": [
       "26"
      ]
     },
     "execution_count": 352,
     "metadata": {},
     "output_type": "execute_result"
    }
   ],
   "source": [
    "# Get number of total options\n",
    "num_prov_options = len( dpt.options )\n",
    "num_prov_options"
   ]
  },
  {
   "cell_type": "code",
   "execution_count": 353,
   "metadata": {},
   "outputs": [
    {
     "name": "stdout",
     "output_type": "stream",
     "text": [
      "--TODOS--\n",
      "AMAZONAS\n",
      "ANCASH\n",
      "APURIMAC\n",
      "AREQUIPA\n",
      "AYACUCHO\n",
      "CAJAMARCA\n",
      "CALLAO\n",
      "CUSCO\n",
      "HUANCAVELICA\n",
      "HUANUCO\n",
      "ICA\n",
      "JUNIN\n",
      "LA LIBERTAD\n",
      "LAMBAYEQUE\n",
      "LIMA\n",
      "LORETO\n",
      "MADRE DE DIOS\n",
      "MOQUEGUA\n",
      "PASCO\n",
      "PIURA\n",
      "PUNO\n",
      "SAN MARTIN\n",
      "TACNA\n",
      "TUMBES\n",
      "UCAYALI\n"
     ]
    }
   ],
   "source": [
    "# we can loop over all departments\n",
    "# for dpt_idx in range( num_prov_options ):\n",
    "# but it will take too much time\n",
    "# We are going to do it over two departments\n",
    "for dpt_idx in range( num_prov_options ):\n",
    "    \n",
    "    # Get again all departments since HTML is refreshing\n",
    "    # all elements\n",
    "    # Click on one specific department\n",
    "    dpt = Select( driver.find_element_by_xpath( \"/html/body/onpe-root/onpe-layout-container/onpe-onpe-epres-re/div[1]/div[3]/div[1]/div[1]/div/div/div[2]/select\" ) )\n",
    "    department = dpt.options[ dpt_idx ]\n",
    "    \n",
    "    # Get departmant name\n",
    "    dpt_name = department.text\n",
    "    print(dpt_name)"
   ]
  },
  {
   "cell_type": "markdown",
   "metadata": {},
   "source": [
    "# Dynamic Pages"
   ]
  },
  {
   "cell_type": "code",
   "execution_count": 98,
   "metadata": {},
   "outputs": [
    {
     "name": "stdout",
     "output_type": "stream",
     "text": [
      "\n"
     ]
    },
    {
     "name": "stderr",
     "output_type": "stream",
     "text": [
      "[WDM] - ====== WebDriver manager ======\n",
      "[WDM] - Current google-chrome version is 101.0.4951\n",
      "[WDM] - Get LATEST chromedriver version for 101.0.4951 google-chrome\n",
      "[WDM] - Driver [C:\\Users\\Roberto\\.wdm\\drivers\\chromedriver\\win32\\101.0.4951.41\\chromedriver.exe] found in cache\n",
      "C:\\Users\\Roberto\\AppData\\Local\\Temp\\ipykernel_12640\\4253002253.py:1: DeprecationWarning: executable_path has been deprecated, please pass in a Service object\n",
      "  driver = webdriver.Chrome( ChromeDriverManager().install() )\n"
     ]
    }
   ],
   "source": [
    "driver = webdriver.Chrome( ChromeDriverManager().install() )\n",
    "# Maximize window\n",
    "driver.maximize_window()\n",
    "driver.get('http://www.legacy.com/obituaries/legacy/obituary-search.aspx?daterange=30&countryid=0&stateid=all&affiliateid=all')"
   ]
  },
  {
   "cell_type": "code",
   "execution_count": 99,
   "metadata": {},
   "outputs": [
    {
     "name": "stderr",
     "output_type": "stream",
     "text": [
      "C:\\Users\\Roberto\\AppData\\Local\\Temp\\ipykernel_12640\\3470009694.py:1: DeprecationWarning: find_element_by_xpath is deprecated. Please use find_element(by=By.XPATH, value=xpath) instead\n",
      "  driver.find_element_by_xpath('//*[@id=\"ctl00_ctl00_ContentPlaceHolder1_ContentPlaceHolder1_uxSearchWideControl_ddlSearchRange\"]/option[10]').click()\n"
     ]
    }
   ],
   "source": [
    "driver.find_element_by_xpath('//*[@id=\"ctl00_ctl00_ContentPlaceHolder1_ContentPlaceHolder1_uxSearchWideControl_ddlSearchRange\"]/option[10]').click()"
   ]
  },
  {
   "cell_type": "code",
   "execution_count": 100,
   "metadata": {},
   "outputs": [
    {
     "name": "stderr",
     "output_type": "stream",
     "text": [
      "C:\\Users\\Roberto\\AppData\\Local\\Temp\\ipykernel_12640\\3630209322.py:1: DeprecationWarning: find_element_by_xpath is deprecated. Please use find_element(by=By.XPATH, value=xpath) instead\n",
      "  death_begin = driver.find_element_by_xpath('//*[@id=\"ctl00_ctl00_ContentPlaceHolder1_ContentPlaceHolder1_uxSearchWideControl_txtStartDate\"]')\n"
     ]
    }
   ],
   "source": [
    "death_begin = driver.find_element_by_xpath('//*[@id=\"ctl00_ctl00_ContentPlaceHolder1_ContentPlaceHolder1_uxSearchWideControl_txtStartDate\"]')\n",
    "death_begin.send_keys('10/10/1994')"
   ]
  },
  {
   "cell_type": "code",
   "execution_count": 101,
   "metadata": {},
   "outputs": [
    {
     "name": "stderr",
     "output_type": "stream",
     "text": [
      "C:\\Users\\Roberto\\AppData\\Local\\Temp\\ipykernel_12640\\2676302039.py:1: DeprecationWarning: find_element_by_xpath is deprecated. Please use find_element(by=By.XPATH, value=xpath) instead\n",
      "  death_end = driver.find_element_by_xpath('//*[@id=\"ctl00_ctl00_ContentPlaceHolder1_ContentPlaceHolder1_uxSearchWideControl_txtEndDate\"]')\n"
     ]
    }
   ],
   "source": [
    "death_end = driver.find_element_by_xpath('//*[@id=\"ctl00_ctl00_ContentPlaceHolder1_ContentPlaceHolder1_uxSearchWideControl_txtEndDate\"]')    \n",
    "death_end.send_keys('10/10/2005')"
   ]
  },
  {
   "cell_type": "code",
   "execution_count": 102,
   "metadata": {
    "scrolled": true
   },
   "outputs": [
    {
     "name": "stderr",
     "output_type": "stream",
     "text": [
      "C:\\Users\\Roberto\\AppData\\Local\\Temp\\ipykernel_12640\\1907725141.py:1: DeprecationWarning: find_element_by_xpath is deprecated. Please use find_element(by=By.XPATH, value=xpath) instead\n",
      "  keyword = driver.find_element_by_xpath('//*[@id=\"ctl00_ctl00_ContentPlaceHolder1_ContentPlaceHolder1_uxSearchWideControl_txtFirstName\"]')\n"
     ]
    }
   ],
   "source": [
    "keyword = driver.find_element_by_xpath('//*[@id=\"ctl00_ctl00_ContentPlaceHolder1_ContentPlaceHolder1_uxSearchWideControl_txtFirstName\"]')\n",
    "keyword.send_keys('robert')"
   ]
  },
  {
   "cell_type": "code",
   "execution_count": 103,
   "metadata": {},
   "outputs": [
    {
     "name": "stderr",
     "output_type": "stream",
     "text": [
      "C:\\Users\\Roberto\\AppData\\Local\\Temp\\ipykernel_12640\\484149305.py:1: DeprecationWarning: find_element_by_xpath is deprecated. Please use find_element(by=By.XPATH, value=xpath) instead\n",
      "  keyword = driver.find_element_by_xpath('//*[@id=\"ctl00_ctl00_ContentPlaceHolder1_ContentPlaceHolder1_uxSearchWideControl_txtLastName\"]')\n"
     ]
    }
   ],
   "source": [
    "keyword = driver.find_element_by_xpath('//*[@id=\"ctl00_ctl00_ContentPlaceHolder1_ContentPlaceHolder1_uxSearchWideControl_txtLastName\"]')\n",
    "keyword.send_keys('brown')"
   ]
  },
  {
   "cell_type": "code",
   "execution_count": 104,
   "metadata": {},
   "outputs": [
    {
     "name": "stderr",
     "output_type": "stream",
     "text": [
      "C:\\Users\\Roberto\\AppData\\Local\\Temp\\ipykernel_12640\\3947109162.py:1: DeprecationWarning: find_element_by_xpath is deprecated. Please use find_element(by=By.XPATH, value=xpath) instead\n",
      "  keyword = driver.find_element_by_xpath('//*[@id=\"ctl00_ctl00_ContentPlaceHolder1_ContentPlaceHolder1_uxSearchWideControl_txtKeyword\"]')\n"
     ]
    }
   ],
   "source": [
    "keyword = driver.find_element_by_xpath('//*[@id=\"ctl00_ctl00_ContentPlaceHolder1_ContentPlaceHolder1_uxSearchWideControl_txtKeyword\"]')\n",
    "keyword.send_keys('professor')\n"
   ]
  },
  {
   "cell_type": "code",
   "execution_count": 105,
   "metadata": {
    "scrolled": true
   },
   "outputs": [
    {
     "name": "stderr",
     "output_type": "stream",
     "text": [
      "C:\\Users\\Roberto\\AppData\\Local\\Temp\\ipykernel_12640\\1541847903.py:2: DeprecationWarning: find_element_by_xpath is deprecated. Please use find_element(by=By.XPATH, value=xpath) instead\n",
      "  driver.find_element_by_xpath('//*[@id=\"ctl00_ctl00_ContentPlaceHolder1_ContentPlaceHolder1_uxSearchWideControl_ddlCountry\"]/option[11]').click()\n"
     ]
    }
   ],
   "source": [
    " # Set the state of last residence\n",
    "driver.find_element_by_xpath('//*[@id=\"ctl00_ctl00_ContentPlaceHolder1_ContentPlaceHolder1_uxSearchWideControl_ddlCountry\"]/option[11]').click()\n",
    "        "
   ]
  },
  {
   "cell_type": "code",
   "execution_count": 106,
   "metadata": {},
   "outputs": [
    {
     "name": "stderr",
     "output_type": "stream",
     "text": [
      "C:\\Users\\Roberto\\AppData\\Local\\Temp\\ipykernel_12640\\2259365052.py:2: DeprecationWarning: find_element_by_xpath is deprecated. Please use find_element(by=By.XPATH, value=xpath) instead\n",
      "  driver.find_element_by_xpath('//*[@id=\"lnkSearch\"]').click()\n"
     ]
    }
   ],
   "source": [
    "# Send information\n",
    "driver.find_element_by_xpath('//*[@id=\"lnkSearch\"]').click()"
   ]
  },
  {
   "cell_type": "code",
   "execution_count": 362,
   "metadata": {},
   "outputs": [],
   "source": [
    "# range of death\n",
    "driver.find_element_by_xpath('//*[@id=\"ctl00_ctl00_ContentPlaceHolder1_ContentPlaceHolder1_uxSearchWideControl_ddlSearchRange\"]/option[10]').click()\n",
    "\n",
    "\n",
    "death_begin = driver.find_element_by_xpath('//*[@id=\"ctl00_ctl00_ContentPlaceHolder1_ContentPlaceHolder1_uxSearchWideControl_txtStartDate\"]')\n",
    "death_begin.send_keys('10/10/1994')\n",
    "\n",
    "death_end = driver.find_element_by_xpath('//*[@id=\"ctl00_ctl00_ContentPlaceHolder1_ContentPlaceHolder1_uxSearchWideControl_txtEndDate\"]')    \n",
    "death_end.send_keys('10/10/2005')\n",
    "\n",
    "# type the Firstname \n",
    "keyword = driver.find_element_by_xpath('//*[@id=\"ctl00_ctl00_ContentPlaceHolder1_ContentPlaceHolder1_uxSearchWideControl_txtFirstName\"]')\n",
    "keyword.send_keys('robert')\n",
    "\n",
    "# type the Lastname \n",
    "keyword = driver.find_element_by_xpath('//*[@id=\"ctl00_ctl00_ContentPlaceHolder1_ContentPlaceHolder1_uxSearchWideControl_txtLastName\"]')\n",
    "keyword.send_keys('brown')\n",
    "\n",
    "# type the Title \n",
    "keyword = driver.find_element_by_xpath('//*[@id=\"ctl00_ctl00_ContentPlaceHolder1_ContentPlaceHolder1_uxSearchWideControl_txtKeyword\"]')\n",
    "keyword.send_keys('professor')\n",
    "\n",
    " # Set the state of last residence\n",
    "driver.find_element_by_xpath('//*[@id=\"ctl00_ctl00_ContentPlaceHolder1_ContentPlaceHolder1_uxSearchWideControl_ddlCountry\"]/option[11]').click()\n",
    "        \n",
    "# Send information\n",
    "driver.find_element_by_xpath('//*[@id=\"lnkSearch\"]').click()\n",
    "\n",
    "\n"
   ]
  },
  {
   "cell_type": "code",
   "execution_count": 10,
   "metadata": {},
   "outputs": [],
   "source": [
    "# we can loop over all departments\n",
    "# for dpt_idx in range( num_prov_options ):\n",
    "# but it will take too much time\n",
    "# We are going to do it over two departments\n",
    "for dpt_idx in range( 2 ):\n",
    "    \n",
    "    # Get again all departments since HTML is refreshing\n",
    "    # all elements\n",
    "    # Click on one specific department\n",
    "    dpt = Select( driver.find_element_by_xpath( \"/html/body/onpe-root/onpe-layout-container/onpe-onpe-epres-re/div[1]/div[3]/div[1]/div[1]/div/div/div[2]/select\" ) )\n",
    "    department = dpt.options[ dpt_idx ]\n",
    "    \n",
    "    # Get departmant name\n",
    "    dpt_name = department.text\n",
    "    \n",
    "    # We select a different department name\n",
    "    if dpt_name != \"--TODOS--\" :\n",
    "        \n",
    "        # click on department\n",
    "        department.click()\n",
    "        \n",
    "        # Get all elements of province\n",
    "        prov = Select( driver.find_element_by_xpath( \"/html/body/onpe-root/onpe-layout-container/onpe-onpe-epres-re/div[1]/div[3]/div[1]/div[1]/div/div/div[3]/select\" ) )\n",
    "        num_prov_options = len( prov.options )\n",
    "        \n",
    "        for prov_idx in range( num_prov_options ):\n",
    "            \n",
    "            # Get again all districts since HTML is refreshing\n",
    "            # all elements\n",
    "            prov = Select( driver.find_element_by_xpath( \"/html/body/onpe-root/onpe-layout-container/onpe-onpe-epres-re/div[1]/div[3]/div[1]/div[1]/div/div/div[3]/select\" ) )\n",
    "            province = prov.options[ prov_idx ]\n",
    "                \n",
    "            # Get province name\n",
    "            prov_name = province.text\n",
    "            \n",
    "            if prov_name != \"--TODOS--\" :\n",
    "                \n",
    "                # click on province\n",
    "                province.click()\n",
    "                \n",
    "                # Get all elements from district\n",
    "                dist = Select( driver.find_element_by_xpath( \"/html/body/onpe-root/onpe-layout-container/onpe-onpe-epres-re/div[1]/div[3]/div[1]/div[1]/div/div/div[4]/select\" ) )\n",
    "                num_dist_options = len( dist.options )\n",
    "                \n",
    "                for dist_idx in range( num_dist_options ):\n",
    "                    \n",
    "                    # Get again all districts since HTML is refreshing\n",
    "                    # all elements\n",
    "                    dist = Select( driver.find_element_by_xpath( \"/html/body/onpe-root/onpe-layout-container/onpe-onpe-epres-re/div[1]/div[3]/div[1]/div[1]/div/div/div[4]/select\" ) )\n",
    "                    district = dist.options[ dist_idx ]\n",
    "                    \n",
    "                    # Get district name\n",
    "                    dist_name = district.text\n",
    "                    \n",
    "                    if dist_name != \"-- SELECCIONE --\" :\n",
    "                        \n",
    "                        # click on district\n",
    "                        district.click()\n",
    "                        \n",
    "                        # Get UBIGEO\n",
    "                        ubigeo = driver.current_url.split(\"/\")[ -1 ]\n",
    "                        \n",
    "                        ## Get table of presidential votes\n",
    "                        # Get html at this point\n",
    "                        table_path = driver.find_element_by_xpath( \"/html/body/onpe-root/onpe-layout-container/onpe-onpe-epres-re/div[1]/div[4]/div[1]/div[3]/div\" )\n",
    "                        table_html = table_path.get_attribute( 'innerHTML' )\n",
    "                        # Read the table using pandas\n",
    "                        table = pd.read_html( table_html )\n",
    "                        \n",
    "                        # Cleaning tables\n",
    "                        row_new_columns = table[ 0 ].iloc[ 0 , 2: ]\n",
    "                        clean_columns = row_new_columns \\\n",
    "                                              .str.replace( \" \", \"_\") \\\n",
    "                                              .str.lower().str.replace( \"%\", \"share_\") \\\n",
    "                                              .apply( lambda x : unidecode.unidecode( x ) ) \\\n",
    "                                              .tolist()\n",
    "                        \n",
    "                        # Selecting specific columns\n",
    "                        table_clean = table[0].iloc[ 1:, 2: ].copy()\n",
    "                        \n",
    "                        # rename columns\n",
    "                        table_clean.columns = clean_columns\n",
    "                        \n",
    "                        # New values to columns \n",
    "                        table_clean[ 'department' ] = dpt_name\n",
    "                        table_clean[ 'province' ]   = prov_name\n",
    "                        table_clean[ 'district' ]   = dist_name\n",
    "                        table_clean[ 'ubigeo' ]     = ubigeo\n",
    "                        \n",
    "                        # store tables\n",
    "                        all_tables[ ubigeo ] = table_clean"
   ]
  },
  {
   "cell_type": "code",
   "execution_count": 12,
   "metadata": {},
   "outputs": [],
   "source": [
    "final_data = pd.concat( all_tables.values() ).reset_index( drop = True )"
   ]
  },
  {
   "cell_type": "code",
   "execution_count": 15,
   "metadata": {},
   "outputs": [],
   "source": [
    "final_data.to_excel( r'example_round.xlsx' , index = False )"
   ]
  },
  {
   "cell_type": "code",
   "execution_count": null,
   "metadata": {},
   "outputs": [],
   "source": []
  },
  {
   "cell_type": "markdown",
   "metadata": {},
   "source": [
    "# References \n",
    "\n",
    "https://pypi.org/project/webdriver-manager/\n",
    "\n",
    "https://selenium-python.readthedocs.io/installation.html#drivers"
   ]
  }
 ],
 "metadata": {
  "hide_input": false,
  "kernelspec": {
   "display_name": "Python 3 (ipykernel)",
   "language": "python",
   "name": "python3"
  },
  "language_info": {
   "codemirror_mode": {
    "name": "ipython",
    "version": 3
   },
   "file_extension": ".py",
   "mimetype": "text/x-python",
   "name": "python",
   "nbconvert_exporter": "python",
   "pygments_lexer": "ipython3",
   "version": "3.9.7"
  }
 },
 "nbformat": 4,
 "nbformat_minor": 4
}
