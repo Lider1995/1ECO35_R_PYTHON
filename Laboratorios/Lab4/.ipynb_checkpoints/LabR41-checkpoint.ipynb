{
 "cells": [
  {
   "cell_type": "markdown",
   "id": "532bd1f9",
   "metadata": {},
   "source": [
    "# R filter data (Part 2)"
   ]
  },
  {
   "cell_type": "code",
   "execution_count": 6,
   "id": "1b37e5fb",
   "metadata": {},
   "outputs": [],
   "source": [
    "#install.packages(\"dplyr\") # filter data\n",
    "#install.packages(\"pacman\") # call multiple packages\n",
    "#install.packages(\"readxl\") # excel, csv\n",
    "#install.packages(\"plyr\") # filter data\n",
    "#install.packages(\"Hmisc\") # summirze data\n",
    "#install.packages(\"xlsx\")\n"
   ]
  },
  {
   "cell_type": "code",
   "execution_count": 3,
   "id": "3d781db6",
   "metadata": {
    "scrolled": true
   },
   "outputs": [
    {
     "name": "stderr",
     "output_type": "stream",
     "text": [
      "also installing the dependencies 'htmltools', 'rlang', 'xfun', 'bslib', 'tinytex', 'scales', 'knitr', 'rmarkdown', 'broom', 'ggplot2', 'reprex'\n",
      "\n",
      "Warning message:\n",
      "\"unable to access index for repository http://www.stats.ox.ac.uk/pub/RWin/bin/windows/contrib/3.6:\n",
      "  no fue posible abrir la URL 'http://www.stats.ox.ac.uk/pub/RWin/bin/windows/contrib/3.6/PACKAGES'\""
     ]
    },
    {
     "name": "stdout",
     "output_type": "stream",
     "text": [
      "\n",
      "  There are binary versions available but the source versions are later:\n",
      "           binary source needs_compilation\n",
      "htmltools 0.5.1.1  0.5.2              TRUE\n",
      "rlang      0.4.11  1.0.2              TRUE\n",
      "xfun         0.22   0.30              TRUE\n",
      "bslib       0.2.4  0.3.1             FALSE\n",
      "tinytex      0.31   0.38             FALSE\n",
      "scales      1.1.1  1.2.0             FALSE\n",
      "knitr        1.33   1.39             FALSE\n",
      "rmarkdown     2.8   2.14             FALSE\n",
      "broom       0.7.6  0.8.0             FALSE\n",
      "ggplot2     3.3.3  3.3.5             FALSE\n",
      "reprex      2.0.0  2.0.1             FALSE\n",
      "\n",
      "  Binaries will be installed\n",
      "package 'htmltools' successfully unpacked and MD5 sums checked\n"
     ]
    },
    {
     "name": "stderr",
     "output_type": "stream",
     "text": [
      "Warning message:\n",
      "\"cannot remove prior installation of package 'htmltools'\"Warning message in file.copy(savedcopy, lib, recursive = TRUE):\n",
      "\"problema al copiar C:\\Users\\Roberto\\anaconda3\\Lib\\R\\library\\00LOCK\\htmltools\\libs\\x64\\htmltools.dll  a C:\\Users\\Roberto\\anaconda3\\Lib\\R\\library\\htmltools\\libs\\x64\\htmltools.dll: Permission denied\"Warning message:\n",
      "\"restored 'htmltools'\""
     ]
    },
    {
     "name": "stdout",
     "output_type": "stream",
     "text": [
      "package 'rlang' successfully unpacked and MD5 sums checked\n"
     ]
    },
    {
     "name": "stderr",
     "output_type": "stream",
     "text": [
      "Warning message:\n",
      "\"cannot remove prior installation of package 'rlang'\"Warning message in file.copy(savedcopy, lib, recursive = TRUE):\n",
      "\"problema al copiar C:\\Users\\Roberto\\anaconda3\\Lib\\R\\library\\00LOCK\\rlang\\libs\\x64\\rlang.dll  a C:\\Users\\Roberto\\anaconda3\\Lib\\R\\library\\rlang\\libs\\x64\\rlang.dll: Permission denied\"Warning message:\n",
      "\"restored 'rlang'\""
     ]
    },
    {
     "name": "stdout",
     "output_type": "stream",
     "text": [
      "package 'xfun' successfully unpacked and MD5 sums checked\n",
      "package 'tidyverse' successfully unpacked and MD5 sums checked\n",
      "\n",
      "The downloaded binary packages are in\n",
      "\tC:\\Users\\Roberto\\AppData\\Local\\Temp\\RtmpAZSx7M\\downloaded_packages\n"
     ]
    },
    {
     "name": "stderr",
     "output_type": "stream",
     "text": [
      "installing the source packages 'bslib', 'tinytex', 'scales', 'knitr', 'rmarkdown', 'broom', 'ggplot2', 'reprex'\n",
      "\n",
      "Warning message in utils::install.packages(package, ...):\n",
      "\"installation of package 'bslib' had non-zero exit status\"Warning message in utils::install.packages(package, ...):\n",
      "\"installation of package 'tinytex' had non-zero exit status\"Warning message in utils::install.packages(package, ...):\n",
      "\"installation of package 'scales' had non-zero exit status\"Warning message in utils::install.packages(package, ...):\n",
      "\"installation of package 'knitr' had non-zero exit status\"Warning message in utils::install.packages(package, ...):\n",
      "\"installation of package 'rmarkdown' had non-zero exit status\"Warning message in utils::install.packages(package, ...):\n",
      "\"installation of package 'ggplot2' had non-zero exit status\"Warning message in utils::install.packages(package, ...):\n",
      "\"installation of package 'broom' had non-zero exit status\"Warning message in utils::install.packages(package, ...):\n",
      "\"installation of package 'reprex' had non-zero exit status\"\n",
      "tidyverse installed\n",
      "Warning message:\n",
      "\"package 'tidyverse' was built under R version 3.6.3\"Warning message:\n",
      "\"dependency 'foreign' is not available\"also installing the dependencies 'rlang', 'xfun', 'scales', 'knitr', 'ggplot2', 'htmlTable', 'viridis'\n",
      "\n",
      "Warning message:\n",
      "\"unable to access index for repository http://www.stats.ox.ac.uk/pub/RWin/bin/windows/contrib/3.6:\n",
      "  no fue posible abrir la URL 'http://www.stats.ox.ac.uk/pub/RWin/bin/windows/contrib/3.6/PACKAGES'\""
     ]
    },
    {
     "name": "stdout",
     "output_type": "stream",
     "text": [
      "\n",
      "  There are binary versions available but the source versions are later:\n",
      "          binary source needs_compilation\n",
      "rlang     0.4.11  1.0.2              TRUE\n",
      "xfun        0.22   0.30              TRUE\n",
      "scales     1.1.1  1.2.0             FALSE\n",
      "knitr       1.33   1.39             FALSE\n",
      "ggplot2    3.3.3  3.3.5             FALSE\n",
      "htmlTable  2.1.0  2.4.0             FALSE\n",
      "viridis    0.6.1  0.6.2             FALSE\n",
      "Hmisc      4.5-0  4.7-0              TRUE\n",
      "\n",
      "  Binaries will be installed\n",
      "package 'rlang' successfully unpacked and MD5 sums checked\n"
     ]
    },
    {
     "name": "stderr",
     "output_type": "stream",
     "text": [
      "Warning message:\n",
      "\"cannot remove prior installation of package 'rlang'\"Warning message in file.copy(savedcopy, lib, recursive = TRUE):\n",
      "\"problema al copiar C:\\Users\\Roberto\\anaconda3\\Lib\\R\\library\\00LOCK\\rlang\\libs\\x64\\rlang.dll  a C:\\Users\\Roberto\\anaconda3\\Lib\\R\\library\\rlang\\libs\\x64\\rlang.dll: Permission denied\"Warning message:\n",
      "\"restored 'rlang'\""
     ]
    },
    {
     "name": "stdout",
     "output_type": "stream",
     "text": [
      "package 'xfun' successfully unpacked and MD5 sums checked\n",
      "package 'Hmisc' successfully unpacked and MD5 sums checked\n",
      "\n",
      "The downloaded binary packages are in\n",
      "\tC:\\Users\\Roberto\\AppData\\Local\\Temp\\RtmpAZSx7M\\downloaded_packages\n"
     ]
    },
    {
     "name": "stderr",
     "output_type": "stream",
     "text": [
      "installing the source packages 'scales', 'knitr', 'ggplot2', 'htmlTable', 'viridis'\n",
      "\n",
      "Warning message in utils::install.packages(package, ...):\n",
      "\"installation of package 'scales' had non-zero exit status\"Warning message in utils::install.packages(package, ...):\n",
      "\"installation of package 'knitr' had non-zero exit status\"Warning message in utils::install.packages(package, ...):\n",
      "\"installation of package 'ggplot2' had non-zero exit status\"Warning message in utils::install.packages(package, ...):\n",
      "\"installation of package 'htmlTable' had non-zero exit status\"Warning message in utils::install.packages(package, ...):\n",
      "\"installation of package 'viridis' had non-zero exit status\"\n",
      "Hmisc installed\n",
      "Warning message:\n",
      "\"package 'Hmisc' was built under R version 3.6.3\"Warning message:\n",
      "\"unable to access index for repository http://www.stats.ox.ac.uk/pub/RWin/bin/windows/contrib/3.6:\n",
      "  no fue posible abrir la URL 'http://www.stats.ox.ac.uk/pub/RWin/bin/windows/contrib/3.6/PACKAGES'\""
     ]
    },
    {
     "name": "stdout",
     "output_type": "stream",
     "text": [
      "package 'xlsx' successfully unpacked and MD5 sums checked\n",
      "\n",
      "The downloaded binary packages are in\n",
      "\tC:\\Users\\Roberto\\AppData\\Local\\Temp\\RtmpAZSx7M\\downloaded_packages\n"
     ]
    },
    {
     "name": "stderr",
     "output_type": "stream",
     "text": [
      "\n",
      "xlsx installed\n",
      "Warning message:\n",
      "\"package 'xlsx' was built under R version 3.6.3\"Warning message in pacman::p_load(tidyverse, haven, dplyr, readxl, stringr, Hmisc, :\n",
      "\"Failed to install/load:\n",
      "tidyverse, Hmisc, xlsx\""
     ]
    }
   ],
   "source": [
    "pacman::p_load(tidyverse, haven, dplyr,readxl,stringr,Hmisc,xlsx)"
   ]
  },
  {
   "cell_type": "code",
   "execution_count": 152,
   "id": "f86d682c",
   "metadata": {},
   "outputs": [],
   "source": [
    "covid <- read.csv(\"../../data/fallecidos_covid.csv\", sep = \";\", encoding = \"UTF-8\" , header = TRUE, na.string = NA)"
   ]
  },
  {
   "cell_type": "code",
   "execution_count": 153,
   "id": "5dd6c012",
   "metadata": {},
   "outputs": [
    {
     "data": {
      "text/html": [
       "<table>\n",
       "<thead><tr><th scope=col>FECHA_CORTE</th><th scope=col>UUID</th><th scope=col>FECHA_FALLECIMIENTO</th><th scope=col>EDAD_DECLARADA</th><th scope=col>SEXO</th><th scope=col>FECHA_NAC</th><th scope=col>DEPARTAMENTO</th><th scope=col>PROVINCIA</th><th scope=col>DISTRITO</th></tr></thead>\n",
       "<tbody>\n",
       "\t<tr><td>20210302                        </td><td>cdbdc47c6c955a031f997677becb9065</td><td>20200729                        </td><td>64                              </td><td>MASCULINO                       </td><td>19551202                        </td><td>LIMA                            </td><td>LIMA                            </td><td>CHORRILLOS                      </td></tr>\n",
       "\t<tr><td>20210302                        </td><td>a3aaeeedaba295f128635f5edbda6498</td><td>20200729                        </td><td>78                              </td><td>FEMENINO                        </td><td>19420118                        </td><td>LIMA                            </td><td>LIMA                            </td><td>COMAS                           </td></tr>\n",
       "\t<tr><td>20210302                        </td><td>631e87aac1be2aabd19935a6a255a569</td><td>20200729                        </td><td>66                              </td><td>MASCULINO                       </td><td>19540503                        </td><td>LIMA                            </td><td>LIMA                            </td><td>COMAS                           </td></tr>\n",
       "\t<tr><td>20210302                        </td><td>74c292a1a2c357a786b26a13fc839719</td><td>20200729                        </td><td>69                              </td><td>MASCULINO                       </td><td>19510314                        </td><td>LIMA                            </td><td>LIMA                            </td><td>COMAS                           </td></tr>\n",
       "\t<tr><td>20210302                        </td><td>229e060d0ece75f752a790eab2e4470d</td><td>20200729                        </td><td>71                              </td><td>MASCULINO                       </td><td>19490215                        </td><td>LIMA                            </td><td>LIMA                            </td><td>COMAS                           </td></tr>\n",
       "\t<tr><td>20210302                        </td><td>d46e3e2941b2e69d2c1c77ac25ce0afc</td><td>20200729                        </td><td>72                              </td><td>MASCULINO                       </td><td>19480209                        </td><td>LIMA                            </td><td>LIMA                            </td><td>SAN MIGUEL                      </td></tr>\n",
       "</tbody>\n",
       "</table>\n"
      ],
      "text/latex": [
       "\\begin{tabular}{r|lllllllll}\n",
       " FECHA\\_CORTE & UUID & FECHA\\_FALLECIMIENTO & EDAD\\_DECLARADA & SEXO & FECHA\\_NAC & DEPARTAMENTO & PROVINCIA & DISTRITO\\\\\n",
       "\\hline\n",
       "\t 20210302                         & cdbdc47c6c955a031f997677becb9065 & 20200729                         & 64                               & MASCULINO                        & 19551202                         & LIMA                             & LIMA                             & CHORRILLOS                      \\\\\n",
       "\t 20210302                         & a3aaeeedaba295f128635f5edbda6498 & 20200729                         & 78                               & FEMENINO                         & 19420118                         & LIMA                             & LIMA                             & COMAS                           \\\\\n",
       "\t 20210302                         & 631e87aac1be2aabd19935a6a255a569 & 20200729                         & 66                               & MASCULINO                        & 19540503                         & LIMA                             & LIMA                             & COMAS                           \\\\\n",
       "\t 20210302                         & 74c292a1a2c357a786b26a13fc839719 & 20200729                         & 69                               & MASCULINO                        & 19510314                         & LIMA                             & LIMA                             & COMAS                           \\\\\n",
       "\t 20210302                         & 229e060d0ece75f752a790eab2e4470d & 20200729                         & 71                               & MASCULINO                        & 19490215                         & LIMA                             & LIMA                             & COMAS                           \\\\\n",
       "\t 20210302                         & d46e3e2941b2e69d2c1c77ac25ce0afc & 20200729                         & 72                               & MASCULINO                        & 19480209                         & LIMA                             & LIMA                             & SAN MIGUEL                      \\\\\n",
       "\\end{tabular}\n"
      ],
      "text/markdown": [
       "\n",
       "| FECHA_CORTE | UUID | FECHA_FALLECIMIENTO | EDAD_DECLARADA | SEXO | FECHA_NAC | DEPARTAMENTO | PROVINCIA | DISTRITO |\n",
       "|---|---|---|---|---|---|---|---|---|\n",
       "| 20210302                         | cdbdc47c6c955a031f997677becb9065 | 20200729                         | 64                               | MASCULINO                        | 19551202                         | LIMA                             | LIMA                             | CHORRILLOS                       |\n",
       "| 20210302                         | a3aaeeedaba295f128635f5edbda6498 | 20200729                         | 78                               | FEMENINO                         | 19420118                         | LIMA                             | LIMA                             | COMAS                            |\n",
       "| 20210302                         | 631e87aac1be2aabd19935a6a255a569 | 20200729                         | 66                               | MASCULINO                        | 19540503                         | LIMA                             | LIMA                             | COMAS                            |\n",
       "| 20210302                         | 74c292a1a2c357a786b26a13fc839719 | 20200729                         | 69                               | MASCULINO                        | 19510314                         | LIMA                             | LIMA                             | COMAS                            |\n",
       "| 20210302                         | 229e060d0ece75f752a790eab2e4470d | 20200729                         | 71                               | MASCULINO                        | 19490215                         | LIMA                             | LIMA                             | COMAS                            |\n",
       "| 20210302                         | d46e3e2941b2e69d2c1c77ac25ce0afc | 20200729                         | 72                               | MASCULINO                        | 19480209                         | LIMA                             | LIMA                             | SAN MIGUEL                       |\n",
       "\n"
      ],
      "text/plain": [
       "  FECHA_CORTE UUID                             FECHA_FALLECIMIENTO\n",
       "1 20210302    cdbdc47c6c955a031f997677becb9065 20200729           \n",
       "2 20210302    a3aaeeedaba295f128635f5edbda6498 20200729           \n",
       "3 20210302    631e87aac1be2aabd19935a6a255a569 20200729           \n",
       "4 20210302    74c292a1a2c357a786b26a13fc839719 20200729           \n",
       "5 20210302    229e060d0ece75f752a790eab2e4470d 20200729           \n",
       "6 20210302    d46e3e2941b2e69d2c1c77ac25ce0afc 20200729           \n",
       "  EDAD_DECLARADA SEXO      FECHA_NAC DEPARTAMENTO PROVINCIA DISTRITO  \n",
       "1 64             MASCULINO 19551202  LIMA         LIMA      CHORRILLOS\n",
       "2 78             FEMENINO  19420118  LIMA         LIMA      COMAS     \n",
       "3 66             MASCULINO 19540503  LIMA         LIMA      COMAS     \n",
       "4 69             MASCULINO 19510314  LIMA         LIMA      COMAS     \n",
       "5 71             MASCULINO 19490215  LIMA         LIMA      COMAS     \n",
       "6 72             MASCULINO 19480209  LIMA         LIMA      SAN MIGUEL"
      ]
     },
     "metadata": {},
     "output_type": "display_data"
    }
   ],
   "source": [
    "head(covid)"
   ]
  },
  {
   "cell_type": "code",
   "execution_count": 154,
   "id": "965a7fcb",
   "metadata": {},
   "outputs": [
    {
     "name": "stdout",
     "output_type": "stream",
     "text": [
      "'data.frame':\t47089 obs. of  9 variables:\n",
      " $ FECHA_CORTE        : int  20210302 20210302 20210302 20210302 20210302 20210302 20210302 20210302 20210302 20210302 ...\n",
      " $ UUID               : Factor w/ 47089 levels \"000061cf65f7f0370461e74d909ca233\",..: 37687 29829 17936 21284 6229 38953 39856 33551 13071 1413 ...\n",
      " $ FECHA_FALLECIMIENTO: int  20200729 20200729 20200729 20200729 20200729 20200729 20200729 20200729 20200729 20200729 ...\n",
      " $ EDAD_DECLARADA     : int  64 78 66 69 71 72 78 61 89 87 ...\n",
      " $ SEXO               : Factor w/ 4 levels \"10\",\"11\",\"FEMENINO\",..: 4 3 4 4 4 4 3 3 3 3 ...\n",
      " $ FECHA_NAC          : int  19551202 19420118 19540503 19510314 19490215 19480209 19420729 19590701 19310314 19321216 ...\n",
      " $ DEPARTAMENTO       : Factor w/ 25 levels \"AMAZONAS\",\"ANCASH\",..: 15 15 15 15 15 15 15 15 15 15 ...\n",
      " $ PROVINCIA          : Factor w/ 201 levels \"\",\"ABANCAY\",\"ACOBAMBA\",..: 118 118 118 118 118 118 118 118 118 118 ...\n",
      " $ DISTRITO           : Factor w/ 1336 levels \"\",\"\\xd1AHUIMPUQUIO\",..: 278 320 320 320 320 1070 105 81 726 81 ...\n"
     ]
    }
   ],
   "source": [
    "str(covid)"
   ]
  },
  {
   "cell_type": "code",
   "execution_count": 155,
   "id": "eb05f06c",
   "metadata": {},
   "outputs": [
    {
     "name": "stderr",
     "output_type": "stream",
     "text": [
      "The following objects are masked from covid (pos = 3):\n",
      "\n",
      "    DEPARTAMENTO, DISTRITO, EDAD_DECLARADA, FECHA_CORTE,\n",
      "    FECHA_FALLECIMIENTO, FECHA_NAC, PROVINCIA, SEXO, UUID\n",
      "\n",
      "The following objects are masked from covid (pos = 4):\n",
      "\n",
      "    DEPARTAMENTO, DISTRITO, EDAD_DECLARADA, FECHA_CORTE,\n",
      "    FECHA_FALLECIMIENTO, FECHA_NAC, PROVINCIA, SEXO, UUID\n",
      "\n",
      "The following objects are masked from covid (pos = 5):\n",
      "\n",
      "    DEPARTAMENTO, DISTRITO, EDAD_DECLARADA, FECHA_CORTE,\n",
      "    FECHA_FALLECIMIENTO, FECHA_NAC, PROVINCIA, SEXO, UUID\n",
      "\n",
      "The following objects are masked from covid (pos = 6):\n",
      "\n",
      "    DEPARTAMENTO, DISTRITO, EDAD_DECLARADA, FECHA_CORTE,\n",
      "    FECHA_FALLECIMIENTO, FECHA_NAC, PROVINCIA, SEXO, UUID\n",
      "\n",
      "The following objects are masked from covid (pos = 7):\n",
      "\n",
      "    DEPARTAMENTO, DISTRITO, EDAD_DECLARADA, FECHA_CORTE,\n",
      "    FECHA_FALLECIMIENTO, FECHA_NAC, PROVINCIA, SEXO, UUID\n",
      "\n"
     ]
    }
   ],
   "source": [
    "attach(covid) # variables as object "
   ]
  },
  {
   "cell_type": "code",
   "execution_count": 156,
   "id": "2e9fba47",
   "metadata": {},
   "outputs": [
    {
     "data": {
      "text/html": [
       "0"
      ],
      "text/latex": [
       "0"
      ],
      "text/markdown": [
       "0"
      ],
      "text/plain": [
       "[1] 0"
      ]
     },
     "metadata": {},
     "output_type": "display_data"
    }
   ],
   "source": [
    "# Check unique values \n",
    "\n",
    "dim(covid[duplicated(UUID),])[1]"
   ]
  },
  {
   "cell_type": "markdown",
   "id": "451102fb",
   "metadata": {},
   "source": [
    "### ¿A qué sexo pertenecen el mayor número de fallecidos?"
   ]
  },
  {
   "cell_type": "code",
   "execution_count": 157,
   "id": "ff9132ae",
   "metadata": {},
   "outputs": [
    {
     "data": {
      "text/html": [
       "31754"
      ],
      "text/latex": [
       "31754"
      ],
      "text/markdown": [
       "31754"
      ],
      "text/plain": [
       "[1] 31754"
      ]
     },
     "metadata": {},
     "output_type": "display_data"
    },
    {
     "data": {
      "text/html": [
       "15325"
      ],
      "text/latex": [
       "15325"
      ],
      "text/markdown": [
       "15325"
      ],
      "text/plain": [
       "[1] 15325"
      ]
     },
     "metadata": {},
     "output_type": "display_data"
    }
   ],
   "source": [
    "# deaths on gender \n",
    "\n",
    "nrow(covid[covid$SEXO == \"MASCULINO\",])\n",
    "\n",
    "\n",
    "nrow(covid[covid$SEXO == \"FEMENINO\",])"
   ]
  },
  {
   "cell_type": "code",
   "execution_count": 158,
   "id": "f7169caf",
   "metadata": {
    "scrolled": true
   },
   "outputs": [
    {
     "data": {
      "text/html": [
       "<table>\n",
       "<thead><tr><th scope=col>SEXO</th><th scope=col>n</th></tr></thead>\n",
       "<tbody>\n",
       "\t<tr><td>10       </td><td>    3    </td></tr>\n",
       "\t<tr><td>11       </td><td>    7    </td></tr>\n",
       "\t<tr><td>FEMENINO </td><td>15325    </td></tr>\n",
       "\t<tr><td>MASCULINO</td><td>31754    </td></tr>\n",
       "</tbody>\n",
       "</table>\n"
      ],
      "text/latex": [
       "\\begin{tabular}{r|ll}\n",
       " SEXO & n\\\\\n",
       "\\hline\n",
       "\t 10        &     3    \\\\\n",
       "\t 11        &     7    \\\\\n",
       "\t FEMENINO  & 15325    \\\\\n",
       "\t MASCULINO & 31754    \\\\\n",
       "\\end{tabular}\n"
      ],
      "text/markdown": [
       "\n",
       "| SEXO | n |\n",
       "|---|---|\n",
       "| 10        |     3     |\n",
       "| 11        |     7     |\n",
       "| FEMENINO  | 15325     |\n",
       "| MASCULINO | 31754     |\n",
       "\n"
      ],
      "text/plain": [
       "  SEXO      n    \n",
       "1 10            3\n",
       "2 11            7\n",
       "3 FEMENINO  15325\n",
       "4 MASCULINO 31754"
      ]
     },
     "metadata": {},
     "output_type": "display_data"
    }
   ],
   "source": [
    "# count using dplyer library \n",
    "\n",
    "covid %>% group_by(SEXO) %>% tally()\n"
   ]
  },
  {
   "cell_type": "code",
   "execution_count": 159,
   "id": "aeea5a9d",
   "metadata": {},
   "outputs": [
    {
     "data": {
      "text/html": [
       "<table>\n",
       "<thead><tr><th scope=col>SEXO</th><th scope=col>n</th></tr></thead>\n",
       "<tbody>\n",
       "\t<tr><td>FEMENINO </td><td>15325    </td></tr>\n",
       "\t<tr><td>MASCULINO</td><td>31754    </td></tr>\n",
       "\t<tr><td>NA       </td><td>   10    </td></tr>\n",
       "</tbody>\n",
       "</table>\n"
      ],
      "text/latex": [
       "\\begin{tabular}{r|ll}\n",
       " SEXO & n\\\\\n",
       "\\hline\n",
       "\t FEMENINO  & 15325    \\\\\n",
       "\t MASCULINO & 31754    \\\\\n",
       "\t NA        &    10    \\\\\n",
       "\\end{tabular}\n"
      ],
      "text/markdown": [
       "\n",
       "| SEXO | n |\n",
       "|---|---|\n",
       "| FEMENINO  | 15325     |\n",
       "| MASCULINO | 31754     |\n",
       "| NA        |    10     |\n",
       "\n"
      ],
      "text/plain": [
       "  SEXO      n    \n",
       "1 FEMENINO  15325\n",
       "2 MASCULINO 31754\n",
       "3 NA           10"
      ]
     },
     "metadata": {},
     "output_type": "display_data"
    }
   ],
   "source": [
    "# Replacing values\n",
    "\n",
    "covid %>% mutate(SEXO = replace(SEXO, (SEXO == 10 | SEXO == 11) , NA))  %>% group_by(SEXO) %>% tally()"
   ]
  },
  {
   "cell_type": "code",
   "execution_count": 160,
   "id": "64c8a109",
   "metadata": {},
   "outputs": [
    {
     "data": {
      "text/html": [
       "<table>\n",
       "<thead><tr><th scope=col>SEXO</th><th scope=col>n</th></tr></thead>\n",
       "<tbody>\n",
       "\t<tr><td>FEMENINO </td><td>3769     </td></tr>\n",
       "\t<tr><td>MASCULINO</td><td>9590     </td></tr>\n",
       "\t<tr><td>NA       </td><td>   3     </td></tr>\n",
       "</tbody>\n",
       "</table>\n"
      ],
      "text/latex": [
       "\\begin{tabular}{r|ll}\n",
       " SEXO & n\\\\\n",
       "\\hline\n",
       "\t FEMENINO  & 3769     \\\\\n",
       "\t MASCULINO & 9590     \\\\\n",
       "\t NA        &    3     \\\\\n",
       "\\end{tabular}\n"
      ],
      "text/markdown": [
       "\n",
       "| SEXO | n |\n",
       "|---|---|\n",
       "| FEMENINO  | 3769      |\n",
       "| MASCULINO | 9590      |\n",
       "| NA        |    3      |\n",
       "\n"
      ],
      "text/plain": [
       "  SEXO      n   \n",
       "1 FEMENINO  3769\n",
       "2 MASCULINO 9590\n",
       "3 NA           3"
      ]
     },
     "metadata": {},
     "output_type": "display_data"
    }
   ],
   "source": [
    "covid %>%  filter(EDAD_DECLARADA > 30 & EDAD_DECLARADA < 60) %>% \n",
    "           mutate(SEXO = replace(SEXO, (SEXO == 10 | SEXO == 11) , NA))  %>% \n",
    "            group_by(SEXO) %>% tally()\n",
    "\n"
   ]
  },
  {
   "cell_type": "markdown",
   "id": "be9045ec",
   "metadata": {},
   "source": [
    "### ¿Cuántas observaciones no cuentan con información de fecha de nacimiento?\n"
   ]
  },
  {
   "cell_type": "code",
   "execution_count": 161,
   "id": "f218fecb",
   "metadata": {},
   "outputs": [
    {
     "data": {
      "text/html": [
       "15342"
      ],
      "text/latex": [
       "15342"
      ],
      "text/markdown": [
       "15342"
      ],
      "text/plain": [
       "[1] 15342"
      ]
     },
     "metadata": {},
     "output_type": "display_data"
    }
   ],
   "source": [
    "# Missing value of single column\n",
    " \n",
    "sum(is.na(covid$FECHA_NAC))"
   ]
  },
  {
   "cell_type": "markdown",
   "id": "ea029974",
   "metadata": {},
   "source": [
    "\n",
    "## <a id='def'>Halla el total de fallecidos por departamento.</a>"
   ]
  },
  {
   "cell_type": "code",
   "execution_count": 162,
   "id": "9f4e5183",
   "metadata": {},
   "outputs": [],
   "source": [
    "departamento <- covid %>% group_by(DEPARTAMENTO) %>% tally %>% rename(deaths_departamento = n)"
   ]
  },
  {
   "cell_type": "code",
   "execution_count": 163,
   "id": "8849fb32",
   "metadata": {},
   "outputs": [],
   "source": [
    "### Halla el total de fallecidos por distrito.\n",
    "\n",
    "provincia <- covid %>% group_by(DEPARTAMENTO, PROVINCIA) %>% tally %>% rename(deaths_provincia = n)"
   ]
  },
  {
   "cell_type": "code",
   "execution_count": 164,
   "id": "ea5422f0",
   "metadata": {},
   "outputs": [
    {
     "data": {
      "text/html": [
       "<table>\n",
       "<thead><tr><th scope=col>DEPARTAMENTO</th><th scope=col>PROVINCIA</th><th scope=col>deaths_provincia</th></tr></thead>\n",
       "<tbody>\n",
       "\t<tr><td>AMAZONAS                 </td><td>BAGUA                    </td><td> 109                     </td></tr>\n",
       "\t<tr><td>AMAZONAS                 </td><td>BONGARA                  </td><td>  15                     </td></tr>\n",
       "\t<tr><td>AMAZONAS                 </td><td>CHACHAPOYAS              </td><td>  44                     </td></tr>\n",
       "\t<tr><td>AMAZONAS                 </td><td>CONDORCANQUI             </td><td>  22                     </td></tr>\n",
       "\t<tr><td>AMAZONAS                 </td><td>LUYA                     </td><td>  22                     </td></tr>\n",
       "\t<tr><td>AMAZONAS                 </td><td>RODRIGUEZ DE MENDOZA     </td><td>  16                     </td></tr>\n",
       "\t<tr><td>AMAZONAS                 </td><td>UTCUBAMBA                </td><td>  98                     </td></tr>\n",
       "\t<tr><td>ANCASH                   </td><td>                         </td><td> 144                     </td></tr>\n",
       "\t<tr><td>ANCASH                   </td><td>AIJA                     </td><td>   6                     </td></tr>\n",
       "\t<tr><td>ANCASH                   </td><td>ASUNCION                 </td><td>   2                     </td></tr>\n",
       "\t<tr><td>ANCASH                   </td><td>BOLOGNESI                </td><td>  19                     </td></tr>\n",
       "\t<tr><td>ANCASH                   </td><td>CARHUAZ                  </td><td>  24                     </td></tr>\n",
       "\t<tr><td>ANCASH                   </td><td>CARLOS FERMIN FITZCARRALD</td><td>   1                     </td></tr>\n",
       "\t<tr><td>ANCASH                   </td><td>CASMA                    </td><td>  87                     </td></tr>\n",
       "\t<tr><td>ANCASH                   </td><td>CORONGO                  </td><td>   3                     </td></tr>\n",
       "\t<tr><td>ANCASH                   </td><td>HUARAZ                   </td><td> 224                     </td></tr>\n",
       "\t<tr><td>ANCASH                   </td><td>HUARI                    </td><td>  26                     </td></tr>\n",
       "\t<tr><td>ANCASH                   </td><td>HUARMEY                  </td><td>  54                     </td></tr>\n",
       "\t<tr><td>ANCASH                   </td><td>HUAYLAS                  </td><td>  43                     </td></tr>\n",
       "\t<tr><td>ANCASH                   </td><td>MARISCAL LUZURIAGA       </td><td>   3                     </td></tr>\n",
       "\t<tr><td>ANCASH                   </td><td>OCROS                    </td><td>   4                     </td></tr>\n",
       "\t<tr><td>ANCASH                   </td><td>PALLASCA                 </td><td>   9                     </td></tr>\n",
       "\t<tr><td>ANCASH                   </td><td>POMABAMBA                </td><td>   8                     </td></tr>\n",
       "\t<tr><td>ANCASH                   </td><td>RECUAY                   </td><td>  25                     </td></tr>\n",
       "\t<tr><td>ANCASH                   </td><td>SANTA                    </td><td>1162                     </td></tr>\n",
       "\t<tr><td>ANCASH                   </td><td>SIHUAS                   </td><td>  11                     </td></tr>\n",
       "\t<tr><td>ANCASH                   </td><td>YUNGAY                   </td><td>  23                     </td></tr>\n",
       "\t<tr><td>APURIMAC                 </td><td>ABANCAY                  </td><td> 125                     </td></tr>\n",
       "\t<tr><td>APURIMAC                 </td><td>ANDAHUAYLAS              </td><td>  77                     </td></tr>\n",
       "\t<tr><td>APURIMAC                 </td><td>ANTABAMBA                </td><td>  11                     </td></tr>\n",
       "\t<tr><td>...</td><td>...</td><td>...</td></tr>\n",
       "\t<tr><td>PUNO                 </td><td>MELGAR               </td><td> 22                  </td></tr>\n",
       "\t<tr><td>PUNO                 </td><td>MOHO                 </td><td>  8                  </td></tr>\n",
       "\t<tr><td>PUNO                 </td><td>PUNO                 </td><td>190                  </td></tr>\n",
       "\t<tr><td>PUNO                 </td><td>SAN ANTONIO DE PUTINA</td><td> 10                  </td></tr>\n",
       "\t<tr><td>PUNO                 </td><td>SAN ROMAN            </td><td>213                  </td></tr>\n",
       "\t<tr><td>PUNO                 </td><td>SANDIA               </td><td> 18                  </td></tr>\n",
       "\t<tr><td>PUNO                 </td><td>YUNGUYO              </td><td> 29                  </td></tr>\n",
       "\t<tr><td>SAN MARTIN           </td><td>                     </td><td> 10                  </td></tr>\n",
       "\t<tr><td>SAN MARTIN           </td><td>BELLAVISTA           </td><td> 39                  </td></tr>\n",
       "\t<tr><td>SAN MARTIN           </td><td>EL DORADO            </td><td> 24                  </td></tr>\n",
       "\t<tr><td>SAN MARTIN           </td><td>HUALLAGA             </td><td> 19                  </td></tr>\n",
       "\t<tr><td>SAN MARTIN           </td><td>LAMAS                </td><td> 61                  </td></tr>\n",
       "\t<tr><td>SAN MARTIN           </td><td>MARISCAL CACERES     </td><td>124                  </td></tr>\n",
       "\t<tr><td>SAN MARTIN           </td><td>MOYOBAMBA            </td><td> 89                  </td></tr>\n",
       "\t<tr><td>SAN MARTIN           </td><td>PICOTA               </td><td> 34                  </td></tr>\n",
       "\t<tr><td>SAN MARTIN           </td><td>RIOJA                </td><td> 80                  </td></tr>\n",
       "\t<tr><td>SAN MARTIN           </td><td>SAN MARTIN           </td><td>365                  </td></tr>\n",
       "\t<tr><td>SAN MARTIN           </td><td>TOCACHE              </td><td> 50                  </td></tr>\n",
       "\t<tr><td>TACNA                </td><td>CANDARAVE            </td><td>  8                  </td></tr>\n",
       "\t<tr><td>TACNA                </td><td>JORGE BASADRE        </td><td> 10                  </td></tr>\n",
       "\t<tr><td>TACNA                </td><td>TACNA                </td><td>571                  </td></tr>\n",
       "\t<tr><td>TACNA                </td><td>TARATA               </td><td>  7                  </td></tr>\n",
       "\t<tr><td>TUMBES               </td><td>                     </td><td>  5                  </td></tr>\n",
       "\t<tr><td>TUMBES               </td><td>CONTRALMIRANTE VILLAR</td><td> 42                  </td></tr>\n",
       "\t<tr><td>TUMBES               </td><td>TUMBES               </td><td>322                  </td></tr>\n",
       "\t<tr><td>TUMBES               </td><td>ZARUMILLA            </td><td> 77                  </td></tr>\n",
       "\t<tr><td>UCAYALI              </td><td>                     </td><td> 37                  </td></tr>\n",
       "\t<tr><td>UCAYALI              </td><td>ATALAYA              </td><td> 10                  </td></tr>\n",
       "\t<tr><td>UCAYALI              </td><td>CORONEL PORTILLO     </td><td>432                  </td></tr>\n",
       "\t<tr><td>UCAYALI              </td><td>PADRE ABAD           </td><td> 55                  </td></tr>\n",
       "</tbody>\n",
       "</table>\n"
      ],
      "text/latex": [
       "\\begin{tabular}{r|lll}\n",
       " DEPARTAMENTO & PROVINCIA & deaths\\_provincia\\\\\n",
       "\\hline\n",
       "\t AMAZONAS                  & BAGUA                     &  109                     \\\\\n",
       "\t AMAZONAS                  & BONGARA                   &   15                     \\\\\n",
       "\t AMAZONAS                  & CHACHAPOYAS               &   44                     \\\\\n",
       "\t AMAZONAS                  & CONDORCANQUI              &   22                     \\\\\n",
       "\t AMAZONAS                  & LUYA                      &   22                     \\\\\n",
       "\t AMAZONAS                  & RODRIGUEZ DE MENDOZA      &   16                     \\\\\n",
       "\t AMAZONAS                  & UTCUBAMBA                 &   98                     \\\\\n",
       "\t ANCASH                    &                           &  144                     \\\\\n",
       "\t ANCASH                    & AIJA                      &    6                     \\\\\n",
       "\t ANCASH                    & ASUNCION                  &    2                     \\\\\n",
       "\t ANCASH                    & BOLOGNESI                 &   19                     \\\\\n",
       "\t ANCASH                    & CARHUAZ                   &   24                     \\\\\n",
       "\t ANCASH                    & CARLOS FERMIN FITZCARRALD &    1                     \\\\\n",
       "\t ANCASH                    & CASMA                     &   87                     \\\\\n",
       "\t ANCASH                    & CORONGO                   &    3                     \\\\\n",
       "\t ANCASH                    & HUARAZ                    &  224                     \\\\\n",
       "\t ANCASH                    & HUARI                     &   26                     \\\\\n",
       "\t ANCASH                    & HUARMEY                   &   54                     \\\\\n",
       "\t ANCASH                    & HUAYLAS                   &   43                     \\\\\n",
       "\t ANCASH                    & MARISCAL LUZURIAGA        &    3                     \\\\\n",
       "\t ANCASH                    & OCROS                     &    4                     \\\\\n",
       "\t ANCASH                    & PALLASCA                  &    9                     \\\\\n",
       "\t ANCASH                    & POMABAMBA                 &    8                     \\\\\n",
       "\t ANCASH                    & RECUAY                    &   25                     \\\\\n",
       "\t ANCASH                    & SANTA                     & 1162                     \\\\\n",
       "\t ANCASH                    & SIHUAS                    &   11                     \\\\\n",
       "\t ANCASH                    & YUNGAY                    &   23                     \\\\\n",
       "\t APURIMAC                  & ABANCAY                   &  125                     \\\\\n",
       "\t APURIMAC                  & ANDAHUAYLAS               &   77                     \\\\\n",
       "\t APURIMAC                  & ANTABAMBA                 &   11                     \\\\\n",
       "\t ... & ... & ...\\\\\n",
       "\t PUNO                  & MELGAR                &  22                  \\\\\n",
       "\t PUNO                  & MOHO                  &   8                  \\\\\n",
       "\t PUNO                  & PUNO                  & 190                  \\\\\n",
       "\t PUNO                  & SAN ANTONIO DE PUTINA &  10                  \\\\\n",
       "\t PUNO                  & SAN ROMAN             & 213                  \\\\\n",
       "\t PUNO                  & SANDIA                &  18                  \\\\\n",
       "\t PUNO                  & YUNGUYO               &  29                  \\\\\n",
       "\t SAN MARTIN            &                       &  10                  \\\\\n",
       "\t SAN MARTIN            & BELLAVISTA            &  39                  \\\\\n",
       "\t SAN MARTIN            & EL DORADO             &  24                  \\\\\n",
       "\t SAN MARTIN            & HUALLAGA              &  19                  \\\\\n",
       "\t SAN MARTIN            & LAMAS                 &  61                  \\\\\n",
       "\t SAN MARTIN            & MARISCAL CACERES      & 124                  \\\\\n",
       "\t SAN MARTIN            & MOYOBAMBA             &  89                  \\\\\n",
       "\t SAN MARTIN            & PICOTA                &  34                  \\\\\n",
       "\t SAN MARTIN            & RIOJA                 &  80                  \\\\\n",
       "\t SAN MARTIN            & SAN MARTIN            & 365                  \\\\\n",
       "\t SAN MARTIN            & TOCACHE               &  50                  \\\\\n",
       "\t TACNA                 & CANDARAVE             &   8                  \\\\\n",
       "\t TACNA                 & JORGE BASADRE         &  10                  \\\\\n",
       "\t TACNA                 & TACNA                 & 571                  \\\\\n",
       "\t TACNA                 & TARATA                &   7                  \\\\\n",
       "\t TUMBES                &                       &   5                  \\\\\n",
       "\t TUMBES                & CONTRALMIRANTE VILLAR &  42                  \\\\\n",
       "\t TUMBES                & TUMBES                & 322                  \\\\\n",
       "\t TUMBES                & ZARUMILLA             &  77                  \\\\\n",
       "\t UCAYALI               &                       &  37                  \\\\\n",
       "\t UCAYALI               & ATALAYA               &  10                  \\\\\n",
       "\t UCAYALI               & CORONEL PORTILLO      & 432                  \\\\\n",
       "\t UCAYALI               & PADRE ABAD            &  55                  \\\\\n",
       "\\end{tabular}\n"
      ],
      "text/markdown": [
       "\n",
       "| DEPARTAMENTO | PROVINCIA | deaths_provincia |\n",
       "|---|---|---|\n",
       "| AMAZONAS                  | BAGUA                     |  109                      |\n",
       "| AMAZONAS                  | BONGARA                   |   15                      |\n",
       "| AMAZONAS                  | CHACHAPOYAS               |   44                      |\n",
       "| AMAZONAS                  | CONDORCANQUI              |   22                      |\n",
       "| AMAZONAS                  | LUYA                      |   22                      |\n",
       "| AMAZONAS                  | RODRIGUEZ DE MENDOZA      |   16                      |\n",
       "| AMAZONAS                  | UTCUBAMBA                 |   98                      |\n",
       "| ANCASH                    |                           |  144                      |\n",
       "| ANCASH                    | AIJA                      |    6                      |\n",
       "| ANCASH                    | ASUNCION                  |    2                      |\n",
       "| ANCASH                    | BOLOGNESI                 |   19                      |\n",
       "| ANCASH                    | CARHUAZ                   |   24                      |\n",
       "| ANCASH                    | CARLOS FERMIN FITZCARRALD |    1                      |\n",
       "| ANCASH                    | CASMA                     |   87                      |\n",
       "| ANCASH                    | CORONGO                   |    3                      |\n",
       "| ANCASH                    | HUARAZ                    |  224                      |\n",
       "| ANCASH                    | HUARI                     |   26                      |\n",
       "| ANCASH                    | HUARMEY                   |   54                      |\n",
       "| ANCASH                    | HUAYLAS                   |   43                      |\n",
       "| ANCASH                    | MARISCAL LUZURIAGA        |    3                      |\n",
       "| ANCASH                    | OCROS                     |    4                      |\n",
       "| ANCASH                    | PALLASCA                  |    9                      |\n",
       "| ANCASH                    | POMABAMBA                 |    8                      |\n",
       "| ANCASH                    | RECUAY                    |   25                      |\n",
       "| ANCASH                    | SANTA                     | 1162                      |\n",
       "| ANCASH                    | SIHUAS                    |   11                      |\n",
       "| ANCASH                    | YUNGAY                    |   23                      |\n",
       "| APURIMAC                  | ABANCAY                   |  125                      |\n",
       "| APURIMAC                  | ANDAHUAYLAS               |   77                      |\n",
       "| APURIMAC                  | ANTABAMBA                 |   11                      |\n",
       "| ... | ... | ... |\n",
       "| PUNO                  | MELGAR                |  22                   |\n",
       "| PUNO                  | MOHO                  |   8                   |\n",
       "| PUNO                  | PUNO                  | 190                   |\n",
       "| PUNO                  | SAN ANTONIO DE PUTINA |  10                   |\n",
       "| PUNO                  | SAN ROMAN             | 213                   |\n",
       "| PUNO                  | SANDIA                |  18                   |\n",
       "| PUNO                  | YUNGUYO               |  29                   |\n",
       "| SAN MARTIN            |                       |  10                   |\n",
       "| SAN MARTIN            | BELLAVISTA            |  39                   |\n",
       "| SAN MARTIN            | EL DORADO             |  24                   |\n",
       "| SAN MARTIN            | HUALLAGA              |  19                   |\n",
       "| SAN MARTIN            | LAMAS                 |  61                   |\n",
       "| SAN MARTIN            | MARISCAL CACERES      | 124                   |\n",
       "| SAN MARTIN            | MOYOBAMBA             |  89                   |\n",
       "| SAN MARTIN            | PICOTA                |  34                   |\n",
       "| SAN MARTIN            | RIOJA                 |  80                   |\n",
       "| SAN MARTIN            | SAN MARTIN            | 365                   |\n",
       "| SAN MARTIN            | TOCACHE               |  50                   |\n",
       "| TACNA                 | CANDARAVE             |   8                   |\n",
       "| TACNA                 | JORGE BASADRE         |  10                   |\n",
       "| TACNA                 | TACNA                 | 571                   |\n",
       "| TACNA                 | TARATA                |   7                   |\n",
       "| TUMBES                |                       |   5                   |\n",
       "| TUMBES                | CONTRALMIRANTE VILLAR |  42                   |\n",
       "| TUMBES                | TUMBES                | 322                   |\n",
       "| TUMBES                | ZARUMILLA             |  77                   |\n",
       "| UCAYALI               |                       |  37                   |\n",
       "| UCAYALI               | ATALAYA               |  10                   |\n",
       "| UCAYALI               | CORONEL PORTILLO      | 432                   |\n",
       "| UCAYALI               | PADRE ABAD            |  55                   |\n",
       "\n"
      ],
      "text/plain": [
       "    DEPARTAMENTO PROVINCIA                 deaths_provincia\n",
       "1   AMAZONAS     BAGUA                      109            \n",
       "2   AMAZONAS     BONGARA                     15            \n",
       "3   AMAZONAS     CHACHAPOYAS                 44            \n",
       "4   AMAZONAS     CONDORCANQUI                22            \n",
       "5   AMAZONAS     LUYA                        22            \n",
       "6   AMAZONAS     RODRIGUEZ DE MENDOZA        16            \n",
       "7   AMAZONAS     UTCUBAMBA                   98            \n",
       "8   ANCASH                                  144            \n",
       "9   ANCASH       AIJA                         6            \n",
       "10  ANCASH       ASUNCION                     2            \n",
       "11  ANCASH       BOLOGNESI                   19            \n",
       "12  ANCASH       CARHUAZ                     24            \n",
       "13  ANCASH       CARLOS FERMIN FITZCARRALD    1            \n",
       "14  ANCASH       CASMA                       87            \n",
       "15  ANCASH       CORONGO                      3            \n",
       "16  ANCASH       HUARAZ                     224            \n",
       "17  ANCASH       HUARI                       26            \n",
       "18  ANCASH       HUARMEY                     54            \n",
       "19  ANCASH       HUAYLAS                     43            \n",
       "20  ANCASH       MARISCAL LUZURIAGA           3            \n",
       "21  ANCASH       OCROS                        4            \n",
       "22  ANCASH       PALLASCA                     9            \n",
       "23  ANCASH       POMABAMBA                    8            \n",
       "24  ANCASH       RECUAY                      25            \n",
       "25  ANCASH       SANTA                     1162            \n",
       "26  ANCASH       SIHUAS                      11            \n",
       "27  ANCASH       YUNGAY                      23            \n",
       "28  APURIMAC     ABANCAY                    125            \n",
       "29  APURIMAC     ANDAHUAYLAS                 77            \n",
       "30  APURIMAC     ANTABAMBA                   11            \n",
       "... ...          ...                       ...             \n",
       "188 PUNO         MELGAR                     22             \n",
       "189 PUNO         MOHO                        8             \n",
       "190 PUNO         PUNO                      190             \n",
       "191 PUNO         SAN ANTONIO DE PUTINA      10             \n",
       "192 PUNO         SAN ROMAN                 213             \n",
       "193 PUNO         SANDIA                     18             \n",
       "194 PUNO         YUNGUYO                    29             \n",
       "195 SAN MARTIN                              10             \n",
       "196 SAN MARTIN   BELLAVISTA                 39             \n",
       "197 SAN MARTIN   EL DORADO                  24             \n",
       "198 SAN MARTIN   HUALLAGA                   19             \n",
       "199 SAN MARTIN   LAMAS                      61             \n",
       "200 SAN MARTIN   MARISCAL CACERES          124             \n",
       "201 SAN MARTIN   MOYOBAMBA                  89             \n",
       "202 SAN MARTIN   PICOTA                     34             \n",
       "203 SAN MARTIN   RIOJA                      80             \n",
       "204 SAN MARTIN   SAN MARTIN                365             \n",
       "205 SAN MARTIN   TOCACHE                    50             \n",
       "206 TACNA        CANDARAVE                   8             \n",
       "207 TACNA        JORGE BASADRE              10             \n",
       "208 TACNA        TACNA                     571             \n",
       "209 TACNA        TARATA                      7             \n",
       "210 TUMBES                                   5             \n",
       "211 TUMBES       CONTRALMIRANTE VILLAR      42             \n",
       "212 TUMBES       TUMBES                    322             \n",
       "213 TUMBES       ZARUMILLA                  77             \n",
       "214 UCAYALI                                 37             \n",
       "215 UCAYALI      ATALAYA                    10             \n",
       "216 UCAYALI      CORONEL PORTILLO          432             \n",
       "217 UCAYALI      PADRE ABAD                 55             "
      ]
     },
     "metadata": {},
     "output_type": "display_data"
    }
   ],
   "source": [
    "provincia"
   ]
  },
  {
   "cell_type": "code",
   "execution_count": 165,
   "id": "fd0dda02",
   "metadata": {},
   "outputs": [
    {
     "data": {
      "text/html": [
       "<table>\n",
       "<thead><tr><th scope=col>DEPARTAMENTO</th><th scope=col>PROVINCIA</th><th scope=col>deaths_provincia</th></tr></thead>\n",
       "<tbody>\n",
       "\t<tr><td>AMAZONAS            </td><td>BAGUA               </td><td>109                 </td></tr>\n",
       "\t<tr><td>AMAZONAS            </td><td>BONGARA             </td><td> 15                 </td></tr>\n",
       "\t<tr><td>AMAZONAS            </td><td>CHACHAPOYAS         </td><td> 44                 </td></tr>\n",
       "\t<tr><td>AMAZONAS            </td><td>CONDORCANQUI        </td><td> 22                 </td></tr>\n",
       "\t<tr><td>AMAZONAS            </td><td>LUYA                </td><td> 22                 </td></tr>\n",
       "\t<tr><td>AMAZONAS            </td><td>RODRIGUEZ DE MENDOZA</td><td> 16                 </td></tr>\n",
       "</tbody>\n",
       "</table>\n"
      ],
      "text/latex": [
       "\\begin{tabular}{r|lll}\n",
       " DEPARTAMENTO & PROVINCIA & deaths\\_provincia\\\\\n",
       "\\hline\n",
       "\t AMAZONAS             & BAGUA                & 109                 \\\\\n",
       "\t AMAZONAS             & BONGARA              &  15                 \\\\\n",
       "\t AMAZONAS             & CHACHAPOYAS          &  44                 \\\\\n",
       "\t AMAZONAS             & CONDORCANQUI         &  22                 \\\\\n",
       "\t AMAZONAS             & LUYA                 &  22                 \\\\\n",
       "\t AMAZONAS             & RODRIGUEZ DE MENDOZA &  16                 \\\\\n",
       "\\end{tabular}\n"
      ],
      "text/markdown": [
       "\n",
       "| DEPARTAMENTO | PROVINCIA | deaths_provincia |\n",
       "|---|---|---|\n",
       "| AMAZONAS             | BAGUA                | 109                  |\n",
       "| AMAZONAS             | BONGARA              |  15                  |\n",
       "| AMAZONAS             | CHACHAPOYAS          |  44                  |\n",
       "| AMAZONAS             | CONDORCANQUI         |  22                  |\n",
       "| AMAZONAS             | LUYA                 |  22                  |\n",
       "| AMAZONAS             | RODRIGUEZ DE MENDOZA |  16                  |\n",
       "\n"
      ],
      "text/plain": [
       "  DEPARTAMENTO PROVINCIA            deaths_provincia\n",
       "1 AMAZONAS     BAGUA                109             \n",
       "2 AMAZONAS     BONGARA               15             \n",
       "3 AMAZONAS     CHACHAPOYAS           44             \n",
       "4 AMAZONAS     CONDORCANQUI          22             \n",
       "5 AMAZONAS     LUYA                  22             \n",
       "6 AMAZONAS     RODRIGUEZ DE MENDOZA  16             "
      ]
     },
     "metadata": {},
     "output_type": "display_data"
    }
   ],
   "source": [
    "head(provincia)"
   ]
  },
  {
   "cell_type": "code",
   "execution_count": 166,
   "id": "0a27aaae",
   "metadata": {},
   "outputs": [],
   "source": [
    "distritos <- covid %>% group_by(DEPARTAMENTO, PROVINCIA, DISTRITO) %>% tally %>% rename(deaths_distrito = n)"
   ]
  },
  {
   "cell_type": "markdown",
   "id": "4af67bab",
   "metadata": {},
   "source": [
    "## <a id='def'>Merge Dataset </a>"
   ]
  },
  {
   "cell_type": "code",
   "execution_count": 167,
   "id": "8465ecd4",
   "metadata": {},
   "outputs": [],
   "source": [
    "base_total <- merge( distritos, provincia , by = c(\"DEPARTAMENTO\", \"PROVINCIA\"), all.x = TRUE)"
   ]
  },
  {
   "cell_type": "code",
   "execution_count": 168,
   "id": "b46475b0",
   "metadata": {
    "scrolled": true
   },
   "outputs": [
    {
     "data": {
      "text/html": [
       "<table>\n",
       "<thead><tr><th scope=col>DEPARTAMENTO</th><th scope=col>PROVINCIA</th><th scope=col>DISTRITO</th><th scope=col>deaths_distrito</th><th scope=col>deaths_provincia</th></tr></thead>\n",
       "<tbody>\n",
       "\t<tr><td>AMAZONAS         </td><td>BAGUA            </td><td>ARAMANGO         </td><td>10               </td><td>109              </td></tr>\n",
       "\t<tr><td>AMAZONAS         </td><td>BAGUA            </td><td>BAGUA            </td><td>60               </td><td>109              </td></tr>\n",
       "\t<tr><td>AMAZONAS         </td><td>BAGUA            </td><td>COPALLIN         </td><td> 4               </td><td>109              </td></tr>\n",
       "\t<tr><td>AMAZONAS         </td><td>BAGUA            </td><td>IMAZA            </td><td>24               </td><td>109              </td></tr>\n",
       "\t<tr><td>AMAZONAS         </td><td>BAGUA            </td><td>LA PECA          </td><td>11               </td><td>109              </td></tr>\n",
       "\t<tr><td>AMAZONAS         </td><td>BONGARA          </td><td>CHURUJA          </td><td> 2               </td><td> 15              </td></tr>\n",
       "\t<tr><td>AMAZONAS         </td><td>BONGARA          </td><td>JAZAN            </td><td> 9               </td><td> 15              </td></tr>\n",
       "\t<tr><td>AMAZONAS         </td><td>BONGARA          </td><td>JUMBILLA         </td><td> 1               </td><td> 15              </td></tr>\n",
       "\t<tr><td>AMAZONAS         </td><td>BONGARA          </td><td>SAN CARLOS       </td><td> 1               </td><td> 15              </td></tr>\n",
       "\t<tr><td>AMAZONAS         </td><td>BONGARA          </td><td>VALERA           </td><td> 1               </td><td> 15              </td></tr>\n",
       "\t<tr><td>AMAZONAS         </td><td>BONGARA          </td><td>YAMBRASBAMBA     </td><td> 1               </td><td> 15              </td></tr>\n",
       "\t<tr><td>AMAZONAS         </td><td>CHACHAPOYAS      </td><td>BALSAS           </td><td> 1               </td><td> 44              </td></tr>\n",
       "\t<tr><td>AMAZONAS         </td><td>CHACHAPOYAS      </td><td>CHACHAPOYAS      </td><td>31               </td><td> 44              </td></tr>\n",
       "\t<tr><td>AMAZONAS         </td><td>CHACHAPOYAS      </td><td>CHUQUIBAMBA      </td><td> 2               </td><td> 44              </td></tr>\n",
       "\t<tr><td>AMAZONAS         </td><td>CHACHAPOYAS      </td><td>HUANCAS          </td><td> 1               </td><td> 44              </td></tr>\n",
       "\t<tr><td>AMAZONAS         </td><td>CHACHAPOYAS      </td><td>LA JALCA         </td><td> 2               </td><td> 44              </td></tr>\n",
       "\t<tr><td>AMAZONAS         </td><td>CHACHAPOYAS      </td><td>LEIMEBAMBA       </td><td> 1               </td><td> 44              </td></tr>\n",
       "\t<tr><td>AMAZONAS         </td><td>CHACHAPOYAS      </td><td>MAGDALENA        </td><td> 1               </td><td> 44              </td></tr>\n",
       "\t<tr><td>AMAZONAS         </td><td>CHACHAPOYAS      </td><td>MARISCAL CASTILLA</td><td> 1               </td><td> 44              </td></tr>\n",
       "\t<tr><td>AMAZONAS         </td><td>CHACHAPOYAS      </td><td>MONTEVIDEO       </td><td> 1               </td><td> 44              </td></tr>\n",
       "\t<tr><td>AMAZONAS         </td><td>CHACHAPOYAS      </td><td>SOLOCO           </td><td> 3               </td><td> 44              </td></tr>\n",
       "\t<tr><td>AMAZONAS         </td><td>CONDORCANQUI     </td><td>EL CENEPA        </td><td> 3               </td><td> 22              </td></tr>\n",
       "\t<tr><td>AMAZONAS         </td><td>CONDORCANQUI     </td><td>NIEVA            </td><td>13               </td><td> 22              </td></tr>\n",
       "\t<tr><td>AMAZONAS         </td><td>CONDORCANQUI     </td><td>RIO SANTIAGO     </td><td> 6               </td><td> 22              </td></tr>\n",
       "\t<tr><td>AMAZONAS         </td><td>LUYA             </td><td>CAMPOREDONDO     </td><td> 1               </td><td> 22              </td></tr>\n",
       "\t<tr><td>AMAZONAS         </td><td>LUYA             </td><td>CAMPORREDONDO    </td><td> 1               </td><td> 22              </td></tr>\n",
       "\t<tr><td>AMAZONAS         </td><td>LUYA             </td><td>COCABAMBA        </td><td> 1               </td><td> 22              </td></tr>\n",
       "\t<tr><td>AMAZONAS         </td><td>LUYA             </td><td>LAMUD            </td><td> 4               </td><td> 22              </td></tr>\n",
       "\t<tr><td>AMAZONAS         </td><td>LUYA             </td><td>LONYA CHICO      </td><td> 1               </td><td> 22              </td></tr>\n",
       "\t<tr><td>AMAZONAS         </td><td>LUYA             </td><td>LUYA             </td><td> 5               </td><td> 22              </td></tr>\n",
       "\t<tr><td>...</td><td>...</td><td>...</td><td>...</td><td>...</td></tr>\n",
       "\t<tr><td>TUMBES               </td><td>                     </td><td>TUMBES               </td><td>  2                  </td><td>  5                  </td></tr>\n",
       "\t<tr><td>TUMBES               </td><td>                     </td><td>ZORRITOS             </td><td>  1                  </td><td>  5                  </td></tr>\n",
       "\t<tr><td>TUMBES               </td><td>CONTRALMIRANTE VILLAR</td><td>CANOAS DE PUNTA SAL  </td><td> 12                  </td><td> 42                  </td></tr>\n",
       "\t<tr><td>TUMBES               </td><td>CONTRALMIRANTE VILLAR</td><td>CASITAS              </td><td>  5                  </td><td> 42                  </td></tr>\n",
       "\t<tr><td>TUMBES               </td><td>CONTRALMIRANTE VILLAR</td><td>ZORRITOS             </td><td> 25                  </td><td> 42                  </td></tr>\n",
       "\t<tr><td>TUMBES               </td><td>TUMBES               </td><td>CORRALES             </td><td> 48                  </td><td>322                  </td></tr>\n",
       "\t<tr><td>TUMBES               </td><td>TUMBES               </td><td>LA CRUZ              </td><td> 14                  </td><td>322                  </td></tr>\n",
       "\t<tr><td>TUMBES               </td><td>TUMBES               </td><td>PAMPAS DE HOSPITAL   </td><td>  6                  </td><td>322                  </td></tr>\n",
       "\t<tr><td>TUMBES               </td><td>TUMBES               </td><td>SAN JACINTO          </td><td> 11                  </td><td>322                  </td></tr>\n",
       "\t<tr><td>TUMBES               </td><td>TUMBES               </td><td>SAN JUAN DE LA VIRGEN</td><td>  6                  </td><td>322                  </td></tr>\n",
       "\t<tr><td>TUMBES               </td><td>TUMBES               </td><td>TUMBES               </td><td>237                  </td><td>322                  </td></tr>\n",
       "\t<tr><td>TUMBES               </td><td>ZARUMILLA            </td><td>AGUAS VERDES         </td><td> 29                  </td><td> 77                  </td></tr>\n",
       "\t<tr><td>TUMBES               </td><td>ZARUMILLA            </td><td>MATAPALO             </td><td>  1                  </td><td> 77                  </td></tr>\n",
       "\t<tr><td>TUMBES               </td><td>ZARUMILLA            </td><td>PAPAYAL              </td><td>  4                  </td><td> 77                  </td></tr>\n",
       "\t<tr><td>TUMBES               </td><td>ZARUMILLA            </td><td>ZARUMILLA            </td><td> 43                  </td><td> 77                  </td></tr>\n",
       "\t<tr><td>UCAYALI              </td><td>                     </td><td>                     </td><td> 37                  </td><td> 37                  </td></tr>\n",
       "\t<tr><td>UCAYALI              </td><td>ATALAYA              </td><td>RAIMONDI             </td><td>  2                  </td><td> 10                  </td></tr>\n",
       "\t<tr><td>UCAYALI              </td><td>ATALAYA              </td><td>RAYMONDI             </td><td>  3                  </td><td> 10                  </td></tr>\n",
       "\t<tr><td>UCAYALI              </td><td>ATALAYA              </td><td>SEPAHUA              </td><td>  2                  </td><td> 10                  </td></tr>\n",
       "\t<tr><td>UCAYALI              </td><td>ATALAYA              </td><td>TAHUANIA             </td><td>  3                  </td><td> 10                  </td></tr>\n",
       "\t<tr><td>UCAYALI              </td><td>CORONEL PORTILLO     </td><td>CALLERIA             </td><td>262                  </td><td>432                  </td></tr>\n",
       "\t<tr><td>UCAYALI              </td><td>CORONEL PORTILLO     </td><td>CAMPOVERDE           </td><td>  4                  </td><td>432                  </td></tr>\n",
       "\t<tr><td>UCAYALI              </td><td>CORONEL PORTILLO     </td><td>MANANTAY             </td><td> 64                  </td><td>432                  </td></tr>\n",
       "\t<tr><td>UCAYALI              </td><td>CORONEL PORTILLO     </td><td>MASISEA              </td><td>  4                  </td><td>432                  </td></tr>\n",
       "\t<tr><td>UCAYALI              </td><td>CORONEL PORTILLO     </td><td>NUEVA REQUENA        </td><td>  5                  </td><td>432                  </td></tr>\n",
       "\t<tr><td>UCAYALI              </td><td>CORONEL PORTILLO     </td><td>YARINACOCHA          </td><td> 93                  </td><td>432                  </td></tr>\n",
       "\t<tr><td>UCAYALI              </td><td>PADRE ABAD           </td><td>CURIMANA             </td><td>  2                  </td><td> 55                  </td></tr>\n",
       "\t<tr><td>UCAYALI              </td><td>PADRE ABAD           </td><td>IRAZOLA              </td><td>  6                  </td><td> 55                  </td></tr>\n",
       "\t<tr><td>UCAYALI              </td><td>PADRE ABAD           </td><td>NESHUYA              </td><td>  7                  </td><td> 55                  </td></tr>\n",
       "\t<tr><td>UCAYALI              </td><td>PADRE ABAD           </td><td>PADRE ABAD           </td><td> 40                  </td><td> 55                  </td></tr>\n",
       "</tbody>\n",
       "</table>\n"
      ],
      "text/latex": [
       "\\begin{tabular}{r|lllll}\n",
       " DEPARTAMENTO & PROVINCIA & DISTRITO & deaths\\_distrito & deaths\\_provincia\\\\\n",
       "\\hline\n",
       "\t AMAZONAS          & BAGUA             & ARAMANGO          & 10                & 109              \\\\\n",
       "\t AMAZONAS          & BAGUA             & BAGUA             & 60                & 109              \\\\\n",
       "\t AMAZONAS          & BAGUA             & COPALLIN          &  4                & 109              \\\\\n",
       "\t AMAZONAS          & BAGUA             & IMAZA             & 24                & 109              \\\\\n",
       "\t AMAZONAS          & BAGUA             & LA PECA           & 11                & 109              \\\\\n",
       "\t AMAZONAS          & BONGARA           & CHURUJA           &  2                &  15              \\\\\n",
       "\t AMAZONAS          & BONGARA           & JAZAN             &  9                &  15              \\\\\n",
       "\t AMAZONAS          & BONGARA           & JUMBILLA          &  1                &  15              \\\\\n",
       "\t AMAZONAS          & BONGARA           & SAN CARLOS        &  1                &  15              \\\\\n",
       "\t AMAZONAS          & BONGARA           & VALERA            &  1                &  15              \\\\\n",
       "\t AMAZONAS          & BONGARA           & YAMBRASBAMBA      &  1                &  15              \\\\\n",
       "\t AMAZONAS          & CHACHAPOYAS       & BALSAS            &  1                &  44              \\\\\n",
       "\t AMAZONAS          & CHACHAPOYAS       & CHACHAPOYAS       & 31                &  44              \\\\\n",
       "\t AMAZONAS          & CHACHAPOYAS       & CHUQUIBAMBA       &  2                &  44              \\\\\n",
       "\t AMAZONAS          & CHACHAPOYAS       & HUANCAS           &  1                &  44              \\\\\n",
       "\t AMAZONAS          & CHACHAPOYAS       & LA JALCA          &  2                &  44              \\\\\n",
       "\t AMAZONAS          & CHACHAPOYAS       & LEIMEBAMBA        &  1                &  44              \\\\\n",
       "\t AMAZONAS          & CHACHAPOYAS       & MAGDALENA         &  1                &  44              \\\\\n",
       "\t AMAZONAS          & CHACHAPOYAS       & MARISCAL CASTILLA &  1                &  44              \\\\\n",
       "\t AMAZONAS          & CHACHAPOYAS       & MONTEVIDEO        &  1                &  44              \\\\\n",
       "\t AMAZONAS          & CHACHAPOYAS       & SOLOCO            &  3                &  44              \\\\\n",
       "\t AMAZONAS          & CONDORCANQUI      & EL CENEPA         &  3                &  22              \\\\\n",
       "\t AMAZONAS          & CONDORCANQUI      & NIEVA             & 13                &  22              \\\\\n",
       "\t AMAZONAS          & CONDORCANQUI      & RIO SANTIAGO      &  6                &  22              \\\\\n",
       "\t AMAZONAS          & LUYA              & CAMPOREDONDO      &  1                &  22              \\\\\n",
       "\t AMAZONAS          & LUYA              & CAMPORREDONDO     &  1                &  22              \\\\\n",
       "\t AMAZONAS          & LUYA              & COCABAMBA         &  1                &  22              \\\\\n",
       "\t AMAZONAS          & LUYA              & LAMUD             &  4                &  22              \\\\\n",
       "\t AMAZONAS          & LUYA              & LONYA CHICO       &  1                &  22              \\\\\n",
       "\t AMAZONAS          & LUYA              & LUYA              &  5                &  22              \\\\\n",
       "\t ... & ... & ... & ... & ...\\\\\n",
       "\t TUMBES                &                       & TUMBES                &   2                   &   5                  \\\\\n",
       "\t TUMBES                &                       & ZORRITOS              &   1                   &   5                  \\\\\n",
       "\t TUMBES                & CONTRALMIRANTE VILLAR & CANOAS DE PUNTA SAL   &  12                   &  42                  \\\\\n",
       "\t TUMBES                & CONTRALMIRANTE VILLAR & CASITAS               &   5                   &  42                  \\\\\n",
       "\t TUMBES                & CONTRALMIRANTE VILLAR & ZORRITOS              &  25                   &  42                  \\\\\n",
       "\t TUMBES                & TUMBES                & CORRALES              &  48                   & 322                  \\\\\n",
       "\t TUMBES                & TUMBES                & LA CRUZ               &  14                   & 322                  \\\\\n",
       "\t TUMBES                & TUMBES                & PAMPAS DE HOSPITAL    &   6                   & 322                  \\\\\n",
       "\t TUMBES                & TUMBES                & SAN JACINTO           &  11                   & 322                  \\\\\n",
       "\t TUMBES                & TUMBES                & SAN JUAN DE LA VIRGEN &   6                   & 322                  \\\\\n",
       "\t TUMBES                & TUMBES                & TUMBES                & 237                   & 322                  \\\\\n",
       "\t TUMBES                & ZARUMILLA             & AGUAS VERDES          &  29                   &  77                  \\\\\n",
       "\t TUMBES                & ZARUMILLA             & MATAPALO              &   1                   &  77                  \\\\\n",
       "\t TUMBES                & ZARUMILLA             & PAPAYAL               &   4                   &  77                  \\\\\n",
       "\t TUMBES                & ZARUMILLA             & ZARUMILLA             &  43                   &  77                  \\\\\n",
       "\t UCAYALI               &                       &                       &  37                   &  37                  \\\\\n",
       "\t UCAYALI               & ATALAYA               & RAIMONDI              &   2                   &  10                  \\\\\n",
       "\t UCAYALI               & ATALAYA               & RAYMONDI              &   3                   &  10                  \\\\\n",
       "\t UCAYALI               & ATALAYA               & SEPAHUA               &   2                   &  10                  \\\\\n",
       "\t UCAYALI               & ATALAYA               & TAHUANIA              &   3                   &  10                  \\\\\n",
       "\t UCAYALI               & CORONEL PORTILLO      & CALLERIA              & 262                   & 432                  \\\\\n",
       "\t UCAYALI               & CORONEL PORTILLO      & CAMPOVERDE            &   4                   & 432                  \\\\\n",
       "\t UCAYALI               & CORONEL PORTILLO      & MANANTAY              &  64                   & 432                  \\\\\n",
       "\t UCAYALI               & CORONEL PORTILLO      & MASISEA               &   4                   & 432                  \\\\\n",
       "\t UCAYALI               & CORONEL PORTILLO      & NUEVA REQUENA         &   5                   & 432                  \\\\\n",
       "\t UCAYALI               & CORONEL PORTILLO      & YARINACOCHA           &  93                   & 432                  \\\\\n",
       "\t UCAYALI               & PADRE ABAD            & CURIMANA              &   2                   &  55                  \\\\\n",
       "\t UCAYALI               & PADRE ABAD            & IRAZOLA               &   6                   &  55                  \\\\\n",
       "\t UCAYALI               & PADRE ABAD            & NESHUYA               &   7                   &  55                  \\\\\n",
       "\t UCAYALI               & PADRE ABAD            & PADRE ABAD            &  40                   &  55                  \\\\\n",
       "\\end{tabular}\n"
      ],
      "text/markdown": [
       "\n",
       "| DEPARTAMENTO | PROVINCIA | DISTRITO | deaths_distrito | deaths_provincia |\n",
       "|---|---|---|---|---|\n",
       "| AMAZONAS          | BAGUA             | ARAMANGO          | 10                | 109               |\n",
       "| AMAZONAS          | BAGUA             | BAGUA             | 60                | 109               |\n",
       "| AMAZONAS          | BAGUA             | COPALLIN          |  4                | 109               |\n",
       "| AMAZONAS          | BAGUA             | IMAZA             | 24                | 109               |\n",
       "| AMAZONAS          | BAGUA             | LA PECA           | 11                | 109               |\n",
       "| AMAZONAS          | BONGARA           | CHURUJA           |  2                |  15               |\n",
       "| AMAZONAS          | BONGARA           | JAZAN             |  9                |  15               |\n",
       "| AMAZONAS          | BONGARA           | JUMBILLA          |  1                |  15               |\n",
       "| AMAZONAS          | BONGARA           | SAN CARLOS        |  1                |  15               |\n",
       "| AMAZONAS          | BONGARA           | VALERA            |  1                |  15               |\n",
       "| AMAZONAS          | BONGARA           | YAMBRASBAMBA      |  1                |  15               |\n",
       "| AMAZONAS          | CHACHAPOYAS       | BALSAS            |  1                |  44               |\n",
       "| AMAZONAS          | CHACHAPOYAS       | CHACHAPOYAS       | 31                |  44               |\n",
       "| AMAZONAS          | CHACHAPOYAS       | CHUQUIBAMBA       |  2                |  44               |\n",
       "| AMAZONAS          | CHACHAPOYAS       | HUANCAS           |  1                |  44               |\n",
       "| AMAZONAS          | CHACHAPOYAS       | LA JALCA          |  2                |  44               |\n",
       "| AMAZONAS          | CHACHAPOYAS       | LEIMEBAMBA        |  1                |  44               |\n",
       "| AMAZONAS          | CHACHAPOYAS       | MAGDALENA         |  1                |  44               |\n",
       "| AMAZONAS          | CHACHAPOYAS       | MARISCAL CASTILLA |  1                |  44               |\n",
       "| AMAZONAS          | CHACHAPOYAS       | MONTEVIDEO        |  1                |  44               |\n",
       "| AMAZONAS          | CHACHAPOYAS       | SOLOCO            |  3                |  44               |\n",
       "| AMAZONAS          | CONDORCANQUI      | EL CENEPA         |  3                |  22               |\n",
       "| AMAZONAS          | CONDORCANQUI      | NIEVA             | 13                |  22               |\n",
       "| AMAZONAS          | CONDORCANQUI      | RIO SANTIAGO      |  6                |  22               |\n",
       "| AMAZONAS          | LUYA              | CAMPOREDONDO      |  1                |  22               |\n",
       "| AMAZONAS          | LUYA              | CAMPORREDONDO     |  1                |  22               |\n",
       "| AMAZONAS          | LUYA              | COCABAMBA         |  1                |  22               |\n",
       "| AMAZONAS          | LUYA              | LAMUD             |  4                |  22               |\n",
       "| AMAZONAS          | LUYA              | LONYA CHICO       |  1                |  22               |\n",
       "| AMAZONAS          | LUYA              | LUYA              |  5                |  22               |\n",
       "| ... | ... | ... | ... | ... |\n",
       "| TUMBES                |                       | TUMBES                |   2                   |   5                   |\n",
       "| TUMBES                |                       | ZORRITOS              |   1                   |   5                   |\n",
       "| TUMBES                | CONTRALMIRANTE VILLAR | CANOAS DE PUNTA SAL   |  12                   |  42                   |\n",
       "| TUMBES                | CONTRALMIRANTE VILLAR | CASITAS               |   5                   |  42                   |\n",
       "| TUMBES                | CONTRALMIRANTE VILLAR | ZORRITOS              |  25                   |  42                   |\n",
       "| TUMBES                | TUMBES                | CORRALES              |  48                   | 322                   |\n",
       "| TUMBES                | TUMBES                | LA CRUZ               |  14                   | 322                   |\n",
       "| TUMBES                | TUMBES                | PAMPAS DE HOSPITAL    |   6                   | 322                   |\n",
       "| TUMBES                | TUMBES                | SAN JACINTO           |  11                   | 322                   |\n",
       "| TUMBES                | TUMBES                | SAN JUAN DE LA VIRGEN |   6                   | 322                   |\n",
       "| TUMBES                | TUMBES                | TUMBES                | 237                   | 322                   |\n",
       "| TUMBES                | ZARUMILLA             | AGUAS VERDES          |  29                   |  77                   |\n",
       "| TUMBES                | ZARUMILLA             | MATAPALO              |   1                   |  77                   |\n",
       "| TUMBES                | ZARUMILLA             | PAPAYAL               |   4                   |  77                   |\n",
       "| TUMBES                | ZARUMILLA             | ZARUMILLA             |  43                   |  77                   |\n",
       "| UCAYALI               |                       |                       |  37                   |  37                   |\n",
       "| UCAYALI               | ATALAYA               | RAIMONDI              |   2                   |  10                   |\n",
       "| UCAYALI               | ATALAYA               | RAYMONDI              |   3                   |  10                   |\n",
       "| UCAYALI               | ATALAYA               | SEPAHUA               |   2                   |  10                   |\n",
       "| UCAYALI               | ATALAYA               | TAHUANIA              |   3                   |  10                   |\n",
       "| UCAYALI               | CORONEL PORTILLO      | CALLERIA              | 262                   | 432                   |\n",
       "| UCAYALI               | CORONEL PORTILLO      | CAMPOVERDE            |   4                   | 432                   |\n",
       "| UCAYALI               | CORONEL PORTILLO      | MANANTAY              |  64                   | 432                   |\n",
       "| UCAYALI               | CORONEL PORTILLO      | MASISEA               |   4                   | 432                   |\n",
       "| UCAYALI               | CORONEL PORTILLO      | NUEVA REQUENA         |   5                   | 432                   |\n",
       "| UCAYALI               | CORONEL PORTILLO      | YARINACOCHA           |  93                   | 432                   |\n",
       "| UCAYALI               | PADRE ABAD            | CURIMANA              |   2                   |  55                   |\n",
       "| UCAYALI               | PADRE ABAD            | IRAZOLA               |   6                   |  55                   |\n",
       "| UCAYALI               | PADRE ABAD            | NESHUYA               |   7                   |  55                   |\n",
       "| UCAYALI               | PADRE ABAD            | PADRE ABAD            |  40                   |  55                   |\n",
       "\n"
      ],
      "text/plain": [
       "     DEPARTAMENTO PROVINCIA             DISTRITO              deaths_distrito\n",
       "1    AMAZONAS     BAGUA                 ARAMANGO              10             \n",
       "2    AMAZONAS     BAGUA                 BAGUA                 60             \n",
       "3    AMAZONAS     BAGUA                 COPALLIN               4             \n",
       "4    AMAZONAS     BAGUA                 IMAZA                 24             \n",
       "5    AMAZONAS     BAGUA                 LA PECA               11             \n",
       "6    AMAZONAS     BONGARA               CHURUJA                2             \n",
       "7    AMAZONAS     BONGARA               JAZAN                  9             \n",
       "8    AMAZONAS     BONGARA               JUMBILLA               1             \n",
       "9    AMAZONAS     BONGARA               SAN CARLOS             1             \n",
       "10   AMAZONAS     BONGARA               VALERA                 1             \n",
       "11   AMAZONAS     BONGARA               YAMBRASBAMBA           1             \n",
       "12   AMAZONAS     CHACHAPOYAS           BALSAS                 1             \n",
       "13   AMAZONAS     CHACHAPOYAS           CHACHAPOYAS           31             \n",
       "14   AMAZONAS     CHACHAPOYAS           CHUQUIBAMBA            2             \n",
       "15   AMAZONAS     CHACHAPOYAS           HUANCAS                1             \n",
       "16   AMAZONAS     CHACHAPOYAS           LA JALCA               2             \n",
       "17   AMAZONAS     CHACHAPOYAS           LEIMEBAMBA             1             \n",
       "18   AMAZONAS     CHACHAPOYAS           MAGDALENA              1             \n",
       "19   AMAZONAS     CHACHAPOYAS           MARISCAL CASTILLA      1             \n",
       "20   AMAZONAS     CHACHAPOYAS           MONTEVIDEO             1             \n",
       "21   AMAZONAS     CHACHAPOYAS           SOLOCO                 3             \n",
       "22   AMAZONAS     CONDORCANQUI          EL CENEPA              3             \n",
       "23   AMAZONAS     CONDORCANQUI          NIEVA                 13             \n",
       "24   AMAZONAS     CONDORCANQUI          RIO SANTIAGO           6             \n",
       "25   AMAZONAS     LUYA                  CAMPOREDONDO           1             \n",
       "26   AMAZONAS     LUYA                  CAMPORREDONDO          1             \n",
       "27   AMAZONAS     LUYA                  COCABAMBA              1             \n",
       "28   AMAZONAS     LUYA                  LAMUD                  4             \n",
       "29   AMAZONAS     LUYA                  LONYA CHICO            1             \n",
       "30   AMAZONAS     LUYA                  LUYA                   5             \n",
       "...  ...          ...                   ...                   ...            \n",
       "1509 TUMBES                             TUMBES                  2            \n",
       "1510 TUMBES                             ZORRITOS                1            \n",
       "1511 TUMBES       CONTRALMIRANTE VILLAR CANOAS DE PUNTA SAL    12            \n",
       "1512 TUMBES       CONTRALMIRANTE VILLAR CASITAS                 5            \n",
       "1513 TUMBES       CONTRALMIRANTE VILLAR ZORRITOS               25            \n",
       "1514 TUMBES       TUMBES                CORRALES               48            \n",
       "1515 TUMBES       TUMBES                LA CRUZ                14            \n",
       "1516 TUMBES       TUMBES                PAMPAS DE HOSPITAL      6            \n",
       "1517 TUMBES       TUMBES                SAN JACINTO            11            \n",
       "1518 TUMBES       TUMBES                SAN JUAN DE LA VIRGEN   6            \n",
       "1519 TUMBES       TUMBES                TUMBES                237            \n",
       "1520 TUMBES       ZARUMILLA             AGUAS VERDES           29            \n",
       "1521 TUMBES       ZARUMILLA             MATAPALO                1            \n",
       "1522 TUMBES       ZARUMILLA             PAPAYAL                 4            \n",
       "1523 TUMBES       ZARUMILLA             ZARUMILLA              43            \n",
       "1524 UCAYALI                                                   37            \n",
       "1525 UCAYALI      ATALAYA               RAIMONDI                2            \n",
       "1526 UCAYALI      ATALAYA               RAYMONDI                3            \n",
       "1527 UCAYALI      ATALAYA               SEPAHUA                 2            \n",
       "1528 UCAYALI      ATALAYA               TAHUANIA                3            \n",
       "1529 UCAYALI      CORONEL PORTILLO      CALLERIA              262            \n",
       "1530 UCAYALI      CORONEL PORTILLO      CAMPOVERDE              4            \n",
       "1531 UCAYALI      CORONEL PORTILLO      MANANTAY               64            \n",
       "1532 UCAYALI      CORONEL PORTILLO      MASISEA                 4            \n",
       "1533 UCAYALI      CORONEL PORTILLO      NUEVA REQUENA           5            \n",
       "1534 UCAYALI      CORONEL PORTILLO      YARINACOCHA            93            \n",
       "1535 UCAYALI      PADRE ABAD            CURIMANA                2            \n",
       "1536 UCAYALI      PADRE ABAD            IRAZOLA                 6            \n",
       "1537 UCAYALI      PADRE ABAD            NESHUYA                 7            \n",
       "1538 UCAYALI      PADRE ABAD            PADRE ABAD             40            \n",
       "     deaths_provincia\n",
       "1    109             \n",
       "2    109             \n",
       "3    109             \n",
       "4    109             \n",
       "5    109             \n",
       "6     15             \n",
       "7     15             \n",
       "8     15             \n",
       "9     15             \n",
       "10    15             \n",
       "11    15             \n",
       "12    44             \n",
       "13    44             \n",
       "14    44             \n",
       "15    44             \n",
       "16    44             \n",
       "17    44             \n",
       "18    44             \n",
       "19    44             \n",
       "20    44             \n",
       "21    44             \n",
       "22    22             \n",
       "23    22             \n",
       "24    22             \n",
       "25    22             \n",
       "26    22             \n",
       "27    22             \n",
       "28    22             \n",
       "29    22             \n",
       "30    22             \n",
       "...  ...             \n",
       "1509   5             \n",
       "1510   5             \n",
       "1511  42             \n",
       "1512  42             \n",
       "1513  42             \n",
       "1514 322             \n",
       "1515 322             \n",
       "1516 322             \n",
       "1517 322             \n",
       "1518 322             \n",
       "1519 322             \n",
       "1520  77             \n",
       "1521  77             \n",
       "1522  77             \n",
       "1523  77             \n",
       "1524  37             \n",
       "1525  10             \n",
       "1526  10             \n",
       "1527  10             \n",
       "1528  10             \n",
       "1529 432             \n",
       "1530 432             \n",
       "1531 432             \n",
       "1532 432             \n",
       "1533 432             \n",
       "1534 432             \n",
       "1535  55             \n",
       "1536  55             \n",
       "1537  55             \n",
       "1538  55             "
      ]
     },
     "metadata": {},
     "output_type": "display_data"
    }
   ],
   "source": [
    "base_total"
   ]
  },
  {
   "cell_type": "code",
   "execution_count": 169,
   "id": "e7ffc6eb",
   "metadata": {},
   "outputs": [],
   "source": [
    "base_total <- merge( base_total, departamento, by = c(\"DEPARTAMENTO\"), all.x = TRUE)"
   ]
  },
  {
   "cell_type": "code",
   "execution_count": 170,
   "id": "edc1997b",
   "metadata": {
    "scrolled": true
   },
   "outputs": [
    {
     "data": {
      "text/html": [
       "<table>\n",
       "<thead><tr><th scope=col>DEPARTAMENTO</th><th scope=col>PROVINCIA</th><th scope=col>DISTRITO</th><th scope=col>deaths_distrito</th><th scope=col>deaths_provincia</th><th scope=col>deaths_departamento</th></tr></thead>\n",
       "<tbody>\n",
       "\t<tr><td>AMAZONAS</td><td>BAGUA   </td><td>ARAMANGO</td><td>10      </td><td>109     </td><td>326     </td></tr>\n",
       "\t<tr><td>AMAZONAS</td><td>BAGUA   </td><td>BAGUA   </td><td>60      </td><td>109     </td><td>326     </td></tr>\n",
       "\t<tr><td>AMAZONAS</td><td>BAGUA   </td><td>COPALLIN</td><td> 4      </td><td>109     </td><td>326     </td></tr>\n",
       "\t<tr><td>AMAZONAS</td><td>BAGUA   </td><td>IMAZA   </td><td>24      </td><td>109     </td><td>326     </td></tr>\n",
       "\t<tr><td>AMAZONAS</td><td>BAGUA   </td><td>LA PECA </td><td>11      </td><td>109     </td><td>326     </td></tr>\n",
       "\t<tr><td>AMAZONAS</td><td>BONGARA </td><td>CHURUJA </td><td> 2      </td><td> 15     </td><td>326     </td></tr>\n",
       "</tbody>\n",
       "</table>\n"
      ],
      "text/latex": [
       "\\begin{tabular}{r|llllll}\n",
       " DEPARTAMENTO & PROVINCIA & DISTRITO & deaths\\_distrito & deaths\\_provincia & deaths\\_departamento\\\\\n",
       "\\hline\n",
       "\t AMAZONAS & BAGUA    & ARAMANGO & 10       & 109      & 326     \\\\\n",
       "\t AMAZONAS & BAGUA    & BAGUA    & 60       & 109      & 326     \\\\\n",
       "\t AMAZONAS & BAGUA    & COPALLIN &  4       & 109      & 326     \\\\\n",
       "\t AMAZONAS & BAGUA    & IMAZA    & 24       & 109      & 326     \\\\\n",
       "\t AMAZONAS & BAGUA    & LA PECA  & 11       & 109      & 326     \\\\\n",
       "\t AMAZONAS & BONGARA  & CHURUJA  &  2       &  15      & 326     \\\\\n",
       "\\end{tabular}\n"
      ],
      "text/markdown": [
       "\n",
       "| DEPARTAMENTO | PROVINCIA | DISTRITO | deaths_distrito | deaths_provincia | deaths_departamento |\n",
       "|---|---|---|---|---|---|\n",
       "| AMAZONAS | BAGUA    | ARAMANGO | 10       | 109      | 326      |\n",
       "| AMAZONAS | BAGUA    | BAGUA    | 60       | 109      | 326      |\n",
       "| AMAZONAS | BAGUA    | COPALLIN |  4       | 109      | 326      |\n",
       "| AMAZONAS | BAGUA    | IMAZA    | 24       | 109      | 326      |\n",
       "| AMAZONAS | BAGUA    | LA PECA  | 11       | 109      | 326      |\n",
       "| AMAZONAS | BONGARA  | CHURUJA  |  2       |  15      | 326      |\n",
       "\n"
      ],
      "text/plain": [
       "  DEPARTAMENTO PROVINCIA DISTRITO deaths_distrito deaths_provincia\n",
       "1 AMAZONAS     BAGUA     ARAMANGO 10              109             \n",
       "2 AMAZONAS     BAGUA     BAGUA    60              109             \n",
       "3 AMAZONAS     BAGUA     COPALLIN  4              109             \n",
       "4 AMAZONAS     BAGUA     IMAZA    24              109             \n",
       "5 AMAZONAS     BAGUA     LA PECA  11              109             \n",
       "6 AMAZONAS     BONGARA   CHURUJA   2               15             \n",
       "  deaths_departamento\n",
       "1 326                \n",
       "2 326                \n",
       "3 326                \n",
       "4 326                \n",
       "5 326                \n",
       "6 326                "
      ]
     },
     "metadata": {},
     "output_type": "display_data"
    }
   ],
   "source": [
    "head(base_total)"
   ]
  },
  {
   "cell_type": "code",
   "execution_count": 176,
   "id": "4c8ada15",
   "metadata": {},
   "outputs": [],
   "source": [
    "base_total$distr_prov = round(((base_total$deaths_distrito)/(base_total$deaths_provincia))*100, digit=2)\n",
    "base_total$prov_dpto = round(((base_total$deaths_provincia)/(base_total$deaths_departamento))*100, digit=2)\n",
    "base_total$distr_dpto = round(((base_total$deaths_distrito)/(base_total$deaths_departamento))*100, digit=2)\n",
    "\n",
    "\n",
    "#muertos_covid['distr_prov']=(muertos_covid['Muertos por distrito']/muertos_covid['Muertos por provincia'])*100\n",
    "#muertos_covid['prov_dpto']=(muertos_covid['Muertos por provincia']/muertos_covid['Muertos por departamento'])*100\n",
    "#muertos_covid['distr_dpto']=(muertos_covid['Muertos por distrito']/muertos_covid['Muertos por departamento'])*100\n",
    "#Tabla_1 = muertos_covid[['DEPARTAMENTO','PROVINCIA','DISTRITO','distr_prov']].round(2)\n",
    "#Tabla_1"
   ]
  },
  {
   "cell_type": "code",
   "execution_count": 177,
   "id": "b2ef7db1",
   "metadata": {},
   "outputs": [
    {
     "data": {
      "text/html": [
       "<table>\n",
       "<thead><tr><th scope=col>DEPARTAMENTO</th><th scope=col>PROVINCIA</th><th scope=col>DISTRITO</th><th scope=col>deaths_distrito</th><th scope=col>deaths_provincia</th><th scope=col>deaths_departamento</th><th scope=col>distr_prov</th><th scope=col>prov_dpto</th><th scope=col>distr_dpto</th></tr></thead>\n",
       "<tbody>\n",
       "\t<tr><td>AMAZONAS</td><td>BAGUA   </td><td>ARAMANGO</td><td>10      </td><td>109     </td><td>326     </td><td> 9.17   </td><td>33.44   </td><td> 3.07   </td></tr>\n",
       "\t<tr><td>AMAZONAS</td><td>BAGUA   </td><td>BAGUA   </td><td>60      </td><td>109     </td><td>326     </td><td>55.05   </td><td>33.44   </td><td>18.40   </td></tr>\n",
       "\t<tr><td>AMAZONAS</td><td>BAGUA   </td><td>COPALLIN</td><td> 4      </td><td>109     </td><td>326     </td><td> 3.67   </td><td>33.44   </td><td> 1.23   </td></tr>\n",
       "\t<tr><td>AMAZONAS</td><td>BAGUA   </td><td>IMAZA   </td><td>24      </td><td>109     </td><td>326     </td><td>22.02   </td><td>33.44   </td><td> 7.36   </td></tr>\n",
       "\t<tr><td>AMAZONAS</td><td>BAGUA   </td><td>LA PECA </td><td>11      </td><td>109     </td><td>326     </td><td>10.09   </td><td>33.44   </td><td> 3.37   </td></tr>\n",
       "\t<tr><td>AMAZONAS</td><td>BONGARA </td><td>CHURUJA </td><td> 2      </td><td> 15     </td><td>326     </td><td>13.33   </td><td> 4.60   </td><td> 0.61   </td></tr>\n",
       "</tbody>\n",
       "</table>\n"
      ],
      "text/latex": [
       "\\begin{tabular}{r|lllllllll}\n",
       " DEPARTAMENTO & PROVINCIA & DISTRITO & deaths\\_distrito & deaths\\_provincia & deaths\\_departamento & distr\\_prov & prov\\_dpto & distr\\_dpto\\\\\n",
       "\\hline\n",
       "\t AMAZONAS & BAGUA    & ARAMANGO & 10       & 109      & 326      &  9.17    & 33.44    &  3.07   \\\\\n",
       "\t AMAZONAS & BAGUA    & BAGUA    & 60       & 109      & 326      & 55.05    & 33.44    & 18.40   \\\\\n",
       "\t AMAZONAS & BAGUA    & COPALLIN &  4       & 109      & 326      &  3.67    & 33.44    &  1.23   \\\\\n",
       "\t AMAZONAS & BAGUA    & IMAZA    & 24       & 109      & 326      & 22.02    & 33.44    &  7.36   \\\\\n",
       "\t AMAZONAS & BAGUA    & LA PECA  & 11       & 109      & 326      & 10.09    & 33.44    &  3.37   \\\\\n",
       "\t AMAZONAS & BONGARA  & CHURUJA  &  2       &  15      & 326      & 13.33    &  4.60    &  0.61   \\\\\n",
       "\\end{tabular}\n"
      ],
      "text/markdown": [
       "\n",
       "| DEPARTAMENTO | PROVINCIA | DISTRITO | deaths_distrito | deaths_provincia | deaths_departamento | distr_prov | prov_dpto | distr_dpto |\n",
       "|---|---|---|---|---|---|---|---|---|\n",
       "| AMAZONAS | BAGUA    | ARAMANGO | 10       | 109      | 326      |  9.17    | 33.44    |  3.07    |\n",
       "| AMAZONAS | BAGUA    | BAGUA    | 60       | 109      | 326      | 55.05    | 33.44    | 18.40    |\n",
       "| AMAZONAS | BAGUA    | COPALLIN |  4       | 109      | 326      |  3.67    | 33.44    |  1.23    |\n",
       "| AMAZONAS | BAGUA    | IMAZA    | 24       | 109      | 326      | 22.02    | 33.44    |  7.36    |\n",
       "| AMAZONAS | BAGUA    | LA PECA  | 11       | 109      | 326      | 10.09    | 33.44    |  3.37    |\n",
       "| AMAZONAS | BONGARA  | CHURUJA  |  2       |  15      | 326      | 13.33    |  4.60    |  0.61    |\n",
       "\n"
      ],
      "text/plain": [
       "  DEPARTAMENTO PROVINCIA DISTRITO deaths_distrito deaths_provincia\n",
       "1 AMAZONAS     BAGUA     ARAMANGO 10              109             \n",
       "2 AMAZONAS     BAGUA     BAGUA    60              109             \n",
       "3 AMAZONAS     BAGUA     COPALLIN  4              109             \n",
       "4 AMAZONAS     BAGUA     IMAZA    24              109             \n",
       "5 AMAZONAS     BAGUA     LA PECA  11              109             \n",
       "6 AMAZONAS     BONGARA   CHURUJA   2               15             \n",
       "  deaths_departamento distr_prov prov_dpto distr_dpto\n",
       "1 326                  9.17      33.44      3.07     \n",
       "2 326                 55.05      33.44     18.40     \n",
       "3 326                  3.67      33.44      1.23     \n",
       "4 326                 22.02      33.44      7.36     \n",
       "5 326                 10.09      33.44      3.37     \n",
       "6 326                 13.33       4.60      0.61     "
      ]
     },
     "metadata": {},
     "output_type": "display_data"
    }
   ],
   "source": [
    "head(base_total)"
   ]
  },
  {
   "cell_type": "code",
   "execution_count": 178,
   "id": "dffa6ac6",
   "metadata": {},
   "outputs": [],
   "source": [
    "write.csv(base_total, '../../data/base_total.csv')"
   ]
  },
  {
   "cell_type": "code",
   "execution_count": null,
   "id": "48fe5045",
   "metadata": {},
   "outputs": [],
   "source": []
  },
  {
   "cell_type": "code",
   "execution_count": null,
   "id": "8386ae9f",
   "metadata": {},
   "outputs": [],
   "source": []
  },
  {
   "cell_type": "markdown",
   "id": "6ddb07c0",
   "metadata": {},
   "source": [
    "# References\n",
    "\n",
    "\n",
    "https://rstudio-education.github.io/hopr/dataio.html\n",
    "\n",
    "https://www.geeksforgeeks.org/merge-dataframes-by-column-names-in-r/\n",
    "\n",
    "https://www.geeksforgeeks.org/how-to-replace-specific-values-in-column-in-r-dataframe/"
   ]
  }
 ],
 "metadata": {
  "kernelspec": {
   "display_name": "R",
   "language": "R",
   "name": "ir"
  },
  "language_info": {
   "codemirror_mode": "r",
   "file_extension": ".r",
   "mimetype": "text/x-r-source",
   "name": "R",
   "pygments_lexer": "r",
   "version": "3.6.1"
  }
 },
 "nbformat": 4,
 "nbformat_minor": 5
}
