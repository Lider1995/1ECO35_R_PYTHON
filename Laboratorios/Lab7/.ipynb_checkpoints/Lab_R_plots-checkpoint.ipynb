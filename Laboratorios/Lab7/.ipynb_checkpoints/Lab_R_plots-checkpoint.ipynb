{
 "cells": [
  {
   "cell_type": "markdown",
   "id": "36a35f24",
   "metadata": {},
   "source": [
    "## 1. Quantities: \n",
    "This type of graph shows the levels of variables. Also, these graphs show the variables according to categories or classifications."
   ]
  },
  {
   "cell_type": "code",
   "execution_count": 5,
   "id": "69feb6bf",
   "metadata": {},
   "outputs": [],
   "source": [
    "library(ggplot2)  # plots packages\n",
    "library(tidyr) # read and filter dataset\n",
    "\n",
    "library(haven)  # read STATA.dta \n",
    "library(dplyr)  # filter dataset"
   ]
  },
  {
   "cell_type": "code",
   "execution_count": 189,
   "id": "fd675279",
   "metadata": {},
   "outputs": [
    {
     "name": "stderr",
     "output_type": "stream",
     "text": [
      "Installing package into 'C:/Users/Roberto/AppData/Local/R/win-library/4.2'\n",
      "(as 'lib' is unspecified)\n",
      "\n"
     ]
    },
    {
     "name": "stdout",
     "output_type": "stream",
     "text": [
      "package 'labelled' successfully unpacked and MD5 sums checked\n",
      "\n",
      "The downloaded binary packages are in\n",
      "\tC:\\Users\\Roberto\\AppData\\Local\\Temp\\RtmpSuDmaP\\downloaded_packages\n"
     ]
    }
   ],
   "source": [
    "install.packages(\"labelled\")\n",
    "\n",
    "library(labelled)"
   ]
  },
  {
   "cell_type": "code",
   "execution_count": 195,
   "id": "00be6927",
   "metadata": {},
   "outputs": [],
   "source": [
    "enaho <- read_dta(\"../../data/ENAHO/enaho.dta\", encoding = \"latin1\")"
   ]
  },
  {
   "cell_type": "code",
   "execution_count": 196,
   "id": "5232480e",
   "metadata": {},
   "outputs": [
    {
     "name": "stderr",
     "output_type": "stream",
     "text": [
      "The following objects are masked from enaho (pos = 4):\n",
      "\n",
      "    acumulado, alfa1, alfa2, alfa3, alfa4, alfa5, alfa6, alfa7,\n",
      "    aniorec, area, civil, codperso, conglome, contrato, d_edu, d544t,\n",
      "    d556t1, d556t2, d557t, d558t, dep_1, dep_10, dep_11, dep_12,\n",
      "    dep_13, dep_14, dep_15, dep_16, dep_17, dep_18, dep_19, dep_2,\n",
      "    dep_20, dep_21, dep_22, dep_23, dep_24, dep_3, dep_4, dep_5, dep_6,\n",
      "    dep_7, dep_8, dep_9, dominio, dominioA, dpto, edad, edad_2, educ,\n",
      "    educa, empresa, estrato, estud, exper, exper_2, facpob07, hogar,\n",
      "    horas, horas_1, horas_2, i00, i01, i02, i03, i04, i05, i06, i07,\n",
      "    i08, i524e1, i530a, i538e1, i541a, informal, ing_n_labor, ingreso,\n",
      "    ingreso_r, jefe, l_n_labor, l_salario, labor, ld, lengua,\n",
      "    menores_17, menores_6, monoparental, n_labor, nivel_edu1,\n",
      "    nivel_edu2, ocu500, p203, p204, p507, panel, salario, sector, sexo,\n",
      "    tenure, tenure_2, tipo_hogar, ubigeo, ubigeo_2, vivienda, year\n",
      "\n",
      "\n"
     ]
    }
   ],
   "source": [
    "attach(enaho)"
   ]
  },
  {
   "cell_type": "code",
   "execution_count": 197,
   "id": "86462979",
   "metadata": {},
   "outputs": [
    {
     "data": {
      "text/html": [
       "<table class=\"dataframe\">\n",
       "<caption>A tibble: 6 × 105</caption>\n",
       "<thead>\n",
       "\t<tr><th scope=col>year</th><th scope=col>conglome</th><th scope=col>vivienda</th><th scope=col>hogar</th><th scope=col>ubigeo</th><th scope=col>codperso</th><th scope=col>dominio</th><th scope=col>estrato</th><th scope=col>panel</th><th scope=col>p203</th><th scope=col>⋯</th><th scope=col>acumulado</th><th scope=col>estud</th><th scope=col>educa</th><th scope=col>d_edu</th><th scope=col>exper</th><th scope=col>exper_2</th><th scope=col>tenure_2</th><th scope=col>edad_2</th><th scope=col>jefe</th><th scope=col>ubigeo_2</th></tr>\n",
       "\t<tr><th scope=col>&lt;chr&gt;</th><th scope=col>&lt;chr&gt;</th><th scope=col>&lt;chr&gt;</th><th scope=col>&lt;chr&gt;</th><th scope=col>&lt;chr&gt;</th><th scope=col>&lt;chr&gt;</th><th scope=col>&lt;dbl+lbl&gt;</th><th scope=col>&lt;dbl+lbl&gt;</th><th scope=col>&lt;dbl&gt;</th><th scope=col>&lt;dbl+lbl&gt;</th><th scope=col>⋯</th><th scope=col>&lt;dbl&gt;</th><th scope=col>&lt;dbl&gt;</th><th scope=col>&lt;dbl&gt;</th><th scope=col>&lt;dbl+lbl&gt;</th><th scope=col>&lt;dbl&gt;</th><th scope=col>&lt;dbl&gt;</th><th scope=col>&lt;dbl&gt;</th><th scope=col>&lt;dbl&gt;</th><th scope=col>&lt;dbl+lbl&gt;</th><th scope=col>&lt;chr&gt;</th></tr>\n",
       "</thead>\n",
       "<tbody>\n",
       "\t<tr><td>2011</td><td>0061</td><td>077</td><td>11</td><td>010701</td><td>04</td><td>7</td><td>4</td><td>2.011006e+14</td><td>3</td><td>⋯</td><td> 6</td><td>5</td><td>11</td><td>1</td><td>2</td><td> 4</td><td>NA</td><td>361</td><td>0</td><td>010000</td></tr>\n",
       "\t<tr><td>2011</td><td>0110</td><td>112</td><td>11</td><td>010705</td><td>05</td><td>7</td><td>7</td><td>2.011011e+14</td><td>3</td><td>⋯</td><td> 6</td><td>5</td><td>11</td><td>1</td><td>3</td><td> 9</td><td> 9</td><td>400</td><td>0</td><td>010000</td></tr>\n",
       "\t<tr><td>2011</td><td>0090</td><td>076</td><td>11</td><td>010205</td><td>03</td><td>7</td><td>7</td><td>2.011009e+14</td><td>5</td><td>⋯</td><td> 6</td><td>5</td><td>11</td><td>1</td><td>5</td><td>25</td><td>36</td><td>484</td><td>0</td><td>010000</td></tr>\n",
       "\t<tr><td>2011</td><td>0118</td><td>080</td><td>11</td><td>010401</td><td>03</td><td>7</td><td>8</td><td>2.011012e+14</td><td>3</td><td>⋯</td><td> 6</td><td>5</td><td>11</td><td>1</td><td>6</td><td>36</td><td>NA</td><td>529</td><td>0</td><td>010000</td></tr>\n",
       "\t<tr><td>2011</td><td>3408</td><td>066</td><td>11</td><td>010402</td><td>03</td><td>7</td><td>7</td><td>2.011341e+14</td><td>3</td><td>⋯</td><td> 6</td><td>5</td><td>11</td><td>1</td><td>3</td><td> 9</td><td> 0</td><td>400</td><td>0</td><td>010000</td></tr>\n",
       "\t<tr><td>2011</td><td>0002</td><td>045</td><td>11</td><td>010101</td><td>03</td><td>4</td><td>4</td><td>2.011000e+14</td><td>3</td><td>⋯</td><td>11</td><td>2</td><td>13</td><td>4</td><td>0</td><td> 0</td><td>NA</td><td>361</td><td>0</td><td>010000</td></tr>\n",
       "</tbody>\n",
       "</table>\n"
      ],
      "text/latex": [
       "A tibble: 6 × 105\n",
       "\\begin{tabular}{lllllllllllllllllllll}\n",
       " year & conglome & vivienda & hogar & ubigeo & codperso & dominio & estrato & panel & p203 & ⋯ & acumulado & estud & educa & d\\_edu & exper & exper\\_2 & tenure\\_2 & edad\\_2 & jefe & ubigeo\\_2\\\\\n",
       " <chr> & <chr> & <chr> & <chr> & <chr> & <chr> & <dbl+lbl> & <dbl+lbl> & <dbl> & <dbl+lbl> & ⋯ & <dbl> & <dbl> & <dbl> & <dbl+lbl> & <dbl> & <dbl> & <dbl> & <dbl> & <dbl+lbl> & <chr>\\\\\n",
       "\\hline\n",
       "\t 2011 & 0061 & 077 & 11 & 010701 & 04 & 7 & 4 & 2.011006e+14 & 3 & ⋯ &  6 & 5 & 11 & 1 & 2 &  4 & NA & 361 & 0 & 010000\\\\\n",
       "\t 2011 & 0110 & 112 & 11 & 010705 & 05 & 7 & 7 & 2.011011e+14 & 3 & ⋯ &  6 & 5 & 11 & 1 & 3 &  9 &  9 & 400 & 0 & 010000\\\\\n",
       "\t 2011 & 0090 & 076 & 11 & 010205 & 03 & 7 & 7 & 2.011009e+14 & 5 & ⋯ &  6 & 5 & 11 & 1 & 5 & 25 & 36 & 484 & 0 & 010000\\\\\n",
       "\t 2011 & 0118 & 080 & 11 & 010401 & 03 & 7 & 8 & 2.011012e+14 & 3 & ⋯ &  6 & 5 & 11 & 1 & 6 & 36 & NA & 529 & 0 & 010000\\\\\n",
       "\t 2011 & 3408 & 066 & 11 & 010402 & 03 & 7 & 7 & 2.011341e+14 & 3 & ⋯ &  6 & 5 & 11 & 1 & 3 &  9 &  0 & 400 & 0 & 010000\\\\\n",
       "\t 2011 & 0002 & 045 & 11 & 010101 & 03 & 4 & 4 & 2.011000e+14 & 3 & ⋯ & 11 & 2 & 13 & 4 & 0 &  0 & NA & 361 & 0 & 010000\\\\\n",
       "\\end{tabular}\n"
      ],
      "text/markdown": [
       "\n",
       "A tibble: 6 × 105\n",
       "\n",
       "| year &lt;chr&gt; | conglome &lt;chr&gt; | vivienda &lt;chr&gt; | hogar &lt;chr&gt; | ubigeo &lt;chr&gt; | codperso &lt;chr&gt; | dominio &lt;dbl+lbl&gt; | estrato &lt;dbl+lbl&gt; | panel &lt;dbl&gt; | p203 &lt;dbl+lbl&gt; | ⋯ ⋯ | acumulado &lt;dbl&gt; | estud &lt;dbl&gt; | educa &lt;dbl&gt; | d_edu &lt;dbl+lbl&gt; | exper &lt;dbl&gt; | exper_2 &lt;dbl&gt; | tenure_2 &lt;dbl&gt; | edad_2 &lt;dbl&gt; | jefe &lt;dbl+lbl&gt; | ubigeo_2 &lt;chr&gt; |\n",
       "|---|---|---|---|---|---|---|---|---|---|---|---|---|---|---|---|---|---|---|---|---|\n",
       "| 2011 | 0061 | 077 | 11 | 010701 | 04 | 7 | 4 | 2.011006e+14 | 3 | ⋯ |  6 | 5 | 11 | 1 | 2 |  4 | NA | 361 | 0 | 010000 |\n",
       "| 2011 | 0110 | 112 | 11 | 010705 | 05 | 7 | 7 | 2.011011e+14 | 3 | ⋯ |  6 | 5 | 11 | 1 | 3 |  9 |  9 | 400 | 0 | 010000 |\n",
       "| 2011 | 0090 | 076 | 11 | 010205 | 03 | 7 | 7 | 2.011009e+14 | 5 | ⋯ |  6 | 5 | 11 | 1 | 5 | 25 | 36 | 484 | 0 | 010000 |\n",
       "| 2011 | 0118 | 080 | 11 | 010401 | 03 | 7 | 8 | 2.011012e+14 | 3 | ⋯ |  6 | 5 | 11 | 1 | 6 | 36 | NA | 529 | 0 | 010000 |\n",
       "| 2011 | 3408 | 066 | 11 | 010402 | 03 | 7 | 7 | 2.011341e+14 | 3 | ⋯ |  6 | 5 | 11 | 1 | 3 |  9 |  0 | 400 | 0 | 010000 |\n",
       "| 2011 | 0002 | 045 | 11 | 010101 | 03 | 4 | 4 | 2.011000e+14 | 3 | ⋯ | 11 | 2 | 13 | 4 | 0 |  0 | NA | 361 | 0 | 010000 |\n",
       "\n"
      ],
      "text/plain": [
       "  year conglome vivienda hogar ubigeo codperso dominio estrato panel       \n",
       "1 2011 0061     077      11    010701 04       7       4       2.011006e+14\n",
       "2 2011 0110     112      11    010705 05       7       7       2.011011e+14\n",
       "3 2011 0090     076      11    010205 03       7       7       2.011009e+14\n",
       "4 2011 0118     080      11    010401 03       7       8       2.011012e+14\n",
       "5 2011 3408     066      11    010402 03       7       7       2.011341e+14\n",
       "6 2011 0002     045      11    010101 03       4       4       2.011000e+14\n",
       "  p203 ⋯ acumulado estud educa d_edu exper exper_2 tenure_2 edad_2 jefe\n",
       "1 3    ⋯  6        5     11    1     2      4      NA       361    0   \n",
       "2 3    ⋯  6        5     11    1     3      9       9       400    0   \n",
       "3 5    ⋯  6        5     11    1     5     25      36       484    0   \n",
       "4 3    ⋯  6        5     11    1     6     36      NA       529    0   \n",
       "5 3    ⋯  6        5     11    1     3      9       0       400    0   \n",
       "6 3    ⋯ 11        2     13    4     0      0      NA       361    0   \n",
       "  ubigeo_2\n",
       "1 010000  \n",
       "2 010000  \n",
       "3 010000  \n",
       "4 010000  \n",
       "5 010000  \n",
       "6 010000  "
      ]
     },
     "metadata": {},
     "output_type": "display_data"
    }
   ],
   "source": [
    "head(enaho)"
   ]
  },
  {
   "cell_type": "code",
   "execution_count": 198,
   "id": "57c3fc42",
   "metadata": {},
   "outputs": [
    {
     "data": {
      "text/html": [
       "<table class=\"dataframe\">\n",
       "<caption>A look_for: 105 × 6</caption>\n",
       "<thead>\n",
       "\t<tr><th scope=col>pos</th><th scope=col>variable</th><th scope=col>label</th><th scope=col>col_type</th><th scope=col>levels</th><th scope=col>value_labels</th></tr>\n",
       "\t<tr><th scope=col>&lt;int&gt;</th><th scope=col>&lt;chr&gt;</th><th scope=col>&lt;chr&gt;</th><th scope=col>&lt;chr&gt;</th><th scope=col>&lt;named list&gt;</th><th scope=col>&lt;named list&gt;</th></tr>\n",
       "</thead>\n",
       "<tbody>\n",
       "\t<tr><td> 1</td><td>year      </td><td>NA                                                                                 </td><td>chr    </td><td>NULL</td><td>NULL</td></tr>\n",
       "\t<tr><td> 2</td><td>conglome  </td><td>conglomerado                                                                       </td><td>chr    </td><td>NULL</td><td>NULL</td></tr>\n",
       "\t<tr><td> 3</td><td>vivienda  </td><td>nÂ° de selecciÃ³n de la vivienda                                                   </td><td>chr    </td><td>NULL</td><td>NULL</td></tr>\n",
       "\t<tr><td> 4</td><td>hogar     </td><td>hogar                                                                              </td><td>chr    </td><td>NULL</td><td>NULL</td></tr>\n",
       "\t<tr><td> 5</td><td>ubigeo    </td><td>cÃ³digo de distrito (ubicaciÃ³n geogrÃ¡fica)                                       </td><td>chr    </td><td>NULL</td><td>NULL</td></tr>\n",
       "\t<tr><td> 6</td><td>codperso  </td><td>nÂ° de orden de la persona                                                         </td><td>chr    </td><td>NULL</td><td>NULL</td></tr>\n",
       "\t<tr><td> 7</td><td>dominio   </td><td>dominio                                                                            </td><td>dbl+lbl</td><td>NULL</td><td>1, 2, 3, 4, 5, 6, 7, 8</td></tr>\n",
       "\t<tr><td> 8</td><td>estrato   </td><td>estrato                                                                            </td><td>dbl+lbl</td><td>NULL</td><td>1, 2, 3, 4, 5, 6, 7, 8</td></tr>\n",
       "\t<tr><td> 9</td><td>panel     </td><td>cÃ³digo panel de persona                                                           </td><td>dbl    </td><td>NULL</td><td>NULL</td></tr>\n",
       "\t<tr><td>10</td><td>p203      </td><td>relaciÃ³n de parentesco con el jefe del hogar                                      </td><td>dbl+lbl</td><td>NULL</td><td>0, 1, 2, 3, 4, 5, 6, 7, 8, 9, 10</td></tr>\n",
       "\t<tr><td>11</td><td>p204      </td><td>Â¿es miembro del hogar?                                                            </td><td>dbl+lbl</td><td>NULL</td><td>1, 2</td></tr>\n",
       "\t<tr><td>12</td><td>sexo      </td><td>sexo                                                                               </td><td>dbl+lbl</td><td>NULL</td><td>0, 1</td></tr>\n",
       "\t<tr><td>13</td><td>edad      </td><td>Â¿qÃºe edad tiene en aÃ±os cumplidos? - aÃ±os                                      </td><td>dbl    </td><td>NULL</td><td>NULL</td></tr>\n",
       "\t<tr><td>14</td><td>civil     </td><td>Â¿cuÃ¡l es su estado civil o conyugal?                                             </td><td>dbl+lbl</td><td>NULL</td><td>1</td></tr>\n",
       "\t<tr><td>15</td><td>facpob07  </td><td>factor de expansiÃ³n anual proyecciones cpv-2007                                   </td><td>dbl    </td><td>NULL</td><td>NULL</td></tr>\n",
       "\t<tr><td>16</td><td>lengua    </td><td>idioma o lengua materna que aprendiÃ³ en su niÃ±ez                                 </td><td>dbl+lbl</td><td>NULL</td><td>1</td></tr>\n",
       "\t<tr><td>17</td><td>educ      </td><td>nivel educativo que aprobÃ³                                                        </td><td>dbl+lbl</td><td>NULL</td><td>1, 2, 3, 4, 5, 6, 7, 8, 9, 10, 11</td></tr>\n",
       "\t<tr><td>18</td><td>nivel_edu1</td><td>Ãltimo aÃ±o de estudios que aprobÃ³                                          </td><td>dbl    </td><td>NULL</td><td>NULL</td></tr>\n",
       "\t<tr><td>19</td><td>nivel_edu2</td><td>Ãltimo grado de estudios que aprobÃ³                                         </td><td>dbl    </td><td>NULL</td><td>NULL</td></tr>\n",
       "\t<tr><td>20</td><td>labor     </td><td>Â¿cuÃ¡l es la ocupaciÃ³n principal que desempeÃ±o?                                 </td><td>dbl+lbl</td><td>NULL</td><td>1, 2, 3, 4, 5, 6, 7, 8, 9</td></tr>\n",
       "\t<tr><td>21</td><td>sector    </td><td>Â¿ a quÃ© se dedica el negocio, organismo o empresa en la que trabajo en su ocupac </td><td>dbl+lbl</td><td>NULL</td><td>1, 2, 3, 4, 5, 6, 7, 8</td></tr>\n",
       "\t<tr><td>22</td><td>p507      </td><td>ud., se desempeÃ±o en su ocupaciÃ³n principal o negocio como:                      </td><td>dbl+lbl</td><td>NULL</td><td>1, 2, 3, 4, 5, 6, 7</td></tr>\n",
       "\t<tr><td>23</td><td>contrato  </td><td>bajo que tipo de contrato                                                          </td><td>dbl+lbl</td><td>NULL</td><td>1, 2, 3, 4, 5, 6, 7, 8</td></tr>\n",
       "\t<tr><td>24</td><td>empresa   </td><td>nÂ° de personas que laboraron en su empresa                                        </td><td>dbl+lbl</td><td>NULL</td><td>1, 2, 3, 4</td></tr>\n",
       "\t<tr><td>25</td><td>tenure    </td><td>(aÃ±os) Â¿cuÃ¡nto tiempo trabaja ud., en esta ocupaciÃ³n principal                 </td><td>dbl    </td><td>NULL</td><td>NULL</td></tr>\n",
       "\t<tr><td>26</td><td>informal  </td><td>el sistema de pensiones al cual ud., estÃ¡ afiliado es: no estÃ¡ afiliado          </td><td>dbl+lbl</td><td>NULL</td><td>0, 1</td></tr>\n",
       "\t<tr><td>27</td><td>d544t     </td><td>(deflactado, anualizado) en los Ãºltimos 12 meses Â¿ recibiÃ³ en total ( monto tota</td><td>dbl    </td><td>NULL</td><td>NULL</td></tr>\n",
       "\t<tr><td>28</td><td>d556t1    </td><td>(deflactado, anualizado) los Ãºltimos 6 meses, Â¿ recibiÃ³ ud. ingresos por el tota</td><td>dbl    </td><td>NULL</td><td>NULL</td></tr>\n",
       "\t<tr><td>29</td><td>d556t2    </td><td>(deflactado, anualizado) los Ãºltimos 6 meses, Â¿ recibiÃ³ ud. ingresos por el tota</td><td>dbl    </td><td>NULL</td><td>NULL</td></tr>\n",
       "\t<tr><td>30</td><td>d557t     </td><td>(deflactado, anualizado) los Ãºltimos 12 meses el monto total por rentas de la pr  </td><td>dbl    </td><td>NULL</td><td>NULL</td></tr>\n",
       "\t<tr><td>⋮</td><td>⋮</td><td>⋮</td><td>⋮</td><td>⋮</td><td>⋮</td></tr>\n",
       "\t<tr><td> 76</td><td>alfa7       </td><td>(max) alfap7                                 </td><td>dbl    </td><td>NULL</td><td>NULL</td></tr>\n",
       "\t<tr><td> 77</td><td>tipo_hogar  </td><td>NA                                           </td><td>dbl+lbl</td><td>NULL</td><td>1, 2, 3, 4, 5, 6, 7, 8, 9, 10, 11, 12, 13, 14, 15, 16</td></tr>\n",
       "\t<tr><td> 78</td><td>monoparental</td><td>NA                                           </td><td>dbl    </td><td>NULL</td><td>NULL</td></tr>\n",
       "\t<tr><td> 79</td><td>i00         </td><td>NA                                           </td><td>dbl    </td><td>NULL</td><td>NULL</td></tr>\n",
       "\t<tr><td> 80</td><td>i01         </td><td>NA                                           </td><td>dbl    </td><td>NULL</td><td>NULL</td></tr>\n",
       "\t<tr><td> 81</td><td>i02         </td><td>NA                                           </td><td>dbl    </td><td>NULL</td><td>NULL</td></tr>\n",
       "\t<tr><td> 82</td><td>i03         </td><td>NA                                           </td><td>dbl    </td><td>NULL</td><td>NULL</td></tr>\n",
       "\t<tr><td> 83</td><td>i04         </td><td>NA                                           </td><td>dbl    </td><td>NULL</td><td>NULL</td></tr>\n",
       "\t<tr><td> 84</td><td>i05         </td><td>NA                                           </td><td>dbl    </td><td>NULL</td><td>NULL</td></tr>\n",
       "\t<tr><td> 85</td><td>i06         </td><td>NA                                           </td><td>dbl    </td><td>NULL</td><td>NULL</td></tr>\n",
       "\t<tr><td> 86</td><td>i07         </td><td>NA                                           </td><td>dbl    </td><td>NULL</td><td>NULL</td></tr>\n",
       "\t<tr><td> 87</td><td>i08         </td><td>NA                                           </td><td>dbl    </td><td>NULL</td><td>NULL</td></tr>\n",
       "\t<tr><td> 88</td><td>ingreso     </td><td>NA                                           </td><td>dbl    </td><td>NULL</td><td>NULL</td></tr>\n",
       "\t<tr><td> 89</td><td>ingreso_r   </td><td>NA                                           </td><td>dbl    </td><td>NULL</td><td>NULL</td></tr>\n",
       "\t<tr><td> 90</td><td>horas       </td><td>NA                                           </td><td>dbl    </td><td>NULL</td><td>NULL</td></tr>\n",
       "\t<tr><td> 91</td><td>salario     </td><td>NA                                           </td><td>dbl    </td><td>NULL</td><td>NULL</td></tr>\n",
       "\t<tr><td> 92</td><td>l_salario   </td><td>NA                                           </td><td>dbl    </td><td>NULL</td><td>NULL</td></tr>\n",
       "\t<tr><td> 93</td><td>n_labor     </td><td>NA                                           </td><td>dbl    </td><td>NULL</td><td>NULL</td></tr>\n",
       "\t<tr><td> 94</td><td>ing_n_labor </td><td>NA                                           </td><td>dbl    </td><td>NULL</td><td>NULL</td></tr>\n",
       "\t<tr><td> 95</td><td>l_n_labor   </td><td>NA                                           </td><td>dbl    </td><td>NULL</td><td>NULL</td></tr>\n",
       "\t<tr><td> 96</td><td>acumulado   </td><td>RECODE of educ (nivel educativo que aprobÃ³) </td><td>dbl    </td><td>NULL</td><td>NULL</td></tr>\n",
       "\t<tr><td> 97</td><td>estud       </td><td>NA                                           </td><td>dbl    </td><td>NULL</td><td>NULL</td></tr>\n",
       "\t<tr><td> 98</td><td>educa       </td><td>NA                                           </td><td>dbl    </td><td>NULL</td><td>NULL</td></tr>\n",
       "\t<tr><td> 99</td><td>d_edu       </td><td>RECODE of educ (nivel educativo que aprobÃ³) </td><td>dbl+lbl</td><td>NULL</td><td>1, 2, 3, 4, 5, 6</td></tr>\n",
       "\t<tr><td>100</td><td>exper       </td><td>NA                                           </td><td>dbl    </td><td>NULL</td><td>NULL</td></tr>\n",
       "\t<tr><td>101</td><td>exper_2     </td><td>NA                                           </td><td>dbl    </td><td>NULL</td><td>NULL</td></tr>\n",
       "\t<tr><td>102</td><td>tenure_2    </td><td>NA                                           </td><td>dbl    </td><td>NULL</td><td>NULL</td></tr>\n",
       "\t<tr><td>103</td><td>edad_2      </td><td>NA                                           </td><td>dbl    </td><td>NULL</td><td>NULL</td></tr>\n",
       "\t<tr><td>104</td><td>jefe        </td><td>relaciÃ³n de parentesco con el jefe del hogar</td><td>dbl+lbl</td><td>NULL</td><td>0, 1</td></tr>\n",
       "\t<tr><td>105</td><td>ubigeo_2    </td><td>NA                                           </td><td>chr    </td><td>NULL</td><td>NULL</td></tr>\n",
       "</tbody>\n",
       "</table>\n"
      ],
      "text/latex": [
       "A look\\_for: 105 × 6\n",
       "\\begin{tabular}{llllll}\n",
       " pos & variable & label & col\\_type & levels & value\\_labels\\\\\n",
       " <int> & <chr> & <chr> & <chr> & <named list> & <named list>\\\\\n",
       "\\hline\n",
       "\t  1 & year       & NA                                                                                  & chr     & NULL & NULL\\\\\n",
       "\t  2 & conglome   & conglomerado                                                                        & chr     & NULL & NULL\\\\\n",
       "\t  3 & vivienda   & nÂ° de selecciÃ³n de la vivienda                                                    & chr     & NULL & NULL\\\\\n",
       "\t  4 & hogar      & hogar                                                                               & chr     & NULL & NULL\\\\\n",
       "\t  5 & ubigeo     & cÃ³digo de distrito (ubicaciÃ³n geogrÃ¡fica)                                        & chr     & NULL & NULL\\\\\n",
       "\t  6 & codperso   & nÂ° de orden de la persona                                                          & chr     & NULL & NULL\\\\\n",
       "\t  7 & dominio    & dominio                                                                             & dbl+lbl & NULL & 1, 2, 3, 4, 5, 6, 7, 8\\\\\n",
       "\t  8 & estrato    & estrato                                                                             & dbl+lbl & NULL & 1, 2, 3, 4, 5, 6, 7, 8\\\\\n",
       "\t  9 & panel      & cÃ³digo panel de persona                                                            & dbl     & NULL & NULL\\\\\n",
       "\t 10 & p203       & relaciÃ³n de parentesco con el jefe del hogar                                       & dbl+lbl & NULL & 0, 1, 2, 3, 4, 5, 6, 7, 8, 9, 10\\\\\n",
       "\t 11 & p204       & Â¿es miembro del hogar?                                                             & dbl+lbl & NULL & 1, 2\\\\\n",
       "\t 12 & sexo       & sexo                                                                                & dbl+lbl & NULL & 0, 1\\\\\n",
       "\t 13 & edad       & Â¿qÃºe edad tiene en aÃ±os cumplidos? - aÃ±os                                       & dbl     & NULL & NULL\\\\\n",
       "\t 14 & civil      & Â¿cuÃ¡l es su estado civil o conyugal?                                              & dbl+lbl & NULL & 1\\\\\n",
       "\t 15 & facpob07   & factor de expansiÃ³n anual proyecciones cpv-2007                                    & dbl     & NULL & NULL\\\\\n",
       "\t 16 & lengua     & idioma o lengua materna que aprendiÃ³ en su niÃ±ez                                  & dbl+lbl & NULL & 1\\\\\n",
       "\t 17 & educ       & nivel educativo que aprobÃ³                                                         & dbl+lbl & NULL & 1, 2, 3, 4, 5, 6, 7, 8, 9, 10, 11\\\\\n",
       "\t 18 & nivel\\_edu1 & Ãltimo aÃ±o de estudios que aprobÃ³                                           & dbl     & NULL & NULL\\\\\n",
       "\t 19 & nivel\\_edu2 & Ãltimo grado de estudios que aprobÃ³                                          & dbl     & NULL & NULL\\\\\n",
       "\t 20 & labor      & Â¿cuÃ¡l es la ocupaciÃ³n principal que desempeÃ±o?                                  & dbl+lbl & NULL & 1, 2, 3, 4, 5, 6, 7, 8, 9\\\\\n",
       "\t 21 & sector     & Â¿ a quÃ© se dedica el negocio, organismo o empresa en la que trabajo en su ocupac  & dbl+lbl & NULL & 1, 2, 3, 4, 5, 6, 7, 8\\\\\n",
       "\t 22 & p507       & ud., se desempeÃ±o en su ocupaciÃ³n principal o negocio como:                       & dbl+lbl & NULL & 1, 2, 3, 4, 5, 6, 7\\\\\n",
       "\t 23 & contrato   & bajo que tipo de contrato                                                           & dbl+lbl & NULL & 1, 2, 3, 4, 5, 6, 7, 8\\\\\n",
       "\t 24 & empresa    & nÂ° de personas que laboraron en su empresa                                         & dbl+lbl & NULL & 1, 2, 3, 4\\\\\n",
       "\t 25 & tenure     & (aÃ±os) Â¿cuÃ¡nto tiempo trabaja ud., en esta ocupaciÃ³n principal                  & dbl     & NULL & NULL\\\\\n",
       "\t 26 & informal   & el sistema de pensiones al cual ud., estÃ¡ afiliado es: no estÃ¡ afiliado           & dbl+lbl & NULL & 0, 1\\\\\n",
       "\t 27 & d544t      & (deflactado, anualizado) en los Ãºltimos 12 meses Â¿ recibiÃ³ en total ( monto tota & dbl     & NULL & NULL\\\\\n",
       "\t 28 & d556t1     & (deflactado, anualizado) los Ãºltimos 6 meses, Â¿ recibiÃ³ ud. ingresos por el tota & dbl     & NULL & NULL\\\\\n",
       "\t 29 & d556t2     & (deflactado, anualizado) los Ãºltimos 6 meses, Â¿ recibiÃ³ ud. ingresos por el tota & dbl     & NULL & NULL\\\\\n",
       "\t 30 & d557t      & (deflactado, anualizado) los Ãºltimos 12 meses el monto total por rentas de la pr   & dbl     & NULL & NULL\\\\\n",
       "\t ⋮ & ⋮ & ⋮ & ⋮ & ⋮ & ⋮\\\\\n",
       "\t  76 & alfa7        & (max) alfap7                                  & dbl     & NULL & NULL\\\\\n",
       "\t  77 & tipo\\_hogar   & NA                                            & dbl+lbl & NULL & 1, 2, 3, 4, 5, 6, 7, 8, 9, 10, 11, 12, 13, 14, 15, 16\\\\\n",
       "\t  78 & monoparental & NA                                            & dbl     & NULL & NULL\\\\\n",
       "\t  79 & i00          & NA                                            & dbl     & NULL & NULL\\\\\n",
       "\t  80 & i01          & NA                                            & dbl     & NULL & NULL\\\\\n",
       "\t  81 & i02          & NA                                            & dbl     & NULL & NULL\\\\\n",
       "\t  82 & i03          & NA                                            & dbl     & NULL & NULL\\\\\n",
       "\t  83 & i04          & NA                                            & dbl     & NULL & NULL\\\\\n",
       "\t  84 & i05          & NA                                            & dbl     & NULL & NULL\\\\\n",
       "\t  85 & i06          & NA                                            & dbl     & NULL & NULL\\\\\n",
       "\t  86 & i07          & NA                                            & dbl     & NULL & NULL\\\\\n",
       "\t  87 & i08          & NA                                            & dbl     & NULL & NULL\\\\\n",
       "\t  88 & ingreso      & NA                                            & dbl     & NULL & NULL\\\\\n",
       "\t  89 & ingreso\\_r    & NA                                            & dbl     & NULL & NULL\\\\\n",
       "\t  90 & horas        & NA                                            & dbl     & NULL & NULL\\\\\n",
       "\t  91 & salario      & NA                                            & dbl     & NULL & NULL\\\\\n",
       "\t  92 & l\\_salario    & NA                                            & dbl     & NULL & NULL\\\\\n",
       "\t  93 & n\\_labor      & NA                                            & dbl     & NULL & NULL\\\\\n",
       "\t  94 & ing\\_n\\_labor  & NA                                            & dbl     & NULL & NULL\\\\\n",
       "\t  95 & l\\_n\\_labor    & NA                                            & dbl     & NULL & NULL\\\\\n",
       "\t  96 & acumulado    & RECODE of educ (nivel educativo que aprobÃ³)  & dbl     & NULL & NULL\\\\\n",
       "\t  97 & estud        & NA                                            & dbl     & NULL & NULL\\\\\n",
       "\t  98 & educa        & NA                                            & dbl     & NULL & NULL\\\\\n",
       "\t  99 & d\\_edu        & RECODE of educ (nivel educativo que aprobÃ³)  & dbl+lbl & NULL & 1, 2, 3, 4, 5, 6\\\\\n",
       "\t 100 & exper        & NA                                            & dbl     & NULL & NULL\\\\\n",
       "\t 101 & exper\\_2      & NA                                            & dbl     & NULL & NULL\\\\\n",
       "\t 102 & tenure\\_2     & NA                                            & dbl     & NULL & NULL\\\\\n",
       "\t 103 & edad\\_2       & NA                                            & dbl     & NULL & NULL\\\\\n",
       "\t 104 & jefe         & relaciÃ³n de parentesco con el jefe del hogar & dbl+lbl & NULL & 0, 1\\\\\n",
       "\t 105 & ubigeo\\_2     & NA                                            & chr     & NULL & NULL\\\\\n",
       "\\end{tabular}\n"
      ],
      "text/markdown": [
       "\n",
       "A look_for: 105 × 6\n",
       "\n",
       "| pos &lt;int&gt; | variable &lt;chr&gt; | label &lt;chr&gt; | col_type &lt;chr&gt; | levels &lt;named list&gt; | value_labels &lt;named list&gt; |\n",
       "|---|---|---|---|---|---|\n",
       "|  1 | year       | NA                                                                                  | chr     | NULL | NULL |\n",
       "|  2 | conglome   | conglomerado                                                                        | chr     | NULL | NULL |\n",
       "|  3 | vivienda   | nÂ° de selecciÃ³n de la vivienda                                                    | chr     | NULL | NULL |\n",
       "|  4 | hogar      | hogar                                                                               | chr     | NULL | NULL |\n",
       "|  5 | ubigeo     | cÃ³digo de distrito (ubicaciÃ³n geogrÃ¡fica)                                        | chr     | NULL | NULL |\n",
       "|  6 | codperso   | nÂ° de orden de la persona                                                          | chr     | NULL | NULL |\n",
       "|  7 | dominio    | dominio                                                                             | dbl+lbl | NULL | 1, 2, 3, 4, 5, 6, 7, 8 |\n",
       "|  8 | estrato    | estrato                                                                             | dbl+lbl | NULL | 1, 2, 3, 4, 5, 6, 7, 8 |\n",
       "|  9 | panel      | cÃ³digo panel de persona                                                            | dbl     | NULL | NULL |\n",
       "| 10 | p203       | relaciÃ³n de parentesco con el jefe del hogar                                       | dbl+lbl | NULL | 0, 1, 2, 3, 4, 5, 6, 7, 8, 9, 10 |\n",
       "| 11 | p204       | Â¿es miembro del hogar?                                                             | dbl+lbl | NULL | 1, 2 |\n",
       "| 12 | sexo       | sexo                                                                                | dbl+lbl | NULL | 0, 1 |\n",
       "| 13 | edad       | Â¿qÃºe edad tiene en aÃ±os cumplidos? - aÃ±os                                       | dbl     | NULL | NULL |\n",
       "| 14 | civil      | Â¿cuÃ¡l es su estado civil o conyugal?                                              | dbl+lbl | NULL | 1 |\n",
       "| 15 | facpob07   | factor de expansiÃ³n anual proyecciones cpv-2007                                    | dbl     | NULL | NULL |\n",
       "| 16 | lengua     | idioma o lengua materna que aprendiÃ³ en su niÃ±ez                                  | dbl+lbl | NULL | 1 |\n",
       "| 17 | educ       | nivel educativo que aprobÃ³                                                         | dbl+lbl | NULL | 1, 2, 3, 4, 5, 6, 7, 8, 9, 10, 11 |\n",
       "| 18 | nivel_edu1 | Ãltimo aÃ±o de estudios que aprobÃ³                                           | dbl     | NULL | NULL |\n",
       "| 19 | nivel_edu2 | Ãltimo grado de estudios que aprobÃ³                                          | dbl     | NULL | NULL |\n",
       "| 20 | labor      | Â¿cuÃ¡l es la ocupaciÃ³n principal que desempeÃ±o?                                  | dbl+lbl | NULL | 1, 2, 3, 4, 5, 6, 7, 8, 9 |\n",
       "| 21 | sector     | Â¿ a quÃ© se dedica el negocio, organismo o empresa en la que trabajo en su ocupac  | dbl+lbl | NULL | 1, 2, 3, 4, 5, 6, 7, 8 |\n",
       "| 22 | p507       | ud., se desempeÃ±o en su ocupaciÃ³n principal o negocio como:                       | dbl+lbl | NULL | 1, 2, 3, 4, 5, 6, 7 |\n",
       "| 23 | contrato   | bajo que tipo de contrato                                                           | dbl+lbl | NULL | 1, 2, 3, 4, 5, 6, 7, 8 |\n",
       "| 24 | empresa    | nÂ° de personas que laboraron en su empresa                                         | dbl+lbl | NULL | 1, 2, 3, 4 |\n",
       "| 25 | tenure     | (aÃ±os) Â¿cuÃ¡nto tiempo trabaja ud., en esta ocupaciÃ³n principal                  | dbl     | NULL | NULL |\n",
       "| 26 | informal   | el sistema de pensiones al cual ud., estÃ¡ afiliado es: no estÃ¡ afiliado           | dbl+lbl | NULL | 0, 1 |\n",
       "| 27 | d544t      | (deflactado, anualizado) en los Ãºltimos 12 meses Â¿ recibiÃ³ en total ( monto tota | dbl     | NULL | NULL |\n",
       "| 28 | d556t1     | (deflactado, anualizado) los Ãºltimos 6 meses, Â¿ recibiÃ³ ud. ingresos por el tota | dbl     | NULL | NULL |\n",
       "| 29 | d556t2     | (deflactado, anualizado) los Ãºltimos 6 meses, Â¿ recibiÃ³ ud. ingresos por el tota | dbl     | NULL | NULL |\n",
       "| 30 | d557t      | (deflactado, anualizado) los Ãºltimos 12 meses el monto total por rentas de la pr   | dbl     | NULL | NULL |\n",
       "| ⋮ | ⋮ | ⋮ | ⋮ | ⋮ | ⋮ |\n",
       "|  76 | alfa7        | (max) alfap7                                  | dbl     | NULL | NULL |\n",
       "|  77 | tipo_hogar   | NA                                            | dbl+lbl | NULL | 1, 2, 3, 4, 5, 6, 7, 8, 9, 10, 11, 12, 13, 14, 15, 16 |\n",
       "|  78 | monoparental | NA                                            | dbl     | NULL | NULL |\n",
       "|  79 | i00          | NA                                            | dbl     | NULL | NULL |\n",
       "|  80 | i01          | NA                                            | dbl     | NULL | NULL |\n",
       "|  81 | i02          | NA                                            | dbl     | NULL | NULL |\n",
       "|  82 | i03          | NA                                            | dbl     | NULL | NULL |\n",
       "|  83 | i04          | NA                                            | dbl     | NULL | NULL |\n",
       "|  84 | i05          | NA                                            | dbl     | NULL | NULL |\n",
       "|  85 | i06          | NA                                            | dbl     | NULL | NULL |\n",
       "|  86 | i07          | NA                                            | dbl     | NULL | NULL |\n",
       "|  87 | i08          | NA                                            | dbl     | NULL | NULL |\n",
       "|  88 | ingreso      | NA                                            | dbl     | NULL | NULL |\n",
       "|  89 | ingreso_r    | NA                                            | dbl     | NULL | NULL |\n",
       "|  90 | horas        | NA                                            | dbl     | NULL | NULL |\n",
       "|  91 | salario      | NA                                            | dbl     | NULL | NULL |\n",
       "|  92 | l_salario    | NA                                            | dbl     | NULL | NULL |\n",
       "|  93 | n_labor      | NA                                            | dbl     | NULL | NULL |\n",
       "|  94 | ing_n_labor  | NA                                            | dbl     | NULL | NULL |\n",
       "|  95 | l_n_labor    | NA                                            | dbl     | NULL | NULL |\n",
       "|  96 | acumulado    | RECODE of educ (nivel educativo que aprobÃ³)  | dbl     | NULL | NULL |\n",
       "|  97 | estud        | NA                                            | dbl     | NULL | NULL |\n",
       "|  98 | educa        | NA                                            | dbl     | NULL | NULL |\n",
       "|  99 | d_edu        | RECODE of educ (nivel educativo que aprobÃ³)  | dbl+lbl | NULL | 1, 2, 3, 4, 5, 6 |\n",
       "| 100 | exper        | NA                                            | dbl     | NULL | NULL |\n",
       "| 101 | exper_2      | NA                                            | dbl     | NULL | NULL |\n",
       "| 102 | tenure_2     | NA                                            | dbl     | NULL | NULL |\n",
       "| 103 | edad_2       | NA                                            | dbl     | NULL | NULL |\n",
       "| 104 | jefe         | relaciÃ³n de parentesco con el jefe del hogar | dbl+lbl | NULL | 0, 1 |\n",
       "| 105 | ubigeo_2     | NA                                            | chr     | NULL | NULL |\n",
       "\n"
      ],
      "text/plain": [
       "    pos variable    \n",
       "1    1  year        \n",
       "2    2  conglome    \n",
       "3    3  vivienda    \n",
       "4    4  hogar       \n",
       "5    5  ubigeo      \n",
       "6    6  codperso    \n",
       "7    7  dominio     \n",
       "8    8  estrato     \n",
       "9    9  panel       \n",
       "10  10  p203        \n",
       "11  11  p204        \n",
       "12  12  sexo        \n",
       "13  13  edad        \n",
       "14  14  civil       \n",
       "15  15  facpob07    \n",
       "16  16  lengua      \n",
       "17  17  educ        \n",
       "18  18  nivel_edu1  \n",
       "19  19  nivel_edu2  \n",
       "20  20  labor       \n",
       "21  21  sector      \n",
       "22  22  p507        \n",
       "23  23  contrato    \n",
       "24  24  empresa     \n",
       "25  25  tenure      \n",
       "26  26  informal    \n",
       "27  27  d544t       \n",
       "28  28  d556t1      \n",
       "29  29  d556t2      \n",
       "30  30  d557t       \n",
       "⋮   ⋮   ⋮           \n",
       "76   76 alfa7       \n",
       "77   77 tipo_hogar  \n",
       "78   78 monoparental\n",
       "79   79 i00         \n",
       "80   80 i01         \n",
       "81   81 i02         \n",
       "82   82 i03         \n",
       "83   83 i04         \n",
       "84   84 i05         \n",
       "85   85 i06         \n",
       "86   86 i07         \n",
       "87   87 i08         \n",
       "88   88 ingreso     \n",
       "89   89 ingreso_r   \n",
       "90   90 horas       \n",
       "91   91 salario     \n",
       "92   92 l_salario   \n",
       "93   93 n_labor     \n",
       "94   94 ing_n_labor \n",
       "95   95 l_n_labor   \n",
       "96   96 acumulado   \n",
       "97   97 estud       \n",
       "98   98 educa       \n",
       "99   99 d_edu       \n",
       "100 100 exper       \n",
       "101 101 exper_2     \n",
       "102 102 tenure_2    \n",
       "103 103 edad_2      \n",
       "104 104 jefe        \n",
       "105 105 ubigeo_2    \n",
       "    label                                                                              \n",
       "1   NA                                                                                 \n",
       "2   conglomerado                                                                       \n",
       "3   nÂ° de selecciÃ³n de la vivienda                                                   \n",
       "4   hogar                                                                              \n",
       "5   cÃ³digo de distrito (ubicaciÃ³n geogrÃ¡fica)                                       \n",
       "6   nÂ° de orden de la persona                                                         \n",
       "7   dominio                                                                            \n",
       "8   estrato                                                                            \n",
       "9   cÃ³digo panel de persona                                                           \n",
       "10  relaciÃ³n de parentesco con el jefe del hogar                                      \n",
       "11  Â¿es miembro del hogar?                                                            \n",
       "12  sexo                                                                               \n",
       "13  Â¿qÃºe edad tiene en aÃ±os cumplidos? - aÃ±os                                      \n",
       "14  Â¿cuÃ¡l es su estado civil o conyugal?                                             \n",
       "15  factor de expansiÃ³n anual proyecciones cpv-2007                                   \n",
       "16  idioma o lengua materna que aprendiÃ³ en su niÃ±ez                                 \n",
       "17  nivel educativo que aprobÃ³                                                        \n",
       "18  Ã\\u009altimo aÃ±o de estudios que aprobÃ³                                          \n",
       "19  Ã\\u009altimo grado de estudios que aprobÃ³                                         \n",
       "20  Â¿cuÃ¡l es la ocupaciÃ³n principal que desempeÃ±o?                                 \n",
       "21  Â¿ a quÃ© se dedica el negocio, organismo o empresa en la que trabajo en su ocupac \n",
       "22  ud., se desempeÃ±o en su ocupaciÃ³n principal o negocio como:                      \n",
       "23  bajo que tipo de contrato                                                          \n",
       "24  nÂ° de personas que laboraron en su empresa                                        \n",
       "25  (aÃ±os) Â¿cuÃ¡nto tiempo trabaja ud., en esta ocupaciÃ³n principal                 \n",
       "26  el sistema de pensiones al cual ud., estÃ¡ afiliado es: no estÃ¡ afiliado          \n",
       "27  (deflactado, anualizado) en los Ãºltimos 12 meses Â¿ recibiÃ³ en total ( monto tota\n",
       "28  (deflactado, anualizado) los Ãºltimos 6 meses, Â¿ recibiÃ³ ud. ingresos por el tota\n",
       "29  (deflactado, anualizado) los Ãºltimos 6 meses, Â¿ recibiÃ³ ud. ingresos por el tota\n",
       "30  (deflactado, anualizado) los Ãºltimos 12 meses el monto total por rentas de la pr  \n",
       "⋮   ⋮                                                                                  \n",
       "76  (max) alfap7                                                                       \n",
       "77  NA                                                                                 \n",
       "78  NA                                                                                 \n",
       "79  NA                                                                                 \n",
       "80  NA                                                                                 \n",
       "81  NA                                                                                 \n",
       "82  NA                                                                                 \n",
       "83  NA                                                                                 \n",
       "84  NA                                                                                 \n",
       "85  NA                                                                                 \n",
       "86  NA                                                                                 \n",
       "87  NA                                                                                 \n",
       "88  NA                                                                                 \n",
       "89  NA                                                                                 \n",
       "90  NA                                                                                 \n",
       "91  NA                                                                                 \n",
       "92  NA                                                                                 \n",
       "93  NA                                                                                 \n",
       "94  NA                                                                                 \n",
       "95  NA                                                                                 \n",
       "96  RECODE of educ (nivel educativo que aprobÃ³)                                       \n",
       "97  NA                                                                                 \n",
       "98  NA                                                                                 \n",
       "99  RECODE of educ (nivel educativo que aprobÃ³)                                       \n",
       "100 NA                                                                                 \n",
       "101 NA                                                                                 \n",
       "102 NA                                                                                 \n",
       "103 NA                                                                                 \n",
       "104 relaciÃ³n de parentesco con el jefe del hogar                                      \n",
       "105 NA                                                                                 \n",
       "    col_type levels value_labels                                         \n",
       "1   chr      NULL   NULL                                                 \n",
       "2   chr      NULL   NULL                                                 \n",
       "3   chr      NULL   NULL                                                 \n",
       "4   chr      NULL   NULL                                                 \n",
       "5   chr      NULL   NULL                                                 \n",
       "6   chr      NULL   NULL                                                 \n",
       "7   dbl+lbl  NULL   1, 2, 3, 4, 5, 6, 7, 8                               \n",
       "8   dbl+lbl  NULL   1, 2, 3, 4, 5, 6, 7, 8                               \n",
       "9   dbl      NULL   NULL                                                 \n",
       "10  dbl+lbl  NULL   0, 1, 2, 3, 4, 5, 6, 7, 8, 9, 10                     \n",
       "11  dbl+lbl  NULL   1, 2                                                 \n",
       "12  dbl+lbl  NULL   0, 1                                                 \n",
       "13  dbl      NULL   NULL                                                 \n",
       "14  dbl+lbl  NULL   1                                                    \n",
       "15  dbl      NULL   NULL                                                 \n",
       "16  dbl+lbl  NULL   1                                                    \n",
       "17  dbl+lbl  NULL   1, 2, 3, 4, 5, 6, 7, 8, 9, 10, 11                    \n",
       "18  dbl      NULL   NULL                                                 \n",
       "19  dbl      NULL   NULL                                                 \n",
       "20  dbl+lbl  NULL   1, 2, 3, 4, 5, 6, 7, 8, 9                            \n",
       "21  dbl+lbl  NULL   1, 2, 3, 4, 5, 6, 7, 8                               \n",
       "22  dbl+lbl  NULL   1, 2, 3, 4, 5, 6, 7                                  \n",
       "23  dbl+lbl  NULL   1, 2, 3, 4, 5, 6, 7, 8                               \n",
       "24  dbl+lbl  NULL   1, 2, 3, 4                                           \n",
       "25  dbl      NULL   NULL                                                 \n",
       "26  dbl+lbl  NULL   0, 1                                                 \n",
       "27  dbl      NULL   NULL                                                 \n",
       "28  dbl      NULL   NULL                                                 \n",
       "29  dbl      NULL   NULL                                                 \n",
       "30  dbl      NULL   NULL                                                 \n",
       "⋮   ⋮        ⋮      ⋮                                                    \n",
       "76  dbl      NULL   NULL                                                 \n",
       "77  dbl+lbl  NULL   1, 2, 3, 4, 5, 6, 7, 8, 9, 10, 11, 12, 13, 14, 15, 16\n",
       "78  dbl      NULL   NULL                                                 \n",
       "79  dbl      NULL   NULL                                                 \n",
       "80  dbl      NULL   NULL                                                 \n",
       "81  dbl      NULL   NULL                                                 \n",
       "82  dbl      NULL   NULL                                                 \n",
       "83  dbl      NULL   NULL                                                 \n",
       "84  dbl      NULL   NULL                                                 \n",
       "85  dbl      NULL   NULL                                                 \n",
       "86  dbl      NULL   NULL                                                 \n",
       "87  dbl      NULL   NULL                                                 \n",
       "88  dbl      NULL   NULL                                                 \n",
       "89  dbl      NULL   NULL                                                 \n",
       "90  dbl      NULL   NULL                                                 \n",
       "91  dbl      NULL   NULL                                                 \n",
       "92  dbl      NULL   NULL                                                 \n",
       "93  dbl      NULL   NULL                                                 \n",
       "94  dbl      NULL   NULL                                                 \n",
       "95  dbl      NULL   NULL                                                 \n",
       "96  dbl      NULL   NULL                                                 \n",
       "97  dbl      NULL   NULL                                                 \n",
       "98  dbl      NULL   NULL                                                 \n",
       "99  dbl+lbl  NULL   1, 2, 3, 4, 5, 6                                     \n",
       "100 dbl      NULL   NULL                                                 \n",
       "101 dbl      NULL   NULL                                                 \n",
       "102 dbl      NULL   NULL                                                 \n",
       "103 dbl      NULL   NULL                                                 \n",
       "104 dbl+lbl  NULL   0, 1                                                 \n",
       "105 chr      NULL   NULL                                                 "
      ]
     },
     "metadata": {},
     "output_type": "display_data"
    }
   ],
   "source": [
    "look_for(enaho)"
   ]
  },
  {
   "cell_type": "code",
   "execution_count": 209,
   "id": "9f54ab7b",
   "metadata": {},
   "outputs": [
    {
     "data": {
      "text/html": [
       "<table class=\"dataframe\">\n",
       "<caption>A tibble: 5 × 1</caption>\n",
       "<thead>\n",
       "\t<tr><th scope=col>empresa</th></tr>\n",
       "\t<tr><th scope=col>&lt;dbl+lbl&gt;</th></tr>\n",
       "</thead>\n",
       "<tbody>\n",
       "\t<tr><td>NA</td></tr>\n",
       "\t<tr><td> 1</td></tr>\n",
       "\t<tr><td> 4</td></tr>\n",
       "\t<tr><td> 2</td></tr>\n",
       "\t<tr><td> 3</td></tr>\n",
       "</tbody>\n",
       "</table>\n"
      ],
      "text/latex": [
       "A tibble: 5 × 1\n",
       "\\begin{tabular}{l}\n",
       " empresa\\\\\n",
       " <dbl+lbl>\\\\\n",
       "\\hline\n",
       "\t NA\\\\\n",
       "\t  1\\\\\n",
       "\t  4\\\\\n",
       "\t  2\\\\\n",
       "\t  3\\\\\n",
       "\\end{tabular}\n"
      ],
      "text/markdown": [
       "\n",
       "A tibble: 5 × 1\n",
       "\n",
       "| empresa &lt;dbl+lbl&gt; |\n",
       "|---|\n",
       "| NA |\n",
       "|  1 |\n",
       "|  4 |\n",
       "|  2 |\n",
       "|  3 |\n",
       "\n"
      ],
      "text/plain": [
       "  empresa\n",
       "1 NA     \n",
       "2  1     \n",
       "3  4     \n",
       "4  2     \n",
       "5  3     "
      ]
     },
     "metadata": {},
     "output_type": "display_data"
    }
   ],
   "source": [
    "unique(enaho[\"empresa\"])"
   ]
  },
  {
   "cell_type": "markdown",
   "id": "a96fd685",
   "metadata": {},
   "source": [
    "### Number of companies classification by number of workers hired\n",
    "Microbusinesses < 10 workers ;\n",
    "Small businesses (10-20 workers);\n",
    "Medium businesses (21-100 workers);\n",
    "Big Businesses (>100 workers)"
   ]
  },
  {
   "cell_type": "code",
   "execution_count": 51,
   "id": "d2fcb97d",
   "metadata": {},
   "outputs": [],
   "source": [
    "library(tidyverse)  # include ggplot2, dply, tidyr , readr more packages"
   ]
  },
  {
   "cell_type": "code",
   "execution_count": 215,
   "id": "a18798ef",
   "metadata": {},
   "outputs": [
    {
     "name": "stderr",
     "output_type": "stream",
     "text": [
      "Don't know how to automatically pick scale for object of type haven_labelled/vctrs_vctr/double. Defaulting to continuous.\n",
      "\n",
      "Warning message:\n",
      "\"Removed 5849 rows containing non-finite values (stat_count).\"\n"
     ]
    },
    {
     "data": {
      "image/png": "[encoded data removed]",
      "text/plain": [
       "plot without title"
      ]
     },
     "metadata": {
      "image/png": {
       "height": 420,
       "width": 420
      }
     },
     "output_type": "display_data"
    }
   ],
   "source": [
    "theme_set(theme_bw(20))\n",
    "\n",
    "enaho %>% filter(year == 2019) %>%\n",
    "    ggplot(aes(empresa)) + geom_bar() + labs(x = \"Clasificación de Empresa\", y = \" \")"
   ]
  },
  {
   "cell_type": "code",
   "execution_count": 155,
   "id": "25ae03e3",
   "metadata": {},
   "outputs": [
    {
     "name": "stderr",
     "output_type": "stream",
     "text": [
      "Don't know how to automatically pick scale for object of type haven_labelled/vctrs_vctr/double. Defaulting to continuous.\n",
      "\n",
      "Warning message:\n",
      "\"Removed 53518 rows containing non-finite values (stat_count).\"\n"
     ]
    },
    {
     "data": {
      "image/png": "[encoded data removed]",
      "text/plain": [
       "plot without title"
      ]
     },
     "metadata": {
      "image/png": {
       "height": 420,
       "width": 420
      }
     },
     "output_type": "display_data"
    }
   ],
   "source": [
    "theme_set(theme_bw(18))\n",
    "\n",
    "g <- ggplot(enaho, aes(y=empresa))\n",
    "    g + geom_bar(width=0.7) + labs(x = \"Clasificación de Empresa\", y = \" \")"
   ]
  },
  {
   "cell_type": "code",
   "execution_count": 217,
   "id": "0466ea32",
   "metadata": {},
   "outputs": [
    {
     "name": "stderr",
     "output_type": "stream",
     "text": [
      "Don't know how to automatically pick scale for object of type haven_labelled/vctrs_vctr/double. Defaulting to continuous.\n",
      "\n",
      "Warning message:\n",
      "\"Removed 53518 rows containing non-finite values (stat_count).\"\n",
      "Don't know how to automatically pick scale for object of type haven_labelled/vctrs_vctr/double. Defaulting to continuous.\n",
      "\n",
      "Warning message:\n",
      "\"Removed 53518 rows containing non-finite values (stat_count).\"\n"
     ]
    },
    {
     "data": {
      "image/png": "[encoded data removed]",
      "text/plain": [
       "plot without title"
      ]
     },
     "metadata": {
      "image/png": {
       "height": 420,
       "width": 420
      }
     },
     "output_type": "display_data"
    }
   ],
   "source": [
    "# Bar zise \n",
    "\n",
    "theme_set(theme_bw(20))\n",
    "\n",
    "g <- ggplot(enaho, aes(x = empresa))\n",
    "    g + geom_bar( width=0.5 , fill=\"steelblue\") + labs(x = \"Tipo de Empresa\", y = \" \", title = \"Cantidad de empresas según clasificación\") + \n",
    "    theme(axis.title = element_text(size = 15, color = \"blue\", face = \"italic\")) + \n",
    "    theme(text=element_text(size =12), plot.title = element_text(hjust = 0.5)) \n",
    "    ggsave(\"imagen1.png\", width = 10, height = 10, dpi = 200)\n"
   ]
  },
  {
   "cell_type": "code",
   "execution_count": null,
   "id": "d8804ef7",
   "metadata": {},
   "outputs": [],
   "source": []
  },
  {
   "cell_type": "code",
   "execution_count": null,
   "id": "5ee5e64e",
   "metadata": {},
   "outputs": [],
   "source": []
  },
  {
   "cell_type": "code",
   "execution_count": null,
   "id": "aef58e4c",
   "metadata": {},
   "outputs": [],
   "source": []
  },
  {
   "cell_type": "code",
   "execution_count": null,
   "id": "6c343749",
   "metadata": {},
   "outputs": [],
   "source": []
  },
  {
   "cell_type": "code",
   "execution_count": null,
   "id": "75325125",
   "metadata": {},
   "outputs": [],
   "source": []
  },
  {
   "cell_type": "code",
   "execution_count": null,
   "id": "704c6a3a",
   "metadata": {},
   "outputs": [],
   "source": []
  },
  {
   "cell_type": "code",
   "execution_count": null,
   "id": "044df88b",
   "metadata": {},
   "outputs": [],
   "source": []
  },
  {
   "cell_type": "code",
   "execution_count": null,
   "id": "57f05a77",
   "metadata": {},
   "outputs": [],
   "source": []
  },
  {
   "cell_type": "code",
   "execution_count": null,
   "id": "f0ae110a",
   "metadata": {},
   "outputs": [],
   "source": []
  },
  {
   "cell_type": "code",
   "execution_count": null,
   "id": "99b3fe48",
   "metadata": {},
   "outputs": [],
   "source": []
  },
  {
   "cell_type": "code",
   "execution_count": null,
   "id": "641b8175",
   "metadata": {},
   "outputs": [],
   "source": []
  },
  {
   "cell_type": "code",
   "execution_count": null,
   "id": "11f2b060",
   "metadata": {},
   "outputs": [],
   "source": []
  },
  {
   "cell_type": "code",
   "execution_count": null,
   "id": "7a01dd28",
   "metadata": {},
   "outputs": [],
   "source": []
  },
  {
   "cell_type": "code",
   "execution_count": null,
   "id": "db6bb29f",
   "metadata": {},
   "outputs": [],
   "source": []
  },
  {
   "cell_type": "code",
   "execution_count": null,
   "id": "a94112d3",
   "metadata": {},
   "outputs": [],
   "source": []
  },
  {
   "cell_type": "code",
   "execution_count": null,
   "id": "5ed041c6",
   "metadata": {},
   "outputs": [],
   "source": []
  },
  {
   "cell_type": "code",
   "execution_count": null,
   "id": "1e33456a",
   "metadata": {},
   "outputs": [],
   "source": []
  },
  {
   "cell_type": "code",
   "execution_count": null,
   "id": "b652f350",
   "metadata": {},
   "outputs": [],
   "source": []
  },
  {
   "cell_type": "markdown",
   "id": "a0215371",
   "metadata": {},
   "source": [
    "## References\n",
    "\n",
    "\n",
    "https://www.cedricscherer.com/2019/08/05/a-ggplot2-tutorial-for-beautiful-plotting-in-r/\n",
    "\n",
    "https://datanalytics.com/libro_r/elementos-de-un-grafico-en-ggplot2.html\n",
    "\n",
    "https://datavizpyr.com/add-percentage-label-on-bars-in-barplot-ggplot2/"
   ]
  }
 ],
 "metadata": {
  "kernelspec": {
   "display_name": "R",
   "language": "R",
   "name": "ir"
  },
  "language_info": {
   "codemirror_mode": "r",
   "file_extension": ".r",
   "mimetype": "text/x-r-source",
   "name": "R",
   "pygments_lexer": "r",
   "version": "4.2.0"
  }
 },
 "nbformat": 4,
 "nbformat_minor": 5
}
